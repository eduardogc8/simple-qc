{
 "cells": [
  {
   "cell_type": "markdown",
   "metadata": {},
   "source": [
    "## How to run the experiments"
   ]
  },
  {
   "cell_type": "markdown",
   "metadata": {},
   "source": [
    "Run the code blocs bellow in sequence. You can read the descriptions to understand it.\n",
    "\n",
    "\n",
    "The dependencies can be found in https://github.com/eduardogc8/simple-qc\n",
    "\n",
    "Before starting to run the experiments, change the variable ``path_wordembedding``, in the code block below, for the correct directory path. Make sure that the word embedding inside follow the template `wiki.multi.*.vec`."
   ]
  },
  {
   "cell_type": "code",
   "execution_count": 1,
   "metadata": {},
   "outputs": [
    {
     "name": "stderr",
     "output_type": "stream",
     "text": [
      "Using TensorFlow backend.\n"
     ]
    }
   ],
   "source": [
    "import nltk\n",
    "import numpy as np\n",
    "import pandas as pd\n",
    "from keras.preprocessing.sequence import pad_sequences\n",
    "from sklearn.feature_selection import SelectKBest, chi2\n",
    "from sklearn.preprocessing import OneHotEncoder\n",
    "from sklearn.preprocessing import normalize\n",
    "\n",
    "from benchmarking_methods import run_benchmark\n",
    "from building_classifiers import lstm_default, svm_linear, random_forest, cnn\n",
    "from download_word_embeddings import muse_embeddings_path, download_if_not_existing\n",
    "from loading_data import load_embedding, load_uiuc\n",
    "\n",
    "path_wordembedding = '/home/eduardo/word_embedding/'\n",
    "download_if_not_existing()\n",
    "from benchmarking_methods import run_benchmark_cv\n",
    "from feature_creation import create_feature\n",
    "from loading_data import load_disequa"
   ]
  },
  {
   "cell_type": "markdown",
   "metadata": {},
   "source": [
    "### Extract features"
   ]
  },
  {
   "cell_type": "markdown",
   "metadata": {},
   "source": [
    "The function *create_features* transform the questions in numerical vector to a classifier model.<br>It returns the output in the df_2 dataframe that is a parameter (*df_2.feature_type*, according to the *feature_type*).<br><br>\n",
    "**feature_type:** type of feature. (bow, tfidf, embedding, embedding_sum, vocab_index, pos_index, pos_hotencode, ner_index, ner_hotencode)<br> \n",
    "**df:** the dataframe used to fit the transformers models (df.questions).<br>\n",
    "**df_2:** dataframe wich the data will be transformed (df_2.questions).<br>\n",
    "**embedding:** embedding model for word embedding features type.<br>\n",
    "**max_features:** used in bag-of-words and TFIDF."
   ]
  },
  {
   "cell_type": "markdown",
   "metadata": {},
   "source": [
    "\n",
    "### Create classifier models"
   ]
  },
  {
   "cell_type": "markdown",
   "metadata": {},
   "source": [
    "The models are created through functions that return them. These functions will be used to create a new model in each experiment. Therefore, an instance of a model is created by the benchmark function and not explicitly in a code block.\n"
   ]
  },
  {
   "cell_type": "markdown",
   "metadata": {},
   "source": [
    "### UTILS"
   ]
  },
  {
   "cell_type": "markdown",
   "metadata": {},
   "source": [
    "\n",
    "\n",
    "#### Load UIUC dataset"
   ]
  },
  {
   "cell_type": "markdown",
   "metadata": {},
   "source": [
    "#### Load DISEQuA dataset"
   ]
  },
  {
   "cell_type": "markdown",
   "metadata": {},
   "source": [
    "## Benchmark UIUC - Normal"
   ]
  },
  {
   "cell_type": "markdown",
   "metadata": {},
   "source": [
    "**Normal:** it uses the default fixed split of UIUC between train dataset (at last 5500 instances) and test dataset (500 instances). Therefore, it does not use cross-validation."
   ]
  },
  {
   "cell_type": "markdown",
   "metadata": {},
   "source": [
    "When the *run_benchmark* function is executed, it will save each result in the *save* path.\n",
    "\n",
    "**model:** a dictionary with the classifier name and the function to create and return the model (not an instance of the model). <br> Example: *model = {'name': 'SVM', 'model': svm_linear}*<br>\n",
    "**X:** all the training set.<br>\n",
    "**y:** all the labels of the training set.<br>\n",
    "**x_test:** test set.<br>\n",
    "**y_test:** labels of the test set.<br>\n",
    "**sizes_train:** sizes of training set. For each size, an experiment is executed.<br>\n",
    "**runs:** number of time that each experiment is executed (used in models which has parameters with random values, like weights in an ANN).<br>\n",
    "**save:** csv path where the results will be saved.<br>\n",
    "**metric_average:** used in f1, recall and precision metrics<br>\n",
    "**onehot:** one-hot model to transform labels.<br>\n",
    "**out_dim:** the total of classes for ANN models.<br>\n",
    "**epochs:** epochs for ANN models.<br>\n",
    "**batch_size:** batch_size for ANN models.<br>\n",
    "**vocabulary_size:** vocabulary size (used in CNN model).\n"
   ]
  },
  {
   "cell_type": "markdown",
   "metadata": {},
   "source": [
    "\n",
    "## Benchmark UIUC and DISEQuA - Cross-validation"
   ]
  },
  {
   "cell_type": "markdown",
   "metadata": {},
   "source": [
    "**Cross-validation:** instead of uses default fixed splits, it uses the all the dataset with cross-validation with 10 folds."
   ]
  },
  {
   "cell_type": "markdown",
   "metadata": {},
   "source": [
    "When the *run_benchmark* function is executed, it will save each result in the *save* path.\n",
    "\n",
    "**model:** a dictionary with the classifier name and the function to create and return the model (not an instance of the model). <br> Example: *model = {'name': 'SVM', 'model': svm_linear}*<br>\n",
    "**X:** Input features.<br>\n",
    "**y:** Input labels.<br>\n",
    "**sizes_train:** sizes of training set. For each size, an experiment is executed.<br>\n",
    "**folds:** Amount of folds for cross-validations.<br>\n",
    "**save:** csv path where the results will be saved.<br>\n",
    "**metric_average:** used in f1, recall and precision metrics<br>\n",
    "**onehot:** one-hot model to transform labels.<br>\n",
    "**epochs:** epochs for ANN models.<br>\n",
    "**batch_size:** batch_size for ANN models.<br>\n",
    "**vocabulary_size:** vocabulary size (used in CNN model).\n"
   ]
  },
  {
   "cell_type": "markdown",
   "metadata": {},
   "source": [
    "\n",
    "## Run UIUC Benchmark - Normal"
   ]
  },
  {
   "cell_type": "markdown",
   "metadata": {},
   "source": [
    "Different classifier models are tested with different dependency levels of external linguistic resources (Low, Medium and High)"
   ]
  },
  {
   "cell_type": "markdown",
   "metadata": {},
   "source": [
    "#### SVM + TF-IDF"
   ]
  },
  {
   "cell_type": "code",
   "execution_count": 2,
   "metadata": {
    "scrolled": false
   },
   "outputs": [
    {
     "name": "stdout",
     "output_type": "stream",
     "text": [
      "\n",
      "\n",
      "Language:  en\n",
      "\n",
      "1000|.\n",
      "2000|.\n",
      "3000|.\n",
      "4000|.\n",
      "5500|.Run time benchmark: 0.5764660835266113\n",
      "\n",
      "\n",
      "Language:  es\n",
      "\n",
      "1000|.\n",
      "2000|.\n",
      "3000|."
     ]
    },
    {
     "name": "stderr",
     "output_type": "stream",
     "text": [
      "/home/eduardo/.virtualenvs/qa/lib/python3.6/site-packages/sklearn/metrics/classification.py:1143: UndefinedMetricWarning: Precision is ill-defined and being set to 0.0 in labels with no predicted samples.\n",
      "  'precision', 'predicted', average, warn_for)\n",
      "/home/eduardo/.virtualenvs/qa/lib/python3.6/site-packages/sklearn/metrics/classification.py:1143: UndefinedMetricWarning: F-score is ill-defined and being set to 0.0 in labels with no predicted samples.\n",
      "  'precision', 'predicted', average, warn_for)\n",
      "/home/eduardo/.virtualenvs/qa/lib/python3.6/site-packages/sklearn/metrics/classification.py:1143: UndefinedMetricWarning: Precision is ill-defined and being set to 0.0 in labels with no predicted samples.\n",
      "  'precision', 'predicted', average, warn_for)\n",
      "/home/eduardo/.virtualenvs/qa/lib/python3.6/site-packages/sklearn/metrics/classification.py:1143: UndefinedMetricWarning: F-score is ill-defined and being set to 0.0 in labels with no predicted samples.\n",
      "  'precision', 'predicted', average, warn_for)\n",
      "/home/eduardo/.virtualenvs/qa/lib/python3.6/site-packages/sklearn/metrics/classification.py:1143: UndefinedMetricWarning: Precision is ill-defined and being set to 0.0 in labels with no predicted samples.\n",
      "  'precision', 'predicted', average, warn_for)\n",
      "/home/eduardo/.virtualenvs/qa/lib/python3.6/site-packages/sklearn/metrics/classification.py:1143: UndefinedMetricWarning: F-score is ill-defined and being set to 0.0 in labels with no predicted samples.\n",
      "  'precision', 'predicted', average, warn_for)\n",
      "/home/eduardo/.virtualenvs/qa/lib/python3.6/site-packages/sklearn/metrics/classification.py:1143: UndefinedMetricWarning: Precision is ill-defined and being set to 0.0 in labels with no predicted samples.\n",
      "  'precision', 'predicted', average, warn_for)\n",
      "/home/eduardo/.virtualenvs/qa/lib/python3.6/site-packages/sklearn/metrics/classification.py:1143: UndefinedMetricWarning: F-score is ill-defined and being set to 0.0 in labels with no predicted samples.\n",
      "  'precision', 'predicted', average, warn_for)\n"
     ]
    },
    {
     "name": "stdout",
     "output_type": "stream",
     "text": [
      "\n",
      "4000|.\n",
      "5500|."
     ]
    },
    {
     "name": "stderr",
     "output_type": "stream",
     "text": [
      "/home/eduardo/.virtualenvs/qa/lib/python3.6/site-packages/sklearn/metrics/classification.py:1143: UndefinedMetricWarning: Precision is ill-defined and being set to 0.0 in labels with no predicted samples.\n",
      "  'precision', 'predicted', average, warn_for)\n",
      "/home/eduardo/.virtualenvs/qa/lib/python3.6/site-packages/sklearn/metrics/classification.py:1143: UndefinedMetricWarning: F-score is ill-defined and being set to 0.0 in labels with no predicted samples.\n",
      "  'precision', 'predicted', average, warn_for)\n"
     ]
    },
    {
     "name": "stdout",
     "output_type": "stream",
     "text": [
      "Run time benchmark: 0.6209449768066406\n",
      "\n",
      "\n",
      "Language:  pt\n",
      "\n",
      "1000|.\n",
      "2000|.\n",
      "3000|.\n",
      "4000|.\n",
      "5500|.Run time benchmark: 0.5239431858062744\n"
     ]
    }
   ],
   "source": [
    "for language in ['en', 'es', 'pt']:\n",
    "    print('\\n\\nLanguage: ', language)\n",
    "    dataset_train, dataset_test = load_uiuc(language)\n",
    "    create_feature('tfidf', dataset_train, dataset_train, max_features=2000)\n",
    "    create_feature('tfidf', dataset_train, dataset_test, max_features=2000)\n",
    "    \n",
    "    model = {'name': 'svm', 'model': svm_linear}\n",
    "    \n",
    "    tfidf_train = np.array([list(r) for r in dataset_train['tfidf'].values])\n",
    "    tfidf_test = np.array([list(r) for r in dataset_test['tfidf'].values])\n",
    "    tfidf_train = normalize(tfidf_train, norm='max')\n",
    "    tfidf_test = normalize(tfidf_test, norm='max')\n",
    "    \n",
    "    X_train = np.array([list(x) for x in dataset_train['tfidf'].values])\n",
    "    X_test = np.array([list(x) for x in dataset_test['tfidf'].values])\n",
    "    y_train = dataset_train['class'].values\n",
    "    y_test = dataset_test['class'].values\n",
    "    \n",
    "    run_benchmark(model, X_train, y_train, X_test, y_test, sizes_train=[1000, 2000, 3000, 4000, 5500],\n",
    "                  save='results/UIUC_svm_tfidf_' + language + '.csv', runs=1)"
   ]
  },
  {
   "cell_type": "markdown",
   "metadata": {},
   "source": [
    "#### SVM + TF-IDF + WB"
   ]
  },
  {
   "cell_type": "code",
   "execution_count": 5,
   "metadata": {},
   "outputs": [
    {
     "name": "stdout",
     "output_type": "stream",
     "text": [
      "\n",
      "\n",
      "Language:  en\n",
      "\n",
      "1000|.\n",
      "2000|.\n",
      "3000|.\n",
      "4000|."
     ]
    },
    {
     "name": "stderr",
     "output_type": "stream",
     "text": [
      "/home/eduardo/.virtualenvs/qa/lib/python3.6/site-packages/sklearn/svm/base.py:931: ConvergenceWarning: Liblinear failed to converge, increase the number of iterations.\n",
      "  \"the number of iterations.\", ConvergenceWarning)\n"
     ]
    },
    {
     "name": "stdout",
     "output_type": "stream",
     "text": [
      "\n",
      "5500|.Run time benchmark: 11.371490478515625\n",
      "\n",
      "\n",
      "Language:  es\n",
      "\n",
      "1000|."
     ]
    },
    {
     "name": "stderr",
     "output_type": "stream",
     "text": [
      "/home/eduardo/.virtualenvs/qa/lib/python3.6/site-packages/sklearn/metrics/classification.py:1143: UndefinedMetricWarning: Precision is ill-defined and being set to 0.0 in labels with no predicted samples.\n",
      "  'precision', 'predicted', average, warn_for)\n",
      "/home/eduardo/.virtualenvs/qa/lib/python3.6/site-packages/sklearn/metrics/classification.py:1143: UndefinedMetricWarning: F-score is ill-defined and being set to 0.0 in labels with no predicted samples.\n",
      "  'precision', 'predicted', average, warn_for)\n"
     ]
    },
    {
     "name": "stdout",
     "output_type": "stream",
     "text": [
      "\n",
      "2000|."
     ]
    },
    {
     "name": "stderr",
     "output_type": "stream",
     "text": [
      "/home/eduardo/.virtualenvs/qa/lib/python3.6/site-packages/sklearn/metrics/classification.py:1143: UndefinedMetricWarning: Precision is ill-defined and being set to 0.0 in labels with no predicted samples.\n",
      "  'precision', 'predicted', average, warn_for)\n",
      "/home/eduardo/.virtualenvs/qa/lib/python3.6/site-packages/sklearn/metrics/classification.py:1143: UndefinedMetricWarning: F-score is ill-defined and being set to 0.0 in labels with no predicted samples.\n",
      "  'precision', 'predicted', average, warn_for)\n"
     ]
    },
    {
     "name": "stdout",
     "output_type": "stream",
     "text": [
      "\n",
      "3000|."
     ]
    },
    {
     "name": "stderr",
     "output_type": "stream",
     "text": [
      "/home/eduardo/.virtualenvs/qa/lib/python3.6/site-packages/sklearn/svm/base.py:931: ConvergenceWarning: Liblinear failed to converge, increase the number of iterations.\n",
      "  \"the number of iterations.\", ConvergenceWarning)\n",
      "/home/eduardo/.virtualenvs/qa/lib/python3.6/site-packages/sklearn/metrics/classification.py:1143: UndefinedMetricWarning: Precision is ill-defined and being set to 0.0 in labels with no predicted samples.\n",
      "  'precision', 'predicted', average, warn_for)\n",
      "/home/eduardo/.virtualenvs/qa/lib/python3.6/site-packages/sklearn/metrics/classification.py:1143: UndefinedMetricWarning: F-score is ill-defined and being set to 0.0 in labels with no predicted samples.\n",
      "  'precision', 'predicted', average, warn_for)\n"
     ]
    },
    {
     "name": "stdout",
     "output_type": "stream",
     "text": [
      "\n",
      "4000|."
     ]
    },
    {
     "name": "stderr",
     "output_type": "stream",
     "text": [
      "/home/eduardo/.virtualenvs/qa/lib/python3.6/site-packages/sklearn/svm/base.py:931: ConvergenceWarning: Liblinear failed to converge, increase the number of iterations.\n",
      "  \"the number of iterations.\", ConvergenceWarning)\n",
      "/home/eduardo/.virtualenvs/qa/lib/python3.6/site-packages/sklearn/metrics/classification.py:1143: UndefinedMetricWarning: Precision is ill-defined and being set to 0.0 in labels with no predicted samples.\n",
      "  'precision', 'predicted', average, warn_for)\n",
      "/home/eduardo/.virtualenvs/qa/lib/python3.6/site-packages/sklearn/metrics/classification.py:1143: UndefinedMetricWarning: F-score is ill-defined and being set to 0.0 in labels with no predicted samples.\n",
      "  'precision', 'predicted', average, warn_for)\n"
     ]
    },
    {
     "name": "stdout",
     "output_type": "stream",
     "text": [
      "\n",
      "5500|."
     ]
    },
    {
     "name": "stderr",
     "output_type": "stream",
     "text": [
      "/home/eduardo/.virtualenvs/qa/lib/python3.6/site-packages/sklearn/svm/base.py:931: ConvergenceWarning: Liblinear failed to converge, increase the number of iterations.\n",
      "  \"the number of iterations.\", ConvergenceWarning)\n",
      "/home/eduardo/.virtualenvs/qa/lib/python3.6/site-packages/sklearn/metrics/classification.py:1143: UndefinedMetricWarning: Precision is ill-defined and being set to 0.0 in labels with no predicted samples.\n",
      "  'precision', 'predicted', average, warn_for)\n",
      "/home/eduardo/.virtualenvs/qa/lib/python3.6/site-packages/sklearn/metrics/classification.py:1143: UndefinedMetricWarning: F-score is ill-defined and being set to 0.0 in labels with no predicted samples.\n",
      "  'precision', 'predicted', average, warn_for)\n"
     ]
    },
    {
     "name": "stdout",
     "output_type": "stream",
     "text": [
      "Run time benchmark: 14.12940001487732\n",
      "\n",
      "\n",
      "Language:  pt\n",
      "\n",
      "1000|.\n",
      "2000|."
     ]
    },
    {
     "name": "stderr",
     "output_type": "stream",
     "text": [
      "/home/eduardo/.virtualenvs/qa/lib/python3.6/site-packages/sklearn/svm/base.py:931: ConvergenceWarning: Liblinear failed to converge, increase the number of iterations.\n",
      "  \"the number of iterations.\", ConvergenceWarning)\n"
     ]
    },
    {
     "name": "stdout",
     "output_type": "stream",
     "text": [
      "\n",
      "3000|."
     ]
    },
    {
     "name": "stderr",
     "output_type": "stream",
     "text": [
      "/home/eduardo/.virtualenvs/qa/lib/python3.6/site-packages/sklearn/svm/base.py:931: ConvergenceWarning: Liblinear failed to converge, increase the number of iterations.\n",
      "  \"the number of iterations.\", ConvergenceWarning)\n"
     ]
    },
    {
     "name": "stdout",
     "output_type": "stream",
     "text": [
      "\n",
      "4000|."
     ]
    },
    {
     "name": "stderr",
     "output_type": "stream",
     "text": [
      "/home/eduardo/.virtualenvs/qa/lib/python3.6/site-packages/sklearn/svm/base.py:931: ConvergenceWarning: Liblinear failed to converge, increase the number of iterations.\n",
      "  \"the number of iterations.\", ConvergenceWarning)\n"
     ]
    },
    {
     "name": "stdout",
     "output_type": "stream",
     "text": [
      "\n",
      "5500|.Run time benchmark: 14.28162956237793\n"
     ]
    },
    {
     "name": "stderr",
     "output_type": "stream",
     "text": [
      "/home/eduardo/.virtualenvs/qa/lib/python3.6/site-packages/sklearn/svm/base.py:931: ConvergenceWarning: Liblinear failed to converge, increase the number of iterations.\n",
      "  \"the number of iterations.\", ConvergenceWarning)\n"
     ]
    }
   ],
   "source": [
    "for language in ['en', 'es', 'pt']:\n",
    "    print('\\n\\nLanguage: ', language)\n",
    "    embedding = load_embedding(path_wordembedding + 'wiki.multi.' + language + '.vec')\n",
    "    dataset_train, dataset_test = load_uiuc(language)\n",
    "    create_feature('tfidf', dataset_train, dataset_train, max_features=2000)\n",
    "    create_feature('tfidf', dataset_train, dataset_test, max_features=2000)\n",
    "    create_feature('embedding_sum', None, dataset_train, embedding)\n",
    "    create_feature('embedding_sum', None, dataset_test, embedding)\n",
    "    \n",
    "    model = {'name': 'svm', 'model': svm_linear}\n",
    "    \n",
    "    tfidf_train = np.array([list(r) for r in dataset_train['tfidf'].values])\n",
    "    tfidf_test = np.array([list(r) for r in dataset_test['tfidf'].values])\n",
    "    tfidf_train = normalize(tfidf_train, norm='max')\n",
    "    tfidf_test = normalize(tfidf_test, norm='max')\n",
    "    \n",
    "    embedding_train = np.array([list(r) for r in dataset_train['embedding_sum'].values])\n",
    "    embedding_test = np.array([list(r) for r in dataset_test['embedding_sum'].values])\n",
    "    embedding_train = normalize(embedding_train, norm='max')\n",
    "    embedding_test = normalize(embedding_test, norm='max')\n",
    "    \n",
    "    X_train = np.array([list(x) + list(xx) for x, xx in zip(tfidf_train, embedding_train)])\n",
    "    X_test = np.array([list(x) + list(xx) for x, xx in zip(tfidf_test, embedding_test)])\n",
    "    y_train = dataset_train['class'].values\n",
    "    y_test = dataset_test['class'].values\n",
    "    \n",
    "    run_benchmark(model, X_train, y_train, X_test, y_test, sizes_train=[1000, 2000, 3000, 4000, 5500], \n",
    "                  runs=1, save='results/UIUC_svm_cortes_' + language + '.csv')"
   ]
  },
  {
   "cell_type": "markdown",
   "metadata": {},
   "source": [
    "#### SVM + TF-IDF + WB + POS + NER"
   ]
  },
  {
   "cell_type": "code",
   "execution_count": 6,
   "metadata": {},
   "outputs": [
    {
     "name": "stdout",
     "output_type": "stream",
     "text": [
      "\n",
      "\n",
      "Language:  en\n",
      "\n",
      "1000|.\n",
      "2000|.\n",
      "3000|."
     ]
    },
    {
     "name": "stderr",
     "output_type": "stream",
     "text": [
      "/home/eduardo/.virtualenvs/qa/lib/python3.6/site-packages/sklearn/svm/base.py:931: ConvergenceWarning: Liblinear failed to converge, increase the number of iterations.\n",
      "  \"the number of iterations.\", ConvergenceWarning)\n"
     ]
    },
    {
     "name": "stdout",
     "output_type": "stream",
     "text": [
      "\n",
      "4000|."
     ]
    },
    {
     "name": "stderr",
     "output_type": "stream",
     "text": [
      "/home/eduardo/.virtualenvs/qa/lib/python3.6/site-packages/sklearn/svm/base.py:931: ConvergenceWarning: Liblinear failed to converge, increase the number of iterations.\n",
      "  \"the number of iterations.\", ConvergenceWarning)\n"
     ]
    },
    {
     "name": "stdout",
     "output_type": "stream",
     "text": [
      "\n",
      "5500|."
     ]
    },
    {
     "name": "stderr",
     "output_type": "stream",
     "text": [
      "/home/eduardo/.virtualenvs/qa/lib/python3.6/site-packages/sklearn/svm/base.py:931: ConvergenceWarning: Liblinear failed to converge, increase the number of iterations.\n",
      "  \"the number of iterations.\", ConvergenceWarning)\n"
     ]
    },
    {
     "name": "stdout",
     "output_type": "stream",
     "text": [
      "Run time benchmark: 12.750246524810791\n",
      "\n",
      "\n",
      "Language:  es\n",
      "\n",
      "1000|."
     ]
    },
    {
     "name": "stderr",
     "output_type": "stream",
     "text": [
      "/home/eduardo/.virtualenvs/qa/lib/python3.6/site-packages/sklearn/metrics/classification.py:1143: UndefinedMetricWarning: Precision is ill-defined and being set to 0.0 in labels with no predicted samples.\n",
      "  'precision', 'predicted', average, warn_for)\n",
      "/home/eduardo/.virtualenvs/qa/lib/python3.6/site-packages/sklearn/metrics/classification.py:1143: UndefinedMetricWarning: F-score is ill-defined and being set to 0.0 in labels with no predicted samples.\n",
      "  'precision', 'predicted', average, warn_for)\n"
     ]
    },
    {
     "name": "stdout",
     "output_type": "stream",
     "text": [
      "\n",
      "2000|."
     ]
    },
    {
     "name": "stderr",
     "output_type": "stream",
     "text": [
      "/home/eduardo/.virtualenvs/qa/lib/python3.6/site-packages/sklearn/metrics/classification.py:1143: UndefinedMetricWarning: Precision is ill-defined and being set to 0.0 in labels with no predicted samples.\n",
      "  'precision', 'predicted', average, warn_for)\n",
      "/home/eduardo/.virtualenvs/qa/lib/python3.6/site-packages/sklearn/metrics/classification.py:1143: UndefinedMetricWarning: F-score is ill-defined and being set to 0.0 in labels with no predicted samples.\n",
      "  'precision', 'predicted', average, warn_for)\n"
     ]
    },
    {
     "name": "stdout",
     "output_type": "stream",
     "text": [
      "\n",
      "3000|."
     ]
    },
    {
     "name": "stderr",
     "output_type": "stream",
     "text": [
      "/home/eduardo/.virtualenvs/qa/lib/python3.6/site-packages/sklearn/svm/base.py:931: ConvergenceWarning: Liblinear failed to converge, increase the number of iterations.\n",
      "  \"the number of iterations.\", ConvergenceWarning)\n",
      "/home/eduardo/.virtualenvs/qa/lib/python3.6/site-packages/sklearn/metrics/classification.py:1143: UndefinedMetricWarning: Precision is ill-defined and being set to 0.0 in labels with no predicted samples.\n",
      "  'precision', 'predicted', average, warn_for)\n",
      "/home/eduardo/.virtualenvs/qa/lib/python3.6/site-packages/sklearn/metrics/classification.py:1143: UndefinedMetricWarning: F-score is ill-defined and being set to 0.0 in labels with no predicted samples.\n",
      "  'precision', 'predicted', average, warn_for)\n"
     ]
    },
    {
     "name": "stdout",
     "output_type": "stream",
     "text": [
      "\n",
      "4000|."
     ]
    },
    {
     "name": "stderr",
     "output_type": "stream",
     "text": [
      "/home/eduardo/.virtualenvs/qa/lib/python3.6/site-packages/sklearn/svm/base.py:931: ConvergenceWarning: Liblinear failed to converge, increase the number of iterations.\n",
      "  \"the number of iterations.\", ConvergenceWarning)\n",
      "/home/eduardo/.virtualenvs/qa/lib/python3.6/site-packages/sklearn/metrics/classification.py:1143: UndefinedMetricWarning: Precision is ill-defined and being set to 0.0 in labels with no predicted samples.\n",
      "  'precision', 'predicted', average, warn_for)\n",
      "/home/eduardo/.virtualenvs/qa/lib/python3.6/site-packages/sklearn/metrics/classification.py:1143: UndefinedMetricWarning: F-score is ill-defined and being set to 0.0 in labels with no predicted samples.\n",
      "  'precision', 'predicted', average, warn_for)\n"
     ]
    },
    {
     "name": "stdout",
     "output_type": "stream",
     "text": [
      "\n",
      "5500|."
     ]
    },
    {
     "name": "stderr",
     "output_type": "stream",
     "text": [
      "/home/eduardo/.virtualenvs/qa/lib/python3.6/site-packages/sklearn/svm/base.py:931: ConvergenceWarning: Liblinear failed to converge, increase the number of iterations.\n",
      "  \"the number of iterations.\", ConvergenceWarning)\n",
      "/home/eduardo/.virtualenvs/qa/lib/python3.6/site-packages/sklearn/metrics/classification.py:1143: UndefinedMetricWarning: Precision is ill-defined and being set to 0.0 in labels with no predicted samples.\n",
      "  'precision', 'predicted', average, warn_for)\n",
      "/home/eduardo/.virtualenvs/qa/lib/python3.6/site-packages/sklearn/metrics/classification.py:1143: UndefinedMetricWarning: F-score is ill-defined and being set to 0.0 in labels with no predicted samples.\n",
      "  'precision', 'predicted', average, warn_for)\n"
     ]
    },
    {
     "name": "stdout",
     "output_type": "stream",
     "text": [
      "Run time benchmark: 15.330715417861938\n",
      "\n",
      "\n",
      "Language:  pt\n",
      "\n",
      "1000|."
     ]
    },
    {
     "name": "stderr",
     "output_type": "stream",
     "text": [
      "/home/eduardo/.virtualenvs/qa/lib/python3.6/site-packages/sklearn/svm/base.py:931: ConvergenceWarning: Liblinear failed to converge, increase the number of iterations.\n",
      "  \"the number of iterations.\", ConvergenceWarning)\n"
     ]
    },
    {
     "name": "stdout",
     "output_type": "stream",
     "text": [
      "\n",
      "2000|."
     ]
    },
    {
     "name": "stderr",
     "output_type": "stream",
     "text": [
      "/home/eduardo/.virtualenvs/qa/lib/python3.6/site-packages/sklearn/svm/base.py:931: ConvergenceWarning: Liblinear failed to converge, increase the number of iterations.\n",
      "  \"the number of iterations.\", ConvergenceWarning)\n"
     ]
    },
    {
     "name": "stdout",
     "output_type": "stream",
     "text": [
      "\n",
      "3000|."
     ]
    },
    {
     "name": "stderr",
     "output_type": "stream",
     "text": [
      "/home/eduardo/.virtualenvs/qa/lib/python3.6/site-packages/sklearn/svm/base.py:931: ConvergenceWarning: Liblinear failed to converge, increase the number of iterations.\n",
      "  \"the number of iterations.\", ConvergenceWarning)\n"
     ]
    },
    {
     "name": "stdout",
     "output_type": "stream",
     "text": [
      "\n",
      "4000|."
     ]
    },
    {
     "name": "stderr",
     "output_type": "stream",
     "text": [
      "/home/eduardo/.virtualenvs/qa/lib/python3.6/site-packages/sklearn/svm/base.py:931: ConvergenceWarning: Liblinear failed to converge, increase the number of iterations.\n",
      "  \"the number of iterations.\", ConvergenceWarning)\n"
     ]
    },
    {
     "name": "stdout",
     "output_type": "stream",
     "text": [
      "\n",
      "5500|.Run time benchmark: 13.996777296066284\n"
     ]
    },
    {
     "name": "stderr",
     "output_type": "stream",
     "text": [
      "/home/eduardo/.virtualenvs/qa/lib/python3.6/site-packages/sklearn/svm/base.py:931: ConvergenceWarning: Liblinear failed to converge, increase the number of iterations.\n",
      "  \"the number of iterations.\", ConvergenceWarning)\n"
     ]
    }
   ],
   "source": [
    "for language in ['en', 'es', 'pt']:\n",
    "    print('\\n\\nLanguage: ', language)\n",
    "    embedding = load_embedding(path_wordembedding + 'wiki.multi.' + language + '.vec')\n",
    "    dataset_train, dataset_test = load_uiuc(language)\n",
    "    create_feature('tfidf', dataset_train, dataset_train, max_features=2000)\n",
    "    create_feature('tfidf', dataset_train, dataset_test, max_features=2000)\n",
    "    create_feature('embedding_sum', dataset_train, dataset_train, embedding)\n",
    "    create_feature('embedding_sum', dataset_train, dataset_test, embedding)\n",
    "    create_feature('pos_hotencode', dataset_train, dataset_train)\n",
    "    create_feature('pos_hotencode', dataset_train, dataset_test)\n",
    "    create_feature('ner_hotencode', dataset_train, dataset_train)\n",
    "    create_feature('ner_hotencode', dataset_train, dataset_test)\n",
    "    model = {'name': 'svm', 'model': svm_linear}\n",
    "    \n",
    "    tfidf_train = np.array([list(r) for r in dataset_train['tfidf'].values])\n",
    "    tfidf_test = np.array([list(r) for r in dataset_test['tfidf'].values])\n",
    "    tfidf_train = normalize(tfidf_train, norm='max')\n",
    "    tfidf_test = normalize(tfidf_test, norm='max')\n",
    "    \n",
    "    embedding_train = np.array([list(r) for r in dataset_train['embedding_sum'].values])\n",
    "    embedding_test = np.array([list(r) for r in dataset_test['embedding_sum'].values])\n",
    "    embedding_train = normalize(embedding_train, norm='max')\n",
    "    embedding_test = normalize(embedding_test, norm='max')\n",
    "    \n",
    "    pos_train = np.array([list(r) for r in dataset_train['pos_hotencode'].values])\n",
    "    pos_test = np.array([list(r) for r in dataset_test['pos_hotencode'].values])\n",
    "    \n",
    "    ner_train = np.array([list(r) for r in dataset_train['ner_hotencode'].values])\n",
    "    ner_test = np.array([list(r) for r in dataset_test['ner_hotencode'].values])\n",
    "    \n",
    "    X_train = np.array([list(x) + list(xx) + list(xxx) + list(xxxx) for x, xx, xxx, xxxx in zip(tfidf_train, embedding_train, pos_train, ner_train)])\n",
    "    X_test = np.array([list(x) + list(xx) + list(xxx) + list(xxxx) for x, xx, xxx, xxxx in zip(tfidf_test, embedding_test, pos_test, ner_test)])\n",
    "    \n",
    "    y_train = dataset_train['class'].values\n",
    "    y_test = dataset_test['class'].values\n",
    "    \n",
    "    classes = list(dataset_train['class'].unique())\n",
    "    y_train_ = [classes.index(c) for c in y_train]\n",
    "    \n",
    "    run_benchmark(model, X_train, y_train, X_test, y_test, sizes_train=[1000, 2000, 3000, 4000, 5500],\n",
    "                  runs=1, save='results/UIUC_svm_high_' + language + '.csv')"
   ]
  },
  {
   "cell_type": "markdown",
   "metadata": {},
   "source": [
    "#### BERT + CNN"
   ]
  },
  {
   "cell_type": "code",
   "execution_count": 31,
   "metadata": {},
   "outputs": [
    {
     "name": "stdout",
     "output_type": "stream",
     "text": [
      "2019-08-17 08:46:23,258 {'LOC', 'NUM', 'DESC', 'ENTY', 'ABBR', 'HUM'}\n",
      "2019-08-17 08:46:23,300 The pre-trained model you are loading is a cased model but you have not set `do_lower_case` to False. We are setting `do_lower_case=False` for you but you may want to check this behavior.\n",
      "2019-08-17 08:46:43,412 ----------------------------------------------------------------------------------------------------\n",
      "2019-08-17 08:46:43,413 Evaluation method: MICRO_F1_SCORE\n",
      "2019-08-17 08:46:43,796 ----------------------------------------------------------------------------------------------------\n",
      "2019-08-17 08:46:45,682 epoch 1 - iter 0/32 - loss 1.79350603\n",
      "2019-08-17 08:46:48,613 epoch 1 - iter 3/32 - loss 10.62281498\n",
      "2019-08-17 08:46:50,756 epoch 1 - iter 6/32 - loss 8.10027502\n",
      "2019-08-17 08:46:52,628 epoch 1 - iter 9/32 - loss 7.24572681\n",
      "2019-08-17 08:46:55,135 epoch 1 - iter 12/32 - loss 6.18870946\n",
      "2019-08-17 08:46:57,147 epoch 1 - iter 15/32 - loss 5.40461296\n",
      "2019-08-17 08:46:59,435 epoch 1 - iter 18/32 - loss 4.99542930\n",
      "2019-08-17 08:47:01,618 epoch 1 - iter 21/32 - loss 4.54301026\n",
      "2019-08-17 08:47:03,928 epoch 1 - iter 24/32 - loss 4.16897041\n",
      "2019-08-17 08:47:06,394 epoch 1 - iter 27/32 - loss 3.89375730\n",
      "2019-08-17 08:47:08,553 epoch 1 - iter 30/32 - loss 3.61891006\n",
      "2019-08-17 08:47:08,946 ----------------------------------------------------------------------------------------------------\n",
      "2019-08-17 08:47:08,947 EPOCH 1 done: loss 3.5394 - lr 0.0010 - bad epochs 0\n",
      "2019-08-17 08:47:31,567 DEV : loss 1.2289416790008545 - score 0.536\n",
      "2019-08-17 08:47:39,726 TEST : loss 1.266571044921875 - score 0.462\n",
      "2019-08-17 08:47:48,241 ----------------------------------------------------------------------------------------------------\n",
      "2019-08-17 08:47:49,755 epoch 2 - iter 0/32 - loss 1.67941904\n",
      "2019-08-17 08:47:52,134 epoch 2 - iter 3/32 - loss 1.05694519\n",
      "2019-08-17 08:47:54,331 epoch 2 - iter 6/32 - loss 1.00613586\n",
      "2019-08-17 08:47:56,425 epoch 2 - iter 9/32 - loss 0.93332484\n",
      "2019-08-17 08:47:58,772 epoch 2 - iter 12/32 - loss 0.90528847\n",
      "2019-08-17 08:48:00,968 epoch 2 - iter 15/32 - loss 0.88237704\n",
      "2019-08-17 08:48:03,191 epoch 2 - iter 18/32 - loss 0.85448584\n",
      "2019-08-17 08:48:05,710 epoch 2 - iter 21/32 - loss 0.81933046\n",
      "2019-08-17 08:48:08,172 epoch 2 - iter 24/32 - loss 0.79018516\n",
      "2019-08-17 08:48:10,705 epoch 2 - iter 27/32 - loss 0.78609523\n",
      "2019-08-17 08:48:12,808 epoch 2 - iter 30/32 - loss 0.76867742\n",
      "2019-08-17 08:48:13,267 ----------------------------------------------------------------------------------------------------\n",
      "2019-08-17 08:48:13,269 EPOCH 2 done: loss 0.7499 - lr 0.0010 - bad epochs 0\n",
      "2019-08-17 08:48:36,273 DEV : loss 0.4051389992237091 - score 0.857\n",
      "2019-08-17 08:48:44,573 TEST : loss 0.5444310307502747 - score 0.816\n",
      "2019-08-17 08:48:51,238 ----------------------------------------------------------------------------------------------------\n",
      "2019-08-17 08:48:52,630 epoch 3 - iter 0/32 - loss 0.32401088\n",
      "2019-08-17 08:48:54,989 epoch 3 - iter 3/32 - loss 0.50016356\n",
      "2019-08-17 08:48:57,126 epoch 3 - iter 6/32 - loss 0.46025071\n",
      "2019-08-17 08:48:59,874 epoch 3 - iter 9/32 - loss 0.57091868\n",
      "2019-08-17 08:49:02,553 epoch 3 - iter 12/32 - loss 0.55822109\n",
      "2019-08-17 08:49:04,785 epoch 3 - iter 15/32 - loss 0.50961345\n",
      "2019-08-17 08:49:06,915 epoch 3 - iter 18/32 - loss 0.50523147\n",
      "2019-08-17 08:49:08,913 epoch 3 - iter 21/32 - loss 0.48278388\n",
      "2019-08-17 08:49:11,511 epoch 3 - iter 24/32 - loss 0.46541540\n",
      "2019-08-17 08:49:13,573 epoch 3 - iter 27/32 - loss 0.50752749\n",
      "2019-08-17 08:49:15,787 epoch 3 - iter 30/32 - loss 0.49402445\n",
      "2019-08-17 08:49:16,215 ----------------------------------------------------------------------------------------------------\n",
      "2019-08-17 08:49:16,216 EPOCH 3 done: loss 0.4845 - lr 0.0010 - bad epochs 0\n",
      "2019-08-17 08:49:39,523 DEV : loss 0.448690265417099 - score 0.778\n",
      "2019-08-17 08:49:47,928 TEST : loss 0.6553656458854675 - score 0.696\n",
      "2019-08-17 08:49:47,982 ----------------------------------------------------------------------------------------------------\n",
      "2019-08-17 08:49:49,608 epoch 4 - iter 0/32 - loss 0.64335412\n",
      "2019-08-17 08:49:51,936 epoch 4 - iter 3/32 - loss 0.41422553\n",
      "2019-08-17 08:49:54,209 epoch 4 - iter 6/32 - loss 0.39425893\n",
      "2019-08-17 08:49:56,486 epoch 4 - iter 9/32 - loss 0.35364525\n",
      "2019-08-17 08:49:59,561 epoch 4 - iter 12/32 - loss 0.33958689\n",
      "2019-08-17 08:50:01,773 epoch 4 - iter 15/32 - loss 0.30415502\n",
      "2019-08-17 08:50:04,317 epoch 4 - iter 18/32 - loss 0.29909214\n",
      "2019-08-17 08:50:06,351 epoch 4 - iter 21/32 - loss 0.28143561\n",
      "2019-08-17 08:50:09,071 epoch 4 - iter 24/32 - loss 0.27170082\n",
      "2019-08-17 08:50:11,253 epoch 4 - iter 27/32 - loss 0.26550964\n",
      "2019-08-17 08:50:13,159 epoch 4 - iter 30/32 - loss 0.27215417\n",
      "2019-08-17 08:50:13,566 ----------------------------------------------------------------------------------------------------\n",
      "2019-08-17 08:50:13,567 EPOCH 4 done: loss 0.2666 - lr 0.0010 - bad epochs 1\n",
      "2019-08-17 08:50:36,974 DEV : loss 0.17508438229560852 - score 0.957\n",
      "2019-08-17 08:50:45,696 TEST : loss 0.3722532391548157 - score 0.876\n",
      "2019-08-17 08:50:58,058 ----------------------------------------------------------------------------------------------------\n",
      "2019-08-17 08:50:58,060 Testing using best model ...\n",
      "2019-08-17 08:50:58,062 loading file flair_resources/qc_en_uiuc/best-model.pt\n",
      "2019-08-17 08:51:06,686 0.876\t0.876\t0.876\n",
      "2019-08-17 08:51:06,687 \n",
      "MICRO_AVG: acc 0.7794 - f1-score 0.876\n",
      "MACRO_AVG: acc 0.7791 - f1-score 0.8742500000000001\n",
      "ABBR       tp: 7 - fp: 0 - fn: 2 - tn: 491 - precision: 1.0000 - recall: 0.7778 - accuracy: 0.7778 - f1-score: 0.8750\n",
      "DESC       tp: 131 - fp: 20 - fn: 7 - tn: 342 - precision: 0.8675 - recall: 0.9493 - accuracy: 0.8291 - f1-score: 0.9066\n",
      "ENTY       tp: 67 - fp: 6 - fn: 27 - tn: 400 - precision: 0.9178 - recall: 0.7128 - accuracy: 0.6700 - f1-score: 0.8024\n",
      "HUM        tp: 59 - fp: 3 - fn: 6 - tn: 432 - precision: 0.9516 - recall: 0.9077 - accuracy: 0.8676 - f1-score: 0.9291\n",
      "LOC        tp: 79 - fp: 28 - fn: 2 - tn: 391 - precision: 0.7383 - recall: 0.9753 - accuracy: 0.7248 - f1-score: 0.8404\n",
      "NUM        tp: 95 - fp: 5 - fn: 18 - tn: 382 - precision: 0.9500 - recall: 0.8407 - accuracy: 0.8051 - f1-score: 0.8920\n",
      "2019-08-17 08:51:06,688 ----------------------------------------------------------------------------------------------------\n",
      "2019-08-17 08:51:29,365 {'LOC', 'NUM', 'DESC', 'ENTY', 'ABBR', 'HUM'}\n",
      "2019-08-17 08:51:29,366 The pre-trained model you are loading is a cased model but you have not set `do_lower_case` to False. We are setting `do_lower_case=False` for you but you may want to check this behavior.\n",
      "2019-08-17 08:51:50,916 ----------------------------------------------------------------------------------------------------\n",
      "2019-08-17 08:51:50,917 Evaluation method: MICRO_F1_SCORE\n",
      "2019-08-17 08:51:51,333 ----------------------------------------------------------------------------------------------------\n",
      "2019-08-17 08:51:53,519 epoch 1 - iter 0/32 - loss 1.80023277\n",
      "2019-08-17 08:51:55,949 epoch 1 - iter 3/32 - loss 9.67098519\n",
      "2019-08-17 08:51:58,008 epoch 1 - iter 6/32 - loss 7.90027089\n",
      "2019-08-17 08:52:00,556 epoch 1 - iter 9/32 - loss 7.85938730\n",
      "2019-08-17 08:52:03,056 epoch 1 - iter 12/32 - loss 6.72228100\n",
      "2019-08-17 08:52:05,739 epoch 1 - iter 15/32 - loss 5.93389708\n",
      "2019-08-17 08:52:07,730 epoch 1 - iter 18/32 - loss 5.24997515\n",
      "2019-08-17 08:52:09,736 epoch 1 - iter 21/32 - loss 4.72801499\n",
      "2019-08-17 08:52:11,891 epoch 1 - iter 24/32 - loss 4.38630655\n",
      "2019-08-17 08:52:14,123 epoch 1 - iter 27/32 - loss 4.07335094\n",
      "2019-08-17 08:52:16,272 epoch 1 - iter 30/32 - loss 3.82478424\n",
      "2019-08-17 08:52:16,784 ----------------------------------------------------------------------------------------------------\n",
      "2019-08-17 08:52:16,785 EPOCH 1 done: loss 3.7498 - lr 0.0010 - bad epochs 0\n",
      "2019-08-17 08:52:39,681 DEV : loss 1.2308164834976196 - score 0.531\n",
      "2019-08-17 08:52:47,888 TEST : loss 1.2372933626174927 - score 0.482\n",
      "2019-08-17 08:52:53,382 ----------------------------------------------------------------------------------------------------\n",
      "2019-08-17 08:52:54,799 epoch 2 - iter 0/32 - loss 1.06063926\n",
      "2019-08-17 08:52:57,267 epoch 2 - iter 3/32 - loss 1.29375547\n"
     ]
    },
    {
     "name": "stdout",
     "output_type": "stream",
     "text": [
      "2019-08-17 08:53:00,028 epoch 2 - iter 6/32 - loss 1.10534452\n",
      "2019-08-17 08:53:02,064 epoch 2 - iter 9/32 - loss 1.05754998\n",
      "2019-08-17 08:53:04,948 epoch 2 - iter 12/32 - loss 1.03652987\n",
      "2019-08-17 08:53:07,004 epoch 2 - iter 15/32 - loss 0.99312482\n",
      "2019-08-17 08:53:09,066 epoch 2 - iter 18/32 - loss 0.97060237\n",
      "2019-08-17 08:53:11,406 epoch 2 - iter 21/32 - loss 0.93687834\n",
      "2019-08-17 08:53:13,365 epoch 2 - iter 24/32 - loss 0.88149774\n",
      "2019-08-17 08:53:15,487 epoch 2 - iter 27/32 - loss 0.84316277\n",
      "2019-08-17 08:53:18,023 epoch 2 - iter 30/32 - loss 0.81487109\n",
      "2019-08-17 08:53:18,480 ----------------------------------------------------------------------------------------------------\n",
      "2019-08-17 08:53:18,481 EPOCH 2 done: loss 0.7926 - lr 0.0010 - bad epochs 0\n",
      "2019-08-17 08:53:41,693 DEV : loss 0.46403899788856506 - score 0.815\n",
      "2019-08-17 08:53:50,034 TEST : loss 0.5217366814613342 - score 0.802\n",
      "2019-08-17 08:53:56,507 ----------------------------------------------------------------------------------------------------\n",
      "2019-08-17 08:53:57,769 epoch 3 - iter 0/32 - loss 0.58683068\n",
      "2019-08-17 08:54:00,285 epoch 3 - iter 3/32 - loss 0.43552091\n",
      "2019-08-17 08:54:03,186 epoch 3 - iter 6/32 - loss 0.42696176\n",
      "2019-08-17 08:54:05,192 epoch 3 - iter 9/32 - loss 0.41798837\n",
      "2019-08-17 08:54:06,982 epoch 3 - iter 12/32 - loss 0.40457581\n",
      "2019-08-17 08:54:09,297 epoch 3 - iter 15/32 - loss 0.43806906\n",
      "2019-08-17 08:54:11,637 epoch 3 - iter 18/32 - loss 0.41949464\n",
      "2019-08-17 08:54:14,523 epoch 3 - iter 21/32 - loss 0.40141346\n",
      "2019-08-17 08:54:16,712 epoch 3 - iter 24/32 - loss 0.39829525\n",
      "2019-08-17 08:54:19,024 epoch 3 - iter 27/32 - loss 0.41516181\n",
      "2019-08-17 08:54:21,454 epoch 3 - iter 30/32 - loss 0.41307098\n",
      "2019-08-17 08:54:21,888 ----------------------------------------------------------------------------------------------------\n",
      "2019-08-17 08:54:21,890 EPOCH 3 done: loss 0.4050 - lr 0.0010 - bad epochs 0\n",
      "2019-08-17 08:54:46,259 DEV : loss 0.24207189679145813 - score 0.905\n",
      "2019-08-17 08:54:54,667 TEST : loss 0.4097633361816406 - score 0.834\n",
      "2019-08-17 08:55:01,482 ----------------------------------------------------------------------------------------------------\n",
      "2019-08-17 08:55:03,023 epoch 4 - iter 0/32 - loss 0.16129903\n",
      "2019-08-17 08:55:05,161 epoch 4 - iter 3/32 - loss 0.14266258\n",
      "2019-08-17 08:55:07,375 epoch 4 - iter 6/32 - loss 0.18695014\n",
      "2019-08-17 08:55:09,461 epoch 4 - iter 9/32 - loss 0.19546459\n",
      "2019-08-17 08:55:12,074 epoch 4 - iter 12/32 - loss 0.21351912\n",
      "2019-08-17 08:55:14,141 epoch 4 - iter 15/32 - loss 0.20997007\n",
      "2019-08-17 08:55:15,991 epoch 4 - iter 18/32 - loss 0.19619020\n",
      "2019-08-17 08:55:18,315 epoch 4 - iter 21/32 - loss 0.20367113\n",
      "2019-08-17 08:55:20,740 epoch 4 - iter 24/32 - loss 0.22914996\n",
      "2019-08-17 08:55:23,431 epoch 4 - iter 27/32 - loss 0.22501350\n",
      "2019-08-17 08:55:25,651 epoch 4 - iter 30/32 - loss 0.23074847\n",
      "2019-08-17 08:55:26,064 ----------------------------------------------------------------------------------------------------\n",
      "2019-08-17 08:55:26,066 EPOCH 4 done: loss 0.2242 - lr 0.0010 - bad epochs 0\n",
      "2019-08-17 08:55:49,157 DEV : loss 0.11890023946762085 - score 0.969\n",
      "2019-08-17 08:55:57,602 TEST : loss 0.3466555178165436 - score 0.886\n",
      "2019-08-17 08:56:10,644 ----------------------------------------------------------------------------------------------------\n",
      "2019-08-17 08:56:10,645 Testing using best model ...\n",
      "2019-08-17 08:56:10,647 loading file flair_resources/qc_en_uiuc/best-model.pt\n",
      "2019-08-17 08:56:19,355 0.886\t0.886\t0.886\n",
      "2019-08-17 08:56:19,357 \n",
      "MICRO_AVG: acc 0.7953 - f1-score 0.886\n",
      "MACRO_AVG: acc 0.7614 - f1-score 0.8586333333333332\n",
      "ABBR       tp: 7 - fp: 3 - fn: 2 - tn: 488 - precision: 0.7000 - recall: 0.7778 - accuracy: 0.5833 - f1-score: 0.7369\n",
      "DESC       tp: 132 - fp: 17 - fn: 6 - tn: 345 - precision: 0.8859 - recall: 0.9565 - accuracy: 0.8516 - f1-score: 0.9198\n",
      "ENTY       tp: 63 - fp: 10 - fn: 31 - tn: 396 - precision: 0.8630 - recall: 0.6702 - accuracy: 0.6058 - f1-score: 0.7545\n",
      "HUM        tp: 58 - fp: 2 - fn: 7 - tn: 433 - precision: 0.9667 - recall: 0.8923 - accuracy: 0.8657 - f1-score: 0.9280\n",
      "LOC        tp: 78 - fp: 21 - fn: 3 - tn: 398 - precision: 0.7879 - recall: 0.9630 - accuracy: 0.7647 - f1-score: 0.8667\n",
      "NUM        tp: 105 - fp: 4 - fn: 8 - tn: 383 - precision: 0.9633 - recall: 0.9292 - accuracy: 0.8974 - f1-score: 0.9459\n",
      "2019-08-17 08:56:19,357 ----------------------------------------------------------------------------------------------------\n",
      "2019-08-17 08:56:42,308 {'LOC', 'NUM', 'DESC', 'ENTY', 'ABBR', 'HUM'}\n",
      "2019-08-17 08:56:42,310 The pre-trained model you are loading is a cased model but you have not set `do_lower_case` to False. We are setting `do_lower_case=False` for you but you may want to check this behavior.\n",
      "2019-08-17 08:56:55,009 ----------------------------------------------------------------------------------------------------\n",
      "2019-08-17 08:56:55,010 Evaluation method: MICRO_F1_SCORE\n",
      "2019-08-17 08:56:55,394 ----------------------------------------------------------------------------------------------------\n",
      "2019-08-17 08:56:56,791 epoch 1 - iter 0/63 - loss 1.83552372\n",
      "2019-08-17 08:57:01,372 epoch 1 - iter 6/63 - loss 7.00786531\n",
      "2019-08-17 08:57:05,399 epoch 1 - iter 12/63 - loss 5.17733529\n",
      "2019-08-17 08:57:10,138 epoch 1 - iter 18/63 - loss 4.19867386\n",
      "2019-08-17 08:57:14,587 epoch 1 - iter 24/63 - loss 3.57081143\n",
      "2019-08-17 08:57:18,814 epoch 1 - iter 30/63 - loss 3.14676528\n",
      "2019-08-17 08:57:23,158 epoch 1 - iter 36/63 - loss 2.80164379\n",
      "2019-08-17 08:57:27,686 epoch 1 - iter 42/63 - loss 2.54711255\n",
      "2019-08-17 08:57:32,504 epoch 1 - iter 48/63 - loss 2.32084416\n",
      "2019-08-17 08:57:36,952 epoch 1 - iter 54/63 - loss 2.15270523\n",
      "2019-08-17 08:57:41,455 epoch 1 - iter 60/63 - loss 2.02368139\n",
      "2019-08-17 08:57:43,094 ----------------------------------------------------------------------------------------------------\n",
      "2019-08-17 08:57:43,095 EPOCH 1 done: loss 1.9765 - lr 0.0010 - bad epochs 0\n",
      "2019-08-17 08:58:28,068 DEV : loss 0.4979739487171173 - score 0.841\n",
      "2019-08-17 08:58:36,486 TEST : loss 0.5274609923362732 - score 0.826\n",
      "2019-08-17 08:58:42,569 ----------------------------------------------------------------------------------------------------\n",
      "2019-08-17 08:58:44,010 epoch 2 - iter 0/63 - loss 0.41497025\n",
      "2019-08-17 08:58:49,006 epoch 2 - iter 6/63 - loss 0.44797878\n",
      "2019-08-17 08:58:53,443 epoch 2 - iter 12/63 - loss 0.52299442\n",
      "2019-08-17 08:58:58,057 epoch 2 - iter 18/63 - loss 0.52716151\n",
      "2019-08-17 08:59:02,710 epoch 2 - iter 24/63 - loss 0.50328635\n",
      "2019-08-17 08:59:07,267 epoch 2 - iter 30/63 - loss 0.52655608\n",
      "2019-08-17 08:59:12,277 epoch 2 - iter 36/63 - loss 0.53081026\n",
      "2019-08-17 08:59:16,551 epoch 2 - iter 42/63 - loss 0.51237280\n",
      "2019-08-17 08:59:21,208 epoch 2 - iter 48/63 - loss 0.49184674\n",
      "2019-08-17 08:59:25,374 epoch 2 - iter 54/63 - loss 0.48050359\n",
      "2019-08-17 08:59:29,938 epoch 2 - iter 60/63 - loss 0.48300367\n",
      "2019-08-17 08:59:31,128 ----------------------------------------------------------------------------------------------------\n",
      "2019-08-17 08:59:31,129 EPOCH 2 done: loss 0.4815 - lr 0.0010 - bad epochs 0\n",
      "2019-08-17 09:00:15,685 DEV : loss 0.26596054434776306 - score 0.91\n",
      "2019-08-17 09:00:24,102 TEST : loss 0.30573397874832153 - score 0.9\n",
      "2019-08-17 09:00:30,567 ----------------------------------------------------------------------------------------------------\n",
      "2019-08-17 09:00:31,974 epoch 3 - iter 0/63 - loss 0.25976244\n",
      "2019-08-17 09:00:36,406 epoch 3 - iter 6/63 - loss 0.24073298\n",
      "2019-08-17 09:00:40,724 epoch 3 - iter 12/63 - loss 0.32842478\n",
      "2019-08-17 09:00:44,689 epoch 3 - iter 18/63 - loss 0.32120113\n",
      "2019-08-17 09:00:48,803 epoch 3 - iter 24/63 - loss 0.29721624\n",
      "2019-08-17 09:00:53,655 epoch 3 - iter 30/63 - loss 0.28649042\n",
      "2019-08-17 09:00:58,165 epoch 3 - iter 36/63 - loss 0.30030574\n",
      "2019-08-17 09:01:02,415 epoch 3 - iter 42/63 - loss 0.29468503\n",
      "2019-08-17 09:01:07,446 epoch 3 - iter 48/63 - loss 0.29823827\n",
      "2019-08-17 09:01:12,238 epoch 3 - iter 54/63 - loss 0.29757594\n",
      "2019-08-17 09:01:17,144 epoch 3 - iter 60/63 - loss 0.30045887\n",
      "2019-08-17 09:01:18,417 ----------------------------------------------------------------------------------------------------\n",
      "2019-08-17 09:01:18,418 EPOCH 3 done: loss 0.2985 - lr 0.0010 - bad epochs 0\n"
     ]
    },
    {
     "name": "stdout",
     "output_type": "stream",
     "text": [
      "2019-08-17 09:02:03,889 DEV : loss 0.2357037216424942 - score 0.916\n",
      "2019-08-17 09:02:12,377 TEST : loss 0.3198506832122803 - score 0.888\n",
      "2019-08-17 09:02:22,128 ----------------------------------------------------------------------------------------------------\n",
      "2019-08-17 09:02:23,673 epoch 4 - iter 0/63 - loss 0.18794799\n",
      "2019-08-17 09:02:28,971 epoch 4 - iter 6/63 - loss 0.19233679\n",
      "2019-08-17 09:02:33,335 epoch 4 - iter 12/63 - loss 0.23846299\n",
      "2019-08-17 09:02:37,672 epoch 4 - iter 18/63 - loss 0.22381369\n",
      "2019-08-17 09:02:41,672 epoch 4 - iter 24/63 - loss 0.21182877\n",
      "2019-08-17 09:02:46,250 epoch 4 - iter 30/63 - loss 0.21003715\n",
      "2019-08-17 09:02:50,844 epoch 4 - iter 36/63 - loss 0.19693211\n",
      "2019-08-17 09:02:55,315 epoch 4 - iter 42/63 - loss 0.19483417\n",
      "2019-08-17 09:02:59,481 epoch 4 - iter 48/63 - loss 0.20569481\n",
      "2019-08-17 09:03:04,109 epoch 4 - iter 54/63 - loss 0.20341834\n",
      "2019-08-17 09:03:08,687 epoch 4 - iter 60/63 - loss 0.20423686\n",
      "2019-08-17 09:03:10,282 ----------------------------------------------------------------------------------------------------\n",
      "2019-08-17 09:03:10,283 EPOCH 4 done: loss 0.2070 - lr 0.0010 - bad epochs 0\n",
      "2019-08-17 09:03:55,323 DEV : loss 0.1647053062915802 - score 0.947\n",
      "2019-08-17 09:04:03,666 TEST : loss 0.3144012689590454 - score 0.9\n",
      "2019-08-17 09:04:17,875 ----------------------------------------------------------------------------------------------------\n",
      "2019-08-17 09:04:17,877 Testing using best model ...\n",
      "2019-08-17 09:04:17,878 loading file flair_resources/qc_en_uiuc/best-model.pt\n",
      "2019-08-17 09:04:26,459 0.9\t0.9\t0.9\n",
      "2019-08-17 09:04:26,460 \n",
      "MICRO_AVG: acc 0.8182 - f1-score 0.9\n",
      "MACRO_AVG: acc 0.8043 - f1-score 0.8902666666666668\n",
      "ABBR       tp: 8 - fp: 2 - fn: 1 - tn: 489 - precision: 0.8000 - recall: 0.8889 - accuracy: 0.7273 - f1-score: 0.8421\n",
      "DESC       tp: 126 - fp: 14 - fn: 12 - tn: 348 - precision: 0.9000 - recall: 0.9130 - accuracy: 0.8289 - f1-score: 0.9065\n",
      "ENTY       tp: 72 - fp: 7 - fn: 22 - tn: 399 - precision: 0.9114 - recall: 0.7660 - accuracy: 0.7129 - f1-score: 0.8324\n",
      "HUM        tp: 55 - fp: 0 - fn: 10 - tn: 435 - precision: 1.0000 - recall: 0.8462 - accuracy: 0.8462 - f1-score: 0.9167\n",
      "LOC        tp: 77 - fp: 9 - fn: 4 - tn: 410 - precision: 0.8953 - recall: 0.9506 - accuracy: 0.8556 - f1-score: 0.9221\n",
      "NUM        tp: 112 - fp: 18 - fn: 1 - tn: 369 - precision: 0.8615 - recall: 0.9912 - accuracy: 0.8550 - f1-score: 0.9218\n",
      "2019-08-17 09:04:26,461 ----------------------------------------------------------------------------------------------------\n",
      "2019-08-17 09:05:11,635 {'LOC', 'NUM', 'DESC', 'ENTY', 'ABBR', 'HUM'}\n",
      "2019-08-17 09:05:11,636 The pre-trained model you are loading is a cased model but you have not set `do_lower_case` to False. We are setting `do_lower_case=False` for you but you may want to check this behavior.\n",
      "2019-08-17 09:05:30,268 ----------------------------------------------------------------------------------------------------\n",
      "2019-08-17 09:05:30,269 Evaluation method: MICRO_F1_SCORE\n",
      "2019-08-17 09:05:30,666 ----------------------------------------------------------------------------------------------------\n",
      "2019-08-17 09:05:32,167 epoch 1 - iter 0/63 - loss 1.98549402\n",
      "2019-08-17 09:05:36,975 epoch 1 - iter 6/63 - loss 7.70452038\n",
      "2019-08-17 09:05:41,408 epoch 1 - iter 12/63 - loss 5.45272636\n",
      "2019-08-17 09:05:46,502 epoch 1 - iter 18/63 - loss 4.34578460\n",
      "2019-08-17 09:05:51,147 epoch 1 - iter 24/63 - loss 3.66283209\n",
      "2019-08-17 09:05:55,618 epoch 1 - iter 30/63 - loss 3.20636818\n",
      "2019-08-17 09:05:59,990 epoch 1 - iter 36/63 - loss 2.86806621\n",
      "2019-08-17 09:06:04,197 epoch 1 - iter 42/63 - loss 2.60405693\n",
      "2019-08-17 09:06:08,698 epoch 1 - iter 48/63 - loss 2.38737307\n",
      "2019-08-17 09:06:12,853 epoch 1 - iter 54/63 - loss 2.22372611\n",
      "2019-08-17 09:06:17,926 epoch 1 - iter 60/63 - loss 2.07725912\n",
      "2019-08-17 09:06:19,242 ----------------------------------------------------------------------------------------------------\n",
      "2019-08-17 09:06:19,243 EPOCH 1 done: loss 2.0405 - lr 0.0010 - bad epochs 0\n",
      "2019-08-17 09:07:03,708 DEV : loss 0.6178744435310364 - score 0.7825\n",
      "2019-08-17 09:07:12,156 TEST : loss 0.6432661414146423 - score 0.77\n",
      "2019-08-17 09:07:17,718 ----------------------------------------------------------------------------------------------------\n",
      "2019-08-17 09:07:19,116 epoch 2 - iter 0/63 - loss 0.58186609\n",
      "2019-08-17 09:07:24,348 epoch 2 - iter 6/63 - loss 0.59072540\n",
      "2019-08-17 09:07:28,643 epoch 2 - iter 12/63 - loss 0.64240391\n",
      "2019-08-17 09:07:32,503 epoch 2 - iter 18/63 - loss 0.62399433\n",
      "2019-08-17 09:07:36,516 epoch 2 - iter 24/63 - loss 0.61046551\n",
      "2019-08-17 09:07:41,084 epoch 2 - iter 30/63 - loss 0.61068156\n",
      "2019-08-17 09:07:45,434 epoch 2 - iter 36/63 - loss 0.59389358\n",
      "2019-08-17 09:07:50,064 epoch 2 - iter 42/63 - loss 0.62267056\n",
      "2019-08-17 09:07:54,361 epoch 2 - iter 48/63 - loss 0.60710591\n",
      "2019-08-17 09:07:58,737 epoch 2 - iter 54/63 - loss 0.60049000\n",
      "2019-08-17 09:08:03,488 epoch 2 - iter 60/63 - loss 0.58740419\n",
      "2019-08-17 09:08:04,945 ----------------------------------------------------------------------------------------------------\n",
      "2019-08-17 09:08:04,946 EPOCH 2 done: loss 0.5903 - lr 0.0010 - bad epochs 0\n",
      "2019-08-17 09:08:49,136 DEV : loss 0.3388519883155823 - score 0.8865\n",
      "2019-08-17 09:08:57,572 TEST : loss 0.2838050425052643 - score 0.908\n",
      "2019-08-17 09:09:03,456 ----------------------------------------------------------------------------------------------------\n",
      "2019-08-17 09:09:04,818 epoch 3 - iter 0/63 - loss 0.39156437\n",
      "2019-08-17 09:09:09,341 epoch 3 - iter 6/63 - loss 0.40880876\n",
      "2019-08-17 09:09:13,140 epoch 3 - iter 12/63 - loss 0.36600086\n",
      "2019-08-17 09:09:18,071 epoch 3 - iter 18/63 - loss 0.37420741\n",
      "2019-08-17 09:09:22,258 epoch 3 - iter 24/63 - loss 0.35913683\n",
      "2019-08-17 09:09:26,608 epoch 3 - iter 30/63 - loss 0.35625148\n",
      "2019-08-17 09:09:31,816 epoch 3 - iter 36/63 - loss 0.34196062\n",
      "2019-08-17 09:09:36,362 epoch 3 - iter 42/63 - loss 0.33498501\n",
      "2019-08-17 09:09:40,937 epoch 3 - iter 48/63 - loss 0.33188677\n",
      "2019-08-17 09:09:45,346 epoch 3 - iter 54/63 - loss 0.33656711\n",
      "2019-08-17 09:09:49,912 epoch 3 - iter 60/63 - loss 0.35743836\n",
      "2019-08-17 09:09:51,561 ----------------------------------------------------------------------------------------------------\n",
      "2019-08-17 09:09:51,562 EPOCH 3 done: loss 0.3644 - lr 0.0010 - bad epochs 0\n",
      "2019-08-17 09:10:36,114 DEV : loss 0.8556421399116516 - score 0.673\n",
      "2019-08-17 09:10:44,599 TEST : loss 0.8146323561668396 - score 0.706\n",
      "2019-08-17 09:10:44,623 ----------------------------------------------------------------------------------------------------\n",
      "2019-08-17 09:10:46,051 epoch 4 - iter 0/63 - loss 0.74992752\n",
      "2019-08-17 09:10:50,851 epoch 4 - iter 6/63 - loss 0.31161170\n",
      "2019-08-17 09:10:55,264 epoch 4 - iter 12/63 - loss 0.26796486\n",
      "2019-08-17 09:10:59,076 epoch 4 - iter 18/63 - loss 0.28554954\n",
      "2019-08-17 09:11:03,891 epoch 4 - iter 24/63 - loss 0.25636429\n",
      "2019-08-17 09:11:08,514 epoch 4 - iter 30/63 - loss 0.26295832\n",
      "2019-08-17 09:11:13,148 epoch 4 - iter 36/63 - loss 0.26102292\n",
      "2019-08-17 09:11:17,461 epoch 4 - iter 42/63 - loss 0.26446627\n",
      "2019-08-17 09:11:22,207 epoch 4 - iter 48/63 - loss 0.25863528\n",
      "2019-08-17 09:11:26,918 epoch 4 - iter 54/63 - loss 0.25749542\n",
      "2019-08-17 09:11:31,452 epoch 4 - iter 60/63 - loss 0.25894167\n",
      "2019-08-17 09:11:32,815 ----------------------------------------------------------------------------------------------------\n",
      "2019-08-17 09:11:32,816 EPOCH 4 done: loss 0.2590 - lr 0.0010 - bad epochs 1\n",
      "2019-08-17 09:12:17,350 DEV : loss 0.15529951453208923 - score 0.9515\n",
      "2019-08-17 09:12:25,872 TEST : loss 0.21988247334957123 - score 0.926\n",
      "2019-08-17 09:12:38,554 ----------------------------------------------------------------------------------------------------\n",
      "2019-08-17 09:12:38,555 Testing using best model ...\n",
      "2019-08-17 09:12:38,558 loading file flair_resources/qc_en_uiuc/best-model.pt\n",
      "2019-08-17 09:12:47,126 0.926\t0.926\t0.926\n",
      "2019-08-17 09:12:47,127 \n",
      "MICRO_AVG: acc 0.8622 - f1-score 0.926\n",
      "MACRO_AVG: acc 0.852 - f1-score 0.9189166666666666\n",
      "ABBR       tp: 8 - fp: 1 - fn: 1 - tn: 490 - precision: 0.8889 - recall: 0.8889 - accuracy: 0.8000 - f1-score: 0.8889\n",
      "DESC       tp: 131 - fp: 10 - fn: 7 - tn: 352 - precision: 0.9291 - recall: 0.9493 - accuracy: 0.8851 - f1-score: 0.9391\n",
      "ENTY       tp: 76 - fp: 7 - fn: 18 - tn: 399 - precision: 0.9157 - recall: 0.8085 - accuracy: 0.7525 - f1-score: 0.8588\n",
      "HUM        tp: 60 - fp: 1 - fn: 5 - tn: 434 - precision: 0.9836 - recall: 0.9231 - accuracy: 0.9091 - f1-score: 0.9524\n",
      "LOC        tp: 80 - fp: 14 - fn: 1 - tn: 405 - precision: 0.8511 - recall: 0.9877 - accuracy: 0.8421 - f1-score: 0.9143\n",
      "NUM        tp: 108 - fp: 4 - fn: 5 - tn: 383 - precision: 0.9643 - recall: 0.9558 - accuracy: 0.9231 - f1-score: 0.9600\n"
     ]
    },
    {
     "name": "stdout",
     "output_type": "stream",
     "text": [
      "2019-08-17 09:12:47,128 ----------------------------------------------------------------------------------------------------\n",
      "2019-08-17 09:13:31,106 {'LOC', 'NUM', 'DESC', 'ENTY', 'ABBR', 'HUM'}\n",
      "2019-08-17 09:13:31,108 The pre-trained model you are loading is a cased model but you have not set `do_lower_case` to False. We are setting `do_lower_case=False` for you but you may want to check this behavior.\n",
      "2019-08-17 09:13:49,550 ----------------------------------------------------------------------------------------------------\n",
      "2019-08-17 09:13:49,551 Evaluation method: MICRO_F1_SCORE\n",
      "2019-08-17 09:13:49,956 ----------------------------------------------------------------------------------------------------\n",
      "2019-08-17 09:13:51,473 epoch 1 - iter 0/94 - loss 1.81323349\n",
      "2019-08-17 09:13:58,089 epoch 1 - iter 9/94 - loss 7.05433103\n",
      "2019-08-17 09:14:04,433 epoch 1 - iter 18/94 - loss 4.81122203\n",
      "2019-08-17 09:14:11,394 epoch 1 - iter 27/94 - loss 3.72901098\n",
      "2019-08-17 09:14:17,848 epoch 1 - iter 36/94 - loss 3.10725600\n",
      "2019-08-17 09:14:25,146 epoch 1 - iter 45/94 - loss 2.67740575\n",
      "2019-08-17 09:14:31,885 epoch 1 - iter 54/94 - loss 2.42386727\n",
      "2019-08-17 09:14:38,486 epoch 1 - iter 63/94 - loss 2.19505385\n",
      "2019-08-17 09:14:45,114 epoch 1 - iter 72/94 - loss 2.01694375\n",
      "2019-08-17 09:14:51,469 epoch 1 - iter 81/94 - loss 1.88021266\n",
      "2019-08-17 09:14:57,745 epoch 1 - iter 90/94 - loss 1.73997740\n",
      "2019-08-17 09:15:00,084 ----------------------------------------------------------------------------------------------------\n",
      "2019-08-17 09:15:00,085 EPOCH 1 done: loss 1.7041 - lr 0.0010 - bad epochs 0\n",
      "2019-08-17 09:16:09,256 DEV : loss 0.46511179208755493 - score 0.8317\n",
      "2019-08-17 09:16:17,926 TEST : loss 0.44459182024002075 - score 0.842\n",
      "2019-08-17 09:16:23,557 ----------------------------------------------------------------------------------------------------\n",
      "2019-08-17 09:16:24,940 epoch 2 - iter 0/94 - loss 0.35033470\n",
      "2019-08-17 09:16:31,388 epoch 2 - iter 9/94 - loss 0.42382812\n",
      "2019-08-17 09:16:38,188 epoch 2 - iter 18/94 - loss 0.48553794\n",
      "2019-08-17 09:16:44,897 epoch 2 - iter 27/94 - loss 0.48753849\n",
      "2019-08-17 09:16:52,677 epoch 2 - iter 36/94 - loss 0.47500063\n",
      "2019-08-17 09:16:59,708 epoch 2 - iter 45/94 - loss 0.45832595\n",
      "2019-08-17 09:17:06,880 epoch 2 - iter 54/94 - loss 0.45149700\n",
      "2019-08-17 09:17:13,032 epoch 2 - iter 63/94 - loss 0.46203396\n",
      "2019-08-17 09:17:19,724 epoch 2 - iter 72/94 - loss 0.45346827\n",
      "2019-08-17 09:17:27,100 epoch 2 - iter 81/94 - loss 0.45121258\n",
      "2019-08-17 09:17:33,490 epoch 2 - iter 90/94 - loss 0.43890020\n",
      "2019-08-17 09:17:35,493 ----------------------------------------------------------------------------------------------------\n",
      "2019-08-17 09:17:35,495 EPOCH 2 done: loss 0.4469 - lr 0.0010 - bad epochs 0\n",
      "2019-08-17 09:18:42,421 DEV : loss 0.37514057755470276 - score 0.8587\n",
      "2019-08-17 09:18:50,814 TEST : loss 0.3267609179019928 - score 0.878\n",
      "2019-08-17 09:18:56,739 ----------------------------------------------------------------------------------------------------\n",
      "2019-08-17 09:18:58,161 epoch 3 - iter 0/94 - loss 0.29582918\n",
      "2019-08-17 09:19:04,642 epoch 3 - iter 9/94 - loss 0.30997196\n",
      "2019-08-17 09:19:10,771 epoch 3 - iter 18/94 - loss 0.34661070\n",
      "2019-08-17 09:19:18,055 epoch 3 - iter 27/94 - loss 0.32081561\n",
      "2019-08-17 09:19:24,671 epoch 3 - iter 36/94 - loss 0.30867564\n",
      "2019-08-17 09:19:31,523 epoch 3 - iter 45/94 - loss 0.31548490\n",
      "2019-08-17 09:19:39,185 epoch 3 - iter 54/94 - loss 0.30621515\n",
      "2019-08-17 09:19:46,313 epoch 3 - iter 63/94 - loss 0.31298364\n",
      "2019-08-17 09:19:52,872 epoch 3 - iter 72/94 - loss 0.30495540\n",
      "2019-08-17 09:19:59,596 epoch 3 - iter 81/94 - loss 0.29799778\n",
      "2019-08-17 09:20:06,876 epoch 3 - iter 90/94 - loss 0.29986241\n",
      "2019-08-17 09:20:08,934 ----------------------------------------------------------------------------------------------------\n",
      "2019-08-17 09:20:08,935 EPOCH 3 done: loss 0.2975 - lr 0.0010 - bad epochs 0\n",
      "2019-08-17 09:21:16,698 DEV : loss 0.17314253747463226 - score 0.9453\n",
      "2019-08-17 09:21:25,000 TEST : loss 0.2419089525938034 - score 0.906\n",
      "2019-08-17 09:21:31,546 ----------------------------------------------------------------------------------------------------\n",
      "2019-08-17 09:21:33,196 epoch 4 - iter 0/94 - loss 0.09503984\n",
      "2019-08-17 09:21:40,017 epoch 4 - iter 9/94 - loss 0.20041261\n",
      "2019-08-17 09:21:47,486 epoch 4 - iter 18/94 - loss 0.17010844\n",
      "2019-08-17 09:21:54,838 epoch 4 - iter 27/94 - loss 0.16879056\n",
      "2019-08-17 09:22:01,600 epoch 4 - iter 36/94 - loss 0.17236037\n",
      "2019-08-17 09:22:07,829 epoch 4 - iter 45/94 - loss 0.18224053\n",
      "2019-08-17 09:22:14,414 epoch 4 - iter 54/94 - loss 0.21774677\n",
      "2019-08-17 09:22:20,938 epoch 4 - iter 63/94 - loss 0.22491153\n",
      "2019-08-17 09:22:28,549 epoch 4 - iter 72/94 - loss 0.22305490\n",
      "2019-08-17 09:22:35,397 epoch 4 - iter 81/94 - loss 0.22084132\n",
      "2019-08-17 09:22:42,538 epoch 4 - iter 90/94 - loss 0.21433635\n",
      "2019-08-17 09:22:44,704 ----------------------------------------------------------------------------------------------------\n",
      "2019-08-17 09:22:44,705 EPOCH 4 done: loss 0.2108 - lr 0.0010 - bad epochs 0\n",
      "2019-08-17 09:23:52,506 DEV : loss 0.09171401709318161 - score 0.9707\n",
      "2019-08-17 09:24:00,790 TEST : loss 0.1448310762643814 - score 0.962\n",
      "2019-08-17 09:24:13,739 ----------------------------------------------------------------------------------------------------\n",
      "2019-08-17 09:24:13,741 Testing using best model ...\n",
      "2019-08-17 09:24:13,743 loading file flair_resources/qc_en_uiuc/best-model.pt\n",
      "2019-08-17 09:24:22,305 0.962\t0.962\t0.962\n",
      "2019-08-17 09:24:22,306 \n",
      "MICRO_AVG: acc 0.9268 - f1-score 0.962\n",
      "MACRO_AVG: acc 0.9103 - f1-score 0.9521000000000001\n",
      "ABBR       tp: 8 - fp: 1 - fn: 1 - tn: 490 - precision: 0.8889 - recall: 0.8889 - accuracy: 0.8000 - f1-score: 0.8889\n",
      "DESC       tp: 134 - fp: 6 - fn: 4 - tn: 356 - precision: 0.9571 - recall: 0.9710 - accuracy: 0.9306 - f1-score: 0.9640\n",
      "ENTY       tp: 89 - fp: 6 - fn: 5 - tn: 400 - precision: 0.9368 - recall: 0.9468 - accuracy: 0.8900 - f1-score: 0.9418\n",
      "HUM        tp: 64 - fp: 0 - fn: 1 - tn: 435 - precision: 1.0000 - recall: 0.9846 - accuracy: 0.9846 - f1-score: 0.9922\n",
      "LOC        tp: 78 - fp: 4 - fn: 3 - tn: 415 - precision: 0.9512 - recall: 0.9630 - accuracy: 0.9176 - f1-score: 0.9571\n",
      "NUM        tp: 108 - fp: 2 - fn: 5 - tn: 385 - precision: 0.9818 - recall: 0.9558 - accuracy: 0.9391 - f1-score: 0.9686\n",
      "2019-08-17 09:24:22,307 ----------------------------------------------------------------------------------------------------\n",
      "2019-08-17 09:25:29,419 {'LOC', 'NUM', 'DESC', 'ENTY', 'ABBR', 'HUM'}\n",
      "2019-08-17 09:25:29,420 The pre-trained model you are loading is a cased model but you have not set `do_lower_case` to False. We are setting `do_lower_case=False` for you but you may want to check this behavior.\n",
      "2019-08-17 09:25:46,713 ----------------------------------------------------------------------------------------------------\n",
      "2019-08-17 09:25:46,714 Evaluation method: MICRO_F1_SCORE\n",
      "2019-08-17 09:25:47,122 ----------------------------------------------------------------------------------------------------\n",
      "2019-08-17 09:25:48,560 epoch 1 - iter 0/94 - loss 1.89172328\n",
      "2019-08-17 09:25:55,953 epoch 1 - iter 9/94 - loss 7.65879264\n",
      "2019-08-17 09:26:02,273 epoch 1 - iter 18/94 - loss 5.37370690\n",
      "2019-08-17 09:26:09,174 epoch 1 - iter 27/94 - loss 4.09977759\n",
      "2019-08-17 09:26:15,880 epoch 1 - iter 36/94 - loss 3.36780848\n",
      "2019-08-17 09:26:22,011 epoch 1 - iter 45/94 - loss 2.85784016\n",
      "2019-08-17 09:26:29,033 epoch 1 - iter 54/94 - loss 2.50371595\n",
      "2019-08-17 09:26:35,819 epoch 1 - iter 63/94 - loss 2.25072968\n",
      "2019-08-17 09:26:42,583 epoch 1 - iter 72/94 - loss 2.06965866\n",
      "2019-08-17 09:26:49,692 epoch 1 - iter 81/94 - loss 1.90942348\n",
      "2019-08-17 09:26:56,477 epoch 1 - iter 90/94 - loss 1.76541395\n",
      "2019-08-17 09:26:58,922 ----------------------------------------------------------------------------------------------------\n",
      "2019-08-17 09:26:58,923 EPOCH 1 done: loss 1.7255 - lr 0.0010 - bad epochs 0\n",
      "2019-08-17 09:28:07,636 DEV : loss 0.3730846047401428 - score 0.8633\n",
      "2019-08-17 09:28:16,163 TEST : loss 0.3405619263648987 - score 0.886\n",
      "2019-08-17 09:28:21,737 ----------------------------------------------------------------------------------------------------\n"
     ]
    },
    {
     "name": "stdout",
     "output_type": "stream",
     "text": [
      "2019-08-17 09:28:23,293 epoch 2 - iter 0/94 - loss 0.36321509\n",
      "2019-08-17 09:28:30,102 epoch 2 - iter 9/94 - loss 0.37367314\n",
      "2019-08-17 09:28:36,695 epoch 2 - iter 18/94 - loss 0.34471758\n",
      "2019-08-17 09:28:43,518 epoch 2 - iter 27/94 - loss 0.35984362\n",
      "2019-08-17 09:28:49,813 epoch 2 - iter 36/94 - loss 0.37111155\n",
      "2019-08-17 09:28:57,099 epoch 2 - iter 45/94 - loss 0.37063751\n",
      "2019-08-17 09:29:03,814 epoch 2 - iter 54/94 - loss 0.37399277\n",
      "2019-08-17 09:29:11,272 epoch 2 - iter 63/94 - loss 0.37359442\n",
      "2019-08-17 09:29:17,911 epoch 2 - iter 72/94 - loss 0.37465983\n",
      "2019-08-17 09:29:24,899 epoch 2 - iter 81/94 - loss 0.37485730\n",
      "2019-08-17 09:29:31,303 epoch 2 - iter 90/94 - loss 0.36811808\n",
      "2019-08-17 09:29:33,383 ----------------------------------------------------------------------------------------------------\n",
      "2019-08-17 09:29:33,385 EPOCH 2 done: loss 0.3760 - lr 0.0010 - bad epochs 0\n",
      "2019-08-17 09:30:41,759 DEV : loss 0.2107694149017334 - score 0.939\n",
      "2019-08-17 09:30:50,111 TEST : loss 0.24756747484207153 - score 0.934\n",
      "2019-08-17 09:30:55,727 ----------------------------------------------------------------------------------------------------\n",
      "2019-08-17 09:30:57,154 epoch 3 - iter 0/94 - loss 0.19966030\n",
      "2019-08-17 09:31:03,894 epoch 3 - iter 9/94 - loss 0.18024958\n",
      "2019-08-17 09:31:10,493 epoch 3 - iter 18/94 - loss 0.20082216\n",
      "2019-08-17 09:31:16,766 epoch 3 - iter 27/94 - loss 0.19788808\n",
      "2019-08-17 09:31:23,193 epoch 3 - iter 36/94 - loss 0.20540898\n",
      "2019-08-17 09:31:31,185 epoch 3 - iter 45/94 - loss 0.23079868\n",
      "2019-08-17 09:31:37,615 epoch 3 - iter 54/94 - loss 0.22976830\n",
      "2019-08-17 09:31:44,938 epoch 3 - iter 63/94 - loss 0.22889002\n",
      "2019-08-17 09:31:51,685 epoch 3 - iter 72/94 - loss 0.23911227\n",
      "2019-08-17 09:31:58,676 epoch 3 - iter 81/94 - loss 0.24314027\n",
      "2019-08-17 09:32:05,132 epoch 3 - iter 90/94 - loss 0.23616514\n",
      "2019-08-17 09:32:07,670 ----------------------------------------------------------------------------------------------------\n",
      "2019-08-17 09:32:07,671 EPOCH 3 done: loss 0.2432 - lr 0.0010 - bad epochs 0\n",
      "2019-08-17 09:33:15,258 DEV : loss 0.19460561871528625 - score 0.9313\n",
      "2019-08-17 09:33:23,846 TEST : loss 0.38904014229774475 - score 0.87\n",
      "2019-08-17 09:33:23,848 ----------------------------------------------------------------------------------------------------\n",
      "2019-08-17 09:33:25,278 epoch 4 - iter 0/94 - loss 0.30171549\n",
      "2019-08-17 09:33:32,278 epoch 4 - iter 9/94 - loss 0.17074991\n",
      "2019-08-17 09:33:39,475 epoch 4 - iter 18/94 - loss 0.16189661\n",
      "2019-08-17 09:33:45,607 epoch 4 - iter 27/94 - loss 0.15367557\n",
      "2019-08-17 09:33:53,065 epoch 4 - iter 36/94 - loss 0.15572088\n",
      "2019-08-17 09:33:59,557 epoch 4 - iter 45/94 - loss 0.16386125\n",
      "2019-08-17 09:34:06,263 epoch 4 - iter 54/94 - loss 0.17277182\n",
      "2019-08-17 09:34:13,006 epoch 4 - iter 63/94 - loss 0.17223577\n",
      "2019-08-17 09:34:19,412 epoch 4 - iter 72/94 - loss 0.16543974\n",
      "2019-08-17 09:34:27,120 epoch 4 - iter 81/94 - loss 0.16470702\n",
      "2019-08-17 09:34:34,606 epoch 4 - iter 90/94 - loss 0.16652955\n",
      "2019-08-17 09:34:36,969 ----------------------------------------------------------------------------------------------------\n",
      "2019-08-17 09:34:36,970 EPOCH 4 done: loss 0.1677 - lr 0.0010 - bad epochs 1\n",
      "2019-08-17 09:35:45,101 DEV : loss 0.1398065686225891 - score 0.9487\n",
      "2019-08-17 09:35:53,643 TEST : loss 0.18644961714744568 - score 0.932\n",
      "2019-08-17 09:36:05,784 ----------------------------------------------------------------------------------------------------\n",
      "2019-08-17 09:36:05,785 Testing using best model ...\n",
      "2019-08-17 09:36:05,787 loading file flair_resources/qc_en_uiuc/best-model.pt\n",
      "2019-08-17 09:36:14,412 0.932\t0.932\t0.932\n",
      "2019-08-17 09:36:14,413 \n",
      "MICRO_AVG: acc 0.8727 - f1-score 0.932\n",
      "MACRO_AVG: acc 0.8585 - f1-score 0.9229166666666666\n",
      "ABBR       tp: 7 - fp: 0 - fn: 2 - tn: 491 - precision: 1.0000 - recall: 0.7778 - accuracy: 0.7778 - f1-score: 0.8750\n",
      "DESC       tp: 130 - fp: 5 - fn: 8 - tn: 357 - precision: 0.9630 - recall: 0.9420 - accuracy: 0.9091 - f1-score: 0.9524\n",
      "ENTY       tp: 88 - fp: 17 - fn: 6 - tn: 389 - precision: 0.8381 - recall: 0.9362 - accuracy: 0.7928 - f1-score: 0.8844\n",
      "HUM        tp: 59 - fp: 0 - fn: 6 - tn: 435 - precision: 1.0000 - recall: 0.9077 - accuracy: 0.9077 - f1-score: 0.9516\n",
      "LOC        tp: 78 - fp: 9 - fn: 3 - tn: 410 - precision: 0.8966 - recall: 0.9630 - accuracy: 0.8667 - f1-score: 0.9286\n",
      "NUM        tp: 104 - fp: 3 - fn: 9 - tn: 384 - precision: 0.9720 - recall: 0.9204 - accuracy: 0.8966 - f1-score: 0.9455\n",
      "2019-08-17 09:36:14,415 ----------------------------------------------------------------------------------------------------\n",
      "2019-08-17 09:37:20,911 {'LOC', 'NUM', 'DESC', 'ENTY', 'ABBR', 'HUM'}\n",
      "2019-08-17 09:37:20,913 The pre-trained model you are loading is a cased model but you have not set `do_lower_case` to False. We are setting `do_lower_case=False` for you but you may want to check this behavior.\n",
      "2019-08-17 09:37:40,549 ----------------------------------------------------------------------------------------------------\n",
      "2019-08-17 09:37:40,550 Evaluation method: MICRO_F1_SCORE\n",
      "2019-08-17 09:37:40,977 ----------------------------------------------------------------------------------------------------\n",
      "2019-08-17 09:37:42,676 epoch 1 - iter 0/125 - loss 1.83033657\n",
      "2019-08-17 09:37:51,854 epoch 1 - iter 12/125 - loss 5.34938025\n",
      "2019-08-17 09:38:00,193 epoch 1 - iter 24/125 - loss 3.60182542\n",
      "2019-08-17 09:38:09,667 epoch 1 - iter 36/125 - loss 2.83139236\n",
      "2019-08-17 09:38:18,951 epoch 1 - iter 48/125 - loss 2.38571101\n",
      "2019-08-17 09:38:27,015 epoch 1 - iter 60/125 - loss 2.07256774\n",
      "2019-08-17 09:38:46,428 epoch 1 - iter 72/125 - loss 1.85129016\n",
      "2019-08-17 09:38:56,982 epoch 1 - iter 84/125 - loss 1.69882976\n",
      "2019-08-17 09:39:06,962 epoch 1 - iter 96/125 - loss 1.56442167\n",
      "2019-08-17 09:39:47,056 epoch 1 - iter 108/125 - loss 1.44883919\n",
      "2019-08-17 09:40:00,443 epoch 1 - iter 120/125 - loss 1.36339529\n",
      "2019-08-17 09:40:05,404 ----------------------------------------------------------------------------------------------------\n",
      "2019-08-17 09:40:05,405 EPOCH 1 done: loss 1.3331 - lr 0.0010 - bad epochs 0\n",
      "2019-08-17 09:41:36,118 DEV : loss 0.38794904947280884 - score 0.8652\n",
      "2019-08-17 09:41:44,519 TEST : loss 0.32463061809539795 - score 0.892\n",
      "2019-08-17 09:41:50,296 ----------------------------------------------------------------------------------------------------\n",
      "2019-08-17 09:41:51,875 epoch 2 - iter 0/125 - loss 0.30555883\n",
      "2019-08-17 09:42:01,306 epoch 2 - iter 12/125 - loss 0.43366098\n",
      "2019-08-17 09:42:10,712 epoch 2 - iter 24/125 - loss 0.45289527\n",
      "2019-08-17 09:42:19,964 epoch 2 - iter 36/125 - loss 0.43502566\n",
      "2019-08-17 09:42:28,576 epoch 2 - iter 48/125 - loss 0.42862016\n",
      "2019-08-17 09:42:37,272 epoch 2 - iter 60/125 - loss 0.42185088\n",
      "2019-08-17 09:42:46,522 epoch 2 - iter 72/125 - loss 0.41718165\n",
      "2019-08-17 09:42:55,627 epoch 2 - iter 84/125 - loss 0.42407499\n",
      "2019-08-17 09:43:05,082 epoch 2 - iter 96/125 - loss 0.42970620\n",
      "2019-08-17 09:43:14,649 epoch 2 - iter 108/125 - loss 0.41106450\n",
      "2019-08-17 09:43:23,326 epoch 2 - iter 120/125 - loss 0.40952523\n",
      "2019-08-17 09:43:26,301 ----------------------------------------------------------------------------------------------------\n",
      "2019-08-17 09:43:26,302 EPOCH 2 done: loss 0.4029 - lr 0.0010 - bad epochs 0\n",
      "2019-08-17 09:44:58,344 DEV : loss 0.2714671492576599 - score 0.9038\n",
      "2019-08-17 09:45:07,014 TEST : loss 0.24754071235656738 - score 0.93\n",
      "2019-08-17 09:45:12,573 ----------------------------------------------------------------------------------------------------\n",
      "2019-08-17 09:45:14,830 epoch 3 - iter 0/125 - loss 0.12972747\n",
      "2019-08-17 09:45:23,078 epoch 3 - iter 12/125 - loss 0.23093388\n",
      "2019-08-17 09:45:32,162 epoch 3 - iter 24/125 - loss 0.23993136\n",
      "2019-08-17 09:45:41,541 epoch 3 - iter 36/125 - loss 0.23589915\n",
      "2019-08-17 09:45:50,396 epoch 3 - iter 48/125 - loss 0.25181883\n",
      "2019-08-17 09:45:59,372 epoch 3 - iter 60/125 - loss 0.26845816\n",
      "2019-08-17 09:46:08,879 epoch 3 - iter 72/125 - loss 0.26985107\n",
      "2019-08-17 09:46:17,710 epoch 3 - iter 84/125 - loss 0.27742244\n",
      "2019-08-17 09:46:26,440 epoch 3 - iter 96/125 - loss 0.28946980\n",
      "2019-08-17 09:46:35,727 epoch 3 - iter 108/125 - loss 0.28999985\n",
      "2019-08-17 09:46:44,674 epoch 3 - iter 120/125 - loss 0.28670478\n"
     ]
    },
    {
     "name": "stdout",
     "output_type": "stream",
     "text": [
      "2019-08-17 09:46:48,044 ----------------------------------------------------------------------------------------------------\n",
      "2019-08-17 09:46:48,045 EPOCH 3 done: loss 0.2926 - lr 0.0010 - bad epochs 0\n",
      "2019-08-17 09:48:20,042 DEV : loss 0.1856355220079422 - score 0.9353\n",
      "2019-08-17 09:48:28,231 TEST : loss 0.2246459424495697 - score 0.922\n",
      "2019-08-17 09:48:33,762 ----------------------------------------------------------------------------------------------------\n",
      "2019-08-17 09:48:35,252 epoch 4 - iter 0/125 - loss 0.17332019\n",
      "2019-08-17 09:48:45,187 epoch 4 - iter 12/125 - loss 0.17830779\n",
      "2019-08-17 09:48:54,064 epoch 4 - iter 24/125 - loss 0.18016282\n",
      "2019-08-17 09:49:03,899 epoch 4 - iter 36/125 - loss 0.21307701\n",
      "2019-08-17 09:49:12,490 epoch 4 - iter 48/125 - loss 0.20307417\n",
      "2019-08-17 09:49:21,304 epoch 4 - iter 60/125 - loss 0.21196498\n",
      "2019-08-17 09:49:30,500 epoch 4 - iter 72/125 - loss 0.20856720\n",
      "2019-08-17 09:49:39,222 epoch 4 - iter 84/125 - loss 0.21077075\n",
      "2019-08-17 09:49:49,143 epoch 4 - iter 96/125 - loss 0.20965021\n",
      "2019-08-17 09:49:57,658 epoch 4 - iter 108/125 - loss 0.20730217\n",
      "2019-08-17 09:50:06,646 epoch 4 - iter 120/125 - loss 0.20788108\n",
      "2019-08-17 09:50:09,917 ----------------------------------------------------------------------------------------------------\n",
      "2019-08-17 09:50:09,918 EPOCH 4 done: loss 0.2075 - lr 0.0010 - bad epochs 0\n",
      "2019-08-17 09:51:41,293 DEV : loss 0.16234450042247772 - score 0.9527\n",
      "2019-08-17 09:51:49,781 TEST : loss 0.28304523229599 - score 0.914\n",
      "2019-08-17 09:52:02,034 ----------------------------------------------------------------------------------------------------\n",
      "2019-08-17 09:52:02,035 Testing using best model ...\n",
      "2019-08-17 09:52:02,037 loading file flair_resources/qc_en_uiuc/best-model.pt\n",
      "2019-08-17 09:52:11,340 0.914\t0.914\t0.914\n",
      "2019-08-17 09:52:11,342 \n",
      "MICRO_AVG: acc 0.8416 - f1-score 0.914\n",
      "MACRO_AVG: acc 0.84 - f1-score 0.9111166666666666\n",
      "ABBR       tp: 9 - fp: 2 - fn: 0 - tn: 489 - precision: 0.8182 - recall: 1.0000 - accuracy: 0.8182 - f1-score: 0.9000\n",
      "DESC       tp: 128 - fp: 1 - fn: 10 - tn: 361 - precision: 0.9922 - recall: 0.9275 - accuracy: 0.9209 - f1-score: 0.9588\n",
      "ENTY       tp: 74 - fp: 4 - fn: 20 - tn: 402 - precision: 0.9487 - recall: 0.7872 - accuracy: 0.7551 - f1-score: 0.8604\n",
      "HUM        tp: 64 - fp: 2 - fn: 1 - tn: 433 - precision: 0.9697 - recall: 0.9846 - accuracy: 0.9552 - f1-score: 0.9771\n",
      "LOC        tp: 80 - fp: 26 - fn: 1 - tn: 393 - precision: 0.7547 - recall: 0.9877 - accuracy: 0.7477 - f1-score: 0.8556\n",
      "NUM        tp: 102 - fp: 8 - fn: 11 - tn: 379 - precision: 0.9273 - recall: 0.9027 - accuracy: 0.8430 - f1-score: 0.9148\n",
      "2019-08-17 09:52:11,343 ----------------------------------------------------------------------------------------------------\n",
      "2019-08-17 09:53:41,173 {'LOC', 'NUM', 'DESC', 'ENTY', 'ABBR', 'HUM'}\n",
      "2019-08-17 09:53:41,175 The pre-trained model you are loading is a cased model but you have not set `do_lower_case` to False. We are setting `do_lower_case=False` for you but you may want to check this behavior.\n",
      "2019-08-17 09:54:02,318 ----------------------------------------------------------------------------------------------------\n",
      "2019-08-17 09:54:02,319 Evaluation method: MICRO_F1_SCORE\n",
      "2019-08-17 09:54:02,874 ----------------------------------------------------------------------------------------------------\n",
      "2019-08-17 09:54:04,631 epoch 1 - iter 0/125 - loss 2.15179944\n",
      "2019-08-17 09:54:14,436 epoch 1 - iter 12/125 - loss 7.48156255\n",
      "2019-08-17 09:54:23,523 epoch 1 - iter 24/125 - loss 4.75816356\n",
      "2019-08-17 09:54:31,710 epoch 1 - iter 36/125 - loss 3.59403638\n",
      "2019-08-17 09:54:41,789 epoch 1 - iter 48/125 - loss 2.92504738\n",
      "2019-08-17 09:54:52,509 epoch 1 - iter 60/125 - loss 2.48581277\n",
      "2019-08-17 09:55:01,047 epoch 1 - iter 72/125 - loss 2.16825587\n",
      "2019-08-17 09:55:10,162 epoch 1 - iter 84/125 - loss 1.94916959\n",
      "2019-08-17 09:55:19,417 epoch 1 - iter 96/125 - loss 1.78081570\n",
      "2019-08-17 09:55:30,728 epoch 1 - iter 108/125 - loss 1.63870229\n",
      "2019-08-17 09:55:39,548 epoch 1 - iter 120/125 - loss 1.53818488\n",
      "2019-08-17 09:55:42,915 ----------------------------------------------------------------------------------------------------\n",
      "2019-08-17 09:55:42,917 EPOCH 1 done: loss 1.5047 - lr 0.0010 - bad epochs 0\n",
      "2019-08-17 09:57:15,046 DEV : loss 0.34229323267936707 - score 0.8868\n",
      "2019-08-17 09:57:23,651 TEST : loss 0.2938419580459595 - score 0.914\n",
      "2019-08-17 09:57:29,742 ----------------------------------------------------------------------------------------------------\n",
      "2019-08-17 09:57:31,650 epoch 2 - iter 0/125 - loss 0.23576544\n",
      "2019-08-17 09:57:40,633 epoch 2 - iter 12/125 - loss 0.37855749\n",
      "2019-08-17 09:57:49,205 epoch 2 - iter 24/125 - loss 0.35818346\n",
      "2019-08-17 09:57:58,454 epoch 2 - iter 36/125 - loss 0.39721324\n",
      "2019-08-17 09:58:07,187 epoch 2 - iter 48/125 - loss 0.38375272\n",
      "2019-08-17 09:58:16,585 epoch 2 - iter 60/125 - loss 0.36466232\n",
      "2019-08-17 09:58:25,838 epoch 2 - iter 72/125 - loss 0.36571232\n",
      "2019-08-17 09:58:34,890 epoch 2 - iter 84/125 - loss 0.36343616\n",
      "2019-08-17 09:58:43,645 epoch 2 - iter 96/125 - loss 0.36130479\n",
      "2019-08-17 09:58:53,010 epoch 2 - iter 108/125 - loss 0.36560547\n",
      "2019-08-17 09:59:02,206 epoch 2 - iter 120/125 - loss 0.36450631\n",
      "2019-08-17 09:59:05,375 ----------------------------------------------------------------------------------------------------\n",
      "2019-08-17 09:59:05,377 EPOCH 2 done: loss 0.3607 - lr 0.0010 - bad epochs 0\n",
      "2019-08-17 10:00:36,498 DEV : loss 0.22397707402706146 - score 0.9237\n",
      "2019-08-17 10:00:44,819 TEST : loss 0.2163800299167633 - score 0.92\n",
      "2019-08-17 10:00:50,411 ----------------------------------------------------------------------------------------------------\n",
      "2019-08-17 10:00:51,936 epoch 3 - iter 0/125 - loss 0.19042940\n",
      "2019-08-17 10:01:00,594 epoch 3 - iter 12/125 - loss 0.25225608\n",
      "2019-08-17 10:01:10,441 epoch 3 - iter 24/125 - loss 0.26864032\n",
      "2019-08-17 10:01:18,808 epoch 3 - iter 36/125 - loss 0.25979186\n",
      "2019-08-17 10:01:27,411 epoch 3 - iter 48/125 - loss 0.26094884\n",
      "2019-08-17 10:01:36,403 epoch 3 - iter 60/125 - loss 0.25066233\n",
      "2019-08-17 10:01:44,900 epoch 3 - iter 72/125 - loss 0.25075504\n",
      "2019-08-17 10:01:54,144 epoch 3 - iter 84/125 - loss 0.24350321\n",
      "2019-08-17 10:02:02,336 epoch 3 - iter 96/125 - loss 0.24527850\n",
      "2019-08-17 10:02:12,036 epoch 3 - iter 108/125 - loss 0.24476291\n",
      "2019-08-17 10:02:22,013 epoch 3 - iter 120/125 - loss 0.25107631\n",
      "2019-08-17 10:02:25,196 ----------------------------------------------------------------------------------------------------\n",
      "2019-08-17 10:02:25,197 EPOCH 3 done: loss 0.2506 - lr 0.0010 - bad epochs 0\n",
      "2019-08-17 10:03:56,121 DEV : loss 0.2035381942987442 - score 0.9323\n",
      "2019-08-17 10:04:05,042 TEST : loss 0.20549260079860687 - score 0.93\n",
      "2019-08-17 10:04:10,779 ----------------------------------------------------------------------------------------------------\n",
      "2019-08-17 10:04:12,454 epoch 4 - iter 0/125 - loss 0.15287769\n",
      "2019-08-17 10:04:22,214 epoch 4 - iter 12/125 - loss 0.22512285\n",
      "2019-08-17 10:04:30,852 epoch 4 - iter 24/125 - loss 0.21546337\n",
      "2019-08-17 10:04:39,524 epoch 4 - iter 36/125 - loss 0.20162854\n",
      "2019-08-17 10:04:49,424 epoch 4 - iter 48/125 - loss 0.20397180\n",
      "2019-08-17 10:04:58,358 epoch 4 - iter 60/125 - loss 0.20013579\n",
      "2019-08-17 10:05:07,794 epoch 4 - iter 72/125 - loss 0.18983183\n",
      "2019-08-17 10:05:17,474 epoch 4 - iter 84/125 - loss 0.20289623\n",
      "2019-08-17 10:05:27,509 epoch 4 - iter 96/125 - loss 0.20273738\n",
      "2019-08-17 10:05:36,393 epoch 4 - iter 108/125 - loss 0.19961279\n",
      "2019-08-17 10:05:45,781 epoch 4 - iter 120/125 - loss 0.19830143\n",
      "2019-08-17 10:05:48,944 ----------------------------------------------------------------------------------------------------\n",
      "2019-08-17 10:05:48,945 EPOCH 4 done: loss 0.1984 - lr 0.0010 - bad epochs 0\n",
      "2019-08-17 10:07:18,872 DEV : loss 0.10913112014532089 - score 0.9643\n",
      "2019-08-17 10:07:27,480 TEST : loss 0.1665256917476654 - score 0.934\n",
      "2019-08-17 10:07:39,430 ----------------------------------------------------------------------------------------------------\n",
      "2019-08-17 10:07:39,431 Testing using best model ...\n",
      "2019-08-17 10:07:39,433 loading file flair_resources/qc_en_uiuc/best-model.pt\n",
      "2019-08-17 10:07:48,836 0.934\t0.934\t0.934\n"
     ]
    },
    {
     "name": "stdout",
     "output_type": "stream",
     "text": [
      "2019-08-17 10:07:48,837 \n",
      "MICRO_AVG: acc 0.8762 - f1-score 0.934\n",
      "MACRO_AVG: acc 0.8825 - f1-score 0.9367166666666668\n",
      "ABBR       tp: 9 - fp: 1 - fn: 0 - tn: 490 - precision: 0.9000 - recall: 1.0000 - accuracy: 0.9000 - f1-score: 0.9474\n",
      "DESC       tp: 126 - fp: 3 - fn: 12 - tn: 359 - precision: 0.9767 - recall: 0.9130 - accuracy: 0.8936 - f1-score: 0.9438\n",
      "ENTY       tp: 87 - fp: 19 - fn: 7 - tn: 387 - precision: 0.8208 - recall: 0.9255 - accuracy: 0.7699 - f1-score: 0.8700\n",
      "HUM        tp: 62 - fp: 2 - fn: 3 - tn: 433 - precision: 0.9688 - recall: 0.9538 - accuracy: 0.9254 - f1-score: 0.9612\n",
      "LOC        tp: 76 - fp: 5 - fn: 5 - tn: 414 - precision: 0.9383 - recall: 0.9383 - accuracy: 0.8837 - f1-score: 0.9383\n",
      "NUM        tp: 107 - fp: 3 - fn: 6 - tn: 384 - precision: 0.9727 - recall: 0.9469 - accuracy: 0.9224 - f1-score: 0.9596\n",
      "2019-08-17 10:07:48,838 ----------------------------------------------------------------------------------------------------\n",
      "2019-08-17 10:09:19,024 {'LOC', 'NUM', 'DESC', 'ENTY', 'ABBR', 'HUM'}\n",
      "2019-08-17 10:09:19,026 The pre-trained model you are loading is a cased model but you have not set `do_lower_case` to False. We are setting `do_lower_case=False` for you but you may want to check this behavior.\n",
      "2019-08-17 10:09:41,261 ----------------------------------------------------------------------------------------------------\n",
      "2019-08-17 10:09:41,262 Evaluation method: MICRO_F1_SCORE\n",
      "2019-08-17 10:09:41,824 ----------------------------------------------------------------------------------------------------\n",
      "2019-08-17 10:09:43,668 epoch 1 - iter 0/171 - loss 2.54782581\n",
      "2019-08-17 10:09:56,505 epoch 1 - iter 17/171 - loss 4.19941683\n",
      "2019-08-17 10:10:09,792 epoch 1 - iter 34/171 - loss 3.05903447\n",
      "2019-08-17 10:10:34,486 epoch 1 - iter 51/171 - loss 2.58649680\n",
      "2019-08-17 10:10:46,802 epoch 1 - iter 68/171 - loss 2.26146200\n",
      "2019-08-17 10:10:59,236 epoch 1 - iter 85/171 - loss 2.03795112\n",
      "2019-08-17 10:11:12,760 epoch 1 - iter 102/171 - loss 1.82667234\n",
      "2019-08-17 10:11:26,257 epoch 1 - iter 119/171 - loss 1.65225368\n",
      "2019-08-17 10:11:39,062 epoch 1 - iter 136/171 - loss 1.52182012\n",
      "2019-08-17 10:11:51,456 epoch 1 - iter 153/171 - loss 1.40340582\n",
      "2019-08-17 10:12:03,286 epoch 1 - iter 170/171 - loss 1.31630341\n",
      "2019-08-17 10:12:03,655 ----------------------------------------------------------------------------------------------------\n",
      "2019-08-17 10:12:03,657 EPOCH 1 done: loss 1.3163 - lr 0.0010 - bad epochs 0\n",
      "2019-08-17 10:14:07,723 DEV : loss 0.4105185270309448 - score 0.8606\n",
      "2019-08-17 10:14:16,596 TEST : loss 0.37079620361328125 - score 0.872\n",
      "2019-08-17 10:14:22,737 ----------------------------------------------------------------------------------------------------\n",
      "2019-08-17 10:14:24,575 epoch 2 - iter 0/171 - loss 0.37746575\n",
      "2019-08-17 10:14:37,229 epoch 2 - iter 17/171 - loss 0.36154513\n",
      "2019-08-17 10:14:49,736 epoch 2 - iter 34/171 - loss 0.37256912\n",
      "2019-08-17 10:15:01,772 epoch 2 - iter 51/171 - loss 0.36847569\n",
      "2019-08-17 10:15:14,879 epoch 2 - iter 68/171 - loss 0.35584556\n",
      "2019-08-17 10:15:27,817 epoch 2 - iter 85/171 - loss 0.34932380\n",
      "2019-08-17 10:15:40,464 epoch 2 - iter 102/171 - loss 0.35952464\n",
      "2019-08-17 10:15:53,953 epoch 2 - iter 119/171 - loss 0.36594273\n",
      "2019-08-17 10:16:05,411 epoch 2 - iter 136/171 - loss 0.36438407\n",
      "2019-08-17 10:16:19,463 epoch 2 - iter 153/171 - loss 0.35923902\n",
      "2019-08-17 10:16:31,883 epoch 2 - iter 170/171 - loss 0.35439739\n",
      "2019-08-17 10:16:32,217 ----------------------------------------------------------------------------------------------------\n",
      "2019-08-17 10:16:32,219 EPOCH 2 done: loss 0.3544 - lr 0.0010 - bad epochs 0\n",
      "2019-08-17 10:18:34,720 DEV : loss 0.21472050249576569 - score 0.9264\n",
      "2019-08-17 10:18:43,356 TEST : loss 0.2071896344423294 - score 0.922\n",
      "2019-08-17 10:18:49,253 ----------------------------------------------------------------------------------------------------\n",
      "2019-08-17 10:18:50,864 epoch 3 - iter 0/171 - loss 0.11238936\n",
      "2019-08-17 10:19:03,549 epoch 3 - iter 17/171 - loss 0.23275417\n",
      "2019-08-17 10:19:16,259 epoch 3 - iter 34/171 - loss 0.23732238\n",
      "2019-08-17 10:19:28,699 epoch 3 - iter 51/171 - loss 0.24516568\n",
      "2019-08-17 10:19:41,525 epoch 3 - iter 68/171 - loss 0.23592059\n",
      "2019-08-17 10:19:54,079 epoch 3 - iter 85/171 - loss 0.23648060\n",
      "2019-08-17 10:20:07,293 epoch 3 - iter 102/171 - loss 0.24042411\n",
      "2019-08-17 10:20:20,681 epoch 3 - iter 119/171 - loss 0.24910129\n",
      "2019-08-17 10:20:31,944 epoch 3 - iter 136/171 - loss 0.25018827\n",
      "2019-08-17 10:20:46,165 epoch 3 - iter 153/171 - loss 0.25511848\n",
      "2019-08-17 10:20:58,799 epoch 3 - iter 170/171 - loss 0.25481571\n",
      "2019-08-17 10:20:59,119 ----------------------------------------------------------------------------------------------------\n",
      "2019-08-17 10:20:59,120 EPOCH 3 done: loss 0.2548 - lr 0.0010 - bad epochs 0\n",
      "2019-08-17 10:23:01,571 DEV : loss 0.17214342951774597 - score 0.9439\n",
      "2019-08-17 10:23:10,029 TEST : loss 0.1827569305896759 - score 0.94\n",
      "2019-08-17 10:23:15,480 ----------------------------------------------------------------------------------------------------\n",
      "2019-08-17 10:23:17,148 epoch 4 - iter 0/171 - loss 0.11599030\n",
      "2019-08-17 10:23:30,586 epoch 4 - iter 17/171 - loss 0.17380155\n",
      "2019-08-17 10:23:43,624 epoch 4 - iter 34/171 - loss 0.19592016\n",
      "2019-08-17 10:23:55,805 epoch 4 - iter 51/171 - loss 0.20012053\n",
      "2019-08-17 10:24:08,306 epoch 4 - iter 68/171 - loss 0.19190680\n",
      "2019-08-17 10:24:20,693 epoch 4 - iter 85/171 - loss 0.19848928\n",
      "2019-08-17 10:24:34,193 epoch 4 - iter 102/171 - loss 0.20147847\n",
      "2019-08-17 10:24:46,937 epoch 4 - iter 119/171 - loss 0.19536821\n",
      "2019-08-17 10:25:00,073 epoch 4 - iter 136/171 - loss 0.19363117\n",
      "2019-08-17 10:25:12,490 epoch 4 - iter 153/171 - loss 0.18675468\n",
      "2019-08-17 10:25:23,960 epoch 4 - iter 170/171 - loss 0.19181391\n",
      "2019-08-17 10:25:24,290 ----------------------------------------------------------------------------------------------------\n",
      "2019-08-17 10:25:24,291 EPOCH 4 done: loss 0.1918 - lr 0.0010 - bad epochs 0\n",
      "2019-08-17 10:27:26,909 DEV : loss 0.3300025463104248 - score 0.8808\n",
      "2019-08-17 10:27:35,770 TEST : loss 0.3264099359512329 - score 0.88\n",
      "2019-08-17 10:27:41,538 ----------------------------------------------------------------------------------------------------\n",
      "2019-08-17 10:27:41,540 Testing using best model ...\n",
      "2019-08-17 10:27:41,541 loading file flair_resources/qc_en_uiuc/best-model.pt\n",
      "2019-08-17 10:27:58,501 0.94\t0.94\t0.94\n",
      "2019-08-17 10:27:58,503 \n",
      "MICRO_AVG: acc 0.8868 - f1-score 0.94\n",
      "MACRO_AVG: acc 0.874 - f1-score 0.9308833333333334\n",
      "ABBR       tp: 8 - fp: 1 - fn: 1 - tn: 490 - precision: 0.8889 - recall: 0.8889 - accuracy: 0.8000 - f1-score: 0.8889\n",
      "DESC       tp: 135 - fp: 9 - fn: 3 - tn: 353 - precision: 0.9375 - recall: 0.9783 - accuracy: 0.9184 - f1-score: 0.9575\n",
      "ENTY       tp: 73 - fp: 4 - fn: 21 - tn: 402 - precision: 0.9481 - recall: 0.7766 - accuracy: 0.7449 - f1-score: 0.8538\n",
      "HUM        tp: 65 - fp: 2 - fn: 0 - tn: 433 - precision: 0.9701 - recall: 1.0000 - accuracy: 0.9701 - f1-score: 0.9848\n",
      "LOC        tp: 80 - fp: 10 - fn: 1 - tn: 409 - precision: 0.8889 - recall: 0.9877 - accuracy: 0.8791 - f1-score: 0.9357\n",
      "NUM        tp: 109 - fp: 4 - fn: 4 - tn: 383 - precision: 0.9646 - recall: 0.9646 - accuracy: 0.9316 - f1-score: 0.9646\n",
      "2019-08-17 10:27:58,503 ----------------------------------------------------------------------------------------------------\n",
      "2019-08-17 10:29:59,446 {'LOC', 'NUM', 'DESC', 'ENTY', 'ABBR', 'HUM'}\n",
      "2019-08-17 10:29:59,449 The pre-trained model you are loading is a cased model but you have not set `do_lower_case` to False. We are setting `do_lower_case=False` for you but you may want to check this behavior.\n",
      "2019-08-17 10:30:19,225 ----------------------------------------------------------------------------------------------------\n",
      "2019-08-17 10:30:19,226 Evaluation method: MICRO_F1_SCORE\n",
      "2019-08-17 10:30:19,801 ----------------------------------------------------------------------------------------------------\n",
      "2019-08-17 10:30:21,236 epoch 1 - iter 0/171 - loss 1.84172857\n",
      "2019-08-17 10:30:35,451 epoch 1 - iter 17/171 - loss 4.97255100\n",
      "2019-08-17 10:30:48,168 epoch 1 - iter 34/171 - loss 3.10538036\n",
      "2019-08-17 10:31:00,398 epoch 1 - iter 51/171 - loss 2.32072920\n"
     ]
    },
    {
     "name": "stdout",
     "output_type": "stream",
     "text": [
      "2019-08-17 10:31:13,236 epoch 1 - iter 68/171 - loss 1.90518217\n",
      "2019-08-17 10:31:30,350 epoch 1 - iter 85/171 - loss 1.63942695\n",
      "2019-08-17 10:31:42,878 epoch 1 - iter 102/171 - loss 1.44468410\n",
      "2019-08-17 10:31:55,321 epoch 1 - iter 119/171 - loss 1.30967549\n",
      "2019-08-17 10:32:08,693 epoch 1 - iter 136/171 - loss 1.19669949\n",
      "2019-08-17 10:32:20,760 epoch 1 - iter 153/171 - loss 1.11269406\n",
      "2019-08-17 10:32:32,956 epoch 1 - iter 170/171 - loss 1.04411441\n",
      "2019-08-17 10:32:33,729 ----------------------------------------------------------------------------------------------------\n",
      "2019-08-17 10:32:33,731 EPOCH 1 done: loss 1.0441 - lr 0.0010 - bad epochs 0\n",
      "2019-08-17 10:34:38,355 DEV : loss 0.2695559561252594 - score 0.9118\n",
      "2019-08-17 10:34:46,985 TEST : loss 0.23475687205791473 - score 0.93\n",
      "2019-08-17 10:34:52,856 ----------------------------------------------------------------------------------------------------\n",
      "2019-08-17 10:34:55,116 epoch 2 - iter 0/171 - loss 0.30169415\n",
      "2019-08-17 10:35:07,904 epoch 2 - iter 17/171 - loss 0.30118965\n",
      "2019-08-17 10:35:20,558 epoch 2 - iter 34/171 - loss 0.29166694\n",
      "2019-08-17 10:35:33,652 epoch 2 - iter 51/171 - loss 0.30218288\n",
      "2019-08-17 10:35:46,072 epoch 2 - iter 68/171 - loss 0.31856610\n",
      "2019-08-17 10:35:58,476 epoch 2 - iter 85/171 - loss 0.31300949\n",
      "2019-08-17 10:36:11,552 epoch 2 - iter 102/171 - loss 0.30336342\n",
      "2019-08-17 10:36:24,473 epoch 2 - iter 119/171 - loss 0.30364659\n",
      "2019-08-17 10:36:36,720 epoch 2 - iter 136/171 - loss 0.30711242\n",
      "2019-08-17 10:36:49,096 epoch 2 - iter 153/171 - loss 0.30194962\n",
      "2019-08-17 10:37:01,636 epoch 2 - iter 170/171 - loss 0.30015563\n",
      "2019-08-17 10:37:01,982 ----------------------------------------------------------------------------------------------------\n",
      "2019-08-17 10:37:01,983 EPOCH 2 done: loss 0.3002 - lr 0.0010 - bad epochs 0\n",
      "2019-08-17 10:39:04,388 DEV : loss 0.19882234930992126 - score 0.9347\n",
      "2019-08-17 10:39:12,877 TEST : loss 0.1888767033815384 - score 0.94\n",
      "2019-08-17 10:39:18,728 ----------------------------------------------------------------------------------------------------\n",
      "2019-08-17 10:39:20,268 epoch 3 - iter 0/171 - loss 0.11028200\n",
      "2019-08-17 10:39:32,979 epoch 3 - iter 17/171 - loss 0.19646938\n",
      "2019-08-17 10:39:46,163 epoch 3 - iter 34/171 - loss 0.22017564\n",
      "2019-08-17 10:39:59,031 epoch 3 - iter 51/171 - loss 0.22428937\n",
      "2019-08-17 10:40:11,779 epoch 3 - iter 68/171 - loss 0.23209043\n",
      "2019-08-17 10:40:25,024 epoch 3 - iter 85/171 - loss 0.23153686\n",
      "2019-08-17 10:40:38,135 epoch 3 - iter 102/171 - loss 0.23003073\n",
      "2019-08-17 10:40:50,511 epoch 3 - iter 119/171 - loss 0.22543844\n",
      "2019-08-17 10:41:03,176 epoch 3 - iter 136/171 - loss 0.22738836\n",
      "2019-08-17 10:41:16,611 epoch 3 - iter 153/171 - loss 0.22691448\n",
      "2019-08-17 10:41:28,855 epoch 3 - iter 170/171 - loss 0.22817933\n",
      "2019-08-17 10:41:29,189 ----------------------------------------------------------------------------------------------------\n",
      "2019-08-17 10:41:29,190 EPOCH 3 done: loss 0.2282 - lr 0.0010 - bad epochs 0\n",
      "2019-08-17 10:43:31,837 DEV : loss 0.19502437114715576 - score 0.9298\n",
      "2019-08-17 10:43:40,460 TEST : loss 0.27908334136009216 - score 0.91\n",
      "2019-08-17 10:43:40,478 ----------------------------------------------------------------------------------------------------\n",
      "2019-08-17 10:43:42,091 epoch 4 - iter 0/171 - loss 0.23694207\n",
      "2019-08-17 10:43:54,941 epoch 4 - iter 17/171 - loss 0.13562275\n",
      "2019-08-17 10:44:07,897 epoch 4 - iter 34/171 - loss 0.15831363\n",
      "2019-08-17 10:44:21,769 epoch 4 - iter 51/171 - loss 0.16331673\n",
      "2019-08-17 10:44:34,191 epoch 4 - iter 68/171 - loss 0.17824095\n",
      "2019-08-17 10:44:46,409 epoch 4 - iter 85/171 - loss 0.18572429\n",
      "2019-08-17 10:44:59,408 epoch 4 - iter 102/171 - loss 0.18137334\n",
      "2019-08-17 10:45:13,464 epoch 4 - iter 119/171 - loss 0.17887844\n",
      "2019-08-17 10:45:26,335 epoch 4 - iter 136/171 - loss 0.17772274\n",
      "2019-08-17 10:45:38,664 epoch 4 - iter 153/171 - loss 0.18526467\n",
      "2019-08-17 10:45:50,537 epoch 4 - iter 170/171 - loss 0.18470570\n",
      "2019-08-17 10:45:50,864 ----------------------------------------------------------------------------------------------------\n",
      "2019-08-17 10:45:50,866 EPOCH 4 done: loss 0.1847 - lr 0.0010 - bad epochs 1\n",
      "2019-08-17 10:47:54,577 DEV : loss 0.10317479074001312 - score 0.9633\n",
      "2019-08-17 10:48:03,046 TEST : loss 0.1851862668991089 - score 0.93\n",
      "2019-08-17 10:48:15,646 ----------------------------------------------------------------------------------------------------\n",
      "2019-08-17 10:48:15,647 Testing using best model ...\n",
      "2019-08-17 10:48:15,649 loading file flair_resources/qc_en_uiuc/best-model.pt\n",
      "2019-08-17 10:48:25,107 0.93\t0.93\t0.93\n",
      "2019-08-17 10:48:25,109 \n",
      "MICRO_AVG: acc 0.8692 - f1-score 0.93\n",
      "MACRO_AVG: acc 0.8719 - f1-score 0.9300666666666667\n",
      "ABBR       tp: 9 - fp: 1 - fn: 0 - tn: 490 - precision: 0.9000 - recall: 1.0000 - accuracy: 0.9000 - f1-score: 0.9474\n",
      "DESC       tp: 132 - fp: 7 - fn: 6 - tn: 355 - precision: 0.9496 - recall: 0.9565 - accuracy: 0.9103 - f1-score: 0.9530\n",
      "ENTY       tp: 75 - fp: 9 - fn: 19 - tn: 397 - precision: 0.8929 - recall: 0.7979 - accuracy: 0.7282 - f1-score: 0.8427\n",
      "HUM        tp: 64 - fp: 5 - fn: 1 - tn: 430 - precision: 0.9275 - recall: 0.9846 - accuracy: 0.9143 - f1-score: 0.9552\n",
      "LOC        tp: 77 - fp: 9 - fn: 4 - tn: 410 - precision: 0.8953 - recall: 0.9506 - accuracy: 0.8556 - f1-score: 0.9221\n",
      "NUM        tp: 108 - fp: 4 - fn: 5 - tn: 383 - precision: 0.9643 - recall: 0.9558 - accuracy: 0.9231 - f1-score: 0.9600\n",
      "2019-08-17 10:48:25,110 ----------------------------------------------------------------------------------------------------\n",
      "2019-08-17 10:50:26,990 {'LOC', 'NUM', 'DESC', 'ENTY', 'ABBR', 'HUM'}\n",
      "2019-08-17 10:50:26,992 The pre-trained model you are loading is a cased model but you have not set `do_lower_case` to False. We are setting `do_lower_case=False` for you but you may want to check this behavior.\n",
      "2019-08-17 10:50:46,370 ----------------------------------------------------------------------------------------------------\n",
      "2019-08-17 10:50:46,371 Evaluation method: MICRO_F1_SCORE\n",
      "2019-08-17 10:50:46,963 ----------------------------------------------------------------------------------------------------\n",
      "2019-08-17 10:50:48,922 epoch 1 - iter 0/32 - loss 1.85066009\n",
      "2019-08-17 10:50:51,542 epoch 1 - iter 3/32 - loss 9.91570395\n",
      "2019-08-17 10:50:54,193 epoch 1 - iter 6/32 - loss 7.45605128\n",
      "2019-08-17 10:50:57,216 epoch 1 - iter 9/32 - loss 6.00398040\n",
      "2019-08-17 10:51:00,319 epoch 1 - iter 12/32 - loss 5.14257708\n",
      "2019-08-17 10:51:02,766 epoch 1 - iter 15/32 - loss 4.51367966\n",
      "2019-08-17 10:51:05,417 epoch 1 - iter 18/32 - loss 4.07222893\n",
      "2019-08-17 10:51:08,006 epoch 1 - iter 21/32 - loss 3.74858841\n",
      "2019-08-17 10:51:11,199 epoch 1 - iter 24/32 - loss 3.49130449\n",
      "2019-08-17 10:51:14,554 epoch 1 - iter 27/32 - loss 3.29825624\n",
      "2019-08-17 10:51:16,865 epoch 1 - iter 30/32 - loss 3.12846474\n",
      "2019-08-17 10:51:17,400 ----------------------------------------------------------------------------------------------------\n",
      "2019-08-17 10:51:17,401 EPOCH 1 done: loss 3.0691 - lr 0.0010 - bad epochs 0\n",
      "2019-08-17 10:51:45,346 DEV : loss 1.6598615646362305 - score 0.329\n",
      "2019-08-17 10:52:16,919 TEST : loss 1.9550172090530396 - score 0.1875\n",
      "2019-08-17 10:52:23,328 ----------------------------------------------------------------------------------------------------\n",
      "2019-08-17 10:52:25,161 epoch 2 - iter 0/32 - loss 1.94566298\n",
      "2019-08-17 10:52:28,398 epoch 2 - iter 3/32 - loss 1.55522788\n",
      "2019-08-17 10:52:30,964 epoch 2 - iter 6/32 - loss 1.59790225\n",
      "2019-08-17 10:52:33,512 epoch 2 - iter 9/32 - loss 1.56165929\n",
      "2019-08-17 10:52:36,234 epoch 2 - iter 12/32 - loss 1.62705565\n",
      "2019-08-17 10:52:39,921 epoch 2 - iter 15/32 - loss 1.56994811\n",
      "2019-08-17 10:52:42,956 epoch 2 - iter 18/32 - loss 1.59206240\n",
      "2019-08-17 10:52:45,744 epoch 2 - iter 21/32 - loss 1.54293442\n",
      "2019-08-17 10:52:48,224 epoch 2 - iter 24/32 - loss 1.49663936\n",
      "2019-08-17 10:52:50,866 epoch 2 - iter 27/32 - loss 1.46831257\n",
      "2019-08-17 10:52:53,391 epoch 2 - iter 30/32 - loss 1.47282235\n",
      "2019-08-17 10:52:53,948 ----------------------------------------------------------------------------------------------------\n",
      "2019-08-17 10:52:53,949 EPOCH 2 done: loss 1.4888 - lr 0.0010 - bad epochs 0\n"
     ]
    },
    {
     "name": "stdout",
     "output_type": "stream",
     "text": [
      "2019-08-17 10:53:22,635 DEV : loss 0.9155165553092957 - score 0.642\n",
      "2019-08-17 10:53:54,409 TEST : loss 0.9028897881507874 - score 0.6901\n",
      "2019-08-17 10:54:01,032 ----------------------------------------------------------------------------------------------------\n",
      "2019-08-17 10:54:02,836 epoch 3 - iter 0/32 - loss 0.91624880\n",
      "2019-08-17 10:54:05,431 epoch 3 - iter 3/32 - loss 0.85368271\n",
      "2019-08-17 10:54:08,300 epoch 3 - iter 6/32 - loss 0.82884765\n",
      "2019-08-17 10:54:11,671 epoch 3 - iter 9/32 - loss 0.82783107\n",
      "2019-08-17 10:54:14,095 epoch 3 - iter 12/32 - loss 0.83458025\n",
      "2019-08-17 10:54:17,030 epoch 3 - iter 15/32 - loss 0.81725820\n",
      "2019-08-17 10:54:19,853 epoch 3 - iter 18/32 - loss 0.80729662\n",
      "2019-08-17 10:54:22,408 epoch 3 - iter 21/32 - loss 0.81678014\n",
      "2019-08-17 10:54:25,545 epoch 3 - iter 24/32 - loss 0.80426239\n",
      "2019-08-17 10:54:28,501 epoch 3 - iter 27/32 - loss 0.80894031\n",
      "2019-08-17 10:54:31,533 epoch 3 - iter 30/32 - loss 0.82052761\n",
      "2019-08-17 10:54:32,114 ----------------------------------------------------------------------------------------------------\n",
      "2019-08-17 10:54:32,116 EPOCH 3 done: loss 0.8062 - lr 0.0010 - bad epochs 0\n",
      "2019-08-17 10:55:01,204 DEV : loss 0.695434033870697 - score 0.698\n",
      "2019-08-17 10:55:32,196 TEST : loss 0.9206268787384033 - score 0.6686\n",
      "2019-08-17 10:55:38,334 ----------------------------------------------------------------------------------------------------\n",
      "2019-08-17 10:55:40,089 epoch 4 - iter 0/32 - loss 0.73029089\n",
      "2019-08-17 10:55:43,208 epoch 4 - iter 3/32 - loss 0.55664118\n",
      "2019-08-17 10:55:46,235 epoch 4 - iter 6/32 - loss 0.54886087\n",
      "2019-08-17 10:55:48,837 epoch 4 - iter 9/32 - loss 0.55350930\n",
      "2019-08-17 10:55:51,876 epoch 4 - iter 12/32 - loss 0.58030910\n",
      "2019-08-17 10:55:54,358 epoch 4 - iter 15/32 - loss 0.57989032\n",
      "2019-08-17 10:55:56,836 epoch 4 - iter 18/32 - loss 0.55774935\n",
      "2019-08-17 10:55:59,780 epoch 4 - iter 21/32 - loss 0.54248280\n",
      "2019-08-17 10:56:02,529 epoch 4 - iter 24/32 - loss 0.54120632\n",
      "2019-08-17 10:56:05,769 epoch 4 - iter 27/32 - loss 0.56093817\n",
      "2019-08-17 10:56:08,568 epoch 4 - iter 30/32 - loss 0.57069868\n",
      "2019-08-17 10:56:09,105 ----------------------------------------------------------------------------------------------------\n",
      "2019-08-17 10:56:09,106 EPOCH 4 done: loss 0.5715 - lr 0.0010 - bad epochs 0\n",
      "2019-08-17 10:56:37,555 DEV : loss 0.36417412757873535 - score 0.877\n",
      "2019-08-17 10:57:08,696 TEST : loss 0.8874601125717163 - score 0.7242\n",
      "2019-08-17 10:57:21,726 ----------------------------------------------------------------------------------------------------\n",
      "2019-08-17 10:57:21,727 Testing using best model ...\n",
      "2019-08-17 10:57:21,729 loading file flair_resources/qc_en_uiuc/best-model.pt\n",
      "2019-08-17 10:57:52,157 0.7242\t0.7242\t0.7242\n",
      "2019-08-17 10:57:52,159 \n",
      "MICRO_AVG: acc 0.5677 - f1-score 0.7242\n",
      "MACRO_AVG: acc 0.4422 - f1-score 0.5574833333333334\n",
      "ABBR       tp: 0 - fp: 15 - fn: 0 - tn: 1334 - precision: 0.0000 - recall: 0.0000 - accuracy: 0.0000 - f1-score: 0.0000\n",
      "DESC       tp: 83 - fp: 32 - fn: 166 - tn: 1068 - precision: 0.7217 - recall: 0.3333 - accuracy: 0.2954 - f1-score: 0.4560\n",
      "ENTY       tp: 67 - fp: 85 - fn: 77 - tn: 1120 - precision: 0.4408 - recall: 0.4653 - accuracy: 0.2926 - f1-score: 0.4527\n",
      "HUM        tp: 305 - fp: 191 - fn: 2 - tn: 851 - precision: 0.6149 - recall: 0.9935 - accuracy: 0.6124 - f1-score: 0.7596\n",
      "LOC        tp: 170 - fp: 23 - fn: 75 - tn: 1081 - precision: 0.8808 - recall: 0.6939 - accuracy: 0.6343 - f1-score: 0.7763\n",
      "NUM        tp: 352 - fp: 26 - fn: 52 - tn: 919 - precision: 0.9312 - recall: 0.8713 - accuracy: 0.8186 - f1-score: 0.9003\n",
      "2019-08-17 10:57:52,160 ----------------------------------------------------------------------------------------------------\n",
      "2019-08-17 10:58:19,481 {'LOC', 'NUM', 'DESC', 'ENTY', 'ABBR', 'HUM'}\n",
      "2019-08-17 10:58:19,483 The pre-trained model you are loading is a cased model but you have not set `do_lower_case` to False. We are setting `do_lower_case=False` for you but you may want to check this behavior.\n",
      "2019-08-17 10:58:39,199 ----------------------------------------------------------------------------------------------------\n",
      "2019-08-17 10:58:39,200 Evaluation method: MICRO_F1_SCORE\n",
      "2019-08-17 10:58:39,701 ----------------------------------------------------------------------------------------------------\n",
      "2019-08-17 10:58:41,673 epoch 1 - iter 0/32 - loss 1.86682796\n",
      "2019-08-17 10:58:45,247 epoch 1 - iter 3/32 - loss 11.40414071\n",
      "2019-08-17 10:58:47,843 epoch 1 - iter 6/32 - loss 9.46142496\n",
      "2019-08-17 10:58:50,718 epoch 1 - iter 9/32 - loss 7.69125732\n",
      "2019-08-17 10:58:53,739 epoch 1 - iter 12/32 - loss 6.59042842\n",
      "2019-08-17 10:58:56,854 epoch 1 - iter 15/32 - loss 5.92122092\n",
      "2019-08-17 10:58:59,173 epoch 1 - iter 18/32 - loss 5.27473788\n",
      "2019-08-17 10:59:02,296 epoch 1 - iter 21/32 - loss 4.77452012\n",
      "2019-08-17 10:59:04,790 epoch 1 - iter 24/32 - loss 4.39472453\n",
      "2019-08-17 10:59:07,513 epoch 1 - iter 27/32 - loss 4.08375641\n",
      "2019-08-17 10:59:09,818 epoch 1 - iter 30/32 - loss 3.82563103\n",
      "2019-08-17 10:59:10,377 ----------------------------------------------------------------------------------------------------\n",
      "2019-08-17 10:59:10,378 EPOCH 1 done: loss 3.7453 - lr 0.0010 - bad epochs 0\n",
      "2019-08-17 10:59:38,194 DEV : loss 1.7092900276184082 - score 0.313\n",
      "2019-08-17 11:00:09,584 TEST : loss 1.800122857093811 - score 0.2039\n",
      "2019-08-17 11:00:15,611 ----------------------------------------------------------------------------------------------------\n",
      "2019-08-17 11:00:17,399 epoch 2 - iter 0/32 - loss 1.54246724\n",
      "2019-08-17 11:00:20,710 epoch 2 - iter 3/32 - loss 1.39777398\n",
      "2019-08-17 11:00:23,380 epoch 2 - iter 6/32 - loss 1.32568623\n",
      "2019-08-17 11:00:26,436 epoch 2 - iter 9/32 - loss 1.32466450\n",
      "2019-08-17 11:00:29,248 epoch 2 - iter 12/32 - loss 1.31333212\n",
      "2019-08-17 11:00:31,813 epoch 2 - iter 15/32 - loss 1.42358250\n",
      "2019-08-17 11:00:35,278 epoch 2 - iter 18/32 - loss 1.37449793\n",
      "2019-08-17 11:00:38,070 epoch 2 - iter 21/32 - loss 1.33434329\n",
      "2019-08-17 11:00:40,731 epoch 2 - iter 24/32 - loss 1.31107485\n",
      "2019-08-17 11:00:43,167 epoch 2 - iter 27/32 - loss 1.31548975\n",
      "2019-08-17 11:00:45,703 epoch 2 - iter 30/32 - loss 1.27972121\n",
      "2019-08-17 11:00:46,259 ----------------------------------------------------------------------------------------------------\n",
      "2019-08-17 11:00:46,260 EPOCH 2 done: loss 1.2623 - lr 0.0010 - bad epochs 0\n",
      "2019-08-17 11:01:14,489 DEV : loss 1.568221926689148 - score 0.42\n",
      "2019-08-17 11:01:46,365 TEST : loss 1.8008637428283691 - score 0.3773\n",
      "2019-08-17 11:01:53,103 ----------------------------------------------------------------------------------------------------\n",
      "2019-08-17 11:01:54,931 epoch 3 - iter 0/32 - loss 1.76050043\n",
      "2019-08-17 11:01:57,594 epoch 3 - iter 3/32 - loss 1.05755039\n",
      "2019-08-17 11:02:01,010 epoch 3 - iter 6/32 - loss 0.96458009\n",
      "2019-08-17 11:02:03,867 epoch 3 - iter 9/32 - loss 0.89660759\n",
      "2019-08-17 11:02:07,407 epoch 3 - iter 12/32 - loss 0.85205260\n",
      "2019-08-17 11:02:10,180 epoch 3 - iter 15/32 - loss 0.82166903\n",
      "2019-08-17 11:02:12,980 epoch 3 - iter 18/32 - loss 0.85050378\n",
      "2019-08-17 11:02:15,478 epoch 3 - iter 21/32 - loss 0.82743075\n",
      "2019-08-17 11:02:17,844 epoch 3 - iter 24/32 - loss 0.80406260\n",
      "2019-08-17 11:02:20,467 epoch 3 - iter 27/32 - loss 0.79149078\n",
      "2019-08-17 11:02:23,055 epoch 3 - iter 30/32 - loss 0.75907946\n",
      "2019-08-17 11:02:23,588 ----------------------------------------------------------------------------------------------------\n",
      "2019-08-17 11:02:23,589 EPOCH 3 done: loss 0.7484 - lr 0.0010 - bad epochs 0\n",
      "2019-08-17 11:02:51,864 DEV : loss 0.8816856741905212 - score 0.668\n",
      "2019-08-17 11:03:23,060 TEST : loss 1.7956957817077637 - score 0.5056\n",
      "2019-08-17 11:03:29,470 ----------------------------------------------------------------------------------------------------\n",
      "2019-08-17 11:03:31,225 epoch 4 - iter 0/32 - loss 1.04015088\n",
      "2019-08-17 11:03:34,319 epoch 4 - iter 3/32 - loss 0.52192950\n",
      "2019-08-17 11:03:37,059 epoch 4 - iter 6/32 - loss 0.44958802\n",
      "2019-08-17 11:03:40,121 epoch 4 - iter 9/32 - loss 0.43592467\n",
      "2019-08-17 11:03:43,053 epoch 4 - iter 12/32 - loss 0.41131347\n",
      "2019-08-17 11:03:45,556 epoch 4 - iter 15/32 - loss 0.40800886\n",
      "2019-08-17 11:03:48,156 epoch 4 - iter 18/32 - loss 0.40729402\n"
     ]
    },
    {
     "name": "stdout",
     "output_type": "stream",
     "text": [
      "2019-08-17 11:03:50,812 epoch 4 - iter 21/32 - loss 0.40521612\n",
      "2019-08-17 11:03:53,862 epoch 4 - iter 24/32 - loss 0.39665372\n",
      "2019-08-17 11:03:57,415 epoch 4 - iter 27/32 - loss 0.39045922\n",
      "2019-08-17 11:04:00,321 epoch 4 - iter 30/32 - loss 0.38527540\n",
      "2019-08-17 11:04:00,906 ----------------------------------------------------------------------------------------------------\n",
      "2019-08-17 11:04:00,907 EPOCH 4 done: loss 0.3867 - lr 0.0010 - bad epochs 0\n",
      "2019-08-17 11:04:29,483 DEV : loss 0.45042726397514343 - score 0.823\n",
      "2019-08-17 11:05:01,306 TEST : loss 1.1431770324707031 - score 0.6768\n",
      "2019-08-17 11:05:14,160 ----------------------------------------------------------------------------------------------------\n",
      "2019-08-17 11:05:14,162 Testing using best model ...\n",
      "2019-08-17 11:05:14,164 loading file flair_resources/qc_en_uiuc/best-model.pt\n",
      "2019-08-17 11:05:46,519 0.6768\t0.6768\t0.6768\n",
      "2019-08-17 11:05:46,521 \n",
      "MICRO_AVG: acc 0.5115 - f1-score 0.6768\n",
      "MACRO_AVG: acc 0.4054 - f1-score 0.5225833333333333\n",
      "ABBR       tp: 0 - fp: 15 - fn: 0 - tn: 1334 - precision: 0.0000 - recall: 0.0000 - accuracy: 0.0000 - f1-score: 0.0000\n",
      "DESC       tp: 75 - fp: 37 - fn: 174 - tn: 1063 - precision: 0.6696 - recall: 0.3012 - accuracy: 0.2622 - f1-score: 0.4155\n",
      "ENTY       tp: 122 - fp: 255 - fn: 22 - tn: 950 - precision: 0.3236 - recall: 0.8472 - accuracy: 0.3058 - f1-score: 0.4683\n",
      "HUM        tp: 282 - fp: 70 - fn: 25 - tn: 972 - precision: 0.8011 - recall: 0.9186 - accuracy: 0.7480 - f1-score: 0.8558\n",
      "LOC        tp: 93 - fp: 5 - fn: 152 - tn: 1099 - precision: 0.9490 - recall: 0.3796 - accuracy: 0.3720 - f1-score: 0.5423\n",
      "NUM        tp: 341 - fp: 54 - fn: 63 - tn: 891 - precision: 0.8633 - recall: 0.8441 - accuracy: 0.7445 - f1-score: 0.8536\n",
      "2019-08-17 11:05:46,522 ----------------------------------------------------------------------------------------------------\n",
      "2019-08-17 11:06:14,375 {'LOC', 'NUM', 'DESC', 'ENTY', 'ABBR', 'HUM'}\n",
      "2019-08-17 11:06:14,376 The pre-trained model you are loading is a cased model but you have not set `do_lower_case` to False. We are setting `do_lower_case=False` for you but you may want to check this behavior.\n",
      "2019-08-17 11:06:33,675 ----------------------------------------------------------------------------------------------------\n",
      "2019-08-17 11:06:33,676 Evaluation method: MICRO_F1_SCORE\n",
      "2019-08-17 11:06:34,176 ----------------------------------------------------------------------------------------------------\n",
      "2019-08-17 11:06:36,281 epoch 1 - iter 0/63 - loss 2.04925847\n",
      "2019-08-17 11:06:41,619 epoch 1 - iter 6/63 - loss 7.89016550\n",
      "2019-08-17 11:06:46,387 epoch 1 - iter 12/63 - loss 6.02747299\n",
      "2019-08-17 11:06:52,376 epoch 1 - iter 18/63 - loss 5.16318138\n",
      "2019-08-17 11:06:58,162 epoch 1 - iter 24/63 - loss 4.34812327\n",
      "2019-08-17 11:07:03,181 epoch 1 - iter 30/63 - loss 3.86831443\n",
      "2019-08-17 11:07:08,115 epoch 1 - iter 36/63 - loss 3.47769529\n",
      "2019-08-17 11:07:17,612 epoch 1 - iter 42/63 - loss 3.20809334\n",
      "2019-08-17 11:07:23,665 epoch 1 - iter 48/63 - loss 2.95165990\n",
      "2019-08-17 11:07:28,674 epoch 1 - iter 54/63 - loss 2.74759818\n",
      "2019-08-17 11:07:33,729 epoch 1 - iter 60/63 - loss 2.59630879\n",
      "2019-08-17 11:07:35,409 ----------------------------------------------------------------------------------------------------\n",
      "2019-08-17 11:07:35,410 EPOCH 1 done: loss 2.5407 - lr 0.0010 - bad epochs 0\n",
      "2019-08-17 11:08:32,740 DEV : loss 0.9225161075592041 - score 0.653\n",
      "2019-08-17 11:09:04,463 TEST : loss 0.9046733975410461 - score 0.6946\n",
      "2019-08-17 11:09:10,168 ----------------------------------------------------------------------------------------------------\n",
      "2019-08-17 11:09:12,476 epoch 2 - iter 0/63 - loss 0.79089087\n",
      "2019-08-17 11:09:18,395 epoch 2 - iter 6/63 - loss 0.88694471\n",
      "2019-08-17 11:09:23,879 epoch 2 - iter 12/63 - loss 0.86273199\n",
      "2019-08-17 11:09:28,810 epoch 2 - iter 18/63 - loss 0.83198288\n",
      "2019-08-17 11:09:34,316 epoch 2 - iter 24/63 - loss 0.80704008\n",
      "2019-08-17 11:09:41,578 epoch 2 - iter 30/63 - loss 0.77512337\n",
      "2019-08-17 11:09:47,522 epoch 2 - iter 36/63 - loss 0.75942954\n",
      "2019-08-17 11:09:53,507 epoch 2 - iter 42/63 - loss 0.77351587\n",
      "2019-08-17 11:09:59,179 epoch 2 - iter 48/63 - loss 0.75421991\n",
      "2019-08-17 11:10:04,819 epoch 2 - iter 54/63 - loss 0.74455101\n",
      "2019-08-17 11:10:10,022 epoch 2 - iter 60/63 - loss 0.72537174\n",
      "2019-08-17 11:10:11,800 ----------------------------------------------------------------------------------------------------\n",
      "2019-08-17 11:10:11,802 EPOCH 2 done: loss 0.7275 - lr 0.0010 - bad epochs 0\n",
      "2019-08-17 11:11:07,168 DEV : loss 0.6478584408760071 - score 0.7685\n",
      "2019-08-17 11:11:38,564 TEST : loss 0.8602783679962158 - score 0.7354\n",
      "2019-08-17 11:11:44,630 ----------------------------------------------------------------------------------------------------\n",
      "2019-08-17 11:11:46,637 epoch 3 - iter 0/63 - loss 0.69218171\n",
      "2019-08-17 11:11:52,621 epoch 3 - iter 6/63 - loss 0.46352189\n",
      "2019-08-17 11:11:58,103 epoch 3 - iter 12/63 - loss 0.45694773\n",
      "2019-08-17 11:12:03,589 epoch 3 - iter 18/63 - loss 0.50476914\n",
      "2019-08-17 11:12:08,971 epoch 3 - iter 24/63 - loss 0.51298029\n",
      "2019-08-17 11:12:14,244 epoch 3 - iter 30/63 - loss 0.49313713\n",
      "2019-08-17 11:12:20,398 epoch 3 - iter 36/63 - loss 0.49959044\n",
      "2019-08-17 11:12:26,450 epoch 3 - iter 42/63 - loss 0.48485146\n",
      "2019-08-17 11:12:32,074 epoch 3 - iter 48/63 - loss 0.47726701\n",
      "2019-08-17 11:12:37,954 epoch 3 - iter 54/63 - loss 0.48869532\n",
      "2019-08-17 11:12:43,177 epoch 3 - iter 60/63 - loss 0.47957395\n",
      "2019-08-17 11:12:44,790 ----------------------------------------------------------------------------------------------------\n",
      "2019-08-17 11:12:44,792 EPOCH 3 done: loss 0.4810 - lr 0.0010 - bad epochs 0\n",
      "2019-08-17 11:13:40,797 DEV : loss 0.5811614394187927 - score 0.7805\n",
      "2019-08-17 11:14:11,884 TEST : loss 0.9202986359596252 - score 0.7376\n",
      "2019-08-17 11:14:18,352 ----------------------------------------------------------------------------------------------------\n",
      "2019-08-17 11:14:20,384 epoch 4 - iter 0/63 - loss 0.83308196\n",
      "2019-08-17 11:14:25,849 epoch 4 - iter 6/63 - loss 0.38703110\n",
      "2019-08-17 11:14:31,701 epoch 4 - iter 12/63 - loss 0.35989856\n",
      "2019-08-17 11:14:37,715 epoch 4 - iter 18/63 - loss 0.33609808\n",
      "2019-08-17 11:14:43,510 epoch 4 - iter 24/63 - loss 0.31505349\n",
      "2019-08-17 11:14:48,334 epoch 4 - iter 30/63 - loss 0.30067648\n",
      "2019-08-17 11:14:53,962 epoch 4 - iter 36/63 - loss 0.31935136\n",
      "2019-08-17 11:14:59,970 epoch 4 - iter 42/63 - loss 0.33181087\n",
      "2019-08-17 11:15:05,811 epoch 4 - iter 48/63 - loss 0.34286315\n",
      "2019-08-17 11:15:11,220 epoch 4 - iter 54/63 - loss 0.34435958\n",
      "2019-08-17 11:15:16,522 epoch 4 - iter 60/63 - loss 0.35418061\n",
      "2019-08-17 11:15:18,388 ----------------------------------------------------------------------------------------------------\n",
      "2019-08-17 11:15:18,389 EPOCH 4 done: loss 0.3559 - lr 0.0010 - bad epochs 0\n",
      "2019-08-17 11:16:15,733 DEV : loss 0.3880409300327301 - score 0.8285\n",
      "2019-08-17 11:16:46,908 TEST : loss 0.9818102121353149 - score 0.7791\n",
      "2019-08-17 11:16:59,757 ----------------------------------------------------------------------------------------------------\n",
      "2019-08-17 11:16:59,758 Testing using best model ...\n",
      "2019-08-17 11:16:59,761 loading file flair_resources/qc_en_uiuc/best-model.pt\n",
      "2019-08-17 11:17:31,019 0.7791\t0.7791\t0.7791\n",
      "2019-08-17 11:17:31,020 \n",
      "MICRO_AVG: acc 0.6381 - f1-score 0.7791\n",
      "MACRO_AVG: acc 0.5092 - f1-score 0.6038166666666667\n",
      "ABBR       tp: 0 - fp: 19 - fn: 0 - tn: 1330 - precision: 0.0000 - recall: 0.0000 - accuracy: 0.0000 - f1-score: 0.0000\n",
      "DESC       tp: 56 - fp: 5 - fn: 193 - tn: 1095 - precision: 0.9180 - recall: 0.2249 - accuracy: 0.2205 - f1-score: 0.3613\n",
      "ENTY       tp: 125 - fp: 155 - fn: 19 - tn: 1050 - precision: 0.4464 - recall: 0.8681 - accuracy: 0.4181 - f1-score: 0.5896\n",
      "HUM        tp: 291 - fp: 92 - fn: 16 - tn: 950 - precision: 0.7598 - recall: 0.9479 - accuracy: 0.7293 - f1-score: 0.8435\n",
      "LOC        tp: 203 - fp: 12 - fn: 42 - tn: 1092 - precision: 0.9442 - recall: 0.8286 - accuracy: 0.7899 - f1-score: 0.8826\n",
      "NUM        tp: 376 - fp: 15 - fn: 28 - tn: 930 - precision: 0.9616 - recall: 0.9307 - accuracy: 0.8974 - f1-score: 0.9459\n",
      "2019-08-17 11:17:31,021 ----------------------------------------------------------------------------------------------------\n"
     ]
    },
    {
     "name": "stdout",
     "output_type": "stream",
     "text": [
      "2019-08-17 11:18:26,757 {'LOC', 'NUM', 'DESC', 'ENTY', 'ABBR', 'HUM'}\n",
      "2019-08-17 11:18:26,759 The pre-trained model you are loading is a cased model but you have not set `do_lower_case` to False. We are setting `do_lower_case=False` for you but you may want to check this behavior.\n",
      "2019-08-17 11:18:45,928 ----------------------------------------------------------------------------------------------------\n",
      "2019-08-17 11:18:45,930 Evaluation method: MICRO_F1_SCORE\n",
      "2019-08-17 11:18:46,519 ----------------------------------------------------------------------------------------------------\n",
      "2019-08-17 11:18:48,162 epoch 1 - iter 0/63 - loss 2.25217152\n",
      "2019-08-17 11:18:54,924 epoch 1 - iter 6/63 - loss 9.76867175\n",
      "2019-08-17 11:19:00,804 epoch 1 - iter 12/63 - loss 7.11318125\n",
      "2019-08-17 11:19:06,406 epoch 1 - iter 18/63 - loss 5.66402275\n",
      "2019-08-17 11:19:11,758 epoch 1 - iter 24/63 - loss 4.81037269\n",
      "2019-08-17 11:19:17,368 epoch 1 - iter 30/63 - loss 4.15887899\n",
      "2019-08-17 11:19:23,947 epoch 1 - iter 36/63 - loss 3.68985908\n",
      "2019-08-17 11:19:29,203 epoch 1 - iter 42/63 - loss 3.33585871\n",
      "2019-08-17 11:19:35,905 epoch 1 - iter 48/63 - loss 3.06744114\n",
      "2019-08-17 11:19:40,863 epoch 1 - iter 54/63 - loss 2.83352543\n",
      "2019-08-17 11:19:46,328 epoch 1 - iter 60/63 - loss 2.65682463\n",
      "2019-08-17 11:19:48,835 ----------------------------------------------------------------------------------------------------\n",
      "2019-08-17 11:19:48,836 EPOCH 1 done: loss 2.6135 - lr 0.0010 - bad epochs 0\n",
      "2019-08-17 11:20:49,504 DEV : loss 0.9175985455513 - score 0.6355\n",
      "2019-08-17 11:21:20,510 TEST : loss 1.1289883852005005 - score 0.5678\n",
      "2019-08-17 11:21:26,971 ----------------------------------------------------------------------------------------------------\n",
      "2019-08-17 11:21:29,501 epoch 2 - iter 0/63 - loss 0.81208050\n",
      "2019-08-17 11:21:35,051 epoch 2 - iter 6/63 - loss 0.84889496\n",
      "2019-08-17 11:21:40,059 epoch 2 - iter 12/63 - loss 0.82367048\n",
      "2019-08-17 11:21:46,136 epoch 2 - iter 18/63 - loss 0.77524793\n",
      "2019-08-17 11:21:52,743 epoch 2 - iter 24/63 - loss 0.76086248\n",
      "2019-08-17 11:21:58,149 epoch 2 - iter 30/63 - loss 0.75184533\n",
      "2019-08-17 11:22:03,770 epoch 2 - iter 36/63 - loss 0.73194841\n",
      "2019-08-17 11:22:08,806 epoch 2 - iter 42/63 - loss 0.71164184\n",
      "2019-08-17 11:22:13,725 epoch 2 - iter 48/63 - loss 0.70282716\n",
      "2019-08-17 11:22:18,565 epoch 2 - iter 54/63 - loss 0.68671873\n",
      "2019-08-17 11:22:24,262 epoch 2 - iter 60/63 - loss 0.68097803\n",
      "2019-08-17 11:22:26,015 ----------------------------------------------------------------------------------------------------\n",
      "2019-08-17 11:22:26,016 EPOCH 2 done: loss 0.6826 - lr 0.0010 - bad epochs 0\n",
      "2019-08-17 11:23:23,761 DEV : loss 0.5579528212547302 - score 0.808\n",
      "2019-08-17 11:23:54,712 TEST : loss 0.751975417137146 - score 0.7561\n",
      "2019-08-17 11:24:01,106 ----------------------------------------------------------------------------------------------------\n",
      "2019-08-17 11:24:03,456 epoch 3 - iter 0/63 - loss 0.29543501\n",
      "2019-08-17 11:24:09,155 epoch 3 - iter 6/63 - loss 0.40186810\n",
      "2019-08-17 11:24:14,240 epoch 3 - iter 12/63 - loss 0.40115334\n",
      "2019-08-17 11:24:19,863 epoch 3 - iter 18/63 - loss 0.43359279\n",
      "2019-08-17 11:24:25,174 epoch 3 - iter 24/63 - loss 0.45208709\n",
      "2019-08-17 11:24:30,413 epoch 3 - iter 30/63 - loss 0.46623966\n",
      "2019-08-17 11:24:36,344 epoch 3 - iter 36/63 - loss 0.47580852\n",
      "2019-08-17 11:24:41,760 epoch 3 - iter 42/63 - loss 0.47337743\n",
      "2019-08-17 11:24:47,228 epoch 3 - iter 48/63 - loss 0.46246904\n",
      "2019-08-17 11:24:53,421 epoch 3 - iter 54/63 - loss 0.46816697\n",
      "2019-08-17 11:24:59,548 epoch 3 - iter 60/63 - loss 0.46646126\n",
      "2019-08-17 11:25:01,026 ----------------------------------------------------------------------------------------------------\n",
      "2019-08-17 11:25:01,027 EPOCH 3 done: loss 0.4614 - lr 0.0010 - bad epochs 0\n",
      "2019-08-17 11:25:57,719 DEV : loss 0.34709757566452026 - score 0.8695\n",
      "2019-08-17 11:26:28,849 TEST : loss 0.913658082485199 - score 0.7821\n",
      "2019-08-17 11:26:34,869 ----------------------------------------------------------------------------------------------------\n",
      "2019-08-17 11:26:36,718 epoch 4 - iter 0/63 - loss 0.26010424\n",
      "2019-08-17 11:26:42,698 epoch 4 - iter 6/63 - loss 0.26413052\n",
      "2019-08-17 11:26:48,167 epoch 4 - iter 12/63 - loss 0.28300118\n",
      "2019-08-17 11:26:53,958 epoch 4 - iter 18/63 - loss 0.30662357\n",
      "2019-08-17 11:26:59,542 epoch 4 - iter 24/63 - loss 0.35501417\n",
      "2019-08-17 11:27:04,523 epoch 4 - iter 30/63 - loss 0.32778259\n",
      "2019-08-17 11:27:10,714 epoch 4 - iter 36/63 - loss 0.33471532\n",
      "2019-08-17 11:27:15,717 epoch 4 - iter 42/63 - loss 0.33613802\n",
      "2019-08-17 11:27:21,762 epoch 4 - iter 48/63 - loss 0.35031654\n",
      "2019-08-17 11:27:26,920 epoch 4 - iter 54/63 - loss 0.34409728\n",
      "2019-08-17 11:27:32,196 epoch 4 - iter 60/63 - loss 0.34174407\n",
      "2019-08-17 11:27:34,030 ----------------------------------------------------------------------------------------------------\n",
      "2019-08-17 11:27:34,032 EPOCH 4 done: loss 0.3570 - lr 0.0010 - bad epochs 0\n",
      "2019-08-17 11:28:29,745 DEV : loss 0.3793897032737732 - score 0.8585\n",
      "2019-08-17 11:29:01,338 TEST : loss 0.9961815476417542 - score 0.7198\n",
      "2019-08-17 11:29:07,883 ----------------------------------------------------------------------------------------------------\n",
      "2019-08-17 11:29:07,885 Testing using best model ...\n",
      "2019-08-17 11:29:07,887 loading file flair_resources/qc_en_uiuc/best-model.pt\n",
      "2019-08-17 11:29:43,345 0.7821\t0.7821\t0.7821\n",
      "2019-08-17 11:29:43,346 \n",
      "MICRO_AVG: acc 0.6421 - f1-score 0.7821\n",
      "MACRO_AVG: acc 0.4944 - f1-score 0.6004166666666667\n",
      "ABBR       tp: 0 - fp: 20 - fn: 0 - tn: 1329 - precision: 0.0000 - recall: 0.0000 - accuracy: 0.0000 - f1-score: 0.0000\n",
      "DESC       tp: 86 - fp: 16 - fn: 163 - tn: 1084 - precision: 0.8431 - recall: 0.3454 - accuracy: 0.3245 - f1-score: 0.4900\n",
      "ENTY       tp: 59 - fp: 19 - fn: 85 - tn: 1186 - precision: 0.7564 - recall: 0.4097 - accuracy: 0.3620 - f1-score: 0.5315\n",
      "HUM        tp: 302 - fp: 147 - fn: 5 - tn: 895 - precision: 0.6726 - recall: 0.9837 - accuracy: 0.6652 - f1-score: 0.7989\n",
      "LOC        tp: 226 - fp: 67 - fn: 19 - tn: 1037 - precision: 0.7713 - recall: 0.9224 - accuracy: 0.7244 - f1-score: 0.8401\n",
      "NUM        tp: 382 - fp: 25 - fn: 22 - tn: 920 - precision: 0.9386 - recall: 0.9455 - accuracy: 0.8904 - f1-score: 0.9420\n",
      "2019-08-17 11:29:43,347 ----------------------------------------------------------------------------------------------------\n",
      "2019-08-17 11:30:39,169 {'LOC', 'NUM', 'DESC', 'ENTY', 'ABBR', 'HUM'}\n",
      "2019-08-17 11:30:39,171 The pre-trained model you are loading is a cased model but you have not set `do_lower_case` to False. We are setting `do_lower_case=False` for you but you may want to check this behavior.\n",
      "2019-08-17 11:30:58,535 ----------------------------------------------------------------------------------------------------\n",
      "2019-08-17 11:30:58,536 Evaluation method: MICRO_F1_SCORE\n",
      "2019-08-17 11:30:59,152 ----------------------------------------------------------------------------------------------------\n",
      "2019-08-17 11:31:01,079 epoch 1 - iter 0/94 - loss 2.09457564\n",
      "2019-08-17 11:31:10,661 epoch 1 - iter 9/94 - loss 9.18074272\n",
      "2019-08-17 11:31:18,907 epoch 1 - iter 18/94 - loss 6.03010019\n",
      "2019-08-17 11:31:27,375 epoch 1 - iter 27/94 - loss 4.63893018\n",
      "2019-08-17 11:31:35,399 epoch 1 - iter 36/94 - loss 3.92763024\n",
      "2019-08-17 11:31:44,764 epoch 1 - iter 45/94 - loss 3.46384122\n",
      "2019-08-17 11:31:53,398 epoch 1 - iter 54/94 - loss 3.10825005\n",
      "2019-08-17 11:32:03,992 epoch 1 - iter 63/94 - loss 2.84911281\n",
      "2019-08-17 11:32:11,823 epoch 1 - iter 72/94 - loss 2.63617531\n",
      "2019-08-17 11:32:19,899 epoch 1 - iter 81/94 - loss 2.44835508\n",
      "2019-08-17 11:32:29,689 epoch 1 - iter 90/94 - loss 2.30680080\n",
      "2019-08-17 11:32:32,946 ----------------------------------------------------------------------------------------------------\n",
      "2019-08-17 11:32:32,947 EPOCH 1 done: loss 2.2677 - lr 0.0010 - bad epochs 0\n",
      "2019-08-17 11:33:59,238 DEV : loss 0.9677634835243225 - score 0.6207\n",
      "2019-08-17 11:34:31,284 TEST : loss 1.063376545906067 - score 0.6597\n",
      "2019-08-17 11:34:41,538 ----------------------------------------------------------------------------------------------------\n",
      "2019-08-17 11:34:43,764 epoch 2 - iter 0/94 - loss 1.01108384\n",
      "2019-08-17 11:34:52,754 epoch 2 - iter 9/94 - loss 0.80819458\n"
     ]
    },
    {
     "name": "stdout",
     "output_type": "stream",
     "text": [
      "2019-08-17 11:35:01,655 epoch 2 - iter 18/94 - loss 0.74365022\n",
      "2019-08-17 11:35:10,080 epoch 2 - iter 27/94 - loss 0.76530844\n",
      "2019-08-17 11:35:18,607 epoch 2 - iter 36/94 - loss 0.73943855\n",
      "2019-08-17 11:35:27,561 epoch 2 - iter 45/94 - loss 0.73229873\n",
      "2019-08-17 11:35:35,207 epoch 2 - iter 54/94 - loss 0.70104388\n",
      "2019-08-17 11:35:43,264 epoch 2 - iter 63/94 - loss 0.67599460\n",
      "2019-08-17 11:35:51,742 epoch 2 - iter 72/94 - loss 0.66816185\n",
      "2019-08-17 11:36:00,660 epoch 2 - iter 81/94 - loss 0.65971904\n",
      "2019-08-17 11:36:08,170 epoch 2 - iter 90/94 - loss 0.65569107\n",
      "2019-08-17 11:36:11,033 ----------------------------------------------------------------------------------------------------\n",
      "2019-08-17 11:36:11,034 EPOCH 2 done: loss 0.6562 - lr 0.0010 - bad epochs 0\n",
      "2019-08-17 11:37:35,919 DEV : loss 0.47348660230636597 - score 0.8453\n",
      "2019-08-17 11:38:07,588 TEST : loss 0.882342517375946 - score 0.7554\n",
      "2019-08-17 11:38:13,697 ----------------------------------------------------------------------------------------------------\n",
      "2019-08-17 11:38:15,554 epoch 3 - iter 0/94 - loss 0.39754570\n",
      "2019-08-17 11:38:24,076 epoch 3 - iter 9/94 - loss 0.43430970\n",
      "2019-08-17 11:38:31,875 epoch 3 - iter 18/94 - loss 0.40585949\n",
      "2019-08-17 11:38:41,034 epoch 3 - iter 27/94 - loss 0.46700472\n",
      "2019-08-17 11:38:48,687 epoch 3 - iter 36/94 - loss 0.44982512\n",
      "2019-08-17 11:38:57,117 epoch 3 - iter 45/94 - loss 0.44459058\n",
      "2019-08-17 11:39:06,685 epoch 3 - iter 54/94 - loss 0.46379066\n",
      "2019-08-17 11:39:14,614 epoch 3 - iter 63/94 - loss 0.46771496\n",
      "2019-08-17 11:39:23,366 epoch 3 - iter 72/94 - loss 0.46163354\n",
      "2019-08-17 11:39:31,754 epoch 3 - iter 81/94 - loss 0.45052940\n",
      "2019-08-17 11:39:39,746 epoch 3 - iter 90/94 - loss 0.45084268\n",
      "2019-08-17 11:39:42,461 ----------------------------------------------------------------------------------------------------\n",
      "2019-08-17 11:39:43,096 EPOCH 3 done: loss 0.4517 - lr 0.0010 - bad epochs 0\n",
      "2019-08-17 11:41:09,202 DEV : loss 0.40707913041114807 - score 0.8487\n",
      "2019-08-17 11:41:40,638 TEST : loss 0.9846060872077942 - score 0.7354\n",
      "2019-08-17 11:41:46,200 ----------------------------------------------------------------------------------------------------\n",
      "2019-08-17 11:41:48,960 epoch 4 - iter 0/94 - loss 0.39361221\n",
      "2019-08-17 11:41:57,118 epoch 4 - iter 9/94 - loss 0.44973142\n",
      "2019-08-17 11:42:05,738 epoch 4 - iter 18/94 - loss 0.37564533\n",
      "2019-08-17 11:42:14,006 epoch 4 - iter 27/94 - loss 0.36102823\n",
      "2019-08-17 11:42:22,701 epoch 4 - iter 36/94 - loss 0.34672350\n",
      "2019-08-17 11:42:30,930 epoch 4 - iter 45/94 - loss 0.35079846\n",
      "2019-08-17 11:43:49,697 epoch 4 - iter 54/94 - loss 0.36920676\n",
      "2019-08-17 11:43:58,877 epoch 4 - iter 63/94 - loss 0.35836895\n",
      "2019-08-17 11:44:07,189 epoch 4 - iter 72/94 - loss 0.35772618\n",
      "2019-08-17 11:44:15,131 epoch 4 - iter 81/94 - loss 0.35921118\n",
      "2019-08-17 11:44:23,007 epoch 4 - iter 90/94 - loss 0.35619185\n",
      "2019-08-17 11:44:26,701 ----------------------------------------------------------------------------------------------------\n",
      "2019-08-17 11:44:26,702 EPOCH 4 done: loss 0.3590 - lr 0.0010 - bad epochs 0\n",
      "2019-08-17 11:45:58,564 DEV : loss 0.5204197764396667 - score 0.8027\n",
      "2019-08-17 11:46:29,865 TEST : loss 0.9280088543891907 - score 0.7509\n",
      "2019-08-17 11:46:37,576 ----------------------------------------------------------------------------------------------------\n",
      "2019-08-17 11:46:37,577 Testing using best model ...\n",
      "2019-08-17 11:46:37,579 loading file flair_resources/qc_en_uiuc/best-model.pt\n",
      "2019-08-17 11:47:16,575 0.7354\t0.7354\t0.7354\n",
      "2019-08-17 11:47:16,576 \n",
      "MICRO_AVG: acc 0.5815 - f1-score 0.7354\n",
      "MACRO_AVG: acc 0.4613 - f1-score 0.5794166666666666\n",
      "ABBR       tp: 0 - fp: 10 - fn: 0 - tn: 1339 - precision: 0.0000 - recall: 0.0000 - accuracy: 0.0000 - f1-score: 0.0000\n",
      "DESC       tp: 118 - fp: 98 - fn: 131 - tn: 1002 - precision: 0.5463 - recall: 0.4739 - accuracy: 0.3401 - f1-score: 0.5075\n",
      "ENTY       tp: 64 - fp: 41 - fn: 80 - tn: 1164 - precision: 0.6095 - recall: 0.4444 - accuracy: 0.3459 - f1-score: 0.5140\n",
      "HUM        tp: 286 - fp: 83 - fn: 21 - tn: 959 - precision: 0.7751 - recall: 0.9316 - accuracy: 0.7333 - f1-score: 0.8462\n",
      "LOC        tp: 229 - fp: 122 - fn: 16 - tn: 982 - precision: 0.6524 - recall: 0.9347 - accuracy: 0.6240 - f1-score: 0.7684\n",
      "NUM        tp: 295 - fp: 3 - fn: 109 - tn: 942 - precision: 0.9899 - recall: 0.7302 - accuracy: 0.7248 - f1-score: 0.8404\n",
      "2019-08-17 11:47:16,577 ----------------------------------------------------------------------------------------------------\n",
      "2019-08-17 11:48:41,364 {'LOC', 'NUM', 'DESC', 'ENTY', 'ABBR', 'HUM'}\n",
      "2019-08-17 11:48:41,366 The pre-trained model you are loading is a cased model but you have not set `do_lower_case` to False. We are setting `do_lower_case=False` for you but you may want to check this behavior.\n",
      "2019-08-17 11:49:00,070 ----------------------------------------------------------------------------------------------------\n",
      "2019-08-17 11:49:00,072 Evaluation method: MICRO_F1_SCORE\n",
      "2019-08-17 11:49:00,740 ----------------------------------------------------------------------------------------------------\n",
      "2019-08-17 11:49:02,847 epoch 1 - iter 0/94 - loss 1.83326793\n",
      "2019-08-17 11:49:11,370 epoch 1 - iter 9/94 - loss 8.14277613\n",
      "2019-08-17 11:49:19,009 epoch 1 - iter 18/94 - loss 5.64008358\n",
      "2019-08-17 11:49:27,473 epoch 1 - iter 27/94 - loss 4.48629822\n",
      "2019-08-17 11:49:35,161 epoch 1 - iter 36/94 - loss 3.72266726\n",
      "2019-08-17 11:49:43,458 epoch 1 - iter 45/94 - loss 3.23873661\n",
      "2019-08-17 11:49:50,973 epoch 1 - iter 54/94 - loss 2.87070294\n",
      "2019-08-17 11:49:58,704 epoch 1 - iter 63/94 - loss 2.59072455\n",
      "2019-08-17 11:50:06,536 epoch 1 - iter 72/94 - loss 2.37730640\n",
      "2019-08-17 11:50:20,365 epoch 1 - iter 81/94 - loss 2.19686980\n",
      "2019-08-17 11:50:29,776 epoch 1 - iter 90/94 - loss 2.05931541\n",
      "2019-08-17 11:50:33,901 ----------------------------------------------------------------------------------------------------\n",
      "2019-08-17 11:50:33,903 EPOCH 1 done: loss 2.0179 - lr 0.0010 - bad epochs 0\n",
      "2019-08-17 11:52:03,424 DEV : loss 0.6598820686340332 - score 0.7603\n",
      "2019-08-17 11:52:35,003 TEST : loss 0.7185922265052795 - score 0.7591\n",
      "2019-08-17 11:52:41,904 ----------------------------------------------------------------------------------------------------\n",
      "2019-08-17 11:52:43,957 epoch 2 - iter 0/94 - loss 0.56181753\n",
      "2019-08-17 11:52:52,633 epoch 2 - iter 9/94 - loss 0.71572900\n",
      "2019-08-17 11:53:00,894 epoch 2 - iter 18/94 - loss 0.63665737\n",
      "2019-08-17 11:53:09,061 epoch 2 - iter 27/94 - loss 0.62928724\n",
      "2019-08-17 11:53:18,257 epoch 2 - iter 36/94 - loss 0.62882243\n",
      "2019-08-17 11:53:26,621 epoch 2 - iter 45/94 - loss 0.59738786\n",
      "2019-08-17 11:53:34,885 epoch 2 - iter 54/94 - loss 0.58079675\n",
      "2019-08-17 11:53:42,904 epoch 2 - iter 63/94 - loss 0.57240885\n",
      "2019-08-17 11:53:51,764 epoch 2 - iter 72/94 - loss 0.57741448\n",
      "2019-08-17 11:54:00,199 epoch 2 - iter 81/94 - loss 0.56611694\n",
      "2019-08-17 11:54:08,214 epoch 2 - iter 90/94 - loss 0.57319196\n",
      "2019-08-17 11:54:11,109 ----------------------------------------------------------------------------------------------------\n",
      "2019-08-17 11:54:11,111 EPOCH 2 done: loss 0.5717 - lr 0.0010 - bad epochs 0\n",
      "2019-08-17 11:55:36,572 DEV : loss 0.5334691405296326 - score 0.7967\n",
      "2019-08-17 11:56:08,510 TEST : loss 0.7411371469497681 - score 0.7724\n",
      "2019-08-17 11:56:15,465 ----------------------------------------------------------------------------------------------------\n",
      "2019-08-17 11:56:17,425 epoch 3 - iter 0/94 - loss 0.39665306\n",
      "2019-08-17 11:56:25,417 epoch 3 - iter 9/94 - loss 0.50526218\n",
      "2019-08-17 11:56:34,289 epoch 3 - iter 18/94 - loss 0.45802545\n",
      "2019-08-17 11:56:42,488 epoch 3 - iter 27/94 - loss 0.41489877\n",
      "2019-08-17 11:56:51,479 epoch 3 - iter 36/94 - loss 0.40097864\n",
      "2019-08-17 11:57:01,134 epoch 3 - iter 45/94 - loss 0.38542147\n",
      "2019-08-17 11:57:09,569 epoch 3 - iter 54/94 - loss 0.39195879\n",
      "2019-08-17 11:57:17,335 epoch 3 - iter 63/94 - loss 0.40404401\n",
      "2019-08-17 11:57:26,010 epoch 3 - iter 72/94 - loss 0.41897243\n",
      "2019-08-17 11:57:34,273 epoch 3 - iter 81/94 - loss 0.42542105\n",
      "2019-08-17 11:57:42,278 epoch 3 - iter 90/94 - loss 0.42167274\n",
      "2019-08-17 11:57:45,193 ----------------------------------------------------------------------------------------------------\n"
     ]
    },
    {
     "name": "stdout",
     "output_type": "stream",
     "text": [
      "2019-08-17 11:57:45,194 EPOCH 3 done: loss 0.4171 - lr 0.0010 - bad epochs 0\n",
      "2019-08-17 11:59:11,300 DEV : loss 0.4108215868473053 - score 0.8413\n",
      "2019-08-17 11:59:43,427 TEST : loss 1.0726624727249146 - score 0.7413\n",
      "2019-08-17 11:59:50,227 ----------------------------------------------------------------------------------------------------\n",
      "2019-08-17 11:59:52,233 epoch 4 - iter 0/94 - loss 0.40739280\n",
      "2019-08-17 12:00:00,342 epoch 4 - iter 9/94 - loss 0.21649240\n",
      "2019-08-17 12:00:08,975 epoch 4 - iter 18/94 - loss 0.28413985\n",
      "2019-08-17 12:00:17,760 epoch 4 - iter 27/94 - loss 0.29646342\n",
      "2019-08-17 12:00:26,695 epoch 4 - iter 36/94 - loss 0.29993403\n",
      "2019-08-17 12:00:35,113 epoch 4 - iter 45/94 - loss 0.30052616\n",
      "2019-08-17 12:00:42,969 epoch 4 - iter 54/94 - loss 0.28417528\n",
      "2019-08-17 12:00:53,041 epoch 4 - iter 63/94 - loss 0.29020311\n",
      "2019-08-17 12:01:01,384 epoch 4 - iter 72/94 - loss 0.29630827\n",
      "2019-08-17 12:01:09,752 epoch 4 - iter 81/94 - loss 0.30193674\n",
      "2019-08-17 12:01:26,678 epoch 4 - iter 90/94 - loss 0.30831104\n",
      "2019-08-17 12:02:08,982 ----------------------------------------------------------------------------------------------------\n",
      "2019-08-17 12:02:09,068 EPOCH 4 done: loss 0.3073 - lr 0.0010 - bad epochs 0\n",
      "2019-08-17 12:03:33,897 DEV : loss 0.5963448286056519 - score 0.7873\n",
      "2019-08-17 12:04:05,481 TEST : loss 1.6557480096817017 - score 0.6294\n",
      "2019-08-17 12:04:11,656 ----------------------------------------------------------------------------------------------------\n",
      "2019-08-17 12:04:11,657 Testing using best model ...\n",
      "2019-08-17 12:04:11,659 loading file flair_resources/qc_en_uiuc/best-model.pt\n",
      "2019-08-17 12:04:56,765 0.7413\t0.7413\t0.7413\n",
      "2019-08-17 12:04:56,766 \n",
      "MICRO_AVG: acc 0.5889 - f1-score 0.7413\n",
      "MACRO_AVG: acc 0.4747 - f1-score 0.5808666666666666\n",
      "ABBR       tp: 0 - fp: 32 - fn: 0 - tn: 1317 - precision: 0.0000 - recall: 0.0000 - accuracy: 0.0000 - f1-score: 0.0000\n",
      "DESC       tp: 56 - fp: 15 - fn: 193 - tn: 1085 - precision: 0.7887 - recall: 0.2249 - accuracy: 0.2121 - f1-score: 0.3500\n",
      "ENTY       tp: 117 - fp: 145 - fn: 27 - tn: 1060 - precision: 0.4466 - recall: 0.8125 - accuracy: 0.4048 - f1-score: 0.5764\n",
      "HUM        tp: 295 - fp: 100 - fn: 12 - tn: 942 - precision: 0.7468 - recall: 0.9609 - accuracy: 0.7248 - f1-score: 0.8404\n",
      "LOC        tp: 226 - fp: 56 - fn: 19 - tn: 1048 - precision: 0.8014 - recall: 0.9224 - accuracy: 0.7508 - f1-score: 0.8577\n",
      "NUM        tp: 306 - fp: 1 - fn: 98 - tn: 944 - precision: 0.9967 - recall: 0.7574 - accuracy: 0.7556 - f1-score: 0.8607\n",
      "2019-08-17 12:04:56,767 ----------------------------------------------------------------------------------------------------\n",
      "2019-08-17 12:06:26,172 {'LOC', 'NUM', 'DESC', 'ENTY', 'ABBR', 'HUM'}\n",
      "2019-08-17 12:06:26,175 The pre-trained model you are loading is a cased model but you have not set `do_lower_case` to False. We are setting `do_lower_case=False` for you but you may want to check this behavior.\n",
      "2019-08-17 12:07:25,236 ----------------------------------------------------------------------------------------------------\n",
      "2019-08-17 12:07:25,237 Evaluation method: MICRO_F1_SCORE\n",
      "2019-08-17 12:07:26,361 ----------------------------------------------------------------------------------------------------\n",
      "2019-08-17 12:07:28,465 epoch 1 - iter 0/125 - loss 1.72450471\n",
      "2019-08-17 12:07:39,875 epoch 1 - iter 12/125 - loss 6.19533333\n",
      "2019-08-17 12:07:50,703 epoch 1 - iter 24/125 - loss 4.07438012\n",
      "2019-08-17 12:08:03,333 epoch 1 - iter 36/125 - loss 3.31287168\n",
      "2019-08-17 12:08:15,050 epoch 1 - iter 48/125 - loss 2.87356829\n",
      "2019-08-17 12:08:26,681 epoch 1 - iter 60/125 - loss 2.55596044\n",
      "2019-08-17 12:08:38,561 epoch 1 - iter 72/125 - loss 2.31465185\n",
      "2019-08-17 12:08:49,350 epoch 1 - iter 84/125 - loss 2.12696291\n",
      "2019-08-17 12:09:39,889 epoch 1 - iter 96/125 - loss 1.95774244\n",
      "2019-08-17 12:10:09,150 epoch 1 - iter 108/125 - loss 1.82756224\n",
      "2019-08-17 12:10:19,602 epoch 1 - iter 120/125 - loss 1.71362446\n",
      "2019-08-17 12:10:23,328 ----------------------------------------------------------------------------------------------------\n",
      "2019-08-17 12:10:23,330 EPOCH 1 done: loss 1.6798 - lr 0.0010 - bad epochs 0\n",
      "2019-08-17 12:12:17,726 DEV : loss 0.619525671005249 - score 0.7735\n",
      "2019-08-17 12:12:49,285 TEST : loss 0.8629395365715027 - score 0.788\n",
      "2019-08-17 12:12:56,470 ----------------------------------------------------------------------------------------------------\n",
      "2019-08-17 12:12:58,879 epoch 2 - iter 0/125 - loss 0.68178010\n",
      "2019-08-17 12:13:09,497 epoch 2 - iter 12/125 - loss 0.61759182\n",
      "2019-08-17 12:13:21,259 epoch 2 - iter 24/125 - loss 0.59365282\n",
      "2019-08-17 12:13:33,000 epoch 2 - iter 36/125 - loss 0.58202804\n",
      "2019-08-17 12:13:43,450 epoch 2 - iter 48/125 - loss 0.56324422\n",
      "2019-08-17 12:13:55,117 epoch 2 - iter 60/125 - loss 0.55909297\n",
      "2019-08-17 12:14:05,807 epoch 2 - iter 72/125 - loss 0.56319534\n",
      "2019-08-17 12:14:16,289 epoch 2 - iter 84/125 - loss 0.55220490\n",
      "2019-08-17 12:14:27,280 epoch 2 - iter 96/125 - loss 0.53896001\n",
      "2019-08-17 12:14:38,643 epoch 2 - iter 108/125 - loss 0.53459778\n",
      "2019-08-17 12:14:48,951 epoch 2 - iter 120/125 - loss 0.53979994\n",
      "2019-08-17 12:14:52,772 ----------------------------------------------------------------------------------------------------\n",
      "2019-08-17 12:14:52,773 EPOCH 2 done: loss 0.5355 - lr 0.0010 - bad epochs 0\n",
      "2019-08-17 12:16:47,568 DEV : loss 0.339977502822876 - score 0.8712\n",
      "2019-08-17 12:17:19,269 TEST : loss 0.9299476742744446 - score 0.8154\n",
      "2019-08-17 12:17:30,197 ----------------------------------------------------------------------------------------------------\n",
      "2019-08-17 12:17:32,506 epoch 3 - iter 0/125 - loss 0.41647694\n",
      "2019-08-17 12:17:43,942 epoch 3 - iter 12/125 - loss 0.37824644\n",
      "2019-08-17 12:17:54,934 epoch 3 - iter 24/125 - loss 0.37846280\n",
      "2019-08-17 12:18:05,923 epoch 3 - iter 36/125 - loss 0.37113408\n",
      "2019-08-17 12:18:18,131 epoch 3 - iter 48/125 - loss 0.35868309\n",
      "2019-08-17 12:18:29,026 epoch 3 - iter 60/125 - loss 0.35964901\n",
      "2019-08-17 12:18:40,098 epoch 3 - iter 72/125 - loss 0.35922634\n",
      "2019-08-17 12:18:50,940 epoch 3 - iter 84/125 - loss 0.37283589\n",
      "2019-08-17 12:19:02,525 epoch 3 - iter 96/125 - loss 0.36849052\n",
      "2019-08-17 12:19:13,125 epoch 3 - iter 108/125 - loss 0.37879723\n",
      "2019-08-17 12:19:23,720 epoch 3 - iter 120/125 - loss 0.38592794\n",
      "2019-08-17 12:19:28,656 ----------------------------------------------------------------------------------------------------\n",
      "2019-08-17 12:19:28,658 EPOCH 3 done: loss 0.3836 - lr 0.0010 - bad epochs 0\n",
      "2019-08-17 12:21:23,322 DEV : loss 0.24471408128738403 - score 0.9203\n",
      "2019-08-17 12:21:55,150 TEST : loss 1.0967738628387451 - score 0.785\n",
      "2019-08-17 12:22:01,666 ----------------------------------------------------------------------------------------------------\n",
      "2019-08-17 12:22:03,751 epoch 4 - iter 0/125 - loss 0.27847809\n",
      "2019-08-17 12:22:15,731 epoch 4 - iter 12/125 - loss 0.26971809\n",
      "2019-08-17 12:22:27,216 epoch 4 - iter 24/125 - loss 0.29752089\n",
      "2019-08-17 12:22:43,972 epoch 4 - iter 36/125 - loss 0.27700531\n",
      "2019-08-17 12:23:08,021 epoch 4 - iter 48/125 - loss 0.27713794\n",
      "2019-08-17 12:23:19,694 epoch 4 - iter 60/125 - loss 0.28109184\n",
      "2019-08-17 12:23:30,192 epoch 4 - iter 72/125 - loss 0.28546572\n",
      "2019-08-17 12:23:59,452 epoch 4 - iter 84/125 - loss 0.29108523\n",
      "2019-08-17 12:24:10,328 epoch 4 - iter 96/125 - loss 0.29139436\n",
      "2019-08-17 12:24:20,203 epoch 4 - iter 108/125 - loss 0.29217951\n",
      "2019-08-17 12:24:31,096 epoch 4 - iter 120/125 - loss 0.29491927\n",
      "2019-08-17 12:24:34,910 ----------------------------------------------------------------------------------------------------\n",
      "2019-08-17 12:24:34,911 EPOCH 4 done: loss 0.2921 - lr 0.0010 - bad epochs 0\n",
      "2019-08-17 12:26:31,015 DEV : loss 0.22010405361652374 - score 0.9233\n",
      "2019-08-17 12:27:03,033 TEST : loss 1.3588836193084717 - score 0.7828\n",
      "2019-08-17 12:27:15,636 ----------------------------------------------------------------------------------------------------\n",
      "2019-08-17 12:27:15,638 Testing using best model ...\n",
      "2019-08-17 12:27:15,639 loading file flair_resources/qc_en_uiuc/best-model.pt\n",
      "2019-08-17 12:27:47,553 0.7828\t0.7828\t0.7828\n",
      "2019-08-17 12:27:47,554 \n",
      "MICRO_AVG: acc 0.6431 - f1-score 0.7828\n",
      "MACRO_AVG: acc 0.5134 - f1-score 0.6122166666666666\n",
      "ABBR       tp: 0 - fp: 37 - fn: 0 - tn: 1312 - precision: 0.0000 - recall: 0.0000 - accuracy: 0.0000 - f1-score: 0.0000\n",
      "DESC       tp: 63 - fp: 6 - fn: 186 - tn: 1094 - precision: 0.9130 - recall: 0.2530 - accuracy: 0.2471 - f1-score: 0.3962\n",
      "ENTY       tp: 95 - fp: 54 - fn: 49 - tn: 1151 - precision: 0.6376 - recall: 0.6597 - accuracy: 0.4798 - f1-score: 0.6485\n",
      "HUM        tp: 303 - fp: 146 - fn: 4 - tn: 896 - precision: 0.6748 - recall: 0.9870 - accuracy: 0.6689 - f1-score: 0.8016\n",
      "LOC        tp: 229 - fp: 45 - fn: 16 - tn: 1059 - precision: 0.8358 - recall: 0.9347 - accuracy: 0.7897 - f1-score: 0.8825\n",
      "NUM        tp: 366 - fp: 5 - fn: 38 - tn: 940 - precision: 0.9865 - recall: 0.9059 - accuracy: 0.8949 - f1-score: 0.9445\n"
     ]
    },
    {
     "name": "stdout",
     "output_type": "stream",
     "text": [
      "2019-08-17 12:27:47,555 ----------------------------------------------------------------------------------------------------\n",
      "2019-08-17 12:29:45,723 {'LOC', 'NUM', 'DESC', 'ENTY', 'ABBR', 'HUM'}\n",
      "2019-08-17 12:29:45,726 The pre-trained model you are loading is a cased model but you have not set `do_lower_case` to False. We are setting `do_lower_case=False` for you but you may want to check this behavior.\n",
      "2019-08-17 12:30:07,850 ----------------------------------------------------------------------------------------------------\n",
      "2019-08-17 12:30:07,851 Evaluation method: MICRO_F1_SCORE\n",
      "2019-08-17 12:30:08,570 ----------------------------------------------------------------------------------------------------\n",
      "2019-08-17 12:30:10,618 epoch 1 - iter 0/125 - loss 2.00352716\n",
      "2019-08-17 12:30:22,354 epoch 1 - iter 12/125 - loss 8.09406948\n",
      "2019-08-17 12:30:33,513 epoch 1 - iter 24/125 - loss 5.17808596\n",
      "2019-08-17 12:30:44,228 epoch 1 - iter 36/125 - loss 3.97723382\n",
      "2019-08-17 12:30:54,415 epoch 1 - iter 48/125 - loss 3.30332717\n",
      "2019-08-17 12:31:05,939 epoch 1 - iter 60/125 - loss 2.86844246\n",
      "2019-08-17 12:31:16,627 epoch 1 - iter 72/125 - loss 2.56183022\n",
      "2019-08-17 12:31:27,051 epoch 1 - iter 84/125 - loss 2.32089852\n",
      "2019-08-17 12:31:54,143 epoch 1 - iter 96/125 - loss 2.14478535\n",
      "2019-08-17 12:32:05,271 epoch 1 - iter 108/125 - loss 1.98398561\n",
      "2019-08-17 12:33:09,414 epoch 1 - iter 120/125 - loss 1.85322725\n",
      "2019-08-17 12:33:16,102 ----------------------------------------------------------------------------------------------------\n",
      "2019-08-17 12:33:16,193 EPOCH 1 done: loss 1.8061 - lr 0.0010 - bad epochs 0\n",
      "2019-08-17 12:35:24,873 DEV : loss 0.518156886100769 - score 0.8175\n",
      "2019-08-17 12:35:56,680 TEST : loss 0.8024922013282776 - score 0.7843\n",
      "2019-08-17 12:36:03,552 ----------------------------------------------------------------------------------------------------\n",
      "2019-08-17 12:36:05,598 epoch 2 - iter 0/125 - loss 0.64807594\n",
      "2019-08-17 12:36:17,120 epoch 2 - iter 12/125 - loss 0.51698140\n",
      "2019-08-17 12:36:29,217 epoch 2 - iter 24/125 - loss 0.53542928\n",
      "2019-08-17 12:36:40,721 epoch 2 - iter 36/125 - loss 0.53652193\n",
      "2019-08-17 12:37:00,861 epoch 2 - iter 48/125 - loss 0.53569019\n",
      "2019-08-17 12:37:10,945 epoch 2 - iter 60/125 - loss 0.50632756\n",
      "2019-08-17 12:37:22,380 epoch 2 - iter 72/125 - loss 0.50029128\n",
      "2019-08-17 12:37:33,519 epoch 2 - iter 84/125 - loss 0.50335269\n",
      "2019-08-17 12:37:44,170 epoch 2 - iter 96/125 - loss 0.50059216\n",
      "2019-08-17 12:37:55,805 epoch 2 - iter 108/125 - loss 0.50093392\n",
      "2019-08-17 12:38:06,803 epoch 2 - iter 120/125 - loss 0.49380546\n",
      "2019-08-17 12:38:10,889 ----------------------------------------------------------------------------------------------------\n",
      "2019-08-17 12:38:10,890 EPOCH 2 done: loss 0.4981 - lr 0.0010 - bad epochs 0\n",
      "2019-08-17 12:40:04,888 DEV : loss 0.4131792485713959 - score 0.8433\n",
      "2019-08-17 12:40:36,262 TEST : loss 0.8913484811782837 - score 0.7784\n",
      "2019-08-17 12:40:45,933 ----------------------------------------------------------------------------------------------------\n",
      "2019-08-17 12:40:48,141 epoch 3 - iter 0/125 - loss 0.51338094\n",
      "2019-08-17 12:41:00,454 epoch 3 - iter 12/125 - loss 0.42276890\n",
      "2019-08-17 12:41:12,525 epoch 3 - iter 24/125 - loss 0.40468085\n",
      "2019-08-17 12:41:22,873 epoch 3 - iter 36/125 - loss 0.37994733\n",
      "2019-08-17 12:41:34,566 epoch 3 - iter 48/125 - loss 0.38317669\n",
      "2019-08-17 12:41:46,322 epoch 3 - iter 60/125 - loss 0.38445195\n",
      "2019-08-17 12:41:57,595 epoch 3 - iter 72/125 - loss 0.38364652\n",
      "2019-08-17 12:42:09,666 epoch 3 - iter 84/125 - loss 0.38204789\n",
      "2019-08-17 12:42:20,030 epoch 3 - iter 96/125 - loss 0.37937125\n",
      "2019-08-17 12:42:31,005 epoch 3 - iter 108/125 - loss 0.37545363\n",
      "2019-08-17 12:42:41,371 epoch 3 - iter 120/125 - loss 0.36807999\n",
      "2019-08-17 12:42:45,018 ----------------------------------------------------------------------------------------------------\n",
      "2019-08-17 12:42:45,019 EPOCH 3 done: loss 0.3701 - lr 0.0010 - bad epochs 0\n",
      "2019-08-17 12:44:39,030 DEV : loss 0.2642691433429718 - score 0.902\n",
      "2019-08-17 12:45:10,991 TEST : loss 0.9353513717651367 - score 0.7917\n",
      "2019-08-17 12:45:16,833 ----------------------------------------------------------------------------------------------------\n",
      "2019-08-17 12:45:18,735 epoch 4 - iter 0/125 - loss 0.30834091\n",
      "2019-08-17 12:45:30,004 epoch 4 - iter 12/125 - loss 0.34115111\n",
      "2019-08-17 12:45:42,102 epoch 4 - iter 24/125 - loss 0.30763652\n",
      "2019-08-17 12:45:53,762 epoch 4 - iter 36/125 - loss 0.27189658\n",
      "2019-08-17 12:46:05,308 epoch 4 - iter 48/125 - loss 0.30111865\n",
      "2019-08-17 12:46:17,242 epoch 4 - iter 60/125 - loss 0.29235010\n",
      "2019-08-17 12:46:27,288 epoch 4 - iter 72/125 - loss 0.30336746\n",
      "2019-08-17 12:46:37,494 epoch 4 - iter 84/125 - loss 0.29851685\n",
      "2019-08-17 12:46:48,409 epoch 4 - iter 96/125 - loss 0.30089074\n",
      "2019-08-17 12:46:59,523 epoch 4 - iter 108/125 - loss 0.30470916\n",
      "2019-08-17 12:47:10,823 epoch 4 - iter 120/125 - loss 0.29887247\n",
      "2019-08-17 12:47:14,655 ----------------------------------------------------------------------------------------------------\n",
      "2019-08-17 12:47:14,657 EPOCH 4 done: loss 0.2979 - lr 0.0010 - bad epochs 0\n",
      "2019-08-17 12:49:07,984 DEV : loss 0.3281630575656891 - score 0.8708\n",
      "2019-08-17 12:49:39,725 TEST : loss 1.2795355319976807 - score 0.7672\n",
      "2019-08-17 12:50:03,195 ----------------------------------------------------------------------------------------------------\n",
      "2019-08-17 12:50:03,196 Testing using best model ...\n",
      "2019-08-17 12:50:03,521 loading file flair_resources/qc_en_uiuc/best-model.pt\n",
      "2019-08-17 12:50:57,409 0.7917\t0.7917\t0.7917\n",
      "2019-08-17 12:50:57,411 \n",
      "MICRO_AVG: acc 0.6552 - f1-score 0.7917\n",
      "MACRO_AVG: acc 0.5279 - f1-score 0.6246666666666667\n",
      "ABBR       tp: 0 - fp: 35 - fn: 0 - tn: 1314 - precision: 0.0000 - recall: 0.0000 - accuracy: 0.0000 - f1-score: 0.0000\n",
      "DESC       tp: 78 - fp: 27 - fn: 171 - tn: 1073 - precision: 0.7429 - recall: 0.3133 - accuracy: 0.2826 - f1-score: 0.4407\n",
      "ENTY       tp: 106 - fp: 83 - fn: 38 - tn: 1122 - precision: 0.5608 - recall: 0.7361 - accuracy: 0.4670 - f1-score: 0.6366\n",
      "HUM        tp: 282 - fp: 88 - fn: 25 - tn: 954 - precision: 0.7622 - recall: 0.9186 - accuracy: 0.7139 - f1-score: 0.8331\n",
      "LOC        tp: 224 - fp: 39 - fn: 21 - tn: 1065 - precision: 0.8517 - recall: 0.9143 - accuracy: 0.7887 - f1-score: 0.8819\n",
      "NUM        tp: 378 - fp: 9 - fn: 26 - tn: 936 - precision: 0.9767 - recall: 0.9356 - accuracy: 0.9153 - f1-score: 0.9557\n",
      "2019-08-17 12:50:57,412 ----------------------------------------------------------------------------------------------------\n",
      "2019-08-17 12:52:55,556 {'LOC', 'NUM', 'DESC', 'ENTY', 'ABBR', 'HUM'}\n",
      "2019-08-17 12:52:55,569 The pre-trained model you are loading is a cased model but you have not set `do_lower_case` to False. We are setting `do_lower_case=False` for you but you may want to check this behavior.\n",
      "2019-08-17 12:53:12,020 ----------------------------------------------------------------------------------------------------\n",
      "2019-08-17 12:53:12,022 Evaluation method: MICRO_F1_SCORE\n",
      "2019-08-17 12:53:12,701 ----------------------------------------------------------------------------------------------------\n",
      "2019-08-17 12:53:14,697 epoch 1 - iter 0/169 - loss 1.95810366\n",
      "2019-08-17 12:53:31,406 epoch 1 - iter 16/169 - loss 7.05379548\n",
      "2019-08-17 12:53:45,736 epoch 1 - iter 32/169 - loss 4.52658484\n",
      "2019-08-17 12:53:59,994 epoch 1 - iter 48/169 - loss 3.53520037\n",
      "2019-08-17 12:54:16,520 epoch 1 - iter 64/169 - loss 2.97755781\n",
      "2019-08-17 12:54:33,102 epoch 1 - iter 80/169 - loss 2.57450513\n",
      "2019-08-17 12:54:48,814 epoch 1 - iter 96/169 - loss 2.29077878\n",
      "2019-08-17 12:55:06,134 epoch 1 - iter 112/169 - loss 2.08187380\n",
      "2019-08-17 12:55:21,434 epoch 1 - iter 128/169 - loss 1.91291428\n",
      "2019-08-17 12:55:51,220 epoch 1 - iter 144/169 - loss 1.78118089\n",
      "2019-08-17 12:56:06,177 epoch 1 - iter 160/169 - loss 1.66545260\n",
      "2019-08-17 12:56:46,238 ----------------------------------------------------------------------------------------------------\n",
      "2019-08-17 12:56:47,559 EPOCH 1 done: loss 1.6149 - lr 0.0010 - bad epochs 0\n",
      "2019-08-17 12:59:23,607 DEV : loss 0.4983530342578888 - score 0.8186\n",
      "2019-08-17 12:59:55,943 TEST : loss 0.7357443571090698 - score 0.7887\n",
      "2019-08-17 13:00:03,292 ----------------------------------------------------------------------------------------------------\n"
     ]
    },
    {
     "name": "stdout",
     "output_type": "stream",
     "text": [
      "2019-08-17 13:00:05,203 epoch 2 - iter 0/169 - loss 0.65735203\n",
      "2019-08-17 13:00:20,827 epoch 2 - iter 16/169 - loss 0.42668125\n",
      "2019-08-17 13:00:35,781 epoch 2 - iter 32/169 - loss 0.46866686\n",
      "2019-08-17 13:00:50,638 epoch 2 - iter 48/169 - loss 0.47109203\n",
      "2019-08-17 13:01:06,108 epoch 2 - iter 64/169 - loss 0.49198029\n",
      "2019-08-17 13:01:20,295 epoch 2 - iter 80/169 - loss 0.48497822\n",
      "2019-08-17 13:01:35,141 epoch 2 - iter 96/169 - loss 0.49076826\n",
      "2019-08-17 13:01:50,992 epoch 2 - iter 112/169 - loss 0.48806929\n",
      "2019-08-17 13:02:04,402 epoch 2 - iter 128/169 - loss 0.49193886\n",
      "2019-08-17 13:02:18,987 epoch 2 - iter 144/169 - loss 0.49288729\n",
      "2019-08-17 13:02:33,855 epoch 2 - iter 160/169 - loss 0.48771508\n",
      "2019-08-17 13:02:43,141 ----------------------------------------------------------------------------------------------------\n",
      "2019-08-17 13:02:43,143 EPOCH 2 done: loss 0.4822 - lr 0.0010 - bad epochs 0\n",
      "2019-08-17 13:05:14,837 DEV : loss 0.3818710148334503 - score 0.8653\n",
      "2019-08-17 13:05:48,088 TEST : loss 1.10468590259552 - score 0.788\n",
      "2019-08-17 13:05:58,745 ----------------------------------------------------------------------------------------------------\n",
      "2019-08-17 13:06:00,612 epoch 3 - iter 0/169 - loss 0.29370683\n",
      "2019-08-17 13:06:15,966 epoch 3 - iter 16/169 - loss 0.32799327\n",
      "2019-08-17 13:06:32,035 epoch 3 - iter 32/169 - loss 0.31651541\n",
      "2019-08-17 13:06:46,399 epoch 3 - iter 48/169 - loss 0.33045109\n",
      "2019-08-17 13:07:00,486 epoch 3 - iter 64/169 - loss 0.34266437\n",
      "2019-08-17 13:07:14,827 epoch 3 - iter 80/169 - loss 0.36308572\n",
      "2019-08-17 13:07:28,391 epoch 3 - iter 96/169 - loss 0.37330597\n",
      "2019-08-17 13:07:42,898 epoch 3 - iter 112/169 - loss 0.37230980\n",
      "2019-08-17 13:09:24,453 epoch 3 - iter 128/169 - loss 0.36860732\n",
      "2019-08-17 13:10:08,031 epoch 3 - iter 144/169 - loss 0.37287993\n",
      "2019-08-17 13:10:29,818 epoch 3 - iter 160/169 - loss 0.37986990\n",
      "2019-08-17 13:10:39,664 ----------------------------------------------------------------------------------------------------\n",
      "2019-08-17 13:10:39,665 EPOCH 3 done: loss 0.3774 - lr 0.0010 - bad epochs 0\n",
      "2019-08-17 13:13:35,727 DEV : loss 0.2584735155105591 - score 0.9122\n",
      "2019-08-17 13:14:12,914 TEST : loss 1.0490199327468872 - score 0.7947\n",
      "2019-08-17 13:14:23,484 ----------------------------------------------------------------------------------------------------\n",
      "2019-08-17 13:14:25,828 epoch 4 - iter 0/169 - loss 0.27457118\n",
      "2019-08-17 13:14:40,319 epoch 4 - iter 16/169 - loss 0.28365685\n",
      "2019-08-17 13:14:54,324 epoch 4 - iter 32/169 - loss 0.25391697\n",
      "2019-08-17 13:15:09,079 epoch 4 - iter 48/169 - loss 0.25163597\n",
      "2019-08-17 13:15:24,309 epoch 4 - iter 64/169 - loss 0.26910555\n",
      "2019-08-17 13:15:40,223 epoch 4 - iter 80/169 - loss 0.25941090\n",
      "2019-08-17 13:15:56,022 epoch 4 - iter 96/169 - loss 0.27950243\n",
      "2019-08-17 13:16:12,108 epoch 4 - iter 112/169 - loss 0.28227123\n",
      "2019-08-17 13:16:28,628 epoch 4 - iter 128/169 - loss 0.29048987\n",
      "2019-08-17 13:16:42,777 epoch 4 - iter 144/169 - loss 0.29502302\n",
      "2019-08-17 13:16:57,442 epoch 4 - iter 160/169 - loss 0.29534366\n",
      "2019-08-17 13:17:33,334 ----------------------------------------------------------------------------------------------------\n",
      "2019-08-17 13:17:33,376 EPOCH 4 done: loss 0.2962 - lr 0.0010 - bad epochs 0\n",
      "2019-08-17 13:20:06,624 DEV : loss 0.17716960608959198 - score 0.9387\n",
      "2019-08-17 13:20:38,086 TEST : loss 1.2171108722686768 - score 0.7961\n",
      "2019-08-17 13:20:51,035 ----------------------------------------------------------------------------------------------------\n",
      "2019-08-17 13:20:51,037 Testing using best model ...\n",
      "2019-08-17 13:20:51,344 loading file flair_resources/qc_en_uiuc/best-model.pt\n",
      "2019-08-17 13:21:29,163 0.7961\t0.7961\t0.7961\n",
      "2019-08-17 13:21:29,164 \n",
      "MICRO_AVG: acc 0.6613 - f1-score 0.7961\n",
      "MACRO_AVG: acc 0.5302 - f1-score 0.6249666666666667\n",
      "ABBR       tp: 0 - fp: 36 - fn: 0 - tn: 1313 - precision: 0.0000 - recall: 0.0000 - accuracy: 0.0000 - f1-score: 0.0000\n",
      "DESC       tp: 71 - fp: 23 - fn: 178 - tn: 1077 - precision: 0.7553 - recall: 0.2851 - accuracy: 0.2610 - f1-score: 0.4139\n",
      "ENTY       tp: 99 - fp: 58 - fn: 45 - tn: 1147 - precision: 0.6306 - recall: 0.6875 - accuracy: 0.4901 - f1-score: 0.6578\n",
      "HUM        tp: 301 - fp: 113 - fn: 6 - tn: 929 - precision: 0.7271 - recall: 0.9805 - accuracy: 0.7167 - f1-score: 0.8350\n",
      "LOC        tp: 221 - fp: 33 - fn: 24 - tn: 1071 - precision: 0.8701 - recall: 0.9020 - accuracy: 0.7950 - f1-score: 0.8858\n",
      "NUM        tp: 382 - fp: 12 - fn: 22 - tn: 933 - precision: 0.9695 - recall: 0.9455 - accuracy: 0.9183 - f1-score: 0.9573\n",
      "2019-08-17 13:21:29,165 ----------------------------------------------------------------------------------------------------\n",
      "2019-08-17 13:24:47,800 {'LOC', 'NUM', 'DESC', 'ENTY', 'ABBR', 'HUM'}\n",
      "2019-08-17 13:24:47,815 The pre-trained model you are loading is a cased model but you have not set `do_lower_case` to False. We are setting `do_lower_case=False` for you but you may want to check this behavior.\n",
      "2019-08-17 13:25:04,375 ----------------------------------------------------------------------------------------------------\n",
      "2019-08-17 13:25:04,379 Evaluation method: MICRO_F1_SCORE\n",
      "2019-08-17 13:25:05,138 ----------------------------------------------------------------------------------------------------\n",
      "2019-08-17 13:25:07,366 epoch 1 - iter 0/169 - loss 2.55788875\n",
      "2019-08-17 13:25:24,196 epoch 1 - iter 16/169 - loss 6.25746195\n",
      "2019-08-17 13:25:39,748 epoch 1 - iter 32/169 - loss 4.07654696\n",
      "2019-08-17 13:25:56,366 epoch 1 - iter 48/169 - loss 3.21254878\n",
      "2019-08-17 13:26:12,726 epoch 1 - iter 64/169 - loss 2.70727031\n",
      "2019-08-17 13:26:27,351 epoch 1 - iter 80/169 - loss 2.38403006\n",
      "2019-08-17 13:27:43,605 epoch 1 - iter 96/169 - loss 2.14005391\n",
      "2019-08-17 13:28:44,569 epoch 1 - iter 112/169 - loss 1.94046161\n",
      "2019-08-17 13:28:58,656 epoch 1 - iter 128/169 - loss 1.79385127\n",
      "2019-08-17 13:30:27,251 epoch 1 - iter 144/169 - loss 1.67660496\n",
      "2019-08-17 13:30:44,376 epoch 1 - iter 160/169 - loss 1.58427712\n",
      "2019-08-17 13:30:53,677 ----------------------------------------------------------------------------------------------------\n",
      "2019-08-17 13:30:53,678 EPOCH 1 done: loss 1.5361 - lr 0.0010 - bad epochs 0\n",
      "2019-08-17 13:33:28,168 DEV : loss 0.5073963403701782 - score 0.8162\n",
      "2019-08-17 13:33:59,908 TEST : loss 0.8318877220153809 - score 0.7828\n",
      "2019-08-17 13:34:06,391 ----------------------------------------------------------------------------------------------------\n",
      "2019-08-17 13:34:09,224 epoch 2 - iter 0/169 - loss 0.51661617\n",
      "2019-08-17 13:34:25,300 epoch 2 - iter 16/169 - loss 0.57332146\n",
      "2019-08-17 13:34:41,346 epoch 2 - iter 32/169 - loss 0.54383331\n",
      "2019-08-17 13:35:08,510 epoch 2 - iter 48/169 - loss 0.54390474\n",
      "2019-08-17 13:35:22,198 epoch 2 - iter 64/169 - loss 0.53120083\n",
      "2019-08-17 13:36:29,589 epoch 2 - iter 80/169 - loss 0.51980797\n",
      "2019-08-17 13:36:57,526 epoch 2 - iter 96/169 - loss 0.51191354\n",
      "2019-08-17 13:37:18,989 epoch 2 - iter 112/169 - loss 0.51401470\n",
      "2019-08-17 13:37:40,026 epoch 2 - iter 128/169 - loss 0.51605739\n",
      "2019-08-17 13:37:58,763 epoch 2 - iter 144/169 - loss 0.51521752\n",
      "2019-08-17 13:38:20,028 epoch 2 - iter 160/169 - loss 0.51121612\n",
      "2019-08-17 13:38:29,334 ----------------------------------------------------------------------------------------------------\n",
      "2019-08-17 13:38:29,336 EPOCH 2 done: loss 0.5060 - lr 0.0010 - bad epochs 0\n",
      "2019-08-17 13:41:16,424 DEV : loss 0.3817519545555115 - score 0.8629\n",
      "2019-08-17 13:41:53,463 TEST : loss 0.7541679739952087 - score 0.7999\n",
      "2019-08-17 13:42:04,172 ----------------------------------------------------------------------------------------------------\n",
      "2019-08-17 13:42:06,766 epoch 3 - iter 0/169 - loss 0.49259198\n",
      "2019-08-17 13:42:24,191 epoch 3 - iter 16/169 - loss 0.34661946\n",
      "2019-08-17 13:42:37,914 epoch 3 - iter 32/169 - loss 0.34635610\n",
      "2019-08-17 13:42:52,224 epoch 3 - iter 48/169 - loss 0.35344877\n",
      "2019-08-17 13:43:07,323 epoch 3 - iter 64/169 - loss 0.35175730\n",
      "2019-08-17 13:43:22,342 epoch 3 - iter 80/169 - loss 0.35241822\n",
      "2019-08-17 13:43:38,050 epoch 3 - iter 96/169 - loss 0.36101233\n",
      "2019-08-17 13:43:52,520 epoch 3 - iter 112/169 - loss 0.36168731\n",
      "2019-08-17 13:44:08,413 epoch 3 - iter 128/169 - loss 0.37282240\n",
      "2019-08-17 13:45:09,663 epoch 3 - iter 144/169 - loss 0.37299669\n"
     ]
    },
    {
     "name": "stdout",
     "output_type": "stream",
     "text": [
      "2019-08-17 13:45:27,242 epoch 3 - iter 160/169 - loss 0.37776678\n",
      "2019-08-17 13:46:01,151 ----------------------------------------------------------------------------------------------------\n",
      "2019-08-17 13:46:02,212 EPOCH 3 done: loss 0.3808 - lr 0.0010 - bad epochs 0\n",
      "2019-08-17 13:48:51,038 DEV : loss 0.24817469716072083 - score 0.9168\n",
      "2019-08-17 13:49:23,327 TEST : loss 0.9335619807243347 - score 0.788\n",
      "2019-08-17 13:49:37,981 ----------------------------------------------------------------------------------------------------\n",
      "2019-08-17 13:49:40,385 epoch 4 - iter 0/169 - loss 0.13038202\n",
      "2019-08-17 13:49:55,540 epoch 4 - iter 16/169 - loss 0.25369955\n",
      "2019-08-17 13:50:09,605 epoch 4 - iter 32/169 - loss 0.30129015\n",
      "2019-08-17 13:50:24,649 epoch 4 - iter 48/169 - loss 0.29098105\n",
      "2019-08-17 13:50:41,010 epoch 4 - iter 64/169 - loss 0.29712043\n",
      "2019-08-17 13:50:56,187 epoch 4 - iter 80/169 - loss 0.28285869\n",
      "2019-08-17 13:55:14,325 epoch 4 - iter 96/169 - loss 0.29421579\n",
      "2019-08-17 13:55:35,421 epoch 4 - iter 112/169 - loss 0.29312180\n",
      "2019-08-17 13:55:54,215 epoch 4 - iter 128/169 - loss 0.28918277\n",
      "2019-08-17 13:56:10,304 epoch 4 - iter 144/169 - loss 0.29266984\n",
      "2019-08-17 13:56:27,853 epoch 4 - iter 160/169 - loss 0.29572000\n",
      "2019-08-17 13:56:41,325 ----------------------------------------------------------------------------------------------------\n",
      "2019-08-17 13:56:41,327 EPOCH 4 done: loss 0.2991 - lr 0.0010 - bad epochs 0\n",
      "2019-08-17 13:59:40,288 DEV : loss 0.2353074848651886 - score 0.9124\n",
      "2019-08-17 14:00:15,774 TEST : loss 1.068472146987915 - score 0.7821\n",
      "2019-08-17 14:00:22,563 ----------------------------------------------------------------------------------------------------\n",
      "2019-08-17 14:00:22,564 Testing using best model ...\n",
      "2019-08-17 14:00:22,718 loading file flair_resources/qc_en_uiuc/best-model.pt\n",
      "2019-08-17 14:01:10,699 0.788\t0.788\t0.788\n",
      "2019-08-17 14:01:10,700 \n",
      "MICRO_AVG: acc 0.6502 - f1-score 0.788\n",
      "MACRO_AVG: acc 0.5238 - f1-score 0.62065\n",
      "ABBR       tp: 0 - fp: 48 - fn: 0 - tn: 1301 - precision: 0.0000 - recall: 0.0000 - accuracy: 0.0000 - f1-score: 0.0000\n",
      "DESC       tp: 73 - fp: 34 - fn: 176 - tn: 1066 - precision: 0.6822 - recall: 0.2932 - accuracy: 0.2580 - f1-score: 0.4101\n",
      "ENTY       tp: 85 - fp: 28 - fn: 59 - tn: 1177 - precision: 0.7522 - recall: 0.5903 - accuracy: 0.4942 - f1-score: 0.6615\n",
      "HUM        tp: 302 - fp: 119 - fn: 5 - tn: 923 - precision: 0.7173 - recall: 0.9837 - accuracy: 0.7089 - f1-score: 0.8296\n",
      "LOC        tp: 224 - fp: 50 - fn: 21 - tn: 1054 - precision: 0.8175 - recall: 0.9143 - accuracy: 0.7593 - f1-score: 0.8632\n",
      "NUM        tp: 379 - fp: 7 - fn: 25 - tn: 938 - precision: 0.9819 - recall: 0.9381 - accuracy: 0.9221 - f1-score: 0.9595\n",
      "2019-08-17 14:01:10,701 ----------------------------------------------------------------------------------------------------\n",
      "2019-08-17 14:04:40,520 {'LOC', 'NUM', 'DESC', 'ENTY', 'ABBR', 'HUM'}\n",
      "2019-08-17 14:04:40,542 The pre-trained model you are loading is a cased model but you have not set `do_lower_case` to False. We are setting `do_lower_case=False` for you but you may want to check this behavior.\n",
      "2019-08-17 14:05:00,138 ----------------------------------------------------------------------------------------------------\n",
      "2019-08-17 14:05:00,140 Evaluation method: MICRO_F1_SCORE\n",
      "2019-08-17 14:05:00,915 ----------------------------------------------------------------------------------------------------\n",
      "2019-08-17 14:05:03,747 epoch 1 - iter 0/32 - loss 1.76256573\n",
      "2019-08-17 14:05:07,983 epoch 1 - iter 3/32 - loss 12.29338458\n",
      "2019-08-17 14:05:11,523 epoch 1 - iter 6/32 - loss 8.18545708\n",
      "2019-08-17 14:05:13,978 epoch 1 - iter 9/32 - loss 6.98265709\n",
      "2019-08-17 14:05:18,401 epoch 1 - iter 12/32 - loss 5.86629844\n",
      "2019-08-17 14:05:22,527 epoch 1 - iter 15/32 - loss 5.18456855\n",
      "2019-08-17 14:05:26,031 epoch 1 - iter 18/32 - loss 4.70576917\n",
      "2019-08-17 14:05:31,526 epoch 1 - iter 21/32 - loss 4.26050469\n",
      "2019-08-17 14:05:40,180 epoch 1 - iter 24/32 - loss 4.00161048\n",
      "2019-08-17 14:05:42,938 epoch 1 - iter 27/32 - loss 3.71005143\n",
      "2019-08-17 14:05:47,628 epoch 1 - iter 30/32 - loss 3.49239758\n",
      "2019-08-17 14:06:11,341 ----------------------------------------------------------------------------------------------------\n",
      "2019-08-17 14:06:11,342 EPOCH 1 done: loss 3.4120 - lr 0.0010 - bad epochs 0\n",
      "2019-08-17 14:06:38,320 DEV : loss 1.1678804159164429 - score 0.528\n",
      "2019-08-17 14:06:49,347 TEST : loss 1.14480721950531 - score 0.532\n",
      "2019-08-17 14:06:55,349 ----------------------------------------------------------------------------------------------------\n",
      "2019-08-17 14:06:58,599 epoch 2 - iter 0/32 - loss 1.37823617\n",
      "2019-08-17 14:07:01,034 epoch 2 - iter 3/32 - loss 1.39159609\n",
      "2019-08-17 14:07:03,728 epoch 2 - iter 6/32 - loss 1.32999886\n",
      "2019-08-17 14:07:06,086 epoch 2 - iter 9/32 - loss 1.26014031\n",
      "2019-08-17 14:07:09,060 epoch 2 - iter 12/32 - loss 1.27670174\n",
      "2019-08-17 14:07:11,686 epoch 2 - iter 15/32 - loss 1.23095274\n",
      "2019-08-17 14:07:14,443 epoch 2 - iter 18/32 - loss 1.20847880\n",
      "2019-08-17 14:07:17,173 epoch 2 - iter 21/32 - loss 1.15240801\n",
      "2019-08-17 14:07:20,311 epoch 2 - iter 24/32 - loss 1.11708606\n",
      "2019-08-17 14:07:23,409 epoch 2 - iter 27/32 - loss 1.09421891\n",
      "2019-08-17 14:07:25,806 epoch 2 - iter 30/32 - loss 1.07608723\n",
      "2019-08-17 14:07:31,529 ----------------------------------------------------------------------------------------------------\n",
      "2019-08-17 14:07:31,550 EPOCH 2 done: loss 1.0906 - lr 0.0010 - bad epochs 0\n",
      "2019-08-17 14:07:57,675 DEV : loss 0.8256545066833496 - score 0.668\n",
      "2019-08-17 14:08:07,984 TEST : loss 0.8779470920562744 - score 0.702\n",
      "2019-08-17 14:08:13,765 ----------------------------------------------------------------------------------------------------\n",
      "2019-08-17 14:08:15,721 epoch 3 - iter 0/32 - loss 0.55376315\n",
      "2019-08-17 14:08:18,925 epoch 3 - iter 3/32 - loss 0.69160326\n",
      "2019-08-17 14:08:21,531 epoch 3 - iter 6/32 - loss 0.71185674\n",
      "2019-08-17 14:08:24,250 epoch 3 - iter 9/32 - loss 0.71703156\n",
      "2019-08-17 14:08:38,214 epoch 3 - iter 12/32 - loss 0.71699955\n",
      "2019-08-17 14:08:40,865 epoch 3 - iter 15/32 - loss 0.67306427\n",
      "2019-08-17 14:08:43,255 epoch 3 - iter 18/32 - loss 0.66868550\n",
      "2019-08-17 14:08:45,698 epoch 3 - iter 21/32 - loss 0.64915063\n",
      "2019-08-17 14:08:48,359 epoch 3 - iter 24/32 - loss 0.63486008\n",
      "2019-08-17 14:08:50,662 epoch 3 - iter 27/32 - loss 0.61092870\n",
      "2019-08-17 14:08:53,961 epoch 3 - iter 30/32 - loss 0.61359040\n",
      "2019-08-17 14:08:59,085 ----------------------------------------------------------------------------------------------------\n",
      "2019-08-17 14:08:59,087 EPOCH 3 done: loss 0.5999 - lr 0.0010 - bad epochs 0\n",
      "2019-08-17 14:09:25,334 DEV : loss 0.8400859832763672 - score 0.744\n",
      "2019-08-17 14:09:35,476 TEST : loss 0.8456125855445862 - score 0.724\n",
      "2019-08-17 14:09:43,445 ----------------------------------------------------------------------------------------------------\n",
      "2019-08-17 14:09:45,532 epoch 4 - iter 0/32 - loss 0.89851636\n",
      "2019-08-17 14:09:48,421 epoch 4 - iter 3/32 - loss 0.58717965\n",
      "2019-08-17 14:09:51,357 epoch 4 - iter 6/32 - loss 0.48354181\n",
      "2019-08-17 14:09:53,957 epoch 4 - iter 9/32 - loss 0.49108765\n",
      "2019-08-17 14:09:57,188 epoch 4 - iter 12/32 - loss 0.43971484\n",
      "2019-08-17 14:09:59,846 epoch 4 - iter 15/32 - loss 0.42848927\n",
      "2019-08-17 14:10:02,742 epoch 4 - iter 18/32 - loss 0.41811052\n",
      "2019-08-17 14:10:05,369 epoch 4 - iter 21/32 - loss 0.43323266\n",
      "2019-08-17 14:10:08,201 epoch 4 - iter 24/32 - loss 0.43857360\n",
      "2019-08-17 14:10:10,545 epoch 4 - iter 27/32 - loss 0.43464720\n",
      "2019-08-17 14:10:13,407 epoch 4 - iter 30/32 - loss 0.41869323\n",
      "2019-08-17 14:10:16,618 ----------------------------------------------------------------------------------------------------\n",
      "2019-08-17 14:10:16,619 EPOCH 4 done: loss 0.4339 - lr 0.0010 - bad epochs 0\n",
      "2019-08-17 14:10:43,296 DEV : loss 0.8358550667762756 - score 0.678\n",
      "2019-08-17 14:10:53,481 TEST : loss 1.1693733930587769 - score 0.648\n",
      "2019-08-17 14:10:59,014 ----------------------------------------------------------------------------------------------------\n",
      "2019-08-17 14:10:59,015 Testing using best model ...\n",
      "2019-08-17 14:10:59,017 loading file flair_resources/qc_en_uiuc/best-model.pt\n",
      "2019-08-17 14:11:17,032 0.724\t0.724\t0.724\n"
     ]
    },
    {
     "name": "stdout",
     "output_type": "stream",
     "text": [
      "2019-08-17 14:11:17,034 \n",
      "MICRO_AVG: acc 0.5674 - f1-score 0.724\n",
      "MACRO_AVG: acc 0.4593 - f1-score 0.5640833333333334\n",
      "ABBR       tp: 0 - fp: 0 - fn: 9 - tn: 491 - precision: 0.0000 - recall: 0.0000 - accuracy: 0.0000 - f1-score: 0.0000\n",
      "DESC       tp: 135 - fp: 58 - fn: 3 - tn: 304 - precision: 0.6995 - recall: 0.9783 - accuracy: 0.6888 - f1-score: 0.8157\n",
      "ENTY       tp: 13 - fp: 5 - fn: 81 - tn: 401 - precision: 0.7222 - recall: 0.1383 - accuracy: 0.1313 - f1-score: 0.2321\n",
      "HUM        tp: 65 - fp: 62 - fn: 0 - tn: 373 - precision: 0.5118 - recall: 1.0000 - accuracy: 0.5118 - f1-score: 0.6771\n",
      "LOC        tp: 59 - fp: 11 - fn: 22 - tn: 408 - precision: 0.8429 - recall: 0.7284 - accuracy: 0.6413 - f1-score: 0.7815\n",
      "NUM        tp: 90 - fp: 2 - fn: 23 - tn: 385 - precision: 0.9783 - recall: 0.7965 - accuracy: 0.7826 - f1-score: 0.8781\n",
      "2019-08-17 14:11:17,035 ----------------------------------------------------------------------------------------------------\n",
      "2019-08-17 14:11:43,155 {'LOC', 'NUM', 'DESC', 'ENTY', 'ABBR', 'HUM'}\n",
      "2019-08-17 14:11:43,156 The pre-trained model you are loading is a cased model but you have not set `do_lower_case` to False. We are setting `do_lower_case=False` for you but you may want to check this behavior.\n",
      "2019-08-17 14:12:01,780 ----------------------------------------------------------------------------------------------------\n",
      "2019-08-17 14:12:01,781 Evaluation method: MICRO_F1_SCORE\n",
      "2019-08-17 14:12:02,465 ----------------------------------------------------------------------------------------------------\n",
      "2019-08-17 14:12:04,856 epoch 1 - iter 0/32 - loss 1.91081202\n",
      "2019-08-17 14:12:07,764 epoch 1 - iter 3/32 - loss 14.24383786\n",
      "2019-08-17 14:12:10,341 epoch 1 - iter 6/32 - loss 10.02909771\n",
      "2019-08-17 14:12:13,096 epoch 1 - iter 9/32 - loss 7.66603802\n",
      "2019-08-17 14:12:15,771 epoch 1 - iter 12/32 - loss 6.26758793\n",
      "2019-08-17 14:12:18,916 epoch 1 - iter 15/32 - loss 5.41880631\n",
      "2019-08-17 14:12:21,424 epoch 1 - iter 18/32 - loss 4.82093511\n",
      "2019-08-17 14:12:46,995 epoch 1 - iter 21/32 - loss 4.39525752\n",
      "2019-08-17 14:13:24,689 epoch 1 - iter 24/32 - loss 4.07734794\n",
      "2019-08-17 14:13:43,436 epoch 1 - iter 27/32 - loss 3.92721289\n",
      "2019-08-17 14:13:54,263 epoch 1 - iter 30/32 - loss 3.70665622\n",
      "2019-08-17 14:13:59,599 ----------------------------------------------------------------------------------------------------\n",
      "2019-08-17 14:13:59,609 EPOCH 1 done: loss 3.6303 - lr 0.0010 - bad epochs 0\n",
      "2019-08-17 14:14:35,269 DEV : loss 1.5558072328567505 - score 0.502\n",
      "2019-08-17 14:14:48,873 TEST : loss 1.410840392112732 - score 0.564\n",
      "2019-08-17 14:15:01,748 ----------------------------------------------------------------------------------------------------\n",
      "2019-08-17 14:15:04,066 epoch 2 - iter 0/32 - loss 1.73699439\n",
      "2019-08-17 14:15:06,775 epoch 2 - iter 3/32 - loss 1.89514869\n",
      "2019-08-17 14:15:09,250 epoch 2 - iter 6/32 - loss 1.75078096\n",
      "2019-08-17 14:15:12,254 epoch 2 - iter 9/32 - loss 1.65822535\n",
      "2019-08-17 14:15:15,527 epoch 2 - iter 12/32 - loss 1.57295452\n",
      "2019-08-17 14:15:18,417 epoch 2 - iter 15/32 - loss 1.52721155\n",
      "2019-08-17 14:15:26,028 epoch 2 - iter 18/32 - loss 1.48269257\n",
      "2019-08-17 14:15:28,673 epoch 2 - iter 21/32 - loss 1.49909947\n",
      "2019-08-17 14:15:31,857 epoch 2 - iter 24/32 - loss 1.45808764\n",
      "2019-08-17 14:15:34,430 epoch 2 - iter 27/32 - loss 1.41022389\n",
      "2019-08-17 14:15:37,069 epoch 2 - iter 30/32 - loss 1.38864457\n",
      "2019-08-17 14:15:39,763 ----------------------------------------------------------------------------------------------------\n",
      "2019-08-17 14:15:39,765 EPOCH 2 done: loss 1.3719 - lr 0.0010 - bad epochs 0\n",
      "2019-08-17 14:16:06,328 DEV : loss 0.7548688054084778 - score 0.745\n",
      "2019-08-17 14:16:17,229 TEST : loss 0.7221735715866089 - score 0.802\n",
      "2019-08-17 14:16:23,504 ----------------------------------------------------------------------------------------------------\n",
      "2019-08-17 14:16:25,471 epoch 3 - iter 0/32 - loss 0.80335075\n",
      "2019-08-17 14:16:27,891 epoch 3 - iter 3/32 - loss 1.00503528\n",
      "2019-08-17 14:16:30,464 epoch 3 - iter 6/32 - loss 1.01108605\n",
      "2019-08-17 14:16:40,090 epoch 3 - iter 9/32 - loss 0.93781327\n",
      "2019-08-17 14:16:42,918 epoch 3 - iter 12/32 - loss 0.91825715\n",
      "2019-08-17 14:16:46,840 epoch 3 - iter 15/32 - loss 0.87120981\n",
      "2019-08-17 14:16:49,027 epoch 3 - iter 18/32 - loss 0.91241418\n",
      "2019-08-17 14:16:52,500 epoch 3 - iter 21/32 - loss 0.90773783\n",
      "2019-08-17 14:16:55,781 epoch 3 - iter 24/32 - loss 0.85770575\n",
      "2019-08-17 14:16:58,090 epoch 3 - iter 27/32 - loss 0.83972269\n",
      "2019-08-17 14:17:01,136 epoch 3 - iter 30/32 - loss 0.82038302\n",
      "2019-08-17 14:17:08,278 ----------------------------------------------------------------------------------------------------\n",
      "2019-08-17 14:17:08,279 EPOCH 3 done: loss 0.8376 - lr 0.0010 - bad epochs 0\n",
      "2019-08-17 14:17:34,679 DEV : loss 0.5572271943092346 - score 0.797\n",
      "2019-08-17 14:17:44,725 TEST : loss 0.6357036828994751 - score 0.786\n",
      "2019-08-17 14:17:50,444 ----------------------------------------------------------------------------------------------------\n",
      "2019-08-17 14:17:52,437 epoch 4 - iter 0/32 - loss 0.55040801\n",
      "2019-08-17 14:17:55,179 epoch 4 - iter 3/32 - loss 0.45655891\n",
      "2019-08-17 14:17:58,220 epoch 4 - iter 6/32 - loss 0.46644001\n",
      "2019-08-17 14:18:00,784 epoch 4 - iter 9/32 - loss 0.55663540\n",
      "2019-08-17 14:18:03,560 epoch 4 - iter 12/32 - loss 0.56101715\n",
      "2019-08-17 14:18:05,916 epoch 4 - iter 15/32 - loss 0.56377303\n",
      "2019-08-17 14:18:08,682 epoch 4 - iter 18/32 - loss 0.56323247\n",
      "2019-08-17 14:18:11,940 epoch 4 - iter 21/32 - loss 0.56702376\n",
      "2019-08-17 14:18:14,402 epoch 4 - iter 24/32 - loss 0.55861823\n",
      "2019-08-17 14:18:17,014 epoch 4 - iter 27/32 - loss 0.55045689\n",
      "2019-08-17 14:18:19,599 epoch 4 - iter 30/32 - loss 0.54133880\n",
      "2019-08-17 14:18:24,462 ----------------------------------------------------------------------------------------------------\n",
      "2019-08-17 14:18:24,464 EPOCH 4 done: loss 0.5393 - lr 0.0010 - bad epochs 0\n",
      "2019-08-17 14:18:51,201 DEV : loss 0.5160435438156128 - score 0.806\n",
      "2019-08-17 14:19:01,655 TEST : loss 0.6223483085632324 - score 0.784\n",
      "2019-08-17 14:19:14,207 ----------------------------------------------------------------------------------------------------\n",
      "2019-08-17 14:19:14,208 Testing using best model ...\n",
      "2019-08-17 14:19:14,210 loading file flair_resources/qc_en_uiuc/best-model.pt\n",
      "2019-08-17 14:19:39,733 0.784\t0.784\t0.784\n",
      "2019-08-17 14:19:39,735 \n",
      "MICRO_AVG: acc 0.6447 - f1-score 0.784\n",
      "MACRO_AVG: acc 0.5687 - f1-score 0.6911666666666666\n",
      "ABBR       tp: 1 - fp: 0 - fn: 8 - tn: 491 - precision: 1.0000 - recall: 0.1111 - accuracy: 0.1111 - f1-score: 0.2000\n",
      "DESC       tp: 128 - fp: 37 - fn: 10 - tn: 325 - precision: 0.7758 - recall: 0.9275 - accuracy: 0.7314 - f1-score: 0.8449\n",
      "ENTY       tp: 76 - fp: 67 - fn: 18 - tn: 339 - precision: 0.5315 - recall: 0.8085 - accuracy: 0.4720 - f1-score: 0.6414\n",
      "HUM        tp: 47 - fp: 1 - fn: 18 - tn: 434 - precision: 0.9792 - recall: 0.7231 - accuracy: 0.7121 - f1-score: 0.8319\n",
      "LOC        tp: 48 - fp: 0 - fn: 33 - tn: 419 - precision: 1.0000 - recall: 0.5926 - accuracy: 0.5926 - f1-score: 0.7442\n",
      "NUM        tp: 92 - fp: 3 - fn: 21 - tn: 384 - precision: 0.9684 - recall: 0.8142 - accuracy: 0.7931 - f1-score: 0.8846\n",
      "2019-08-17 14:19:39,736 ----------------------------------------------------------------------------------------------------\n",
      "2019-08-17 14:20:06,607 {'LOC', 'NUM', 'DESC', 'ENTY', 'ABBR', 'HUM'}\n",
      "2019-08-17 14:20:06,609 The pre-trained model you are loading is a cased model but you have not set `do_lower_case` to False. We are setting `do_lower_case=False` for you but you may want to check this behavior.\n",
      "2019-08-17 14:20:23,719 ----------------------------------------------------------------------------------------------------\n",
      "2019-08-17 14:20:23,720 Evaluation method: MICRO_F1_SCORE\n",
      "2019-08-17 14:20:24,415 ----------------------------------------------------------------------------------------------------\n",
      "2019-08-17 14:20:26,437 epoch 1 - iter 0/63 - loss 1.89763927\n",
      "2019-08-17 14:20:31,785 epoch 1 - iter 6/63 - loss 6.88333280\n",
      "2019-08-17 14:20:36,598 epoch 1 - iter 12/63 - loss 4.87731206\n",
      "2019-08-17 14:20:40,989 epoch 1 - iter 18/63 - loss 3.94015163\n",
      "2019-08-17 14:20:46,869 epoch 1 - iter 24/63 - loss 3.45477925\n"
     ]
    },
    {
     "name": "stdout",
     "output_type": "stream",
     "text": [
      "2019-08-17 14:20:52,351 epoch 1 - iter 30/63 - loss 3.13793791\n",
      "2019-08-17 14:20:58,187 epoch 1 - iter 36/63 - loss 2.87647134\n",
      "2019-08-17 14:21:03,691 epoch 1 - iter 42/63 - loss 2.67898679\n",
      "2019-08-17 14:21:34,745 epoch 1 - iter 48/63 - loss 2.52067423\n",
      "2019-08-17 14:21:41,014 epoch 1 - iter 54/63 - loss 2.41049785\n",
      "2019-08-17 14:21:45,910 epoch 1 - iter 60/63 - loss 2.30902179\n",
      "2019-08-17 14:22:05,803 ----------------------------------------------------------------------------------------------------\n",
      "2019-08-17 14:22:07,384 EPOCH 1 done: loss 2.2739 - lr 0.0010 - bad epochs 0\n",
      "2019-08-17 14:22:59,691 DEV : loss 0.9113616347312927 - score 0.641\n",
      "2019-08-17 14:23:10,002 TEST : loss 1.051438808441162 - score 0.61\n",
      "2019-08-17 14:23:16,807 ----------------------------------------------------------------------------------------------------\n",
      "2019-08-17 14:23:18,990 epoch 2 - iter 0/63 - loss 1.05307782\n",
      "2019-08-17 14:23:24,850 epoch 2 - iter 6/63 - loss 1.02450063\n",
      "2019-08-17 14:23:29,627 epoch 2 - iter 12/63 - loss 0.87763194\n",
      "2019-08-17 14:23:35,698 epoch 2 - iter 18/63 - loss 0.82312069\n",
      "2019-08-17 14:23:40,603 epoch 2 - iter 24/63 - loss 0.77723322\n",
      "2019-08-17 14:23:45,738 epoch 2 - iter 30/63 - loss 0.75922729\n",
      "2019-08-17 14:23:50,816 epoch 2 - iter 36/63 - loss 0.73398356\n",
      "2019-08-17 14:23:56,472 epoch 2 - iter 42/63 - loss 0.72361369\n",
      "2019-08-17 14:24:01,876 epoch 2 - iter 48/63 - loss 0.72593948\n",
      "2019-08-17 14:24:07,265 epoch 2 - iter 54/63 - loss 0.71816524\n",
      "2019-08-17 14:24:12,193 epoch 2 - iter 60/63 - loss 0.71973490\n",
      "2019-08-17 14:24:14,814 ----------------------------------------------------------------------------------------------------\n",
      "2019-08-17 14:24:14,815 EPOCH 2 done: loss 0.7295 - lr 0.0010 - bad epochs 0\n",
      "2019-08-17 14:25:06,901 DEV : loss 0.6191328167915344 - score 0.77\n",
      "2019-08-17 14:25:17,460 TEST : loss 0.5992196202278137 - score 0.79\n",
      "2019-08-17 14:25:23,734 ----------------------------------------------------------------------------------------------------\n",
      "2019-08-17 14:25:25,595 epoch 3 - iter 0/63 - loss 0.73722380\n",
      "2019-08-17 14:25:32,541 epoch 3 - iter 6/63 - loss 0.51531586\n",
      "2019-08-17 14:25:37,953 epoch 3 - iter 12/63 - loss 0.50011444\n",
      "2019-08-17 14:25:42,427 epoch 3 - iter 18/63 - loss 0.49447217\n",
      "2019-08-17 14:25:47,786 epoch 3 - iter 24/63 - loss 0.47916801\n",
      "2019-08-17 14:25:52,993 epoch 3 - iter 30/63 - loss 0.46661179\n",
      "2019-08-17 14:25:58,061 epoch 3 - iter 36/63 - loss 0.45806937\n",
      "2019-08-17 14:26:29,538 epoch 3 - iter 42/63 - loss 0.44964900\n",
      "2019-08-17 14:26:41,176 epoch 3 - iter 48/63 - loss 0.45211044\n",
      "2019-08-17 14:26:47,651 epoch 3 - iter 54/63 - loss 0.45331752\n",
      "2019-08-17 14:26:52,540 epoch 3 - iter 60/63 - loss 0.45316638\n",
      "2019-08-17 14:26:57,627 ----------------------------------------------------------------------------------------------------\n",
      "2019-08-17 14:26:57,628 EPOCH 3 done: loss 0.4572 - lr 0.0010 - bad epochs 0\n",
      "2019-08-17 14:27:51,176 DEV : loss 0.3887888789176941 - score 0.858\n",
      "2019-08-17 14:28:01,831 TEST : loss 0.5274876356124878 - score 0.812\n",
      "2019-08-17 14:28:08,062 ----------------------------------------------------------------------------------------------------\n",
      "2019-08-17 14:28:10,149 epoch 4 - iter 0/63 - loss 0.35211670\n",
      "2019-08-17 14:28:15,311 epoch 4 - iter 6/63 - loss 0.33312772\n",
      "2019-08-17 14:28:20,958 epoch 4 - iter 12/63 - loss 0.34995849\n",
      "2019-08-17 14:28:26,269 epoch 4 - iter 18/63 - loss 0.38115870\n",
      "2019-08-17 14:28:31,052 epoch 4 - iter 24/63 - loss 0.38057331\n",
      "2019-08-17 14:28:36,519 epoch 4 - iter 30/63 - loss 0.37321208\n",
      "2019-08-17 14:28:42,070 epoch 4 - iter 36/63 - loss 0.35976260\n",
      "2019-08-17 14:28:47,205 epoch 4 - iter 42/63 - loss 0.35040377\n",
      "2019-08-17 14:28:52,392 epoch 4 - iter 48/63 - loss 0.34794730\n",
      "2019-08-17 14:28:58,220 epoch 4 - iter 54/63 - loss 0.34993334\n",
      "2019-08-17 14:29:04,359 epoch 4 - iter 60/63 - loss 0.35855234\n",
      "2019-08-17 14:29:07,808 ----------------------------------------------------------------------------------------------------\n",
      "2019-08-17 14:29:07,846 EPOCH 4 done: loss 0.3600 - lr 0.0010 - bad epochs 0\n",
      "2019-08-17 14:30:03,274 DEV : loss 0.2597000300884247 - score 0.915\n",
      "2019-08-17 14:30:13,378 TEST : loss 0.3854421377182007 - score 0.866\n",
      "2019-08-17 14:30:27,508 ----------------------------------------------------------------------------------------------------\n",
      "2019-08-17 14:30:27,509 Testing using best model ...\n",
      "2019-08-17 14:30:27,625 loading file flair_resources/qc_en_uiuc/best-model.pt\n",
      "2019-08-17 14:30:46,202 0.866\t0.866\t0.866\n",
      "2019-08-17 14:30:46,219 \n",
      "MICRO_AVG: acc 0.7637 - f1-score 0.866\n",
      "MACRO_AVG: acc 0.6766 - f1-score 0.7825666666666665\n",
      "ABBR       tp: 2 - fp: 0 - fn: 7 - tn: 491 - precision: 1.0000 - recall: 0.2222 - accuracy: 0.2222 - f1-score: 0.3636\n",
      "DESC       tp: 134 - fp: 29 - fn: 4 - tn: 333 - precision: 0.8221 - recall: 0.9710 - accuracy: 0.8024 - f1-score: 0.8904\n",
      "ENTY       tp: 70 - fp: 17 - fn: 24 - tn: 389 - precision: 0.8046 - recall: 0.7447 - accuracy: 0.6306 - f1-score: 0.7735\n",
      "HUM        tp: 54 - fp: 4 - fn: 11 - tn: 431 - precision: 0.9310 - recall: 0.8308 - accuracy: 0.7826 - f1-score: 0.8781\n",
      "LOC        tp: 65 - fp: 4 - fn: 16 - tn: 415 - precision: 0.9420 - recall: 0.8025 - accuracy: 0.7647 - f1-score: 0.8667\n",
      "NUM        tp: 108 - fp: 13 - fn: 5 - tn: 374 - precision: 0.8926 - recall: 0.9558 - accuracy: 0.8571 - f1-score: 0.9231\n",
      "2019-08-17 14:30:46,220 ----------------------------------------------------------------------------------------------------\n",
      "2019-08-17 14:31:49,836 {'LOC', 'NUM', 'DESC', 'ENTY', 'ABBR', 'HUM'}\n",
      "2019-08-17 14:31:49,839 The pre-trained model you are loading is a cased model but you have not set `do_lower_case` to False. We are setting `do_lower_case=False` for you but you may want to check this behavior.\n",
      "2019-08-17 14:32:16,148 ----------------------------------------------------------------------------------------------------\n",
      "2019-08-17 14:32:16,149 Evaluation method: MICRO_F1_SCORE\n",
      "2019-08-17 14:32:16,845 ----------------------------------------------------------------------------------------------------\n",
      "2019-08-17 14:32:19,847 epoch 1 - iter 0/63 - loss 1.82511318\n",
      "2019-08-17 14:32:26,598 epoch 1 - iter 6/63 - loss 8.28417953\n",
      "2019-08-17 14:32:31,287 epoch 1 - iter 12/63 - loss 5.76361747\n",
      "2019-08-17 14:32:36,430 epoch 1 - iter 18/63 - loss 4.51171635\n",
      "2019-08-17 14:32:42,302 epoch 1 - iter 24/63 - loss 3.88418150\n",
      "2019-08-17 14:32:47,509 epoch 1 - iter 30/63 - loss 3.41725168\n",
      "2019-08-17 14:32:52,150 epoch 1 - iter 36/63 - loss 3.10944881\n",
      "2019-08-17 14:32:57,060 epoch 1 - iter 42/63 - loss 2.87908545\n",
      "2019-08-17 14:33:24,913 epoch 1 - iter 48/63 - loss 2.68556738\n",
      "2019-08-17 14:33:30,301 epoch 1 - iter 54/63 - loss 2.53938771\n",
      "2019-08-17 14:33:35,265 epoch 1 - iter 60/63 - loss 2.41982046\n",
      "2019-08-17 14:33:38,825 ----------------------------------------------------------------------------------------------------\n",
      "2019-08-17 14:33:38,826 EPOCH 1 done: loss 2.3822 - lr 0.0010 - bad epochs 0\n",
      "2019-08-17 14:34:32,269 DEV : loss 1.0306841135025024 - score 0.6045\n",
      "2019-08-17 14:34:42,720 TEST : loss 1.0522396564483643 - score 0.628\n",
      "2019-08-17 14:34:50,372 ----------------------------------------------------------------------------------------------------\n",
      "2019-08-17 14:34:52,892 epoch 2 - iter 0/63 - loss 0.58247173\n",
      "2019-08-17 14:34:58,585 epoch 2 - iter 6/63 - loss 0.86387713\n",
      "2019-08-17 14:35:03,605 epoch 2 - iter 12/63 - loss 0.86719759\n",
      "2019-08-17 14:35:08,290 epoch 2 - iter 18/63 - loss 0.88446323\n",
      "2019-08-17 14:35:14,059 epoch 2 - iter 24/63 - loss 0.83528395\n",
      "2019-08-17 14:35:19,033 epoch 2 - iter 30/63 - loss 0.79776145\n",
      "2019-08-17 14:35:23,839 epoch 2 - iter 36/63 - loss 0.82256466\n",
      "2019-08-17 14:35:29,045 epoch 2 - iter 42/63 - loss 0.80975985\n",
      "2019-08-17 14:35:35,142 epoch 2 - iter 48/63 - loss 0.79260380\n",
      "2019-08-17 14:35:40,770 epoch 2 - iter 54/63 - loss 0.77495833\n",
      "2019-08-17 14:35:46,286 epoch 2 - iter 60/63 - loss 0.75005449\n",
      "2019-08-17 14:35:49,451 ----------------------------------------------------------------------------------------------------\n",
      "2019-08-17 14:35:49,452 EPOCH 2 done: loss 0.7421 - lr 0.0010 - bad epochs 0\n",
      "2019-08-17 14:36:40,584 DEV : loss 0.6136548519134521 - score 0.7805\n",
      "2019-08-17 14:36:50,865 TEST : loss 0.6304848194122314 - score 0.78\n"
     ]
    },
    {
     "name": "stdout",
     "output_type": "stream",
     "text": [
      "2019-08-17 14:36:58,319 ----------------------------------------------------------------------------------------------------\n",
      "2019-08-17 14:37:00,195 epoch 3 - iter 0/63 - loss 0.60367072\n",
      "2019-08-17 14:37:06,431 epoch 3 - iter 6/63 - loss 0.59765634\n",
      "2019-08-17 14:37:11,528 epoch 3 - iter 12/63 - loss 0.51860662\n",
      "2019-08-17 14:37:16,520 epoch 3 - iter 18/63 - loss 0.46668510\n",
      "2019-08-17 14:37:21,499 epoch 3 - iter 24/63 - loss 0.47681315\n",
      "2019-08-17 14:37:26,618 epoch 3 - iter 30/63 - loss 0.49923400\n",
      "2019-08-17 14:37:31,537 epoch 3 - iter 36/63 - loss 0.49364949\n",
      "2019-08-17 14:37:37,897 epoch 3 - iter 42/63 - loss 0.47639702\n",
      "2019-08-17 14:37:42,950 epoch 3 - iter 48/63 - loss 0.48325067\n",
      "2019-08-17 14:37:47,763 epoch 3 - iter 54/63 - loss 0.49018544\n",
      "2019-08-17 14:37:52,530 epoch 3 - iter 60/63 - loss 0.49157024\n",
      "2019-08-17 14:38:01,057 ----------------------------------------------------------------------------------------------------\n",
      "2019-08-17 14:38:01,075 EPOCH 3 done: loss 0.4933 - lr 0.0010 - bad epochs 0\n",
      "2019-08-17 14:38:52,905 DEV : loss 0.7341757416725159 - score 0.758\n",
      "2019-08-17 14:39:03,048 TEST : loss 0.8364296555519104 - score 0.75\n",
      "2019-08-17 14:39:03,060 ----------------------------------------------------------------------------------------------------\n",
      "2019-08-17 14:39:04,957 epoch 4 - iter 0/63 - loss 0.67807883\n",
      "2019-08-17 14:39:10,840 epoch 4 - iter 6/63 - loss 0.42058656\n",
      "2019-08-17 14:39:17,036 epoch 4 - iter 12/63 - loss 0.38175916\n",
      "2019-08-17 14:39:22,817 epoch 4 - iter 18/63 - loss 0.37134693\n",
      "2019-08-17 14:39:28,128 epoch 4 - iter 24/63 - loss 0.35711461\n",
      "2019-08-17 14:39:33,235 epoch 4 - iter 30/63 - loss 0.37231763\n",
      "2019-08-17 14:39:39,279 epoch 4 - iter 36/63 - loss 0.38839512\n",
      "2019-08-17 14:39:44,216 epoch 4 - iter 42/63 - loss 0.40520036\n",
      "2019-08-17 14:39:49,027 epoch 4 - iter 48/63 - loss 0.38467613\n",
      "2019-08-17 14:39:54,460 epoch 4 - iter 54/63 - loss 0.37953470\n",
      "2019-08-17 14:40:00,002 epoch 4 - iter 60/63 - loss 0.37368963\n",
      "2019-08-17 14:40:01,914 ----------------------------------------------------------------------------------------------------\n",
      "2019-08-17 14:40:01,915 EPOCH 4 done: loss 0.3784 - lr 0.0010 - bad epochs 1\n",
      "2019-08-17 14:40:53,779 DEV : loss 0.2753821313381195 - score 0.9245\n",
      "2019-08-17 14:41:04,123 TEST : loss 0.3947060704231262 - score 0.866\n",
      "2019-08-17 14:41:16,730 ----------------------------------------------------------------------------------------------------\n",
      "2019-08-17 14:41:16,731 Testing using best model ...\n",
      "2019-08-17 14:41:16,733 loading file flair_resources/qc_en_uiuc/best-model.pt\n",
      "2019-08-17 14:41:27,850 0.866\t0.866\t0.866\n",
      "2019-08-17 14:41:27,852 \n",
      "MICRO_AVG: acc 0.7637 - f1-score 0.866\n",
      "MACRO_AVG: acc 0.7155 - f1-score 0.8251333333333335\n",
      "ABBR       tp: 4 - fp: 0 - fn: 5 - tn: 491 - precision: 1.0000 - recall: 0.4444 - accuracy: 0.4444 - f1-score: 0.6153\n",
      "DESC       tp: 124 - fp: 19 - fn: 14 - tn: 343 - precision: 0.8671 - recall: 0.8986 - accuracy: 0.7898 - f1-score: 0.8826\n",
      "ENTY       tp: 67 - fp: 17 - fn: 27 - tn: 389 - precision: 0.7976 - recall: 0.7128 - accuracy: 0.6036 - f1-score: 0.7528\n",
      "HUM        tp: 59 - fp: 7 - fn: 6 - tn: 428 - precision: 0.8939 - recall: 0.9077 - accuracy: 0.8194 - f1-score: 0.9007\n",
      "LOC        tp: 69 - fp: 5 - fn: 12 - tn: 414 - precision: 0.9324 - recall: 0.8519 - accuracy: 0.8023 - f1-score: 0.8903\n",
      "NUM        tp: 110 - fp: 19 - fn: 3 - tn: 368 - precision: 0.8527 - recall: 0.9735 - accuracy: 0.8333 - f1-score: 0.9091\n",
      "2019-08-17 14:41:27,853 ----------------------------------------------------------------------------------------------------\n",
      "2019-08-17 14:42:19,002 {'LOC', 'NUM', 'DESC', 'ENTY', 'ABBR', 'HUM'}\n",
      "2019-08-17 14:42:19,004 The pre-trained model you are loading is a cased model but you have not set `do_lower_case` to False. We are setting `do_lower_case=False` for you but you may want to check this behavior.\n",
      "2019-08-17 14:42:38,234 ----------------------------------------------------------------------------------------------------\n",
      "2019-08-17 14:42:38,235 Evaluation method: MICRO_F1_SCORE\n",
      "2019-08-17 14:42:38,942 ----------------------------------------------------------------------------------------------------\n",
      "2019-08-17 14:42:40,721 epoch 1 - iter 0/94 - loss 1.82258523\n",
      "2019-08-17 14:42:55,088 epoch 1 - iter 9/94 - loss 5.98372784\n",
      "2019-08-17 14:43:05,658 epoch 1 - iter 18/94 - loss 4.21301451\n",
      "2019-08-17 14:44:24,344 epoch 1 - iter 27/94 - loss 3.41302247\n",
      "2019-08-17 14:44:33,162 epoch 1 - iter 36/94 - loss 2.94269330\n",
      "2019-08-17 14:44:45,553 epoch 1 - iter 45/94 - loss 2.63460474\n",
      "2019-08-17 14:45:10,204 epoch 1 - iter 54/94 - loss 2.42436823\n",
      "2019-08-17 14:45:19,196 epoch 1 - iter 63/94 - loss 2.24702220\n",
      "2019-08-17 14:45:27,732 epoch 1 - iter 72/94 - loss 2.09492560\n",
      "2019-08-17 14:45:41,648 epoch 1 - iter 81/94 - loss 1.98864461\n",
      "2019-08-17 14:45:48,905 epoch 1 - iter 90/94 - loss 1.87815250\n",
      "2019-08-17 14:45:56,875 ----------------------------------------------------------------------------------------------------\n",
      "2019-08-17 14:45:56,877 EPOCH 1 done: loss 1.8405 - lr 0.0010 - bad epochs 0\n",
      "2019-08-17 14:47:16,299 DEV : loss 0.9456435441970825 - score 0.617\n",
      "2019-08-17 14:47:27,156 TEST : loss 0.9033230543136597 - score 0.66\n",
      "2019-08-17 14:47:33,529 ----------------------------------------------------------------------------------------------------\n",
      "2019-08-17 14:47:35,626 epoch 2 - iter 0/94 - loss 1.26905966\n",
      "2019-08-17 14:47:44,044 epoch 2 - iter 9/94 - loss 0.82085522\n",
      "2019-08-17 14:47:51,827 epoch 2 - iter 18/94 - loss 0.83261964\n",
      "2019-08-17 14:47:59,741 epoch 2 - iter 27/94 - loss 0.72599873\n",
      "2019-08-17 14:48:07,795 epoch 2 - iter 36/94 - loss 0.72656765\n",
      "2019-08-17 14:48:14,858 epoch 2 - iter 45/94 - loss 0.69164864\n",
      "2019-08-17 14:48:22,600 epoch 2 - iter 54/94 - loss 0.67721733\n",
      "2019-08-17 14:48:30,330 epoch 2 - iter 63/94 - loss 0.66728242\n",
      "2019-08-17 14:48:38,512 epoch 2 - iter 72/94 - loss 0.64544716\n",
      "2019-08-17 14:50:19,674 epoch 2 - iter 81/94 - loss 0.63101930\n",
      "2019-08-17 14:50:36,943 epoch 2 - iter 90/94 - loss 0.63187942\n",
      "2019-08-17 14:50:54,972 ----------------------------------------------------------------------------------------------------\n",
      "2019-08-17 14:50:54,975 EPOCH 2 done: loss 0.6285 - lr 0.0010 - bad epochs 0\n",
      "2019-08-17 14:52:42,559 DEV : loss 0.3791147470474243 - score 0.876\n",
      "2019-08-17 14:52:56,016 TEST : loss 0.38070783019065857 - score 0.884\n",
      "2019-08-17 14:53:06,508 ----------------------------------------------------------------------------------------------------\n",
      "2019-08-17 14:53:08,888 epoch 3 - iter 0/94 - loss 0.47763777\n",
      "2019-08-17 14:53:16,781 epoch 3 - iter 9/94 - loss 0.47204795\n",
      "2019-08-17 14:53:24,240 epoch 3 - iter 18/94 - loss 0.41078929\n",
      "2019-08-17 14:53:33,221 epoch 3 - iter 27/94 - loss 0.37868732\n",
      "2019-08-17 14:53:40,466 epoch 3 - iter 36/94 - loss 0.38620311\n",
      "2019-08-17 14:53:49,194 epoch 3 - iter 45/94 - loss 0.39960509\n",
      "2019-08-17 14:54:02,226 epoch 3 - iter 54/94 - loss 0.39795499\n",
      "2019-08-17 14:56:01,992 epoch 3 - iter 63/94 - loss 0.39432482\n",
      "2019-08-17 14:56:22,683 epoch 3 - iter 72/94 - loss 0.38849818\n",
      "2019-08-17 14:56:34,659 epoch 3 - iter 81/94 - loss 0.39909940\n",
      "2019-08-17 14:56:59,886 epoch 3 - iter 90/94 - loss 0.39283022\n",
      "2019-08-17 14:57:04,545 ----------------------------------------------------------------------------------------------------\n",
      "2019-08-17 14:57:04,547 EPOCH 3 done: loss 0.3930 - lr 0.0010 - bad epochs 0\n",
      "2019-08-17 14:58:22,822 DEV : loss 0.31233835220336914 - score 0.8863\n",
      "2019-08-17 14:58:32,931 TEST : loss 0.4248187243938446 - score 0.862\n",
      "2019-08-17 14:58:40,371 ----------------------------------------------------------------------------------------------------\n",
      "2019-08-17 14:58:42,346 epoch 4 - iter 0/94 - loss 0.27964312\n",
      "2019-08-17 14:58:50,430 epoch 4 - iter 9/94 - loss 0.29033581\n",
      "2019-08-17 14:58:57,995 epoch 4 - iter 18/94 - loss 0.29715748\n",
      "2019-08-17 14:59:13,429 epoch 4 - iter 27/94 - loss 0.32105936\n",
      "2019-08-17 14:59:21,354 epoch 4 - iter 36/94 - loss 0.30741315\n",
      "2019-08-17 14:59:29,458 epoch 4 - iter 45/94 - loss 0.29713653\n",
      "2019-08-17 14:59:37,046 epoch 4 - iter 54/94 - loss 0.30602413\n",
      "2019-08-17 14:59:44,681 epoch 4 - iter 63/94 - loss 0.29927517\n",
      "2019-08-17 14:59:52,552 epoch 4 - iter 72/94 - loss 0.29818723\n",
      "2019-08-17 15:01:32,723 epoch 4 - iter 81/94 - loss 0.29546159\n"
     ]
    },
    {
     "name": "stdout",
     "output_type": "stream",
     "text": [
      "2019-08-17 15:01:57,088 epoch 4 - iter 90/94 - loss 0.29633234\n",
      "2019-08-17 15:02:03,321 ----------------------------------------------------------------------------------------------------\n",
      "2019-08-17 15:02:03,322 EPOCH 4 done: loss 0.2928 - lr 0.0010 - bad epochs 0\n",
      "2019-08-17 15:03:33,931 DEV : loss 0.176649808883667 - score 0.9457\n",
      "2019-08-17 15:03:45,210 TEST : loss 0.3398318588733673 - score 0.896\n",
      "2019-08-17 15:04:07,309 ----------------------------------------------------------------------------------------------------\n",
      "2019-08-17 15:04:07,311 Testing using best model ...\n",
      "2019-08-17 15:04:07,650 loading file flair_resources/qc_en_uiuc/best-model.pt\n",
      "2019-08-17 15:04:25,693 0.896\t0.896\t0.896\n",
      "2019-08-17 15:04:25,695 \n",
      "MICRO_AVG: acc 0.8116 - f1-score 0.896\n",
      "MACRO_AVG: acc 0.719 - f1-score 0.8090333333333334\n",
      "ABBR       tp: 2 - fp: 0 - fn: 7 - tn: 491 - precision: 1.0000 - recall: 0.2222 - accuracy: 0.2222 - f1-score: 0.3636\n",
      "DESC       tp: 132 - fp: 21 - fn: 6 - tn: 341 - precision: 0.8627 - recall: 0.9565 - accuracy: 0.8302 - f1-score: 0.9072\n",
      "ENTY       tp: 76 - fp: 15 - fn: 18 - tn: 391 - precision: 0.8352 - recall: 0.8085 - accuracy: 0.6972 - f1-score: 0.8216\n",
      "HUM        tp: 61 - fp: 10 - fn: 4 - tn: 425 - precision: 0.8592 - recall: 0.9385 - accuracy: 0.8133 - f1-score: 0.8971\n",
      "LOC        tp: 69 - fp: 4 - fn: 12 - tn: 415 - precision: 0.9452 - recall: 0.8519 - accuracy: 0.8118 - f1-score: 0.8961\n",
      "NUM        tp: 108 - fp: 2 - fn: 5 - tn: 385 - precision: 0.9818 - recall: 0.9558 - accuracy: 0.9391 - f1-score: 0.9686\n",
      "2019-08-17 15:04:25,696 ----------------------------------------------------------------------------------------------------\n",
      "2019-08-17 15:06:31,256 {'LOC', 'NUM', 'DESC', 'ENTY', 'ABBR', 'HUM'}\n",
      "2019-08-17 15:06:31,259 The pre-trained model you are loading is a cased model but you have not set `do_lower_case` to False. We are setting `do_lower_case=False` for you but you may want to check this behavior.\n",
      "2019-08-17 15:06:53,835 ----------------------------------------------------------------------------------------------------\n",
      "2019-08-17 15:06:53,837 Evaluation method: MICRO_F1_SCORE\n",
      "2019-08-17 15:06:54,606 ----------------------------------------------------------------------------------------------------\n",
      "2019-08-17 15:06:56,659 epoch 1 - iter 0/94 - loss 1.87712193\n",
      "2019-08-17 15:07:07,487 epoch 1 - iter 9/94 - loss 6.65954754\n",
      "2019-08-17 15:07:19,114 epoch 1 - iter 18/94 - loss 4.47256110\n",
      "2019-08-17 15:07:33,588 epoch 1 - iter 27/94 - loss 3.57193403\n",
      "2019-08-17 15:08:17,809 epoch 1 - iter 36/94 - loss 2.95763754\n",
      "2019-08-17 15:08:31,211 epoch 1 - iter 45/94 - loss 2.54376277\n",
      "2019-08-17 15:10:22,571 epoch 1 - iter 54/94 - loss 2.24664414\n",
      "2019-08-17 15:10:41,579 epoch 1 - iter 63/94 - loss 2.03930795\n",
      "2019-08-17 15:10:50,640 epoch 1 - iter 72/94 - loss 1.85600929\n",
      "2019-08-17 15:10:58,239 epoch 1 - iter 81/94 - loss 1.73165356\n",
      "2019-08-17 15:11:20,206 epoch 1 - iter 90/94 - loss 1.62103668\n",
      "2019-08-17 15:11:41,330 ----------------------------------------------------------------------------------------------------\n",
      "2019-08-17 15:11:41,676 EPOCH 1 done: loss 1.5851 - lr 0.0010 - bad epochs 0\n",
      "2019-08-17 15:13:06,713 DEV : loss 0.4964395761489868 - score 0.8207\n",
      "2019-08-17 15:13:16,967 TEST : loss 0.5063738226890564 - score 0.798\n",
      "2019-08-17 15:13:23,155 ----------------------------------------------------------------------------------------------------\n",
      "2019-08-17 15:13:25,215 epoch 2 - iter 0/94 - loss 0.49721077\n",
      "2019-08-17 15:13:33,765 epoch 2 - iter 9/94 - loss 0.44246609\n",
      "2019-08-17 15:13:41,583 epoch 2 - iter 18/94 - loss 0.50741731\n",
      "2019-08-17 15:13:49,023 epoch 2 - iter 27/94 - loss 0.48385210\n",
      "2019-08-17 15:15:27,295 epoch 2 - iter 36/94 - loss 0.49516095\n",
      "2019-08-17 15:16:48,160 epoch 2 - iter 45/94 - loss 0.48485453\n",
      "2019-08-17 15:17:03,549 epoch 2 - iter 54/94 - loss 0.45506539\n",
      "2019-08-17 15:17:17,189 epoch 2 - iter 63/94 - loss 0.45863682\n",
      "2019-08-17 15:17:29,783 epoch 2 - iter 72/94 - loss 0.46032785\n",
      "2019-08-17 15:17:41,443 epoch 2 - iter 81/94 - loss 0.46428844\n",
      "2019-08-17 15:17:57,472 epoch 2 - iter 90/94 - loss 0.46317834\n",
      "2019-08-17 15:18:02,122 ----------------------------------------------------------------------------------------------------\n",
      "2019-08-17 15:18:02,123 EPOCH 2 done: loss 0.4599 - lr 0.0010 - bad epochs 0\n",
      "2019-08-17 15:19:30,715 DEV : loss 0.36265677213668823 - score 0.8683\n",
      "2019-08-17 15:19:44,262 TEST : loss 0.40209466218948364 - score 0.858\n",
      "2019-08-17 15:19:54,297 ----------------------------------------------------------------------------------------------------\n",
      "2019-08-17 15:19:56,267 epoch 3 - iter 0/94 - loss 0.22836378\n",
      "2019-08-17 15:20:05,107 epoch 3 - iter 9/94 - loss 0.24022643\n",
      "2019-08-17 15:20:12,337 epoch 3 - iter 18/94 - loss 0.28465002\n",
      "2019-08-17 15:20:19,382 epoch 3 - iter 27/94 - loss 0.28876487\n",
      "2019-08-17 15:20:26,982 epoch 3 - iter 36/94 - loss 0.30450354\n",
      "2019-08-17 15:20:35,510 epoch 3 - iter 45/94 - loss 0.31974711\n",
      "2019-08-17 15:20:44,054 epoch 3 - iter 54/94 - loss 0.31178811\n",
      "2019-08-17 15:22:11,467 epoch 3 - iter 63/94 - loss 0.30147638\n",
      "2019-08-17 15:22:21,498 epoch 3 - iter 72/94 - loss 0.30950715\n",
      "2019-08-17 15:22:35,153 epoch 3 - iter 81/94 - loss 0.31442652\n",
      "2019-08-17 15:22:44,026 epoch 3 - iter 90/94 - loss 0.31250773\n",
      "2019-08-17 15:23:02,178 ----------------------------------------------------------------------------------------------------\n",
      "2019-08-17 15:23:02,218 EPOCH 3 done: loss 0.3177 - lr 0.0010 - bad epochs 0\n",
      "2019-08-17 15:24:24,490 DEV : loss 0.22216980159282684 - score 0.9287\n",
      "2019-08-17 15:24:35,097 TEST : loss 0.38052722811698914 - score 0.874\n",
      "2019-08-17 15:25:08,203 ----------------------------------------------------------------------------------------------------\n",
      "2019-08-17 15:25:10,419 epoch 4 - iter 0/94 - loss 0.24513456\n",
      "2019-08-17 15:25:20,745 epoch 4 - iter 9/94 - loss 0.24669099\n",
      "2019-08-17 15:25:28,664 epoch 4 - iter 18/94 - loss 0.23959330\n",
      "2019-08-17 15:25:35,932 epoch 4 - iter 27/94 - loss 0.22311826\n",
      "2019-08-17 15:25:44,729 epoch 4 - iter 36/94 - loss 0.24134366\n",
      "2019-08-17 15:25:52,744 epoch 4 - iter 45/94 - loss 0.24202303\n",
      "2019-08-17 15:26:00,837 epoch 4 - iter 54/94 - loss 0.23306519\n",
      "2019-08-17 15:26:09,041 epoch 4 - iter 63/94 - loss 0.23998321\n",
      "2019-08-17 15:26:19,357 epoch 4 - iter 72/94 - loss 0.23745209\n",
      "2019-08-17 15:26:27,927 epoch 4 - iter 81/94 - loss 0.24522362\n",
      "2019-08-17 15:26:39,489 epoch 4 - iter 90/94 - loss 0.24592226\n",
      "2019-08-17 15:26:43,390 ----------------------------------------------------------------------------------------------------\n",
      "2019-08-17 15:26:43,391 EPOCH 4 done: loss 0.2491 - lr 0.0010 - bad epochs 0\n",
      "2019-08-17 15:28:04,171 DEV : loss 0.22383616864681244 - score 0.9197\n",
      "2019-08-17 15:28:14,510 TEST : loss 0.3999370336532593 - score 0.89\n",
      "2019-08-17 15:28:21,444 ----------------------------------------------------------------------------------------------------\n",
      "2019-08-17 15:28:21,445 Testing using best model ...\n",
      "2019-08-17 15:28:21,593 loading file flair_resources/qc_en_uiuc/best-model.pt\n",
      "2019-08-17 15:28:44,276 0.874\t0.874\t0.874\n",
      "2019-08-17 15:28:44,278 \n",
      "MICRO_AVG: acc 0.7762 - f1-score 0.874\n",
      "MACRO_AVG: acc 0.7482 - f1-score 0.8512\n",
      "ABBR       tp: 8 - fp: 4 - fn: 1 - tn: 487 - precision: 0.6667 - recall: 0.8889 - accuracy: 0.6154 - f1-score: 0.7619\n",
      "DESC       tp: 131 - fp: 21 - fn: 7 - tn: 341 - precision: 0.8618 - recall: 0.9493 - accuracy: 0.8239 - f1-score: 0.9034\n",
      "ENTY       tp: 60 - fp: 9 - fn: 34 - tn: 397 - precision: 0.8696 - recall: 0.6383 - accuracy: 0.5825 - f1-score: 0.7362\n",
      "HUM        tp: 59 - fp: 7 - fn: 6 - tn: 428 - precision: 0.8939 - recall: 0.9077 - accuracy: 0.8194 - f1-score: 0.9007\n",
      "LOC        tp: 76 - fp: 18 - fn: 5 - tn: 401 - precision: 0.8085 - recall: 0.9383 - accuracy: 0.7677 - f1-score: 0.8686\n",
      "NUM        tp: 103 - fp: 4 - fn: 10 - tn: 383 - precision: 0.9626 - recall: 0.9115 - accuracy: 0.8803 - f1-score: 0.9364\n",
      "2019-08-17 15:28:44,279 ----------------------------------------------------------------------------------------------------\n",
      "2019-08-17 15:30:38,722 {'LOC', 'NUM', 'DESC', 'ENTY', 'ABBR', 'HUM'}\n",
      "2019-08-17 15:30:38,740 The pre-trained model you are loading is a cased model but you have not set `do_lower_case` to False. We are setting `do_lower_case=False` for you but you may want to check this behavior.\n"
     ]
    },
    {
     "name": "stdout",
     "output_type": "stream",
     "text": [
      "2019-08-17 15:31:05,420 ----------------------------------------------------------------------------------------------------\n",
      "2019-08-17 15:31:05,421 Evaluation method: MICRO_F1_SCORE\n",
      "2019-08-17 15:31:06,314 ----------------------------------------------------------------------------------------------------\n",
      "2019-08-17 15:31:08,573 epoch 1 - iter 0/125 - loss 1.77298152\n",
      "2019-08-17 15:31:21,466 epoch 1 - iter 12/125 - loss 5.29245231\n",
      "2019-08-17 15:31:38,425 epoch 1 - iter 24/125 - loss 3.74960764\n",
      "2019-08-17 15:33:50,193 epoch 1 - iter 36/125 - loss 2.99429106\n",
      "2019-08-17 15:34:31,440 epoch 1 - iter 48/125 - loss 2.56805717\n",
      "2019-08-17 15:35:09,811 epoch 1 - iter 60/125 - loss 2.25816679\n",
      "2019-08-17 15:35:42,957 epoch 1 - iter 72/125 - loss 2.03811731\n",
      "2019-08-17 15:35:54,159 epoch 1 - iter 84/125 - loss 1.85668404\n",
      "2019-08-17 15:36:05,920 epoch 1 - iter 96/125 - loss 1.71667317\n",
      "2019-08-17 15:36:15,751 epoch 1 - iter 108/125 - loss 1.58955795\n",
      "2019-08-17 15:36:25,783 epoch 1 - iter 120/125 - loss 1.49202208\n",
      "2019-08-17 15:36:31,062 ----------------------------------------------------------------------------------------------------\n",
      "2019-08-17 15:36:31,064 EPOCH 1 done: loss 1.4599 - lr 0.0010 - bad epochs 0\n",
      "2019-08-17 15:38:22,585 DEV : loss 0.4428713619709015 - score 0.8445\n",
      "2019-08-17 15:38:33,110 TEST : loss 0.416200190782547 - score 0.854\n",
      "2019-08-17 15:38:39,955 ----------------------------------------------------------------------------------------------------\n",
      "2019-08-17 15:38:42,110 epoch 2 - iter 0/125 - loss 0.60026377\n",
      "2019-08-17 15:38:53,486 epoch 2 - iter 12/125 - loss 0.44087784\n",
      "2019-08-17 15:39:03,717 epoch 2 - iter 24/125 - loss 0.46468136\n",
      "2019-08-17 15:39:14,498 epoch 2 - iter 36/125 - loss 0.47880075\n",
      "2019-08-17 15:39:28,241 epoch 2 - iter 48/125 - loss 0.46992359\n",
      "2019-08-17 15:39:41,840 epoch 2 - iter 60/125 - loss 0.46797459\n",
      "2019-08-17 15:39:54,743 epoch 2 - iter 72/125 - loss 0.46459422\n",
      "2019-08-17 15:40:05,387 epoch 2 - iter 84/125 - loss 0.45114874\n",
      "2019-08-17 15:40:36,636 epoch 2 - iter 96/125 - loss 0.47024301\n",
      "2019-08-17 15:41:02,211 epoch 2 - iter 108/125 - loss 0.45889158\n",
      "2019-08-17 15:41:34,201 epoch 2 - iter 120/125 - loss 0.45879112\n",
      "2019-08-17 15:41:43,401 ----------------------------------------------------------------------------------------------------\n",
      "2019-08-17 15:41:43,402 EPOCH 2 done: loss 0.4577 - lr 0.0010 - bad epochs 0\n",
      "2019-08-17 15:43:44,258 DEV : loss 0.34525784850120544 - score 0.8795\n",
      "2019-08-17 15:43:57,561 TEST : loss 0.4000636637210846 - score 0.858\n",
      "2019-08-17 15:44:07,585 ----------------------------------------------------------------------------------------------------\n",
      "2019-08-17 15:44:09,521 epoch 3 - iter 0/125 - loss 0.67511982\n",
      "2019-08-17 15:44:21,063 epoch 3 - iter 12/125 - loss 0.31668577\n",
      "2019-08-17 15:44:31,793 epoch 3 - iter 24/125 - loss 0.33777525\n",
      "2019-08-17 15:44:41,707 epoch 3 - iter 36/125 - loss 0.33629725\n",
      "2019-08-17 15:45:25,793 epoch 3 - iter 48/125 - loss 0.34080262\n",
      "2019-08-17 15:45:54,563 epoch 3 - iter 60/125 - loss 0.33873377\n",
      "2019-08-17 15:46:05,585 epoch 3 - iter 72/125 - loss 0.34698001\n",
      "2019-08-17 15:46:16,022 epoch 3 - iter 84/125 - loss 0.35315551\n",
      "2019-08-17 15:46:26,906 epoch 3 - iter 96/125 - loss 0.35106772\n",
      "2019-08-17 15:46:35,695 epoch 3 - iter 108/125 - loss 0.35726847\n",
      "2019-08-17 15:46:51,971 epoch 3 - iter 120/125 - loss 0.35497448\n",
      "2019-08-17 15:46:57,987 ----------------------------------------------------------------------------------------------------\n",
      "2019-08-17 15:46:57,988 EPOCH 3 done: loss 0.3571 - lr 0.0010 - bad epochs 0\n",
      "2019-08-17 15:49:10,089 DEV : loss 0.3035030961036682 - score 0.8952\n",
      "2019-08-17 15:49:20,082 TEST : loss 0.40569111704826355 - score 0.868\n",
      "2019-08-17 15:49:26,714 ----------------------------------------------------------------------------------------------------\n",
      "2019-08-17 15:49:28,828 epoch 4 - iter 0/125 - loss 0.28366324\n",
      "2019-08-17 15:49:40,366 epoch 4 - iter 12/125 - loss 0.22802573\n",
      "2019-08-17 15:49:50,581 epoch 4 - iter 24/125 - loss 0.22013088\n",
      "2019-08-17 15:50:02,988 epoch 4 - iter 36/125 - loss 0.25469065\n",
      "2019-08-17 15:50:14,365 epoch 4 - iter 48/125 - loss 0.27174254\n",
      "2019-08-17 15:50:24,785 epoch 4 - iter 60/125 - loss 0.27278679\n",
      "2019-08-17 15:50:50,890 epoch 4 - iter 72/125 - loss 0.26173477\n",
      "2019-08-17 15:52:14,434 epoch 4 - iter 84/125 - loss 0.27691514\n",
      "2019-08-17 15:52:35,481 epoch 4 - iter 96/125 - loss 0.28246257\n",
      "2019-08-17 15:52:50,509 epoch 4 - iter 108/125 - loss 0.28467527\n",
      "2019-08-17 15:53:26,442 epoch 4 - iter 120/125 - loss 0.29209777\n",
      "2019-08-17 15:53:32,495 ----------------------------------------------------------------------------------------------------\n",
      "2019-08-17 15:53:32,496 EPOCH 4 done: loss 0.2913 - lr 0.0010 - bad epochs 0\n",
      "2019-08-17 15:55:34,708 DEV : loss 0.20136769115924835 - score 0.93\n",
      "2019-08-17 15:55:45,903 TEST : loss 0.32326045632362366 - score 0.89\n",
      "2019-08-17 15:56:03,726 ----------------------------------------------------------------------------------------------------\n",
      "2019-08-17 15:56:03,728 Testing using best model ...\n",
      "2019-08-17 15:56:03,912 loading file flair_resources/qc_en_uiuc/best-model.pt\n",
      "2019-08-17 15:56:19,869 0.89\t0.89\t0.89\n",
      "2019-08-17 15:56:19,871 \n",
      "MICRO_AVG: acc 0.8018 - f1-score 0.89\n",
      "MACRO_AVG: acc 0.7628 - f1-score 0.85955\n",
      "ABBR       tp: 8 - fp: 6 - fn: 1 - tn: 485 - precision: 0.5714 - recall: 0.8889 - accuracy: 0.5333 - f1-score: 0.6956\n",
      "DESC       tp: 127 - fp: 10 - fn: 11 - tn: 352 - precision: 0.9270 - recall: 0.9203 - accuracy: 0.8581 - f1-score: 0.9236\n",
      "ENTY       tp: 80 - fp: 25 - fn: 14 - tn: 381 - precision: 0.7619 - recall: 0.8511 - accuracy: 0.6723 - f1-score: 0.8040\n",
      "HUM        tp: 56 - fp: 3 - fn: 9 - tn: 432 - precision: 0.9492 - recall: 0.8615 - accuracy: 0.8235 - f1-score: 0.9032\n",
      "LOC        tp: 73 - fp: 9 - fn: 8 - tn: 410 - precision: 0.8902 - recall: 0.9012 - accuracy: 0.8111 - f1-score: 0.8957\n",
      "NUM        tp: 101 - fp: 2 - fn: 12 - tn: 385 - precision: 0.9806 - recall: 0.8938 - accuracy: 0.8783 - f1-score: 0.9352\n",
      "2019-08-17 15:56:19,924 ----------------------------------------------------------------------------------------------------\n",
      "2019-08-17 15:58:29,489 {'LOC', 'NUM', 'DESC', 'ENTY', 'ABBR', 'HUM'}\n",
      "2019-08-17 15:58:29,500 The pre-trained model you are loading is a cased model but you have not set `do_lower_case` to False. We are setting `do_lower_case=False` for you but you may want to check this behavior.\n",
      "2019-08-17 15:58:49,193 ----------------------------------------------------------------------------------------------------\n",
      "2019-08-17 15:58:49,194 Evaluation method: MICRO_F1_SCORE\n",
      "2019-08-17 15:58:49,907 ----------------------------------------------------------------------------------------------------\n",
      "2019-08-17 15:58:52,673 epoch 1 - iter 0/125 - loss 2.12584162\n",
      "2019-08-17 15:59:07,537 epoch 1 - iter 12/125 - loss 5.97050890\n",
      "2019-08-17 15:59:19,883 epoch 1 - iter 24/125 - loss 4.11954690\n",
      "2019-08-17 16:00:52,568 epoch 1 - iter 36/125 - loss 3.31406961\n",
      "2019-08-17 16:01:14,980 epoch 1 - iter 48/125 - loss 2.81344475\n",
      "2019-08-17 16:01:54,420 epoch 1 - iter 60/125 - loss 2.49047865\n",
      "2019-08-17 16:02:17,305 epoch 1 - iter 72/125 - loss 2.19840012\n",
      "2019-08-17 16:02:33,778 epoch 1 - iter 84/125 - loss 2.01390621\n",
      "2019-08-17 16:02:47,935 epoch 1 - iter 96/125 - loss 1.85775278\n",
      "2019-08-17 16:03:41,317 epoch 1 - iter 108/125 - loss 1.72982856\n",
      "2019-08-17 16:03:52,839 epoch 1 - iter 120/125 - loss 1.61230112\n",
      "2019-08-17 16:03:56,939 ----------------------------------------------------------------------------------------------------\n",
      "2019-08-17 16:03:56,940 EPOCH 1 done: loss 1.5789 - lr 0.0010 - bad epochs 0\n",
      "2019-08-17 16:05:44,548 DEV : loss 0.42964527010917664 - score 0.8522\n",
      "2019-08-17 16:05:54,965 TEST : loss 0.38388895988464355 - score 0.866\n",
      "2019-08-17 16:06:20,463 ----------------------------------------------------------------------------------------------------\n",
      "2019-08-17 16:06:22,519 epoch 2 - iter 0/125 - loss 0.43570372\n",
      "2019-08-17 16:06:33,173 epoch 2 - iter 12/125 - loss 0.47128434\n",
      "2019-08-17 16:06:43,482 epoch 2 - iter 24/125 - loss 0.47891413\n",
      "2019-08-17 16:06:54,783 epoch 2 - iter 36/125 - loss 0.46526818\n",
      "2019-08-17 16:07:04,700 epoch 2 - iter 48/125 - loss 0.46868496\n",
      "2019-08-17 16:09:22,678 epoch 2 - iter 60/125 - loss 0.45628206\n"
     ]
    },
    {
     "name": "stdout",
     "output_type": "stream",
     "text": [
      "2019-08-17 16:10:59,836 epoch 2 - iter 72/125 - loss 0.44173829\n",
      "2019-08-17 16:11:18,525 epoch 2 - iter 84/125 - loss 0.43576060\n",
      "2019-08-17 16:11:32,803 epoch 2 - iter 96/125 - loss 0.44104904\n",
      "2019-08-17 16:11:47,277 epoch 2 - iter 108/125 - loss 0.43823144\n",
      "2019-08-17 16:12:01,390 epoch 2 - iter 120/125 - loss 0.44227053\n",
      "2019-08-17 16:12:06,725 ----------------------------------------------------------------------------------------------------\n",
      "2019-08-17 16:12:06,726 EPOCH 2 done: loss 0.4370 - lr 0.0010 - bad epochs 0\n",
      "2019-08-17 16:14:08,311 DEV : loss 0.2628241777420044 - score 0.914\n",
      "2019-08-17 16:14:20,639 TEST : loss 0.31308233737945557 - score 0.892\n",
      "2019-08-17 16:14:33,333 ----------------------------------------------------------------------------------------------------\n",
      "2019-08-17 16:14:35,102 epoch 3 - iter 0/125 - loss 0.17005579\n",
      "2019-08-17 16:14:47,959 epoch 3 - iter 12/125 - loss 0.30663000\n",
      "2019-08-17 16:14:58,983 epoch 3 - iter 24/125 - loss 0.29315326\n",
      "2019-08-17 16:15:10,252 epoch 3 - iter 36/125 - loss 0.30069988\n",
      "2019-08-17 16:15:20,606 epoch 3 - iter 48/125 - loss 0.29172273\n",
      "2019-08-17 16:15:30,342 epoch 3 - iter 60/125 - loss 0.29702416\n",
      "2019-08-17 16:18:38,682 epoch 3 - iter 72/125 - loss 0.30195385\n",
      "2019-08-17 16:18:50,101 epoch 3 - iter 84/125 - loss 0.30284429\n",
      "2019-08-17 16:19:00,609 epoch 3 - iter 96/125 - loss 0.31022125\n",
      "2019-08-17 16:19:12,552 epoch 3 - iter 108/125 - loss 0.31043793\n",
      "2019-08-17 16:19:33,260 epoch 3 - iter 120/125 - loss 0.30394924\n",
      "2019-08-17 16:19:41,300 ----------------------------------------------------------------------------------------------------\n",
      "2019-08-17 16:19:41,317 EPOCH 3 done: loss 0.3042 - lr 0.0010 - bad epochs 0\n",
      "2019-08-17 16:21:27,731 DEV : loss 0.18611392378807068 - score 0.9417\n",
      "2019-08-17 16:21:38,208 TEST : loss 0.29319190979003906 - score 0.902\n",
      "2019-08-17 16:21:47,428 ----------------------------------------------------------------------------------------------------\n",
      "2019-08-17 16:21:49,608 epoch 4 - iter 0/125 - loss 0.05186828\n",
      "2019-08-17 16:22:00,008 epoch 4 - iter 12/125 - loss 0.19448249\n",
      "2019-08-17 16:22:09,662 epoch 4 - iter 24/125 - loss 0.18540266\n",
      "2019-08-17 16:22:20,019 epoch 4 - iter 36/125 - loss 0.21412350\n",
      "2019-08-17 16:22:30,779 epoch 4 - iter 48/125 - loss 0.22691940\n",
      "2019-08-17 16:22:41,933 epoch 4 - iter 60/125 - loss 0.23492058\n",
      "2019-08-17 16:22:52,306 epoch 4 - iter 72/125 - loss 0.21951006\n",
      "2019-08-17 16:24:28,392 epoch 4 - iter 84/125 - loss 0.22599262\n",
      "2019-08-17 16:25:15,851 epoch 4 - iter 96/125 - loss 0.22791778\n",
      "2019-08-17 16:25:37,607 epoch 4 - iter 108/125 - loss 0.23955164\n",
      "2019-08-17 16:25:56,984 epoch 4 - iter 120/125 - loss 0.24445883\n",
      "2019-08-17 16:26:01,857 ----------------------------------------------------------------------------------------------------\n",
      "2019-08-17 16:26:01,858 EPOCH 4 done: loss 0.2492 - lr 0.0010 - bad epochs 0\n",
      "2019-08-17 16:27:58,340 DEV : loss 0.1570577174425125 - score 0.9517\n",
      "2019-08-17 16:28:09,867 TEST : loss 0.31309911608695984 - score 0.898\n",
      "2019-08-17 16:28:26,189 ----------------------------------------------------------------------------------------------------\n",
      "2019-08-17 16:28:26,190 Testing using best model ...\n",
      "2019-08-17 16:28:26,364 loading file flair_resources/qc_en_uiuc/best-model.pt\n",
      "2019-08-17 16:28:43,371 0.898\t0.898\t0.898\n",
      "2019-08-17 16:28:43,372 \n",
      "MICRO_AVG: acc 0.8149 - f1-score 0.898\n",
      "MACRO_AVG: acc 0.7773 - f1-score 0.871\n",
      "ABBR       tp: 6 - fp: 1 - fn: 3 - tn: 490 - precision: 0.8571 - recall: 0.6667 - accuracy: 0.6000 - f1-score: 0.7500\n",
      "DESC       tp: 131 - fp: 7 - fn: 7 - tn: 355 - precision: 0.9493 - recall: 0.9493 - accuracy: 0.9034 - f1-score: 0.9493\n",
      "ENTY       tp: 81 - fp: 20 - fn: 13 - tn: 386 - precision: 0.8020 - recall: 0.8617 - accuracy: 0.7105 - f1-score: 0.8308\n",
      "HUM        tp: 60 - fp: 8 - fn: 5 - tn: 427 - precision: 0.8824 - recall: 0.9231 - accuracy: 0.8219 - f1-score: 0.9023\n",
      "LOC        tp: 73 - fp: 14 - fn: 8 - tn: 405 - precision: 0.8391 - recall: 0.9012 - accuracy: 0.7684 - f1-score: 0.8690\n",
      "NUM        tp: 98 - fp: 1 - fn: 15 - tn: 386 - precision: 0.9899 - recall: 0.8673 - accuracy: 0.8596 - f1-score: 0.9246\n",
      "2019-08-17 16:28:43,380 ----------------------------------------------------------------------------------------------------\n",
      "2019-08-17 16:31:10,862 {'LOC', 'NUM', 'DESC', 'ENTY', 'ABBR', 'HUM'}\n",
      "2019-08-17 16:31:10,876 The pre-trained model you are loading is a cased model but you have not set `do_lower_case` to False. We are setting `do_lower_case=False` for you but you may want to check this behavior.\n",
      "2019-08-17 16:31:29,823 ----------------------------------------------------------------------------------------------------\n",
      "2019-08-17 16:31:29,825 Evaluation method: MICRO_F1_SCORE\n",
      "2019-08-17 16:31:30,736 ----------------------------------------------------------------------------------------------------\n",
      "2019-08-17 16:31:32,805 epoch 1 - iter 0/171 - loss 1.87048268\n",
      "2019-08-17 16:31:50,237 epoch 1 - iter 17/171 - loss 4.68585981\n",
      "2019-08-17 16:32:07,916 epoch 1 - iter 34/171 - loss 3.24869757\n",
      "2019-08-17 16:32:25,040 epoch 1 - iter 51/171 - loss 2.72764374\n",
      "2019-08-17 16:32:42,867 epoch 1 - iter 68/171 - loss 2.40416485\n",
      "2019-08-17 16:32:59,935 epoch 1 - iter 85/171 - loss 2.19739279\n",
      "2019-08-17 16:33:19,036 epoch 1 - iter 102/171 - loss 1.98028200\n",
      "2019-08-17 16:33:46,361 epoch 1 - iter 119/171 - loss 1.82454836\n",
      "2019-08-17 16:34:02,230 epoch 1 - iter 136/171 - loss 1.68517646\n",
      "2019-08-17 16:35:49,323 epoch 1 - iter 153/171 - loss 1.56813344\n",
      "2019-08-17 16:36:14,652 epoch 1 - iter 170/171 - loss 1.48096160\n",
      "2019-08-17 16:36:15,627 ----------------------------------------------------------------------------------------------------\n",
      "2019-08-17 16:36:15,628 EPOCH 1 done: loss 1.4810 - lr 0.0010 - bad epochs 0\n",
      "2019-08-17 16:38:37,104 DEV : loss 0.5115100145339966 - score 0.8177\n",
      "2019-08-17 16:38:47,488 TEST : loss 0.4561395049095154 - score 0.836\n",
      "2019-08-17 16:38:53,772 ----------------------------------------------------------------------------------------------------\n",
      "2019-08-17 16:38:55,556 epoch 2 - iter 0/171 - loss 0.27001947\n",
      "2019-08-17 16:39:11,146 epoch 2 - iter 17/171 - loss 0.51344002\n",
      "2019-08-17 16:39:26,011 epoch 2 - iter 34/171 - loss 0.52831877\n",
      "2019-08-17 16:39:40,479 epoch 2 - iter 51/171 - loss 0.50838262\n",
      "2019-08-17 16:40:20,477 epoch 2 - iter 68/171 - loss 0.50480937\n",
      "2019-08-17 16:40:55,828 epoch 2 - iter 85/171 - loss 0.50007275\n",
      "2019-08-17 16:41:13,815 epoch 2 - iter 102/171 - loss 0.51227181\n",
      "2019-08-17 16:41:28,381 epoch 2 - iter 119/171 - loss 0.51172878\n",
      "2019-08-17 16:42:14,912 epoch 2 - iter 136/171 - loss 0.49702967\n",
      "2019-08-17 16:42:43,075 epoch 2 - iter 153/171 - loss 0.48763034\n",
      "2019-08-17 16:43:02,499 epoch 2 - iter 170/171 - loss 0.49019408\n",
      "2019-08-17 16:43:03,573 ----------------------------------------------------------------------------------------------------\n",
      "2019-08-17 16:43:03,575 EPOCH 2 done: loss 0.4902 - lr 0.0010 - bad epochs 0\n",
      "2019-08-17 16:45:56,381 DEV : loss 0.3332637846469879 - score 0.89\n",
      "2019-08-17 16:46:08,222 TEST : loss 0.3734986186027527 - score 0.88\n",
      "2019-08-17 16:46:19,108 ----------------------------------------------------------------------------------------------------\n",
      "2019-08-17 16:46:21,355 epoch 3 - iter 0/171 - loss 0.49751264\n",
      "2019-08-17 16:46:36,052 epoch 3 - iter 17/171 - loss 0.29702298\n",
      "2019-08-17 16:46:51,278 epoch 3 - iter 34/171 - loss 0.30272235\n",
      "2019-08-17 16:47:05,190 epoch 3 - iter 51/171 - loss 0.34907836\n",
      "2019-08-17 16:47:19,985 epoch 3 - iter 68/171 - loss 0.33512622\n",
      "2019-08-17 16:47:35,254 epoch 3 - iter 85/171 - loss 0.34317334\n",
      "2019-08-17 16:50:32,747 epoch 3 - iter 102/171 - loss 0.36488695\n",
      "2019-08-17 16:51:07,386 epoch 3 - iter 119/171 - loss 0.35137161\n",
      "2019-08-17 16:51:26,786 epoch 3 - iter 136/171 - loss 0.36211766\n",
      "2019-08-17 16:51:52,260 epoch 3 - iter 153/171 - loss 0.37562220\n",
      "2019-08-17 16:52:11,426 epoch 3 - iter 170/171 - loss 0.37424712\n",
      "2019-08-17 16:52:13,463 ----------------------------------------------------------------------------------------------------\n",
      "2019-08-17 16:52:13,464 EPOCH 3 done: loss 0.3742 - lr 0.0010 - bad epochs 0\n",
      "2019-08-17 16:54:38,925 DEV : loss 0.3309480547904968 - score 0.8796\n",
      "2019-08-17 16:54:50,603 TEST : loss 0.4107632040977478 - score 0.868\n"
     ]
    },
    {
     "name": "stdout",
     "output_type": "stream",
     "text": [
      "2019-08-17 16:54:50,622 ----------------------------------------------------------------------------------------------------\n",
      "2019-08-17 16:54:52,580 epoch 4 - iter 0/171 - loss 0.80846679\n",
      "2019-08-17 16:55:07,283 epoch 4 - iter 17/171 - loss 0.32176158\n",
      "2019-08-17 16:55:23,722 epoch 4 - iter 34/171 - loss 0.28201224\n",
      "2019-08-17 16:55:38,879 epoch 4 - iter 51/171 - loss 0.28759964\n",
      "2019-08-17 16:57:56,979 epoch 4 - iter 68/171 - loss 0.27889259\n",
      "2019-08-17 16:58:33,964 epoch 4 - iter 85/171 - loss 0.27670959\n",
      "2019-08-17 16:58:54,997 epoch 4 - iter 102/171 - loss 0.27159309\n",
      "2019-08-17 16:59:14,531 epoch 4 - iter 119/171 - loss 0.27484824\n",
      "2019-08-17 16:59:36,406 epoch 4 - iter 136/171 - loss 0.28712292\n",
      "2019-08-17 17:00:10,810 epoch 4 - iter 153/171 - loss 0.28253593\n",
      "2019-08-17 17:00:37,093 epoch 4 - iter 170/171 - loss 0.28549894\n",
      "2019-08-17 17:00:37,946 ----------------------------------------------------------------------------------------------------\n",
      "2019-08-17 17:00:37,947 EPOCH 4 done: loss 0.2855 - lr 0.0010 - bad epochs 1\n",
      "2019-08-17 17:03:05,373 DEV : loss 0.29458585381507874 - score 0.8944\n",
      "2019-08-17 17:03:16,615 TEST : loss 0.37866973876953125 - score 0.874\n",
      "2019-08-17 17:03:33,871 ----------------------------------------------------------------------------------------------------\n",
      "2019-08-17 17:03:33,873 Testing using best model ...\n",
      "2019-08-17 17:03:34,018 loading file flair_resources/qc_en_uiuc/best-model.pt\n",
      "2019-08-17 17:03:52,267 0.874\t0.874\t0.874\n",
      "2019-08-17 17:03:52,268 \n",
      "MICRO_AVG: acc 0.7762 - f1-score 0.874\n",
      "MACRO_AVG: acc 0.6875 - f1-score 0.7871\n",
      "ABBR       tp: 2 - fp: 1 - fn: 7 - tn: 490 - precision: 0.6667 - recall: 0.2222 - accuracy: 0.2000 - f1-score: 0.3333\n",
      "DESC       tp: 132 - fp: 17 - fn: 6 - tn: 345 - precision: 0.8859 - recall: 0.9565 - accuracy: 0.8516 - f1-score: 0.9198\n",
      "ENTY       tp: 70 - fp: 9 - fn: 24 - tn: 397 - precision: 0.8861 - recall: 0.7447 - accuracy: 0.6796 - f1-score: 0.8093\n",
      "HUM        tp: 59 - fp: 3 - fn: 6 - tn: 432 - precision: 0.9516 - recall: 0.9077 - accuracy: 0.8676 - f1-score: 0.9291\n",
      "LOC        tp: 63 - fp: 3 - fn: 18 - tn: 416 - precision: 0.9545 - recall: 0.7778 - accuracy: 0.7500 - f1-score: 0.8571\n",
      "NUM        tp: 111 - fp: 30 - fn: 2 - tn: 357 - precision: 0.7872 - recall: 0.9823 - accuracy: 0.7762 - f1-score: 0.8740\n",
      "2019-08-17 17:03:52,279 ----------------------------------------------------------------------------------------------------\n",
      "2019-08-17 17:07:21,321 {'LOC', 'NUM', 'DESC', 'ENTY', 'ABBR', 'HUM'}\n",
      "2019-08-17 17:07:21,379 The pre-trained model you are loading is a cased model but you have not set `do_lower_case` to False. We are setting `do_lower_case=False` for you but you may want to check this behavior.\n",
      "2019-08-17 17:07:41,882 ----------------------------------------------------------------------------------------------------\n",
      "2019-08-17 17:07:41,883 Evaluation method: MICRO_F1_SCORE\n",
      "2019-08-17 17:07:42,997 ----------------------------------------------------------------------------------------------------\n",
      "2019-08-17 17:07:45,584 epoch 1 - iter 0/171 - loss 1.93809891\n",
      "2019-08-17 17:08:54,674 epoch 1 - iter 17/171 - loss 3.91711564\n",
      "2019-08-17 17:09:29,691 epoch 1 - iter 34/171 - loss 2.77030006\n",
      "2019-08-17 17:10:44,788 epoch 1 - iter 51/171 - loss 2.27318975\n",
      "2019-08-17 17:11:20,487 epoch 1 - iter 68/171 - loss 1.96710215\n",
      "2019-08-17 17:11:35,750 epoch 1 - iter 85/171 - loss 1.73305521\n",
      "2019-08-17 17:11:59,235 epoch 1 - iter 102/171 - loss 1.57446024\n",
      "2019-08-17 17:12:13,138 epoch 1 - iter 119/171 - loss 1.44092299\n",
      "2019-08-17 17:12:27,278 epoch 1 - iter 136/171 - loss 1.33558300\n",
      "2019-08-17 17:12:41,710 epoch 1 - iter 153/171 - loss 1.24028412\n",
      "2019-08-17 17:13:02,568 epoch 1 - iter 170/171 - loss 1.16994001\n",
      "2019-08-17 17:13:03,372 ----------------------------------------------------------------------------------------------------\n",
      "2019-08-17 17:13:03,374 EPOCH 1 done: loss 1.1699 - lr 0.0010 - bad epochs 0\n",
      "2019-08-17 17:15:25,829 DEV : loss 0.5172499418258667 - score 0.8081\n",
      "2019-08-17 17:15:36,254 TEST : loss 0.4681544303894043 - score 0.83\n",
      "2019-08-17 17:15:42,601 ----------------------------------------------------------------------------------------------------\n",
      "2019-08-17 17:15:45,099 epoch 2 - iter 0/171 - loss 0.47637275\n",
      "2019-08-17 17:16:00,850 epoch 2 - iter 17/171 - loss 0.44701853\n",
      "2019-08-17 17:16:15,682 epoch 2 - iter 34/171 - loss 0.43189685\n",
      "2019-08-17 17:16:30,500 epoch 2 - iter 51/171 - loss 0.43292719\n",
      "2019-08-17 17:17:29,957 epoch 2 - iter 68/171 - loss 0.43409785\n",
      "2019-08-17 17:17:44,115 epoch 2 - iter 85/171 - loss 0.43385082\n",
      "2019-08-17 17:18:35,788 epoch 2 - iter 102/171 - loss 0.41989446\n",
      "2019-08-17 17:18:52,240 epoch 2 - iter 119/171 - loss 0.42581845\n",
      "2019-08-17 17:19:09,610 epoch 2 - iter 136/171 - loss 0.42286451\n",
      "2019-08-17 17:19:31,464 epoch 2 - iter 153/171 - loss 0.41470297\n",
      "2019-08-17 17:20:48,700 epoch 2 - iter 170/171 - loss 0.42039907\n",
      "2019-08-17 17:20:50,374 ----------------------------------------------------------------------------------------------------\n",
      "2019-08-17 17:20:50,376 EPOCH 2 done: loss 0.4204 - lr 0.0010 - bad epochs 0\n",
      "2019-08-17 17:23:26,311 DEV : loss 0.2908034026622772 - score 0.9038\n",
      "2019-08-17 17:23:38,071 TEST : loss 0.32263314723968506 - score 0.89\n",
      "2019-08-17 17:23:48,942 ----------------------------------------------------------------------------------------------------\n",
      "2019-08-17 17:23:51,200 epoch 3 - iter 0/171 - loss 0.23869304\n",
      "2019-08-17 17:24:05,547 epoch 3 - iter 17/171 - loss 0.28221954\n",
      "2019-08-17 17:24:20,952 epoch 3 - iter 34/171 - loss 0.29891585\n",
      "2019-08-17 17:24:35,697 epoch 3 - iter 51/171 - loss 0.28196252\n",
      "2019-08-17 17:24:51,924 epoch 3 - iter 68/171 - loss 0.29654861\n",
      "2019-08-17 17:25:20,225 epoch 3 - iter 85/171 - loss 0.31623167\n",
      "2019-08-17 17:25:34,303 epoch 3 - iter 102/171 - loss 0.32454418\n",
      "2019-08-17 17:25:47,380 epoch 3 - iter 119/171 - loss 0.31780845\n",
      "2019-08-17 17:26:34,881 epoch 3 - iter 136/171 - loss 0.32277726\n",
      "2019-08-17 17:27:03,967 epoch 3 - iter 153/171 - loss 0.31925814\n",
      "2019-08-17 17:27:26,298 epoch 3 - iter 170/171 - loss 0.32680610\n",
      "2019-08-17 17:27:27,203 ----------------------------------------------------------------------------------------------------\n",
      "2019-08-17 17:27:27,205 EPOCH 3 done: loss 0.3268 - lr 0.0010 - bad epochs 0\n",
      "2019-08-17 17:29:50,527 DEV : loss 0.24110668897628784 - score 0.9181\n",
      "2019-08-17 17:30:01,649 TEST : loss 0.29106321930885315 - score 0.908\n",
      "2019-08-17 17:30:09,674 ----------------------------------------------------------------------------------------------------\n",
      "2019-08-17 17:30:11,997 epoch 4 - iter 0/171 - loss 0.50047934\n",
      "2019-08-17 17:30:28,811 epoch 4 - iter 17/171 - loss 0.28846167\n",
      "2019-08-17 17:30:43,342 epoch 4 - iter 34/171 - loss 0.25936288\n",
      "2019-08-17 17:31:05,848 epoch 4 - iter 51/171 - loss 0.27609073\n",
      "2019-08-17 17:31:19,869 epoch 4 - iter 68/171 - loss 0.26194741\n",
      "2019-08-17 17:33:02,918 epoch 4 - iter 85/171 - loss 0.26385153\n",
      "2019-08-17 17:33:31,597 epoch 4 - iter 102/171 - loss 0.26045578\n",
      "2019-08-17 17:33:56,432 epoch 4 - iter 119/171 - loss 0.25350488\n",
      "2019-08-17 17:34:19,317 epoch 4 - iter 136/171 - loss 0.25080388\n",
      "2019-08-17 17:34:40,743 epoch 4 - iter 153/171 - loss 0.25722075\n",
      "2019-08-17 17:35:06,932 epoch 4 - iter 170/171 - loss 0.26036209\n",
      "2019-08-17 17:35:07,795 ----------------------------------------------------------------------------------------------------\n",
      "2019-08-17 17:35:07,796 EPOCH 4 done: loss 0.2604 - lr 0.0010 - bad epochs 0\n",
      "2019-08-17 17:37:39,239 DEV : loss 0.21497155725955963 - score 0.9218\n",
      "2019-08-17 17:37:50,280 TEST : loss 0.3587183952331543 - score 0.88\n",
      "2019-08-17 17:38:07,633 ----------------------------------------------------------------------------------------------------\n",
      "2019-08-17 17:38:07,635 Testing using best model ...\n",
      "2019-08-17 17:38:07,786 loading file flair_resources/qc_en_uiuc/best-model.pt\n",
      "2019-08-17 17:38:25,573 0.88\t0.88\t0.88\n",
      "2019-08-17 17:38:25,575 \n",
      "MICRO_AVG: acc 0.7857 - f1-score 0.88\n",
      "MACRO_AVG: acc 0.7425 - f1-score 0.8437\n",
      "ABBR       tp: 8 - fp: 7 - fn: 1 - tn: 484 - precision: 0.5333 - recall: 0.8889 - accuracy: 0.5000 - f1-score: 0.6666\n",
      "DESC       tp: 130 - fp: 25 - fn: 8 - tn: 337 - precision: 0.8387 - recall: 0.9420 - accuracy: 0.7975 - f1-score: 0.8874\n",
      "ENTY       tp: 60 - fp: 6 - fn: 34 - tn: 400 - precision: 0.9091 - recall: 0.6383 - accuracy: 0.6000 - f1-score: 0.7500\n",
      "HUM        tp: 61 - fp: 9 - fn: 4 - tn: 426 - precision: 0.8714 - recall: 0.9385 - accuracy: 0.8243 - f1-score: 0.9037\n",
      "LOC        tp: 73 - fp: 10 - fn: 8 - tn: 409 - precision: 0.8795 - recall: 0.9012 - accuracy: 0.8022 - f1-score: 0.8902\n",
      "NUM        tp: 108 - fp: 3 - fn: 5 - tn: 384 - precision: 0.9730 - recall: 0.9558 - accuracy: 0.9310 - f1-score: 0.9643\n"
     ]
    },
    {
     "name": "stdout",
     "output_type": "stream",
     "text": [
      "2019-08-17 17:38:25,576 ----------------------------------------------------------------------------------------------------\n"
     ]
    }
   ],
   "source": [
    "from typing import List\n",
    "from flair_cnn_doc_embedding import DocumentCNNEmbeddings\n",
    "from torch.utils.data import Dataset\n",
    "import torch\n",
    "from flair.data import Sentence, Corpus\n",
    "from flair.embeddings import DocumentRNNEmbeddings, BertEmbeddings\n",
    "from flair.models import TextClassifier\n",
    "from flair.trainers import ModelTrainer\n",
    "import time\n",
    "import datetime\n",
    "from sklearn.metrics import accuracy_score, precision_score, recall_score, f1_score, matthews_corrcoef, confusion_matrix\n",
    "\n",
    "\n",
    "def build_flair_sentences(text_label_tuples):\n",
    "    sentences = [Sentence(text, labels=[label], use_tokenizer=True) for text,label in text_label_tuples]\n",
    "    return [s for s in sentences if len(s.tokens) > 0]\n",
    "\n",
    "def get_labels(sentences:List[Sentence]):\n",
    "    return [[l.value for l in s.labels] for s in sentences]\n",
    "\n",
    "\n",
    "def calc_metrics_with_sklearn(clf:TextClassifier,sentences:List[Sentence],train_size=0,\n",
    "                              run=0,train_time=0,metric_average='macro',\n",
    "                              classes=['ABBR', 'DESC', 'ENTY', 'HUM', 'LOC', 'NUM']):\n",
    "    targets = get_labels(sentences)\n",
    "    start_time = time.time()\n",
    "    clf.predict(sentences)\n",
    "    test_time = time.time() - start_time\n",
    "    prediction = get_labels(sentences)\n",
    "    p = prediction\n",
    "    t = targets\n",
    "    data = {'datetime': datetime.datetime.now(),\n",
    "            'model': 'cnn_bert',\n",
    "            'accuracy': accuracy_score(prediction, targets),\n",
    "            'precision': precision_score(prediction, targets, average=metric_average),\n",
    "            'recall': recall_score(prediction, targets, average=metric_average),\n",
    "            'f1': f1_score(prediction, targets, average=metric_average),\n",
    "            'mcc': matthews_corrcoef(prediction, targets),\n",
    "            'confusion': confusion_matrix(prediction, targets, labels=classes),\n",
    "            'run': run,\n",
    "            'train_size': size_train,\n",
    "            'execution_time': train_time,\n",
    "            'test_time': test_time}\n",
    "          \n",
    "    #report = metrics.classification_report(y_true=targets, y_pred=prediction, digits=3, output_dict=True)\n",
    "    return data\n",
    "\n",
    "\n",
    "for language in ['en', 'es', 'pt']: # , \n",
    "    results = pd.DataFrame()\n",
    "    \n",
    "    save = 'results/UIUC_cnn_bert_'+language+'.csv'\n",
    "    for size_train in [1000, 2000, 3000, 4000, 5500]:\n",
    "        for run in range(1,3):\n",
    "            dataset_train, dataset_test = load_uiuc(language)\n",
    "            if size_train < 5500:\n",
    "                dataset_train = dataset_train[:size_train]\n",
    "\n",
    "            sentences_train:Dataset = build_flair_sentences([(text, label) for text, label in zip(dataset_train['question'], dataset_train['class'])])\n",
    "            sentences_dev:Dataset = sentences_train\n",
    "            sentences_test:Dataset = build_flair_sentences([(text, label) for text, label in zip(dataset_test['question'], dataset_test['class'])])\n",
    "\n",
    "            corpus:Corpus = Corpus(sentences_train, sentences_dev, sentences_test)\n",
    "            label_dict = corpus.make_label_dictionary()\n",
    "            word_embeddings = [\n",
    "                # WordEmbeddings('glove'),\n",
    "                BertEmbeddings('bert-base-multilingual-cased', layers='-1')\n",
    "            ]\n",
    "            document_embeddings = DocumentCNNEmbeddings(word_embeddings,\n",
    "                                                        dropout=0.0,\n",
    "                                                        hidden_size=64,\n",
    "                                                        )\n",
    "\n",
    "            clf = TextClassifier(document_embeddings, label_dictionary=label_dict, multi_label=False)\n",
    "            trainer = ModelTrainer(clf, corpus,torch.optim.RMSprop)\n",
    "            base_path = 'flair_resources/qc_en_uiuc'\n",
    "            start_time = time.time()\n",
    "            trainer.train(base_path,\n",
    "                          learning_rate=0.001,\n",
    "                          mini_batch_size=32,\n",
    "                          anneal_factor=0.5,\n",
    "                          patience=2,\n",
    "                          max_epochs=4)\n",
    "            train_time = time.time() - start_time\n",
    "            data = calc_metrics_with_sklearn(clf, sentences_train, train_size=size_train, train_time=train_time, run=run)\n",
    "            results = results.append([data])\n",
    "            results.to_csv(save)"
   ]
  },
  {
   "cell_type": "markdown",
   "metadata": {},
   "source": [
    "## Run UIUC Benchmark - Cross-validation"
   ]
  },
  {
   "cell_type": "markdown",
   "metadata": {},
   "source": [
    "Different classifier models are tested with different dependency levels of external linguistic resources (Low, Medium and High)"
   ]
  },
  {
   "cell_type": "markdown",
   "metadata": {},
   "source": [
    "#### SVM + TF-IDF"
   ]
  },
  {
   "cell_type": "code",
   "execution_count": 3,
   "metadata": {
    "scrolled": false
   },
   "outputs": [
    {
     "name": "stdout",
     "output_type": "stream",
     "text": [
      "\n",
      "\n",
      "Language:  en\n",
      "\n",
      "1000|..........\n",
      "2000|..........\n",
      "3000|..........\n",
      "4000|..........\n",
      "5500|..........\n",
      "Run time benchmark: 8.106821775436401\n",
      "\n",
      "\n",
      "Language:  es\n",
      "\n",
      "1000|..........\n",
      "2000|..........\n",
      "3000|..........\n",
      "4000|..........\n",
      "5500|..........\n",
      "Run time benchmark: 9.061235904693604\n",
      "\n",
      "\n",
      "Language:  pt\n",
      "\n",
      "1000|..........\n",
      "2000|..........\n",
      "3000|..........\n",
      "4000|..........\n",
      "5500|........"
     ]
    },
    {
     "name": "stderr",
     "output_type": "stream",
     "text": [
      "/home/eduardo/.virtualenvs/qa/lib/python3.6/site-packages/sklearn/metrics/classification.py:1145: UndefinedMetricWarning: Recall is ill-defined and being set to 0.0 in labels with no true samples.\n",
      "  'recall', 'true', average, warn_for)\n",
      "/home/eduardo/.virtualenvs/qa/lib/python3.6/site-packages/sklearn/metrics/classification.py:1145: UndefinedMetricWarning: F-score is ill-defined and being set to 0.0 in labels with no true samples.\n",
      "  'recall', 'true', average, warn_for)\n"
     ]
    },
    {
     "name": "stdout",
     "output_type": "stream",
     "text": [
      "..\n",
      "Run time benchmark: 8.001790523529053\n"
     ]
    }
   ],
   "source": [
    "for language in ['en', 'es', 'pt']:\n",
    "    print('\\n\\nLanguage: ', language)\n",
    "    dataset_train, dataset_test = load_uiuc(language)\n",
    "    dataset = pd.concat([dataset_train, dataset_test])\n",
    "    create_feature('tfidf', dataset, dataset, max_features=2000)\n",
    "    \n",
    "    model = {'name': 'svm', 'model': svm_linear}\n",
    "    \n",
    "    tfidf = np.array([list(r) for r in dataset['tfidf'].values])\n",
    "    tfidf = normalize(tfidf, norm='max')\n",
    "    \n",
    "    X = np.array([list(x) for x in dataset['tfidf'].values])\n",
    "    y = dataset['class'].values\n",
    "    \n",
    "    \n",
    "    # run_benchmark_cv(model, X, y, [50, 100] + list(range(500, 5501, 500)),\n",
    "    run_benchmark_cv(model, X, y, [1000, 2000, 3000, 4000, 5500],\n",
    "                     save='results/UIUC_cv_svm_tfidf_' + language + '.csv')"
   ]
  },
  {
   "cell_type": "markdown",
   "metadata": {},
   "source": [
    "#### SVM + TF-IDF + WB"
   ]
  },
  {
   "cell_type": "code",
   "execution_count": 4,
   "metadata": {
    "scrolled": false
   },
   "outputs": [
    {
     "name": "stdout",
     "output_type": "stream",
     "text": [
      "\n",
      "\n",
      "Language:  en\n",
      "\n",
      "1000|..........\n",
      "2000|."
     ]
    },
    {
     "name": "stderr",
     "output_type": "stream",
     "text": [
      "/home/eduardo/.virtualenvs/qa/lib/python3.6/site-packages/sklearn/svm/base.py:931: ConvergenceWarning: Liblinear failed to converge, increase the number of iterations.\n",
      "  \"the number of iterations.\", ConvergenceWarning)\n"
     ]
    },
    {
     "name": "stdout",
     "output_type": "stream",
     "text": [
      ".........\n",
      "3000|."
     ]
    },
    {
     "name": "stderr",
     "output_type": "stream",
     "text": [
      "/home/eduardo/.virtualenvs/qa/lib/python3.6/site-packages/sklearn/svm/base.py:931: ConvergenceWarning: Liblinear failed to converge, increase the number of iterations.\n",
      "  \"the number of iterations.\", ConvergenceWarning)\n"
     ]
    },
    {
     "name": "stdout",
     "output_type": "stream",
     "text": [
      "..."
     ]
    },
    {
     "name": "stderr",
     "output_type": "stream",
     "text": [
      "/home/eduardo/.virtualenvs/qa/lib/python3.6/site-packages/sklearn/svm/base.py:931: ConvergenceWarning: Liblinear failed to converge, increase the number of iterations.\n",
      "  \"the number of iterations.\", ConvergenceWarning)\n"
     ]
    },
    {
     "name": "stdout",
     "output_type": "stream",
     "text": [
      "."
     ]
    },
    {
     "name": "stderr",
     "output_type": "stream",
     "text": [
      "/home/eduardo/.virtualenvs/qa/lib/python3.6/site-packages/sklearn/svm/base.py:931: ConvergenceWarning: Liblinear failed to converge, increase the number of iterations.\n",
      "  \"the number of iterations.\", ConvergenceWarning)\n"
     ]
    },
    {
     "name": "stdout",
     "output_type": "stream",
     "text": [
      "."
     ]
    },
    {
     "name": "stderr",
     "output_type": "stream",
     "text": [
      "/home/eduardo/.virtualenvs/qa/lib/python3.6/site-packages/sklearn/svm/base.py:931: ConvergenceWarning: Liblinear failed to converge, increase the number of iterations.\n",
      "  \"the number of iterations.\", ConvergenceWarning)\n"
     ]
    },
    {
     "name": "stdout",
     "output_type": "stream",
     "text": [
      "..."
     ]
    },
    {
     "name": "stderr",
     "output_type": "stream",
     "text": [
      "/home/eduardo/.virtualenvs/qa/lib/python3.6/site-packages/sklearn/svm/base.py:931: ConvergenceWarning: Liblinear failed to converge, increase the number of iterations.\n",
      "  \"the number of iterations.\", ConvergenceWarning)\n"
     ]
    },
    {
     "name": "stdout",
     "output_type": "stream",
     "text": [
      ".\n",
      "4000|."
     ]
    },
    {
     "name": "stderr",
     "output_type": "stream",
     "text": [
      "/home/eduardo/.virtualenvs/qa/lib/python3.6/site-packages/sklearn/svm/base.py:931: ConvergenceWarning: Liblinear failed to converge, increase the number of iterations.\n",
      "  \"the number of iterations.\", ConvergenceWarning)\n"
     ]
    },
    {
     "name": "stdout",
     "output_type": "stream",
     "text": [
      "."
     ]
    },
    {
     "name": "stderr",
     "output_type": "stream",
     "text": [
      "/home/eduardo/.virtualenvs/qa/lib/python3.6/site-packages/sklearn/svm/base.py:931: ConvergenceWarning: Liblinear failed to converge, increase the number of iterations.\n",
      "  \"the number of iterations.\", ConvergenceWarning)\n"
     ]
    },
    {
     "name": "stdout",
     "output_type": "stream",
     "text": [
      "."
     ]
    },
    {
     "name": "stderr",
     "output_type": "stream",
     "text": [
      "/home/eduardo/.virtualenvs/qa/lib/python3.6/site-packages/sklearn/svm/base.py:931: ConvergenceWarning: Liblinear failed to converge, increase the number of iterations.\n",
      "  \"the number of iterations.\", ConvergenceWarning)\n"
     ]
    },
    {
     "name": "stdout",
     "output_type": "stream",
     "text": [
      ".."
     ]
    },
    {
     "name": "stderr",
     "output_type": "stream",
     "text": [
      "/home/eduardo/.virtualenvs/qa/lib/python3.6/site-packages/sklearn/svm/base.py:931: ConvergenceWarning: Liblinear failed to converge, increase the number of iterations.\n",
      "  \"the number of iterations.\", ConvergenceWarning)\n"
     ]
    },
    {
     "name": "stdout",
     "output_type": "stream",
     "text": [
      "."
     ]
    },
    {
     "name": "stderr",
     "output_type": "stream",
     "text": [
      "/home/eduardo/.virtualenvs/qa/lib/python3.6/site-packages/sklearn/svm/base.py:931: ConvergenceWarning: Liblinear failed to converge, increase the number of iterations.\n",
      "  \"the number of iterations.\", ConvergenceWarning)\n"
     ]
    },
    {
     "name": "stdout",
     "output_type": "stream",
     "text": [
      "."
     ]
    },
    {
     "name": "stderr",
     "output_type": "stream",
     "text": [
      "/home/eduardo/.virtualenvs/qa/lib/python3.6/site-packages/sklearn/svm/base.py:931: ConvergenceWarning: Liblinear failed to converge, increase the number of iterations.\n",
      "  \"the number of iterations.\", ConvergenceWarning)\n"
     ]
    },
    {
     "name": "stdout",
     "output_type": "stream",
     "text": [
      "."
     ]
    },
    {
     "name": "stderr",
     "output_type": "stream",
     "text": [
      "/home/eduardo/.virtualenvs/qa/lib/python3.6/site-packages/sklearn/svm/base.py:931: ConvergenceWarning: Liblinear failed to converge, increase the number of iterations.\n",
      "  \"the number of iterations.\", ConvergenceWarning)\n"
     ]
    },
    {
     "name": "stdout",
     "output_type": "stream",
     "text": [
      "."
     ]
    },
    {
     "name": "stderr",
     "output_type": "stream",
     "text": [
      "/home/eduardo/.virtualenvs/qa/lib/python3.6/site-packages/sklearn/svm/base.py:931: ConvergenceWarning: Liblinear failed to converge, increase the number of iterations.\n",
      "  \"the number of iterations.\", ConvergenceWarning)\n"
     ]
    },
    {
     "name": "stdout",
     "output_type": "stream",
     "text": [
      "."
     ]
    },
    {
     "name": "stderr",
     "output_type": "stream",
     "text": [
      "/home/eduardo/.virtualenvs/qa/lib/python3.6/site-packages/sklearn/svm/base.py:931: ConvergenceWarning: Liblinear failed to converge, increase the number of iterations.\n",
      "  \"the number of iterations.\", ConvergenceWarning)\n"
     ]
    },
    {
     "name": "stdout",
     "output_type": "stream",
     "text": [
      "\n",
      "5500|.."
     ]
    },
    {
     "name": "stderr",
     "output_type": "stream",
     "text": [
      "/home/eduardo/.virtualenvs/qa/lib/python3.6/site-packages/sklearn/svm/base.py:931: ConvergenceWarning: Liblinear failed to converge, increase the number of iterations.\n",
      "  \"the number of iterations.\", ConvergenceWarning)\n"
     ]
    },
    {
     "name": "stdout",
     "output_type": "stream",
     "text": [
      "."
     ]
    },
    {
     "name": "stderr",
     "output_type": "stream",
     "text": [
      "/home/eduardo/.virtualenvs/qa/lib/python3.6/site-packages/sklearn/svm/base.py:931: ConvergenceWarning: Liblinear failed to converge, increase the number of iterations.\n",
      "  \"the number of iterations.\", ConvergenceWarning)\n"
     ]
    },
    {
     "name": "stdout",
     "output_type": "stream",
     "text": [
      "."
     ]
    },
    {
     "name": "stderr",
     "output_type": "stream",
     "text": [
      "/home/eduardo/.virtualenvs/qa/lib/python3.6/site-packages/sklearn/svm/base.py:931: ConvergenceWarning: Liblinear failed to converge, increase the number of iterations.\n",
      "  \"the number of iterations.\", ConvergenceWarning)\n"
     ]
    },
    {
     "name": "stdout",
     "output_type": "stream",
     "text": [
      ".."
     ]
    },
    {
     "name": "stderr",
     "output_type": "stream",
     "text": [
      "/home/eduardo/.virtualenvs/qa/lib/python3.6/site-packages/sklearn/svm/base.py:931: ConvergenceWarning: Liblinear failed to converge, increase the number of iterations.\n",
      "  \"the number of iterations.\", ConvergenceWarning)\n"
     ]
    },
    {
     "name": "stdout",
     "output_type": "stream",
     "text": [
      "."
     ]
    },
    {
     "name": "stderr",
     "output_type": "stream",
     "text": [
      "/home/eduardo/.virtualenvs/qa/lib/python3.6/site-packages/sklearn/svm/base.py:931: ConvergenceWarning: Liblinear failed to converge, increase the number of iterations.\n",
      "  \"the number of iterations.\", ConvergenceWarning)\n"
     ]
    },
    {
     "name": "stdout",
     "output_type": "stream",
     "text": [
      "."
     ]
    },
    {
     "name": "stderr",
     "output_type": "stream",
     "text": [
      "/home/eduardo/.virtualenvs/qa/lib/python3.6/site-packages/sklearn/svm/base.py:931: ConvergenceWarning: Liblinear failed to converge, increase the number of iterations.\n",
      "  \"the number of iterations.\", ConvergenceWarning)\n"
     ]
    },
    {
     "name": "stdout",
     "output_type": "stream",
     "text": [
      ".."
     ]
    },
    {
     "name": "stderr",
     "output_type": "stream",
     "text": [
      "/home/eduardo/.virtualenvs/qa/lib/python3.6/site-packages/sklearn/svm/base.py:931: ConvergenceWarning: Liblinear failed to converge, increase the number of iterations.\n",
      "  \"the number of iterations.\", ConvergenceWarning)\n"
     ]
    },
    {
     "name": "stdout",
     "output_type": "stream",
     "text": [
      "\n",
      "Run time benchmark: 125.29054236412048\n",
      "\n",
      "\n",
      "Language:  es\n",
      "\n",
      "1000|..........\n",
      "2000|..."
     ]
    },
    {
     "name": "stderr",
     "output_type": "stream",
     "text": [
      "/home/eduardo/.virtualenvs/qa/lib/python3.6/site-packages/sklearn/svm/base.py:931: ConvergenceWarning: Liblinear failed to converge, increase the number of iterations.\n",
      "  \"the number of iterations.\", ConvergenceWarning)\n"
     ]
    },
    {
     "name": "stdout",
     "output_type": "stream",
     "text": [
      ".......\n",
      "3000|."
     ]
    },
    {
     "name": "stderr",
     "output_type": "stream",
     "text": [
      "/home/eduardo/.virtualenvs/qa/lib/python3.6/site-packages/sklearn/svm/base.py:931: ConvergenceWarning: Liblinear failed to converge, increase the number of iterations.\n",
      "  \"the number of iterations.\", ConvergenceWarning)\n"
     ]
    },
    {
     "name": "stdout",
     "output_type": "stream",
     "text": [
      "."
     ]
    },
    {
     "name": "stderr",
     "output_type": "stream",
     "text": [
      "/home/eduardo/.virtualenvs/qa/lib/python3.6/site-packages/sklearn/svm/base.py:931: ConvergenceWarning: Liblinear failed to converge, increase the number of iterations.\n",
      "  \"the number of iterations.\", ConvergenceWarning)\n"
     ]
    },
    {
     "name": "stdout",
     "output_type": "stream",
     "text": [
      ".."
     ]
    },
    {
     "name": "stderr",
     "output_type": "stream",
     "text": [
      "/home/eduardo/.virtualenvs/qa/lib/python3.6/site-packages/sklearn/svm/base.py:931: ConvergenceWarning: Liblinear failed to converge, increase the number of iterations.\n",
      "  \"the number of iterations.\", ConvergenceWarning)\n"
     ]
    },
    {
     "name": "stdout",
     "output_type": "stream",
     "text": [
      ".."
     ]
    },
    {
     "name": "stderr",
     "output_type": "stream",
     "text": [
      "/home/eduardo/.virtualenvs/qa/lib/python3.6/site-packages/sklearn/svm/base.py:931: ConvergenceWarning: Liblinear failed to converge, increase the number of iterations.\n",
      "  \"the number of iterations.\", ConvergenceWarning)\n"
     ]
    },
    {
     "name": "stdout",
     "output_type": "stream",
     "text": [
      "."
     ]
    },
    {
     "name": "stderr",
     "output_type": "stream",
     "text": [
      "/home/eduardo/.virtualenvs/qa/lib/python3.6/site-packages/sklearn/svm/base.py:931: ConvergenceWarning: Liblinear failed to converge, increase the number of iterations.\n",
      "  \"the number of iterations.\", ConvergenceWarning)\n"
     ]
    },
    {
     "name": "stdout",
     "output_type": "stream",
     "text": [
      "."
     ]
    },
    {
     "name": "stderr",
     "output_type": "stream",
     "text": [
      "/home/eduardo/.virtualenvs/qa/lib/python3.6/site-packages/sklearn/svm/base.py:931: ConvergenceWarning: Liblinear failed to converge, increase the number of iterations.\n",
      "  \"the number of iterations.\", ConvergenceWarning)\n"
     ]
    },
    {
     "name": "stdout",
     "output_type": "stream",
     "text": [
      "."
     ]
    },
    {
     "name": "stderr",
     "output_type": "stream",
     "text": [
      "/home/eduardo/.virtualenvs/qa/lib/python3.6/site-packages/sklearn/svm/base.py:931: ConvergenceWarning: Liblinear failed to converge, increase the number of iterations.\n",
      "  \"the number of iterations.\", ConvergenceWarning)\n"
     ]
    },
    {
     "name": "stdout",
     "output_type": "stream",
     "text": [
      "."
     ]
    },
    {
     "name": "stderr",
     "output_type": "stream",
     "text": [
      "/home/eduardo/.virtualenvs/qa/lib/python3.6/site-packages/sklearn/svm/base.py:931: ConvergenceWarning: Liblinear failed to converge, increase the number of iterations.\n",
      "  \"the number of iterations.\", ConvergenceWarning)\n"
     ]
    },
    {
     "name": "stdout",
     "output_type": "stream",
     "text": [
      "\n",
      "4000|."
     ]
    },
    {
     "name": "stderr",
     "output_type": "stream",
     "text": [
      "/home/eduardo/.virtualenvs/qa/lib/python3.6/site-packages/sklearn/svm/base.py:931: ConvergenceWarning: Liblinear failed to converge, increase the number of iterations.\n",
      "  \"the number of iterations.\", ConvergenceWarning)\n"
     ]
    },
    {
     "name": "stdout",
     "output_type": "stream",
     "text": [
      "."
     ]
    },
    {
     "name": "stderr",
     "output_type": "stream",
     "text": [
      "/home/eduardo/.virtualenvs/qa/lib/python3.6/site-packages/sklearn/svm/base.py:931: ConvergenceWarning: Liblinear failed to converge, increase the number of iterations.\n",
      "  \"the number of iterations.\", ConvergenceWarning)\n"
     ]
    },
    {
     "name": "stdout",
     "output_type": "stream",
     "text": [
      "."
     ]
    },
    {
     "name": "stderr",
     "output_type": "stream",
     "text": [
      "/home/eduardo/.virtualenvs/qa/lib/python3.6/site-packages/sklearn/svm/base.py:931: ConvergenceWarning: Liblinear failed to converge, increase the number of iterations.\n",
      "  \"the number of iterations.\", ConvergenceWarning)\n"
     ]
    },
    {
     "name": "stdout",
     "output_type": "stream",
     "text": [
      "."
     ]
    },
    {
     "name": "stderr",
     "output_type": "stream",
     "text": [
      "/home/eduardo/.virtualenvs/qa/lib/python3.6/site-packages/sklearn/svm/base.py:931: ConvergenceWarning: Liblinear failed to converge, increase the number of iterations.\n",
      "  \"the number of iterations.\", ConvergenceWarning)\n"
     ]
    },
    {
     "name": "stdout",
     "output_type": "stream",
     "text": [
      "."
     ]
    },
    {
     "name": "stderr",
     "output_type": "stream",
     "text": [
      "/home/eduardo/.virtualenvs/qa/lib/python3.6/site-packages/sklearn/svm/base.py:931: ConvergenceWarning: Liblinear failed to converge, increase the number of iterations.\n",
      "  \"the number of iterations.\", ConvergenceWarning)\n"
     ]
    },
    {
     "name": "stdout",
     "output_type": "stream",
     "text": [
      "."
     ]
    },
    {
     "name": "stderr",
     "output_type": "stream",
     "text": [
      "/home/eduardo/.virtualenvs/qa/lib/python3.6/site-packages/sklearn/svm/base.py:931: ConvergenceWarning: Liblinear failed to converge, increase the number of iterations.\n",
      "  \"the number of iterations.\", ConvergenceWarning)\n"
     ]
    },
    {
     "name": "stdout",
     "output_type": "stream",
     "text": [
      "."
     ]
    },
    {
     "name": "stderr",
     "output_type": "stream",
     "text": [
      "/home/eduardo/.virtualenvs/qa/lib/python3.6/site-packages/sklearn/svm/base.py:931: ConvergenceWarning: Liblinear failed to converge, increase the number of iterations.\n",
      "  \"the number of iterations.\", ConvergenceWarning)\n"
     ]
    },
    {
     "name": "stdout",
     "output_type": "stream",
     "text": [
      "."
     ]
    },
    {
     "name": "stderr",
     "output_type": "stream",
     "text": [
      "/home/eduardo/.virtualenvs/qa/lib/python3.6/site-packages/sklearn/svm/base.py:931: ConvergenceWarning: Liblinear failed to converge, increase the number of iterations.\n",
      "  \"the number of iterations.\", ConvergenceWarning)\n"
     ]
    },
    {
     "name": "stdout",
     "output_type": "stream",
     "text": [
      "."
     ]
    },
    {
     "name": "stderr",
     "output_type": "stream",
     "text": [
      "/home/eduardo/.virtualenvs/qa/lib/python3.6/site-packages/sklearn/svm/base.py:931: ConvergenceWarning: Liblinear failed to converge, increase the number of iterations.\n",
      "  \"the number of iterations.\", ConvergenceWarning)\n"
     ]
    },
    {
     "name": "stdout",
     "output_type": "stream",
     "text": [
      "."
     ]
    },
    {
     "name": "stderr",
     "output_type": "stream",
     "text": [
      "/home/eduardo/.virtualenvs/qa/lib/python3.6/site-packages/sklearn/svm/base.py:931: ConvergenceWarning: Liblinear failed to converge, increase the number of iterations.\n",
      "  \"the number of iterations.\", ConvergenceWarning)\n"
     ]
    },
    {
     "name": "stdout",
     "output_type": "stream",
     "text": [
      "\n",
      "5500|."
     ]
    },
    {
     "name": "stderr",
     "output_type": "stream",
     "text": [
      "/home/eduardo/.virtualenvs/qa/lib/python3.6/site-packages/sklearn/svm/base.py:931: ConvergenceWarning: Liblinear failed to converge, increase the number of iterations.\n",
      "  \"the number of iterations.\", ConvergenceWarning)\n"
     ]
    },
    {
     "name": "stdout",
     "output_type": "stream",
     "text": [
      "."
     ]
    },
    {
     "name": "stderr",
     "output_type": "stream",
     "text": [
      "/home/eduardo/.virtualenvs/qa/lib/python3.6/site-packages/sklearn/svm/base.py:931: ConvergenceWarning: Liblinear failed to converge, increase the number of iterations.\n",
      "  \"the number of iterations.\", ConvergenceWarning)\n"
     ]
    },
    {
     "name": "stdout",
     "output_type": "stream",
     "text": [
      "."
     ]
    },
    {
     "name": "stderr",
     "output_type": "stream",
     "text": [
      "/home/eduardo/.virtualenvs/qa/lib/python3.6/site-packages/sklearn/svm/base.py:931: ConvergenceWarning: Liblinear failed to converge, increase the number of iterations.\n",
      "  \"the number of iterations.\", ConvergenceWarning)\n"
     ]
    },
    {
     "name": "stdout",
     "output_type": "stream",
     "text": [
      "."
     ]
    },
    {
     "name": "stderr",
     "output_type": "stream",
     "text": [
      "/home/eduardo/.virtualenvs/qa/lib/python3.6/site-packages/sklearn/svm/base.py:931: ConvergenceWarning: Liblinear failed to converge, increase the number of iterations.\n",
      "  \"the number of iterations.\", ConvergenceWarning)\n"
     ]
    },
    {
     "name": "stdout",
     "output_type": "stream",
     "text": [
      "."
     ]
    },
    {
     "name": "stderr",
     "output_type": "stream",
     "text": [
      "/home/eduardo/.virtualenvs/qa/lib/python3.6/site-packages/sklearn/svm/base.py:931: ConvergenceWarning: Liblinear failed to converge, increase the number of iterations.\n",
      "  \"the number of iterations.\", ConvergenceWarning)\n"
     ]
    },
    {
     "name": "stdout",
     "output_type": "stream",
     "text": [
      "."
     ]
    },
    {
     "name": "stderr",
     "output_type": "stream",
     "text": [
      "/home/eduardo/.virtualenvs/qa/lib/python3.6/site-packages/sklearn/svm/base.py:931: ConvergenceWarning: Liblinear failed to converge, increase the number of iterations.\n",
      "  \"the number of iterations.\", ConvergenceWarning)\n"
     ]
    },
    {
     "name": "stdout",
     "output_type": "stream",
     "text": [
      "."
     ]
    },
    {
     "name": "stderr",
     "output_type": "stream",
     "text": [
      "/home/eduardo/.virtualenvs/qa/lib/python3.6/site-packages/sklearn/svm/base.py:931: ConvergenceWarning: Liblinear failed to converge, increase the number of iterations.\n",
      "  \"the number of iterations.\", ConvergenceWarning)\n"
     ]
    },
    {
     "name": "stdout",
     "output_type": "stream",
     "text": [
      "."
     ]
    },
    {
     "name": "stderr",
     "output_type": "stream",
     "text": [
      "/home/eduardo/.virtualenvs/qa/lib/python3.6/site-packages/sklearn/svm/base.py:931: ConvergenceWarning: Liblinear failed to converge, increase the number of iterations.\n",
      "  \"the number of iterations.\", ConvergenceWarning)\n"
     ]
    },
    {
     "name": "stdout",
     "output_type": "stream",
     "text": [
      "."
     ]
    },
    {
     "name": "stderr",
     "output_type": "stream",
     "text": [
      "/home/eduardo/.virtualenvs/qa/lib/python3.6/site-packages/sklearn/svm/base.py:931: ConvergenceWarning: Liblinear failed to converge, increase the number of iterations.\n",
      "  \"the number of iterations.\", ConvergenceWarning)\n"
     ]
    },
    {
     "name": "stdout",
     "output_type": "stream",
     "text": [
      "."
     ]
    },
    {
     "name": "stderr",
     "output_type": "stream",
     "text": [
      "/home/eduardo/.virtualenvs/qa/lib/python3.6/site-packages/sklearn/svm/base.py:931: ConvergenceWarning: Liblinear failed to converge, increase the number of iterations.\n",
      "  \"the number of iterations.\", ConvergenceWarning)\n"
     ]
    },
    {
     "name": "stdout",
     "output_type": "stream",
     "text": [
      "\n",
      "Run time benchmark: 151.8110692501068\n",
      "\n",
      "\n",
      "Language:  pt\n",
      "\n",
      "1000|..."
     ]
    },
    {
     "name": "stderr",
     "output_type": "stream",
     "text": [
      "/home/eduardo/.virtualenvs/qa/lib/python3.6/site-packages/sklearn/svm/base.py:931: ConvergenceWarning: Liblinear failed to converge, increase the number of iterations.\n",
      "  \"the number of iterations.\", ConvergenceWarning)\n"
     ]
    },
    {
     "name": "stdout",
     "output_type": "stream",
     "text": [
      "..."
     ]
    },
    {
     "name": "stderr",
     "output_type": "stream",
     "text": [
      "/home/eduardo/.virtualenvs/qa/lib/python3.6/site-packages/sklearn/svm/base.py:931: ConvergenceWarning: Liblinear failed to converge, increase the number of iterations.\n",
      "  \"the number of iterations.\", ConvergenceWarning)\n"
     ]
    },
    {
     "name": "stdout",
     "output_type": "stream",
     "text": [
      "....\n",
      "2000|..."
     ]
    },
    {
     "name": "stderr",
     "output_type": "stream",
     "text": [
      "/home/eduardo/.virtualenvs/qa/lib/python3.6/site-packages/sklearn/svm/base.py:931: ConvergenceWarning: Liblinear failed to converge, increase the number of iterations.\n",
      "  \"the number of iterations.\", ConvergenceWarning)\n"
     ]
    },
    {
     "name": "stdout",
     "output_type": "stream",
     "text": [
      "..."
     ]
    },
    {
     "name": "stderr",
     "output_type": "stream",
     "text": [
      "/home/eduardo/.virtualenvs/qa/lib/python3.6/site-packages/sklearn/svm/base.py:931: ConvergenceWarning: Liblinear failed to converge, increase the number of iterations.\n",
      "  \"the number of iterations.\", ConvergenceWarning)\n"
     ]
    },
    {
     "name": "stdout",
     "output_type": "stream",
     "text": [
      ".."
     ]
    },
    {
     "name": "stderr",
     "output_type": "stream",
     "text": [
      "/home/eduardo/.virtualenvs/qa/lib/python3.6/site-packages/sklearn/svm/base.py:931: ConvergenceWarning: Liblinear failed to converge, increase the number of iterations.\n",
      "  \"the number of iterations.\", ConvergenceWarning)\n"
     ]
    },
    {
     "name": "stdout",
     "output_type": "stream",
     "text": [
      "."
     ]
    },
    {
     "name": "stderr",
     "output_type": "stream",
     "text": [
      "/home/eduardo/.virtualenvs/qa/lib/python3.6/site-packages/sklearn/svm/base.py:931: ConvergenceWarning: Liblinear failed to converge, increase the number of iterations.\n",
      "  \"the number of iterations.\", ConvergenceWarning)\n"
     ]
    },
    {
     "name": "stdout",
     "output_type": "stream",
     "text": [
      "."
     ]
    },
    {
     "name": "stderr",
     "output_type": "stream",
     "text": [
      "/home/eduardo/.virtualenvs/qa/lib/python3.6/site-packages/sklearn/svm/base.py:931: ConvergenceWarning: Liblinear failed to converge, increase the number of iterations.\n",
      "  \"the number of iterations.\", ConvergenceWarning)\n"
     ]
    },
    {
     "name": "stdout",
     "output_type": "stream",
     "text": [
      "\n",
      "3000|."
     ]
    },
    {
     "name": "stderr",
     "output_type": "stream",
     "text": [
      "/home/eduardo/.virtualenvs/qa/lib/python3.6/site-packages/sklearn/svm/base.py:931: ConvergenceWarning: Liblinear failed to converge, increase the number of iterations.\n",
      "  \"the number of iterations.\", ConvergenceWarning)\n"
     ]
    },
    {
     "name": "stdout",
     "output_type": "stream",
     "text": [
      "."
     ]
    },
    {
     "name": "stderr",
     "output_type": "stream",
     "text": [
      "/home/eduardo/.virtualenvs/qa/lib/python3.6/site-packages/sklearn/svm/base.py:931: ConvergenceWarning: Liblinear failed to converge, increase the number of iterations.\n",
      "  \"the number of iterations.\", ConvergenceWarning)\n"
     ]
    },
    {
     "name": "stdout",
     "output_type": "stream",
     "text": [
      "."
     ]
    },
    {
     "name": "stderr",
     "output_type": "stream",
     "text": [
      "/home/eduardo/.virtualenvs/qa/lib/python3.6/site-packages/sklearn/svm/base.py:931: ConvergenceWarning: Liblinear failed to converge, increase the number of iterations.\n",
      "  \"the number of iterations.\", ConvergenceWarning)\n"
     ]
    },
    {
     "name": "stdout",
     "output_type": "stream",
     "text": [
      "."
     ]
    },
    {
     "name": "stderr",
     "output_type": "stream",
     "text": [
      "/home/eduardo/.virtualenvs/qa/lib/python3.6/site-packages/sklearn/svm/base.py:931: ConvergenceWarning: Liblinear failed to converge, increase the number of iterations.\n",
      "  \"the number of iterations.\", ConvergenceWarning)\n"
     ]
    },
    {
     "name": "stdout",
     "output_type": "stream",
     "text": [
      "..."
     ]
    },
    {
     "name": "stderr",
     "output_type": "stream",
     "text": [
      "/home/eduardo/.virtualenvs/qa/lib/python3.6/site-packages/sklearn/svm/base.py:931: ConvergenceWarning: Liblinear failed to converge, increase the number of iterations.\n",
      "  \"the number of iterations.\", ConvergenceWarning)\n"
     ]
    },
    {
     "name": "stdout",
     "output_type": "stream",
     "text": [
      ".."
     ]
    },
    {
     "name": "stderr",
     "output_type": "stream",
     "text": [
      "/home/eduardo/.virtualenvs/qa/lib/python3.6/site-packages/sklearn/svm/base.py:931: ConvergenceWarning: Liblinear failed to converge, increase the number of iterations.\n",
      "  \"the number of iterations.\", ConvergenceWarning)\n"
     ]
    },
    {
     "name": "stdout",
     "output_type": "stream",
     "text": [
      "."
     ]
    },
    {
     "name": "stderr",
     "output_type": "stream",
     "text": [
      "/home/eduardo/.virtualenvs/qa/lib/python3.6/site-packages/sklearn/svm/base.py:931: ConvergenceWarning: Liblinear failed to converge, increase the number of iterations.\n",
      "  \"the number of iterations.\", ConvergenceWarning)\n"
     ]
    },
    {
     "name": "stdout",
     "output_type": "stream",
     "text": [
      "\n",
      "4000|."
     ]
    },
    {
     "name": "stderr",
     "output_type": "stream",
     "text": [
      "/home/eduardo/.virtualenvs/qa/lib/python3.6/site-packages/sklearn/svm/base.py:931: ConvergenceWarning: Liblinear failed to converge, increase the number of iterations.\n",
      "  \"the number of iterations.\", ConvergenceWarning)\n"
     ]
    },
    {
     "name": "stdout",
     "output_type": "stream",
     "text": [
      "."
     ]
    },
    {
     "name": "stderr",
     "output_type": "stream",
     "text": [
      "/home/eduardo/.virtualenvs/qa/lib/python3.6/site-packages/sklearn/svm/base.py:931: ConvergenceWarning: Liblinear failed to converge, increase the number of iterations.\n",
      "  \"the number of iterations.\", ConvergenceWarning)\n"
     ]
    },
    {
     "name": "stdout",
     "output_type": "stream",
     "text": [
      "."
     ]
    },
    {
     "name": "stderr",
     "output_type": "stream",
     "text": [
      "/home/eduardo/.virtualenvs/qa/lib/python3.6/site-packages/sklearn/svm/base.py:931: ConvergenceWarning: Liblinear failed to converge, increase the number of iterations.\n",
      "  \"the number of iterations.\", ConvergenceWarning)\n"
     ]
    },
    {
     "name": "stdout",
     "output_type": "stream",
     "text": [
      "."
     ]
    },
    {
     "name": "stderr",
     "output_type": "stream",
     "text": [
      "/home/eduardo/.virtualenvs/qa/lib/python3.6/site-packages/sklearn/svm/base.py:931: ConvergenceWarning: Liblinear failed to converge, increase the number of iterations.\n",
      "  \"the number of iterations.\", ConvergenceWarning)\n"
     ]
    },
    {
     "name": "stdout",
     "output_type": "stream",
     "text": [
      "."
     ]
    },
    {
     "name": "stderr",
     "output_type": "stream",
     "text": [
      "/home/eduardo/.virtualenvs/qa/lib/python3.6/site-packages/sklearn/svm/base.py:931: ConvergenceWarning: Liblinear failed to converge, increase the number of iterations.\n",
      "  \"the number of iterations.\", ConvergenceWarning)\n"
     ]
    },
    {
     "name": "stdout",
     "output_type": "stream",
     "text": [
      "."
     ]
    },
    {
     "name": "stderr",
     "output_type": "stream",
     "text": [
      "/home/eduardo/.virtualenvs/qa/lib/python3.6/site-packages/sklearn/svm/base.py:931: ConvergenceWarning: Liblinear failed to converge, increase the number of iterations.\n",
      "  \"the number of iterations.\", ConvergenceWarning)\n"
     ]
    },
    {
     "name": "stdout",
     "output_type": "stream",
     "text": [
      "."
     ]
    },
    {
     "name": "stderr",
     "output_type": "stream",
     "text": [
      "/home/eduardo/.virtualenvs/qa/lib/python3.6/site-packages/sklearn/svm/base.py:931: ConvergenceWarning: Liblinear failed to converge, increase the number of iterations.\n",
      "  \"the number of iterations.\", ConvergenceWarning)\n"
     ]
    },
    {
     "name": "stdout",
     "output_type": "stream",
     "text": [
      "."
     ]
    },
    {
     "name": "stderr",
     "output_type": "stream",
     "text": [
      "/home/eduardo/.virtualenvs/qa/lib/python3.6/site-packages/sklearn/svm/base.py:931: ConvergenceWarning: Liblinear failed to converge, increase the number of iterations.\n",
      "  \"the number of iterations.\", ConvergenceWarning)\n"
     ]
    },
    {
     "name": "stdout",
     "output_type": "stream",
     "text": [
      ".."
     ]
    },
    {
     "name": "stderr",
     "output_type": "stream",
     "text": [
      "/home/eduardo/.virtualenvs/qa/lib/python3.6/site-packages/sklearn/svm/base.py:931: ConvergenceWarning: Liblinear failed to converge, increase the number of iterations.\n",
      "  \"the number of iterations.\", ConvergenceWarning)\n"
     ]
    },
    {
     "name": "stdout",
     "output_type": "stream",
     "text": [
      "\n",
      "5500|."
     ]
    },
    {
     "name": "stderr",
     "output_type": "stream",
     "text": [
      "/home/eduardo/.virtualenvs/qa/lib/python3.6/site-packages/sklearn/svm/base.py:931: ConvergenceWarning: Liblinear failed to converge, increase the number of iterations.\n",
      "  \"the number of iterations.\", ConvergenceWarning)\n"
     ]
    },
    {
     "name": "stdout",
     "output_type": "stream",
     "text": [
      "."
     ]
    },
    {
     "name": "stderr",
     "output_type": "stream",
     "text": [
      "/home/eduardo/.virtualenvs/qa/lib/python3.6/site-packages/sklearn/svm/base.py:931: ConvergenceWarning: Liblinear failed to converge, increase the number of iterations.\n",
      "  \"the number of iterations.\", ConvergenceWarning)\n"
     ]
    },
    {
     "name": "stdout",
     "output_type": "stream",
     "text": [
      "."
     ]
    },
    {
     "name": "stderr",
     "output_type": "stream",
     "text": [
      "/home/eduardo/.virtualenvs/qa/lib/python3.6/site-packages/sklearn/svm/base.py:931: ConvergenceWarning: Liblinear failed to converge, increase the number of iterations.\n",
      "  \"the number of iterations.\", ConvergenceWarning)\n"
     ]
    },
    {
     "name": "stdout",
     "output_type": "stream",
     "text": [
      "."
     ]
    },
    {
     "name": "stderr",
     "output_type": "stream",
     "text": [
      "/home/eduardo/.virtualenvs/qa/lib/python3.6/site-packages/sklearn/svm/base.py:931: ConvergenceWarning: Liblinear failed to converge, increase the number of iterations.\n",
      "  \"the number of iterations.\", ConvergenceWarning)\n"
     ]
    },
    {
     "name": "stdout",
     "output_type": "stream",
     "text": [
      "."
     ]
    },
    {
     "name": "stderr",
     "output_type": "stream",
     "text": [
      "/home/eduardo/.virtualenvs/qa/lib/python3.6/site-packages/sklearn/svm/base.py:931: ConvergenceWarning: Liblinear failed to converge, increase the number of iterations.\n",
      "  \"the number of iterations.\", ConvergenceWarning)\n"
     ]
    },
    {
     "name": "stdout",
     "output_type": "stream",
     "text": [
      "."
     ]
    },
    {
     "name": "stderr",
     "output_type": "stream",
     "text": [
      "/home/eduardo/.virtualenvs/qa/lib/python3.6/site-packages/sklearn/svm/base.py:931: ConvergenceWarning: Liblinear failed to converge, increase the number of iterations.\n",
      "  \"the number of iterations.\", ConvergenceWarning)\n"
     ]
    },
    {
     "name": "stdout",
     "output_type": "stream",
     "text": [
      "."
     ]
    },
    {
     "name": "stderr",
     "output_type": "stream",
     "text": [
      "/home/eduardo/.virtualenvs/qa/lib/python3.6/site-packages/sklearn/svm/base.py:931: ConvergenceWarning: Liblinear failed to converge, increase the number of iterations.\n",
      "  \"the number of iterations.\", ConvergenceWarning)\n"
     ]
    },
    {
     "name": "stdout",
     "output_type": "stream",
     "text": [
      "."
     ]
    },
    {
     "name": "stderr",
     "output_type": "stream",
     "text": [
      "/home/eduardo/.virtualenvs/qa/lib/python3.6/site-packages/sklearn/svm/base.py:931: ConvergenceWarning: Liblinear failed to converge, increase the number of iterations.\n",
      "  \"the number of iterations.\", ConvergenceWarning)\n"
     ]
    },
    {
     "name": "stdout",
     "output_type": "stream",
     "text": [
      "."
     ]
    },
    {
     "name": "stderr",
     "output_type": "stream",
     "text": [
      "/home/eduardo/.virtualenvs/qa/lib/python3.6/site-packages/sklearn/svm/base.py:931: ConvergenceWarning: Liblinear failed to converge, increase the number of iterations.\n",
      "  \"the number of iterations.\", ConvergenceWarning)\n"
     ]
    },
    {
     "name": "stdout",
     "output_type": "stream",
     "text": [
      ".\n",
      "Run time benchmark: 143.85443115234375\n"
     ]
    },
    {
     "name": "stderr",
     "output_type": "stream",
     "text": [
      "/home/eduardo/.virtualenvs/qa/lib/python3.6/site-packages/sklearn/svm/base.py:931: ConvergenceWarning: Liblinear failed to converge, increase the number of iterations.\n",
      "  \"the number of iterations.\", ConvergenceWarning)\n"
     ]
    }
   ],
   "source": [
    "for language in ['en', 'es', 'pt']:\n",
    "    print('\\n\\nLanguage: ', language)\n",
    "    embedding = load_embedding(path_wordembedding + 'wiki.multi.' + language + '.vec')\n",
    "    dataset_train, dataset_test = load_uiuc(language)\n",
    "    dataset = pd.concat([dataset_train, dataset_test])\n",
    "    create_feature('tfidf', dataset, dataset, max_features=2000)\n",
    "    create_feature('embedding_sum', None, dataset, embedding)\n",
    "    \n",
    "    model = {'name': 'svm', 'model': svm_linear}\n",
    "    \n",
    "    tfidf = np.array([list(r) for r in dataset['tfidf'].values])\n",
    "    tfidf = normalize(tfidf, norm='max')\n",
    "    \n",
    "    embedding = np.array([list(r) for r in dataset['embedding_sum'].values])\n",
    "    embedding = normalize(embedding, norm='max')\n",
    "    \n",
    "    X = np.array([list(x) + list(xx) for x, xx in zip(tfidf, embedding)])\n",
    "    y = dataset['class'].values\n",
    "    \n",
    "    # run_benchmark_cv(model, X, y, [50, 100] + list(range(500, 5501, 500)),\n",
    "    run_benchmark_cv(model, X, y, [1000, 2000, 3000, 4000, 5500],\n",
    "                     save='results/UIUC_cv_svm_cortes_' + language + '.csv')"
   ]
  },
  {
   "cell_type": "markdown",
   "metadata": {},
   "source": [
    "#### SVM + TF-IDF + WB + POS + NER"
   ]
  },
  {
   "cell_type": "code",
   "execution_count": 5,
   "metadata": {
    "scrolled": false
   },
   "outputs": [
    {
     "name": "stdout",
     "output_type": "stream",
     "text": [
      "\n",
      "\n",
      "Language:  en\n",
      "\n",
      "1000|........."
     ]
    },
    {
     "name": "stderr",
     "output_type": "stream",
     "text": [
      "/home/eduardo/.virtualenvs/qa/lib/python3.6/site-packages/sklearn/svm/base.py:931: ConvergenceWarning: Liblinear failed to converge, increase the number of iterations.\n",
      "  \"the number of iterations.\", ConvergenceWarning)\n"
     ]
    },
    {
     "name": "stdout",
     "output_type": "stream",
     "text": [
      ".\n",
      "2000|..."
     ]
    },
    {
     "name": "stderr",
     "output_type": "stream",
     "text": [
      "/home/eduardo/.virtualenvs/qa/lib/python3.6/site-packages/sklearn/svm/base.py:931: ConvergenceWarning: Liblinear failed to converge, increase the number of iterations.\n",
      "  \"the number of iterations.\", ConvergenceWarning)\n"
     ]
    },
    {
     "name": "stdout",
     "output_type": "stream",
     "text": [
      "..."
     ]
    },
    {
     "name": "stderr",
     "output_type": "stream",
     "text": [
      "/home/eduardo/.virtualenvs/qa/lib/python3.6/site-packages/sklearn/svm/base.py:931: ConvergenceWarning: Liblinear failed to converge, increase the number of iterations.\n",
      "  \"the number of iterations.\", ConvergenceWarning)\n"
     ]
    },
    {
     "name": "stdout",
     "output_type": "stream",
     "text": [
      "."
     ]
    },
    {
     "name": "stderr",
     "output_type": "stream",
     "text": [
      "/home/eduardo/.virtualenvs/qa/lib/python3.6/site-packages/sklearn/svm/base.py:931: ConvergenceWarning: Liblinear failed to converge, increase the number of iterations.\n",
      "  \"the number of iterations.\", ConvergenceWarning)\n"
     ]
    },
    {
     "name": "stdout",
     "output_type": "stream",
     "text": [
      ".."
     ]
    },
    {
     "name": "stderr",
     "output_type": "stream",
     "text": [
      "/home/eduardo/.virtualenvs/qa/lib/python3.6/site-packages/sklearn/svm/base.py:931: ConvergenceWarning: Liblinear failed to converge, increase the number of iterations.\n",
      "  \"the number of iterations.\", ConvergenceWarning)\n"
     ]
    },
    {
     "name": "stdout",
     "output_type": "stream",
     "text": [
      ".\n",
      "3000|."
     ]
    },
    {
     "name": "stderr",
     "output_type": "stream",
     "text": [
      "/home/eduardo/.virtualenvs/qa/lib/python3.6/site-packages/sklearn/svm/base.py:931: ConvergenceWarning: Liblinear failed to converge, increase the number of iterations.\n",
      "  \"the number of iterations.\", ConvergenceWarning)\n"
     ]
    },
    {
     "name": "stdout",
     "output_type": "stream",
     "text": [
      "."
     ]
    },
    {
     "name": "stderr",
     "output_type": "stream",
     "text": [
      "/home/eduardo/.virtualenvs/qa/lib/python3.6/site-packages/sklearn/svm/base.py:931: ConvergenceWarning: Liblinear failed to converge, increase the number of iterations.\n",
      "  \"the number of iterations.\", ConvergenceWarning)\n"
     ]
    },
    {
     "name": "stdout",
     "output_type": "stream",
     "text": [
      "."
     ]
    },
    {
     "name": "stderr",
     "output_type": "stream",
     "text": [
      "/home/eduardo/.virtualenvs/qa/lib/python3.6/site-packages/sklearn/svm/base.py:931: ConvergenceWarning: Liblinear failed to converge, increase the number of iterations.\n",
      "  \"the number of iterations.\", ConvergenceWarning)\n"
     ]
    },
    {
     "name": "stdout",
     "output_type": "stream",
     "text": [
      "."
     ]
    },
    {
     "name": "stderr",
     "output_type": "stream",
     "text": [
      "/home/eduardo/.virtualenvs/qa/lib/python3.6/site-packages/sklearn/svm/base.py:931: ConvergenceWarning: Liblinear failed to converge, increase the number of iterations.\n",
      "  \"the number of iterations.\", ConvergenceWarning)\n"
     ]
    },
    {
     "name": "stdout",
     "output_type": "stream",
     "text": [
      "."
     ]
    },
    {
     "name": "stderr",
     "output_type": "stream",
     "text": [
      "/home/eduardo/.virtualenvs/qa/lib/python3.6/site-packages/sklearn/svm/base.py:931: ConvergenceWarning: Liblinear failed to converge, increase the number of iterations.\n",
      "  \"the number of iterations.\", ConvergenceWarning)\n"
     ]
    },
    {
     "name": "stdout",
     "output_type": "stream",
     "text": [
      "."
     ]
    },
    {
     "name": "stderr",
     "output_type": "stream",
     "text": [
      "/home/eduardo/.virtualenvs/qa/lib/python3.6/site-packages/sklearn/svm/base.py:931: ConvergenceWarning: Liblinear failed to converge, increase the number of iterations.\n",
      "  \"the number of iterations.\", ConvergenceWarning)\n"
     ]
    },
    {
     "name": "stdout",
     "output_type": "stream",
     "text": [
      "."
     ]
    },
    {
     "name": "stderr",
     "output_type": "stream",
     "text": [
      "/home/eduardo/.virtualenvs/qa/lib/python3.6/site-packages/sklearn/svm/base.py:931: ConvergenceWarning: Liblinear failed to converge, increase the number of iterations.\n",
      "  \"the number of iterations.\", ConvergenceWarning)\n"
     ]
    },
    {
     "name": "stdout",
     "output_type": "stream",
     "text": [
      "."
     ]
    },
    {
     "name": "stderr",
     "output_type": "stream",
     "text": [
      "/home/eduardo/.virtualenvs/qa/lib/python3.6/site-packages/sklearn/svm/base.py:931: ConvergenceWarning: Liblinear failed to converge, increase the number of iterations.\n",
      "  \"the number of iterations.\", ConvergenceWarning)\n"
     ]
    },
    {
     "name": "stdout",
     "output_type": "stream",
     "text": [
      "."
     ]
    },
    {
     "name": "stderr",
     "output_type": "stream",
     "text": [
      "/home/eduardo/.virtualenvs/qa/lib/python3.6/site-packages/sklearn/svm/base.py:931: ConvergenceWarning: Liblinear failed to converge, increase the number of iterations.\n",
      "  \"the number of iterations.\", ConvergenceWarning)\n"
     ]
    },
    {
     "name": "stdout",
     "output_type": "stream",
     "text": [
      "."
     ]
    },
    {
     "name": "stderr",
     "output_type": "stream",
     "text": [
      "/home/eduardo/.virtualenvs/qa/lib/python3.6/site-packages/sklearn/svm/base.py:931: ConvergenceWarning: Liblinear failed to converge, increase the number of iterations.\n",
      "  \"the number of iterations.\", ConvergenceWarning)\n"
     ]
    },
    {
     "name": "stdout",
     "output_type": "stream",
     "text": [
      "\n",
      "4000|."
     ]
    },
    {
     "name": "stderr",
     "output_type": "stream",
     "text": [
      "/home/eduardo/.virtualenvs/qa/lib/python3.6/site-packages/sklearn/svm/base.py:931: ConvergenceWarning: Liblinear failed to converge, increase the number of iterations.\n",
      "  \"the number of iterations.\", ConvergenceWarning)\n"
     ]
    },
    {
     "name": "stdout",
     "output_type": "stream",
     "text": [
      "."
     ]
    },
    {
     "name": "stderr",
     "output_type": "stream",
     "text": [
      "/home/eduardo/.virtualenvs/qa/lib/python3.6/site-packages/sklearn/svm/base.py:931: ConvergenceWarning: Liblinear failed to converge, increase the number of iterations.\n",
      "  \"the number of iterations.\", ConvergenceWarning)\n"
     ]
    },
    {
     "name": "stdout",
     "output_type": "stream",
     "text": [
      "."
     ]
    },
    {
     "name": "stderr",
     "output_type": "stream",
     "text": [
      "/home/eduardo/.virtualenvs/qa/lib/python3.6/site-packages/sklearn/svm/base.py:931: ConvergenceWarning: Liblinear failed to converge, increase the number of iterations.\n",
      "  \"the number of iterations.\", ConvergenceWarning)\n"
     ]
    },
    {
     "name": "stdout",
     "output_type": "stream",
     "text": [
      "."
     ]
    },
    {
     "name": "stderr",
     "output_type": "stream",
     "text": [
      "/home/eduardo/.virtualenvs/qa/lib/python3.6/site-packages/sklearn/svm/base.py:931: ConvergenceWarning: Liblinear failed to converge, increase the number of iterations.\n",
      "  \"the number of iterations.\", ConvergenceWarning)\n"
     ]
    },
    {
     "name": "stdout",
     "output_type": "stream",
     "text": [
      "."
     ]
    },
    {
     "name": "stderr",
     "output_type": "stream",
     "text": [
      "/home/eduardo/.virtualenvs/qa/lib/python3.6/site-packages/sklearn/svm/base.py:931: ConvergenceWarning: Liblinear failed to converge, increase the number of iterations.\n",
      "  \"the number of iterations.\", ConvergenceWarning)\n"
     ]
    },
    {
     "name": "stdout",
     "output_type": "stream",
     "text": [
      "."
     ]
    },
    {
     "name": "stderr",
     "output_type": "stream",
     "text": [
      "/home/eduardo/.virtualenvs/qa/lib/python3.6/site-packages/sklearn/svm/base.py:931: ConvergenceWarning: Liblinear failed to converge, increase the number of iterations.\n",
      "  \"the number of iterations.\", ConvergenceWarning)\n"
     ]
    },
    {
     "name": "stdout",
     "output_type": "stream",
     "text": [
      "."
     ]
    },
    {
     "name": "stderr",
     "output_type": "stream",
     "text": [
      "/home/eduardo/.virtualenvs/qa/lib/python3.6/site-packages/sklearn/svm/base.py:931: ConvergenceWarning: Liblinear failed to converge, increase the number of iterations.\n",
      "  \"the number of iterations.\", ConvergenceWarning)\n"
     ]
    },
    {
     "name": "stdout",
     "output_type": "stream",
     "text": [
      "."
     ]
    },
    {
     "name": "stderr",
     "output_type": "stream",
     "text": [
      "/home/eduardo/.virtualenvs/qa/lib/python3.6/site-packages/sklearn/svm/base.py:931: ConvergenceWarning: Liblinear failed to converge, increase the number of iterations.\n",
      "  \"the number of iterations.\", ConvergenceWarning)\n"
     ]
    },
    {
     "name": "stdout",
     "output_type": "stream",
     "text": [
      "."
     ]
    },
    {
     "name": "stderr",
     "output_type": "stream",
     "text": [
      "/home/eduardo/.virtualenvs/qa/lib/python3.6/site-packages/sklearn/svm/base.py:931: ConvergenceWarning: Liblinear failed to converge, increase the number of iterations.\n",
      "  \"the number of iterations.\", ConvergenceWarning)\n"
     ]
    },
    {
     "name": "stdout",
     "output_type": "stream",
     "text": [
      "."
     ]
    },
    {
     "name": "stderr",
     "output_type": "stream",
     "text": [
      "/home/eduardo/.virtualenvs/qa/lib/python3.6/site-packages/sklearn/svm/base.py:931: ConvergenceWarning: Liblinear failed to converge, increase the number of iterations.\n",
      "  \"the number of iterations.\", ConvergenceWarning)\n"
     ]
    },
    {
     "name": "stdout",
     "output_type": "stream",
     "text": [
      "\n",
      "5500|."
     ]
    },
    {
     "name": "stderr",
     "output_type": "stream",
     "text": [
      "/home/eduardo/.virtualenvs/qa/lib/python3.6/site-packages/sklearn/svm/base.py:931: ConvergenceWarning: Liblinear failed to converge, increase the number of iterations.\n",
      "  \"the number of iterations.\", ConvergenceWarning)\n"
     ]
    },
    {
     "name": "stdout",
     "output_type": "stream",
     "text": [
      "."
     ]
    },
    {
     "name": "stderr",
     "output_type": "stream",
     "text": [
      "/home/eduardo/.virtualenvs/qa/lib/python3.6/site-packages/sklearn/svm/base.py:931: ConvergenceWarning: Liblinear failed to converge, increase the number of iterations.\n",
      "  \"the number of iterations.\", ConvergenceWarning)\n"
     ]
    },
    {
     "name": "stdout",
     "output_type": "stream",
     "text": [
      "."
     ]
    },
    {
     "name": "stderr",
     "output_type": "stream",
     "text": [
      "/home/eduardo/.virtualenvs/qa/lib/python3.6/site-packages/sklearn/svm/base.py:931: ConvergenceWarning: Liblinear failed to converge, increase the number of iterations.\n",
      "  \"the number of iterations.\", ConvergenceWarning)\n"
     ]
    },
    {
     "name": "stdout",
     "output_type": "stream",
     "text": [
      "."
     ]
    },
    {
     "name": "stderr",
     "output_type": "stream",
     "text": [
      "/home/eduardo/.virtualenvs/qa/lib/python3.6/site-packages/sklearn/svm/base.py:931: ConvergenceWarning: Liblinear failed to converge, increase the number of iterations.\n",
      "  \"the number of iterations.\", ConvergenceWarning)\n"
     ]
    },
    {
     "name": "stdout",
     "output_type": "stream",
     "text": [
      "."
     ]
    },
    {
     "name": "stderr",
     "output_type": "stream",
     "text": [
      "/home/eduardo/.virtualenvs/qa/lib/python3.6/site-packages/sklearn/svm/base.py:931: ConvergenceWarning: Liblinear failed to converge, increase the number of iterations.\n",
      "  \"the number of iterations.\", ConvergenceWarning)\n"
     ]
    },
    {
     "name": "stdout",
     "output_type": "stream",
     "text": [
      "."
     ]
    },
    {
     "name": "stderr",
     "output_type": "stream",
     "text": [
      "/home/eduardo/.virtualenvs/qa/lib/python3.6/site-packages/sklearn/svm/base.py:931: ConvergenceWarning: Liblinear failed to converge, increase the number of iterations.\n",
      "  \"the number of iterations.\", ConvergenceWarning)\n"
     ]
    },
    {
     "name": "stdout",
     "output_type": "stream",
     "text": [
      "."
     ]
    },
    {
     "name": "stderr",
     "output_type": "stream",
     "text": [
      "/home/eduardo/.virtualenvs/qa/lib/python3.6/site-packages/sklearn/svm/base.py:931: ConvergenceWarning: Liblinear failed to converge, increase the number of iterations.\n",
      "  \"the number of iterations.\", ConvergenceWarning)\n"
     ]
    },
    {
     "name": "stdout",
     "output_type": "stream",
     "text": [
      "."
     ]
    },
    {
     "name": "stderr",
     "output_type": "stream",
     "text": [
      "/home/eduardo/.virtualenvs/qa/lib/python3.6/site-packages/sklearn/svm/base.py:931: ConvergenceWarning: Liblinear failed to converge, increase the number of iterations.\n",
      "  \"the number of iterations.\", ConvergenceWarning)\n"
     ]
    },
    {
     "name": "stdout",
     "output_type": "stream",
     "text": [
      "."
     ]
    },
    {
     "name": "stderr",
     "output_type": "stream",
     "text": [
      "/home/eduardo/.virtualenvs/qa/lib/python3.6/site-packages/sklearn/svm/base.py:931: ConvergenceWarning: Liblinear failed to converge, increase the number of iterations.\n",
      "  \"the number of iterations.\", ConvergenceWarning)\n"
     ]
    },
    {
     "name": "stdout",
     "output_type": "stream",
     "text": [
      "."
     ]
    },
    {
     "name": "stderr",
     "output_type": "stream",
     "text": [
      "/home/eduardo/.virtualenvs/qa/lib/python3.6/site-packages/sklearn/svm/base.py:931: ConvergenceWarning: Liblinear failed to converge, increase the number of iterations.\n",
      "  \"the number of iterations.\", ConvergenceWarning)\n"
     ]
    },
    {
     "name": "stdout",
     "output_type": "stream",
     "text": [
      "\n",
      "Run time benchmark: 129.40373587608337\n",
      "\n",
      "\n",
      "Language:  es\n",
      "\n",
      "1000|...."
     ]
    },
    {
     "name": "stderr",
     "output_type": "stream",
     "text": [
      "/home/eduardo/.virtualenvs/qa/lib/python3.6/site-packages/sklearn/svm/base.py:931: ConvergenceWarning: Liblinear failed to converge, increase the number of iterations.\n",
      "  \"the number of iterations.\", ConvergenceWarning)\n"
     ]
    },
    {
     "name": "stdout",
     "output_type": "stream",
     "text": [
      "......\n",
      "2000|."
     ]
    },
    {
     "name": "stderr",
     "output_type": "stream",
     "text": [
      "/home/eduardo/.virtualenvs/qa/lib/python3.6/site-packages/sklearn/svm/base.py:931: ConvergenceWarning: Liblinear failed to converge, increase the number of iterations.\n",
      "  \"the number of iterations.\", ConvergenceWarning)\n"
     ]
    },
    {
     "name": "stdout",
     "output_type": "stream",
     "text": [
      ".."
     ]
    },
    {
     "name": "stderr",
     "output_type": "stream",
     "text": [
      "/home/eduardo/.virtualenvs/qa/lib/python3.6/site-packages/sklearn/svm/base.py:931: ConvergenceWarning: Liblinear failed to converge, increase the number of iterations.\n",
      "  \"the number of iterations.\", ConvergenceWarning)\n"
     ]
    },
    {
     "name": "stdout",
     "output_type": "stream",
     "text": [
      "."
     ]
    },
    {
     "name": "stderr",
     "output_type": "stream",
     "text": [
      "/home/eduardo/.virtualenvs/qa/lib/python3.6/site-packages/sklearn/svm/base.py:931: ConvergenceWarning: Liblinear failed to converge, increase the number of iterations.\n",
      "  \"the number of iterations.\", ConvergenceWarning)\n"
     ]
    },
    {
     "name": "stdout",
     "output_type": "stream",
     "text": [
      "."
     ]
    },
    {
     "name": "stderr",
     "output_type": "stream",
     "text": [
      "/home/eduardo/.virtualenvs/qa/lib/python3.6/site-packages/sklearn/svm/base.py:931: ConvergenceWarning: Liblinear failed to converge, increase the number of iterations.\n",
      "  \"the number of iterations.\", ConvergenceWarning)\n"
     ]
    },
    {
     "name": "stdout",
     "output_type": "stream",
     "text": [
      "."
     ]
    },
    {
     "name": "stderr",
     "output_type": "stream",
     "text": [
      "/home/eduardo/.virtualenvs/qa/lib/python3.6/site-packages/sklearn/svm/base.py:931: ConvergenceWarning: Liblinear failed to converge, increase the number of iterations.\n",
      "  \"the number of iterations.\", ConvergenceWarning)\n"
     ]
    },
    {
     "name": "stdout",
     "output_type": "stream",
     "text": [
      ".."
     ]
    },
    {
     "name": "stderr",
     "output_type": "stream",
     "text": [
      "/home/eduardo/.virtualenvs/qa/lib/python3.6/site-packages/sklearn/svm/base.py:931: ConvergenceWarning: Liblinear failed to converge, increase the number of iterations.\n",
      "  \"the number of iterations.\", ConvergenceWarning)\n"
     ]
    },
    {
     "name": "stdout",
     "output_type": "stream",
     "text": [
      "."
     ]
    },
    {
     "name": "stderr",
     "output_type": "stream",
     "text": [
      "/home/eduardo/.virtualenvs/qa/lib/python3.6/site-packages/sklearn/svm/base.py:931: ConvergenceWarning: Liblinear failed to converge, increase the number of iterations.\n",
      "  \"the number of iterations.\", ConvergenceWarning)\n"
     ]
    },
    {
     "name": "stdout",
     "output_type": "stream",
     "text": [
      "."
     ]
    },
    {
     "name": "stderr",
     "output_type": "stream",
     "text": [
      "/home/eduardo/.virtualenvs/qa/lib/python3.6/site-packages/sklearn/svm/base.py:931: ConvergenceWarning: Liblinear failed to converge, increase the number of iterations.\n",
      "  \"the number of iterations.\", ConvergenceWarning)\n"
     ]
    },
    {
     "name": "stdout",
     "output_type": "stream",
     "text": [
      "\n",
      "3000|."
     ]
    },
    {
     "name": "stderr",
     "output_type": "stream",
     "text": [
      "/home/eduardo/.virtualenvs/qa/lib/python3.6/site-packages/sklearn/svm/base.py:931: ConvergenceWarning: Liblinear failed to converge, increase the number of iterations.\n",
      "  \"the number of iterations.\", ConvergenceWarning)\n"
     ]
    },
    {
     "name": "stdout",
     "output_type": "stream",
     "text": [
      "."
     ]
    },
    {
     "name": "stderr",
     "output_type": "stream",
     "text": [
      "/home/eduardo/.virtualenvs/qa/lib/python3.6/site-packages/sklearn/svm/base.py:931: ConvergenceWarning: Liblinear failed to converge, increase the number of iterations.\n",
      "  \"the number of iterations.\", ConvergenceWarning)\n"
     ]
    },
    {
     "name": "stdout",
     "output_type": "stream",
     "text": [
      "."
     ]
    },
    {
     "name": "stderr",
     "output_type": "stream",
     "text": [
      "/home/eduardo/.virtualenvs/qa/lib/python3.6/site-packages/sklearn/svm/base.py:931: ConvergenceWarning: Liblinear failed to converge, increase the number of iterations.\n",
      "  \"the number of iterations.\", ConvergenceWarning)\n"
     ]
    },
    {
     "name": "stdout",
     "output_type": "stream",
     "text": [
      "."
     ]
    },
    {
     "name": "stderr",
     "output_type": "stream",
     "text": [
      "/home/eduardo/.virtualenvs/qa/lib/python3.6/site-packages/sklearn/svm/base.py:931: ConvergenceWarning: Liblinear failed to converge, increase the number of iterations.\n",
      "  \"the number of iterations.\", ConvergenceWarning)\n"
     ]
    },
    {
     "name": "stdout",
     "output_type": "stream",
     "text": [
      "."
     ]
    },
    {
     "name": "stderr",
     "output_type": "stream",
     "text": [
      "/home/eduardo/.virtualenvs/qa/lib/python3.6/site-packages/sklearn/svm/base.py:931: ConvergenceWarning: Liblinear failed to converge, increase the number of iterations.\n",
      "  \"the number of iterations.\", ConvergenceWarning)\n"
     ]
    },
    {
     "name": "stdout",
     "output_type": "stream",
     "text": [
      "."
     ]
    },
    {
     "name": "stderr",
     "output_type": "stream",
     "text": [
      "/home/eduardo/.virtualenvs/qa/lib/python3.6/site-packages/sklearn/svm/base.py:931: ConvergenceWarning: Liblinear failed to converge, increase the number of iterations.\n",
      "  \"the number of iterations.\", ConvergenceWarning)\n"
     ]
    },
    {
     "name": "stdout",
     "output_type": "stream",
     "text": [
      "."
     ]
    },
    {
     "name": "stderr",
     "output_type": "stream",
     "text": [
      "/home/eduardo/.virtualenvs/qa/lib/python3.6/site-packages/sklearn/svm/base.py:931: ConvergenceWarning: Liblinear failed to converge, increase the number of iterations.\n",
      "  \"the number of iterations.\", ConvergenceWarning)\n"
     ]
    },
    {
     "name": "stdout",
     "output_type": "stream",
     "text": [
      "."
     ]
    },
    {
     "name": "stderr",
     "output_type": "stream",
     "text": [
      "/home/eduardo/.virtualenvs/qa/lib/python3.6/site-packages/sklearn/svm/base.py:931: ConvergenceWarning: Liblinear failed to converge, increase the number of iterations.\n",
      "  \"the number of iterations.\", ConvergenceWarning)\n"
     ]
    },
    {
     "name": "stdout",
     "output_type": "stream",
     "text": [
      "."
     ]
    },
    {
     "name": "stderr",
     "output_type": "stream",
     "text": [
      "/home/eduardo/.virtualenvs/qa/lib/python3.6/site-packages/sklearn/svm/base.py:931: ConvergenceWarning: Liblinear failed to converge, increase the number of iterations.\n",
      "  \"the number of iterations.\", ConvergenceWarning)\n"
     ]
    },
    {
     "name": "stdout",
     "output_type": "stream",
     "text": [
      "."
     ]
    },
    {
     "name": "stderr",
     "output_type": "stream",
     "text": [
      "/home/eduardo/.virtualenvs/qa/lib/python3.6/site-packages/sklearn/svm/base.py:931: ConvergenceWarning: Liblinear failed to converge, increase the number of iterations.\n",
      "  \"the number of iterations.\", ConvergenceWarning)\n"
     ]
    },
    {
     "name": "stdout",
     "output_type": "stream",
     "text": [
      "\n",
      "4000|."
     ]
    },
    {
     "name": "stderr",
     "output_type": "stream",
     "text": [
      "/home/eduardo/.virtualenvs/qa/lib/python3.6/site-packages/sklearn/svm/base.py:931: ConvergenceWarning: Liblinear failed to converge, increase the number of iterations.\n",
      "  \"the number of iterations.\", ConvergenceWarning)\n"
     ]
    },
    {
     "name": "stdout",
     "output_type": "stream",
     "text": [
      "."
     ]
    },
    {
     "name": "stderr",
     "output_type": "stream",
     "text": [
      "/home/eduardo/.virtualenvs/qa/lib/python3.6/site-packages/sklearn/svm/base.py:931: ConvergenceWarning: Liblinear failed to converge, increase the number of iterations.\n",
      "  \"the number of iterations.\", ConvergenceWarning)\n"
     ]
    },
    {
     "name": "stdout",
     "output_type": "stream",
     "text": [
      "."
     ]
    },
    {
     "name": "stderr",
     "output_type": "stream",
     "text": [
      "/home/eduardo/.virtualenvs/qa/lib/python3.6/site-packages/sklearn/svm/base.py:931: ConvergenceWarning: Liblinear failed to converge, increase the number of iterations.\n",
      "  \"the number of iterations.\", ConvergenceWarning)\n"
     ]
    },
    {
     "name": "stdout",
     "output_type": "stream",
     "text": [
      "."
     ]
    },
    {
     "name": "stderr",
     "output_type": "stream",
     "text": [
      "/home/eduardo/.virtualenvs/qa/lib/python3.6/site-packages/sklearn/svm/base.py:931: ConvergenceWarning: Liblinear failed to converge, increase the number of iterations.\n",
      "  \"the number of iterations.\", ConvergenceWarning)\n"
     ]
    },
    {
     "name": "stdout",
     "output_type": "stream",
     "text": [
      "."
     ]
    },
    {
     "name": "stderr",
     "output_type": "stream",
     "text": [
      "/home/eduardo/.virtualenvs/qa/lib/python3.6/site-packages/sklearn/svm/base.py:931: ConvergenceWarning: Liblinear failed to converge, increase the number of iterations.\n",
      "  \"the number of iterations.\", ConvergenceWarning)\n"
     ]
    },
    {
     "name": "stdout",
     "output_type": "stream",
     "text": [
      "."
     ]
    },
    {
     "name": "stderr",
     "output_type": "stream",
     "text": [
      "/home/eduardo/.virtualenvs/qa/lib/python3.6/site-packages/sklearn/svm/base.py:931: ConvergenceWarning: Liblinear failed to converge, increase the number of iterations.\n",
      "  \"the number of iterations.\", ConvergenceWarning)\n"
     ]
    },
    {
     "name": "stdout",
     "output_type": "stream",
     "text": [
      "."
     ]
    },
    {
     "name": "stderr",
     "output_type": "stream",
     "text": [
      "/home/eduardo/.virtualenvs/qa/lib/python3.6/site-packages/sklearn/svm/base.py:931: ConvergenceWarning: Liblinear failed to converge, increase the number of iterations.\n",
      "  \"the number of iterations.\", ConvergenceWarning)\n"
     ]
    },
    {
     "name": "stdout",
     "output_type": "stream",
     "text": [
      "."
     ]
    },
    {
     "name": "stderr",
     "output_type": "stream",
     "text": [
      "/home/eduardo/.virtualenvs/qa/lib/python3.6/site-packages/sklearn/svm/base.py:931: ConvergenceWarning: Liblinear failed to converge, increase the number of iterations.\n",
      "  \"the number of iterations.\", ConvergenceWarning)\n"
     ]
    },
    {
     "name": "stdout",
     "output_type": "stream",
     "text": [
      "."
     ]
    },
    {
     "name": "stderr",
     "output_type": "stream",
     "text": [
      "/home/eduardo/.virtualenvs/qa/lib/python3.6/site-packages/sklearn/svm/base.py:931: ConvergenceWarning: Liblinear failed to converge, increase the number of iterations.\n",
      "  \"the number of iterations.\", ConvergenceWarning)\n"
     ]
    },
    {
     "name": "stdout",
     "output_type": "stream",
     "text": [
      "."
     ]
    },
    {
     "name": "stderr",
     "output_type": "stream",
     "text": [
      "/home/eduardo/.virtualenvs/qa/lib/python3.6/site-packages/sklearn/svm/base.py:931: ConvergenceWarning: Liblinear failed to converge, increase the number of iterations.\n",
      "  \"the number of iterations.\", ConvergenceWarning)\n"
     ]
    },
    {
     "name": "stdout",
     "output_type": "stream",
     "text": [
      "\n",
      "5500|."
     ]
    },
    {
     "name": "stderr",
     "output_type": "stream",
     "text": [
      "/home/eduardo/.virtualenvs/qa/lib/python3.6/site-packages/sklearn/svm/base.py:931: ConvergenceWarning: Liblinear failed to converge, increase the number of iterations.\n",
      "  \"the number of iterations.\", ConvergenceWarning)\n"
     ]
    },
    {
     "name": "stdout",
     "output_type": "stream",
     "text": [
      "."
     ]
    },
    {
     "name": "stderr",
     "output_type": "stream",
     "text": [
      "/home/eduardo/.virtualenvs/qa/lib/python3.6/site-packages/sklearn/svm/base.py:931: ConvergenceWarning: Liblinear failed to converge, increase the number of iterations.\n",
      "  \"the number of iterations.\", ConvergenceWarning)\n"
     ]
    },
    {
     "name": "stdout",
     "output_type": "stream",
     "text": [
      "."
     ]
    },
    {
     "name": "stderr",
     "output_type": "stream",
     "text": [
      "/home/eduardo/.virtualenvs/qa/lib/python3.6/site-packages/sklearn/svm/base.py:931: ConvergenceWarning: Liblinear failed to converge, increase the number of iterations.\n",
      "  \"the number of iterations.\", ConvergenceWarning)\n"
     ]
    },
    {
     "name": "stdout",
     "output_type": "stream",
     "text": [
      "."
     ]
    },
    {
     "name": "stderr",
     "output_type": "stream",
     "text": [
      "/home/eduardo/.virtualenvs/qa/lib/python3.6/site-packages/sklearn/svm/base.py:931: ConvergenceWarning: Liblinear failed to converge, increase the number of iterations.\n",
      "  \"the number of iterations.\", ConvergenceWarning)\n"
     ]
    },
    {
     "name": "stdout",
     "output_type": "stream",
     "text": [
      "."
     ]
    },
    {
     "name": "stderr",
     "output_type": "stream",
     "text": [
      "/home/eduardo/.virtualenvs/qa/lib/python3.6/site-packages/sklearn/svm/base.py:931: ConvergenceWarning: Liblinear failed to converge, increase the number of iterations.\n",
      "  \"the number of iterations.\", ConvergenceWarning)\n"
     ]
    },
    {
     "name": "stdout",
     "output_type": "stream",
     "text": [
      "."
     ]
    },
    {
     "name": "stderr",
     "output_type": "stream",
     "text": [
      "/home/eduardo/.virtualenvs/qa/lib/python3.6/site-packages/sklearn/svm/base.py:931: ConvergenceWarning: Liblinear failed to converge, increase the number of iterations.\n",
      "  \"the number of iterations.\", ConvergenceWarning)\n"
     ]
    },
    {
     "name": "stdout",
     "output_type": "stream",
     "text": [
      "."
     ]
    },
    {
     "name": "stderr",
     "output_type": "stream",
     "text": [
      "/home/eduardo/.virtualenvs/qa/lib/python3.6/site-packages/sklearn/svm/base.py:931: ConvergenceWarning: Liblinear failed to converge, increase the number of iterations.\n",
      "  \"the number of iterations.\", ConvergenceWarning)\n"
     ]
    },
    {
     "name": "stdout",
     "output_type": "stream",
     "text": [
      "."
     ]
    },
    {
     "name": "stderr",
     "output_type": "stream",
     "text": [
      "/home/eduardo/.virtualenvs/qa/lib/python3.6/site-packages/sklearn/svm/base.py:931: ConvergenceWarning: Liblinear failed to converge, increase the number of iterations.\n",
      "  \"the number of iterations.\", ConvergenceWarning)\n"
     ]
    },
    {
     "name": "stdout",
     "output_type": "stream",
     "text": [
      "."
     ]
    },
    {
     "name": "stderr",
     "output_type": "stream",
     "text": [
      "/home/eduardo/.virtualenvs/qa/lib/python3.6/site-packages/sklearn/svm/base.py:931: ConvergenceWarning: Liblinear failed to converge, increase the number of iterations.\n",
      "  \"the number of iterations.\", ConvergenceWarning)\n"
     ]
    },
    {
     "name": "stdout",
     "output_type": "stream",
     "text": [
      "."
     ]
    },
    {
     "name": "stderr",
     "output_type": "stream",
     "text": [
      "/home/eduardo/.virtualenvs/qa/lib/python3.6/site-packages/sklearn/svm/base.py:931: ConvergenceWarning: Liblinear failed to converge, increase the number of iterations.\n",
      "  \"the number of iterations.\", ConvergenceWarning)\n"
     ]
    },
    {
     "name": "stdout",
     "output_type": "stream",
     "text": [
      "\n",
      "Run time benchmark: 163.61614727973938\n",
      "\n",
      "\n",
      "Language:  pt\n",
      "\n",
      "1000|...."
     ]
    },
    {
     "name": "stderr",
     "output_type": "stream",
     "text": [
      "/home/eduardo/.virtualenvs/qa/lib/python3.6/site-packages/sklearn/svm/base.py:931: ConvergenceWarning: Liblinear failed to converge, increase the number of iterations.\n",
      "  \"the number of iterations.\", ConvergenceWarning)\n"
     ]
    },
    {
     "name": "stdout",
     "output_type": "stream",
     "text": [
      ".."
     ]
    },
    {
     "name": "stderr",
     "output_type": "stream",
     "text": [
      "/home/eduardo/.virtualenvs/qa/lib/python3.6/site-packages/sklearn/svm/base.py:931: ConvergenceWarning: Liblinear failed to converge, increase the number of iterations.\n",
      "  \"the number of iterations.\", ConvergenceWarning)\n"
     ]
    },
    {
     "name": "stdout",
     "output_type": "stream",
     "text": [
      "."
     ]
    },
    {
     "name": "stderr",
     "output_type": "stream",
     "text": [
      "/home/eduardo/.virtualenvs/qa/lib/python3.6/site-packages/sklearn/svm/base.py:931: ConvergenceWarning: Liblinear failed to converge, increase the number of iterations.\n",
      "  \"the number of iterations.\", ConvergenceWarning)\n"
     ]
    },
    {
     "name": "stdout",
     "output_type": "stream",
     "text": [
      "...\n",
      "2000|."
     ]
    },
    {
     "name": "stderr",
     "output_type": "stream",
     "text": [
      "/home/eduardo/.virtualenvs/qa/lib/python3.6/site-packages/sklearn/svm/base.py:931: ConvergenceWarning: Liblinear failed to converge, increase the number of iterations.\n",
      "  \"the number of iterations.\", ConvergenceWarning)\n"
     ]
    },
    {
     "name": "stdout",
     "output_type": "stream",
     "text": [
      "."
     ]
    },
    {
     "name": "stderr",
     "output_type": "stream",
     "text": [
      "/home/eduardo/.virtualenvs/qa/lib/python3.6/site-packages/sklearn/svm/base.py:931: ConvergenceWarning: Liblinear failed to converge, increase the number of iterations.\n",
      "  \"the number of iterations.\", ConvergenceWarning)\n"
     ]
    },
    {
     "name": "stdout",
     "output_type": "stream",
     "text": [
      "."
     ]
    },
    {
     "name": "stderr",
     "output_type": "stream",
     "text": [
      "/home/eduardo/.virtualenvs/qa/lib/python3.6/site-packages/sklearn/svm/base.py:931: ConvergenceWarning: Liblinear failed to converge, increase the number of iterations.\n",
      "  \"the number of iterations.\", ConvergenceWarning)\n"
     ]
    },
    {
     "name": "stdout",
     "output_type": "stream",
     "text": [
      "."
     ]
    },
    {
     "name": "stderr",
     "output_type": "stream",
     "text": [
      "/home/eduardo/.virtualenvs/qa/lib/python3.6/site-packages/sklearn/svm/base.py:931: ConvergenceWarning: Liblinear failed to converge, increase the number of iterations.\n",
      "  \"the number of iterations.\", ConvergenceWarning)\n"
     ]
    },
    {
     "name": "stdout",
     "output_type": "stream",
     "text": [
      "."
     ]
    },
    {
     "name": "stderr",
     "output_type": "stream",
     "text": [
      "/home/eduardo/.virtualenvs/qa/lib/python3.6/site-packages/sklearn/svm/base.py:931: ConvergenceWarning: Liblinear failed to converge, increase the number of iterations.\n",
      "  \"the number of iterations.\", ConvergenceWarning)\n"
     ]
    },
    {
     "name": "stdout",
     "output_type": "stream",
     "text": [
      "."
     ]
    },
    {
     "name": "stderr",
     "output_type": "stream",
     "text": [
      "/home/eduardo/.virtualenvs/qa/lib/python3.6/site-packages/sklearn/svm/base.py:931: ConvergenceWarning: Liblinear failed to converge, increase the number of iterations.\n",
      "  \"the number of iterations.\", ConvergenceWarning)\n"
     ]
    },
    {
     "name": "stdout",
     "output_type": "stream",
     "text": [
      "."
     ]
    },
    {
     "name": "stderr",
     "output_type": "stream",
     "text": [
      "/home/eduardo/.virtualenvs/qa/lib/python3.6/site-packages/sklearn/svm/base.py:931: ConvergenceWarning: Liblinear failed to converge, increase the number of iterations.\n",
      "  \"the number of iterations.\", ConvergenceWarning)\n"
     ]
    },
    {
     "name": "stdout",
     "output_type": "stream",
     "text": [
      "."
     ]
    },
    {
     "name": "stderr",
     "output_type": "stream",
     "text": [
      "/home/eduardo/.virtualenvs/qa/lib/python3.6/site-packages/sklearn/svm/base.py:931: ConvergenceWarning: Liblinear failed to converge, increase the number of iterations.\n",
      "  \"the number of iterations.\", ConvergenceWarning)\n"
     ]
    },
    {
     "name": "stdout",
     "output_type": "stream",
     "text": [
      "."
     ]
    },
    {
     "name": "stderr",
     "output_type": "stream",
     "text": [
      "/home/eduardo/.virtualenvs/qa/lib/python3.6/site-packages/sklearn/svm/base.py:931: ConvergenceWarning: Liblinear failed to converge, increase the number of iterations.\n",
      "  \"the number of iterations.\", ConvergenceWarning)\n"
     ]
    },
    {
     "name": "stdout",
     "output_type": "stream",
     "text": [
      "."
     ]
    },
    {
     "name": "stderr",
     "output_type": "stream",
     "text": [
      "/home/eduardo/.virtualenvs/qa/lib/python3.6/site-packages/sklearn/svm/base.py:931: ConvergenceWarning: Liblinear failed to converge, increase the number of iterations.\n",
      "  \"the number of iterations.\", ConvergenceWarning)\n"
     ]
    },
    {
     "name": "stdout",
     "output_type": "stream",
     "text": [
      "\n",
      "3000|."
     ]
    },
    {
     "name": "stderr",
     "output_type": "stream",
     "text": [
      "/home/eduardo/.virtualenvs/qa/lib/python3.6/site-packages/sklearn/svm/base.py:931: ConvergenceWarning: Liblinear failed to converge, increase the number of iterations.\n",
      "  \"the number of iterations.\", ConvergenceWarning)\n"
     ]
    },
    {
     "name": "stdout",
     "output_type": "stream",
     "text": [
      "."
     ]
    },
    {
     "name": "stderr",
     "output_type": "stream",
     "text": [
      "/home/eduardo/.virtualenvs/qa/lib/python3.6/site-packages/sklearn/svm/base.py:931: ConvergenceWarning: Liblinear failed to converge, increase the number of iterations.\n",
      "  \"the number of iterations.\", ConvergenceWarning)\n"
     ]
    },
    {
     "name": "stdout",
     "output_type": "stream",
     "text": [
      "."
     ]
    },
    {
     "name": "stderr",
     "output_type": "stream",
     "text": [
      "/home/eduardo/.virtualenvs/qa/lib/python3.6/site-packages/sklearn/svm/base.py:931: ConvergenceWarning: Liblinear failed to converge, increase the number of iterations.\n",
      "  \"the number of iterations.\", ConvergenceWarning)\n"
     ]
    },
    {
     "name": "stdout",
     "output_type": "stream",
     "text": [
      "."
     ]
    },
    {
     "name": "stderr",
     "output_type": "stream",
     "text": [
      "/home/eduardo/.virtualenvs/qa/lib/python3.6/site-packages/sklearn/svm/base.py:931: ConvergenceWarning: Liblinear failed to converge, increase the number of iterations.\n",
      "  \"the number of iterations.\", ConvergenceWarning)\n"
     ]
    },
    {
     "name": "stdout",
     "output_type": "stream",
     "text": [
      "."
     ]
    },
    {
     "name": "stderr",
     "output_type": "stream",
     "text": [
      "/home/eduardo/.virtualenvs/qa/lib/python3.6/site-packages/sklearn/svm/base.py:931: ConvergenceWarning: Liblinear failed to converge, increase the number of iterations.\n",
      "  \"the number of iterations.\", ConvergenceWarning)\n"
     ]
    },
    {
     "name": "stdout",
     "output_type": "stream",
     "text": [
      "."
     ]
    },
    {
     "name": "stderr",
     "output_type": "stream",
     "text": [
      "/home/eduardo/.virtualenvs/qa/lib/python3.6/site-packages/sklearn/svm/base.py:931: ConvergenceWarning: Liblinear failed to converge, increase the number of iterations.\n",
      "  \"the number of iterations.\", ConvergenceWarning)\n"
     ]
    },
    {
     "name": "stdout",
     "output_type": "stream",
     "text": [
      "."
     ]
    },
    {
     "name": "stderr",
     "output_type": "stream",
     "text": [
      "/home/eduardo/.virtualenvs/qa/lib/python3.6/site-packages/sklearn/svm/base.py:931: ConvergenceWarning: Liblinear failed to converge, increase the number of iterations.\n",
      "  \"the number of iterations.\", ConvergenceWarning)\n"
     ]
    },
    {
     "name": "stdout",
     "output_type": "stream",
     "text": [
      "."
     ]
    },
    {
     "name": "stderr",
     "output_type": "stream",
     "text": [
      "/home/eduardo/.virtualenvs/qa/lib/python3.6/site-packages/sklearn/svm/base.py:931: ConvergenceWarning: Liblinear failed to converge, increase the number of iterations.\n",
      "  \"the number of iterations.\", ConvergenceWarning)\n"
     ]
    },
    {
     "name": "stdout",
     "output_type": "stream",
     "text": [
      "."
     ]
    },
    {
     "name": "stderr",
     "output_type": "stream",
     "text": [
      "/home/eduardo/.virtualenvs/qa/lib/python3.6/site-packages/sklearn/svm/base.py:931: ConvergenceWarning: Liblinear failed to converge, increase the number of iterations.\n",
      "  \"the number of iterations.\", ConvergenceWarning)\n"
     ]
    },
    {
     "name": "stdout",
     "output_type": "stream",
     "text": [
      "."
     ]
    },
    {
     "name": "stderr",
     "output_type": "stream",
     "text": [
      "/home/eduardo/.virtualenvs/qa/lib/python3.6/site-packages/sklearn/svm/base.py:931: ConvergenceWarning: Liblinear failed to converge, increase the number of iterations.\n",
      "  \"the number of iterations.\", ConvergenceWarning)\n"
     ]
    },
    {
     "name": "stdout",
     "output_type": "stream",
     "text": [
      "\n",
      "4000|."
     ]
    },
    {
     "name": "stderr",
     "output_type": "stream",
     "text": [
      "/home/eduardo/.virtualenvs/qa/lib/python3.6/site-packages/sklearn/svm/base.py:931: ConvergenceWarning: Liblinear failed to converge, increase the number of iterations.\n",
      "  \"the number of iterations.\", ConvergenceWarning)\n"
     ]
    },
    {
     "name": "stdout",
     "output_type": "stream",
     "text": [
      "."
     ]
    },
    {
     "name": "stderr",
     "output_type": "stream",
     "text": [
      "/home/eduardo/.virtualenvs/qa/lib/python3.6/site-packages/sklearn/svm/base.py:931: ConvergenceWarning: Liblinear failed to converge, increase the number of iterations.\n",
      "  \"the number of iterations.\", ConvergenceWarning)\n"
     ]
    },
    {
     "name": "stdout",
     "output_type": "stream",
     "text": [
      "."
     ]
    },
    {
     "name": "stderr",
     "output_type": "stream",
     "text": [
      "/home/eduardo/.virtualenvs/qa/lib/python3.6/site-packages/sklearn/svm/base.py:931: ConvergenceWarning: Liblinear failed to converge, increase the number of iterations.\n",
      "  \"the number of iterations.\", ConvergenceWarning)\n"
     ]
    },
    {
     "name": "stdout",
     "output_type": "stream",
     "text": [
      "."
     ]
    },
    {
     "name": "stderr",
     "output_type": "stream",
     "text": [
      "/home/eduardo/.virtualenvs/qa/lib/python3.6/site-packages/sklearn/svm/base.py:931: ConvergenceWarning: Liblinear failed to converge, increase the number of iterations.\n",
      "  \"the number of iterations.\", ConvergenceWarning)\n"
     ]
    },
    {
     "name": "stdout",
     "output_type": "stream",
     "text": [
      "."
     ]
    },
    {
     "name": "stderr",
     "output_type": "stream",
     "text": [
      "/home/eduardo/.virtualenvs/qa/lib/python3.6/site-packages/sklearn/svm/base.py:931: ConvergenceWarning: Liblinear failed to converge, increase the number of iterations.\n",
      "  \"the number of iterations.\", ConvergenceWarning)\n"
     ]
    },
    {
     "name": "stdout",
     "output_type": "stream",
     "text": [
      "."
     ]
    },
    {
     "name": "stderr",
     "output_type": "stream",
     "text": [
      "/home/eduardo/.virtualenvs/qa/lib/python3.6/site-packages/sklearn/svm/base.py:931: ConvergenceWarning: Liblinear failed to converge, increase the number of iterations.\n",
      "  \"the number of iterations.\", ConvergenceWarning)\n"
     ]
    },
    {
     "name": "stdout",
     "output_type": "stream",
     "text": [
      "."
     ]
    },
    {
     "name": "stderr",
     "output_type": "stream",
     "text": [
      "/home/eduardo/.virtualenvs/qa/lib/python3.6/site-packages/sklearn/svm/base.py:931: ConvergenceWarning: Liblinear failed to converge, increase the number of iterations.\n",
      "  \"the number of iterations.\", ConvergenceWarning)\n"
     ]
    },
    {
     "name": "stdout",
     "output_type": "stream",
     "text": [
      "."
     ]
    },
    {
     "name": "stderr",
     "output_type": "stream",
     "text": [
      "/home/eduardo/.virtualenvs/qa/lib/python3.6/site-packages/sklearn/svm/base.py:931: ConvergenceWarning: Liblinear failed to converge, increase the number of iterations.\n",
      "  \"the number of iterations.\", ConvergenceWarning)\n"
     ]
    },
    {
     "name": "stdout",
     "output_type": "stream",
     "text": [
      "."
     ]
    },
    {
     "name": "stderr",
     "output_type": "stream",
     "text": [
      "/home/eduardo/.virtualenvs/qa/lib/python3.6/site-packages/sklearn/svm/base.py:931: ConvergenceWarning: Liblinear failed to converge, increase the number of iterations.\n",
      "  \"the number of iterations.\", ConvergenceWarning)\n"
     ]
    },
    {
     "name": "stdout",
     "output_type": "stream",
     "text": [
      "."
     ]
    },
    {
     "name": "stderr",
     "output_type": "stream",
     "text": [
      "/home/eduardo/.virtualenvs/qa/lib/python3.6/site-packages/sklearn/svm/base.py:931: ConvergenceWarning: Liblinear failed to converge, increase the number of iterations.\n",
      "  \"the number of iterations.\", ConvergenceWarning)\n"
     ]
    },
    {
     "name": "stdout",
     "output_type": "stream",
     "text": [
      "\n",
      "5500|."
     ]
    },
    {
     "name": "stderr",
     "output_type": "stream",
     "text": [
      "/home/eduardo/.virtualenvs/qa/lib/python3.6/site-packages/sklearn/svm/base.py:931: ConvergenceWarning: Liblinear failed to converge, increase the number of iterations.\n",
      "  \"the number of iterations.\", ConvergenceWarning)\n"
     ]
    },
    {
     "name": "stdout",
     "output_type": "stream",
     "text": [
      "."
     ]
    },
    {
     "name": "stderr",
     "output_type": "stream",
     "text": [
      "/home/eduardo/.virtualenvs/qa/lib/python3.6/site-packages/sklearn/svm/base.py:931: ConvergenceWarning: Liblinear failed to converge, increase the number of iterations.\n",
      "  \"the number of iterations.\", ConvergenceWarning)\n"
     ]
    },
    {
     "name": "stdout",
     "output_type": "stream",
     "text": [
      "."
     ]
    },
    {
     "name": "stderr",
     "output_type": "stream",
     "text": [
      "/home/eduardo/.virtualenvs/qa/lib/python3.6/site-packages/sklearn/svm/base.py:931: ConvergenceWarning: Liblinear failed to converge, increase the number of iterations.\n",
      "  \"the number of iterations.\", ConvergenceWarning)\n"
     ]
    },
    {
     "name": "stdout",
     "output_type": "stream",
     "text": [
      "."
     ]
    },
    {
     "name": "stderr",
     "output_type": "stream",
     "text": [
      "/home/eduardo/.virtualenvs/qa/lib/python3.6/site-packages/sklearn/svm/base.py:931: ConvergenceWarning: Liblinear failed to converge, increase the number of iterations.\n",
      "  \"the number of iterations.\", ConvergenceWarning)\n"
     ]
    },
    {
     "name": "stdout",
     "output_type": "stream",
     "text": [
      "."
     ]
    },
    {
     "name": "stderr",
     "output_type": "stream",
     "text": [
      "/home/eduardo/.virtualenvs/qa/lib/python3.6/site-packages/sklearn/svm/base.py:931: ConvergenceWarning: Liblinear failed to converge, increase the number of iterations.\n",
      "  \"the number of iterations.\", ConvergenceWarning)\n"
     ]
    },
    {
     "name": "stdout",
     "output_type": "stream",
     "text": [
      "."
     ]
    },
    {
     "name": "stderr",
     "output_type": "stream",
     "text": [
      "/home/eduardo/.virtualenvs/qa/lib/python3.6/site-packages/sklearn/svm/base.py:931: ConvergenceWarning: Liblinear failed to converge, increase the number of iterations.\n",
      "  \"the number of iterations.\", ConvergenceWarning)\n"
     ]
    },
    {
     "name": "stdout",
     "output_type": "stream",
     "text": [
      "."
     ]
    },
    {
     "name": "stderr",
     "output_type": "stream",
     "text": [
      "/home/eduardo/.virtualenvs/qa/lib/python3.6/site-packages/sklearn/svm/base.py:931: ConvergenceWarning: Liblinear failed to converge, increase the number of iterations.\n",
      "  \"the number of iterations.\", ConvergenceWarning)\n"
     ]
    },
    {
     "name": "stdout",
     "output_type": "stream",
     "text": [
      "."
     ]
    },
    {
     "name": "stderr",
     "output_type": "stream",
     "text": [
      "/home/eduardo/.virtualenvs/qa/lib/python3.6/site-packages/sklearn/svm/base.py:931: ConvergenceWarning: Liblinear failed to converge, increase the number of iterations.\n",
      "  \"the number of iterations.\", ConvergenceWarning)\n"
     ]
    },
    {
     "name": "stdout",
     "output_type": "stream",
     "text": [
      "."
     ]
    },
    {
     "name": "stderr",
     "output_type": "stream",
     "text": [
      "/home/eduardo/.virtualenvs/qa/lib/python3.6/site-packages/sklearn/svm/base.py:931: ConvergenceWarning: Liblinear failed to converge, increase the number of iterations.\n",
      "  \"the number of iterations.\", ConvergenceWarning)\n"
     ]
    },
    {
     "name": "stdout",
     "output_type": "stream",
     "text": [
      ".\n",
      "Run time benchmark: 144.99252271652222\n"
     ]
    },
    {
     "name": "stderr",
     "output_type": "stream",
     "text": [
      "/home/eduardo/.virtualenvs/qa/lib/python3.6/site-packages/sklearn/svm/base.py:931: ConvergenceWarning: Liblinear failed to converge, increase the number of iterations.\n",
      "  \"the number of iterations.\", ConvergenceWarning)\n"
     ]
    }
   ],
   "source": [
    "for language in ['en', 'es', 'pt']:\n",
    "    print('\\n\\nLanguage: ', language)\n",
    "    embedding = load_embedding(path_wordembedding + 'wiki.multi.' + language + '.vec')\n",
    "    dataset_train, dataset_test = load_uiuc(language)\n",
    "    dataset = pd.concat([dataset_train, dataset_test])\n",
    "    create_feature('tfidf', dataset, dataset, max_features=2000)\n",
    "    create_feature('embedding_sum', dataset, dataset, embedding)\n",
    "    create_feature('pos_hotencode', dataset, dataset)\n",
    "    create_feature('ner_hotencode', dataset, dataset)\n",
    "    model = {'name': 'svm', 'model': svm_linear}\n",
    "    \n",
    "    tfidf = np.array([list(r) for r in dataset['tfidf'].values])\n",
    "    tfidf = normalize(tfidf, norm='max')\n",
    "    \n",
    "    embedding = np.array([list(r) for r in dataset['embedding_sum'].values])\n",
    "    embedding = normalize(embedding, norm='max')\n",
    "    \n",
    "    pos = np.array([list(r) for r in dataset['pos_hotencode'].values])\n",
    "    \n",
    "    ner = np.array([list(r) for r in dataset['ner_hotencode'].values])\n",
    "    \n",
    "    X = np.array([list(x) + list(xx) + list(xxx) + list(xxxx) for x, xx, xxx, xxxx in zip(tfidf, embedding, pos, ner)])\n",
    "    \n",
    "    y = dataset['class'].values\n",
    "    \n",
    "    # run_benchmark_cv(model, X, y, [50, 100] + list(range(500, 5501, 500)),\n",
    "    run_benchmark_cv(model, X, y, [1000, 2000, 3000, 4000, 5500],\n",
    "                     save='results/UIUC_cv_svm_high_' + language + '.csv')"
   ]
  },
  {
   "cell_type": "markdown",
   "metadata": {},
   "source": [
    "## Run DISEQuA Benchmark - Cross-validation"
   ]
  },
  {
   "cell_type": "markdown",
   "metadata": {},
   "source": [
    "Different classifier models are tested with different dependency levels of external linguistic resources (Low, Medium and High)"
   ]
  },
  {
   "cell_type": "markdown",
   "metadata": {},
   "source": [
    "#### SVM + <font color=#007700>TF-IDF</font>"
   ]
  },
  {
   "cell_type": "code",
   "execution_count": 152,
   "metadata": {
    "scrolled": false
   },
   "outputs": [
    {
     "name": "stdout",
     "output_type": "stream",
     "text": [
      "\n",
      "\n",
      "Language:  en\n",
      "\n",
      "100|..........\n",
      "200|..........\n",
      "300|..........\n",
      "400|..........\n",
      "Run time benchmark: 1.027012586593628\n",
      "\n",
      "\n",
      "Language:  es\n",
      "\n",
      "100|..........\n",
      "200|..........\n",
      "300|..........\n",
      "400|..........\n",
      "Run time benchmark: 1.0114972591400146\n",
      "\n",
      "\n",
      "Language:  it\n",
      "\n",
      "100|..........\n",
      "200|..........\n",
      "300|..........\n",
      "400|..........\n",
      "Run time benchmark: 1.1434721946716309\n",
      "\n",
      "\n",
      "Language:  nl\n",
      "\n",
      "100|..........\n",
      "200|..........\n",
      "300|..........\n",
      "400|..........\n",
      "Run time benchmark: 1.1250619888305664\n"
     ]
    }
   ],
   "source": [
    "for language in ['en', 'es', 'it', 'nl']:\n",
    "    print('\\n\\nLanguage: ', language)\n",
    "    dataset = load_disequa(language)\n",
    "    create_feature('tfidf', dataset, dataset, max_features=2000)\n",
    "    \n",
    "    model = {'name': 'svm', 'model': svm_linear}\n",
    "    \n",
    "    tfidf = np.array([list(r) for r in dataset['tfidf'].values])\n",
    "    tfidf = normalize(tfidf, norm='max')\n",
    "    \n",
    "    X = np.array([list(x) for x in dataset['tfidf'].values])\n",
    "    y = dataset['class'].values\n",
    "    \n",
    "    run_benchmark_cv(model, X, y, sizes_train=[100,200,300,400],\n",
    "                     save='results/DISEQuA_svm_tfidf_' + language + '.csv')"
   ]
  },
  {
   "cell_type": "markdown",
   "metadata": {},
   "source": [
    "#### SVM + <font color=#007700>TF-IDF</font> + <font color=#0055CC>WB</font>"
   ]
  },
  {
   "cell_type": "code",
   "execution_count": 163,
   "metadata": {
    "scrolled": false
   },
   "outputs": [
    {
     "name": "stdout",
     "output_type": "stream",
     "text": [
      "\n",
      "\n",
      "Language:  en\n",
      "\n",
      "100|..........\n",
      "200|..........\n",
      "300|..........\n",
      "400|..........\n",
      "Run time benchmark: 6.358882427215576\n",
      "\n",
      "\n",
      "Language:  es\n",
      "\n",
      "100|..........\n",
      "200|..........\n",
      "300|..........\n",
      "400|..........\n",
      "Run time benchmark: 7.197380065917969\n",
      "\n",
      "\n",
      "Language:  it\n",
      "\n",
      "100|..........\n",
      "200|..........\n",
      "300|..........\n",
      "400|..........\n",
      "Run time benchmark: 5.5334153175354\n",
      "\n",
      "\n",
      "Language:  nl\n",
      "\n",
      "100|..........\n",
      "200|..........\n",
      "300|..........\n",
      "400|..........\n",
      "Run time benchmark: 6.624628782272339\n"
     ]
    }
   ],
   "source": [
    "for language in ['en', 'es', 'it', 'nl']:\n",
    "    print('\\n\\nLanguage: ', language)\n",
    "    embedding = load_embedding(path_wordembedding + 'wiki.multi.' + language + '.vec')\n",
    "    dataset = load_disequa(language)\n",
    "    create_feature('tfidf', dataset, dataset, max_features=2000)\n",
    "    create_feature('embedding_sum', None, dataset, embedding)\n",
    "    \n",
    "    model = {'name': 'svm', 'model': svm_linear}\n",
    "    \n",
    "    tfidf = np.array([list(r) for r in dataset['tfidf'].values])\n",
    "    tfidf = normalize(tfidf, norm='max')\n",
    "    \n",
    "    embedding = np.array([list(r) for r in dataset['embedding_sum'].values])\n",
    "    embedding = normalize(embedding, norm='max')\n",
    "    \n",
    "    X = np.array([list(x) + list(xx) for x, xx in zip(tfidf, embedding)])\n",
    "    y = dataset['class'].values\n",
    "    \n",
    "    run_benchmark_cv(model, X, y, sizes_train=[100,200,300,400],\n",
    "                     save='results/DISEQuA_svm_cortes_' + language + '.csv')"
   ]
  },
  {
   "cell_type": "markdown",
   "metadata": {},
   "source": [
    "#### SVM + <font color=#007700>TF-IDF</font> + <font color=#0055CC>WB</font> + <font color=#CC6600>POS</font> + <font color=#CC6600>NER</font>"
   ]
  },
  {
   "cell_type": "code",
   "execution_count": 164,
   "metadata": {
    "scrolled": false
   },
   "outputs": [
    {
     "name": "stdout",
     "output_type": "stream",
     "text": [
      "\n",
      "\n",
      "Language:  en\n",
      "\n",
      "100|..........\n",
      "200|..........\n",
      "300|..........\n",
      "400|..........\n",
      "Run time benchmark: 6.811999559402466\n",
      "\n",
      "\n",
      "Language:  es\n",
      "\n",
      "100|..........\n",
      "200|..........\n",
      "300|..........\n",
      "400|..........\n",
      "Run time benchmark: 8.384974479675293\n",
      "\n",
      "\n",
      "Language:  it\n",
      "\n",
      "100|..........\n",
      "200|..........\n",
      "300|..........\n",
      "400|..........\n",
      "Run time benchmark: 6.426969528198242\n",
      "\n",
      "\n",
      "Language:  nl\n",
      "\n",
      "100|..........\n",
      "200|..........\n",
      "300|..........\n",
      "400|..........\n",
      "Run time benchmark: 6.852076053619385\n"
     ]
    }
   ],
   "source": [
    "\n",
    "\n",
    "for language in ['en', 'es', 'it', 'nl']:\n",
    "    print('\\n\\nLanguage: ', language)\n",
    "    embedding = load_embedding(path_wordembedding + 'wiki.multi.' + language + '.vec')\n",
    "    dataset = load_disequa(language)\n",
    "    create_feature('tfidf', dataset, dataset, max_features=2000)\n",
    "    create_feature('embedding_sum', dataset, dataset, embedding)\n",
    "    create_feature('pos_hotencode', dataset, dataset)\n",
    "    create_feature('ner_hotencode', dataset, dataset)\n",
    "    model = {'name': 'svm', 'model': svm_linear}\n",
    "    \n",
    "    tfidf = np.array([list(r) for r in dataset['tfidf'].values])\n",
    "    tfidf = normalize(tfidf, norm='max')\n",
    "    \n",
    "    embedding = np.array([list(r) for r in dataset['embedding_sum'].values])\n",
    "    embedding = normalize(embedding, norm='max')\n",
    "    \n",
    "    pos = np.array([list(r) for r in dataset['pos_hotencode'].values])\n",
    "    \n",
    "    ner = np.array([list(r) for r in dataset['ner_hotencode'].values])\n",
    "    \n",
    "    X = np.array([list(x) + list(xx) + list(xxx) + list(xxxx) for x, xx, xxx, xxxx in zip(tfidf, embedding, pos, ner)])\n",
    "    \n",
    "    y = dataset['class'].values\n",
    "    \n",
    "    run_benchmark_cv(model, X, y, sizes_train=[100,200,300,400],\n",
    "                     save='results/DISEQuA_svm_high_' + language + '.csv')"
   ]
  },
  {
   "cell_type": "markdown",
   "metadata": {},
   "source": [
    "## Old stuffs bellow"
   ]
  },
  {
   "cell_type": "markdown",
   "metadata": {},
   "source": [
    "#### CNN"
   ]
  },
  {
   "cell_type": "code",
   "execution_count": null,
   "metadata": {
    "scrolled": true
   },
   "outputs": [],
   "source": [
    "# 'en', 'es'\n",
    "for language in ['es']:\n",
    "    print('\\n\\nLanguage: ', language)\n",
    "    #embedding = load_embedding(path_wordembedding + 'wiki.multi.' + language + '.vec')\n",
    "    dataset_train, dataset_test = load_uiuc(language)\n",
    "    text_representation = 'vocab_index'\n",
    "    vocabulary_inv = create_feature(text_representation, dataset_train, dataset_train)\n",
    "    create_feature(text_representation, dataset_train, dataset_test)\n",
    "    model = {'name': 'cnn', 'model': cnn}\n",
    "    X_train = np.array([list(x) for x in dataset_train[text_representation].values])\n",
    "    X_test = np.array([list(x) for x in dataset_test[text_representation].values])\n",
    "    #X_train = pad_sequences(X_train, maxlen=12, dtype='float', padding='post', truncating='post', value=0.0)\n",
    "    #X_test = pad_sequences(X_test, maxlen=12, dtype='float', padding='post', truncating='post', value=0.0)\n",
    "    y_train = dataset_train['class'].values\n",
    "    y_test = dataset_test['class'].values\n",
    "    ohe = OneHotEncoder()\n",
    "    y_train = ohe.fit_transform([[y_] for y_ in y_train]).toarray()\n",
    "    y_test = ohe.transform([[y_] for y_ in y_test]).toarray()\n",
    "    # , \n",
    "    run_benchmark(model, X_train, y_train, X_test, y_test, sizes_train=[1000, 2000, 3000, 4000, 5500],\n",
    "                  runs=30, save='results/UIUC_cnn_' + language + '.csv', epochs=100, onehot=ohe,\n",
    "                  vocabulary_size=len(vocabulary_inv))"
   ]
  },
  {
   "cell_type": "markdown",
   "metadata": {},
   "source": [
    "#### LSTM + WordEmbedding"
   ]
  },
  {
   "cell_type": "code",
   "execution_count": 73,
   "metadata": {
    "scrolled": false
   },
   "outputs": [
    {
     "name": "stdout",
     "output_type": "stream",
     "text": [
      "\n",
      "\n",
      "Language:  es\n",
      "(100,)\n",
      "object\n",
      "(1349,)\n",
      "\n",
      "1000|...\n",
      "2000|...\n",
      "3000|...\n",
      "4000|...\n",
      "5500|...\n",
      "Run time benchmark: 228.79835891723633\n"
     ]
    }
   ],
   "source": [
    "for language in ['es']:\n",
    "    print('\\n\\nLanguage: ', language)\n",
    "    embedding = load_embedding(path_wordembedding + 'wiki.multi.' + language + '.vec')\n",
    "    dataset_train, dataset_test = load_uiuc(language)\n",
    "    dataset_train = dataset_train[:100]\n",
    "    #dataset_test = dataset_test[:10]\n",
    "    create_feature('embedding', dataset_train, dataset_train, embedding)\n",
    "    create_feature('embedding', dataset_train, dataset_test, embedding)\n",
    "    model = {'name': 'lstm', 'model': lstm_default}\n",
    "    #print(dataset_train['embedding'].values.shape)\n",
    "    #print(dataset_train['embedding'].values.dtype)\n",
    "    #print(dataset_test['embedding'].values.shape)\n",
    "    X_train = np.array([list(x) for x in dataset_train['embedding'].values])\n",
    "    X_test = np.array([list(x) for x in dataset_test['embedding'].values])\n",
    "    X_train = pad_sequences(X_train, maxlen=12, dtype='float', padding='post', truncating='post', value=0.0)\n",
    "    X_test = pad_sequences(X_test, maxlen=12, dtype='float', padding='post', truncating='post', value=0.0)\n",
    "    y_train = dataset_train['class'].values\n",
    "    y_test = dataset_test['class'].values\n",
    "#     y_train_sub = dataset_train['sub_class'].values\n",
    "#     sub_classes = set()\n",
    "#     for sc in y_train_sub:\n",
    "#         sub_classes.add(sc)\n",
    "#     y_test_sub = dataset_test['sub_class'].values\n",
    "#     X_test_sub_ = []\n",
    "#     y_test_sub_ = []\n",
    "#     for i in range(len(X_test)):\n",
    "#         if y_train_sub[i] in sub_classes:\n",
    "#             X_test_sub_.append(X_test[i])\n",
    "#             y_test_sub_.append(y_train_sub[i])\n",
    "#     X_test_sub_ = np.array(X_test_sub_)\n",
    "#     y_test_sub_ = np.array(y_test_sub_)\n",
    "    ohe = OneHotEncoder()\n",
    "    y_train = ohe.fit_transform([[y_] for y_ in y_train]).toarray()\n",
    "    y_test = ohe.transform([[y_] for y_ in y_test]).toarray() \n",
    "    run_benchmark(model, X_train, y_train, X_test, y_test, sizes_train=[1000, 2000, 3000, 4000, 5500],\n",
    "                  runs=30, save='results/UIUC_lstm_embedding_' + language + '_2.csv', epochs=100, onehot=ohe)\n",
    "    #run_benchmark(model, X_train, y_train_sub, X_test_sub_, y_test_sub_, sizes_train=[1000, 2000, 3000, 4000, 5500],\n",
    "    #              save='results/UIUCsub_svm_tfidf_' + language + '.csv')"
   ]
  },
  {
   "cell_type": "markdown",
   "metadata": {},
   "source": [
    "#### LSTM + BERT"
   ]
  },
  {
   "cell_type": "code",
   "execution_count": null,
   "metadata": {},
   "outputs": [],
   "source": [
    "for language in ['en']:\n",
    "    print('\\n\\nLanguage: ', language)\n",
    "    #embedding = load_embedding(path_wordembedding + 'wiki.multi.' + language + '.vec')\n",
    "    dataset_train, dataset_test = load_uiuc(language)\n",
    "    # debug\n",
    "    print('WARNING: use subset (first 1000 entries) of training data')\n",
    "    #dataset_train = dataset_train[:5500].copy()\n",
    "    \n",
    "    create_feature('bert', dataset_train, dataset_train)\n",
    "    create_feature('bert', dataset_train, dataset_test)\n",
    "    model = {'name': 'lstm', 'model': lstm_default}\n",
    "    X_train = dataset_train['bert'].values\n",
    "    X_test = dataset_test['bert'].values\n",
    "    \n",
    "    X_train = np.array([x for x in X_train])\n",
    "    X_test = np.array([x for x in X_test])\n",
    "    \n",
    "    #X_train = pad_sequences(X_train, maxlen=12, dtype='float', padding='post', truncating='post', value=0.0)\n",
    "    #X_test = pad_sequences(X_test, maxlen=12, dtype='float', padding='post', truncating='post', value=0.0)\n",
    "    y_train = dataset_train['class'].values\n",
    "    y_test = dataset_test['class'].values\n",
    "    ohe = OneHotEncoder()\n",
    "    y_train = ohe.fit_transform([[y_] for y_ in y_train]).toarray()\n",
    "    y_test = ohe.transform([[y_] for y_ in y_test]).toarray() \n",
    "    run_benchmark(model, X_train, y_train, X_test, y_test, sizes_train=[5500], # 1000, 2000, 3000, 4000, 5500\n",
    "                  runs=1, save='results/UIUC_lstm_bert_' + language + '.csv', \n",
    "                  epochs=100, onehot=ohe, in_dim=768)\n",
    "    #run_benchmark(model, X_train, y_train_sub, X_test_sub_, y_test_sub_, sizes_train=[1000, 2000, 3000, 4000, 5500],\n",
    "    #              save='results/UIUCsub_svm_tfidf_' + language + '.csv')"
   ]
  },
  {
   "cell_type": "markdown",
   "metadata": {},
   "source": [
    "## DISEQuA Benchmark"
   ]
  },
  {
   "cell_type": "markdown",
   "metadata": {},
   "source": [
    "### RUN DISEQuA Benchmark"
   ]
  },
  {
   "cell_type": "markdown",
   "metadata": {},
   "source": [
    "##### SVM + TFIDF"
   ]
  },
  {
   "cell_type": "code",
   "execution_count": null,
   "metadata": {},
   "outputs": [],
   "source": [
    "for language in ['DUT', 'ENG', 'ITA', 'SPA']:\n",
    "    print('\\n\\nLanguage: ', language)\n",
    "    dataset = load_disequa(language)\n",
    "    create_feature('tfidf', dataset, dataset, embedding)\n",
    "    model = {'name': 'svm', 'model': svm_linear}\n",
    "    X = np.array([list(x) for x in dataset['tfidf'].values])\n",
    "    y = dataset['class'].values\n",
    "    run_benchmark(model, X, y, sizes_train=[100,200,300,400,405],\n",
    "                  save='results/DISEQuA_svm_tfidf_' + language + '.csv')"
   ]
  },
  {
   "cell_type": "markdown",
   "metadata": {},
   "source": [
    "##### RFC + TFIDF"
   ]
  },
  {
   "cell_type": "code",
   "execution_count": null,
   "metadata": {},
   "outputs": [],
   "source": [
    "for language in ['DUT', 'ENG', 'ITA', 'SPA']:\n",
    "    print('\\n\\nLanguage: ', language)\n",
    "    dataset = load_disequa(language)\n",
    "    create_feature('tfidf', dataset, dataset, embedding)\n",
    "    model = {'name': 'rfc', 'model': random_forest}\n",
    "    X = np.array([list(x) for x in dataset['tfidf'].values])\n",
    "    y = dataset['class'].values\n",
    "    run_benchmark(model, X, y, sizes_train=[100,200,300,400],\n",
    "                  save='results/DISEQuA_rfc_tfidf_' + language + '.csv')"
   ]
  },
  {
   "cell_type": "markdown",
   "metadata": {},
   "source": [
    "##### SVM + TFIDF_3gram + SKB"
   ]
  },
  {
   "cell_type": "code",
   "execution_count": null,
   "metadata": {},
   "outputs": [],
   "source": [
    "for language in ['DUT', 'ENG', 'ITA', 'SPA']:\n",
    "    print('\\n\\nLanguage: ', language)\n",
    "    dataset = load_disequa(language)\n",
    "    create_feature('tfidf_3gram', dataset, dataset)\n",
    "    model = {'name': 'svm', 'model': svm_linear}\n",
    "    X = np.array([list(x) for x in dataset['tfidf'].values])\n",
    "    y = dataset['class'].values\n",
    "    skb = SelectKBest(chi2, k=2000).fit(X, y)\n",
    "    X = skb.transform(X)\n",
    "    run_benchmark(model, X, y, sizes_train=[100,200,300,400],\n",
    "                  save='results/DISEQuA_svm_tfidf_3gram_' + language + '.csv')"
   ]
  },
  {
   "cell_type": "markdown",
   "metadata": {},
   "source": [
    "##### LSTM + Embedding"
   ]
  },
  {
   "cell_type": "code",
   "execution_count": null,
   "metadata": {},
   "outputs": [],
   "source": [
    "for language, embd_l in zip(['SPA'], ['es']):\n",
    "    print('\\n\\nLanguage: ', language)\n",
    "    embedding = load_embedding(path_wordembedding + 'wiki.multi.' + embd_l + '.vec')\n",
    "    dataset = load_disequa(language)\n",
    "    create_feature('embedding', dataset, dataset, embedding)\n",
    "    model = {'name': 'lstm', 'model': lstm_default}\n",
    "    X = np.array([list(x) for x in dataset['embedding'].values])\n",
    "    y = dataset['class'].values\n",
    "    X = pad_sequences(X, maxlen=12, dtype='float', padding='post', truncating='post', value=0.0)\n",
    "    ohe = OneHotEncoder()\n",
    "    y = ohe.fit_transform([[y_] for y_ in y]).toarray()\n",
    "    run_benchmark(model, X, y, sizes_train=[100,200,300,400,405], onehot=ohe,\n",
    "                  save='results/DISEQuA_lstm_embedding_' + language + '.csv')"
   ]
  },
  {
   "cell_type": "markdown",
   "metadata": {},
   "source": [
    "##### CNN"
   ]
  },
  {
   "cell_type": "code",
   "execution_count": null,
   "metadata": {},
   "outputs": [],
   "source": [
    "for language, embd_l in zip(['DUT', 'ENG', 'ITA', 'SPA'], ['nl', 'eng', 'it', 'es']):\n",
    "    print('\\n\\nLanguage: ', language)\n",
    "    #embedding = load_embedding(path_wordembedding + 'wiki.multi.' + embd_l + '.vec')\n",
    "    dataset = load_disequa(language)\n",
    "    text_representation = 'vocab_index'\n",
    "    vocabulary_inv = create_feature(text_representation, dataset, dataset)\n",
    "    model = {'name': 'cnn', 'model': cnn}\n",
    "    X = np.array([list(x) for x in dataset[text_representation].values])\n",
    "    y = dataset['class'].values\n",
    "    #X = pad_sequences(X, maxlen=12, dtype='float', padding='post', truncating='post', value=0.0)\n",
    "    ohe = OneHotEncoder()\n",
    "    y = ohe.fit_transform([[y_] for y_ in y]).toarray()\n",
    "    run_benchmark(model, X, y, sizes_train=[100,200,300,400], onehot=ohe, vocabulary_size=len(vocabulary_inv),\n",
    "                  save='results/DISEQuA_cnn_' + language + '.csv', epochs=100)"
   ]
  },
  {
   "cell_type": "code",
   "execution_count": null,
   "metadata": {},
   "outputs": [],
   "source": []
  }
 ],
 "metadata": {
  "kernelspec": {
   "display_name": "qa",
   "language": "python",
   "name": "qa"
  },
  "language_info": {
   "codemirror_mode": {
    "name": "ipython",
    "version": 3
   },
   "file_extension": ".py",
   "mimetype": "text/x-python",
   "name": "python",
   "nbconvert_exporter": "python",
   "pygments_lexer": "ipython3",
   "version": "3.6.7"
  }
 },
 "nbformat": 4,
 "nbformat_minor": 2
}
