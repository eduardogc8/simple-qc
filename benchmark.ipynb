{
 "cells": [
  {
   "cell_type": "markdown",
   "metadata": {},
   "source": [
    "## How to run the experiments"
   ]
  },
  {
   "cell_type": "markdown",
   "metadata": {},
   "source": [
    "Run the code blocs bellow in sequence. You can read the descriptions to understand it.\n",
    "\n",
    "\n",
    "The dependencies can be found in https://github.com/eduardogc8/simple-qc\n",
    "\n",
    "Before starting to run the experiments, change the variable ``path_wordembedding``, in the code block below, for the correct directory path. Make sure that the word embedding inside follow the template `wiki.multi.*.vec`."
   ]
  },
  {
   "cell_type": "code",
   "execution_count": 1,
   "metadata": {},
   "outputs": [
    {
     "name": "stderr",
     "output_type": "stream",
     "text": [
      "Using TensorFlow backend.\n"
     ]
    }
   ],
   "source": [
    "import nltk\n",
    "import numpy as np\n",
    "import pandas as pd\n",
    "from keras.preprocessing.sequence import pad_sequences\n",
    "from sklearn.feature_selection import SelectKBest, chi2\n",
    "from sklearn.preprocessing import OneHotEncoder\n",
    "from sklearn.preprocessing import normalize\n",
    "\n",
    "from benchmarking_methods import run_benchmark\n",
    "from building_classifiers import lstm_default, svm_linear, random_forest, cnn\n",
    "from download_word_embeddings import muse_embeddings_path, download_if_not_existing\n",
    "from loading_data import load_embedding, load_uiuc\n",
    "\n",
    "path_wordembedding = '/home/eduardo/word_embedding/'\n",
    "download_if_not_existing()\n",
    "from benchmarking_methods import run_benchmark_cv\n",
    "from feature_creation import create_feature\n",
    "from loading_data import load_disequa"
   ]
  },
  {
   "cell_type": "markdown",
   "metadata": {},
   "source": [
    "### Extract features"
   ]
  },
  {
   "cell_type": "markdown",
   "metadata": {},
   "source": [
    "The function *create_features* transform the questions in numerical vector to a classifier model.<br>It returns the output in the df_2 dataframe that is a parameter (*df_2.feature_type*, according to the *feature_type*).<br><br>\n",
    "**feature_type:** type of feature. (bow, tfidf, embedding, embedding_sum, vocab_index, pos_index, pos_hotencode, ner_index, ner_hotencode)<br> \n",
    "**df:** the dataframe used to fit the transformers models (df.questions).<br>\n",
    "**df_2:** dataframe wich the data will be transformed (df_2.questions).<br>\n",
    "**embedding:** embedding model for word embedding features type.<br>\n",
    "**max_features:** used in bag-of-words and TFIDF."
   ]
  },
  {
   "cell_type": "markdown",
   "metadata": {},
   "source": [
    "\n",
    "### Create classifier models"
   ]
  },
  {
   "cell_type": "markdown",
   "metadata": {},
   "source": [
    "The models are created through functions that return them. These functions will be used to create a new model in each experiment. Therefore, an instance of a model is created by the benchmark function and not explicitly in a code block.\n"
   ]
  },
  {
   "cell_type": "markdown",
   "metadata": {},
   "source": [
    "### UTILS"
   ]
  },
  {
   "cell_type": "code",
   "execution_count": 2,
   "metadata": {},
   "outputs": [],
   "source": [
    "import warnings\n",
    "warnings.filterwarnings(\"ignore\")"
   ]
  },
  {
   "cell_type": "markdown",
   "metadata": {},
   "source": [
    "\n",
    "\n",
    "#### Load UIUC dataset"
   ]
  },
  {
   "cell_type": "markdown",
   "metadata": {},
   "source": [
    "#### Load DISEQuA dataset"
   ]
  },
  {
   "cell_type": "markdown",
   "metadata": {},
   "source": [
    "## Benchmark UIUC - Normal"
   ]
  },
  {
   "cell_type": "markdown",
   "metadata": {},
   "source": [
    "**Normal:** it uses the default fixed split of UIUC between train dataset (at last 5500 instances) and test dataset (500 instances). Therefore, it does not use cross-validation."
   ]
  },
  {
   "cell_type": "markdown",
   "metadata": {},
   "source": [
    "When the *run_benchmark* function is executed, it will save each result in the *save* path.\n",
    "\n",
    "**model:** a dictionary with the classifier name and the function to create and return the model (not an instance of the model). <br> Example: *model = {'name': 'SVM', 'model': svm_linear}*<br>\n",
    "**X:** all the training set.<br>\n",
    "**y:** all the labels of the training set.<br>\n",
    "**x_test:** test set.<br>\n",
    "**y_test:** labels of the test set.<br>\n",
    "**sizes_train:** sizes of training set. For each size, an experiment is executed.<br>\n",
    "**runs:** number of time that each experiment is executed (used in models which has parameters with random values, like weights in an ANN).<br>\n",
    "**save:** csv path where the results will be saved.<br>\n",
    "**metric_average:** used in f1, recall and precision metrics<br>\n",
    "**onehot:** one-hot model to transform labels.<br>\n",
    "**out_dim:** the total of classes for ANN models.<br>\n",
    "**epochs:** epochs for ANN models.<br>\n",
    "**batch_size:** batch_size for ANN models.<br>\n",
    "**vocabulary_size:** vocabulary size (used in CNN model).\n"
   ]
  },
  {
   "cell_type": "markdown",
   "metadata": {},
   "source": [
    "\n",
    "## Benchmark UIUC and DISEQuA - Cross-validation"
   ]
  },
  {
   "cell_type": "markdown",
   "metadata": {},
   "source": [
    "**Cross-validation:** instead of uses default fixed splits, it uses the all the dataset with cross-validation with 10 folds."
   ]
  },
  {
   "cell_type": "markdown",
   "metadata": {},
   "source": [
    "When the *run_benchmark* function is executed, it will save each result in the *save* path.\n",
    "\n",
    "**model:** a dictionary with the classifier name and the function to create and return the model (not an instance of the model). <br> Example: *model = {'name': 'SVM', 'model': svm_linear}*<br>\n",
    "**X:** Input features.<br>\n",
    "**y:** Input labels.<br>\n",
    "**sizes_train:** sizes of training set. For each size, an experiment is executed.<br>\n",
    "**folds:** Amount of folds for cross-validations.<br>\n",
    "**save:** csv path where the results will be saved.<br>\n",
    "**metric_average:** used in f1, recall and precision metrics<br>\n",
    "**onehot:** one-hot model to transform labels.<br>\n",
    "**epochs:** epochs for ANN models.<br>\n",
    "**batch_size:** batch_size for ANN models.<br>\n",
    "**vocabulary_size:** vocabulary size (used in CNN model).\n"
   ]
  },
  {
   "cell_type": "markdown",
   "metadata": {},
   "source": [
    "\n",
    "## Run UIUC Benchmark - Normal"
   ]
  },
  {
   "cell_type": "markdown",
   "metadata": {},
   "source": [
    "Different classifier models are tested with different dependency levels of external linguistic resources (Low, Medium and High)"
   ]
  },
  {
   "cell_type": "markdown",
   "metadata": {},
   "source": [
    "#### SVM + TF-IDF"
   ]
  },
  {
   "cell_type": "code",
   "execution_count": 2,
   "metadata": {
    "scrolled": false
   },
   "outputs": [
    {
     "name": "stdout",
     "output_type": "stream",
     "text": [
      "\n",
      "\n",
      "Language:  en\n",
      "\n",
      "1000|.\n",
      "2000|.\n",
      "3000|.\n",
      "4000|.\n",
      "5500|.Run time benchmark: 0.5764660835266113\n",
      "\n",
      "\n",
      "Language:  es\n",
      "\n",
      "1000|.\n",
      "2000|.\n",
      "3000|."
     ]
    },
    {
     "name": "stderr",
     "output_type": "stream",
     "text": [
      "/home/eduardo/.virtualenvs/qa/lib/python3.6/site-packages/sklearn/metrics/classification.py:1143: UndefinedMetricWarning: Precision is ill-defined and being set to 0.0 in labels with no predicted samples.\n",
      "  'precision', 'predicted', average, warn_for)\n",
      "/home/eduardo/.virtualenvs/qa/lib/python3.6/site-packages/sklearn/metrics/classification.py:1143: UndefinedMetricWarning: F-score is ill-defined and being set to 0.0 in labels with no predicted samples.\n",
      "  'precision', 'predicted', average, warn_for)\n",
      "/home/eduardo/.virtualenvs/qa/lib/python3.6/site-packages/sklearn/metrics/classification.py:1143: UndefinedMetricWarning: Precision is ill-defined and being set to 0.0 in labels with no predicted samples.\n",
      "  'precision', 'predicted', average, warn_for)\n",
      "/home/eduardo/.virtualenvs/qa/lib/python3.6/site-packages/sklearn/metrics/classification.py:1143: UndefinedMetricWarning: F-score is ill-defined and being set to 0.0 in labels with no predicted samples.\n",
      "  'precision', 'predicted', average, warn_for)\n",
      "/home/eduardo/.virtualenvs/qa/lib/python3.6/site-packages/sklearn/metrics/classification.py:1143: UndefinedMetricWarning: Precision is ill-defined and being set to 0.0 in labels with no predicted samples.\n",
      "  'precision', 'predicted', average, warn_for)\n",
      "/home/eduardo/.virtualenvs/qa/lib/python3.6/site-packages/sklearn/metrics/classification.py:1143: UndefinedMetricWarning: F-score is ill-defined and being set to 0.0 in labels with no predicted samples.\n",
      "  'precision', 'predicted', average, warn_for)\n",
      "/home/eduardo/.virtualenvs/qa/lib/python3.6/site-packages/sklearn/metrics/classification.py:1143: UndefinedMetricWarning: Precision is ill-defined and being set to 0.0 in labels with no predicted samples.\n",
      "  'precision', 'predicted', average, warn_for)\n",
      "/home/eduardo/.virtualenvs/qa/lib/python3.6/site-packages/sklearn/metrics/classification.py:1143: UndefinedMetricWarning: F-score is ill-defined and being set to 0.0 in labels with no predicted samples.\n",
      "  'precision', 'predicted', average, warn_for)\n"
     ]
    },
    {
     "name": "stdout",
     "output_type": "stream",
     "text": [
      "\n",
      "4000|.\n",
      "5500|."
     ]
    },
    {
     "name": "stderr",
     "output_type": "stream",
     "text": [
      "/home/eduardo/.virtualenvs/qa/lib/python3.6/site-packages/sklearn/metrics/classification.py:1143: UndefinedMetricWarning: Precision is ill-defined and being set to 0.0 in labels with no predicted samples.\n",
      "  'precision', 'predicted', average, warn_for)\n",
      "/home/eduardo/.virtualenvs/qa/lib/python3.6/site-packages/sklearn/metrics/classification.py:1143: UndefinedMetricWarning: F-score is ill-defined and being set to 0.0 in labels with no predicted samples.\n",
      "  'precision', 'predicted', average, warn_for)\n"
     ]
    },
    {
     "name": "stdout",
     "output_type": "stream",
     "text": [
      "Run time benchmark: 0.6209449768066406\n",
      "\n",
      "\n",
      "Language:  pt\n",
      "\n",
      "1000|.\n",
      "2000|.\n",
      "3000|.\n",
      "4000|.\n",
      "5500|.Run time benchmark: 0.5239431858062744\n"
     ]
    }
   ],
   "source": [
    "for language in ['en', 'es', 'pt']:\n",
    "    print('\\n\\nLanguage: ', language)\n",
    "    dataset_train, dataset_test = load_uiuc(language)\n",
    "    create_feature('tfidf', dataset_train, dataset_train, max_features=2000)\n",
    "    create_feature('tfidf', dataset_train, dataset_test, max_features=2000)\n",
    "    \n",
    "    model = {'name': 'svm', 'model': svm_linear}\n",
    "    \n",
    "    tfidf_train = np.array([list(r) for r in dataset_train['tfidf'].values])\n",
    "    tfidf_test = np.array([list(r) for r in dataset_test['tfidf'].values])\n",
    "    tfidf_train = normalize(tfidf_train, norm='max')\n",
    "    tfidf_test = normalize(tfidf_test, norm='max')\n",
    "    \n",
    "    X_train = np.array([list(x) for x in dataset_train['tfidf'].values])\n",
    "    X_test = np.array([list(x) for x in dataset_test['tfidf'].values])\n",
    "    y_train = dataset_train['class'].values\n",
    "    y_test = dataset_test['class'].values\n",
    "    \n",
    "    run_benchmark(model, X_train, y_train, X_test, y_test, sizes_train=[1000, 2000, 3000, 4000, 5500],\n",
    "                  save='results/UIUC_svm_tfidf_' + language + '.csv', runs=1)"
   ]
  },
  {
   "cell_type": "markdown",
   "metadata": {},
   "source": [
    "#### SVM + TF-IDF + WB"
   ]
  },
  {
   "cell_type": "code",
   "execution_count": 5,
   "metadata": {},
   "outputs": [
    {
     "name": "stdout",
     "output_type": "stream",
     "text": [
      "\n",
      "\n",
      "Language:  en\n",
      "\n",
      "1000|.\n",
      "2000|.\n",
      "3000|.\n",
      "4000|."
     ]
    },
    {
     "name": "stderr",
     "output_type": "stream",
     "text": [
      "/home/eduardo/.virtualenvs/qa/lib/python3.6/site-packages/sklearn/svm/base.py:931: ConvergenceWarning: Liblinear failed to converge, increase the number of iterations.\n",
      "  \"the number of iterations.\", ConvergenceWarning)\n"
     ]
    },
    {
     "name": "stdout",
     "output_type": "stream",
     "text": [
      "\n",
      "5500|.Run time benchmark: 11.371490478515625\n",
      "\n",
      "\n",
      "Language:  es\n",
      "\n",
      "1000|."
     ]
    },
    {
     "name": "stderr",
     "output_type": "stream",
     "text": [
      "/home/eduardo/.virtualenvs/qa/lib/python3.6/site-packages/sklearn/metrics/classification.py:1143: UndefinedMetricWarning: Precision is ill-defined and being set to 0.0 in labels with no predicted samples.\n",
      "  'precision', 'predicted', average, warn_for)\n",
      "/home/eduardo/.virtualenvs/qa/lib/python3.6/site-packages/sklearn/metrics/classification.py:1143: UndefinedMetricWarning: F-score is ill-defined and being set to 0.0 in labels with no predicted samples.\n",
      "  'precision', 'predicted', average, warn_for)\n"
     ]
    },
    {
     "name": "stdout",
     "output_type": "stream",
     "text": [
      "\n",
      "2000|."
     ]
    },
    {
     "name": "stderr",
     "output_type": "stream",
     "text": [
      "/home/eduardo/.virtualenvs/qa/lib/python3.6/site-packages/sklearn/metrics/classification.py:1143: UndefinedMetricWarning: Precision is ill-defined and being set to 0.0 in labels with no predicted samples.\n",
      "  'precision', 'predicted', average, warn_for)\n",
      "/home/eduardo/.virtualenvs/qa/lib/python3.6/site-packages/sklearn/metrics/classification.py:1143: UndefinedMetricWarning: F-score is ill-defined and being set to 0.0 in labels with no predicted samples.\n",
      "  'precision', 'predicted', average, warn_for)\n"
     ]
    },
    {
     "name": "stdout",
     "output_type": "stream",
     "text": [
      "\n",
      "3000|."
     ]
    },
    {
     "name": "stderr",
     "output_type": "stream",
     "text": [
      "/home/eduardo/.virtualenvs/qa/lib/python3.6/site-packages/sklearn/svm/base.py:931: ConvergenceWarning: Liblinear failed to converge, increase the number of iterations.\n",
      "  \"the number of iterations.\", ConvergenceWarning)\n",
      "/home/eduardo/.virtualenvs/qa/lib/python3.6/site-packages/sklearn/metrics/classification.py:1143: UndefinedMetricWarning: Precision is ill-defined and being set to 0.0 in labels with no predicted samples.\n",
      "  'precision', 'predicted', average, warn_for)\n",
      "/home/eduardo/.virtualenvs/qa/lib/python3.6/site-packages/sklearn/metrics/classification.py:1143: UndefinedMetricWarning: F-score is ill-defined and being set to 0.0 in labels with no predicted samples.\n",
      "  'precision', 'predicted', average, warn_for)\n"
     ]
    },
    {
     "name": "stdout",
     "output_type": "stream",
     "text": [
      "\n",
      "4000|."
     ]
    },
    {
     "name": "stderr",
     "output_type": "stream",
     "text": [
      "/home/eduardo/.virtualenvs/qa/lib/python3.6/site-packages/sklearn/svm/base.py:931: ConvergenceWarning: Liblinear failed to converge, increase the number of iterations.\n",
      "  \"the number of iterations.\", ConvergenceWarning)\n",
      "/home/eduardo/.virtualenvs/qa/lib/python3.6/site-packages/sklearn/metrics/classification.py:1143: UndefinedMetricWarning: Precision is ill-defined and being set to 0.0 in labels with no predicted samples.\n",
      "  'precision', 'predicted', average, warn_for)\n",
      "/home/eduardo/.virtualenvs/qa/lib/python3.6/site-packages/sklearn/metrics/classification.py:1143: UndefinedMetricWarning: F-score is ill-defined and being set to 0.0 in labels with no predicted samples.\n",
      "  'precision', 'predicted', average, warn_for)\n"
     ]
    },
    {
     "name": "stdout",
     "output_type": "stream",
     "text": [
      "\n",
      "5500|."
     ]
    },
    {
     "name": "stderr",
     "output_type": "stream",
     "text": [
      "/home/eduardo/.virtualenvs/qa/lib/python3.6/site-packages/sklearn/svm/base.py:931: ConvergenceWarning: Liblinear failed to converge, increase the number of iterations.\n",
      "  \"the number of iterations.\", ConvergenceWarning)\n",
      "/home/eduardo/.virtualenvs/qa/lib/python3.6/site-packages/sklearn/metrics/classification.py:1143: UndefinedMetricWarning: Precision is ill-defined and being set to 0.0 in labels with no predicted samples.\n",
      "  'precision', 'predicted', average, warn_for)\n",
      "/home/eduardo/.virtualenvs/qa/lib/python3.6/site-packages/sklearn/metrics/classification.py:1143: UndefinedMetricWarning: F-score is ill-defined and being set to 0.0 in labels with no predicted samples.\n",
      "  'precision', 'predicted', average, warn_for)\n"
     ]
    },
    {
     "name": "stdout",
     "output_type": "stream",
     "text": [
      "Run time benchmark: 14.12940001487732\n",
      "\n",
      "\n",
      "Language:  pt\n",
      "\n",
      "1000|.\n",
      "2000|."
     ]
    },
    {
     "name": "stderr",
     "output_type": "stream",
     "text": [
      "/home/eduardo/.virtualenvs/qa/lib/python3.6/site-packages/sklearn/svm/base.py:931: ConvergenceWarning: Liblinear failed to converge, increase the number of iterations.\n",
      "  \"the number of iterations.\", ConvergenceWarning)\n"
     ]
    },
    {
     "name": "stdout",
     "output_type": "stream",
     "text": [
      "\n",
      "3000|."
     ]
    },
    {
     "name": "stderr",
     "output_type": "stream",
     "text": [
      "/home/eduardo/.virtualenvs/qa/lib/python3.6/site-packages/sklearn/svm/base.py:931: ConvergenceWarning: Liblinear failed to converge, increase the number of iterations.\n",
      "  \"the number of iterations.\", ConvergenceWarning)\n"
     ]
    },
    {
     "name": "stdout",
     "output_type": "stream",
     "text": [
      "\n",
      "4000|."
     ]
    },
    {
     "name": "stderr",
     "output_type": "stream",
     "text": [
      "/home/eduardo/.virtualenvs/qa/lib/python3.6/site-packages/sklearn/svm/base.py:931: ConvergenceWarning: Liblinear failed to converge, increase the number of iterations.\n",
      "  \"the number of iterations.\", ConvergenceWarning)\n"
     ]
    },
    {
     "name": "stdout",
     "output_type": "stream",
     "text": [
      "\n",
      "5500|.Run time benchmark: 14.28162956237793\n"
     ]
    },
    {
     "name": "stderr",
     "output_type": "stream",
     "text": [
      "/home/eduardo/.virtualenvs/qa/lib/python3.6/site-packages/sklearn/svm/base.py:931: ConvergenceWarning: Liblinear failed to converge, increase the number of iterations.\n",
      "  \"the number of iterations.\", ConvergenceWarning)\n"
     ]
    }
   ],
   "source": [
    "for language in ['en', 'es', 'pt']:\n",
    "    print('\\n\\nLanguage: ', language)\n",
    "    embedding = load_embedding(path_wordembedding + 'wiki.multi.' + language + '.vec')\n",
    "    dataset_train, dataset_test = load_uiuc(language)\n",
    "    create_feature('tfidf', dataset_train, dataset_train, max_features=2000)\n",
    "    create_feature('tfidf', dataset_train, dataset_test, max_features=2000)\n",
    "    create_feature('embedding_sum', None, dataset_train, embedding)\n",
    "    create_feature('embedding_sum', None, dataset_test, embedding)\n",
    "    \n",
    "    model = {'name': 'svm', 'model': svm_linear}\n",
    "    \n",
    "    tfidf_train = np.array([list(r) for r in dataset_train['tfidf'].values])\n",
    "    tfidf_test = np.array([list(r) for r in dataset_test['tfidf'].values])\n",
    "    tfidf_train = normalize(tfidf_train, norm='max')\n",
    "    tfidf_test = normalize(tfidf_test, norm='max')\n",
    "    \n",
    "    embedding_train = np.array([list(r) for r in dataset_train['embedding_sum'].values])\n",
    "    embedding_test = np.array([list(r) for r in dataset_test['embedding_sum'].values])\n",
    "    embedding_train = normalize(embedding_train, norm='max')\n",
    "    embedding_test = normalize(embedding_test, norm='max')\n",
    "    \n",
    "    X_train = np.array([list(x) + list(xx) for x, xx in zip(tfidf_train, embedding_train)])\n",
    "    X_test = np.array([list(x) + list(xx) for x, xx in zip(tfidf_test, embedding_test)])\n",
    "    y_train = dataset_train['class'].values\n",
    "    y_test = dataset_test['class'].values\n",
    "    \n",
    "    run_benchmark(model, X_train, y_train, X_test, y_test, sizes_train=[1000, 2000, 3000, 4000, 5500], \n",
    "                  runs=1, save='results/UIUC_svm_cortes_' + language + '.csv')"
   ]
  },
  {
   "cell_type": "markdown",
   "metadata": {},
   "source": [
    "#### SVM + TF-IDF + WB + POS + NER"
   ]
  },
  {
   "cell_type": "code",
   "execution_count": 6,
   "metadata": {},
   "outputs": [
    {
     "name": "stdout",
     "output_type": "stream",
     "text": [
      "\n",
      "\n",
      "Language:  en\n",
      "\n",
      "1000|.\n",
      "2000|.\n",
      "3000|."
     ]
    },
    {
     "name": "stderr",
     "output_type": "stream",
     "text": [
      "/home/eduardo/.virtualenvs/qa/lib/python3.6/site-packages/sklearn/svm/base.py:931: ConvergenceWarning: Liblinear failed to converge, increase the number of iterations.\n",
      "  \"the number of iterations.\", ConvergenceWarning)\n"
     ]
    },
    {
     "name": "stdout",
     "output_type": "stream",
     "text": [
      "\n",
      "4000|."
     ]
    },
    {
     "name": "stderr",
     "output_type": "stream",
     "text": [
      "/home/eduardo/.virtualenvs/qa/lib/python3.6/site-packages/sklearn/svm/base.py:931: ConvergenceWarning: Liblinear failed to converge, increase the number of iterations.\n",
      "  \"the number of iterations.\", ConvergenceWarning)\n"
     ]
    },
    {
     "name": "stdout",
     "output_type": "stream",
     "text": [
      "\n",
      "5500|."
     ]
    },
    {
     "name": "stderr",
     "output_type": "stream",
     "text": [
      "/home/eduardo/.virtualenvs/qa/lib/python3.6/site-packages/sklearn/svm/base.py:931: ConvergenceWarning: Liblinear failed to converge, increase the number of iterations.\n",
      "  \"the number of iterations.\", ConvergenceWarning)\n"
     ]
    },
    {
     "name": "stdout",
     "output_type": "stream",
     "text": [
      "Run time benchmark: 12.750246524810791\n",
      "\n",
      "\n",
      "Language:  es\n",
      "\n",
      "1000|."
     ]
    },
    {
     "name": "stderr",
     "output_type": "stream",
     "text": [
      "/home/eduardo/.virtualenvs/qa/lib/python3.6/site-packages/sklearn/metrics/classification.py:1143: UndefinedMetricWarning: Precision is ill-defined and being set to 0.0 in labels with no predicted samples.\n",
      "  'precision', 'predicted', average, warn_for)\n",
      "/home/eduardo/.virtualenvs/qa/lib/python3.6/site-packages/sklearn/metrics/classification.py:1143: UndefinedMetricWarning: F-score is ill-defined and being set to 0.0 in labels with no predicted samples.\n",
      "  'precision', 'predicted', average, warn_for)\n"
     ]
    },
    {
     "name": "stdout",
     "output_type": "stream",
     "text": [
      "\n",
      "2000|."
     ]
    },
    {
     "name": "stderr",
     "output_type": "stream",
     "text": [
      "/home/eduardo/.virtualenvs/qa/lib/python3.6/site-packages/sklearn/metrics/classification.py:1143: UndefinedMetricWarning: Precision is ill-defined and being set to 0.0 in labels with no predicted samples.\n",
      "  'precision', 'predicted', average, warn_for)\n",
      "/home/eduardo/.virtualenvs/qa/lib/python3.6/site-packages/sklearn/metrics/classification.py:1143: UndefinedMetricWarning: F-score is ill-defined and being set to 0.0 in labels with no predicted samples.\n",
      "  'precision', 'predicted', average, warn_for)\n"
     ]
    },
    {
     "name": "stdout",
     "output_type": "stream",
     "text": [
      "\n",
      "3000|."
     ]
    },
    {
     "name": "stderr",
     "output_type": "stream",
     "text": [
      "/home/eduardo/.virtualenvs/qa/lib/python3.6/site-packages/sklearn/svm/base.py:931: ConvergenceWarning: Liblinear failed to converge, increase the number of iterations.\n",
      "  \"the number of iterations.\", ConvergenceWarning)\n",
      "/home/eduardo/.virtualenvs/qa/lib/python3.6/site-packages/sklearn/metrics/classification.py:1143: UndefinedMetricWarning: Precision is ill-defined and being set to 0.0 in labels with no predicted samples.\n",
      "  'precision', 'predicted', average, warn_for)\n",
      "/home/eduardo/.virtualenvs/qa/lib/python3.6/site-packages/sklearn/metrics/classification.py:1143: UndefinedMetricWarning: F-score is ill-defined and being set to 0.0 in labels with no predicted samples.\n",
      "  'precision', 'predicted', average, warn_for)\n"
     ]
    },
    {
     "name": "stdout",
     "output_type": "stream",
     "text": [
      "\n",
      "4000|."
     ]
    },
    {
     "name": "stderr",
     "output_type": "stream",
     "text": [
      "/home/eduardo/.virtualenvs/qa/lib/python3.6/site-packages/sklearn/svm/base.py:931: ConvergenceWarning: Liblinear failed to converge, increase the number of iterations.\n",
      "  \"the number of iterations.\", ConvergenceWarning)\n",
      "/home/eduardo/.virtualenvs/qa/lib/python3.6/site-packages/sklearn/metrics/classification.py:1143: UndefinedMetricWarning: Precision is ill-defined and being set to 0.0 in labels with no predicted samples.\n",
      "  'precision', 'predicted', average, warn_for)\n",
      "/home/eduardo/.virtualenvs/qa/lib/python3.6/site-packages/sklearn/metrics/classification.py:1143: UndefinedMetricWarning: F-score is ill-defined and being set to 0.0 in labels with no predicted samples.\n",
      "  'precision', 'predicted', average, warn_for)\n"
     ]
    },
    {
     "name": "stdout",
     "output_type": "stream",
     "text": [
      "\n",
      "5500|."
     ]
    },
    {
     "name": "stderr",
     "output_type": "stream",
     "text": [
      "/home/eduardo/.virtualenvs/qa/lib/python3.6/site-packages/sklearn/svm/base.py:931: ConvergenceWarning: Liblinear failed to converge, increase the number of iterations.\n",
      "  \"the number of iterations.\", ConvergenceWarning)\n",
      "/home/eduardo/.virtualenvs/qa/lib/python3.6/site-packages/sklearn/metrics/classification.py:1143: UndefinedMetricWarning: Precision is ill-defined and being set to 0.0 in labels with no predicted samples.\n",
      "  'precision', 'predicted', average, warn_for)\n",
      "/home/eduardo/.virtualenvs/qa/lib/python3.6/site-packages/sklearn/metrics/classification.py:1143: UndefinedMetricWarning: F-score is ill-defined and being set to 0.0 in labels with no predicted samples.\n",
      "  'precision', 'predicted', average, warn_for)\n"
     ]
    },
    {
     "name": "stdout",
     "output_type": "stream",
     "text": [
      "Run time benchmark: 15.330715417861938\n",
      "\n",
      "\n",
      "Language:  pt\n",
      "\n",
      "1000|."
     ]
    },
    {
     "name": "stderr",
     "output_type": "stream",
     "text": [
      "/home/eduardo/.virtualenvs/qa/lib/python3.6/site-packages/sklearn/svm/base.py:931: ConvergenceWarning: Liblinear failed to converge, increase the number of iterations.\n",
      "  \"the number of iterations.\", ConvergenceWarning)\n"
     ]
    },
    {
     "name": "stdout",
     "output_type": "stream",
     "text": [
      "\n",
      "2000|."
     ]
    },
    {
     "name": "stderr",
     "output_type": "stream",
     "text": [
      "/home/eduardo/.virtualenvs/qa/lib/python3.6/site-packages/sklearn/svm/base.py:931: ConvergenceWarning: Liblinear failed to converge, increase the number of iterations.\n",
      "  \"the number of iterations.\", ConvergenceWarning)\n"
     ]
    },
    {
     "name": "stdout",
     "output_type": "stream",
     "text": [
      "\n",
      "3000|."
     ]
    },
    {
     "name": "stderr",
     "output_type": "stream",
     "text": [
      "/home/eduardo/.virtualenvs/qa/lib/python3.6/site-packages/sklearn/svm/base.py:931: ConvergenceWarning: Liblinear failed to converge, increase the number of iterations.\n",
      "  \"the number of iterations.\", ConvergenceWarning)\n"
     ]
    },
    {
     "name": "stdout",
     "output_type": "stream",
     "text": [
      "\n",
      "4000|."
     ]
    },
    {
     "name": "stderr",
     "output_type": "stream",
     "text": [
      "/home/eduardo/.virtualenvs/qa/lib/python3.6/site-packages/sklearn/svm/base.py:931: ConvergenceWarning: Liblinear failed to converge, increase the number of iterations.\n",
      "  \"the number of iterations.\", ConvergenceWarning)\n"
     ]
    },
    {
     "name": "stdout",
     "output_type": "stream",
     "text": [
      "\n",
      "5500|.Run time benchmark: 13.996777296066284\n"
     ]
    },
    {
     "name": "stderr",
     "output_type": "stream",
     "text": [
      "/home/eduardo/.virtualenvs/qa/lib/python3.6/site-packages/sklearn/svm/base.py:931: ConvergenceWarning: Liblinear failed to converge, increase the number of iterations.\n",
      "  \"the number of iterations.\", ConvergenceWarning)\n"
     ]
    }
   ],
   "source": [
    "for language in ['en', 'es', 'pt']:\n",
    "    print('\\n\\nLanguage: ', language)\n",
    "    embedding = load_embedding(path_wordembedding + 'wiki.multi.' + language + '.vec')\n",
    "    dataset_train, dataset_test = load_uiuc(language)\n",
    "    create_feature('tfidf', dataset_train, dataset_train, max_features=2000)\n",
    "    create_feature('tfidf', dataset_train, dataset_test, max_features=2000)\n",
    "    create_feature('embedding_sum', dataset_train, dataset_train, embedding)\n",
    "    create_feature('embedding_sum', dataset_train, dataset_test, embedding)\n",
    "    create_feature('pos_hotencode', dataset_train, dataset_train)\n",
    "    create_feature('pos_hotencode', dataset_train, dataset_test)\n",
    "    create_feature('ner_hotencode', dataset_train, dataset_train)\n",
    "    create_feature('ner_hotencode', dataset_train, dataset_test)\n",
    "    model = {'name': 'svm', 'model': svm_linear}\n",
    "    \n",
    "    tfidf_train = np.array([list(r) for r in dataset_train['tfidf'].values])\n",
    "    tfidf_test = np.array([list(r) for r in dataset_test['tfidf'].values])\n",
    "    tfidf_train = normalize(tfidf_train, norm='max')\n",
    "    tfidf_test = normalize(tfidf_test, norm='max')\n",
    "    \n",
    "    embedding_train = np.array([list(r) for r in dataset_train['embedding_sum'].values])\n",
    "    embedding_test = np.array([list(r) for r in dataset_test['embedding_sum'].values])\n",
    "    embedding_train = normalize(embedding_train, norm='max')\n",
    "    embedding_test = normalize(embedding_test, norm='max')\n",
    "    \n",
    "    pos_train = np.array([list(r) for r in dataset_train['pos_hotencode'].values])\n",
    "    pos_test = np.array([list(r) for r in dataset_test['pos_hotencode'].values])\n",
    "    \n",
    "    ner_train = np.array([list(r) for r in dataset_train['ner_hotencode'].values])\n",
    "    ner_test = np.array([list(r) for r in dataset_test['ner_hotencode'].values])\n",
    "    \n",
    "    X_train = np.array([list(x) + list(xx) + list(xxx) + list(xxxx) for x, xx, xxx, xxxx in zip(tfidf_train, embedding_train, pos_train, ner_train)])\n",
    "    X_test = np.array([list(x) + list(xx) + list(xxx) + list(xxxx) for x, xx, xxx, xxxx in zip(tfidf_test, embedding_test, pos_test, ner_test)])\n",
    "    \n",
    "    y_train = dataset_train['class'].values\n",
    "    y_test = dataset_test['class'].values\n",
    "    \n",
    "    classes = list(dataset_train['class'].unique())\n",
    "    y_train_ = [classes.index(c) for c in y_train]\n",
    "    \n",
    "    run_benchmark(model, X_train, y_train, X_test, y_test, sizes_train=[1000, 2000, 3000, 4000, 5500],\n",
    "                  runs=1, save='results/UIUC_svm_high_' + language + '.csv')"
   ]
  },
  {
   "cell_type": "markdown",
   "metadata": {},
   "source": [
    "#### BERT + CNN"
   ]
  },
  {
   "cell_type": "code",
   "execution_count": 3,
   "metadata": {
    "scrolled": true
   },
   "outputs": [
    {
     "name": "stdout",
     "output_type": "stream",
     "text": [
      "2019-08-29 10:29:23,810 {'ENTY', 'NUM', 'ABBR', 'HUM', 'DESC', 'LOC'}\n",
      "2019-08-29 10:29:23,812 The pre-trained model you are loading is a cased model but you have not set `do_lower_case` to False. We are setting `do_lower_case=False` for you but you may want to check this behavior.\n",
      "2019-08-29 10:29:39,108 ----------------------------------------------------------------------------------------------------\n",
      "2019-08-29 10:29:39,109 Evaluation method: MICRO_F1_SCORE\n",
      "2019-08-29 10:29:39,558 ----------------------------------------------------------------------------------------------------\n",
      "2019-08-29 10:29:40,523 epoch 1 - iter 0/171 - loss 2.02791667\n",
      "2019-08-29 10:29:52,500 epoch 1 - iter 17/171 - loss 5.07643974\n",
      "2019-08-29 10:30:03,991 epoch 1 - iter 34/171 - loss 3.36154547\n",
      "2019-08-29 10:30:17,008 epoch 1 - iter 51/171 - loss 2.54324335\n",
      "2019-08-29 10:30:29,965 epoch 1 - iter 68/171 - loss 2.10228707\n",
      "2019-08-29 10:30:43,098 epoch 1 - iter 85/171 - loss 1.82153485\n",
      "2019-08-29 10:30:58,962 epoch 1 - iter 102/171 - loss 1.60891311\n",
      "2019-08-29 10:31:12,361 epoch 1 - iter 119/171 - loss 1.45261955\n",
      "2019-08-29 10:31:24,555 epoch 1 - iter 136/171 - loss 1.32974842\n",
      "2019-08-29 10:31:39,858 epoch 1 - iter 153/171 - loss 1.23486260\n",
      "2019-08-29 10:31:54,068 epoch 1 - iter 170/171 - loss 1.15656228\n",
      "2019-08-29 10:31:54,237 ----------------------------------------------------------------------------------------------------\n",
      "2019-08-29 10:31:54,238 EPOCH 1 done: loss 1.1566 - lr 0.0010 - bad epochs 0\n",
      "2019-08-29 10:34:03,011 DEV : loss 0.327009916305542 - score 0.8905\n",
      "2019-08-29 10:34:11,396 TEST : loss 0.2621156573295593 - score 0.94\n",
      "2019-08-29 10:34:17,361 ----------------------------------------------------------------------------------------------------\n",
      "2019-08-29 10:34:18,869 epoch 2 - iter 0/171 - loss 0.30169046\n",
      "2019-08-29 10:34:30,797 epoch 2 - iter 17/171 - loss 0.38147669\n",
      "2019-08-29 10:34:45,690 epoch 2 - iter 34/171 - loss 0.35703272\n",
      "2019-08-29 10:34:58,315 epoch 2 - iter 51/171 - loss 0.34339510\n",
      "2019-08-29 10:35:12,169 epoch 2 - iter 68/171 - loss 0.33037479\n",
      "2019-08-29 10:35:24,835 epoch 2 - iter 85/171 - loss 0.33629734\n",
      "2019-08-29 10:35:36,985 epoch 2 - iter 102/171 - loss 0.33069505\n",
      "2019-08-29 10:35:49,821 epoch 2 - iter 119/171 - loss 0.33946438\n",
      "2019-08-29 10:36:02,018 epoch 2 - iter 136/171 - loss 0.33091962\n",
      "2019-08-29 10:36:15,073 epoch 2 - iter 153/171 - loss 0.32885168\n",
      "2019-08-29 10:36:28,406 epoch 2 - iter 170/171 - loss 0.32333834\n",
      "2019-08-29 10:36:28,649 ----------------------------------------------------------------------------------------------------\n",
      "2019-08-29 10:36:28,650 EPOCH 2 done: loss 0.3233 - lr 0.0010 - bad epochs 0\n",
      "2019-08-29 10:38:34,405 DEV : loss 0.2807021141052246 - score 0.8984\n",
      "2019-08-29 10:38:43,141 TEST : loss 0.28617578744888306 - score 0.906\n",
      "2019-08-29 10:38:48,857 ----------------------------------------------------------------------------------------------------\n",
      "2019-08-29 10:38:50,116 epoch 3 - iter 0/171 - loss 0.24282609\n",
      "2019-08-29 10:39:04,073 epoch 3 - iter 17/171 - loss 0.18713015\n",
      "2019-08-29 10:39:15,778 epoch 3 - iter 34/171 - loss 0.19443695\n",
      "2019-08-29 10:39:29,296 epoch 3 - iter 51/171 - loss 0.20148557\n",
      "2019-08-29 10:39:42,737 epoch 3 - iter 68/171 - loss 0.21339501\n",
      "2019-08-29 10:39:55,600 epoch 3 - iter 85/171 - loss 0.22479867\n",
      "2019-08-29 10:40:07,901 epoch 3 - iter 102/171 - loss 0.22422180\n",
      "2019-08-29 10:40:21,354 epoch 3 - iter 119/171 - loss 0.23193120\n",
      "2019-08-29 10:40:35,227 epoch 3 - iter 136/171 - loss 0.23021164\n",
      "2019-08-29 10:40:47,630 epoch 3 - iter 153/171 - loss 0.22773574\n",
      "2019-08-29 10:41:01,247 epoch 3 - iter 170/171 - loss 0.23270814\n",
      "2019-08-29 10:41:01,513 ----------------------------------------------------------------------------------------------------\n",
      "2019-08-29 10:41:01,514 EPOCH 3 done: loss 0.2327 - lr 0.0010 - bad epochs 0\n",
      "2019-08-29 10:43:15,227 DEV : loss 0.5077443718910217 - score 0.841\n",
      "2019-08-29 10:43:23,632 TEST : loss 0.3408196270465851 - score 0.878\n",
      "2019-08-29 10:43:23,633 ----------------------------------------------------------------------------------------------------\n",
      "2019-08-29 10:43:25,058 epoch 4 - iter 0/171 - loss 0.29851669\n",
      "2019-08-29 10:43:37,975 epoch 4 - iter 17/171 - loss 0.18931436\n",
      "2019-08-29 10:43:50,669 epoch 4 - iter 34/171 - loss 0.18521897\n",
      "2019-08-29 10:44:03,011 epoch 4 - iter 51/171 - loss 0.17020361\n",
      "2019-08-29 10:44:15,695 epoch 4 - iter 68/171 - loss 0.16413739\n",
      "2019-08-29 10:44:29,039 epoch 4 - iter 85/171 - loss 0.16737845\n",
      "2019-08-29 10:44:43,044 epoch 4 - iter 102/171 - loss 0.16155939\n",
      "2019-08-29 10:44:55,753 epoch 4 - iter 119/171 - loss 0.16609350\n",
      "2019-08-29 10:45:08,667 epoch 4 - iter 136/171 - loss 0.16461103\n",
      "2019-08-29 10:45:21,618 epoch 4 - iter 153/171 - loss 0.16375541\n",
      "2019-08-29 10:45:35,021 epoch 4 - iter 170/171 - loss 0.17123693\n",
      "2019-08-29 10:45:35,225 ----------------------------------------------------------------------------------------------------\n",
      "2019-08-29 10:45:35,226 EPOCH 4 done: loss 0.1712 - lr 0.0010 - bad epochs 1\n",
      "2019-08-29 10:47:41,596 DEV : loss 0.1331065446138382 - score 0.956\n",
      "2019-08-29 10:47:50,953 TEST : loss 0.2566332519054413 - score 0.908\n",
      "2019-08-29 10:48:03,178 ----------------------------------------------------------------------------------------------------\n",
      "2019-08-29 10:48:03,179 Testing using best model ...\n",
      "2019-08-29 10:48:03,181 loading file flair_resources/qc_en_uiuc/best-model.pt\n",
      "2019-08-29 10:48:11,628 0.908\t0.908\t0.908\n",
      "2019-08-29 10:48:11,629 \n",
      "MICRO_AVG: acc 0.8315 - f1-score 0.908\n",
      "MACRO_AVG: acc 0.827 - f1-score 0.9022500000000001\n",
      "ABBR       tp: 8 - fp: 1 - fn: 1 - tn: 490 - precision: 0.8889 - recall: 0.8889 - accuracy: 0.8000 - f1-score: 0.8889\n",
      "DESC       tp: 131 - fp: 10 - fn: 7 - tn: 352 - precision: 0.9291 - recall: 0.9493 - accuracy: 0.8851 - f1-score: 0.9391\n",
      "ENTY       tp: 66 - fp: 6 - fn: 28 - tn: 400 - precision: 0.9167 - recall: 0.7021 - accuracy: 0.6600 - f1-score: 0.7952\n",
      "HUM        tp: 61 - fp: 0 - fn: 4 - tn: 435 - precision: 1.0000 - recall: 0.9385 - accuracy: 0.9385 - f1-score: 0.9683\n",
      "LOC        tp: 81 - fp: 24 - fn: 0 - tn: 395 - precision: 0.7714 - recall: 1.0000 - accuracy: 0.7714 - f1-score: 0.8709\n",
      "NUM        tp: 107 - fp: 5 - fn: 6 - tn: 382 - precision: 0.9554 - recall: 0.9469 - accuracy: 0.9068 - f1-score: 0.9511\n",
      "2019-08-29 10:48:11,629 ----------------------------------------------------------------------------------------------------\n",
      "2019-08-29 10:48:20,261 {'ENTY', 'NUM', 'ABBR', 'HUM', 'DESC', 'LOC'}\n",
      "2019-08-29 10:48:20,263 The pre-trained model you are loading is a cased model but you have not set `do_lower_case` to False. We are setting `do_lower_case=False` for you but you may want to check this behavior.\n",
      "2019-08-29 10:48:29,744 ----------------------------------------------------------------------------------------------------\n",
      "2019-08-29 10:48:29,745 Evaluation method: MICRO_F1_SCORE\n",
      "2019-08-29 10:48:30,068 ----------------------------------------------------------------------------------------------------\n",
      "2019-08-29 10:48:31,596 epoch 1 - iter 0/171 - loss 1.87159371\n",
      "2019-08-29 10:48:46,866 epoch 1 - iter 17/171 - loss 4.12977987\n",
      "2019-08-29 10:49:00,222 epoch 1 - iter 34/171 - loss 2.73833009\n",
      "2019-08-29 10:49:13,192 epoch 1 - iter 51/171 - loss 2.11158405\n",
      "2019-08-29 10:49:26,592 epoch 1 - iter 68/171 - loss 1.75650289\n",
      "2019-08-29 10:49:38,843 epoch 1 - iter 85/171 - loss 1.51906617\n",
      "2019-08-29 10:49:51,441 epoch 1 - iter 102/171 - loss 1.35602327\n",
      "2019-08-29 10:50:05,206 epoch 1 - iter 119/171 - loss 1.24081990\n",
      "2019-08-29 10:50:19,295 epoch 1 - iter 136/171 - loss 1.14271496\n",
      "2019-08-29 10:50:32,358 epoch 1 - iter 153/171 - loss 1.05710821\n",
      "2019-08-29 10:50:44,936 epoch 1 - iter 170/171 - loss 0.99263131\n",
      "2019-08-29 10:50:45,167 ----------------------------------------------------------------------------------------------------\n",
      "2019-08-29 10:50:45,168 EPOCH 1 done: loss 0.9926 - lr 0.0010 - bad epochs 0\n",
      "2019-08-29 10:52:47,445 DEV : loss 0.3514890968799591 - score 0.8725\n",
      "2019-08-29 10:52:57,413 TEST : loss 0.3018808960914612 - score 0.9\n",
      "2019-08-29 10:53:04,097 ----------------------------------------------------------------------------------------------------\n",
      "2019-08-29 10:53:05,306 epoch 2 - iter 0/171 - loss 0.30357715\n"
     ]
    },
    {
     "name": "stdout",
     "output_type": "stream",
     "text": [
      "2019-08-29 10:53:19,511 epoch 2 - iter 17/171 - loss 0.36208694\n",
      "2019-08-29 10:53:34,000 epoch 2 - iter 34/171 - loss 0.32396458\n",
      "2019-08-29 10:53:47,311 epoch 2 - iter 51/171 - loss 0.32892783\n",
      "2019-08-29 10:54:00,003 epoch 2 - iter 68/171 - loss 0.33267455\n",
      "2019-08-29 10:54:14,356 epoch 2 - iter 85/171 - loss 0.33102816\n",
      "2019-08-29 10:54:28,643 epoch 2 - iter 102/171 - loss 0.32793201\n",
      "2019-08-29 10:54:42,628 epoch 2 - iter 119/171 - loss 0.32320372\n",
      "2019-08-29 10:54:57,346 epoch 2 - iter 136/171 - loss 0.32026019\n",
      "2019-08-29 10:55:11,541 epoch 2 - iter 153/171 - loss 0.31835228\n",
      "2019-08-29 10:55:24,458 epoch 2 - iter 170/171 - loss 0.31882253\n",
      "2019-08-29 10:55:24,679 ----------------------------------------------------------------------------------------------------\n",
      "2019-08-29 10:55:24,680 EPOCH 2 done: loss 0.3188 - lr 0.0010 - bad epochs 0\n",
      "2019-08-29 10:57:36,554 DEV : loss 0.46687325835227966 - score 0.832\n",
      "2019-08-29 10:57:45,016 TEST : loss 0.46059271693229675 - score 0.83\n",
      "2019-08-29 10:57:45,017 ----------------------------------------------------------------------------------------------------\n",
      "2019-08-29 10:57:46,323 epoch 3 - iter 0/171 - loss 0.63436866\n",
      "2019-08-29 10:57:58,388 epoch 3 - iter 17/171 - loss 0.24012627\n",
      "2019-08-29 10:58:11,192 epoch 3 - iter 34/171 - loss 0.24270802\n",
      "2019-08-29 10:58:25,415 epoch 3 - iter 51/171 - loss 0.22829504\n",
      "2019-08-29 10:58:41,916 epoch 3 - iter 68/171 - loss 0.22978775\n",
      "2019-08-29 10:58:55,277 epoch 3 - iter 85/171 - loss 0.22983482\n",
      "2019-08-29 10:59:08,661 epoch 3 - iter 102/171 - loss 0.23093701\n",
      "2019-08-29 10:59:23,381 epoch 3 - iter 119/171 - loss 0.23111192\n",
      "2019-08-29 10:59:37,748 epoch 3 - iter 136/171 - loss 0.23118681\n",
      "2019-08-29 10:59:51,587 epoch 3 - iter 153/171 - loss 0.23272068\n",
      "2019-08-29 11:00:03,942 epoch 3 - iter 170/171 - loss 0.23016213\n",
      "2019-08-29 11:00:04,170 ----------------------------------------------------------------------------------------------------\n",
      "2019-08-29 11:00:04,171 EPOCH 3 done: loss 0.2302 - lr 0.0010 - bad epochs 1\n",
      "2019-08-29 11:02:07,983 DEV : loss 0.42599210143089294 - score 0.8371\n",
      "2019-08-29 11:02:16,327 TEST : loss 0.37478286027908325 - score 0.866\n",
      "2019-08-29 11:02:16,328 ----------------------------------------------------------------------------------------------------\n",
      "2019-08-29 11:02:17,791 epoch 4 - iter 0/171 - loss 0.46908945\n",
      "2019-08-29 11:02:30,609 epoch 4 - iter 17/171 - loss 0.20266365\n",
      "2019-08-29 11:02:42,980 epoch 4 - iter 34/171 - loss 0.19274052\n",
      "2019-08-29 11:02:55,157 epoch 4 - iter 51/171 - loss 0.18955904\n",
      "2019-08-29 11:03:07,638 epoch 4 - iter 68/171 - loss 0.18987341\n",
      "2019-08-29 11:03:20,832 epoch 4 - iter 85/171 - loss 0.18934484\n",
      "2019-08-29 11:03:35,609 epoch 4 - iter 102/171 - loss 0.18565596\n",
      "2019-08-29 11:03:47,503 epoch 4 - iter 119/171 - loss 0.18811403\n",
      "2019-08-29 11:03:59,839 epoch 4 - iter 136/171 - loss 0.18624542\n",
      "2019-08-29 11:04:11,776 epoch 4 - iter 153/171 - loss 0.18379046\n",
      "2019-08-29 11:04:24,407 epoch 4 - iter 170/171 - loss 0.18104334\n",
      "2019-08-29 11:04:24,648 ----------------------------------------------------------------------------------------------------\n",
      "2019-08-29 11:04:24,649 EPOCH 4 done: loss 0.1810 - lr 0.0010 - bad epochs 2\n",
      "2019-08-29 11:06:28,402 DEV : loss 0.12570995092391968 - score 0.9538\n",
      "2019-08-29 11:06:36,612 TEST : loss 0.1747809499502182 - score 0.944\n",
      "2019-08-29 11:06:49,081 ----------------------------------------------------------------------------------------------------\n",
      "2019-08-29 11:06:49,082 Testing using best model ...\n",
      "2019-08-29 11:06:49,083 loading file flair_resources/qc_en_uiuc/best-model.pt\n",
      "2019-08-29 11:06:57,441 0.944\t0.944\t0.944\n",
      "2019-08-29 11:06:57,442 \n",
      "MICRO_AVG: acc 0.8939 - f1-score 0.944\n",
      "MACRO_AVG: acc 0.8799 - f1-score 0.9349500000000002\n",
      "ABBR       tp: 7 - fp: 0 - fn: 2 - tn: 491 - precision: 1.0000 - recall: 0.7778 - accuracy: 0.7778 - f1-score: 0.8750\n",
      "DESC       tp: 134 - fp: 14 - fn: 4 - tn: 348 - precision: 0.9054 - recall: 0.9710 - accuracy: 0.8816 - f1-score: 0.9371\n",
      "ENTY       tp: 83 - fp: 7 - fn: 11 - tn: 399 - precision: 0.9222 - recall: 0.8830 - accuracy: 0.8218 - f1-score: 0.9022\n",
      "HUM        tp: 62 - fp: 1 - fn: 3 - tn: 434 - precision: 0.9841 - recall: 0.9538 - accuracy: 0.9394 - f1-score: 0.9687\n",
      "LOC        tp: 75 - fp: 0 - fn: 6 - tn: 419 - precision: 1.0000 - recall: 0.9259 - accuracy: 0.9259 - f1-score: 0.9615\n",
      "NUM        tp: 111 - fp: 6 - fn: 2 - tn: 381 - precision: 0.9487 - recall: 0.9823 - accuracy: 0.9328 - f1-score: 0.9652\n",
      "2019-08-29 11:06:57,443 ----------------------------------------------------------------------------------------------------\n",
      "2019-08-29 11:07:05,909 {'ENTY', 'NUM', 'ABBR', 'HUM', 'DESC', 'LOC'}\n",
      "2019-08-29 11:07:05,911 The pre-trained model you are loading is a cased model but you have not set `do_lower_case` to False. We are setting `do_lower_case=False` for you but you may want to check this behavior.\n",
      "2019-08-29 11:07:15,410 ----------------------------------------------------------------------------------------------------\n",
      "2019-08-29 11:07:15,411 Evaluation method: MICRO_F1_SCORE\n",
      "2019-08-29 11:07:15,746 ----------------------------------------------------------------------------------------------------\n",
      "2019-08-29 11:07:16,955 epoch 1 - iter 0/171 - loss 1.64774609\n",
      "2019-08-29 11:07:30,646 epoch 1 - iter 17/171 - loss 4.92269629\n",
      "2019-08-29 11:07:43,494 epoch 1 - iter 34/171 - loss 3.20480160\n",
      "2019-08-29 11:07:55,850 epoch 1 - iter 51/171 - loss 2.42725238\n",
      "2019-08-29 11:08:08,382 epoch 1 - iter 68/171 - loss 2.00806803\n",
      "2019-08-29 11:08:20,559 epoch 1 - iter 85/171 - loss 1.72630356\n",
      "2019-08-29 11:08:32,939 epoch 1 - iter 102/171 - loss 1.54304102\n",
      "2019-08-29 11:08:46,023 epoch 1 - iter 119/171 - loss 1.39927059\n",
      "2019-08-29 11:08:59,196 epoch 1 - iter 136/171 - loss 1.28029471\n",
      "2019-08-29 11:09:11,713 epoch 1 - iter 153/171 - loss 1.18606434\n",
      "2019-08-29 11:09:23,508 epoch 1 - iter 170/171 - loss 1.10411667\n",
      "2019-08-29 11:09:23,768 ----------------------------------------------------------------------------------------------------\n",
      "2019-08-29 11:09:23,769 EPOCH 1 done: loss 1.1041 - lr 0.0010 - bad epochs 0\n",
      "2019-08-29 11:11:27,134 DEV : loss 0.28986987471580505 - score 0.9024\n",
      "2019-08-29 11:11:35,667 TEST : loss 0.23630391061306 - score 0.914\n",
      "2019-08-29 11:11:42,264 ----------------------------------------------------------------------------------------------------\n",
      "2019-08-29 11:11:43,767 epoch 2 - iter 0/171 - loss 0.20460925\n",
      "2019-08-29 11:11:56,271 epoch 2 - iter 17/171 - loss 0.31012990\n",
      "2019-08-29 11:12:08,138 epoch 2 - iter 34/171 - loss 0.31544386\n",
      "2019-08-29 11:12:20,924 epoch 2 - iter 51/171 - loss 0.30319621\n",
      "2019-08-29 11:12:33,438 epoch 2 - iter 68/171 - loss 0.31283583\n",
      "2019-08-29 11:12:46,174 epoch 2 - iter 85/171 - loss 0.32288473\n",
      "2019-08-29 11:12:59,324 epoch 2 - iter 102/171 - loss 0.31683763\n",
      "2019-08-29 11:13:11,747 epoch 2 - iter 119/171 - loss 0.32163965\n",
      "2019-08-29 11:13:24,240 epoch 2 - iter 136/171 - loss 0.32415532\n",
      "2019-08-29 11:13:37,007 epoch 2 - iter 153/171 - loss 0.32164743\n",
      "2019-08-29 11:13:50,630 epoch 2 - iter 170/171 - loss 0.31995039\n",
      "2019-08-29 11:13:50,885 ----------------------------------------------------------------------------------------------------\n",
      "2019-08-29 11:13:50,886 EPOCH 2 done: loss 0.3200 - lr 0.0010 - bad epochs 0\n",
      "2019-08-29 11:15:53,515 DEV : loss 0.25268128514289856 - score 0.9083\n",
      "2019-08-29 11:16:01,990 TEST : loss 0.19364051520824432 - score 0.926\n",
      "2019-08-29 11:16:08,447 ----------------------------------------------------------------------------------------------------\n",
      "2019-08-29 11:16:10,537 epoch 3 - iter 0/171 - loss 0.28181860\n",
      "2019-08-29 11:16:23,053 epoch 3 - iter 17/171 - loss 0.24809359\n",
      "2019-08-29 11:16:35,217 epoch 3 - iter 34/171 - loss 0.24215578\n",
      "2019-08-29 11:16:46,794 epoch 3 - iter 51/171 - loss 0.22843634\n",
      "2019-08-29 11:16:59,512 epoch 3 - iter 68/171 - loss 0.22380059\n",
      "2019-08-29 11:17:12,213 epoch 3 - iter 85/171 - loss 0.22462549\n",
      "2019-08-29 11:17:24,881 epoch 3 - iter 102/171 - loss 0.23199473\n",
      "2019-08-29 11:17:36,948 epoch 3 - iter 119/171 - loss 0.24033155\n",
      "2019-08-29 11:17:50,298 epoch 3 - iter 136/171 - loss 0.24599213\n",
      "2019-08-29 11:18:02,767 epoch 3 - iter 153/171 - loss 0.24324287\n",
      "2019-08-29 11:18:15,422 epoch 3 - iter 170/171 - loss 0.23838284\n"
     ]
    },
    {
     "name": "stdout",
     "output_type": "stream",
     "text": [
      "2019-08-29 11:18:15,672 ----------------------------------------------------------------------------------------------------\n",
      "2019-08-29 11:18:15,673 EPOCH 3 done: loss 0.2384 - lr 0.0010 - bad epochs 0\n",
      "2019-08-29 11:20:18,942 DEV : loss 0.2959625720977783 - score 0.8881\n",
      "2019-08-29 11:20:27,369 TEST : loss 0.24141234159469604 - score 0.908\n",
      "2019-08-29 11:20:27,370 ----------------------------------------------------------------------------------------------------\n",
      "2019-08-29 11:20:28,899 epoch 4 - iter 0/171 - loss 0.23360655\n",
      "2019-08-29 11:20:42,250 epoch 4 - iter 17/171 - loss 0.21072820\n",
      "2019-08-29 11:20:54,938 epoch 4 - iter 34/171 - loss 0.18797867\n",
      "2019-08-29 11:21:08,743 epoch 4 - iter 51/171 - loss 0.18857907\n",
      "2019-08-29 11:21:21,634 epoch 4 - iter 68/171 - loss 0.18263207\n",
      "2019-08-29 11:21:33,883 epoch 4 - iter 85/171 - loss 0.17533590\n",
      "2019-08-29 11:21:46,904 epoch 4 - iter 102/171 - loss 0.17171580\n",
      "2019-08-29 11:21:59,484 epoch 4 - iter 119/171 - loss 0.17915344\n",
      "2019-08-29 11:22:12,458 epoch 4 - iter 136/171 - loss 0.18117424\n",
      "2019-08-29 11:22:24,598 epoch 4 - iter 153/171 - loss 0.18053357\n",
      "2019-08-29 11:22:37,598 epoch 4 - iter 170/171 - loss 0.18383108\n",
      "2019-08-29 11:22:37,866 ----------------------------------------------------------------------------------------------------\n",
      "2019-08-29 11:22:37,867 EPOCH 4 done: loss 0.1838 - lr 0.0010 - bad epochs 1\n",
      "2019-08-29 11:24:40,512 DEV : loss 0.3568846583366394 - score 0.8833\n",
      "2019-08-29 11:24:48,788 TEST : loss 0.6335442066192627 - score 0.818\n",
      "2019-08-29 11:24:54,355 ----------------------------------------------------------------------------------------------------\n",
      "2019-08-29 11:24:54,356 Testing using best model ...\n",
      "2019-08-29 11:24:54,358 loading file flair_resources/qc_en_uiuc/best-model.pt\n",
      "2019-08-29 11:25:02,974 0.926\t0.926\t0.926\n",
      "2019-08-29 11:25:02,976 \n",
      "MICRO_AVG: acc 0.8622 - f1-score 0.926\n",
      "MACRO_AVG: acc 0.8299 - f1-score 0.9044666666666666\n",
      "ABBR       tp: 6 - fp: 0 - fn: 3 - tn: 491 - precision: 1.0000 - recall: 0.6667 - accuracy: 0.6667 - f1-score: 0.8000\n",
      "DESC       tp: 134 - fp: 11 - fn: 4 - tn: 351 - precision: 0.9241 - recall: 0.9710 - accuracy: 0.8993 - f1-score: 0.9470\n",
      "ENTY       tp: 80 - fp: 9 - fn: 14 - tn: 397 - precision: 0.8989 - recall: 0.8511 - accuracy: 0.7767 - f1-score: 0.8743\n",
      "HUM        tp: 58 - fp: 0 - fn: 7 - tn: 435 - precision: 1.0000 - recall: 0.8923 - accuracy: 0.8923 - f1-score: 0.9431\n",
      "LOC        tp: 78 - fp: 13 - fn: 3 - tn: 406 - precision: 0.8571 - recall: 0.9630 - accuracy: 0.8298 - f1-score: 0.9070\n",
      "NUM        tp: 107 - fp: 4 - fn: 6 - tn: 383 - precision: 0.9640 - recall: 0.9469 - accuracy: 0.9145 - f1-score: 0.9554\n",
      "2019-08-29 11:25:02,976 ----------------------------------------------------------------------------------------------------\n",
      "2019-08-29 11:25:11,801 {'ENTY', 'NUM', 'ABBR', 'HUM', 'DESC', 'LOC'}\n",
      "2019-08-29 11:25:11,803 The pre-trained model you are loading is a cased model but you have not set `do_lower_case` to False. We are setting `do_lower_case=False` for you but you may want to check this behavior.\n",
      "2019-08-29 11:25:21,040 ----------------------------------------------------------------------------------------------------\n",
      "2019-08-29 11:25:21,041 Evaluation method: MICRO_F1_SCORE\n",
      "2019-08-29 11:25:21,412 ----------------------------------------------------------------------------------------------------\n",
      "2019-08-29 11:25:22,927 epoch 1 - iter 0/171 - loss 1.69903219\n",
      "2019-08-29 11:25:35,115 epoch 1 - iter 17/171 - loss 5.38726523\n",
      "2019-08-29 11:25:48,737 epoch 1 - iter 34/171 - loss 3.41050513\n",
      "2019-08-29 11:26:02,786 epoch 1 - iter 51/171 - loss 2.57974223\n",
      "2019-08-29 11:26:15,892 epoch 1 - iter 68/171 - loss 2.13286349\n",
      "2019-08-29 11:26:28,456 epoch 1 - iter 85/171 - loss 1.81204260\n",
      "2019-08-29 11:26:40,918 epoch 1 - iter 102/171 - loss 1.58742093\n",
      "2019-08-29 11:26:53,354 epoch 1 - iter 119/171 - loss 1.44026859\n",
      "2019-08-29 11:27:06,530 epoch 1 - iter 136/171 - loss 1.31742772\n",
      "2019-08-29 11:27:19,574 epoch 1 - iter 153/171 - loss 1.22413455\n",
      "2019-08-29 11:27:30,972 epoch 1 - iter 170/171 - loss 1.14122154\n",
      "2019-08-29 11:27:31,258 ----------------------------------------------------------------------------------------------------\n",
      "2019-08-29 11:27:31,259 EPOCH 1 done: loss 1.1412 - lr 0.0010 - bad epochs 0\n",
      "2019-08-29 11:29:34,553 DEV : loss 0.3190171718597412 - score 0.8863\n",
      "2019-08-29 11:29:42,907 TEST : loss 0.3244631588459015 - score 0.878\n",
      "2019-08-29 11:29:48,458 ----------------------------------------------------------------------------------------------------\n",
      "2019-08-29 11:29:50,192 epoch 2 - iter 0/171 - loss 0.35210466\n",
      "2019-08-29 11:30:03,532 epoch 2 - iter 17/171 - loss 0.29739022\n",
      "2019-08-29 11:30:16,161 epoch 2 - iter 34/171 - loss 0.34517110\n",
      "2019-08-29 11:30:28,250 epoch 2 - iter 51/171 - loss 0.33492076\n",
      "2019-08-29 11:30:40,286 epoch 2 - iter 68/171 - loss 0.34280078\n",
      "2019-08-29 11:30:53,294 epoch 2 - iter 85/171 - loss 0.33765885\n",
      "2019-08-29 11:31:05,890 epoch 2 - iter 102/171 - loss 0.32804823\n",
      "2019-08-29 11:31:18,040 epoch 2 - iter 119/171 - loss 0.31875077\n",
      "2019-08-29 11:31:31,073 epoch 2 - iter 136/171 - loss 0.31784461\n",
      "2019-08-29 11:31:43,532 epoch 2 - iter 153/171 - loss 0.32165246\n",
      "2019-08-29 11:31:56,704 epoch 2 - iter 170/171 - loss 0.32804153\n",
      "2019-08-29 11:31:56,980 ----------------------------------------------------------------------------------------------------\n",
      "2019-08-29 11:31:56,981 EPOCH 2 done: loss 0.3280 - lr 0.0010 - bad epochs 0\n",
      "2019-08-29 11:34:05,938 DEV : loss 0.21745510399341583 - score 0.9239\n",
      "2019-08-29 11:34:14,650 TEST : loss 0.22132200002670288 - score 0.932\n",
      "2019-08-29 11:34:20,406 ----------------------------------------------------------------------------------------------------\n",
      "2019-08-29 11:34:21,953 epoch 3 - iter 0/171 - loss 0.26450652\n",
      "2019-08-29 11:34:36,784 epoch 3 - iter 17/171 - loss 0.19072016\n",
      "2019-08-29 11:34:50,297 epoch 3 - iter 34/171 - loss 0.21487345\n",
      "2019-08-29 11:35:04,654 epoch 3 - iter 51/171 - loss 0.19305211\n",
      "2019-08-29 11:35:17,507 epoch 3 - iter 68/171 - loss 0.20676311\n",
      "2019-08-29 11:35:30,399 epoch 3 - iter 85/171 - loss 0.21413068\n",
      "2019-08-29 11:35:44,859 epoch 3 - iter 102/171 - loss 0.22127123\n",
      "2019-08-29 11:36:02,027 epoch 3 - iter 119/171 - loss 0.23327760\n",
      "2019-08-29 11:36:16,128 epoch 3 - iter 136/171 - loss 0.23473626\n",
      "2019-08-29 11:36:31,159 epoch 3 - iter 153/171 - loss 0.23263732\n",
      "2019-08-29 11:36:44,317 epoch 3 - iter 170/171 - loss 0.23073591\n",
      "2019-08-29 11:36:44,596 ----------------------------------------------------------------------------------------------------\n",
      "2019-08-29 11:36:44,597 EPOCH 3 done: loss 0.2307 - lr 0.0010 - bad epochs 0\n",
      "2019-08-29 11:38:49,711 DEV : loss 0.13826434314250946 - score 0.9532\n",
      "2019-08-29 11:38:58,394 TEST : loss 0.17079244554042816 - score 0.946\n",
      "2019-08-29 11:39:05,272 ----------------------------------------------------------------------------------------------------\n",
      "2019-08-29 11:39:06,797 epoch 4 - iter 0/171 - loss 0.16130273\n",
      "2019-08-29 11:39:19,529 epoch 4 - iter 17/171 - loss 0.10067891\n",
      "2019-08-29 11:39:32,175 epoch 4 - iter 34/171 - loss 0.11374923\n",
      "2019-08-29 11:39:47,169 epoch 4 - iter 51/171 - loss 0.11718781\n",
      "2019-08-29 11:40:00,905 epoch 4 - iter 68/171 - loss 0.13235069\n",
      "2019-08-29 11:40:13,517 epoch 4 - iter 85/171 - loss 0.15195974\n",
      "2019-08-29 11:40:26,798 epoch 4 - iter 102/171 - loss 0.15195031\n",
      "2019-08-29 11:40:39,472 epoch 4 - iter 119/171 - loss 0.16112971\n",
      "2019-08-29 11:40:52,375 epoch 4 - iter 136/171 - loss 0.16265717\n",
      "2019-08-29 11:41:04,517 epoch 4 - iter 153/171 - loss 0.16225236\n",
      "2019-08-29 11:41:18,940 epoch 4 - iter 170/171 - loss 0.17741906\n",
      "2019-08-29 11:41:19,203 ----------------------------------------------------------------------------------------------------\n",
      "2019-08-29 11:41:19,205 EPOCH 4 done: loss 0.1774 - lr 0.0010 - bad epochs 0\n",
      "2019-08-29 11:43:27,664 DEV : loss 0.19903850555419922 - score 0.9303\n",
      "2019-08-29 11:43:36,192 TEST : loss 0.3264031708240509 - score 0.882\n",
      "2019-08-29 11:43:41,838 ----------------------------------------------------------------------------------------------------\n",
      "2019-08-29 11:43:41,839 Testing using best model ...\n",
      "2019-08-29 11:43:41,841 loading file flair_resources/qc_en_uiuc/best-model.pt\n",
      "2019-08-29 11:43:50,506 0.946\t0.946\t0.946\n"
     ]
    },
    {
     "name": "stdout",
     "output_type": "stream",
     "text": [
      "2019-08-29 11:43:50,507 \n",
      "MICRO_AVG: acc 0.8975 - f1-score 0.946\n",
      "MACRO_AVG: acc 0.9002 - f1-score 0.9470166666666667\n",
      "ABBR       tp: 9 - fp: 1 - fn: 0 - tn: 490 - precision: 0.9000 - recall: 1.0000 - accuracy: 0.9000 - f1-score: 0.9474\n",
      "DESC       tp: 136 - fp: 14 - fn: 2 - tn: 348 - precision: 0.9067 - recall: 0.9855 - accuracy: 0.8947 - f1-score: 0.9445\n",
      "ENTY       tp: 81 - fp: 4 - fn: 13 - tn: 402 - precision: 0.9529 - recall: 0.8617 - accuracy: 0.8265 - f1-score: 0.9050\n",
      "HUM        tp: 64 - fp: 2 - fn: 1 - tn: 433 - precision: 0.9697 - recall: 0.9846 - accuracy: 0.9552 - f1-score: 0.9771\n",
      "LOC        tp: 76 - fp: 4 - fn: 5 - tn: 415 - precision: 0.9500 - recall: 0.9383 - accuracy: 0.8941 - f1-score: 0.9441\n",
      "NUM        tp: 107 - fp: 2 - fn: 6 - tn: 385 - precision: 0.9817 - recall: 0.9469 - accuracy: 0.9304 - f1-score: 0.9640\n",
      "2019-08-29 11:43:50,507 ----------------------------------------------------------------------------------------------------\n",
      "2019-08-29 11:43:59,075 {'ENTY', 'NUM', 'ABBR', 'HUM', 'DESC', 'LOC'}\n",
      "2019-08-29 11:43:59,078 The pre-trained model you are loading is a cased model but you have not set `do_lower_case` to False. We are setting `do_lower_case=False` for you but you may want to check this behavior.\n",
      "2019-08-29 11:44:08,917 ----------------------------------------------------------------------------------------------------\n",
      "2019-08-29 11:44:08,918 Evaluation method: MICRO_F1_SCORE\n",
      "2019-08-29 11:44:09,292 ----------------------------------------------------------------------------------------------------\n",
      "2019-08-29 11:44:10,773 epoch 1 - iter 0/171 - loss 1.87477565\n",
      "2019-08-29 11:44:24,809 epoch 1 - iter 17/171 - loss 4.79582863\n",
      "2019-08-29 11:44:37,155 epoch 1 - iter 34/171 - loss 3.24515397\n",
      "2019-08-29 11:44:49,668 epoch 1 - iter 51/171 - loss 2.44884813\n",
      "2019-08-29 11:45:03,114 epoch 1 - iter 68/171 - loss 2.01304028\n",
      "2019-08-29 11:45:16,431 epoch 1 - iter 85/171 - loss 1.75064629\n",
      "2019-08-29 11:45:29,712 epoch 1 - iter 102/171 - loss 1.57163590\n",
      "2019-08-29 11:45:43,474 epoch 1 - iter 119/171 - loss 1.42634305\n",
      "2019-08-29 11:45:57,327 epoch 1 - iter 136/171 - loss 1.30644788\n",
      "2019-08-29 11:46:11,172 epoch 1 - iter 153/171 - loss 1.20721913\n",
      "2019-08-29 11:46:24,222 epoch 1 - iter 170/171 - loss 1.12753124\n",
      "2019-08-29 11:46:24,521 ----------------------------------------------------------------------------------------------------\n",
      "2019-08-29 11:46:24,522 EPOCH 1 done: loss 1.1275 - lr 0.0010 - bad epochs 0\n",
      "2019-08-29 11:48:35,086 DEV : loss 0.4723028540611267 - score 0.8397\n",
      "2019-08-29 11:48:43,359 TEST : loss 0.44051358103752136 - score 0.86\n",
      "2019-08-29 11:48:49,459 ----------------------------------------------------------------------------------------------------\n",
      "2019-08-29 11:48:50,875 epoch 2 - iter 0/171 - loss 0.34991723\n",
      "2019-08-29 11:49:05,745 epoch 2 - iter 17/171 - loss 0.35940677\n",
      "2019-08-29 11:49:21,419 epoch 2 - iter 34/171 - loss 0.39467908\n",
      "2019-08-29 11:49:35,690 epoch 2 - iter 51/171 - loss 0.38810072\n",
      "2019-08-29 11:49:48,378 epoch 2 - iter 68/171 - loss 0.38008210\n",
      "2019-08-29 11:50:01,047 epoch 2 - iter 85/171 - loss 0.37404312\n",
      "2019-08-29 11:50:13,678 epoch 2 - iter 102/171 - loss 0.36417165\n",
      "2019-08-29 11:50:26,016 epoch 2 - iter 119/171 - loss 0.36661157\n",
      "2019-08-29 11:50:38,494 epoch 2 - iter 136/171 - loss 0.34907781\n",
      "2019-08-29 11:50:51,166 epoch 2 - iter 153/171 - loss 0.34324997\n",
      "2019-08-29 11:51:03,949 epoch 2 - iter 170/171 - loss 0.34186031\n",
      "2019-08-29 11:51:04,249 ----------------------------------------------------------------------------------------------------\n",
      "2019-08-29 11:51:04,250 EPOCH 2 done: loss 0.3419 - lr 0.0010 - bad epochs 0\n",
      "2019-08-29 11:53:08,172 DEV : loss 0.8563785552978516 - score 0.7561\n",
      "2019-08-29 11:53:18,116 TEST : loss 0.6637807488441467 - score 0.782\n",
      "2019-08-29 11:53:18,137 ----------------------------------------------------------------------------------------------------\n",
      "2019-08-29 11:53:20,039 epoch 3 - iter 0/171 - loss 0.97740287\n",
      "2019-08-29 11:53:34,546 epoch 3 - iter 17/171 - loss 0.34143572\n",
      "2019-08-29 11:53:47,605 epoch 3 - iter 34/171 - loss 0.27110602\n",
      "2019-08-29 11:54:01,824 epoch 3 - iter 51/171 - loss 0.26614095\n",
      "2019-08-29 11:54:16,091 epoch 3 - iter 68/171 - loss 0.27529314\n",
      "2019-08-29 11:54:28,770 epoch 3 - iter 85/171 - loss 0.26783852\n",
      "2019-08-29 11:54:42,548 epoch 3 - iter 102/171 - loss 0.25739001\n",
      "2019-08-29 11:54:56,398 epoch 3 - iter 119/171 - loss 0.25931542\n",
      "2019-08-29 11:55:09,928 epoch 3 - iter 136/171 - loss 0.25594122\n",
      "2019-08-29 11:55:23,348 epoch 3 - iter 153/171 - loss 0.25446969\n",
      "2019-08-29 11:55:36,169 epoch 3 - iter 170/171 - loss 0.25144524\n",
      "2019-08-29 11:55:36,498 ----------------------------------------------------------------------------------------------------\n",
      "2019-08-29 11:55:36,498 EPOCH 3 done: loss 0.2514 - lr 0.0010 - bad epochs 1\n",
      "2019-08-29 11:57:40,026 DEV : loss 0.171078160405159 - score 0.9406\n",
      "2019-08-29 11:57:48,630 TEST : loss 0.1877887099981308 - score 0.94\n",
      "2019-08-29 11:57:54,363 ----------------------------------------------------------------------------------------------------\n",
      "2019-08-29 11:57:56,060 epoch 4 - iter 0/171 - loss 0.40090606\n",
      "2019-08-29 11:58:08,964 epoch 4 - iter 17/171 - loss 0.19137043\n",
      "2019-08-29 11:58:21,580 epoch 4 - iter 34/171 - loss 0.20166145\n",
      "2019-08-29 11:58:34,143 epoch 4 - iter 51/171 - loss 0.19798106\n",
      "2019-08-29 11:58:47,834 epoch 4 - iter 68/171 - loss 0.20218252\n",
      "2019-08-29 11:59:03,189 epoch 4 - iter 85/171 - loss 0.19410570\n",
      "2019-08-29 11:59:18,358 epoch 4 - iter 102/171 - loss 0.19436528\n",
      "2019-08-29 11:59:30,866 epoch 4 - iter 119/171 - loss 0.19350835\n",
      "2019-08-29 11:59:43,733 epoch 4 - iter 136/171 - loss 0.18971619\n",
      "2019-08-29 11:59:56,867 epoch 4 - iter 153/171 - loss 0.19852110\n",
      "2019-08-29 12:00:08,979 epoch 4 - iter 170/171 - loss 0.19749723\n",
      "2019-08-29 12:00:09,265 ----------------------------------------------------------------------------------------------------\n",
      "2019-08-29 12:00:09,266 EPOCH 4 done: loss 0.1975 - lr 0.0010 - bad epochs 0\n",
      "2019-08-29 12:02:20,602 DEV : loss 0.14842115342617035 - score 0.9468\n",
      "2019-08-29 12:02:29,971 TEST : loss 0.21637918055057526 - score 0.928\n",
      "2019-08-29 12:02:42,886 ----------------------------------------------------------------------------------------------------\n",
      "2019-08-29 12:02:42,887 Testing using best model ...\n",
      "2019-08-29 12:02:42,889 loading file flair_resources/qc_en_uiuc/best-model.pt\n",
      "2019-08-29 12:02:52,262 0.928\t0.928\t0.928\n",
      "2019-08-29 12:02:52,264 \n",
      "MICRO_AVG: acc 0.8657 - f1-score 0.928\n",
      "MACRO_AVG: acc 0.8498 - f1-score 0.9173333333333334\n",
      "ABBR       tp: 7 - fp: 0 - fn: 2 - tn: 491 - precision: 1.0000 - recall: 0.7778 - accuracy: 0.7778 - f1-score: 0.8750\n",
      "DESC       tp: 135 - fp: 16 - fn: 3 - tn: 346 - precision: 0.8940 - recall: 0.9783 - accuracy: 0.8766 - f1-score: 0.9343\n",
      "ENTY       tp: 73 - fp: 4 - fn: 21 - tn: 402 - precision: 0.9481 - recall: 0.7766 - accuracy: 0.7449 - f1-score: 0.8538\n",
      "HUM        tp: 64 - fp: 9 - fn: 1 - tn: 426 - precision: 0.8767 - recall: 0.9846 - accuracy: 0.8649 - f1-score: 0.9275\n",
      "LOC        tp: 77 - fp: 5 - fn: 4 - tn: 414 - precision: 0.9390 - recall: 0.9506 - accuracy: 0.8953 - f1-score: 0.9448\n",
      "NUM        tp: 108 - fp: 2 - fn: 5 - tn: 385 - precision: 0.9818 - recall: 0.9558 - accuracy: 0.9391 - f1-score: 0.9686\n",
      "2019-08-29 12:02:52,264 ----------------------------------------------------------------------------------------------------\n"
     ]
    }
   ],
   "source": [
    "from typing import List\n",
    "from flair_cnn_doc_embedding import DocumentCNNEmbeddings\n",
    "from torch.utils.data import Dataset\n",
    "import torch\n",
    "from flair.data import Sentence, Corpus\n",
    "from flair.embeddings import DocumentRNNEmbeddings, BertEmbeddings\n",
    "from flair.models import TextClassifier\n",
    "from flair.trainers import ModelTrainer\n",
    "import time\n",
    "import datetime\n",
    "from sklearn.metrics import accuracy_score, precision_score, recall_score, f1_score, matthews_corrcoef, confusion_matrix\n",
    "\n",
    "\n",
    "def build_flair_sentences(text_label_tuples):\n",
    "    sentences = [Sentence(text, labels=[label], use_tokenizer=True) for text,label in text_label_tuples]\n",
    "    return [s for s in sentences if len(s.tokens) > 0]\n",
    "\n",
    "def get_labels(sentences:List[Sentence]):\n",
    "    return [[l.value for l in s.labels] for s in sentences]\n",
    "\n",
    "\n",
    "def calc_metrics_with_sklearn(clf:TextClassifier,sentences:List[Sentence],train_size=0,\n",
    "                              run=0,train_time=0,metric_average='macro',\n",
    "                              classes=['ABBR', 'DESC', 'ENTY', 'HUM', 'LOC', 'NUM']):\n",
    "    targets = get_labels(sentences)\n",
    "    start_time = time.time()\n",
    "    clf.predict(sentences)\n",
    "    test_time = time.time() - start_time\n",
    "    prediction = get_labels(sentences)\n",
    "    p = prediction\n",
    "    t = targets\n",
    "    data = {'datetime': datetime.datetime.now(),\n",
    "            'model': 'cnn_bert',\n",
    "            'accuracy': accuracy_score(prediction, targets),\n",
    "            'precision': precision_score(prediction, targets, average=metric_average),\n",
    "            'recall': recall_score(prediction, targets, average=metric_average),\n",
    "            'f1': f1_score(prediction, targets, average=metric_average),\n",
    "            'mcc': matthews_corrcoef(prediction, targets),\n",
    "            'confusion': confusion_matrix(prediction, targets, labels=classes),\n",
    "            'run': run,\n",
    "            'train_size': size_train,\n",
    "            'execution_time': train_time,\n",
    "            'test_time': test_time}\n",
    "          \n",
    "    #report = metrics.classification_report(y_true=targets, y_pred=prediction, digits=3, output_dict=True)\n",
    "    return data\n",
    "\n",
    "\n",
    "for language in ['en']: # , 'es', 'pt'\n",
    "    results = pd.DataFrame()\n",
    "    \n",
    "    save = 'results/UIUC_cnn_bert_'+language+'.csv'\n",
    "    for size_train in [5500]: # 1000, 2000, 3000, 4000, \n",
    "        for run in range(1,6):\n",
    "            dataset_train, dataset_test = load_uiuc(language)\n",
    "            if size_train < 5500:\n",
    "                dataset_train = dataset_train[:size_train]\n",
    "\n",
    "            sentences_train:Dataset = build_flair_sentences([(text, label) for text, label in zip(dataset_train['question'], dataset_train['class'])])\n",
    "            sentences_dev:Dataset = sentences_train\n",
    "            sentences_test:Dataset = build_flair_sentences([(text, label) for text, label in zip(dataset_test['question'], dataset_test['class'])])\n",
    "\n",
    "            corpus:Corpus = Corpus(sentences_train, sentences_dev, sentences_test)\n",
    "            label_dict = corpus.make_label_dictionary()\n",
    "            word_embeddings = [\n",
    "                # WordEmbeddings('glove'),\n",
    "                BertEmbeddings('bert-base-multilingual-cased', layers='-1')\n",
    "            ]\n",
    "            document_embeddings = DocumentCNNEmbeddings(word_embeddings,\n",
    "                                                        dropout=0.0,\n",
    "                                                        hidden_size=64,\n",
    "                                                        )\n",
    "\n",
    "            clf = TextClassifier(document_embeddings, label_dictionary=label_dict, multi_label=False)\n",
    "            trainer = ModelTrainer(clf, corpus,torch.optim.RMSprop)\n",
    "            base_path = 'flair_resources/qc_en_uiuc'\n",
    "            start_time = time.time()\n",
    "            trainer.train(base_path,\n",
    "                          learning_rate=0.001,\n",
    "                          mini_batch_size=32,\n",
    "                          anneal_factor=0.5,\n",
    "                          patience=2,\n",
    "                          max_epochs=4)\n",
    "            train_time = time.time() - start_time\n",
    "            data = calc_metrics_with_sklearn(clf, sentences_test, train_size=size_train, train_time=train_time, run=run)\n",
    "            results = results.append([data])\n",
    "            results.to_csv(save)"
   ]
  },
  {
   "cell_type": "markdown",
   "metadata": {},
   "source": [
    "## Run UIUC Benchmark - Cross-validation"
   ]
  },
  {
   "cell_type": "markdown",
   "metadata": {},
   "source": [
    "Different classifier models are tested with different dependency levels of external linguistic resources (Low, Medium and High)"
   ]
  },
  {
   "cell_type": "markdown",
   "metadata": {},
   "source": [
    "#### SVM + TF-IDF"
   ]
  },
  {
   "cell_type": "code",
   "execution_count": 3,
   "metadata": {
    "scrolled": true
   },
   "outputs": [
    {
     "name": "stdout",
     "output_type": "stream",
     "text": [
      "\n",
      "\n",
      "Language:  en\n",
      "\n",
      "1000|..........\n",
      "2000|..........\n",
      "3000|..........\n",
      "4000|..........\n",
      "5500|..........\n",
      "Run time benchmark: 8.106821775436401\n",
      "\n",
      "\n",
      "Language:  es\n",
      "\n",
      "1000|..........\n",
      "2000|..........\n",
      "3000|..........\n",
      "4000|..........\n",
      "5500|..........\n",
      "Run time benchmark: 9.061235904693604\n",
      "\n",
      "\n",
      "Language:  pt\n",
      "\n",
      "1000|..........\n",
      "2000|..........\n",
      "3000|..........\n",
      "4000|..........\n",
      "5500|........"
     ]
    },
    {
     "name": "stderr",
     "output_type": "stream",
     "text": [
      "/home/eduardo/.virtualenvs/qa/lib/python3.6/site-packages/sklearn/metrics/classification.py:1145: UndefinedMetricWarning: Recall is ill-defined and being set to 0.0 in labels with no true samples.\n",
      "  'recall', 'true', average, warn_for)\n",
      "/home/eduardo/.virtualenvs/qa/lib/python3.6/site-packages/sklearn/metrics/classification.py:1145: UndefinedMetricWarning: F-score is ill-defined and being set to 0.0 in labels with no true samples.\n",
      "  'recall', 'true', average, warn_for)\n"
     ]
    },
    {
     "name": "stdout",
     "output_type": "stream",
     "text": [
      "..\n",
      "Run time benchmark: 8.001790523529053\n"
     ]
    }
   ],
   "source": [
    "for language in ['en', 'es', 'pt']:\n",
    "    print('\\n\\nLanguage: ', language)\n",
    "    dataset_train, dataset_test = load_uiuc(language)\n",
    "    dataset = pd.concat([dataset_train, dataset_test])\n",
    "    create_feature('tfidf', dataset, dataset, max_features=2000)\n",
    "    \n",
    "    model = {'name': 'svm', 'model': svm_linear}\n",
    "    \n",
    "    tfidf = np.array([list(r) for r in dataset['tfidf'].values])\n",
    "    tfidf = normalize(tfidf, norm='max')\n",
    "    \n",
    "    X = np.array([list(x) for x in dataset['tfidf'].values])\n",
    "    y = dataset['class'].values\n",
    "    \n",
    "    \n",
    "    # run_benchmark_cv(model, X, y, [50, 100] + list(range(500, 5501, 500)),\n",
    "    run_benchmark_cv(model, X, y, [1000, 2000, 3000, 4000, 5500],\n",
    "                     save='results/UIUC_cv_svm_tfidf_' + language + '.csv')"
   ]
  },
  {
   "cell_type": "markdown",
   "metadata": {},
   "source": [
    "#### SVM + TF-IDF + WB"
   ]
  },
  {
   "cell_type": "code",
   "execution_count": 4,
   "metadata": {
    "scrolled": true
   },
   "outputs": [
    {
     "name": "stdout",
     "output_type": "stream",
     "text": [
      "\n",
      "\n",
      "Language:  en\n",
      "\n",
      "1000|..........\n",
      "2000|."
     ]
    },
    {
     "name": "stderr",
     "output_type": "stream",
     "text": [
      "/home/eduardo/.virtualenvs/qa/lib/python3.6/site-packages/sklearn/svm/base.py:931: ConvergenceWarning: Liblinear failed to converge, increase the number of iterations.\n",
      "  \"the number of iterations.\", ConvergenceWarning)\n"
     ]
    },
    {
     "name": "stdout",
     "output_type": "stream",
     "text": [
      ".........\n",
      "3000|."
     ]
    },
    {
     "name": "stderr",
     "output_type": "stream",
     "text": [
      "/home/eduardo/.virtualenvs/qa/lib/python3.6/site-packages/sklearn/svm/base.py:931: ConvergenceWarning: Liblinear failed to converge, increase the number of iterations.\n",
      "  \"the number of iterations.\", ConvergenceWarning)\n"
     ]
    },
    {
     "name": "stdout",
     "output_type": "stream",
     "text": [
      "..."
     ]
    },
    {
     "name": "stderr",
     "output_type": "stream",
     "text": [
      "/home/eduardo/.virtualenvs/qa/lib/python3.6/site-packages/sklearn/svm/base.py:931: ConvergenceWarning: Liblinear failed to converge, increase the number of iterations.\n",
      "  \"the number of iterations.\", ConvergenceWarning)\n"
     ]
    },
    {
     "name": "stdout",
     "output_type": "stream",
     "text": [
      "."
     ]
    },
    {
     "name": "stderr",
     "output_type": "stream",
     "text": [
      "/home/eduardo/.virtualenvs/qa/lib/python3.6/site-packages/sklearn/svm/base.py:931: ConvergenceWarning: Liblinear failed to converge, increase the number of iterations.\n",
      "  \"the number of iterations.\", ConvergenceWarning)\n"
     ]
    },
    {
     "name": "stdout",
     "output_type": "stream",
     "text": [
      "."
     ]
    },
    {
     "name": "stderr",
     "output_type": "stream",
     "text": [
      "/home/eduardo/.virtualenvs/qa/lib/python3.6/site-packages/sklearn/svm/base.py:931: ConvergenceWarning: Liblinear failed to converge, increase the number of iterations.\n",
      "  \"the number of iterations.\", ConvergenceWarning)\n"
     ]
    },
    {
     "name": "stdout",
     "output_type": "stream",
     "text": [
      "..."
     ]
    },
    {
     "name": "stderr",
     "output_type": "stream",
     "text": [
      "/home/eduardo/.virtualenvs/qa/lib/python3.6/site-packages/sklearn/svm/base.py:931: ConvergenceWarning: Liblinear failed to converge, increase the number of iterations.\n",
      "  \"the number of iterations.\", ConvergenceWarning)\n"
     ]
    },
    {
     "name": "stdout",
     "output_type": "stream",
     "text": [
      ".\n",
      "4000|."
     ]
    },
    {
     "name": "stderr",
     "output_type": "stream",
     "text": [
      "/home/eduardo/.virtualenvs/qa/lib/python3.6/site-packages/sklearn/svm/base.py:931: ConvergenceWarning: Liblinear failed to converge, increase the number of iterations.\n",
      "  \"the number of iterations.\", ConvergenceWarning)\n"
     ]
    },
    {
     "name": "stdout",
     "output_type": "stream",
     "text": [
      "."
     ]
    },
    {
     "name": "stderr",
     "output_type": "stream",
     "text": [
      "/home/eduardo/.virtualenvs/qa/lib/python3.6/site-packages/sklearn/svm/base.py:931: ConvergenceWarning: Liblinear failed to converge, increase the number of iterations.\n",
      "  \"the number of iterations.\", ConvergenceWarning)\n"
     ]
    },
    {
     "name": "stdout",
     "output_type": "stream",
     "text": [
      "."
     ]
    },
    {
     "name": "stderr",
     "output_type": "stream",
     "text": [
      "/home/eduardo/.virtualenvs/qa/lib/python3.6/site-packages/sklearn/svm/base.py:931: ConvergenceWarning: Liblinear failed to converge, increase the number of iterations.\n",
      "  \"the number of iterations.\", ConvergenceWarning)\n"
     ]
    },
    {
     "name": "stdout",
     "output_type": "stream",
     "text": [
      ".."
     ]
    },
    {
     "name": "stderr",
     "output_type": "stream",
     "text": [
      "/home/eduardo/.virtualenvs/qa/lib/python3.6/site-packages/sklearn/svm/base.py:931: ConvergenceWarning: Liblinear failed to converge, increase the number of iterations.\n",
      "  \"the number of iterations.\", ConvergenceWarning)\n"
     ]
    },
    {
     "name": "stdout",
     "output_type": "stream",
     "text": [
      "."
     ]
    },
    {
     "name": "stderr",
     "output_type": "stream",
     "text": [
      "/home/eduardo/.virtualenvs/qa/lib/python3.6/site-packages/sklearn/svm/base.py:931: ConvergenceWarning: Liblinear failed to converge, increase the number of iterations.\n",
      "  \"the number of iterations.\", ConvergenceWarning)\n"
     ]
    },
    {
     "name": "stdout",
     "output_type": "stream",
     "text": [
      "."
     ]
    },
    {
     "name": "stderr",
     "output_type": "stream",
     "text": [
      "/home/eduardo/.virtualenvs/qa/lib/python3.6/site-packages/sklearn/svm/base.py:931: ConvergenceWarning: Liblinear failed to converge, increase the number of iterations.\n",
      "  \"the number of iterations.\", ConvergenceWarning)\n"
     ]
    },
    {
     "name": "stdout",
     "output_type": "stream",
     "text": [
      "."
     ]
    },
    {
     "name": "stderr",
     "output_type": "stream",
     "text": [
      "/home/eduardo/.virtualenvs/qa/lib/python3.6/site-packages/sklearn/svm/base.py:931: ConvergenceWarning: Liblinear failed to converge, increase the number of iterations.\n",
      "  \"the number of iterations.\", ConvergenceWarning)\n"
     ]
    },
    {
     "name": "stdout",
     "output_type": "stream",
     "text": [
      "."
     ]
    },
    {
     "name": "stderr",
     "output_type": "stream",
     "text": [
      "/home/eduardo/.virtualenvs/qa/lib/python3.6/site-packages/sklearn/svm/base.py:931: ConvergenceWarning: Liblinear failed to converge, increase the number of iterations.\n",
      "  \"the number of iterations.\", ConvergenceWarning)\n"
     ]
    },
    {
     "name": "stdout",
     "output_type": "stream",
     "text": [
      "."
     ]
    },
    {
     "name": "stderr",
     "output_type": "stream",
     "text": [
      "/home/eduardo/.virtualenvs/qa/lib/python3.6/site-packages/sklearn/svm/base.py:931: ConvergenceWarning: Liblinear failed to converge, increase the number of iterations.\n",
      "  \"the number of iterations.\", ConvergenceWarning)\n"
     ]
    },
    {
     "name": "stdout",
     "output_type": "stream",
     "text": [
      "\n",
      "5500|.."
     ]
    },
    {
     "name": "stderr",
     "output_type": "stream",
     "text": [
      "/home/eduardo/.virtualenvs/qa/lib/python3.6/site-packages/sklearn/svm/base.py:931: ConvergenceWarning: Liblinear failed to converge, increase the number of iterations.\n",
      "  \"the number of iterations.\", ConvergenceWarning)\n"
     ]
    },
    {
     "name": "stdout",
     "output_type": "stream",
     "text": [
      "."
     ]
    },
    {
     "name": "stderr",
     "output_type": "stream",
     "text": [
      "/home/eduardo/.virtualenvs/qa/lib/python3.6/site-packages/sklearn/svm/base.py:931: ConvergenceWarning: Liblinear failed to converge, increase the number of iterations.\n",
      "  \"the number of iterations.\", ConvergenceWarning)\n"
     ]
    },
    {
     "name": "stdout",
     "output_type": "stream",
     "text": [
      "."
     ]
    },
    {
     "name": "stderr",
     "output_type": "stream",
     "text": [
      "/home/eduardo/.virtualenvs/qa/lib/python3.6/site-packages/sklearn/svm/base.py:931: ConvergenceWarning: Liblinear failed to converge, increase the number of iterations.\n",
      "  \"the number of iterations.\", ConvergenceWarning)\n"
     ]
    },
    {
     "name": "stdout",
     "output_type": "stream",
     "text": [
      ".."
     ]
    },
    {
     "name": "stderr",
     "output_type": "stream",
     "text": [
      "/home/eduardo/.virtualenvs/qa/lib/python3.6/site-packages/sklearn/svm/base.py:931: ConvergenceWarning: Liblinear failed to converge, increase the number of iterations.\n",
      "  \"the number of iterations.\", ConvergenceWarning)\n"
     ]
    },
    {
     "name": "stdout",
     "output_type": "stream",
     "text": [
      "."
     ]
    },
    {
     "name": "stderr",
     "output_type": "stream",
     "text": [
      "/home/eduardo/.virtualenvs/qa/lib/python3.6/site-packages/sklearn/svm/base.py:931: ConvergenceWarning: Liblinear failed to converge, increase the number of iterations.\n",
      "  \"the number of iterations.\", ConvergenceWarning)\n"
     ]
    },
    {
     "name": "stdout",
     "output_type": "stream",
     "text": [
      "."
     ]
    },
    {
     "name": "stderr",
     "output_type": "stream",
     "text": [
      "/home/eduardo/.virtualenvs/qa/lib/python3.6/site-packages/sklearn/svm/base.py:931: ConvergenceWarning: Liblinear failed to converge, increase the number of iterations.\n",
      "  \"the number of iterations.\", ConvergenceWarning)\n"
     ]
    },
    {
     "name": "stdout",
     "output_type": "stream",
     "text": [
      ".."
     ]
    },
    {
     "name": "stderr",
     "output_type": "stream",
     "text": [
      "/home/eduardo/.virtualenvs/qa/lib/python3.6/site-packages/sklearn/svm/base.py:931: ConvergenceWarning: Liblinear failed to converge, increase the number of iterations.\n",
      "  \"the number of iterations.\", ConvergenceWarning)\n"
     ]
    },
    {
     "name": "stdout",
     "output_type": "stream",
     "text": [
      "\n",
      "Run time benchmark: 125.29054236412048\n",
      "\n",
      "\n",
      "Language:  es\n",
      "\n",
      "1000|..........\n",
      "2000|..."
     ]
    },
    {
     "name": "stderr",
     "output_type": "stream",
     "text": [
      "/home/eduardo/.virtualenvs/qa/lib/python3.6/site-packages/sklearn/svm/base.py:931: ConvergenceWarning: Liblinear failed to converge, increase the number of iterations.\n",
      "  \"the number of iterations.\", ConvergenceWarning)\n"
     ]
    },
    {
     "name": "stdout",
     "output_type": "stream",
     "text": [
      ".......\n",
      "3000|."
     ]
    },
    {
     "name": "stderr",
     "output_type": "stream",
     "text": [
      "/home/eduardo/.virtualenvs/qa/lib/python3.6/site-packages/sklearn/svm/base.py:931: ConvergenceWarning: Liblinear failed to converge, increase the number of iterations.\n",
      "  \"the number of iterations.\", ConvergenceWarning)\n"
     ]
    },
    {
     "name": "stdout",
     "output_type": "stream",
     "text": [
      "."
     ]
    },
    {
     "name": "stderr",
     "output_type": "stream",
     "text": [
      "/home/eduardo/.virtualenvs/qa/lib/python3.6/site-packages/sklearn/svm/base.py:931: ConvergenceWarning: Liblinear failed to converge, increase the number of iterations.\n",
      "  \"the number of iterations.\", ConvergenceWarning)\n"
     ]
    },
    {
     "name": "stdout",
     "output_type": "stream",
     "text": [
      ".."
     ]
    },
    {
     "name": "stderr",
     "output_type": "stream",
     "text": [
      "/home/eduardo/.virtualenvs/qa/lib/python3.6/site-packages/sklearn/svm/base.py:931: ConvergenceWarning: Liblinear failed to converge, increase the number of iterations.\n",
      "  \"the number of iterations.\", ConvergenceWarning)\n"
     ]
    },
    {
     "name": "stdout",
     "output_type": "stream",
     "text": [
      ".."
     ]
    },
    {
     "name": "stderr",
     "output_type": "stream",
     "text": [
      "/home/eduardo/.virtualenvs/qa/lib/python3.6/site-packages/sklearn/svm/base.py:931: ConvergenceWarning: Liblinear failed to converge, increase the number of iterations.\n",
      "  \"the number of iterations.\", ConvergenceWarning)\n"
     ]
    },
    {
     "name": "stdout",
     "output_type": "stream",
     "text": [
      "."
     ]
    },
    {
     "name": "stderr",
     "output_type": "stream",
     "text": [
      "/home/eduardo/.virtualenvs/qa/lib/python3.6/site-packages/sklearn/svm/base.py:931: ConvergenceWarning: Liblinear failed to converge, increase the number of iterations.\n",
      "  \"the number of iterations.\", ConvergenceWarning)\n"
     ]
    },
    {
     "name": "stdout",
     "output_type": "stream",
     "text": [
      "."
     ]
    },
    {
     "name": "stderr",
     "output_type": "stream",
     "text": [
      "/home/eduardo/.virtualenvs/qa/lib/python3.6/site-packages/sklearn/svm/base.py:931: ConvergenceWarning: Liblinear failed to converge, increase the number of iterations.\n",
      "  \"the number of iterations.\", ConvergenceWarning)\n"
     ]
    },
    {
     "name": "stdout",
     "output_type": "stream",
     "text": [
      "."
     ]
    },
    {
     "name": "stderr",
     "output_type": "stream",
     "text": [
      "/home/eduardo/.virtualenvs/qa/lib/python3.6/site-packages/sklearn/svm/base.py:931: ConvergenceWarning: Liblinear failed to converge, increase the number of iterations.\n",
      "  \"the number of iterations.\", ConvergenceWarning)\n"
     ]
    },
    {
     "name": "stdout",
     "output_type": "stream",
     "text": [
      "."
     ]
    },
    {
     "name": "stderr",
     "output_type": "stream",
     "text": [
      "/home/eduardo/.virtualenvs/qa/lib/python3.6/site-packages/sklearn/svm/base.py:931: ConvergenceWarning: Liblinear failed to converge, increase the number of iterations.\n",
      "  \"the number of iterations.\", ConvergenceWarning)\n"
     ]
    },
    {
     "name": "stdout",
     "output_type": "stream",
     "text": [
      "\n",
      "4000|."
     ]
    },
    {
     "name": "stderr",
     "output_type": "stream",
     "text": [
      "/home/eduardo/.virtualenvs/qa/lib/python3.6/site-packages/sklearn/svm/base.py:931: ConvergenceWarning: Liblinear failed to converge, increase the number of iterations.\n",
      "  \"the number of iterations.\", ConvergenceWarning)\n"
     ]
    },
    {
     "name": "stdout",
     "output_type": "stream",
     "text": [
      "."
     ]
    },
    {
     "name": "stderr",
     "output_type": "stream",
     "text": [
      "/home/eduardo/.virtualenvs/qa/lib/python3.6/site-packages/sklearn/svm/base.py:931: ConvergenceWarning: Liblinear failed to converge, increase the number of iterations.\n",
      "  \"the number of iterations.\", ConvergenceWarning)\n"
     ]
    },
    {
     "name": "stdout",
     "output_type": "stream",
     "text": [
      "."
     ]
    },
    {
     "name": "stderr",
     "output_type": "stream",
     "text": [
      "/home/eduardo/.virtualenvs/qa/lib/python3.6/site-packages/sklearn/svm/base.py:931: ConvergenceWarning: Liblinear failed to converge, increase the number of iterations.\n",
      "  \"the number of iterations.\", ConvergenceWarning)\n"
     ]
    },
    {
     "name": "stdout",
     "output_type": "stream",
     "text": [
      "."
     ]
    },
    {
     "name": "stderr",
     "output_type": "stream",
     "text": [
      "/home/eduardo/.virtualenvs/qa/lib/python3.6/site-packages/sklearn/svm/base.py:931: ConvergenceWarning: Liblinear failed to converge, increase the number of iterations.\n",
      "  \"the number of iterations.\", ConvergenceWarning)\n"
     ]
    },
    {
     "name": "stdout",
     "output_type": "stream",
     "text": [
      "."
     ]
    },
    {
     "name": "stderr",
     "output_type": "stream",
     "text": [
      "/home/eduardo/.virtualenvs/qa/lib/python3.6/site-packages/sklearn/svm/base.py:931: ConvergenceWarning: Liblinear failed to converge, increase the number of iterations.\n",
      "  \"the number of iterations.\", ConvergenceWarning)\n"
     ]
    },
    {
     "name": "stdout",
     "output_type": "stream",
     "text": [
      "."
     ]
    },
    {
     "name": "stderr",
     "output_type": "stream",
     "text": [
      "/home/eduardo/.virtualenvs/qa/lib/python3.6/site-packages/sklearn/svm/base.py:931: ConvergenceWarning: Liblinear failed to converge, increase the number of iterations.\n",
      "  \"the number of iterations.\", ConvergenceWarning)\n"
     ]
    },
    {
     "name": "stdout",
     "output_type": "stream",
     "text": [
      "."
     ]
    },
    {
     "name": "stderr",
     "output_type": "stream",
     "text": [
      "/home/eduardo/.virtualenvs/qa/lib/python3.6/site-packages/sklearn/svm/base.py:931: ConvergenceWarning: Liblinear failed to converge, increase the number of iterations.\n",
      "  \"the number of iterations.\", ConvergenceWarning)\n"
     ]
    },
    {
     "name": "stdout",
     "output_type": "stream",
     "text": [
      "."
     ]
    },
    {
     "name": "stderr",
     "output_type": "stream",
     "text": [
      "/home/eduardo/.virtualenvs/qa/lib/python3.6/site-packages/sklearn/svm/base.py:931: ConvergenceWarning: Liblinear failed to converge, increase the number of iterations.\n",
      "  \"the number of iterations.\", ConvergenceWarning)\n"
     ]
    },
    {
     "name": "stdout",
     "output_type": "stream",
     "text": [
      "."
     ]
    },
    {
     "name": "stderr",
     "output_type": "stream",
     "text": [
      "/home/eduardo/.virtualenvs/qa/lib/python3.6/site-packages/sklearn/svm/base.py:931: ConvergenceWarning: Liblinear failed to converge, increase the number of iterations.\n",
      "  \"the number of iterations.\", ConvergenceWarning)\n"
     ]
    },
    {
     "name": "stdout",
     "output_type": "stream",
     "text": [
      "."
     ]
    },
    {
     "name": "stderr",
     "output_type": "stream",
     "text": [
      "/home/eduardo/.virtualenvs/qa/lib/python3.6/site-packages/sklearn/svm/base.py:931: ConvergenceWarning: Liblinear failed to converge, increase the number of iterations.\n",
      "  \"the number of iterations.\", ConvergenceWarning)\n"
     ]
    },
    {
     "name": "stdout",
     "output_type": "stream",
     "text": [
      "\n",
      "5500|."
     ]
    },
    {
     "name": "stderr",
     "output_type": "stream",
     "text": [
      "/home/eduardo/.virtualenvs/qa/lib/python3.6/site-packages/sklearn/svm/base.py:931: ConvergenceWarning: Liblinear failed to converge, increase the number of iterations.\n",
      "  \"the number of iterations.\", ConvergenceWarning)\n"
     ]
    },
    {
     "name": "stdout",
     "output_type": "stream",
     "text": [
      "."
     ]
    },
    {
     "name": "stderr",
     "output_type": "stream",
     "text": [
      "/home/eduardo/.virtualenvs/qa/lib/python3.6/site-packages/sklearn/svm/base.py:931: ConvergenceWarning: Liblinear failed to converge, increase the number of iterations.\n",
      "  \"the number of iterations.\", ConvergenceWarning)\n"
     ]
    },
    {
     "name": "stdout",
     "output_type": "stream",
     "text": [
      "."
     ]
    },
    {
     "name": "stderr",
     "output_type": "stream",
     "text": [
      "/home/eduardo/.virtualenvs/qa/lib/python3.6/site-packages/sklearn/svm/base.py:931: ConvergenceWarning: Liblinear failed to converge, increase the number of iterations.\n",
      "  \"the number of iterations.\", ConvergenceWarning)\n"
     ]
    },
    {
     "name": "stdout",
     "output_type": "stream",
     "text": [
      "."
     ]
    },
    {
     "name": "stderr",
     "output_type": "stream",
     "text": [
      "/home/eduardo/.virtualenvs/qa/lib/python3.6/site-packages/sklearn/svm/base.py:931: ConvergenceWarning: Liblinear failed to converge, increase the number of iterations.\n",
      "  \"the number of iterations.\", ConvergenceWarning)\n"
     ]
    },
    {
     "name": "stdout",
     "output_type": "stream",
     "text": [
      "."
     ]
    },
    {
     "name": "stderr",
     "output_type": "stream",
     "text": [
      "/home/eduardo/.virtualenvs/qa/lib/python3.6/site-packages/sklearn/svm/base.py:931: ConvergenceWarning: Liblinear failed to converge, increase the number of iterations.\n",
      "  \"the number of iterations.\", ConvergenceWarning)\n"
     ]
    },
    {
     "name": "stdout",
     "output_type": "stream",
     "text": [
      "."
     ]
    },
    {
     "name": "stderr",
     "output_type": "stream",
     "text": [
      "/home/eduardo/.virtualenvs/qa/lib/python3.6/site-packages/sklearn/svm/base.py:931: ConvergenceWarning: Liblinear failed to converge, increase the number of iterations.\n",
      "  \"the number of iterations.\", ConvergenceWarning)\n"
     ]
    },
    {
     "name": "stdout",
     "output_type": "stream",
     "text": [
      "."
     ]
    },
    {
     "name": "stderr",
     "output_type": "stream",
     "text": [
      "/home/eduardo/.virtualenvs/qa/lib/python3.6/site-packages/sklearn/svm/base.py:931: ConvergenceWarning: Liblinear failed to converge, increase the number of iterations.\n",
      "  \"the number of iterations.\", ConvergenceWarning)\n"
     ]
    },
    {
     "name": "stdout",
     "output_type": "stream",
     "text": [
      "."
     ]
    },
    {
     "name": "stderr",
     "output_type": "stream",
     "text": [
      "/home/eduardo/.virtualenvs/qa/lib/python3.6/site-packages/sklearn/svm/base.py:931: ConvergenceWarning: Liblinear failed to converge, increase the number of iterations.\n",
      "  \"the number of iterations.\", ConvergenceWarning)\n"
     ]
    },
    {
     "name": "stdout",
     "output_type": "stream",
     "text": [
      "."
     ]
    },
    {
     "name": "stderr",
     "output_type": "stream",
     "text": [
      "/home/eduardo/.virtualenvs/qa/lib/python3.6/site-packages/sklearn/svm/base.py:931: ConvergenceWarning: Liblinear failed to converge, increase the number of iterations.\n",
      "  \"the number of iterations.\", ConvergenceWarning)\n"
     ]
    },
    {
     "name": "stdout",
     "output_type": "stream",
     "text": [
      "."
     ]
    },
    {
     "name": "stderr",
     "output_type": "stream",
     "text": [
      "/home/eduardo/.virtualenvs/qa/lib/python3.6/site-packages/sklearn/svm/base.py:931: ConvergenceWarning: Liblinear failed to converge, increase the number of iterations.\n",
      "  \"the number of iterations.\", ConvergenceWarning)\n"
     ]
    },
    {
     "name": "stdout",
     "output_type": "stream",
     "text": [
      "\n",
      "Run time benchmark: 151.8110692501068\n",
      "\n",
      "\n",
      "Language:  pt\n",
      "\n",
      "1000|..."
     ]
    },
    {
     "name": "stderr",
     "output_type": "stream",
     "text": [
      "/home/eduardo/.virtualenvs/qa/lib/python3.6/site-packages/sklearn/svm/base.py:931: ConvergenceWarning: Liblinear failed to converge, increase the number of iterations.\n",
      "  \"the number of iterations.\", ConvergenceWarning)\n"
     ]
    },
    {
     "name": "stdout",
     "output_type": "stream",
     "text": [
      "..."
     ]
    },
    {
     "name": "stderr",
     "output_type": "stream",
     "text": [
      "/home/eduardo/.virtualenvs/qa/lib/python3.6/site-packages/sklearn/svm/base.py:931: ConvergenceWarning: Liblinear failed to converge, increase the number of iterations.\n",
      "  \"the number of iterations.\", ConvergenceWarning)\n"
     ]
    },
    {
     "name": "stdout",
     "output_type": "stream",
     "text": [
      "....\n",
      "2000|..."
     ]
    },
    {
     "name": "stderr",
     "output_type": "stream",
     "text": [
      "/home/eduardo/.virtualenvs/qa/lib/python3.6/site-packages/sklearn/svm/base.py:931: ConvergenceWarning: Liblinear failed to converge, increase the number of iterations.\n",
      "  \"the number of iterations.\", ConvergenceWarning)\n"
     ]
    },
    {
     "name": "stdout",
     "output_type": "stream",
     "text": [
      "..."
     ]
    },
    {
     "name": "stderr",
     "output_type": "stream",
     "text": [
      "/home/eduardo/.virtualenvs/qa/lib/python3.6/site-packages/sklearn/svm/base.py:931: ConvergenceWarning: Liblinear failed to converge, increase the number of iterations.\n",
      "  \"the number of iterations.\", ConvergenceWarning)\n"
     ]
    },
    {
     "name": "stdout",
     "output_type": "stream",
     "text": [
      ".."
     ]
    },
    {
     "name": "stderr",
     "output_type": "stream",
     "text": [
      "/home/eduardo/.virtualenvs/qa/lib/python3.6/site-packages/sklearn/svm/base.py:931: ConvergenceWarning: Liblinear failed to converge, increase the number of iterations.\n",
      "  \"the number of iterations.\", ConvergenceWarning)\n"
     ]
    },
    {
     "name": "stdout",
     "output_type": "stream",
     "text": [
      "."
     ]
    },
    {
     "name": "stderr",
     "output_type": "stream",
     "text": [
      "/home/eduardo/.virtualenvs/qa/lib/python3.6/site-packages/sklearn/svm/base.py:931: ConvergenceWarning: Liblinear failed to converge, increase the number of iterations.\n",
      "  \"the number of iterations.\", ConvergenceWarning)\n"
     ]
    },
    {
     "name": "stdout",
     "output_type": "stream",
     "text": [
      "."
     ]
    },
    {
     "name": "stderr",
     "output_type": "stream",
     "text": [
      "/home/eduardo/.virtualenvs/qa/lib/python3.6/site-packages/sklearn/svm/base.py:931: ConvergenceWarning: Liblinear failed to converge, increase the number of iterations.\n",
      "  \"the number of iterations.\", ConvergenceWarning)\n"
     ]
    },
    {
     "name": "stdout",
     "output_type": "stream",
     "text": [
      "\n",
      "3000|."
     ]
    },
    {
     "name": "stderr",
     "output_type": "stream",
     "text": [
      "/home/eduardo/.virtualenvs/qa/lib/python3.6/site-packages/sklearn/svm/base.py:931: ConvergenceWarning: Liblinear failed to converge, increase the number of iterations.\n",
      "  \"the number of iterations.\", ConvergenceWarning)\n"
     ]
    },
    {
     "name": "stdout",
     "output_type": "stream",
     "text": [
      "."
     ]
    },
    {
     "name": "stderr",
     "output_type": "stream",
     "text": [
      "/home/eduardo/.virtualenvs/qa/lib/python3.6/site-packages/sklearn/svm/base.py:931: ConvergenceWarning: Liblinear failed to converge, increase the number of iterations.\n",
      "  \"the number of iterations.\", ConvergenceWarning)\n"
     ]
    },
    {
     "name": "stdout",
     "output_type": "stream",
     "text": [
      "."
     ]
    },
    {
     "name": "stderr",
     "output_type": "stream",
     "text": [
      "/home/eduardo/.virtualenvs/qa/lib/python3.6/site-packages/sklearn/svm/base.py:931: ConvergenceWarning: Liblinear failed to converge, increase the number of iterations.\n",
      "  \"the number of iterations.\", ConvergenceWarning)\n"
     ]
    },
    {
     "name": "stdout",
     "output_type": "stream",
     "text": [
      "."
     ]
    },
    {
     "name": "stderr",
     "output_type": "stream",
     "text": [
      "/home/eduardo/.virtualenvs/qa/lib/python3.6/site-packages/sklearn/svm/base.py:931: ConvergenceWarning: Liblinear failed to converge, increase the number of iterations.\n",
      "  \"the number of iterations.\", ConvergenceWarning)\n"
     ]
    },
    {
     "name": "stdout",
     "output_type": "stream",
     "text": [
      "..."
     ]
    },
    {
     "name": "stderr",
     "output_type": "stream",
     "text": [
      "/home/eduardo/.virtualenvs/qa/lib/python3.6/site-packages/sklearn/svm/base.py:931: ConvergenceWarning: Liblinear failed to converge, increase the number of iterations.\n",
      "  \"the number of iterations.\", ConvergenceWarning)\n"
     ]
    },
    {
     "name": "stdout",
     "output_type": "stream",
     "text": [
      ".."
     ]
    },
    {
     "name": "stderr",
     "output_type": "stream",
     "text": [
      "/home/eduardo/.virtualenvs/qa/lib/python3.6/site-packages/sklearn/svm/base.py:931: ConvergenceWarning: Liblinear failed to converge, increase the number of iterations.\n",
      "  \"the number of iterations.\", ConvergenceWarning)\n"
     ]
    },
    {
     "name": "stdout",
     "output_type": "stream",
     "text": [
      "."
     ]
    },
    {
     "name": "stderr",
     "output_type": "stream",
     "text": [
      "/home/eduardo/.virtualenvs/qa/lib/python3.6/site-packages/sklearn/svm/base.py:931: ConvergenceWarning: Liblinear failed to converge, increase the number of iterations.\n",
      "  \"the number of iterations.\", ConvergenceWarning)\n"
     ]
    },
    {
     "name": "stdout",
     "output_type": "stream",
     "text": [
      "\n",
      "4000|."
     ]
    },
    {
     "name": "stderr",
     "output_type": "stream",
     "text": [
      "/home/eduardo/.virtualenvs/qa/lib/python3.6/site-packages/sklearn/svm/base.py:931: ConvergenceWarning: Liblinear failed to converge, increase the number of iterations.\n",
      "  \"the number of iterations.\", ConvergenceWarning)\n"
     ]
    },
    {
     "name": "stdout",
     "output_type": "stream",
     "text": [
      "."
     ]
    },
    {
     "name": "stderr",
     "output_type": "stream",
     "text": [
      "/home/eduardo/.virtualenvs/qa/lib/python3.6/site-packages/sklearn/svm/base.py:931: ConvergenceWarning: Liblinear failed to converge, increase the number of iterations.\n",
      "  \"the number of iterations.\", ConvergenceWarning)\n"
     ]
    },
    {
     "name": "stdout",
     "output_type": "stream",
     "text": [
      "."
     ]
    },
    {
     "name": "stderr",
     "output_type": "stream",
     "text": [
      "/home/eduardo/.virtualenvs/qa/lib/python3.6/site-packages/sklearn/svm/base.py:931: ConvergenceWarning: Liblinear failed to converge, increase the number of iterations.\n",
      "  \"the number of iterations.\", ConvergenceWarning)\n"
     ]
    },
    {
     "name": "stdout",
     "output_type": "stream",
     "text": [
      "."
     ]
    },
    {
     "name": "stderr",
     "output_type": "stream",
     "text": [
      "/home/eduardo/.virtualenvs/qa/lib/python3.6/site-packages/sklearn/svm/base.py:931: ConvergenceWarning: Liblinear failed to converge, increase the number of iterations.\n",
      "  \"the number of iterations.\", ConvergenceWarning)\n"
     ]
    },
    {
     "name": "stdout",
     "output_type": "stream",
     "text": [
      "."
     ]
    },
    {
     "name": "stderr",
     "output_type": "stream",
     "text": [
      "/home/eduardo/.virtualenvs/qa/lib/python3.6/site-packages/sklearn/svm/base.py:931: ConvergenceWarning: Liblinear failed to converge, increase the number of iterations.\n",
      "  \"the number of iterations.\", ConvergenceWarning)\n"
     ]
    },
    {
     "name": "stdout",
     "output_type": "stream",
     "text": [
      "."
     ]
    },
    {
     "name": "stderr",
     "output_type": "stream",
     "text": [
      "/home/eduardo/.virtualenvs/qa/lib/python3.6/site-packages/sklearn/svm/base.py:931: ConvergenceWarning: Liblinear failed to converge, increase the number of iterations.\n",
      "  \"the number of iterations.\", ConvergenceWarning)\n"
     ]
    },
    {
     "name": "stdout",
     "output_type": "stream",
     "text": [
      "."
     ]
    },
    {
     "name": "stderr",
     "output_type": "stream",
     "text": [
      "/home/eduardo/.virtualenvs/qa/lib/python3.6/site-packages/sklearn/svm/base.py:931: ConvergenceWarning: Liblinear failed to converge, increase the number of iterations.\n",
      "  \"the number of iterations.\", ConvergenceWarning)\n"
     ]
    },
    {
     "name": "stdout",
     "output_type": "stream",
     "text": [
      "."
     ]
    },
    {
     "name": "stderr",
     "output_type": "stream",
     "text": [
      "/home/eduardo/.virtualenvs/qa/lib/python3.6/site-packages/sklearn/svm/base.py:931: ConvergenceWarning: Liblinear failed to converge, increase the number of iterations.\n",
      "  \"the number of iterations.\", ConvergenceWarning)\n"
     ]
    },
    {
     "name": "stdout",
     "output_type": "stream",
     "text": [
      ".."
     ]
    },
    {
     "name": "stderr",
     "output_type": "stream",
     "text": [
      "/home/eduardo/.virtualenvs/qa/lib/python3.6/site-packages/sklearn/svm/base.py:931: ConvergenceWarning: Liblinear failed to converge, increase the number of iterations.\n",
      "  \"the number of iterations.\", ConvergenceWarning)\n"
     ]
    },
    {
     "name": "stdout",
     "output_type": "stream",
     "text": [
      "\n",
      "5500|."
     ]
    },
    {
     "name": "stderr",
     "output_type": "stream",
     "text": [
      "/home/eduardo/.virtualenvs/qa/lib/python3.6/site-packages/sklearn/svm/base.py:931: ConvergenceWarning: Liblinear failed to converge, increase the number of iterations.\n",
      "  \"the number of iterations.\", ConvergenceWarning)\n"
     ]
    },
    {
     "name": "stdout",
     "output_type": "stream",
     "text": [
      "."
     ]
    },
    {
     "name": "stderr",
     "output_type": "stream",
     "text": [
      "/home/eduardo/.virtualenvs/qa/lib/python3.6/site-packages/sklearn/svm/base.py:931: ConvergenceWarning: Liblinear failed to converge, increase the number of iterations.\n",
      "  \"the number of iterations.\", ConvergenceWarning)\n"
     ]
    },
    {
     "name": "stdout",
     "output_type": "stream",
     "text": [
      "."
     ]
    },
    {
     "name": "stderr",
     "output_type": "stream",
     "text": [
      "/home/eduardo/.virtualenvs/qa/lib/python3.6/site-packages/sklearn/svm/base.py:931: ConvergenceWarning: Liblinear failed to converge, increase the number of iterations.\n",
      "  \"the number of iterations.\", ConvergenceWarning)\n"
     ]
    },
    {
     "name": "stdout",
     "output_type": "stream",
     "text": [
      "."
     ]
    },
    {
     "name": "stderr",
     "output_type": "stream",
     "text": [
      "/home/eduardo/.virtualenvs/qa/lib/python3.6/site-packages/sklearn/svm/base.py:931: ConvergenceWarning: Liblinear failed to converge, increase the number of iterations.\n",
      "  \"the number of iterations.\", ConvergenceWarning)\n"
     ]
    },
    {
     "name": "stdout",
     "output_type": "stream",
     "text": [
      "."
     ]
    },
    {
     "name": "stderr",
     "output_type": "stream",
     "text": [
      "/home/eduardo/.virtualenvs/qa/lib/python3.6/site-packages/sklearn/svm/base.py:931: ConvergenceWarning: Liblinear failed to converge, increase the number of iterations.\n",
      "  \"the number of iterations.\", ConvergenceWarning)\n"
     ]
    },
    {
     "name": "stdout",
     "output_type": "stream",
     "text": [
      "."
     ]
    },
    {
     "name": "stderr",
     "output_type": "stream",
     "text": [
      "/home/eduardo/.virtualenvs/qa/lib/python3.6/site-packages/sklearn/svm/base.py:931: ConvergenceWarning: Liblinear failed to converge, increase the number of iterations.\n",
      "  \"the number of iterations.\", ConvergenceWarning)\n"
     ]
    },
    {
     "name": "stdout",
     "output_type": "stream",
     "text": [
      "."
     ]
    },
    {
     "name": "stderr",
     "output_type": "stream",
     "text": [
      "/home/eduardo/.virtualenvs/qa/lib/python3.6/site-packages/sklearn/svm/base.py:931: ConvergenceWarning: Liblinear failed to converge, increase the number of iterations.\n",
      "  \"the number of iterations.\", ConvergenceWarning)\n"
     ]
    },
    {
     "name": "stdout",
     "output_type": "stream",
     "text": [
      "."
     ]
    },
    {
     "name": "stderr",
     "output_type": "stream",
     "text": [
      "/home/eduardo/.virtualenvs/qa/lib/python3.6/site-packages/sklearn/svm/base.py:931: ConvergenceWarning: Liblinear failed to converge, increase the number of iterations.\n",
      "  \"the number of iterations.\", ConvergenceWarning)\n"
     ]
    },
    {
     "name": "stdout",
     "output_type": "stream",
     "text": [
      "."
     ]
    },
    {
     "name": "stderr",
     "output_type": "stream",
     "text": [
      "/home/eduardo/.virtualenvs/qa/lib/python3.6/site-packages/sklearn/svm/base.py:931: ConvergenceWarning: Liblinear failed to converge, increase the number of iterations.\n",
      "  \"the number of iterations.\", ConvergenceWarning)\n"
     ]
    },
    {
     "name": "stdout",
     "output_type": "stream",
     "text": [
      ".\n",
      "Run time benchmark: 143.85443115234375\n"
     ]
    },
    {
     "name": "stderr",
     "output_type": "stream",
     "text": [
      "/home/eduardo/.virtualenvs/qa/lib/python3.6/site-packages/sklearn/svm/base.py:931: ConvergenceWarning: Liblinear failed to converge, increase the number of iterations.\n",
      "  \"the number of iterations.\", ConvergenceWarning)\n"
     ]
    }
   ],
   "source": [
    "for language in ['en', 'es', 'pt']:\n",
    "    print('\\n\\nLanguage: ', language)\n",
    "    embedding = load_embedding(path_wordembedding + 'wiki.multi.' + language + '.vec')\n",
    "    dataset_train, dataset_test = load_uiuc(language)\n",
    "    dataset = pd.concat([dataset_train, dataset_test])\n",
    "    create_feature('tfidf', dataset, dataset, max_features=2000)\n",
    "    create_feature('embedding_sum', None, dataset, embedding)\n",
    "    \n",
    "    model = {'name': 'svm', 'model': svm_linear}\n",
    "    \n",
    "    tfidf = np.array([list(r) for r in dataset['tfidf'].values])\n",
    "    tfidf = normalize(tfidf, norm='max')\n",
    "    \n",
    "    embedding = np.array([list(r) for r in dataset['embedding_sum'].values])\n",
    "    embedding = normalize(embedding, norm='max')\n",
    "    \n",
    "    X = np.array([list(x) + list(xx) for x, xx in zip(tfidf, embedding)])\n",
    "    y = dataset['class'].values\n",
    "    \n",
    "    # run_benchmark_cv(model, X, y, [50, 100] + list(range(500, 5501, 500)),\n",
    "    run_benchmark_cv(model, X, y, [1000, 2000, 3000, 4000, 5500],\n",
    "                     save='results/UIUC_cv_svm_cortes_' + language + '.csv')"
   ]
  },
  {
   "cell_type": "markdown",
   "metadata": {},
   "source": [
    "#### SVM + TF-IDF + WB + POS + NER"
   ]
  },
  {
   "cell_type": "code",
   "execution_count": 5,
   "metadata": {
    "scrolled": true
   },
   "outputs": [
    {
     "name": "stdout",
     "output_type": "stream",
     "text": [
      "\n",
      "\n",
      "Language:  en\n",
      "\n",
      "1000|........."
     ]
    },
    {
     "name": "stderr",
     "output_type": "stream",
     "text": [
      "/home/eduardo/.virtualenvs/qa/lib/python3.6/site-packages/sklearn/svm/base.py:931: ConvergenceWarning: Liblinear failed to converge, increase the number of iterations.\n",
      "  \"the number of iterations.\", ConvergenceWarning)\n"
     ]
    },
    {
     "name": "stdout",
     "output_type": "stream",
     "text": [
      ".\n",
      "2000|..."
     ]
    },
    {
     "name": "stderr",
     "output_type": "stream",
     "text": [
      "/home/eduardo/.virtualenvs/qa/lib/python3.6/site-packages/sklearn/svm/base.py:931: ConvergenceWarning: Liblinear failed to converge, increase the number of iterations.\n",
      "  \"the number of iterations.\", ConvergenceWarning)\n"
     ]
    },
    {
     "name": "stdout",
     "output_type": "stream",
     "text": [
      "..."
     ]
    },
    {
     "name": "stderr",
     "output_type": "stream",
     "text": [
      "/home/eduardo/.virtualenvs/qa/lib/python3.6/site-packages/sklearn/svm/base.py:931: ConvergenceWarning: Liblinear failed to converge, increase the number of iterations.\n",
      "  \"the number of iterations.\", ConvergenceWarning)\n"
     ]
    },
    {
     "name": "stdout",
     "output_type": "stream",
     "text": [
      "."
     ]
    },
    {
     "name": "stderr",
     "output_type": "stream",
     "text": [
      "/home/eduardo/.virtualenvs/qa/lib/python3.6/site-packages/sklearn/svm/base.py:931: ConvergenceWarning: Liblinear failed to converge, increase the number of iterations.\n",
      "  \"the number of iterations.\", ConvergenceWarning)\n"
     ]
    },
    {
     "name": "stdout",
     "output_type": "stream",
     "text": [
      ".."
     ]
    },
    {
     "name": "stderr",
     "output_type": "stream",
     "text": [
      "/home/eduardo/.virtualenvs/qa/lib/python3.6/site-packages/sklearn/svm/base.py:931: ConvergenceWarning: Liblinear failed to converge, increase the number of iterations.\n",
      "  \"the number of iterations.\", ConvergenceWarning)\n"
     ]
    },
    {
     "name": "stdout",
     "output_type": "stream",
     "text": [
      ".\n",
      "3000|."
     ]
    },
    {
     "name": "stderr",
     "output_type": "stream",
     "text": [
      "/home/eduardo/.virtualenvs/qa/lib/python3.6/site-packages/sklearn/svm/base.py:931: ConvergenceWarning: Liblinear failed to converge, increase the number of iterations.\n",
      "  \"the number of iterations.\", ConvergenceWarning)\n"
     ]
    },
    {
     "name": "stdout",
     "output_type": "stream",
     "text": [
      "."
     ]
    },
    {
     "name": "stderr",
     "output_type": "stream",
     "text": [
      "/home/eduardo/.virtualenvs/qa/lib/python3.6/site-packages/sklearn/svm/base.py:931: ConvergenceWarning: Liblinear failed to converge, increase the number of iterations.\n",
      "  \"the number of iterations.\", ConvergenceWarning)\n"
     ]
    },
    {
     "name": "stdout",
     "output_type": "stream",
     "text": [
      "."
     ]
    },
    {
     "name": "stderr",
     "output_type": "stream",
     "text": [
      "/home/eduardo/.virtualenvs/qa/lib/python3.6/site-packages/sklearn/svm/base.py:931: ConvergenceWarning: Liblinear failed to converge, increase the number of iterations.\n",
      "  \"the number of iterations.\", ConvergenceWarning)\n"
     ]
    },
    {
     "name": "stdout",
     "output_type": "stream",
     "text": [
      "."
     ]
    },
    {
     "name": "stderr",
     "output_type": "stream",
     "text": [
      "/home/eduardo/.virtualenvs/qa/lib/python3.6/site-packages/sklearn/svm/base.py:931: ConvergenceWarning: Liblinear failed to converge, increase the number of iterations.\n",
      "  \"the number of iterations.\", ConvergenceWarning)\n"
     ]
    },
    {
     "name": "stdout",
     "output_type": "stream",
     "text": [
      "."
     ]
    },
    {
     "name": "stderr",
     "output_type": "stream",
     "text": [
      "/home/eduardo/.virtualenvs/qa/lib/python3.6/site-packages/sklearn/svm/base.py:931: ConvergenceWarning: Liblinear failed to converge, increase the number of iterations.\n",
      "  \"the number of iterations.\", ConvergenceWarning)\n"
     ]
    },
    {
     "name": "stdout",
     "output_type": "stream",
     "text": [
      "."
     ]
    },
    {
     "name": "stderr",
     "output_type": "stream",
     "text": [
      "/home/eduardo/.virtualenvs/qa/lib/python3.6/site-packages/sklearn/svm/base.py:931: ConvergenceWarning: Liblinear failed to converge, increase the number of iterations.\n",
      "  \"the number of iterations.\", ConvergenceWarning)\n"
     ]
    },
    {
     "name": "stdout",
     "output_type": "stream",
     "text": [
      "."
     ]
    },
    {
     "name": "stderr",
     "output_type": "stream",
     "text": [
      "/home/eduardo/.virtualenvs/qa/lib/python3.6/site-packages/sklearn/svm/base.py:931: ConvergenceWarning: Liblinear failed to converge, increase the number of iterations.\n",
      "  \"the number of iterations.\", ConvergenceWarning)\n"
     ]
    },
    {
     "name": "stdout",
     "output_type": "stream",
     "text": [
      "."
     ]
    },
    {
     "name": "stderr",
     "output_type": "stream",
     "text": [
      "/home/eduardo/.virtualenvs/qa/lib/python3.6/site-packages/sklearn/svm/base.py:931: ConvergenceWarning: Liblinear failed to converge, increase the number of iterations.\n",
      "  \"the number of iterations.\", ConvergenceWarning)\n"
     ]
    },
    {
     "name": "stdout",
     "output_type": "stream",
     "text": [
      "."
     ]
    },
    {
     "name": "stderr",
     "output_type": "stream",
     "text": [
      "/home/eduardo/.virtualenvs/qa/lib/python3.6/site-packages/sklearn/svm/base.py:931: ConvergenceWarning: Liblinear failed to converge, increase the number of iterations.\n",
      "  \"the number of iterations.\", ConvergenceWarning)\n"
     ]
    },
    {
     "name": "stdout",
     "output_type": "stream",
     "text": [
      "."
     ]
    },
    {
     "name": "stderr",
     "output_type": "stream",
     "text": [
      "/home/eduardo/.virtualenvs/qa/lib/python3.6/site-packages/sklearn/svm/base.py:931: ConvergenceWarning: Liblinear failed to converge, increase the number of iterations.\n",
      "  \"the number of iterations.\", ConvergenceWarning)\n"
     ]
    },
    {
     "name": "stdout",
     "output_type": "stream",
     "text": [
      "\n",
      "4000|."
     ]
    },
    {
     "name": "stderr",
     "output_type": "stream",
     "text": [
      "/home/eduardo/.virtualenvs/qa/lib/python3.6/site-packages/sklearn/svm/base.py:931: ConvergenceWarning: Liblinear failed to converge, increase the number of iterations.\n",
      "  \"the number of iterations.\", ConvergenceWarning)\n"
     ]
    },
    {
     "name": "stdout",
     "output_type": "stream",
     "text": [
      "."
     ]
    },
    {
     "name": "stderr",
     "output_type": "stream",
     "text": [
      "/home/eduardo/.virtualenvs/qa/lib/python3.6/site-packages/sklearn/svm/base.py:931: ConvergenceWarning: Liblinear failed to converge, increase the number of iterations.\n",
      "  \"the number of iterations.\", ConvergenceWarning)\n"
     ]
    },
    {
     "name": "stdout",
     "output_type": "stream",
     "text": [
      "."
     ]
    },
    {
     "name": "stderr",
     "output_type": "stream",
     "text": [
      "/home/eduardo/.virtualenvs/qa/lib/python3.6/site-packages/sklearn/svm/base.py:931: ConvergenceWarning: Liblinear failed to converge, increase the number of iterations.\n",
      "  \"the number of iterations.\", ConvergenceWarning)\n"
     ]
    },
    {
     "name": "stdout",
     "output_type": "stream",
     "text": [
      "."
     ]
    },
    {
     "name": "stderr",
     "output_type": "stream",
     "text": [
      "/home/eduardo/.virtualenvs/qa/lib/python3.6/site-packages/sklearn/svm/base.py:931: ConvergenceWarning: Liblinear failed to converge, increase the number of iterations.\n",
      "  \"the number of iterations.\", ConvergenceWarning)\n"
     ]
    },
    {
     "name": "stdout",
     "output_type": "stream",
     "text": [
      "."
     ]
    },
    {
     "name": "stderr",
     "output_type": "stream",
     "text": [
      "/home/eduardo/.virtualenvs/qa/lib/python3.6/site-packages/sklearn/svm/base.py:931: ConvergenceWarning: Liblinear failed to converge, increase the number of iterations.\n",
      "  \"the number of iterations.\", ConvergenceWarning)\n"
     ]
    },
    {
     "name": "stdout",
     "output_type": "stream",
     "text": [
      "."
     ]
    },
    {
     "name": "stderr",
     "output_type": "stream",
     "text": [
      "/home/eduardo/.virtualenvs/qa/lib/python3.6/site-packages/sklearn/svm/base.py:931: ConvergenceWarning: Liblinear failed to converge, increase the number of iterations.\n",
      "  \"the number of iterations.\", ConvergenceWarning)\n"
     ]
    },
    {
     "name": "stdout",
     "output_type": "stream",
     "text": [
      "."
     ]
    },
    {
     "name": "stderr",
     "output_type": "stream",
     "text": [
      "/home/eduardo/.virtualenvs/qa/lib/python3.6/site-packages/sklearn/svm/base.py:931: ConvergenceWarning: Liblinear failed to converge, increase the number of iterations.\n",
      "  \"the number of iterations.\", ConvergenceWarning)\n"
     ]
    },
    {
     "name": "stdout",
     "output_type": "stream",
     "text": [
      "."
     ]
    },
    {
     "name": "stderr",
     "output_type": "stream",
     "text": [
      "/home/eduardo/.virtualenvs/qa/lib/python3.6/site-packages/sklearn/svm/base.py:931: ConvergenceWarning: Liblinear failed to converge, increase the number of iterations.\n",
      "  \"the number of iterations.\", ConvergenceWarning)\n"
     ]
    },
    {
     "name": "stdout",
     "output_type": "stream",
     "text": [
      "."
     ]
    },
    {
     "name": "stderr",
     "output_type": "stream",
     "text": [
      "/home/eduardo/.virtualenvs/qa/lib/python3.6/site-packages/sklearn/svm/base.py:931: ConvergenceWarning: Liblinear failed to converge, increase the number of iterations.\n",
      "  \"the number of iterations.\", ConvergenceWarning)\n"
     ]
    },
    {
     "name": "stdout",
     "output_type": "stream",
     "text": [
      "."
     ]
    },
    {
     "name": "stderr",
     "output_type": "stream",
     "text": [
      "/home/eduardo/.virtualenvs/qa/lib/python3.6/site-packages/sklearn/svm/base.py:931: ConvergenceWarning: Liblinear failed to converge, increase the number of iterations.\n",
      "  \"the number of iterations.\", ConvergenceWarning)\n"
     ]
    },
    {
     "name": "stdout",
     "output_type": "stream",
     "text": [
      "\n",
      "5500|."
     ]
    },
    {
     "name": "stderr",
     "output_type": "stream",
     "text": [
      "/home/eduardo/.virtualenvs/qa/lib/python3.6/site-packages/sklearn/svm/base.py:931: ConvergenceWarning: Liblinear failed to converge, increase the number of iterations.\n",
      "  \"the number of iterations.\", ConvergenceWarning)\n"
     ]
    },
    {
     "name": "stdout",
     "output_type": "stream",
     "text": [
      "."
     ]
    },
    {
     "name": "stderr",
     "output_type": "stream",
     "text": [
      "/home/eduardo/.virtualenvs/qa/lib/python3.6/site-packages/sklearn/svm/base.py:931: ConvergenceWarning: Liblinear failed to converge, increase the number of iterations.\n",
      "  \"the number of iterations.\", ConvergenceWarning)\n"
     ]
    },
    {
     "name": "stdout",
     "output_type": "stream",
     "text": [
      "."
     ]
    },
    {
     "name": "stderr",
     "output_type": "stream",
     "text": [
      "/home/eduardo/.virtualenvs/qa/lib/python3.6/site-packages/sklearn/svm/base.py:931: ConvergenceWarning: Liblinear failed to converge, increase the number of iterations.\n",
      "  \"the number of iterations.\", ConvergenceWarning)\n"
     ]
    },
    {
     "name": "stdout",
     "output_type": "stream",
     "text": [
      "."
     ]
    },
    {
     "name": "stderr",
     "output_type": "stream",
     "text": [
      "/home/eduardo/.virtualenvs/qa/lib/python3.6/site-packages/sklearn/svm/base.py:931: ConvergenceWarning: Liblinear failed to converge, increase the number of iterations.\n",
      "  \"the number of iterations.\", ConvergenceWarning)\n"
     ]
    },
    {
     "name": "stdout",
     "output_type": "stream",
     "text": [
      "."
     ]
    },
    {
     "name": "stderr",
     "output_type": "stream",
     "text": [
      "/home/eduardo/.virtualenvs/qa/lib/python3.6/site-packages/sklearn/svm/base.py:931: ConvergenceWarning: Liblinear failed to converge, increase the number of iterations.\n",
      "  \"the number of iterations.\", ConvergenceWarning)\n"
     ]
    },
    {
     "name": "stdout",
     "output_type": "stream",
     "text": [
      "."
     ]
    },
    {
     "name": "stderr",
     "output_type": "stream",
     "text": [
      "/home/eduardo/.virtualenvs/qa/lib/python3.6/site-packages/sklearn/svm/base.py:931: ConvergenceWarning: Liblinear failed to converge, increase the number of iterations.\n",
      "  \"the number of iterations.\", ConvergenceWarning)\n"
     ]
    },
    {
     "name": "stdout",
     "output_type": "stream",
     "text": [
      "."
     ]
    },
    {
     "name": "stderr",
     "output_type": "stream",
     "text": [
      "/home/eduardo/.virtualenvs/qa/lib/python3.6/site-packages/sklearn/svm/base.py:931: ConvergenceWarning: Liblinear failed to converge, increase the number of iterations.\n",
      "  \"the number of iterations.\", ConvergenceWarning)\n"
     ]
    },
    {
     "name": "stdout",
     "output_type": "stream",
     "text": [
      "."
     ]
    },
    {
     "name": "stderr",
     "output_type": "stream",
     "text": [
      "/home/eduardo/.virtualenvs/qa/lib/python3.6/site-packages/sklearn/svm/base.py:931: ConvergenceWarning: Liblinear failed to converge, increase the number of iterations.\n",
      "  \"the number of iterations.\", ConvergenceWarning)\n"
     ]
    },
    {
     "name": "stdout",
     "output_type": "stream",
     "text": [
      "."
     ]
    },
    {
     "name": "stderr",
     "output_type": "stream",
     "text": [
      "/home/eduardo/.virtualenvs/qa/lib/python3.6/site-packages/sklearn/svm/base.py:931: ConvergenceWarning: Liblinear failed to converge, increase the number of iterations.\n",
      "  \"the number of iterations.\", ConvergenceWarning)\n"
     ]
    },
    {
     "name": "stdout",
     "output_type": "stream",
     "text": [
      "."
     ]
    },
    {
     "name": "stderr",
     "output_type": "stream",
     "text": [
      "/home/eduardo/.virtualenvs/qa/lib/python3.6/site-packages/sklearn/svm/base.py:931: ConvergenceWarning: Liblinear failed to converge, increase the number of iterations.\n",
      "  \"the number of iterations.\", ConvergenceWarning)\n"
     ]
    },
    {
     "name": "stdout",
     "output_type": "stream",
     "text": [
      "\n",
      "Run time benchmark: 129.40373587608337\n",
      "\n",
      "\n",
      "Language:  es\n",
      "\n",
      "1000|...."
     ]
    },
    {
     "name": "stderr",
     "output_type": "stream",
     "text": [
      "/home/eduardo/.virtualenvs/qa/lib/python3.6/site-packages/sklearn/svm/base.py:931: ConvergenceWarning: Liblinear failed to converge, increase the number of iterations.\n",
      "  \"the number of iterations.\", ConvergenceWarning)\n"
     ]
    },
    {
     "name": "stdout",
     "output_type": "stream",
     "text": [
      "......\n",
      "2000|."
     ]
    },
    {
     "name": "stderr",
     "output_type": "stream",
     "text": [
      "/home/eduardo/.virtualenvs/qa/lib/python3.6/site-packages/sklearn/svm/base.py:931: ConvergenceWarning: Liblinear failed to converge, increase the number of iterations.\n",
      "  \"the number of iterations.\", ConvergenceWarning)\n"
     ]
    },
    {
     "name": "stdout",
     "output_type": "stream",
     "text": [
      ".."
     ]
    },
    {
     "name": "stderr",
     "output_type": "stream",
     "text": [
      "/home/eduardo/.virtualenvs/qa/lib/python3.6/site-packages/sklearn/svm/base.py:931: ConvergenceWarning: Liblinear failed to converge, increase the number of iterations.\n",
      "  \"the number of iterations.\", ConvergenceWarning)\n"
     ]
    },
    {
     "name": "stdout",
     "output_type": "stream",
     "text": [
      "."
     ]
    },
    {
     "name": "stderr",
     "output_type": "stream",
     "text": [
      "/home/eduardo/.virtualenvs/qa/lib/python3.6/site-packages/sklearn/svm/base.py:931: ConvergenceWarning: Liblinear failed to converge, increase the number of iterations.\n",
      "  \"the number of iterations.\", ConvergenceWarning)\n"
     ]
    },
    {
     "name": "stdout",
     "output_type": "stream",
     "text": [
      "."
     ]
    },
    {
     "name": "stderr",
     "output_type": "stream",
     "text": [
      "/home/eduardo/.virtualenvs/qa/lib/python3.6/site-packages/sklearn/svm/base.py:931: ConvergenceWarning: Liblinear failed to converge, increase the number of iterations.\n",
      "  \"the number of iterations.\", ConvergenceWarning)\n"
     ]
    },
    {
     "name": "stdout",
     "output_type": "stream",
     "text": [
      "."
     ]
    },
    {
     "name": "stderr",
     "output_type": "stream",
     "text": [
      "/home/eduardo/.virtualenvs/qa/lib/python3.6/site-packages/sklearn/svm/base.py:931: ConvergenceWarning: Liblinear failed to converge, increase the number of iterations.\n",
      "  \"the number of iterations.\", ConvergenceWarning)\n"
     ]
    },
    {
     "name": "stdout",
     "output_type": "stream",
     "text": [
      ".."
     ]
    },
    {
     "name": "stderr",
     "output_type": "stream",
     "text": [
      "/home/eduardo/.virtualenvs/qa/lib/python3.6/site-packages/sklearn/svm/base.py:931: ConvergenceWarning: Liblinear failed to converge, increase the number of iterations.\n",
      "  \"the number of iterations.\", ConvergenceWarning)\n"
     ]
    },
    {
     "name": "stdout",
     "output_type": "stream",
     "text": [
      "."
     ]
    },
    {
     "name": "stderr",
     "output_type": "stream",
     "text": [
      "/home/eduardo/.virtualenvs/qa/lib/python3.6/site-packages/sklearn/svm/base.py:931: ConvergenceWarning: Liblinear failed to converge, increase the number of iterations.\n",
      "  \"the number of iterations.\", ConvergenceWarning)\n"
     ]
    },
    {
     "name": "stdout",
     "output_type": "stream",
     "text": [
      "."
     ]
    },
    {
     "name": "stderr",
     "output_type": "stream",
     "text": [
      "/home/eduardo/.virtualenvs/qa/lib/python3.6/site-packages/sklearn/svm/base.py:931: ConvergenceWarning: Liblinear failed to converge, increase the number of iterations.\n",
      "  \"the number of iterations.\", ConvergenceWarning)\n"
     ]
    },
    {
     "name": "stdout",
     "output_type": "stream",
     "text": [
      "\n",
      "3000|."
     ]
    },
    {
     "name": "stderr",
     "output_type": "stream",
     "text": [
      "/home/eduardo/.virtualenvs/qa/lib/python3.6/site-packages/sklearn/svm/base.py:931: ConvergenceWarning: Liblinear failed to converge, increase the number of iterations.\n",
      "  \"the number of iterations.\", ConvergenceWarning)\n"
     ]
    },
    {
     "name": "stdout",
     "output_type": "stream",
     "text": [
      "."
     ]
    },
    {
     "name": "stderr",
     "output_type": "stream",
     "text": [
      "/home/eduardo/.virtualenvs/qa/lib/python3.6/site-packages/sklearn/svm/base.py:931: ConvergenceWarning: Liblinear failed to converge, increase the number of iterations.\n",
      "  \"the number of iterations.\", ConvergenceWarning)\n"
     ]
    },
    {
     "name": "stdout",
     "output_type": "stream",
     "text": [
      "."
     ]
    },
    {
     "name": "stderr",
     "output_type": "stream",
     "text": [
      "/home/eduardo/.virtualenvs/qa/lib/python3.6/site-packages/sklearn/svm/base.py:931: ConvergenceWarning: Liblinear failed to converge, increase the number of iterations.\n",
      "  \"the number of iterations.\", ConvergenceWarning)\n"
     ]
    },
    {
     "name": "stdout",
     "output_type": "stream",
     "text": [
      "."
     ]
    },
    {
     "name": "stderr",
     "output_type": "stream",
     "text": [
      "/home/eduardo/.virtualenvs/qa/lib/python3.6/site-packages/sklearn/svm/base.py:931: ConvergenceWarning: Liblinear failed to converge, increase the number of iterations.\n",
      "  \"the number of iterations.\", ConvergenceWarning)\n"
     ]
    },
    {
     "name": "stdout",
     "output_type": "stream",
     "text": [
      "."
     ]
    },
    {
     "name": "stderr",
     "output_type": "stream",
     "text": [
      "/home/eduardo/.virtualenvs/qa/lib/python3.6/site-packages/sklearn/svm/base.py:931: ConvergenceWarning: Liblinear failed to converge, increase the number of iterations.\n",
      "  \"the number of iterations.\", ConvergenceWarning)\n"
     ]
    },
    {
     "name": "stdout",
     "output_type": "stream",
     "text": [
      "."
     ]
    },
    {
     "name": "stderr",
     "output_type": "stream",
     "text": [
      "/home/eduardo/.virtualenvs/qa/lib/python3.6/site-packages/sklearn/svm/base.py:931: ConvergenceWarning: Liblinear failed to converge, increase the number of iterations.\n",
      "  \"the number of iterations.\", ConvergenceWarning)\n"
     ]
    },
    {
     "name": "stdout",
     "output_type": "stream",
     "text": [
      "."
     ]
    },
    {
     "name": "stderr",
     "output_type": "stream",
     "text": [
      "/home/eduardo/.virtualenvs/qa/lib/python3.6/site-packages/sklearn/svm/base.py:931: ConvergenceWarning: Liblinear failed to converge, increase the number of iterations.\n",
      "  \"the number of iterations.\", ConvergenceWarning)\n"
     ]
    },
    {
     "name": "stdout",
     "output_type": "stream",
     "text": [
      "."
     ]
    },
    {
     "name": "stderr",
     "output_type": "stream",
     "text": [
      "/home/eduardo/.virtualenvs/qa/lib/python3.6/site-packages/sklearn/svm/base.py:931: ConvergenceWarning: Liblinear failed to converge, increase the number of iterations.\n",
      "  \"the number of iterations.\", ConvergenceWarning)\n"
     ]
    },
    {
     "name": "stdout",
     "output_type": "stream",
     "text": [
      "."
     ]
    },
    {
     "name": "stderr",
     "output_type": "stream",
     "text": [
      "/home/eduardo/.virtualenvs/qa/lib/python3.6/site-packages/sklearn/svm/base.py:931: ConvergenceWarning: Liblinear failed to converge, increase the number of iterations.\n",
      "  \"the number of iterations.\", ConvergenceWarning)\n"
     ]
    },
    {
     "name": "stdout",
     "output_type": "stream",
     "text": [
      "."
     ]
    },
    {
     "name": "stderr",
     "output_type": "stream",
     "text": [
      "/home/eduardo/.virtualenvs/qa/lib/python3.6/site-packages/sklearn/svm/base.py:931: ConvergenceWarning: Liblinear failed to converge, increase the number of iterations.\n",
      "  \"the number of iterations.\", ConvergenceWarning)\n"
     ]
    },
    {
     "name": "stdout",
     "output_type": "stream",
     "text": [
      "\n",
      "4000|."
     ]
    },
    {
     "name": "stderr",
     "output_type": "stream",
     "text": [
      "/home/eduardo/.virtualenvs/qa/lib/python3.6/site-packages/sklearn/svm/base.py:931: ConvergenceWarning: Liblinear failed to converge, increase the number of iterations.\n",
      "  \"the number of iterations.\", ConvergenceWarning)\n"
     ]
    },
    {
     "name": "stdout",
     "output_type": "stream",
     "text": [
      "."
     ]
    },
    {
     "name": "stderr",
     "output_type": "stream",
     "text": [
      "/home/eduardo/.virtualenvs/qa/lib/python3.6/site-packages/sklearn/svm/base.py:931: ConvergenceWarning: Liblinear failed to converge, increase the number of iterations.\n",
      "  \"the number of iterations.\", ConvergenceWarning)\n"
     ]
    },
    {
     "name": "stdout",
     "output_type": "stream",
     "text": [
      "."
     ]
    },
    {
     "name": "stderr",
     "output_type": "stream",
     "text": [
      "/home/eduardo/.virtualenvs/qa/lib/python3.6/site-packages/sklearn/svm/base.py:931: ConvergenceWarning: Liblinear failed to converge, increase the number of iterations.\n",
      "  \"the number of iterations.\", ConvergenceWarning)\n"
     ]
    },
    {
     "name": "stdout",
     "output_type": "stream",
     "text": [
      "."
     ]
    },
    {
     "name": "stderr",
     "output_type": "stream",
     "text": [
      "/home/eduardo/.virtualenvs/qa/lib/python3.6/site-packages/sklearn/svm/base.py:931: ConvergenceWarning: Liblinear failed to converge, increase the number of iterations.\n",
      "  \"the number of iterations.\", ConvergenceWarning)\n"
     ]
    },
    {
     "name": "stdout",
     "output_type": "stream",
     "text": [
      "."
     ]
    },
    {
     "name": "stderr",
     "output_type": "stream",
     "text": [
      "/home/eduardo/.virtualenvs/qa/lib/python3.6/site-packages/sklearn/svm/base.py:931: ConvergenceWarning: Liblinear failed to converge, increase the number of iterations.\n",
      "  \"the number of iterations.\", ConvergenceWarning)\n"
     ]
    },
    {
     "name": "stdout",
     "output_type": "stream",
     "text": [
      "."
     ]
    },
    {
     "name": "stderr",
     "output_type": "stream",
     "text": [
      "/home/eduardo/.virtualenvs/qa/lib/python3.6/site-packages/sklearn/svm/base.py:931: ConvergenceWarning: Liblinear failed to converge, increase the number of iterations.\n",
      "  \"the number of iterations.\", ConvergenceWarning)\n"
     ]
    },
    {
     "name": "stdout",
     "output_type": "stream",
     "text": [
      "."
     ]
    },
    {
     "name": "stderr",
     "output_type": "stream",
     "text": [
      "/home/eduardo/.virtualenvs/qa/lib/python3.6/site-packages/sklearn/svm/base.py:931: ConvergenceWarning: Liblinear failed to converge, increase the number of iterations.\n",
      "  \"the number of iterations.\", ConvergenceWarning)\n"
     ]
    },
    {
     "name": "stdout",
     "output_type": "stream",
     "text": [
      "."
     ]
    },
    {
     "name": "stderr",
     "output_type": "stream",
     "text": [
      "/home/eduardo/.virtualenvs/qa/lib/python3.6/site-packages/sklearn/svm/base.py:931: ConvergenceWarning: Liblinear failed to converge, increase the number of iterations.\n",
      "  \"the number of iterations.\", ConvergenceWarning)\n"
     ]
    },
    {
     "name": "stdout",
     "output_type": "stream",
     "text": [
      "."
     ]
    },
    {
     "name": "stderr",
     "output_type": "stream",
     "text": [
      "/home/eduardo/.virtualenvs/qa/lib/python3.6/site-packages/sklearn/svm/base.py:931: ConvergenceWarning: Liblinear failed to converge, increase the number of iterations.\n",
      "  \"the number of iterations.\", ConvergenceWarning)\n"
     ]
    },
    {
     "name": "stdout",
     "output_type": "stream",
     "text": [
      "."
     ]
    },
    {
     "name": "stderr",
     "output_type": "stream",
     "text": [
      "/home/eduardo/.virtualenvs/qa/lib/python3.6/site-packages/sklearn/svm/base.py:931: ConvergenceWarning: Liblinear failed to converge, increase the number of iterations.\n",
      "  \"the number of iterations.\", ConvergenceWarning)\n"
     ]
    },
    {
     "name": "stdout",
     "output_type": "stream",
     "text": [
      "\n",
      "5500|."
     ]
    },
    {
     "name": "stderr",
     "output_type": "stream",
     "text": [
      "/home/eduardo/.virtualenvs/qa/lib/python3.6/site-packages/sklearn/svm/base.py:931: ConvergenceWarning: Liblinear failed to converge, increase the number of iterations.\n",
      "  \"the number of iterations.\", ConvergenceWarning)\n"
     ]
    },
    {
     "name": "stdout",
     "output_type": "stream",
     "text": [
      "."
     ]
    },
    {
     "name": "stderr",
     "output_type": "stream",
     "text": [
      "/home/eduardo/.virtualenvs/qa/lib/python3.6/site-packages/sklearn/svm/base.py:931: ConvergenceWarning: Liblinear failed to converge, increase the number of iterations.\n",
      "  \"the number of iterations.\", ConvergenceWarning)\n"
     ]
    },
    {
     "name": "stdout",
     "output_type": "stream",
     "text": [
      "."
     ]
    },
    {
     "name": "stderr",
     "output_type": "stream",
     "text": [
      "/home/eduardo/.virtualenvs/qa/lib/python3.6/site-packages/sklearn/svm/base.py:931: ConvergenceWarning: Liblinear failed to converge, increase the number of iterations.\n",
      "  \"the number of iterations.\", ConvergenceWarning)\n"
     ]
    },
    {
     "name": "stdout",
     "output_type": "stream",
     "text": [
      "."
     ]
    },
    {
     "name": "stderr",
     "output_type": "stream",
     "text": [
      "/home/eduardo/.virtualenvs/qa/lib/python3.6/site-packages/sklearn/svm/base.py:931: ConvergenceWarning: Liblinear failed to converge, increase the number of iterations.\n",
      "  \"the number of iterations.\", ConvergenceWarning)\n"
     ]
    },
    {
     "name": "stdout",
     "output_type": "stream",
     "text": [
      "."
     ]
    },
    {
     "name": "stderr",
     "output_type": "stream",
     "text": [
      "/home/eduardo/.virtualenvs/qa/lib/python3.6/site-packages/sklearn/svm/base.py:931: ConvergenceWarning: Liblinear failed to converge, increase the number of iterations.\n",
      "  \"the number of iterations.\", ConvergenceWarning)\n"
     ]
    },
    {
     "name": "stdout",
     "output_type": "stream",
     "text": [
      "."
     ]
    },
    {
     "name": "stderr",
     "output_type": "stream",
     "text": [
      "/home/eduardo/.virtualenvs/qa/lib/python3.6/site-packages/sklearn/svm/base.py:931: ConvergenceWarning: Liblinear failed to converge, increase the number of iterations.\n",
      "  \"the number of iterations.\", ConvergenceWarning)\n"
     ]
    },
    {
     "name": "stdout",
     "output_type": "stream",
     "text": [
      "."
     ]
    },
    {
     "name": "stderr",
     "output_type": "stream",
     "text": [
      "/home/eduardo/.virtualenvs/qa/lib/python3.6/site-packages/sklearn/svm/base.py:931: ConvergenceWarning: Liblinear failed to converge, increase the number of iterations.\n",
      "  \"the number of iterations.\", ConvergenceWarning)\n"
     ]
    },
    {
     "name": "stdout",
     "output_type": "stream",
     "text": [
      "."
     ]
    },
    {
     "name": "stderr",
     "output_type": "stream",
     "text": [
      "/home/eduardo/.virtualenvs/qa/lib/python3.6/site-packages/sklearn/svm/base.py:931: ConvergenceWarning: Liblinear failed to converge, increase the number of iterations.\n",
      "  \"the number of iterations.\", ConvergenceWarning)\n"
     ]
    },
    {
     "name": "stdout",
     "output_type": "stream",
     "text": [
      "."
     ]
    },
    {
     "name": "stderr",
     "output_type": "stream",
     "text": [
      "/home/eduardo/.virtualenvs/qa/lib/python3.6/site-packages/sklearn/svm/base.py:931: ConvergenceWarning: Liblinear failed to converge, increase the number of iterations.\n",
      "  \"the number of iterations.\", ConvergenceWarning)\n"
     ]
    },
    {
     "name": "stdout",
     "output_type": "stream",
     "text": [
      "."
     ]
    },
    {
     "name": "stderr",
     "output_type": "stream",
     "text": [
      "/home/eduardo/.virtualenvs/qa/lib/python3.6/site-packages/sklearn/svm/base.py:931: ConvergenceWarning: Liblinear failed to converge, increase the number of iterations.\n",
      "  \"the number of iterations.\", ConvergenceWarning)\n"
     ]
    },
    {
     "name": "stdout",
     "output_type": "stream",
     "text": [
      "\n",
      "Run time benchmark: 163.61614727973938\n",
      "\n",
      "\n",
      "Language:  pt\n",
      "\n",
      "1000|...."
     ]
    },
    {
     "name": "stderr",
     "output_type": "stream",
     "text": [
      "/home/eduardo/.virtualenvs/qa/lib/python3.6/site-packages/sklearn/svm/base.py:931: ConvergenceWarning: Liblinear failed to converge, increase the number of iterations.\n",
      "  \"the number of iterations.\", ConvergenceWarning)\n"
     ]
    },
    {
     "name": "stdout",
     "output_type": "stream",
     "text": [
      ".."
     ]
    },
    {
     "name": "stderr",
     "output_type": "stream",
     "text": [
      "/home/eduardo/.virtualenvs/qa/lib/python3.6/site-packages/sklearn/svm/base.py:931: ConvergenceWarning: Liblinear failed to converge, increase the number of iterations.\n",
      "  \"the number of iterations.\", ConvergenceWarning)\n"
     ]
    },
    {
     "name": "stdout",
     "output_type": "stream",
     "text": [
      "."
     ]
    },
    {
     "name": "stderr",
     "output_type": "stream",
     "text": [
      "/home/eduardo/.virtualenvs/qa/lib/python3.6/site-packages/sklearn/svm/base.py:931: ConvergenceWarning: Liblinear failed to converge, increase the number of iterations.\n",
      "  \"the number of iterations.\", ConvergenceWarning)\n"
     ]
    },
    {
     "name": "stdout",
     "output_type": "stream",
     "text": [
      "...\n",
      "2000|."
     ]
    },
    {
     "name": "stderr",
     "output_type": "stream",
     "text": [
      "/home/eduardo/.virtualenvs/qa/lib/python3.6/site-packages/sklearn/svm/base.py:931: ConvergenceWarning: Liblinear failed to converge, increase the number of iterations.\n",
      "  \"the number of iterations.\", ConvergenceWarning)\n"
     ]
    },
    {
     "name": "stdout",
     "output_type": "stream",
     "text": [
      "."
     ]
    },
    {
     "name": "stderr",
     "output_type": "stream",
     "text": [
      "/home/eduardo/.virtualenvs/qa/lib/python3.6/site-packages/sklearn/svm/base.py:931: ConvergenceWarning: Liblinear failed to converge, increase the number of iterations.\n",
      "  \"the number of iterations.\", ConvergenceWarning)\n"
     ]
    },
    {
     "name": "stdout",
     "output_type": "stream",
     "text": [
      "."
     ]
    },
    {
     "name": "stderr",
     "output_type": "stream",
     "text": [
      "/home/eduardo/.virtualenvs/qa/lib/python3.6/site-packages/sklearn/svm/base.py:931: ConvergenceWarning: Liblinear failed to converge, increase the number of iterations.\n",
      "  \"the number of iterations.\", ConvergenceWarning)\n"
     ]
    },
    {
     "name": "stdout",
     "output_type": "stream",
     "text": [
      "."
     ]
    },
    {
     "name": "stderr",
     "output_type": "stream",
     "text": [
      "/home/eduardo/.virtualenvs/qa/lib/python3.6/site-packages/sklearn/svm/base.py:931: ConvergenceWarning: Liblinear failed to converge, increase the number of iterations.\n",
      "  \"the number of iterations.\", ConvergenceWarning)\n"
     ]
    },
    {
     "name": "stdout",
     "output_type": "stream",
     "text": [
      "."
     ]
    },
    {
     "name": "stderr",
     "output_type": "stream",
     "text": [
      "/home/eduardo/.virtualenvs/qa/lib/python3.6/site-packages/sklearn/svm/base.py:931: ConvergenceWarning: Liblinear failed to converge, increase the number of iterations.\n",
      "  \"the number of iterations.\", ConvergenceWarning)\n"
     ]
    },
    {
     "name": "stdout",
     "output_type": "stream",
     "text": [
      "."
     ]
    },
    {
     "name": "stderr",
     "output_type": "stream",
     "text": [
      "/home/eduardo/.virtualenvs/qa/lib/python3.6/site-packages/sklearn/svm/base.py:931: ConvergenceWarning: Liblinear failed to converge, increase the number of iterations.\n",
      "  \"the number of iterations.\", ConvergenceWarning)\n"
     ]
    },
    {
     "name": "stdout",
     "output_type": "stream",
     "text": [
      "."
     ]
    },
    {
     "name": "stderr",
     "output_type": "stream",
     "text": [
      "/home/eduardo/.virtualenvs/qa/lib/python3.6/site-packages/sklearn/svm/base.py:931: ConvergenceWarning: Liblinear failed to converge, increase the number of iterations.\n",
      "  \"the number of iterations.\", ConvergenceWarning)\n"
     ]
    },
    {
     "name": "stdout",
     "output_type": "stream",
     "text": [
      "."
     ]
    },
    {
     "name": "stderr",
     "output_type": "stream",
     "text": [
      "/home/eduardo/.virtualenvs/qa/lib/python3.6/site-packages/sklearn/svm/base.py:931: ConvergenceWarning: Liblinear failed to converge, increase the number of iterations.\n",
      "  \"the number of iterations.\", ConvergenceWarning)\n"
     ]
    },
    {
     "name": "stdout",
     "output_type": "stream",
     "text": [
      "."
     ]
    },
    {
     "name": "stderr",
     "output_type": "stream",
     "text": [
      "/home/eduardo/.virtualenvs/qa/lib/python3.6/site-packages/sklearn/svm/base.py:931: ConvergenceWarning: Liblinear failed to converge, increase the number of iterations.\n",
      "  \"the number of iterations.\", ConvergenceWarning)\n"
     ]
    },
    {
     "name": "stdout",
     "output_type": "stream",
     "text": [
      "."
     ]
    },
    {
     "name": "stderr",
     "output_type": "stream",
     "text": [
      "/home/eduardo/.virtualenvs/qa/lib/python3.6/site-packages/sklearn/svm/base.py:931: ConvergenceWarning: Liblinear failed to converge, increase the number of iterations.\n",
      "  \"the number of iterations.\", ConvergenceWarning)\n"
     ]
    },
    {
     "name": "stdout",
     "output_type": "stream",
     "text": [
      "\n",
      "3000|."
     ]
    },
    {
     "name": "stderr",
     "output_type": "stream",
     "text": [
      "/home/eduardo/.virtualenvs/qa/lib/python3.6/site-packages/sklearn/svm/base.py:931: ConvergenceWarning: Liblinear failed to converge, increase the number of iterations.\n",
      "  \"the number of iterations.\", ConvergenceWarning)\n"
     ]
    },
    {
     "name": "stdout",
     "output_type": "stream",
     "text": [
      "."
     ]
    },
    {
     "name": "stderr",
     "output_type": "stream",
     "text": [
      "/home/eduardo/.virtualenvs/qa/lib/python3.6/site-packages/sklearn/svm/base.py:931: ConvergenceWarning: Liblinear failed to converge, increase the number of iterations.\n",
      "  \"the number of iterations.\", ConvergenceWarning)\n"
     ]
    },
    {
     "name": "stdout",
     "output_type": "stream",
     "text": [
      "."
     ]
    },
    {
     "name": "stderr",
     "output_type": "stream",
     "text": [
      "/home/eduardo/.virtualenvs/qa/lib/python3.6/site-packages/sklearn/svm/base.py:931: ConvergenceWarning: Liblinear failed to converge, increase the number of iterations.\n",
      "  \"the number of iterations.\", ConvergenceWarning)\n"
     ]
    },
    {
     "name": "stdout",
     "output_type": "stream",
     "text": [
      "."
     ]
    },
    {
     "name": "stderr",
     "output_type": "stream",
     "text": [
      "/home/eduardo/.virtualenvs/qa/lib/python3.6/site-packages/sklearn/svm/base.py:931: ConvergenceWarning: Liblinear failed to converge, increase the number of iterations.\n",
      "  \"the number of iterations.\", ConvergenceWarning)\n"
     ]
    },
    {
     "name": "stdout",
     "output_type": "stream",
     "text": [
      "."
     ]
    },
    {
     "name": "stderr",
     "output_type": "stream",
     "text": [
      "/home/eduardo/.virtualenvs/qa/lib/python3.6/site-packages/sklearn/svm/base.py:931: ConvergenceWarning: Liblinear failed to converge, increase the number of iterations.\n",
      "  \"the number of iterations.\", ConvergenceWarning)\n"
     ]
    },
    {
     "name": "stdout",
     "output_type": "stream",
     "text": [
      "."
     ]
    },
    {
     "name": "stderr",
     "output_type": "stream",
     "text": [
      "/home/eduardo/.virtualenvs/qa/lib/python3.6/site-packages/sklearn/svm/base.py:931: ConvergenceWarning: Liblinear failed to converge, increase the number of iterations.\n",
      "  \"the number of iterations.\", ConvergenceWarning)\n"
     ]
    },
    {
     "name": "stdout",
     "output_type": "stream",
     "text": [
      "."
     ]
    },
    {
     "name": "stderr",
     "output_type": "stream",
     "text": [
      "/home/eduardo/.virtualenvs/qa/lib/python3.6/site-packages/sklearn/svm/base.py:931: ConvergenceWarning: Liblinear failed to converge, increase the number of iterations.\n",
      "  \"the number of iterations.\", ConvergenceWarning)\n"
     ]
    },
    {
     "name": "stdout",
     "output_type": "stream",
     "text": [
      "."
     ]
    },
    {
     "name": "stderr",
     "output_type": "stream",
     "text": [
      "/home/eduardo/.virtualenvs/qa/lib/python3.6/site-packages/sklearn/svm/base.py:931: ConvergenceWarning: Liblinear failed to converge, increase the number of iterations.\n",
      "  \"the number of iterations.\", ConvergenceWarning)\n"
     ]
    },
    {
     "name": "stdout",
     "output_type": "stream",
     "text": [
      "."
     ]
    },
    {
     "name": "stderr",
     "output_type": "stream",
     "text": [
      "/home/eduardo/.virtualenvs/qa/lib/python3.6/site-packages/sklearn/svm/base.py:931: ConvergenceWarning: Liblinear failed to converge, increase the number of iterations.\n",
      "  \"the number of iterations.\", ConvergenceWarning)\n"
     ]
    },
    {
     "name": "stdout",
     "output_type": "stream",
     "text": [
      "."
     ]
    },
    {
     "name": "stderr",
     "output_type": "stream",
     "text": [
      "/home/eduardo/.virtualenvs/qa/lib/python3.6/site-packages/sklearn/svm/base.py:931: ConvergenceWarning: Liblinear failed to converge, increase the number of iterations.\n",
      "  \"the number of iterations.\", ConvergenceWarning)\n"
     ]
    },
    {
     "name": "stdout",
     "output_type": "stream",
     "text": [
      "\n",
      "4000|."
     ]
    },
    {
     "name": "stderr",
     "output_type": "stream",
     "text": [
      "/home/eduardo/.virtualenvs/qa/lib/python3.6/site-packages/sklearn/svm/base.py:931: ConvergenceWarning: Liblinear failed to converge, increase the number of iterations.\n",
      "  \"the number of iterations.\", ConvergenceWarning)\n"
     ]
    },
    {
     "name": "stdout",
     "output_type": "stream",
     "text": [
      "."
     ]
    },
    {
     "name": "stderr",
     "output_type": "stream",
     "text": [
      "/home/eduardo/.virtualenvs/qa/lib/python3.6/site-packages/sklearn/svm/base.py:931: ConvergenceWarning: Liblinear failed to converge, increase the number of iterations.\n",
      "  \"the number of iterations.\", ConvergenceWarning)\n"
     ]
    },
    {
     "name": "stdout",
     "output_type": "stream",
     "text": [
      "."
     ]
    },
    {
     "name": "stderr",
     "output_type": "stream",
     "text": [
      "/home/eduardo/.virtualenvs/qa/lib/python3.6/site-packages/sklearn/svm/base.py:931: ConvergenceWarning: Liblinear failed to converge, increase the number of iterations.\n",
      "  \"the number of iterations.\", ConvergenceWarning)\n"
     ]
    },
    {
     "name": "stdout",
     "output_type": "stream",
     "text": [
      "."
     ]
    },
    {
     "name": "stderr",
     "output_type": "stream",
     "text": [
      "/home/eduardo/.virtualenvs/qa/lib/python3.6/site-packages/sklearn/svm/base.py:931: ConvergenceWarning: Liblinear failed to converge, increase the number of iterations.\n",
      "  \"the number of iterations.\", ConvergenceWarning)\n"
     ]
    },
    {
     "name": "stdout",
     "output_type": "stream",
     "text": [
      "."
     ]
    },
    {
     "name": "stderr",
     "output_type": "stream",
     "text": [
      "/home/eduardo/.virtualenvs/qa/lib/python3.6/site-packages/sklearn/svm/base.py:931: ConvergenceWarning: Liblinear failed to converge, increase the number of iterations.\n",
      "  \"the number of iterations.\", ConvergenceWarning)\n"
     ]
    },
    {
     "name": "stdout",
     "output_type": "stream",
     "text": [
      "."
     ]
    },
    {
     "name": "stderr",
     "output_type": "stream",
     "text": [
      "/home/eduardo/.virtualenvs/qa/lib/python3.6/site-packages/sklearn/svm/base.py:931: ConvergenceWarning: Liblinear failed to converge, increase the number of iterations.\n",
      "  \"the number of iterations.\", ConvergenceWarning)\n"
     ]
    },
    {
     "name": "stdout",
     "output_type": "stream",
     "text": [
      "."
     ]
    },
    {
     "name": "stderr",
     "output_type": "stream",
     "text": [
      "/home/eduardo/.virtualenvs/qa/lib/python3.6/site-packages/sklearn/svm/base.py:931: ConvergenceWarning: Liblinear failed to converge, increase the number of iterations.\n",
      "  \"the number of iterations.\", ConvergenceWarning)\n"
     ]
    },
    {
     "name": "stdout",
     "output_type": "stream",
     "text": [
      "."
     ]
    },
    {
     "name": "stderr",
     "output_type": "stream",
     "text": [
      "/home/eduardo/.virtualenvs/qa/lib/python3.6/site-packages/sklearn/svm/base.py:931: ConvergenceWarning: Liblinear failed to converge, increase the number of iterations.\n",
      "  \"the number of iterations.\", ConvergenceWarning)\n"
     ]
    },
    {
     "name": "stdout",
     "output_type": "stream",
     "text": [
      "."
     ]
    },
    {
     "name": "stderr",
     "output_type": "stream",
     "text": [
      "/home/eduardo/.virtualenvs/qa/lib/python3.6/site-packages/sklearn/svm/base.py:931: ConvergenceWarning: Liblinear failed to converge, increase the number of iterations.\n",
      "  \"the number of iterations.\", ConvergenceWarning)\n"
     ]
    },
    {
     "name": "stdout",
     "output_type": "stream",
     "text": [
      "."
     ]
    },
    {
     "name": "stderr",
     "output_type": "stream",
     "text": [
      "/home/eduardo/.virtualenvs/qa/lib/python3.6/site-packages/sklearn/svm/base.py:931: ConvergenceWarning: Liblinear failed to converge, increase the number of iterations.\n",
      "  \"the number of iterations.\", ConvergenceWarning)\n"
     ]
    },
    {
     "name": "stdout",
     "output_type": "stream",
     "text": [
      "\n",
      "5500|."
     ]
    },
    {
     "name": "stderr",
     "output_type": "stream",
     "text": [
      "/home/eduardo/.virtualenvs/qa/lib/python3.6/site-packages/sklearn/svm/base.py:931: ConvergenceWarning: Liblinear failed to converge, increase the number of iterations.\n",
      "  \"the number of iterations.\", ConvergenceWarning)\n"
     ]
    },
    {
     "name": "stdout",
     "output_type": "stream",
     "text": [
      "."
     ]
    },
    {
     "name": "stderr",
     "output_type": "stream",
     "text": [
      "/home/eduardo/.virtualenvs/qa/lib/python3.6/site-packages/sklearn/svm/base.py:931: ConvergenceWarning: Liblinear failed to converge, increase the number of iterations.\n",
      "  \"the number of iterations.\", ConvergenceWarning)\n"
     ]
    },
    {
     "name": "stdout",
     "output_type": "stream",
     "text": [
      "."
     ]
    },
    {
     "name": "stderr",
     "output_type": "stream",
     "text": [
      "/home/eduardo/.virtualenvs/qa/lib/python3.6/site-packages/sklearn/svm/base.py:931: ConvergenceWarning: Liblinear failed to converge, increase the number of iterations.\n",
      "  \"the number of iterations.\", ConvergenceWarning)\n"
     ]
    },
    {
     "name": "stdout",
     "output_type": "stream",
     "text": [
      "."
     ]
    },
    {
     "name": "stderr",
     "output_type": "stream",
     "text": [
      "/home/eduardo/.virtualenvs/qa/lib/python3.6/site-packages/sklearn/svm/base.py:931: ConvergenceWarning: Liblinear failed to converge, increase the number of iterations.\n",
      "  \"the number of iterations.\", ConvergenceWarning)\n"
     ]
    },
    {
     "name": "stdout",
     "output_type": "stream",
     "text": [
      "."
     ]
    },
    {
     "name": "stderr",
     "output_type": "stream",
     "text": [
      "/home/eduardo/.virtualenvs/qa/lib/python3.6/site-packages/sklearn/svm/base.py:931: ConvergenceWarning: Liblinear failed to converge, increase the number of iterations.\n",
      "  \"the number of iterations.\", ConvergenceWarning)\n"
     ]
    },
    {
     "name": "stdout",
     "output_type": "stream",
     "text": [
      "."
     ]
    },
    {
     "name": "stderr",
     "output_type": "stream",
     "text": [
      "/home/eduardo/.virtualenvs/qa/lib/python3.6/site-packages/sklearn/svm/base.py:931: ConvergenceWarning: Liblinear failed to converge, increase the number of iterations.\n",
      "  \"the number of iterations.\", ConvergenceWarning)\n"
     ]
    },
    {
     "name": "stdout",
     "output_type": "stream",
     "text": [
      "."
     ]
    },
    {
     "name": "stderr",
     "output_type": "stream",
     "text": [
      "/home/eduardo/.virtualenvs/qa/lib/python3.6/site-packages/sklearn/svm/base.py:931: ConvergenceWarning: Liblinear failed to converge, increase the number of iterations.\n",
      "  \"the number of iterations.\", ConvergenceWarning)\n"
     ]
    },
    {
     "name": "stdout",
     "output_type": "stream",
     "text": [
      "."
     ]
    },
    {
     "name": "stderr",
     "output_type": "stream",
     "text": [
      "/home/eduardo/.virtualenvs/qa/lib/python3.6/site-packages/sklearn/svm/base.py:931: ConvergenceWarning: Liblinear failed to converge, increase the number of iterations.\n",
      "  \"the number of iterations.\", ConvergenceWarning)\n"
     ]
    },
    {
     "name": "stdout",
     "output_type": "stream",
     "text": [
      "."
     ]
    },
    {
     "name": "stderr",
     "output_type": "stream",
     "text": [
      "/home/eduardo/.virtualenvs/qa/lib/python3.6/site-packages/sklearn/svm/base.py:931: ConvergenceWarning: Liblinear failed to converge, increase the number of iterations.\n",
      "  \"the number of iterations.\", ConvergenceWarning)\n"
     ]
    },
    {
     "name": "stdout",
     "output_type": "stream",
     "text": [
      ".\n",
      "Run time benchmark: 144.99252271652222\n"
     ]
    },
    {
     "name": "stderr",
     "output_type": "stream",
     "text": [
      "/home/eduardo/.virtualenvs/qa/lib/python3.6/site-packages/sklearn/svm/base.py:931: ConvergenceWarning: Liblinear failed to converge, increase the number of iterations.\n",
      "  \"the number of iterations.\", ConvergenceWarning)\n"
     ]
    }
   ],
   "source": [
    "for language in ['en', 'es', 'pt']:\n",
    "    print('\\n\\nLanguage: ', language)\n",
    "    embedding = load_embedding(path_wordembedding + 'wiki.multi.' + language + '.vec')\n",
    "    dataset_train, dataset_test = load_uiuc(language)\n",
    "    dataset = pd.concat([dataset_train, dataset_test])\n",
    "    create_feature('tfidf', dataset, dataset, max_features=2000)\n",
    "    create_feature('embedding_sum', dataset, dataset, embedding)\n",
    "    create_feature('pos_hotencode', dataset, dataset)\n",
    "    create_feature('ner_hotencode', dataset, dataset)\n",
    "    model = {'name': 'svm', 'model': svm_linear}\n",
    "    \n",
    "    tfidf = np.array([list(r) for r in dataset['tfidf'].values])\n",
    "    tfidf = normalize(tfidf, norm='max')\n",
    "    \n",
    "    embedding = np.array([list(r) for r in dataset['embedding_sum'].values])\n",
    "    embedding = normalize(embedding, norm='max')\n",
    "    \n",
    "    pos = np.array([list(r) for r in dataset['pos_hotencode'].values])\n",
    "    \n",
    "    ner = np.array([list(r) for r in dataset['ner_hotencode'].values])\n",
    "    \n",
    "    X = np.array([list(x) + list(xx) + list(xxx) + list(xxxx) for x, xx, xxx, xxxx in zip(tfidf, embedding, pos, ner)])\n",
    "    \n",
    "    y = dataset['class'].values\n",
    "    \n",
    "    # run_benchmark_cv(model, X, y, [50, 100] + list(range(500, 5501, 500)),\n",
    "    run_benchmark_cv(model, X, y, [1000, 2000, 3000, 4000, 5500],\n",
    "                     save='results/UIUC_cv_svm_high_' + language + '.csv')"
   ]
  },
  {
   "cell_type": "markdown",
   "metadata": {},
   "source": [
    "#### BERT + CNN - Cross validation"
   ]
  },
  {
   "cell_type": "code",
   "execution_count": 6,
   "metadata": {
    "scrolled": true
   },
   "outputs": [
    {
     "name": "stdout",
     "output_type": "stream",
     "text": [
      "########## es ##########\n",
      "##### 1000 #####\n",
      "2019-08-30 00:15:56,544 The pre-trained model you are loading is a cased model but you have not set `do_lower_case` to False. We are setting `do_lower_case=False` for you but you may want to check this behavior.\n",
      "## 1 ##\n",
      "2019-08-30 00:16:44,314 {'ENTY', 'NUM', 'ABBR', 'HUM', 'DESC', 'LOC'}\n",
      "2019-08-30 00:16:44,526 ----------------------------------------------------------------------------------------------------\n",
      "2019-08-30 00:16:44,527 Evaluation method: MICRO_F1_SCORE\n",
      "2019-08-30 00:16:45,244 ----------------------------------------------------------------------------------------------------\n",
      "2019-08-30 00:16:47,386 epoch 1 - iter 0/32 - loss 1.77986097\n",
      "2019-08-30 00:16:50,576 epoch 1 - iter 3/32 - loss 8.04128671\n",
      "2019-08-30 00:16:53,477 epoch 1 - iter 6/32 - loss 6.44657620\n",
      "2019-08-30 00:16:56,890 epoch 1 - iter 9/32 - loss 5.41995763\n",
      "2019-08-30 00:16:59,525 epoch 1 - iter 12/32 - loss 4.59803794\n",
      "2019-08-30 00:17:02,758 epoch 1 - iter 15/32 - loss 4.05953870\n",
      "2019-08-30 00:17:05,243 epoch 1 - iter 18/32 - loss 3.72224909\n",
      "2019-08-30 00:17:07,545 epoch 1 - iter 21/32 - loss 3.51167005\n",
      "2019-08-30 00:17:10,339 epoch 1 - iter 24/32 - loss 3.30193014\n",
      "2019-08-30 00:17:12,779 epoch 1 - iter 27/32 - loss 3.11271808\n",
      "2019-08-30 00:17:15,432 epoch 1 - iter 30/32 - loss 2.96398597\n",
      "2019-08-30 00:17:19,988 ----------------------------------------------------------------------------------------------------\n",
      "2019-08-30 00:17:19,990 EPOCH 1 done: loss 2.9225 - lr 0.0010 - bad epochs 0\n",
      "2019-08-30 00:17:45,574 DEV : loss 1.491925597190857 - score 0.414\n",
      "2019-08-30 00:20:24,485 TEST : loss 1.555009126663208 - score 0.3543\n",
      "2019-08-30 00:20:30,585 ----------------------------------------------------------------------------------------------------\n",
      "2019-08-30 00:20:32,262 epoch 2 - iter 0/32 - loss 1.43309081\n",
      "2019-08-30 00:20:35,615 epoch 2 - iter 3/32 - loss 1.48707637\n",
      "2019-08-30 00:20:38,154 epoch 2 - iter 6/32 - loss 1.45918400\n",
      "2019-08-30 00:20:40,825 epoch 2 - iter 9/32 - loss 1.44427683\n",
      "2019-08-30 00:20:44,186 epoch 2 - iter 12/32 - loss 1.45274424\n",
      "2019-08-30 00:20:46,588 epoch 2 - iter 15/32 - loss 1.54006214\n",
      "2019-08-30 00:20:49,906 epoch 2 - iter 18/32 - loss 1.51053352\n",
      "2019-08-30 00:20:52,230 epoch 2 - iter 21/32 - loss 1.50892519\n",
      "2019-08-30 00:20:54,644 epoch 2 - iter 24/32 - loss 1.50424643\n",
      "2019-08-30 00:20:57,204 epoch 2 - iter 27/32 - loss 1.46728029\n",
      "2019-08-30 00:20:59,818 epoch 2 - iter 30/32 - loss 1.47675730\n",
      "2019-08-30 00:21:00,754 ----------------------------------------------------------------------------------------------------\n",
      "2019-08-30 00:21:00,755 EPOCH 2 done: loss 1.4765 - lr 0.0010 - bad epochs 0\n",
      "2019-08-30 00:21:27,474 DEV : loss 1.0383459329605103 - score 0.627\n",
      "2019-08-30 00:24:05,333 TEST : loss 1.213559865951538 - score 0.5525\n",
      "2019-08-30 00:24:11,365 ----------------------------------------------------------------------------------------------------\n",
      "2019-08-30 00:24:13,081 epoch 3 - iter 0/32 - loss 0.81076658\n",
      "2019-08-30 00:24:15,863 epoch 3 - iter 3/32 - loss 1.00681396\n",
      "2019-08-30 00:24:18,829 epoch 3 - iter 6/32 - loss 0.94119754\n",
      "2019-08-30 00:24:21,295 epoch 3 - iter 9/32 - loss 0.97659826\n",
      "2019-08-30 00:24:24,390 epoch 3 - iter 12/32 - loss 1.00549389\n",
      "2019-08-30 00:24:27,374 epoch 3 - iter 15/32 - loss 0.97889719\n",
      "2019-08-30 00:24:29,954 epoch 3 - iter 18/32 - loss 0.98655211\n",
      "2019-08-30 00:24:32,709 epoch 3 - iter 21/32 - loss 1.01434965\n",
      "2019-08-30 00:24:35,585 epoch 3 - iter 24/32 - loss 0.98979171\n",
      "2019-08-30 00:24:38,133 epoch 3 - iter 27/32 - loss 0.95655211\n",
      "2019-08-30 00:24:40,681 epoch 3 - iter 30/32 - loss 0.95934629\n",
      "2019-08-30 00:24:45,843 ----------------------------------------------------------------------------------------------------\n",
      "2019-08-30 00:24:45,844 EPOCH 3 done: loss 0.9617 - lr 0.0010 - bad epochs 0\n",
      "2019-08-30 00:25:11,952 DEV : loss 0.7354468703269958 - score 0.735\n",
      "2019-08-30 00:27:49,382 TEST : loss 1.0266112089157104 - score 0.613\n",
      "2019-08-30 00:27:55,132 ----------------------------------------------------------------------------------------------------\n",
      "2019-08-30 00:27:56,931 epoch 4 - iter 0/32 - loss 0.54112977\n",
      "2019-08-30 00:28:00,156 epoch 4 - iter 3/32 - loss 0.57914974\n",
      "2019-08-30 00:28:03,268 epoch 4 - iter 6/32 - loss 0.61689831\n",
      "2019-08-30 00:28:05,864 epoch 4 - iter 9/32 - loss 0.65689929\n",
      "2019-08-30 00:28:08,228 epoch 4 - iter 12/32 - loss 0.69386335\n",
      "2019-08-30 00:28:11,125 epoch 4 - iter 15/32 - loss 0.69800197\n",
      "2019-08-30 00:28:13,532 epoch 4 - iter 18/32 - loss 0.67146031\n",
      "2019-08-30 00:28:16,242 epoch 4 - iter 21/32 - loss 0.68691847\n",
      "2019-08-30 00:28:18,806 epoch 4 - iter 24/32 - loss 0.66560999\n",
      "2019-08-30 00:28:21,466 epoch 4 - iter 27/32 - loss 0.65997928\n",
      "2019-08-30 00:28:24,405 epoch 4 - iter 30/32 - loss 0.65483517\n",
      "2019-08-30 00:28:35,535 ----------------------------------------------------------------------------------------------------\n",
      "2019-08-30 00:28:35,537 EPOCH 4 done: loss 0.6476 - lr 0.0010 - bad epochs 0\n",
      "2019-08-30 00:29:01,546 DEV : loss 0.596771776676178 - score 0.782\n",
      "2019-08-30 00:31:39,571 TEST : loss 1.131138801574707 - score 0.6222\n",
      "2019-08-30 00:31:51,712 ----------------------------------------------------------------------------------------------------\n",
      "2019-08-30 00:31:51,714 Testing using best model ...\n",
      "2019-08-30 00:31:51,716 loading file flair_resources/qc_es_uiuc/best-model.pt\n",
      "2019-08-30 00:34:30,110 0.6222\t0.6222\t0.6222\n",
      "2019-08-30 00:34:30,112 \n",
      "MICRO_AVG: acc 0.4516 - f1-score 0.6222\n",
      "MACRO_AVG: acc 0.3781 - f1-score 0.5128666666666667\n",
      "ABBR       tp: 0 - fp: 0 - fn: 72 - tn: 5675 - precision: 0.0000 - recall: 0.0000 - accuracy: 0.0000 - f1-score: 0.0000\n",
      "DESC       tp: 836 - fp: 700 - fn: 356 - tn: 3855 - precision: 0.5443 - recall: 0.7013 - accuracy: 0.4419 - f1-score: 0.6129\n",
      "ENTY       tp: 333 - fp: 193 - fn: 841 - tn: 4380 - precision: 0.6331 - recall: 0.2836 - accuracy: 0.2436 - f1-score: 0.3917\n",
      "HUM        tp: 1226 - fp: 1072 - fn: 73 - tn: 3376 - precision: 0.5335 - recall: 0.9438 - accuracy: 0.5171 - f1-score: 0.6817\n",
      "LOC        tp: 534 - fp: 87 - fn: 377 - tn: 4749 - precision: 0.8599 - recall: 0.5862 - accuracy: 0.5351 - f1-score: 0.6971\n",
      "NUM        tp: 647 - fp: 119 - fn: 452 - tn: 4529 - precision: 0.8446 - recall: 0.5887 - accuracy: 0.5312 - f1-score: 0.6938\n",
      "2019-08-30 00:34:30,133 ----------------------------------------------------------------------------------------------------\n",
      "## 2 ##\n",
      "2019-08-30 00:37:41,169 {'ENTY', 'NUM', 'ABBR', 'HUM', 'DESC', 'LOC'}\n",
      "2019-08-30 00:37:41,231 ----------------------------------------------------------------------------------------------------\n",
      "2019-08-30 00:37:41,232 Evaluation method: MICRO_F1_SCORE\n",
      "2019-08-30 00:37:41,756 ----------------------------------------------------------------------------------------------------\n",
      "2019-08-30 00:37:43,686 epoch 1 - iter 0/32 - loss 3.81023049\n",
      "2019-08-30 00:37:46,764 epoch 1 - iter 3/32 - loss 6.37824732\n",
      "2019-08-30 00:37:50,235 epoch 1 - iter 6/32 - loss 5.03480944\n",
      "2019-08-30 00:37:54,061 epoch 1 - iter 9/32 - loss 4.62481666\n",
      "2019-08-30 00:37:57,246 epoch 1 - iter 12/32 - loss 3.98788348\n",
      "2019-08-30 00:38:00,102 epoch 1 - iter 15/32 - loss 3.57207513\n",
      "2019-08-30 00:38:02,925 epoch 1 - iter 18/32 - loss 3.29929186\n",
      "2019-08-30 00:38:05,492 epoch 1 - iter 21/32 - loss 3.04588066\n",
      "2019-08-30 00:38:08,282 epoch 1 - iter 24/32 - loss 2.84953965\n",
      "2019-08-30 00:38:11,751 epoch 1 - iter 27/32 - loss 2.67775103\n",
      "2019-08-30 00:38:14,998 epoch 1 - iter 30/32 - loss 2.54048370\n",
      "2019-08-30 00:38:20,365 ----------------------------------------------------------------------------------------------------\n",
      "2019-08-30 00:38:20,366 EPOCH 1 done: loss 2.4998 - lr 0.0010 - bad epochs 0\n",
      "2019-08-30 00:38:49,405 DEV : loss 1.059327244758606 - score 0.542\n",
      "2019-08-30 00:41:27,754 TEST : loss 1.2374347448349 - score 0.4883\n",
      "2019-08-30 00:41:33,204 ----------------------------------------------------------------------------------------------------\n",
      "2019-08-30 00:41:35,060 epoch 2 - iter 0/32 - loss 1.14122546\n",
      "2019-08-30 00:41:38,301 epoch 2 - iter 3/32 - loss 0.89099869\n",
      "2019-08-30 00:41:41,059 epoch 2 - iter 6/32 - loss 1.14725838\n",
      "2019-08-30 00:41:43,951 epoch 2 - iter 9/32 - loss 1.07715131\n"
     ]
    },
    {
     "name": "stdout",
     "output_type": "stream",
     "text": [
      "2019-08-30 00:41:46,920 epoch 2 - iter 12/32 - loss 1.03961400\n",
      "2019-08-30 00:41:49,447 epoch 2 - iter 15/32 - loss 1.00217039\n",
      "2019-08-30 00:41:52,242 epoch 2 - iter 18/32 - loss 0.99930125\n",
      "2019-08-30 00:41:55,333 epoch 2 - iter 21/32 - loss 1.03038987\n",
      "2019-08-30 00:41:58,089 epoch 2 - iter 24/32 - loss 1.02364323\n",
      "2019-08-30 00:42:01,085 epoch 2 - iter 27/32 - loss 0.98668079\n",
      "2019-08-30 00:42:04,376 epoch 2 - iter 30/32 - loss 0.98622822\n",
      "2019-08-30 00:42:06,090 ----------------------------------------------------------------------------------------------------\n",
      "2019-08-30 00:42:06,092 EPOCH 2 done: loss 0.9702 - lr 0.0010 - bad epochs 0\n",
      "2019-08-30 00:42:34,942 DEV : loss 0.6005484461784363 - score 0.776\n",
      "2019-08-30 00:45:11,661 TEST : loss 0.9332205653190613 - score 0.672\n",
      "2019-08-30 00:45:18,071 ----------------------------------------------------------------------------------------------------\n",
      "2019-08-30 00:45:19,903 epoch 3 - iter 0/32 - loss 0.68040985\n",
      "2019-08-30 00:45:22,861 epoch 3 - iter 3/32 - loss 0.63866699\n",
      "2019-08-30 00:45:25,335 epoch 3 - iter 6/32 - loss 0.63818647\n",
      "2019-08-30 00:45:27,878 epoch 3 - iter 9/32 - loss 0.61247717\n",
      "2019-08-30 00:45:30,381 epoch 3 - iter 12/32 - loss 0.63713089\n",
      "2019-08-30 00:45:33,116 epoch 3 - iter 15/32 - loss 0.65513163\n",
      "2019-08-30 00:45:35,600 epoch 3 - iter 18/32 - loss 0.63714301\n",
      "2019-08-30 00:45:38,645 epoch 3 - iter 21/32 - loss 0.62940828\n",
      "2019-08-30 00:45:41,748 epoch 3 - iter 24/32 - loss 0.65310255\n",
      "2019-08-30 00:45:44,676 epoch 3 - iter 27/32 - loss 0.62296375\n",
      "2019-08-30 00:46:16,972 epoch 3 - iter 30/32 - loss 0.61459489\n",
      "2019-08-30 00:46:26,221 ----------------------------------------------------------------------------------------------------\n",
      "2019-08-30 00:46:26,222 EPOCH 3 done: loss 0.5989 - lr 0.0010 - bad epochs 0\n",
      "2019-08-30 00:46:54,417 DEV : loss 0.5236530303955078 - score 0.814\n",
      "2019-08-30 00:49:29,653 TEST : loss 0.9262608289718628 - score 0.6791\n",
      "2019-08-30 00:49:43,217 ----------------------------------------------------------------------------------------------------\n",
      "2019-08-30 00:49:45,770 epoch 4 - iter 0/32 - loss 0.55737448\n",
      "2019-08-30 00:49:48,348 epoch 4 - iter 3/32 - loss 0.62027433\n",
      "2019-08-30 00:49:51,090 epoch 4 - iter 6/32 - loss 0.58542752\n",
      "2019-08-30 00:49:53,673 epoch 4 - iter 9/32 - loss 0.51099157\n",
      "2019-08-30 00:49:56,307 epoch 4 - iter 12/32 - loss 0.46469240\n",
      "2019-08-30 00:49:59,115 epoch 4 - iter 15/32 - loss 0.44165919\n",
      "2019-08-30 00:50:02,183 epoch 4 - iter 18/32 - loss 0.44906785\n",
      "2019-08-30 00:50:04,894 epoch 4 - iter 21/32 - loss 0.44172092\n",
      "2019-08-30 00:50:07,410 epoch 4 - iter 24/32 - loss 0.42972408\n",
      "2019-08-30 00:50:10,220 epoch 4 - iter 27/32 - loss 0.42867171\n",
      "2019-08-30 00:50:12,803 epoch 4 - iter 30/32 - loss 0.42763688\n",
      "2019-08-30 00:50:13,457 ----------------------------------------------------------------------------------------------------\n",
      "2019-08-30 00:50:13,458 EPOCH 4 done: loss 0.4246 - lr 0.0010 - bad epochs 0\n",
      "2019-08-30 00:50:42,846 DEV : loss 0.28740188479423523 - score 0.905\n",
      "2019-08-30 00:53:18,926 TEST : loss 0.7933622002601624 - score 0.7432\n",
      "2019-08-30 00:53:31,042 ----------------------------------------------------------------------------------------------------\n",
      "2019-08-30 00:53:31,043 Testing using best model ...\n",
      "2019-08-30 00:53:31,045 loading file flair_resources/qc_es_uiuc/best-model.pt\n",
      "2019-08-30 00:56:05,467 0.7432\t0.7432\t0.7432\n",
      "2019-08-30 00:56:05,469 \n",
      "MICRO_AVG: acc 0.5913 - f1-score 0.7432\n",
      "MACRO_AVG: acc 0.5064 - f1-score 0.62615\n",
      "ABBR       tp: 0 - fp: 0 - fn: 72 - tn: 5675 - precision: 0.0000 - recall: 0.0000 - accuracy: 0.0000 - f1-score: 0.0000\n",
      "DESC       tp: 861 - fp: 497 - fn: 331 - tn: 4058 - precision: 0.6340 - recall: 0.7223 - accuracy: 0.5098 - f1-score: 0.6753\n",
      "ENTY       tp: 743 - fp: 402 - fn: 431 - tn: 4171 - precision: 0.6489 - recall: 0.6329 - accuracy: 0.4714 - f1-score: 0.6408\n",
      "HUM        tp: 1017 - fp: 169 - fn: 282 - tn: 4279 - precision: 0.8575 - recall: 0.7829 - accuracy: 0.6928 - f1-score: 0.8185\n",
      "LOC        tp: 692 - fp: 104 - fn: 219 - tn: 4732 - precision: 0.8693 - recall: 0.7596 - accuracy: 0.6818 - f1-score: 0.8108\n",
      "NUM        tp: 958 - fp: 304 - fn: 141 - tn: 4344 - precision: 0.7591 - recall: 0.8717 - accuracy: 0.6828 - f1-score: 0.8115\n",
      "2019-08-30 00:56:05,470 ----------------------------------------------------------------------------------------------------\n",
      "## 3 ##\n",
      "2019-08-30 00:58:39,940 {'ENTY', 'NUM', 'ABBR', 'HUM', 'DESC', 'LOC'}\n",
      "2019-08-30 00:58:39,968 ----------------------------------------------------------------------------------------------------\n",
      "2019-08-30 00:58:39,969 Evaluation method: MICRO_F1_SCORE\n",
      "2019-08-30 00:58:40,545 ----------------------------------------------------------------------------------------------------\n",
      "2019-08-30 00:58:43,015 epoch 1 - iter 0/32 - loss 6.63109732\n",
      "2019-08-30 00:58:45,915 epoch 1 - iter 3/32 - loss 6.58720553\n",
      "2019-08-30 00:58:48,379 epoch 1 - iter 6/32 - loss 4.72139825\n",
      "2019-08-30 00:58:50,852 epoch 1 - iter 9/32 - loss 3.86932734\n",
      "2019-08-30 00:58:53,229 epoch 1 - iter 12/32 - loss 3.71192577\n",
      "2019-08-30 00:58:55,664 epoch 1 - iter 15/32 - loss 3.29867099\n",
      "2019-08-30 00:58:58,402 epoch 1 - iter 18/32 - loss 2.98529058\n",
      "2019-08-30 01:00:00,889 epoch 1 - iter 21/32 - loss 2.77658846\n",
      "2019-08-30 01:00:04,179 epoch 1 - iter 24/32 - loss 2.62334589\n",
      "2019-08-30 01:00:06,805 epoch 1 - iter 27/32 - loss 2.45424537\n",
      "2019-08-30 01:00:09,615 epoch 1 - iter 30/32 - loss 2.33259941\n",
      "2019-08-30 01:00:20,977 ----------------------------------------------------------------------------------------------------\n",
      "2019-08-30 01:00:20,978 EPOCH 1 done: loss 2.2913 - lr 0.0010 - bad epochs 0\n",
      "2019-08-30 01:00:48,128 DEV : loss 1.212167501449585 - score 0.483\n",
      "2019-08-30 01:03:25,267 TEST : loss 1.3204808235168457 - score 0.4582\n",
      "2019-08-30 01:03:31,135 ----------------------------------------------------------------------------------------------------\n",
      "2019-08-30 01:03:33,261 epoch 2 - iter 0/32 - loss 1.37168431\n",
      "2019-08-30 01:03:35,676 epoch 2 - iter 3/32 - loss 1.31336075\n",
      "2019-08-30 01:03:39,758 epoch 2 - iter 6/32 - loss 1.10902746\n",
      "2019-08-30 01:03:53,328 epoch 2 - iter 9/32 - loss 1.13650507\n",
      "2019-08-30 01:04:14,872 epoch 2 - iter 12/32 - loss 1.06579172\n",
      "2019-08-30 01:04:17,409 epoch 2 - iter 15/32 - loss 0.98555356\n",
      "2019-08-30 01:04:20,998 epoch 2 - iter 18/32 - loss 0.95697287\n",
      "2019-08-30 01:04:23,825 epoch 2 - iter 21/32 - loss 0.96988682\n",
      "2019-08-30 01:04:26,677 epoch 2 - iter 24/32 - loss 1.00106291\n",
      "2019-08-30 01:05:40,392 epoch 2 - iter 27/32 - loss 0.97805915\n",
      "2019-08-30 01:05:45,760 epoch 2 - iter 30/32 - loss 0.97570469\n",
      "2019-08-30 01:05:49,425 ----------------------------------------------------------------------------------------------------\n",
      "2019-08-30 01:05:49,426 EPOCH 2 done: loss 0.9618 - lr 0.0010 - bad epochs 0\n",
      "2019-08-30 01:06:20,276 DEV : loss 0.9499934315681458 - score 0.644\n",
      "2019-08-30 01:08:55,818 TEST : loss 1.172881841659546 - score 0.5871\n",
      "2019-08-30 01:09:03,231 ----------------------------------------------------------------------------------------------------\n",
      "2019-08-30 01:09:05,061 epoch 3 - iter 0/32 - loss 0.71653217\n",
      "2019-08-30 01:09:09,165 epoch 3 - iter 3/32 - loss 0.55672023\n",
      "2019-08-30 01:09:11,635 epoch 3 - iter 6/32 - loss 0.57157420\n",
      "2019-08-30 01:09:14,104 epoch 3 - iter 9/32 - loss 0.61838379\n",
      "2019-08-30 01:09:16,871 epoch 3 - iter 12/32 - loss 0.59102585\n",
      "2019-08-30 01:09:19,439 epoch 3 - iter 15/32 - loss 0.64318087\n",
      "2019-08-30 01:09:22,060 epoch 3 - iter 18/32 - loss 0.63414724\n",
      "2019-08-30 01:09:24,662 epoch 3 - iter 21/32 - loss 0.62994288\n",
      "2019-08-30 01:09:27,572 epoch 3 - iter 24/32 - loss 0.63460240\n",
      "2019-08-30 01:09:29,957 epoch 3 - iter 27/32 - loss 0.64447882\n",
      "2019-08-30 01:09:32,491 epoch 3 - iter 30/32 - loss 0.64617461\n",
      "2019-08-30 01:10:23,479 ----------------------------------------------------------------------------------------------------\n",
      "2019-08-30 01:10:24,156 EPOCH 3 done: loss 0.6557 - lr 0.0010 - bad epochs 0\n",
      "2019-08-30 01:10:52,657 DEV : loss 0.5032206773757935 - score 0.819\n",
      "2019-08-30 01:13:34,451 TEST : loss 0.7727564573287964 - score 0.7308\n",
      "2019-08-30 01:14:07,419 ----------------------------------------------------------------------------------------------------\n"
     ]
    },
    {
     "name": "stdout",
     "output_type": "stream",
     "text": [
      "2019-08-30 01:14:09,416 epoch 4 - iter 0/32 - loss 0.29436827\n",
      "2019-08-30 01:14:12,317 epoch 4 - iter 3/32 - loss 0.36847810\n",
      "2019-08-30 01:14:16,698 epoch 4 - iter 6/32 - loss 0.38930078\n",
      "2019-08-30 01:14:19,076 epoch 4 - iter 9/32 - loss 0.39506946\n",
      "2019-08-30 01:14:22,146 epoch 4 - iter 12/32 - loss 0.42571741\n",
      "2019-08-30 01:14:24,620 epoch 4 - iter 15/32 - loss 0.43147716\n",
      "2019-08-30 01:14:26,987 epoch 4 - iter 18/32 - loss 0.45169947\n",
      "2019-08-30 01:14:29,940 epoch 4 - iter 21/32 - loss 0.46752783\n",
      "2019-08-30 01:14:32,542 epoch 4 - iter 24/32 - loss 0.48703005\n",
      "2019-08-30 01:14:35,146 epoch 4 - iter 27/32 - loss 0.48262915\n",
      "2019-08-30 01:14:37,769 epoch 4 - iter 30/32 - loss 0.48836879\n",
      "2019-08-30 01:14:51,805 ----------------------------------------------------------------------------------------------------\n",
      "2019-08-30 01:14:51,992 EPOCH 4 done: loss 0.4909 - lr 0.0010 - bad epochs 0\n",
      "2019-08-30 01:15:19,717 DEV : loss 0.3683728873729706 - score 0.866\n",
      "2019-08-30 01:17:58,523 TEST : loss 0.7220665812492371 - score 0.7545\n",
      "2019-08-30 01:18:11,334 ----------------------------------------------------------------------------------------------------\n",
      "2019-08-30 01:18:11,335 Testing using best model ...\n",
      "2019-08-30 01:18:11,337 loading file flair_resources/qc_es_uiuc/best-model.pt\n",
      "2019-08-30 01:20:51,290 0.7545\t0.7545\t0.7545\n",
      "2019-08-30 01:20:51,292 \n",
      "MICRO_AVG: acc 0.6058 - f1-score 0.7545\n",
      "MACRO_AVG: acc 0.5167 - f1-score 0.6338333333333334\n",
      "ABBR       tp: 0 - fp: 0 - fn: 72 - tn: 5675 - precision: 0.0000 - recall: 0.0000 - accuracy: 0.0000 - f1-score: 0.0000\n",
      "DESC       tp: 662 - fp: 97 - fn: 530 - tn: 4458 - precision: 0.8722 - recall: 0.5554 - accuracy: 0.5136 - f1-score: 0.6786\n",
      "ENTY       tp: 850 - fp: 557 - fn: 324 - tn: 4016 - precision: 0.6041 - recall: 0.7240 - accuracy: 0.4910 - f1-score: 0.6586\n",
      "HUM        tp: 1096 - fp: 248 - fn: 203 - tn: 4200 - precision: 0.8155 - recall: 0.8437 - accuracy: 0.7085 - f1-score: 0.8294\n",
      "LOC        tp: 760 - fp: 123 - fn: 151 - tn: 4713 - precision: 0.8607 - recall: 0.8342 - accuracy: 0.7350 - f1-score: 0.8472\n",
      "NUM        tp: 968 - fp: 386 - fn: 131 - tn: 4262 - precision: 0.7149 - recall: 0.8808 - accuracy: 0.6519 - f1-score: 0.7892\n",
      "2019-08-30 01:20:51,292 ----------------------------------------------------------------------------------------------------\n",
      "## 4 ##\n",
      "2019-08-30 01:24:02,283 {'ENTY', 'NUM', 'ABBR', 'HUM', 'DESC', 'LOC'}\n",
      "2019-08-30 01:24:02,298 ----------------------------------------------------------------------------------------------------\n",
      "2019-08-30 01:24:02,299 Evaluation method: MICRO_F1_SCORE\n",
      "2019-08-30 01:24:08,685 ----------------------------------------------------------------------------------------------------\n",
      "2019-08-30 01:24:15,357 epoch 1 - iter 0/32 - loss 2.94213200\n",
      "2019-08-30 01:24:25,612 epoch 1 - iter 3/32 - loss 2.64262858\n",
      "2019-08-30 01:24:32,443 epoch 1 - iter 6/32 - loss 2.69168409\n",
      "2019-08-30 01:24:37,684 epoch 1 - iter 9/32 - loss 2.31258186\n",
      "2019-08-30 01:24:41,752 epoch 1 - iter 12/32 - loss 2.12760345\n",
      "2019-08-30 01:24:45,136 epoch 1 - iter 15/32 - loss 2.26297869\n",
      "2019-08-30 01:24:48,647 epoch 1 - iter 18/32 - loss 2.14338060\n",
      "2019-08-30 01:24:53,476 epoch 1 - iter 21/32 - loss 1.99264981\n",
      "2019-08-30 01:24:56,666 epoch 1 - iter 24/32 - loss 1.90604028\n",
      "2019-08-30 01:25:00,186 epoch 1 - iter 27/32 - loss 1.84256778\n",
      "2019-08-30 01:25:04,717 epoch 1 - iter 30/32 - loss 1.79409732\n",
      "2019-08-30 01:25:12,495 ----------------------------------------------------------------------------------------------------\n",
      "2019-08-30 01:25:12,496 EPOCH 1 done: loss 1.7670 - lr 0.0010 - bad epochs 0\n",
      "2019-08-30 01:25:40,796 DEV : loss 0.8488213419914246 - score 0.682\n",
      "2019-08-30 01:28:20,999 TEST : loss 0.926421046257019 - score 0.6628\n",
      "2019-08-30 01:28:27,697 ----------------------------------------------------------------------------------------------------\n",
      "2019-08-30 01:28:30,076 epoch 2 - iter 0/32 - loss 1.00965571\n",
      "2019-08-30 01:28:32,767 epoch 2 - iter 3/32 - loss 0.91882524\n",
      "2019-08-30 01:28:35,314 epoch 2 - iter 6/32 - loss 0.85271413\n",
      "2019-08-30 01:28:37,537 epoch 2 - iter 9/32 - loss 0.84179212\n",
      "2019-08-30 01:28:40,061 epoch 2 - iter 12/32 - loss 0.82886429\n",
      "2019-08-30 01:28:43,004 epoch 2 - iter 15/32 - loss 0.84344924\n",
      "2019-08-30 01:28:45,506 epoch 2 - iter 18/32 - loss 0.81911837\n",
      "2019-08-30 01:28:47,976 epoch 2 - iter 21/32 - loss 0.81731200\n",
      "2019-08-30 01:28:50,740 epoch 2 - iter 24/32 - loss 0.78718756\n",
      "2019-08-30 01:28:53,464 epoch 2 - iter 27/32 - loss 0.80033631\n",
      "2019-08-30 01:28:56,487 epoch 2 - iter 30/32 - loss 0.78439948\n",
      "2019-08-30 01:28:57,304 ----------------------------------------------------------------------------------------------------\n",
      "2019-08-30 01:28:57,305 EPOCH 2 done: loss 0.7774 - lr 0.0010 - bad epochs 0\n",
      "2019-08-30 01:29:25,074 DEV : loss 0.5673277378082275 - score 0.813\n",
      "2019-08-30 01:32:04,536 TEST : loss 0.813525378704071 - score 0.74\n",
      "2019-08-30 01:32:10,500 ----------------------------------------------------------------------------------------------------\n",
      "2019-08-30 01:32:12,637 epoch 3 - iter 0/32 - loss 0.42068851\n",
      "2019-08-30 01:32:15,647 epoch 3 - iter 3/32 - loss 0.38735259\n",
      "2019-08-30 01:32:18,253 epoch 3 - iter 6/32 - loss 0.48001086\n",
      "2019-08-30 01:32:20,787 epoch 3 - iter 9/32 - loss 0.48088609\n",
      "2019-08-30 01:32:23,190 epoch 3 - iter 12/32 - loss 0.55157745\n",
      "2019-08-30 01:32:25,703 epoch 3 - iter 15/32 - loss 0.55544730\n",
      "2019-08-30 01:32:28,445 epoch 3 - iter 18/32 - loss 0.56149993\n",
      "2019-08-30 01:32:31,046 epoch 3 - iter 21/32 - loss 0.55003004\n",
      "2019-08-30 01:32:33,862 epoch 3 - iter 24/32 - loss 0.55478612\n",
      "2019-08-30 01:32:36,422 epoch 3 - iter 27/32 - loss 0.55906365\n",
      "2019-08-30 01:32:39,356 epoch 3 - iter 30/32 - loss 0.56133133\n",
      "2019-08-30 01:32:40,130 ----------------------------------------------------------------------------------------------------\n",
      "2019-08-30 01:32:40,132 EPOCH 3 done: loss 0.5522 - lr 0.0010 - bad epochs 0\n",
      "2019-08-30 01:33:07,059 DEV : loss 0.4723864197731018 - score 0.827\n",
      "2019-08-30 01:35:46,415 TEST : loss 0.7632725238800049 - score 0.7423\n",
      "2019-08-30 01:35:53,049 ----------------------------------------------------------------------------------------------------\n",
      "2019-08-30 01:35:55,215 epoch 4 - iter 0/32 - loss 0.34631804\n",
      "2019-08-30 01:35:57,979 epoch 4 - iter 3/32 - loss 0.33793675\n",
      "2019-08-30 01:36:00,764 epoch 4 - iter 6/32 - loss 0.38629368\n",
      "2019-08-30 01:36:03,224 epoch 4 - iter 9/32 - loss 0.43430187\n",
      "2019-08-30 01:36:05,492 epoch 4 - iter 12/32 - loss 0.44241797\n",
      "2019-08-30 01:36:08,239 epoch 4 - iter 15/32 - loss 0.42700024\n",
      "2019-08-30 01:36:10,961 epoch 4 - iter 18/32 - loss 0.43811579\n",
      "2019-08-30 01:36:13,657 epoch 4 - iter 21/32 - loss 0.43827479\n",
      "2019-08-30 01:36:16,329 epoch 4 - iter 24/32 - loss 0.45079205\n",
      "2019-08-30 01:36:18,731 epoch 4 - iter 27/32 - loss 0.45457559\n",
      "2019-08-30 01:36:21,504 epoch 4 - iter 30/32 - loss 0.44735003\n",
      "2019-08-30 01:36:22,511 ----------------------------------------------------------------------------------------------------\n",
      "2019-08-30 01:36:22,513 EPOCH 4 done: loss 0.4470 - lr 0.0010 - bad epochs 0\n",
      "2019-08-30 01:36:49,595 DEV : loss 1.4933942556381226 - score 0.583\n",
      "2019-08-30 01:39:28,705 TEST : loss 1.9573477506637573 - score 0.5265\n",
      "2019-08-30 01:39:34,419 ----------------------------------------------------------------------------------------------------\n",
      "2019-08-30 01:39:34,420 Testing using best model ...\n",
      "2019-08-30 01:39:34,422 loading file flair_resources/qc_es_uiuc/best-model.pt\n",
      "2019-08-30 01:42:18,574 0.7423\t0.7423\t0.7423\n",
      "2019-08-30 01:42:18,575 \n",
      "MICRO_AVG: acc 0.5902 - f1-score 0.7423\n",
      "MACRO_AVG: acc 0.5099 - f1-score 0.6284166666666666\n",
      "ABBR       tp: 0 - fp: 4 - fn: 72 - tn: 5671 - precision: 0.0000 - recall: 0.0000 - accuracy: 0.0000 - f1-score: 0.0000\n",
      "DESC       tp: 780 - fp: 357 - fn: 412 - tn: 4198 - precision: 0.6860 - recall: 0.6544 - accuracy: 0.5036 - f1-score: 0.6698\n",
      "ENTY       tp: 907 - fp: 682 - fn: 267 - tn: 3891 - precision: 0.5708 - recall: 0.7726 - accuracy: 0.4887 - f1-score: 0.6565\n",
      "HUM        tp: 1137 - fp: 324 - fn: 162 - tn: 4124 - precision: 0.7782 - recall: 0.8753 - accuracy: 0.7006 - f1-score: 0.8239\n",
      "LOC        tp: 739 - fp: 78 - fn: 172 - tn: 4758 - precision: 0.9045 - recall: 0.8112 - accuracy: 0.7472 - f1-score: 0.8553\n",
      "NUM        tp: 703 - fp: 36 - fn: 396 - tn: 4612 - precision: 0.9513 - recall: 0.6397 - accuracy: 0.6194 - f1-score: 0.7650\n"
     ]
    },
    {
     "name": "stdout",
     "output_type": "stream",
     "text": [
      "2019-08-30 01:42:18,577 ----------------------------------------------------------------------------------------------------\n",
      "## 5 ##\n",
      "2019-08-30 01:44:56,002 {'ENTY', 'NUM', 'ABBR', 'HUM', 'DESC', 'LOC'}\n",
      "2019-08-30 01:44:56,019 ----------------------------------------------------------------------------------------------------\n",
      "2019-08-30 01:44:56,020 Evaluation method: MICRO_F1_SCORE\n",
      "2019-08-30 01:44:56,674 ----------------------------------------------------------------------------------------------------\n",
      "2019-08-30 01:44:59,045 epoch 1 - iter 0/32 - loss 8.46961308\n",
      "2019-08-30 01:45:01,958 epoch 1 - iter 3/32 - loss 4.47838008\n",
      "2019-08-30 01:45:05,070 epoch 1 - iter 6/32 - loss 3.46463159\n",
      "2019-08-30 01:45:08,097 epoch 1 - iter 9/32 - loss 2.94123491\n",
      "2019-08-30 01:45:10,924 epoch 1 - iter 12/32 - loss 2.61017027\n",
      "2019-08-30 01:45:13,875 epoch 1 - iter 15/32 - loss 2.43157306\n",
      "2019-08-30 01:45:17,212 epoch 1 - iter 18/32 - loss 2.27864429\n",
      "2019-08-30 01:45:20,545 epoch 1 - iter 21/32 - loss 2.18892463\n",
      "2019-08-30 01:45:23,101 epoch 1 - iter 24/32 - loss 2.10218824\n",
      "2019-08-30 01:45:25,686 epoch 1 - iter 27/32 - loss 2.03623899\n",
      "2019-08-30 01:45:28,287 epoch 1 - iter 30/32 - loss 1.96891288\n",
      "2019-08-30 01:45:31,859 ----------------------------------------------------------------------------------------------------\n",
      "2019-08-30 01:45:31,860 EPOCH 1 done: loss 1.9292 - lr 0.0010 - bad epochs 0\n",
      "2019-08-30 01:46:01,124 DEV : loss 1.259720802307129 - score 0.558\n",
      "2019-08-30 01:48:37,148 TEST : loss 1.2725716829299927 - score 0.5274\n",
      "2019-08-30 01:48:43,088 ----------------------------------------------------------------------------------------------------\n",
      "2019-08-30 01:48:45,312 epoch 2 - iter 0/32 - loss 1.26610458\n",
      "2019-08-30 01:48:48,497 epoch 2 - iter 3/32 - loss 1.36596721\n",
      "2019-08-30 01:48:51,502 epoch 2 - iter 6/32 - loss 1.25406082\n",
      "2019-08-30 01:48:54,500 epoch 2 - iter 9/32 - loss 1.30122204\n",
      "2019-08-30 01:48:57,395 epoch 2 - iter 12/32 - loss 1.22501507\n",
      "2019-08-30 01:49:00,302 epoch 2 - iter 15/32 - loss 1.15204782\n",
      "2019-08-30 01:49:03,211 epoch 2 - iter 18/32 - loss 1.09486722\n",
      "2019-08-30 01:49:26,845 epoch 2 - iter 21/32 - loss 1.05021848\n",
      "2019-08-30 01:50:33,883 epoch 2 - iter 24/32 - loss 1.02907283\n",
      "2019-08-30 01:50:39,249 epoch 2 - iter 27/32 - loss 1.01580213\n",
      "2019-08-30 01:50:42,094 epoch 2 - iter 30/32 - loss 0.99968999\n",
      "2019-08-30 01:50:56,384 ----------------------------------------------------------------------------------------------------\n",
      "2019-08-30 01:50:56,889 EPOCH 2 done: loss 1.0015 - lr 0.0010 - bad epochs 0\n",
      "2019-08-30 01:51:35,494 DEV : loss 0.6012610197067261 - score 0.814\n",
      "2019-08-30 01:54:08,167 TEST : loss 0.7353589534759521 - score 0.766\n",
      "2019-08-30 01:54:14,486 ----------------------------------------------------------------------------------------------------\n",
      "2019-08-30 01:54:16,378 epoch 3 - iter 0/32 - loss 0.59061801\n",
      "2019-08-30 01:54:19,211 epoch 3 - iter 3/32 - loss 0.48215635\n",
      "2019-08-30 01:54:21,710 epoch 3 - iter 6/32 - loss 0.50548014\n",
      "2019-08-30 01:54:24,360 epoch 3 - iter 9/32 - loss 0.55276493\n",
      "2019-08-30 01:54:27,479 epoch 3 - iter 12/32 - loss 0.54621634\n",
      "2019-08-30 01:54:30,505 epoch 3 - iter 15/32 - loss 0.56853800\n",
      "2019-08-30 01:54:34,148 epoch 3 - iter 18/32 - loss 0.58610633\n",
      "2019-08-30 01:54:36,915 epoch 3 - iter 21/32 - loss 0.55969970\n",
      "2019-08-30 01:54:39,895 epoch 3 - iter 24/32 - loss 0.56954665\n",
      "2019-08-30 01:54:43,359 epoch 3 - iter 27/32 - loss 0.56512107\n",
      "2019-08-30 01:54:46,560 epoch 3 - iter 30/32 - loss 0.57145405\n",
      "2019-08-30 01:54:47,573 ----------------------------------------------------------------------------------------------------\n",
      "2019-08-30 01:54:47,574 EPOCH 3 done: loss 0.6057 - lr 0.0010 - bad epochs 0\n",
      "2019-08-30 01:55:16,106 DEV : loss 0.4953642189502716 - score 0.838\n",
      "2019-08-30 01:57:56,128 TEST : loss 0.7244405150413513 - score 0.7651\n",
      "2019-08-30 01:58:01,734 ----------------------------------------------------------------------------------------------------\n",
      "2019-08-30 01:58:04,021 epoch 4 - iter 0/32 - loss 0.51051217\n",
      "2019-08-30 01:58:06,832 epoch 4 - iter 3/32 - loss 0.34869611\n",
      "2019-08-30 01:58:09,527 epoch 4 - iter 6/32 - loss 0.44574091\n",
      "2019-08-30 01:58:12,458 epoch 4 - iter 9/32 - loss 0.45024219\n",
      "2019-08-30 01:58:15,517 epoch 4 - iter 12/32 - loss 0.44284964\n",
      "2019-08-30 01:58:18,731 epoch 4 - iter 15/32 - loss 0.45509165\n",
      "2019-08-30 01:58:21,426 epoch 4 - iter 18/32 - loss 0.48702278\n",
      "2019-08-30 01:58:24,545 epoch 4 - iter 21/32 - loss 0.48123931\n",
      "2019-08-30 01:58:27,474 epoch 4 - iter 24/32 - loss 0.47438755\n",
      "2019-08-30 01:58:29,961 epoch 4 - iter 27/32 - loss 0.48025503\n",
      "2019-08-30 01:58:32,351 epoch 4 - iter 30/32 - loss 0.47986426\n",
      "2019-08-30 01:58:36,111 ----------------------------------------------------------------------------------------------------\n",
      "2019-08-30 01:58:36,149 EPOCH 4 done: loss 0.4792 - lr 0.0010 - bad epochs 0\n",
      "2019-08-30 01:59:04,693 DEV : loss 0.5655675530433655 - score 0.812\n",
      "2019-08-30 02:01:42,053 TEST : loss 0.9686000347137451 - score 0.7263\n",
      "2019-08-30 02:01:48,544 ----------------------------------------------------------------------------------------------------\n",
      "2019-08-30 02:01:48,545 Testing using best model ...\n",
      "2019-08-30 02:01:48,658 loading file flair_resources/qc_es_uiuc/best-model.pt\n",
      "2019-08-30 02:04:32,880 0.7651\t0.7651\t0.7651\n",
      "2019-08-30 02:04:32,882 \n",
      "MICRO_AVG: acc 0.6196 - f1-score 0.7651\n",
      "MACRO_AVG: acc 0.5307 - f1-score 0.6456666666666667\n",
      "ABBR       tp: 0 - fp: 0 - fn: 72 - tn: 5675 - precision: 0.0000 - recall: 0.0000 - accuracy: 0.0000 - f1-score: 0.0000\n",
      "DESC       tp: 869 - fp: 340 - fn: 323 - tn: 4215 - precision: 0.7188 - recall: 0.7290 - accuracy: 0.5672 - f1-score: 0.7239\n",
      "ENTY       tp: 855 - fp: 512 - fn: 319 - tn: 4061 - precision: 0.6255 - recall: 0.7283 - accuracy: 0.5071 - f1-score: 0.6730\n",
      "HUM        tp: 947 - fp: 100 - fn: 352 - tn: 4348 - precision: 0.9045 - recall: 0.7290 - accuracy: 0.6769 - f1-score: 0.8073\n",
      "LOC        tp: 824 - fp: 247 - fn: 87 - tn: 4589 - precision: 0.7694 - recall: 0.9045 - accuracy: 0.7116 - f1-score: 0.8315\n",
      "NUM        tp: 902 - fp: 151 - fn: 197 - tn: 4497 - precision: 0.8566 - recall: 0.8207 - accuracy: 0.7216 - f1-score: 0.8383\n",
      "2019-08-30 02:04:32,883 ----------------------------------------------------------------------------------------------------\n",
      "## 6 ##\n",
      "2019-08-30 02:07:09,608 {'ENTY', 'NUM', 'ABBR', 'HUM', 'DESC', 'LOC'}\n",
      "2019-08-30 02:07:09,624 ----------------------------------------------------------------------------------------------------\n",
      "2019-08-30 02:07:09,626 Evaluation method: MICRO_F1_SCORE\n",
      "2019-08-30 02:07:10,379 ----------------------------------------------------------------------------------------------------\n",
      "2019-08-30 02:07:12,156 epoch 1 - iter 0/32 - loss 3.68590832\n",
      "2019-08-30 02:07:15,004 epoch 1 - iter 3/32 - loss 5.01110113\n",
      "2019-08-30 02:07:17,925 epoch 1 - iter 6/32 - loss 4.22360059\n",
      "2019-08-30 02:07:20,685 epoch 1 - iter 9/32 - loss 3.32497177\n",
      "2019-08-30 02:07:23,588 epoch 1 - iter 12/32 - loss 2.87120572\n",
      "2019-08-30 02:07:27,212 epoch 1 - iter 15/32 - loss 2.55602715\n",
      "2019-08-30 02:07:30,115 epoch 1 - iter 18/32 - loss 2.36035588\n",
      "2019-08-30 02:07:32,978 epoch 1 - iter 21/32 - loss 2.17109898\n",
      "2019-08-30 02:07:35,872 epoch 1 - iter 24/32 - loss 2.05124010\n",
      "2019-08-30 02:07:39,429 epoch 1 - iter 27/32 - loss 1.94357983\n",
      "2019-08-30 02:09:28,524 epoch 1 - iter 30/32 - loss 1.85139542\n",
      "2019-08-30 02:10:02,055 ----------------------------------------------------------------------------------------------------\n",
      "2019-08-30 02:10:02,917 EPOCH 1 done: loss 1.8311 - lr 0.0010 - bad epochs 0\n",
      "2019-08-30 02:10:34,906 DEV : loss 0.9327853918075562 - score 0.635\n",
      "2019-08-30 02:13:11,194 TEST : loss 0.999263346195221 - score 0.6097\n",
      "2019-08-30 02:13:17,452 ----------------------------------------------------------------------------------------------------\n",
      "2019-08-30 02:13:19,547 epoch 2 - iter 0/32 - loss 0.54888660\n",
      "2019-08-30 02:13:22,323 epoch 2 - iter 3/32 - loss 0.73187087\n",
      "2019-08-30 02:13:27,635 epoch 2 - iter 6/32 - loss 0.75424201\n",
      "2019-08-30 02:13:30,386 epoch 2 - iter 9/32 - loss 0.70798649\n",
      "2019-08-30 02:13:32,760 epoch 2 - iter 12/32 - loss 0.70648281\n",
      "2019-08-30 02:13:35,318 epoch 2 - iter 15/32 - loss 0.70618933\n"
     ]
    },
    {
     "name": "stdout",
     "output_type": "stream",
     "text": [
      "2019-08-30 02:13:38,011 epoch 2 - iter 18/32 - loss 0.73612964\n",
      "2019-08-30 02:13:40,875 epoch 2 - iter 21/32 - loss 0.74855922\n",
      "2019-08-30 02:13:43,803 epoch 2 - iter 24/32 - loss 0.74200044\n",
      "2019-08-30 02:13:46,585 epoch 2 - iter 27/32 - loss 0.74170662\n",
      "2019-08-30 02:13:49,176 epoch 2 - iter 30/32 - loss 0.76656455\n",
      "2019-08-30 02:13:50,114 ----------------------------------------------------------------------------------------------------\n",
      "2019-08-30 02:13:50,115 EPOCH 2 done: loss 0.7595 - lr 0.0010 - bad epochs 0\n",
      "2019-08-30 02:14:17,572 DEV : loss 0.642583966255188 - score 0.772\n",
      "2019-08-30 02:16:55,673 TEST : loss 0.7775426506996155 - score 0.7306\n",
      "2019-08-30 02:17:03,503 ----------------------------------------------------------------------------------------------------\n",
      "2019-08-30 02:17:05,275 epoch 3 - iter 0/32 - loss 0.71338159\n",
      "2019-08-30 02:17:08,624 epoch 3 - iter 3/32 - loss 0.63500477\n",
      "2019-08-30 02:17:11,665 epoch 3 - iter 6/32 - loss 0.59191082\n",
      "2019-08-30 02:17:14,069 epoch 3 - iter 9/32 - loss 0.56654490\n",
      "2019-08-30 02:17:16,807 epoch 3 - iter 12/32 - loss 0.57926446\n",
      "2019-08-30 02:17:19,325 epoch 3 - iter 15/32 - loss 0.59084688\n",
      "2019-08-30 02:17:23,145 epoch 3 - iter 18/32 - loss 0.57724614\n",
      "2019-08-30 02:17:25,978 epoch 3 - iter 21/32 - loss 0.57496839\n",
      "2019-08-30 02:17:28,932 epoch 3 - iter 24/32 - loss 0.60332779\n",
      "2019-08-30 02:17:31,318 epoch 3 - iter 27/32 - loss 0.60657855\n",
      "2019-08-30 02:17:33,889 epoch 3 - iter 30/32 - loss 0.61709988\n",
      "2019-08-30 02:17:35,950 ----------------------------------------------------------------------------------------------------\n",
      "2019-08-30 02:17:35,952 EPOCH 3 done: loss 0.6088 - lr 0.0010 - bad epochs 0\n",
      "2019-08-30 02:18:04,310 DEV : loss 0.48488014936447144 - score 0.823\n",
      "2019-08-30 02:20:41,972 TEST : loss 0.7143347263336182 - score 0.7681\n",
      "2019-08-30 02:20:48,337 ----------------------------------------------------------------------------------------------------\n",
      "2019-08-30 02:20:50,479 epoch 4 - iter 0/32 - loss 0.58204389\n",
      "2019-08-30 02:20:53,367 epoch 4 - iter 3/32 - loss 0.39131902\n",
      "2019-08-30 02:20:56,067 epoch 4 - iter 6/32 - loss 0.43684550\n",
      "2019-08-30 02:20:58,594 epoch 4 - iter 9/32 - loss 0.46006086\n",
      "2019-08-30 02:21:01,293 epoch 4 - iter 12/32 - loss 0.46174574\n",
      "2019-08-30 02:21:04,392 epoch 4 - iter 15/32 - loss 0.46480030\n",
      "2019-08-30 02:21:06,865 epoch 4 - iter 18/32 - loss 0.47108588\n",
      "2019-08-30 02:21:10,131 epoch 4 - iter 21/32 - loss 0.46457489\n",
      "2019-08-30 02:21:13,157 epoch 4 - iter 24/32 - loss 0.46322707\n",
      "2019-08-30 02:21:16,331 epoch 4 - iter 27/32 - loss 0.46629036\n",
      "2019-08-30 02:21:18,812 epoch 4 - iter 30/32 - loss 0.47699613\n",
      "2019-08-30 02:21:20,397 ----------------------------------------------------------------------------------------------------\n",
      "2019-08-30 02:21:20,399 EPOCH 4 done: loss 0.5030 - lr 0.0010 - bad epochs 0\n",
      "2019-08-30 02:21:47,924 DEV : loss 0.966198205947876 - score 0.711\n",
      "2019-08-30 02:24:25,417 TEST : loss 1.3043032884597778 - score 0.6574\n",
      "2019-08-30 02:24:32,394 ----------------------------------------------------------------------------------------------------\n",
      "2019-08-30 02:24:32,395 Testing using best model ...\n",
      "2019-08-30 02:24:32,397 loading file flair_resources/qc_es_uiuc/best-model.pt\n",
      "2019-08-30 02:27:12,696 0.7681\t0.7681\t0.7681\n",
      "2019-08-30 02:27:12,698 \n",
      "MICRO_AVG: acc 0.6234 - f1-score 0.7681\n",
      "MACRO_AVG: acc 0.5385 - f1-score 0.6480833333333335\n",
      "ABBR       tp: 0 - fp: 8 - fn: 72 - tn: 5667 - precision: 0.0000 - recall: 0.0000 - accuracy: 0.0000 - f1-score: 0.0000\n",
      "DESC       tp: 725 - fp: 238 - fn: 467 - tn: 4317 - precision: 0.7529 - recall: 0.6082 - accuracy: 0.5070 - f1-score: 0.6729\n",
      "ENTY       tp: 814 - fp: 504 - fn: 360 - tn: 4069 - precision: 0.6176 - recall: 0.6934 - accuracy: 0.4851 - f1-score: 0.6533\n",
      "HUM        tp: 1140 - fp: 353 - fn: 159 - tn: 4095 - precision: 0.7636 - recall: 0.8776 - accuracy: 0.6901 - f1-score: 0.8166\n",
      "LOC        tp: 818 - fp: 149 - fn: 93 - tn: 4687 - precision: 0.8459 - recall: 0.8979 - accuracy: 0.7717 - f1-score: 0.8711\n",
      "NUM        tp: 917 - fp: 81 - fn: 182 - tn: 4567 - precision: 0.9188 - recall: 0.8344 - accuracy: 0.7771 - f1-score: 0.8746\n",
      "2019-08-30 02:27:12,699 ----------------------------------------------------------------------------------------------------\n",
      "## 7 ##\n",
      "2019-08-30 02:29:52,311 {'ENTY', 'NUM', 'ABBR', 'HUM', 'DESC', 'LOC'}\n",
      "2019-08-30 02:29:52,326 ----------------------------------------------------------------------------------------------------\n",
      "2019-08-30 02:29:52,327 Evaluation method: MICRO_F1_SCORE\n",
      "2019-08-30 02:29:53,479 ----------------------------------------------------------------------------------------------------\n",
      "2019-08-30 02:29:55,465 epoch 1 - iter 0/32 - loss 3.22584772\n",
      "2019-08-30 02:30:18,431 epoch 1 - iter 3/32 - loss 2.36967856\n",
      "2019-08-30 02:30:22,108 epoch 1 - iter 6/32 - loss 2.04938638\n",
      "2019-08-30 02:30:42,200 epoch 1 - iter 9/32 - loss 1.86394789\n",
      "2019-08-30 02:30:44,944 epoch 1 - iter 12/32 - loss 1.80954586\n",
      "2019-08-30 02:31:15,288 epoch 1 - iter 15/32 - loss 1.77336518\n",
      "2019-08-30 02:31:18,712 epoch 1 - iter 18/32 - loss 1.67735157\n",
      "2019-08-30 02:31:21,929 epoch 1 - iter 21/32 - loss 1.62308232\n",
      "2019-08-30 02:31:24,643 epoch 1 - iter 24/32 - loss 1.57336992\n",
      "2019-08-30 02:31:48,720 epoch 1 - iter 27/32 - loss 1.56518964\n",
      "2019-08-30 02:31:57,252 epoch 1 - iter 30/32 - loss 1.53461895\n",
      "2019-08-30 02:32:20,728 ----------------------------------------------------------------------------------------------------\n",
      "2019-08-30 02:32:20,729 EPOCH 1 done: loss 1.5069 - lr 0.0010 - bad epochs 0\n",
      "2019-08-30 02:32:59,660 DEV : loss 1.0235868692398071 - score 0.625\n",
      "2019-08-30 02:36:01,667 TEST : loss 1.147400140762329 - score 0.5996\n",
      "2019-08-30 02:36:08,342 ----------------------------------------------------------------------------------------------------\n",
      "2019-08-30 02:36:10,884 epoch 2 - iter 0/32 - loss 1.03170192\n",
      "2019-08-30 02:36:14,548 epoch 2 - iter 3/32 - loss 1.08065669\n",
      "2019-08-30 02:36:17,294 epoch 2 - iter 6/32 - loss 1.02779872\n",
      "2019-08-30 02:36:20,458 epoch 2 - iter 9/32 - loss 0.99348568\n",
      "2019-08-30 02:36:22,827 epoch 2 - iter 12/32 - loss 0.99276687\n",
      "2019-08-30 02:36:26,815 epoch 2 - iter 15/32 - loss 1.00296737\n",
      "2019-08-30 02:36:29,479 epoch 2 - iter 18/32 - loss 0.95614156\n",
      "2019-08-30 02:36:32,026 epoch 2 - iter 21/32 - loss 0.94942582\n",
      "2019-08-30 02:36:34,744 epoch 2 - iter 24/32 - loss 0.91400624\n",
      "2019-08-30 02:36:37,306 epoch 2 - iter 27/32 - loss 0.89080440\n",
      "2019-08-30 02:36:40,821 epoch 2 - iter 30/32 - loss 0.88440917\n",
      "2019-08-30 02:37:03,731 ----------------------------------------------------------------------------------------------------\n",
      "2019-08-30 02:37:04,515 EPOCH 2 done: loss 0.8735 - lr 0.0010 - bad epochs 0\n",
      "2019-08-30 02:37:38,478 DEV : loss 0.644056499004364 - score 0.772\n",
      "2019-08-30 02:40:16,051 TEST : loss 0.9184430241584778 - score 0.7277\n",
      "2019-08-30 02:40:23,228 ----------------------------------------------------------------------------------------------------\n",
      "2019-08-30 02:40:25,152 epoch 3 - iter 0/32 - loss 0.67550087\n",
      "2019-08-30 02:40:28,355 epoch 3 - iter 3/32 - loss 0.68847403\n",
      "2019-08-30 02:40:31,133 epoch 3 - iter 6/32 - loss 0.61535679\n",
      "2019-08-30 02:40:35,352 epoch 3 - iter 9/32 - loss 0.55099187\n",
      "2019-08-30 02:40:38,565 epoch 3 - iter 12/32 - loss 0.55475344\n",
      "2019-08-30 02:40:41,542 epoch 3 - iter 15/32 - loss 0.54380506\n",
      "2019-08-30 02:40:44,360 epoch 3 - iter 18/32 - loss 0.58827187\n",
      "2019-08-30 02:40:47,035 epoch 3 - iter 21/32 - loss 0.59690357\n",
      "2019-08-30 02:40:49,959 epoch 3 - iter 24/32 - loss 0.60008674\n",
      "2019-08-30 02:40:52,450 epoch 3 - iter 27/32 - loss 0.58466522\n",
      "2019-08-30 02:40:55,687 epoch 3 - iter 30/32 - loss 0.58255465\n",
      "2019-08-30 02:40:56,629 ----------------------------------------------------------------------------------------------------\n",
      "2019-08-30 02:40:56,637 EPOCH 3 done: loss 0.5814 - lr 0.0010 - bad epochs 0\n",
      "2019-08-30 02:41:25,358 DEV : loss 0.5624706745147705 - score 0.804\n",
      "2019-08-30 02:44:05,110 TEST : loss 0.8403528928756714 - score 0.7484\n",
      "2019-08-30 02:44:11,005 ----------------------------------------------------------------------------------------------------\n",
      "2019-08-30 02:44:12,902 epoch 4 - iter 0/32 - loss 0.26107070\n",
      "2019-08-30 02:44:15,954 epoch 4 - iter 3/32 - loss 0.36880906\n"
     ]
    },
    {
     "name": "stdout",
     "output_type": "stream",
     "text": [
      "2019-08-30 02:44:18,593 epoch 4 - iter 6/32 - loss 0.36877178\n",
      "2019-08-30 02:44:21,369 epoch 4 - iter 9/32 - loss 0.38325475\n",
      "2019-08-30 02:44:24,362 epoch 4 - iter 12/32 - loss 0.42184563\n",
      "2019-08-30 02:44:27,023 epoch 4 - iter 15/32 - loss 0.42488693\n",
      "2019-08-30 02:44:29,895 epoch 4 - iter 18/32 - loss 0.44909219\n",
      "2019-08-30 02:44:32,654 epoch 4 - iter 21/32 - loss 0.46328877\n",
      "2019-08-30 02:44:35,970 epoch 4 - iter 24/32 - loss 0.45741438\n",
      "2019-08-30 02:44:39,549 epoch 4 - iter 27/32 - loss 0.44357761\n",
      "2019-08-30 02:44:42,548 epoch 4 - iter 30/32 - loss 0.44174075\n",
      "2019-08-30 02:44:43,958 ----------------------------------------------------------------------------------------------------\n",
      "2019-08-30 02:44:43,960 EPOCH 4 done: loss 0.4610 - lr 0.0010 - bad epochs 0\n",
      "2019-08-30 02:45:12,691 DEV : loss 0.3352341651916504 - score 0.88\n",
      "2019-08-30 02:47:49,526 TEST : loss 0.6712322235107422 - score 0.7893\n",
      "2019-08-30 02:48:02,298 ----------------------------------------------------------------------------------------------------\n",
      "2019-08-30 02:48:02,300 Testing using best model ...\n",
      "2019-08-30 02:48:02,362 loading file flair_resources/qc_es_uiuc/best-model.pt\n",
      "2019-08-30 02:50:41,682 0.7893\t0.7893\t0.7893\n",
      "2019-08-30 02:50:41,684 \n",
      "MICRO_AVG: acc 0.6519 - f1-score 0.7893\n",
      "MACRO_AVG: acc 0.5617 - f1-score 0.666\n",
      "ABBR       tp: 0 - fp: 0 - fn: 72 - tn: 5675 - precision: 0.0000 - recall: 0.0000 - accuracy: 0.0000 - f1-score: 0.0000\n",
      "DESC       tp: 954 - fp: 578 - fn: 238 - tn: 3977 - precision: 0.6227 - recall: 0.8003 - accuracy: 0.5390 - f1-score: 0.7004\n",
      "ENTY       tp: 746 - fp: 250 - fn: 428 - tn: 4323 - precision: 0.7490 - recall: 0.6354 - accuracy: 0.5239 - f1-score: 0.6875\n",
      "HUM        tp: 1113 - fp: 185 - fn: 186 - tn: 4263 - precision: 0.8575 - recall: 0.8568 - accuracy: 0.7500 - f1-score: 0.8571\n",
      "LOC        tp: 738 - fp: 53 - fn: 173 - tn: 4783 - precision: 0.9330 - recall: 0.8101 - accuracy: 0.7656 - f1-score: 0.8672\n",
      "NUM        tp: 985 - fp: 145 - fn: 114 - tn: 4503 - precision: 0.8717 - recall: 0.8963 - accuracy: 0.7918 - f1-score: 0.8838\n",
      "2019-08-30 02:50:41,685 ----------------------------------------------------------------------------------------------------\n",
      "## 8 ##\n",
      "2019-08-30 02:53:32,633 {'ENTY', 'NUM', 'ABBR', 'HUM', 'DESC', 'LOC'}\n",
      "2019-08-30 02:53:32,738 ----------------------------------------------------------------------------------------------------\n",
      "2019-08-30 02:53:32,739 Evaluation method: MICRO_F1_SCORE\n",
      "2019-08-30 02:53:33,907 ----------------------------------------------------------------------------------------------------\n",
      "2019-08-30 02:53:36,308 epoch 1 - iter 0/32 - loss 12.79017353\n",
      "2019-08-30 02:53:40,293 epoch 1 - iter 3/32 - loss 5.08987990\n",
      "2019-08-30 02:53:43,416 epoch 1 - iter 6/32 - loss 3.71273797\n",
      "2019-08-30 02:53:47,020 epoch 1 - iter 9/32 - loss 3.05534310\n",
      "2019-08-30 02:53:49,831 epoch 1 - iter 12/32 - loss 2.82720716\n",
      "2019-08-30 02:53:53,605 epoch 1 - iter 15/32 - loss 2.58357874\n",
      "2019-08-30 02:54:27,945 epoch 1 - iter 18/32 - loss 2.43540436\n",
      "2019-08-30 02:54:56,940 epoch 1 - iter 21/32 - loss 2.32809053\n",
      "2019-08-30 02:55:02,342 epoch 1 - iter 24/32 - loss 2.23784576\n",
      "2019-08-30 02:55:05,851 epoch 1 - iter 27/32 - loss 2.15525001\n",
      "2019-08-30 02:55:12,383 epoch 1 - iter 30/32 - loss 2.09552946\n",
      "2019-08-30 02:55:44,634 ----------------------------------------------------------------------------------------------------\n",
      "2019-08-30 02:55:45,488 EPOCH 1 done: loss 2.0586 - lr 0.0010 - bad epochs 0\n",
      "2019-08-30 02:56:21,696 DEV : loss 1.4641897678375244 - score 0.381\n",
      "2019-08-30 02:59:28,973 TEST : loss 1.5187244415283203 - score 0.3544\n",
      "2019-08-30 02:59:44,435 ----------------------------------------------------------------------------------------------------\n",
      "2019-08-30 02:59:46,526 epoch 2 - iter 0/32 - loss 1.42228901\n",
      "2019-08-30 02:59:50,643 epoch 2 - iter 3/32 - loss 1.53178141\n",
      "2019-08-30 02:59:53,676 epoch 2 - iter 6/32 - loss 1.54989692\n",
      "2019-08-30 02:59:56,902 epoch 2 - iter 9/32 - loss 1.54067538\n",
      "2019-08-30 03:00:01,031 epoch 2 - iter 12/32 - loss 1.54612833\n",
      "2019-08-30 03:00:03,812 epoch 2 - iter 15/32 - loss 1.57770045\n",
      "2019-08-30 03:00:06,659 epoch 2 - iter 18/32 - loss 1.56150857\n",
      "2019-08-30 03:00:31,989 epoch 2 - iter 21/32 - loss 1.53648729\n",
      "2019-08-30 03:01:14,161 epoch 2 - iter 24/32 - loss 1.53360205\n",
      "2019-08-30 03:01:21,458 epoch 2 - iter 27/32 - loss 1.52186725\n",
      "2019-08-30 03:01:24,338 epoch 2 - iter 30/32 - loss 1.51405674\n",
      "2019-08-30 03:01:29,697 ----------------------------------------------------------------------------------------------------\n",
      "2019-08-30 03:01:29,862 EPOCH 2 done: loss 1.5156 - lr 0.0010 - bad epochs 0\n",
      "2019-08-30 03:02:00,435 DEV : loss 1.4671337604522705 - score 0.37\n",
      "2019-08-30 03:04:47,996 TEST : loss 1.516481876373291 - score 0.343\n",
      "2019-08-30 03:04:49,647 ----------------------------------------------------------------------------------------------------\n",
      "2019-08-30 03:04:54,854 epoch 3 - iter 0/32 - loss 1.54813087\n",
      "2019-08-30 03:04:58,940 epoch 3 - iter 3/32 - loss 1.39293104\n",
      "2019-08-30 03:05:01,807 epoch 3 - iter 6/32 - loss 1.36218812\n",
      "2019-08-30 03:05:04,318 epoch 3 - iter 9/32 - loss 1.42038678\n",
      "2019-08-30 03:05:06,844 epoch 3 - iter 12/32 - loss 1.41210378\n",
      "2019-08-30 03:05:10,421 epoch 3 - iter 15/32 - loss 1.41280613\n",
      "2019-08-30 03:05:14,423 epoch 3 - iter 18/32 - loss 1.40427577\n",
      "2019-08-30 03:05:17,076 epoch 3 - iter 21/32 - loss 1.39879650\n",
      "2019-08-30 03:08:48,675 epoch 3 - iter 24/32 - loss 1.39685264\n",
      "2019-08-30 03:11:15,267 epoch 3 - iter 27/32 - loss 1.39381590\n",
      "2019-08-30 03:11:41,595 epoch 3 - iter 30/32 - loss 1.39018974\n",
      "2019-08-30 03:12:10,468 ----------------------------------------------------------------------------------------------------\n",
      "2019-08-30 03:12:10,505 EPOCH 3 done: loss 1.3934 - lr 0.0010 - bad epochs 1\n",
      "2019-08-30 03:13:03,589 DEV : loss 1.4055465459823608 - score 0.417\n",
      "2019-08-30 03:16:37,229 TEST : loss 1.4609761238098145 - score 0.3879\n",
      "2019-08-30 03:16:47,981 ----------------------------------------------------------------------------------------------------\n",
      "2019-08-30 03:16:50,390 epoch 4 - iter 0/32 - loss 1.38026965\n",
      "2019-08-30 03:16:53,092 epoch 4 - iter 3/32 - loss 1.31777316\n",
      "2019-08-30 03:16:55,944 epoch 4 - iter 6/32 - loss 1.30021243\n",
      "2019-08-30 03:16:58,642 epoch 4 - iter 9/32 - loss 1.30863262\n",
      "2019-08-30 03:17:01,417 epoch 4 - iter 12/32 - loss 1.30285998\n",
      "2019-08-30 03:17:04,802 epoch 4 - iter 15/32 - loss 1.29697607\n",
      "2019-08-30 03:17:08,295 epoch 4 - iter 18/32 - loss 1.29511275\n",
      "2019-08-30 03:17:11,365 epoch 4 - iter 21/32 - loss 1.28061789\n",
      "2019-08-30 03:17:13,741 epoch 4 - iter 24/32 - loss 1.28453816\n",
      "2019-08-30 03:17:16,279 epoch 4 - iter 27/32 - loss 1.29221220\n",
      "2019-08-30 03:17:19,493 epoch 4 - iter 30/32 - loss 1.29152621\n",
      "2019-08-30 03:17:35,091 ----------------------------------------------------------------------------------------------------\n",
      "2019-08-30 03:17:35,494 EPOCH 4 done: loss 1.2865 - lr 0.0010 - bad epochs 0\n",
      "2019-08-30 03:18:07,674 DEV : loss 1.2306170463562012 - score 0.49\n",
      "2019-08-30 03:20:48,979 TEST : loss 1.4175294637680054 - score 0.4319\n",
      "2019-08-30 03:21:02,303 ----------------------------------------------------------------------------------------------------\n",
      "2019-08-30 03:21:02,305 Testing using best model ...\n",
      "2019-08-30 03:21:02,307 loading file flair_resources/qc_es_uiuc/best-model.pt\n",
      "2019-08-30 03:23:38,717 0.4319\t0.4319\t0.4319\n",
      "2019-08-30 03:23:38,719 \n",
      "MICRO_AVG: acc 0.2754 - f1-score 0.4319\n",
      "MACRO_AVG: acc 0.2196 - f1-score 0.33531666666666665\n",
      "ABBR       tp: 0 - fp: 0 - fn: 72 - tn: 5675 - precision: 0.0000 - recall: 0.0000 - accuracy: 0.0000 - f1-score: 0.0000\n",
      "DESC       tp: 376 - fp: 66 - fn: 816 - tn: 4489 - precision: 0.8507 - recall: 0.3154 - accuracy: 0.2989 - f1-score: 0.4602\n",
      "ENTY       tp: 652 - fp: 570 - fn: 522 - tn: 4003 - precision: 0.5336 - recall: 0.5554 - accuracy: 0.3739 - f1-score: 0.5443\n",
      "HUM        tp: 1085 - fp: 2454 - fn: 214 - tn: 1994 - precision: 0.3066 - recall: 0.8353 - accuracy: 0.2891 - f1-score: 0.4486\n",
      "LOC        tp: 319 - fp: 109 - fn: 592 - tn: 4727 - precision: 0.7453 - recall: 0.3502 - accuracy: 0.3127 - f1-score: 0.4765\n",
      "NUM        tp: 50 - fp: 66 - fn: 1049 - tn: 4582 - precision: 0.4310 - recall: 0.0455 - accuracy: 0.0429 - f1-score: 0.0823\n"
     ]
    },
    {
     "name": "stdout",
     "output_type": "stream",
     "text": [
      "2019-08-30 03:23:38,720 ----------------------------------------------------------------------------------------------------\n",
      "## 9 ##\n",
      "2019-08-30 03:26:25,477 {'ENTY', 'NUM', 'ABBR', 'HUM', 'DESC', 'LOC'}\n",
      "2019-08-30 03:26:25,492 ----------------------------------------------------------------------------------------------------\n",
      "2019-08-30 03:26:25,494 Evaluation method: MICRO_F1_SCORE\n",
      "2019-08-30 03:26:26,288 ----------------------------------------------------------------------------------------------------\n",
      "2019-08-30 03:26:28,571 epoch 1 - iter 0/32 - loss 5.76605940\n",
      "2019-08-30 03:26:32,091 epoch 1 - iter 3/32 - loss 3.12136924\n",
      "2019-08-30 03:26:35,175 epoch 1 - iter 6/32 - loss 2.58436818\n",
      "2019-08-30 03:26:38,126 epoch 1 - iter 9/32 - loss 2.35934826\n",
      "2019-08-30 03:26:42,458 epoch 1 - iter 12/32 - loss 2.22664917\n",
      "2019-08-30 03:26:45,263 epoch 1 - iter 15/32 - loss 2.14590960\n",
      "2019-08-30 03:27:14,209 epoch 1 - iter 18/32 - loss 2.09085246\n",
      "2019-08-30 03:27:20,172 epoch 1 - iter 21/32 - loss 2.04510453\n",
      "2019-08-30 03:27:23,767 epoch 1 - iter 24/32 - loss 2.01082391\n",
      "2019-08-30 03:27:28,342 epoch 1 - iter 27/32 - loss 1.98328866\n",
      "2019-08-30 03:27:34,729 epoch 1 - iter 30/32 - loss 1.96035335\n",
      "2019-08-30 03:27:49,173 ----------------------------------------------------------------------------------------------------\n",
      "2019-08-30 03:27:49,230 EPOCH 1 done: loss 1.9555 - lr 0.0010 - bad epochs 0\n",
      "2019-08-30 03:28:23,969 DEV : loss 1.7454332113265991 - score 0.217\n",
      "2019-08-30 03:31:01,415 TEST : loss 1.7457846403121948 - score 0.2158\n",
      "2019-08-30 03:31:07,477 ----------------------------------------------------------------------------------------------------\n",
      "2019-08-30 03:31:09,671 epoch 2 - iter 0/32 - loss 1.72887421\n",
      "2019-08-30 03:31:12,607 epoch 2 - iter 3/32 - loss 1.74875459\n",
      "2019-08-30 03:31:15,338 epoch 2 - iter 6/32 - loss 1.74637163\n",
      "2019-08-30 03:31:52,508 epoch 2 - iter 9/32 - loss 1.74171153\n",
      "2019-08-30 03:31:56,175 epoch 2 - iter 12/32 - loss 1.73655774\n",
      "2019-08-30 03:32:39,351 epoch 2 - iter 15/32 - loss 1.74323429\n",
      "2019-08-30 03:32:45,534 epoch 2 - iter 18/32 - loss 1.74384948\n",
      "2019-08-30 03:32:50,831 epoch 2 - iter 21/32 - loss 1.73640996\n",
      "2019-08-30 03:32:53,610 epoch 2 - iter 24/32 - loss 1.73438798\n",
      "2019-08-30 03:32:56,733 epoch 2 - iter 27/32 - loss 1.73508545\n",
      "2019-08-30 03:33:00,476 epoch 2 - iter 30/32 - loss 1.73117706\n",
      "2019-08-30 03:33:44,366 ----------------------------------------------------------------------------------------------------\n",
      "2019-08-30 03:33:44,738 EPOCH 2 done: loss 1.7361 - lr 0.0010 - bad epochs 0\n",
      "2019-08-30 03:34:23,597 DEV : loss 1.7215087413787842 - score 0.217\n",
      "2019-08-30 03:37:46,983 TEST : loss 1.7206203937530518 - score 0.2159\n",
      "2019-08-30 03:37:53,595 ----------------------------------------------------------------------------------------------------\n",
      "2019-08-30 03:37:55,730 epoch 3 - iter 0/32 - loss 1.75446188\n",
      "2019-08-30 03:37:58,938 epoch 3 - iter 3/32 - loss 1.72620374\n",
      "2019-08-30 03:38:01,869 epoch 3 - iter 6/32 - loss 1.71683833\n",
      "2019-08-30 03:38:04,229 epoch 3 - iter 9/32 - loss 1.70665060\n",
      "2019-08-30 03:38:08,081 epoch 3 - iter 12/32 - loss 1.71150046\n",
      "2019-08-30 03:38:10,550 epoch 3 - iter 15/32 - loss 1.70612655\n",
      "2019-08-30 03:38:13,931 epoch 3 - iter 18/32 - loss 1.70714425\n",
      "2019-08-30 03:38:17,832 epoch 3 - iter 21/32 - loss 1.71176094\n",
      "2019-08-30 03:38:40,682 epoch 3 - iter 24/32 - loss 1.70962700\n",
      "2019-08-30 03:38:59,189 epoch 3 - iter 27/32 - loss 1.71087793\n",
      "2019-08-30 03:39:02,221 epoch 3 - iter 30/32 - loss 1.71091682\n",
      "2019-08-30 03:39:14,107 ----------------------------------------------------------------------------------------------------\n",
      "2019-08-30 03:39:14,513 EPOCH 3 done: loss 1.7108 - lr 0.0010 - bad epochs 1\n",
      "2019-08-30 03:39:45,566 DEV : loss 1.702652096748352 - score 0.217\n",
      "2019-08-30 03:42:28,411 TEST : loss 1.700397253036499 - score 0.2159\n",
      "2019-08-30 03:42:35,126 ----------------------------------------------------------------------------------------------------\n",
      "2019-08-30 03:42:37,482 epoch 4 - iter 0/32 - loss 1.69314325\n",
      "2019-08-30 03:42:40,495 epoch 4 - iter 3/32 - loss 1.69913363\n",
      "2019-08-30 03:42:43,980 epoch 4 - iter 6/32 - loss 1.68416812\n",
      "2019-08-30 03:42:46,722 epoch 4 - iter 9/32 - loss 1.67944528\n",
      "2019-08-30 03:42:49,308 epoch 4 - iter 12/32 - loss 1.68023036\n",
      "2019-08-30 03:42:52,776 epoch 4 - iter 15/32 - loss 1.68504215\n",
      "2019-08-30 03:43:12,506 epoch 4 - iter 18/32 - loss 1.69003962\n",
      "2019-08-30 03:43:29,097 epoch 4 - iter 21/32 - loss 1.68906924\n",
      "2019-08-30 03:43:34,664 epoch 4 - iter 24/32 - loss 1.68838367\n",
      "2019-08-30 03:43:37,164 epoch 4 - iter 27/32 - loss 1.69485678\n",
      "2019-08-30 03:43:39,611 epoch 4 - iter 30/32 - loss 1.69169931\n",
      "2019-08-30 03:43:46,622 ----------------------------------------------------------------------------------------------------\n",
      "2019-08-30 03:43:46,779 EPOCH 4 done: loss 1.6923 - lr 0.0010 - bad epochs 2\n",
      "2019-08-30 03:44:15,438 DEV : loss 1.6859989166259766 - score 0.217\n",
      "2019-08-30 03:46:58,576 TEST : loss 1.6822842359542847 - score 0.2158\n",
      "Epoch     3: reducing learning rate of group 0 to 5.0000e-04.\n",
      "2019-08-30 03:47:12,656 ----------------------------------------------------------------------------------------------------\n",
      "2019-08-30 03:47:12,732 Testing using best model ...\n",
      "2019-08-30 03:47:12,939 loading file flair_resources/qc_es_uiuc/best-model.pt\n",
      "2019-08-30 03:49:55,097 0.2158\t0.2158\t0.2158\n",
      "2019-08-30 03:49:55,099 \n",
      "MICRO_AVG: acc 0.1209 - f1-score 0.2158\n",
      "MACRO_AVG: acc 0.0394 - f1-score 0.0658\n",
      "ABBR       tp: 0 - fp: 0 - fn: 72 - tn: 5675 - precision: 0.0000 - recall: 0.0000 - accuracy: 0.0000 - f1-score: 0.0000\n",
      "DESC       tp: 0 - fp: 2 - fn: 1192 - tn: 4553 - precision: 0.0000 - recall: 0.0000 - accuracy: 0.0000 - f1-score: 0.0000\n",
      "ENTY       tp: 0 - fp: 8 - fn: 1174 - tn: 4565 - precision: 0.0000 - recall: 0.0000 - accuracy: 0.0000 - f1-score: 0.0000\n",
      "HUM        tp: 1219 - fp: 4310 - fn: 80 - tn: 138 - precision: 0.2205 - recall: 0.9384 - accuracy: 0.2173 - f1-score: 0.3571\n",
      "LOC        tp: 21 - fp: 183 - fn: 890 - tn: 4653 - precision: 0.1029 - recall: 0.0231 - accuracy: 0.0192 - f1-score: 0.0377\n",
      "NUM        tp: 0 - fp: 4 - fn: 1099 - tn: 4644 - precision: 0.0000 - recall: 0.0000 - accuracy: 0.0000 - f1-score: 0.0000\n",
      "2019-08-30 03:49:55,100 ----------------------------------------------------------------------------------------------------\n",
      "## 10 ##\n",
      "2019-08-30 03:52:45,537 {'ENTY', 'NUM', 'ABBR', 'HUM', 'DESC', 'LOC'}\n",
      "2019-08-30 03:52:45,572 ----------------------------------------------------------------------------------------------------\n",
      "2019-08-30 03:52:45,573 Evaluation method: MICRO_F1_SCORE\n",
      "2019-08-30 03:52:46,541 ----------------------------------------------------------------------------------------------------\n",
      "2019-08-30 03:52:48,923 epoch 1 - iter 0/32 - loss 2.39878654\n",
      "2019-08-30 03:52:51,969 epoch 1 - iter 3/32 - loss 2.07766053\n",
      "2019-08-30 03:52:55,062 epoch 1 - iter 6/32 - loss 1.97742346\n",
      "2019-08-30 03:53:03,421 epoch 1 - iter 9/32 - loss 1.91091093\n",
      "2019-08-30 03:53:07,515 epoch 1 - iter 12/32 - loss 1.87207470\n",
      "2019-08-30 03:53:11,039 epoch 1 - iter 15/32 - loss 1.86294801\n",
      "2019-08-30 03:53:14,899 epoch 1 - iter 18/32 - loss 1.84308907\n",
      "2019-08-30 03:53:53,405 epoch 1 - iter 21/32 - loss 2.10617522\n",
      "2019-08-30 03:54:38,556 epoch 1 - iter 24/32 - loss 2.04857619\n",
      "2019-08-30 03:54:57,678 epoch 1 - iter 27/32 - loss 2.00005094\n",
      "2019-08-30 03:55:15,792 epoch 1 - iter 30/32 - loss 1.97693591\n",
      "2019-08-30 03:55:18,589 ----------------------------------------------------------------------------------------------------\n",
      "2019-08-30 03:55:18,638 EPOCH 1 done: loss 1.9653 - lr 0.0010 - bad epochs 0\n",
      "2019-08-30 03:56:08,307 DEV : loss 1.5499539375305176 - score 0.373\n",
      "2019-08-30 03:59:42,332 TEST : loss 1.5435518026351929 - score 0.3809\n",
      "2019-08-30 03:59:50,213 ----------------------------------------------------------------------------------------------------\n",
      "2019-08-30 03:59:53,191 epoch 2 - iter 0/32 - loss 1.57456124\n",
      "2019-08-30 03:59:57,316 epoch 2 - iter 3/32 - loss 1.59965810\n",
      "2019-08-30 04:00:12,657 epoch 2 - iter 6/32 - loss 1.52663662\n",
      "2019-08-30 04:00:15,626 epoch 2 - iter 9/32 - loss 1.51660939\n",
      "2019-08-30 04:00:18,295 epoch 2 - iter 12/32 - loss 1.50197271\n",
      "2019-08-30 04:00:21,671 epoch 2 - iter 15/32 - loss 1.49223980\n"
     ]
    },
    {
     "name": "stdout",
     "output_type": "stream",
     "text": [
      "2019-08-30 04:00:25,107 epoch 2 - iter 18/32 - loss 1.44678915\n",
      "2019-08-30 04:00:42,565 epoch 2 - iter 21/32 - loss 1.45005693\n",
      "2019-08-30 04:00:47,657 epoch 2 - iter 24/32 - loss 1.42944946\n",
      "2019-08-30 04:00:52,362 epoch 2 - iter 27/32 - loss 1.38160244\n",
      "2019-08-30 04:00:55,963 epoch 2 - iter 30/32 - loss 1.36093566\n",
      "2019-08-30 04:01:01,184 ----------------------------------------------------------------------------------------------------\n",
      "2019-08-30 04:01:01,186 EPOCH 2 done: loss 1.3346 - lr 0.0010 - bad epochs 0\n",
      "2019-08-30 04:01:44,546 DEV : loss 1.4872339963912964 - score 0.528\n",
      "2019-08-30 04:04:50,460 TEST : loss 1.5606820583343506 - score 0.5157\n",
      "2019-08-30 04:04:57,868 ----------------------------------------------------------------------------------------------------\n",
      "2019-08-30 04:05:00,295 epoch 3 - iter 0/32 - loss 1.12190866\n",
      "2019-08-30 04:05:03,444 epoch 3 - iter 3/32 - loss 1.11403586\n",
      "2019-08-30 04:05:07,061 epoch 3 - iter 6/32 - loss 1.10233332\n",
      "2019-08-30 04:05:09,986 epoch 3 - iter 9/32 - loss 1.07038225\n",
      "2019-08-30 04:05:12,915 epoch 3 - iter 12/32 - loss 1.03872898\n",
      "2019-08-30 04:05:15,433 epoch 3 - iter 15/32 - loss 1.03995679\n",
      "2019-08-30 04:05:18,194 epoch 3 - iter 18/32 - loss 1.02319042\n",
      "2019-08-30 04:05:21,405 epoch 3 - iter 21/32 - loss 1.01259541\n",
      "2019-08-30 04:05:25,713 epoch 3 - iter 24/32 - loss 1.01389587\n",
      "2019-08-30 04:05:28,908 epoch 3 - iter 27/32 - loss 0.98326464\n",
      "2019-08-30 04:05:51,015 epoch 3 - iter 30/32 - loss 0.96210223\n",
      "2019-08-30 04:06:23,097 ----------------------------------------------------------------------------------------------------\n",
      "2019-08-30 04:06:23,593 EPOCH 3 done: loss 0.9649 - lr 0.0010 - bad epochs 0\n",
      "2019-08-30 04:07:04,055 DEV : loss 0.8582428693771362 - score 0.679\n",
      "2019-08-30 04:09:39,484 TEST : loss 0.9530079960823059 - score 0.6534\n",
      "2019-08-30 04:09:50,053 ----------------------------------------------------------------------------------------------------\n",
      "2019-08-30 04:09:52,497 epoch 4 - iter 0/32 - loss 0.56663376\n",
      "2019-08-30 04:09:55,105 epoch 4 - iter 3/32 - loss 0.84299311\n",
      "2019-08-30 04:09:58,790 epoch 4 - iter 6/32 - loss 0.84407945\n",
      "2019-08-30 04:10:01,287 epoch 4 - iter 9/32 - loss 0.84661022\n",
      "2019-08-30 04:10:05,867 epoch 4 - iter 12/32 - loss 0.87692127\n",
      "2019-08-30 04:10:08,404 epoch 4 - iter 15/32 - loss 0.86174719\n",
      "2019-08-30 04:10:11,565 epoch 4 - iter 18/32 - loss 0.87945276\n",
      "2019-08-30 04:10:14,005 epoch 4 - iter 21/32 - loss 0.83472006\n",
      "2019-08-30 04:10:16,857 epoch 4 - iter 24/32 - loss 0.82843693\n",
      "2019-08-30 04:10:20,366 epoch 4 - iter 27/32 - loss 0.82935008\n",
      "2019-08-30 04:10:23,156 epoch 4 - iter 30/32 - loss 0.81802711\n",
      "2019-08-30 04:10:31,260 ----------------------------------------------------------------------------------------------------\n",
      "2019-08-30 04:10:31,261 EPOCH 4 done: loss 0.8199 - lr 0.0010 - bad epochs 0\n",
      "2019-08-30 04:11:00,399 DEV : loss 0.7214147448539734 - score 0.722\n",
      "2019-08-30 04:13:37,085 TEST : loss 0.8635129332542419 - score 0.6741\n",
      "2019-08-30 04:13:49,723 ----------------------------------------------------------------------------------------------------\n",
      "2019-08-30 04:13:49,725 Testing using best model ...\n",
      "2019-08-30 04:13:49,824 loading file flair_resources/qc_es_uiuc/best-model.pt\n",
      "2019-08-30 04:16:24,737 0.6741\t0.6741\t0.6741\n",
      "2019-08-30 04:16:24,739 \n",
      "MICRO_AVG: acc 0.5084 - f1-score 0.6741\n",
      "MACRO_AVG: acc 0.4324 - f1-score 0.5371666666666667\n",
      "ABBR       tp: 0 - fp: 0 - fn: 72 - tn: 5675 - precision: 0.0000 - recall: 0.0000 - accuracy: 0.0000 - f1-score: 0.0000\n",
      "DESC       tp: 848 - fp: 580 - fn: 344 - tn: 3975 - precision: 0.5938 - recall: 0.7114 - accuracy: 0.4786 - f1-score: 0.6473\n",
      "ENTY       tp: 120 - fp: 157 - fn: 1054 - tn: 4416 - precision: 0.4332 - recall: 0.1022 - accuracy: 0.0902 - f1-score: 0.1654\n",
      "HUM        tp: 1188 - fp: 791 - fn: 111 - tn: 3657 - precision: 0.6003 - recall: 0.9145 - accuracy: 0.5684 - f1-score: 0.7248\n",
      "LOC        tp: 793 - fp: 213 - fn: 118 - tn: 4623 - precision: 0.7883 - recall: 0.8705 - accuracy: 0.7055 - f1-score: 0.8274\n",
      "NUM        tp: 925 - fp: 132 - fn: 174 - tn: 4516 - precision: 0.8751 - recall: 0.8417 - accuracy: 0.7514 - f1-score: 0.8581\n",
      "2019-08-30 04:16:24,740 ----------------------------------------------------------------------------------------------------\n",
      "##### 2000 #####\n",
      "2019-08-30 04:19:01,374 The pre-trained model you are loading is a cased model but you have not set `do_lower_case` to False. We are setting `do_lower_case=False` for you but you may want to check this behavior.\n",
      "## 1 ##\n",
      "2019-08-30 04:19:24,710 {'ENTY', 'NUM', 'ABBR', 'HUM', 'DESC', 'LOC'}\n",
      "2019-08-30 04:19:24,796 ----------------------------------------------------------------------------------------------------\n",
      "2019-08-30 04:19:24,797 Evaluation method: MICRO_F1_SCORE\n",
      "2019-08-30 04:19:25,597 ----------------------------------------------------------------------------------------------------\n",
      "2019-08-30 04:19:27,685 epoch 1 - iter 0/63 - loss 2.17991686\n",
      "2019-08-30 04:19:35,058 epoch 1 - iter 6/63 - loss 7.35930181\n",
      "2019-08-30 04:19:41,122 epoch 1 - iter 12/63 - loss 4.79234584\n",
      "2019-08-30 04:19:52,364 epoch 1 - iter 18/63 - loss 3.84908851\n",
      "2019-08-30 04:20:00,093 epoch 1 - iter 24/63 - loss 3.36407927\n",
      "2019-08-30 04:20:18,211 epoch 1 - iter 30/63 - loss 3.02907667\n",
      "2019-08-30 04:20:24,499 epoch 1 - iter 36/63 - loss 2.79894279\n",
      "2019-08-30 04:20:33,078 epoch 1 - iter 42/63 - loss 2.64051935\n",
      "2019-08-30 04:20:41,392 epoch 1 - iter 48/63 - loss 2.52197450\n",
      "2019-08-30 04:20:49,526 epoch 1 - iter 54/63 - loss 2.42807850\n",
      "2019-08-30 04:21:00,521 epoch 1 - iter 60/63 - loss 2.35982641\n",
      "2019-08-30 04:24:27,077 ----------------------------------------------------------------------------------------------------\n",
      "2019-08-30 04:24:28,764 EPOCH 1 done: loss 2.3317 - lr 0.0010 - bad epochs 0\n",
      "2019-08-30 04:25:52,738 DEV : loss 1.6774729490280151 - score 0.238\n",
      "2019-08-30 04:29:18,592 TEST : loss 1.710152506828308 - score 0.2374\n",
      "2019-08-30 04:29:25,058 ----------------------------------------------------------------------------------------------------\n",
      "2019-08-30 04:29:27,328 epoch 2 - iter 0/63 - loss 1.77582693\n",
      "2019-08-30 04:29:34,101 epoch 2 - iter 6/63 - loss 1.70975668\n",
      "2019-08-30 04:29:45,697 epoch 2 - iter 12/63 - loss 1.64692952\n",
      "2019-08-30 04:29:57,049 epoch 2 - iter 18/63 - loss 1.60229741\n",
      "2019-08-30 04:30:03,795 epoch 2 - iter 24/63 - loss 1.67553612\n",
      "2019-08-30 04:31:42,393 epoch 2 - iter 30/63 - loss 1.65640138\n",
      "2019-08-30 04:31:58,126 epoch 2 - iter 36/63 - loss 1.73221645\n",
      "2019-08-30 04:32:20,436 epoch 2 - iter 42/63 - loss 1.69054670\n",
      "2019-08-30 04:32:31,084 epoch 2 - iter 48/63 - loss 1.62098893\n",
      "2019-08-30 04:32:40,950 epoch 2 - iter 54/63 - loss 1.56762433\n",
      "2019-08-30 04:32:50,629 epoch 2 - iter 60/63 - loss 1.51463443\n",
      "2019-08-30 04:33:24,991 ----------------------------------------------------------------------------------------------------\n",
      "2019-08-30 04:33:24,992 EPOCH 2 done: loss 1.4929 - lr 0.0010 - bad epochs 0\n",
      "2019-08-30 04:34:29,603 DEV : loss 0.8569982647895813 - score 0.6715\n",
      "2019-08-30 04:37:05,781 TEST : loss 0.8960949182510376 - score 0.6552\n",
      "2019-08-30 04:37:15,425 ----------------------------------------------------------------------------------------------------\n",
      "2019-08-30 04:37:17,740 epoch 3 - iter 0/63 - loss 0.83939475\n",
      "2019-08-30 04:37:24,022 epoch 3 - iter 6/63 - loss 0.80037817\n",
      "2019-08-30 04:37:29,463 epoch 3 - iter 12/63 - loss 0.93805494\n",
      "2019-08-30 04:37:34,618 epoch 3 - iter 18/63 - loss 0.86171061\n",
      "2019-08-30 04:37:39,921 epoch 3 - iter 24/63 - loss 0.83938918\n",
      "2019-08-30 04:37:44,911 epoch 3 - iter 30/63 - loss 0.82673576\n",
      "2019-08-30 04:37:50,153 epoch 3 - iter 36/63 - loss 0.82812323\n",
      "2019-08-30 04:37:55,396 epoch 3 - iter 42/63 - loss 0.81434281\n",
      "2019-08-30 04:38:42,048 epoch 3 - iter 48/63 - loss 0.80569444\n",
      "2019-08-30 04:38:49,602 epoch 3 - iter 54/63 - loss 0.81593997\n",
      "2019-08-30 04:38:57,492 epoch 3 - iter 60/63 - loss 0.80755685\n",
      "2019-08-30 04:39:09,202 ----------------------------------------------------------------------------------------------------\n",
      "2019-08-30 04:39:09,555 EPOCH 3 done: loss 0.8028 - lr 0.0010 - bad epochs 0\n",
      "2019-08-30 04:40:15,114 DEV : loss 0.8822060227394104 - score 0.658\n",
      "2019-08-30 04:42:27,791 TEST : loss 0.9598836302757263 - score 0.6436\n"
     ]
    },
    {
     "name": "stdout",
     "output_type": "stream",
     "text": [
      "2019-08-30 04:42:27,893 ----------------------------------------------------------------------------------------------------\n",
      "2019-08-30 04:42:30,005 epoch 4 - iter 0/63 - loss 0.96202040\n",
      "2019-08-30 04:42:35,842 epoch 4 - iter 6/63 - loss 0.52275287\n",
      "2019-08-30 04:42:41,817 epoch 4 - iter 12/63 - loss 0.56042740\n",
      "2019-08-30 04:42:48,032 epoch 4 - iter 18/63 - loss 0.60783323\n",
      "2019-08-30 04:42:53,410 epoch 4 - iter 24/63 - loss 0.59525855\n",
      "2019-08-30 04:43:00,064 epoch 4 - iter 30/63 - loss 0.57500186\n",
      "2019-08-30 04:43:05,737 epoch 4 - iter 36/63 - loss 0.57795122\n",
      "2019-08-30 04:43:11,854 epoch 4 - iter 42/63 - loss 0.57601038\n",
      "2019-08-30 04:43:21,095 epoch 4 - iter 48/63 - loss 0.57952554\n",
      "2019-08-30 04:43:26,750 epoch 4 - iter 54/63 - loss 0.59178255\n",
      "2019-08-30 04:43:41,509 epoch 4 - iter 60/63 - loss 0.59554219\n",
      "2019-08-30 04:44:19,448 ----------------------------------------------------------------------------------------------------\n",
      "2019-08-30 04:44:20,344 EPOCH 4 done: loss 0.5898 - lr 0.0010 - bad epochs 1\n",
      "2019-08-30 04:45:20,382 DEV : loss 0.6315915584564209 - score 0.747\n",
      "2019-08-30 04:47:30,996 TEST : loss 0.8158837556838989 - score 0.7055\n",
      "2019-08-30 04:47:48,070 ----------------------------------------------------------------------------------------------------\n",
      "2019-08-30 04:47:48,072 Testing using best model ...\n",
      "2019-08-30 04:47:48,106 loading file flair_resources/qc_es_uiuc/best-model.pt\n",
      "2019-08-30 04:50:26,062 0.7055\t0.7055\t0.7055\n",
      "2019-08-30 04:50:26,064 \n",
      "MICRO_AVG: acc 0.545 - f1-score 0.7055\n",
      "MACRO_AVG: acc 0.5209 - f1-score 0.6620166666666667\n",
      "ABBR       tp: 16 - fp: 17 - fn: 44 - tn: 4670 - precision: 0.4848 - recall: 0.2667 - accuracy: 0.2078 - f1-score: 0.3441\n",
      "DESC       tp: 625 - fp: 232 - fn: 359 - tn: 3531 - precision: 0.7293 - recall: 0.6352 - accuracy: 0.5140 - f1-score: 0.6790\n",
      "ENTY       tp: 855 - fp: 1002 - fn: 114 - tn: 2776 - precision: 0.4604 - recall: 0.8824 - accuracy: 0.4338 - f1-score: 0.6051\n",
      "HUM        tp: 472 - fp: 4 - fn: 601 - tn: 3670 - precision: 0.9916 - recall: 0.4399 - accuracy: 0.4383 - f1-score: 0.6094\n",
      "LOC        tp: 657 - fp: 102 - fn: 96 - tn: 3892 - precision: 0.8656 - recall: 0.8725 - accuracy: 0.7684 - f1-score: 0.8690\n",
      "NUM        tp: 724 - fp: 41 - fn: 184 - tn: 3798 - precision: 0.9464 - recall: 0.7974 - accuracy: 0.7629 - f1-score: 0.8655\n",
      "2019-08-30 04:50:26,065 ----------------------------------------------------------------------------------------------------\n",
      "## 2 ##\n",
      "2019-08-30 04:52:54,036 {'ENTY', 'NUM', 'ABBR', 'HUM', 'DESC', 'LOC'}\n",
      "2019-08-30 04:52:54,183 ----------------------------------------------------------------------------------------------------\n",
      "2019-08-30 04:52:54,185 Evaluation method: MICRO_F1_SCORE\n",
      "2019-08-30 04:52:55,064 ----------------------------------------------------------------------------------------------------\n",
      "2019-08-30 04:52:57,116 epoch 1 - iter 0/63 - loss 3.97960114\n",
      "2019-08-30 04:53:03,812 epoch 1 - iter 6/63 - loss 4.17608372\n",
      "2019-08-30 04:53:17,068 epoch 1 - iter 12/63 - loss 3.28570782\n",
      "2019-08-30 04:53:23,113 epoch 1 - iter 18/63 - loss 2.85470716\n",
      "2019-08-30 04:53:29,203 epoch 1 - iter 24/63 - loss 2.55282565\n",
      "2019-08-30 04:53:34,522 epoch 1 - iter 30/63 - loss 2.29522316\n",
      "2019-08-30 04:53:57,521 epoch 1 - iter 36/63 - loss 2.09448770\n",
      "2019-08-30 04:54:07,762 epoch 1 - iter 42/63 - loss 1.93777156\n",
      "2019-08-30 04:54:42,899 epoch 1 - iter 48/63 - loss 1.81833432\n",
      "2019-08-30 04:56:09,693 epoch 1 - iter 54/63 - loss 1.74473844\n",
      "2019-08-30 04:56:31,269 epoch 1 - iter 60/63 - loss 1.66264391\n",
      "2019-08-30 04:56:57,445 ----------------------------------------------------------------------------------------------------\n",
      "2019-08-30 04:56:57,933 EPOCH 1 done: loss 1.6302 - lr 0.0010 - bad epochs 0\n",
      "2019-08-30 04:59:27,598 DEV : loss 0.7386354804039001 - score 0.7395\n",
      "2019-08-30 05:02:17,072 TEST : loss 0.8594343066215515 - score 0.7053\n",
      "2019-08-30 05:02:27,550 ----------------------------------------------------------------------------------------------------\n",
      "2019-08-30 05:02:29,734 epoch 2 - iter 0/63 - loss 0.37783864\n",
      "2019-08-30 05:02:35,604 epoch 2 - iter 6/63 - loss 0.65224874\n",
      "2019-08-30 05:02:41,161 epoch 2 - iter 12/63 - loss 0.64665372\n",
      "2019-08-30 05:02:47,183 epoch 2 - iter 18/63 - loss 0.64541665\n",
      "2019-08-30 05:02:52,864 epoch 2 - iter 24/63 - loss 0.65100130\n",
      "2019-08-30 05:02:57,792 epoch 2 - iter 30/63 - loss 0.64710637\n",
      "2019-08-30 05:03:03,177 epoch 2 - iter 36/63 - loss 0.65985601\n",
      "2019-08-30 05:03:09,560 epoch 2 - iter 42/63 - loss 0.65788879\n",
      "2019-08-30 05:03:15,106 epoch 2 - iter 48/63 - loss 0.65095875\n",
      "2019-08-30 05:03:20,701 epoch 2 - iter 54/63 - loss 0.65693917\n",
      "2019-08-30 05:03:26,115 epoch 2 - iter 60/63 - loss 0.65970352\n",
      "2019-08-30 05:03:51,284 ----------------------------------------------------------------------------------------------------\n",
      "2019-08-30 05:03:52,665 EPOCH 2 done: loss 0.6685 - lr 0.0010 - bad epochs 0\n",
      "2019-08-30 05:04:54,817 DEV : loss 0.5095283389091492 - score 0.816\n",
      "2019-08-30 05:07:03,421 TEST : loss 0.7468187212944031 - score 0.759\n",
      "2019-08-30 05:07:09,847 ----------------------------------------------------------------------------------------------------\n",
      "2019-08-30 05:07:11,752 epoch 3 - iter 0/63 - loss 0.53481579\n",
      "2019-08-30 05:07:18,700 epoch 3 - iter 6/63 - loss 0.45881871\n",
      "2019-08-30 05:07:24,489 epoch 3 - iter 12/63 - loss 0.48845949\n",
      "2019-08-30 05:07:51,051 epoch 3 - iter 18/63 - loss 0.50036573\n",
      "2019-08-30 05:08:34,605 epoch 3 - iter 24/63 - loss 0.47452282\n",
      "2019-08-30 05:08:41,667 epoch 3 - iter 30/63 - loss 0.48656035\n",
      "2019-08-30 05:08:47,010 epoch 3 - iter 36/63 - loss 0.49586817\n",
      "2019-08-30 05:08:51,972 epoch 3 - iter 42/63 - loss 0.48449784\n",
      "2019-08-30 05:08:57,564 epoch 3 - iter 48/63 - loss 0.49201010\n",
      "2019-08-30 05:09:45,889 epoch 3 - iter 54/63 - loss 0.50138344\n",
      "2019-08-30 05:09:59,364 epoch 3 - iter 60/63 - loss 0.49487773\n",
      "2019-08-30 05:10:40,034 ----------------------------------------------------------------------------------------------------\n",
      "2019-08-30 05:10:40,160 EPOCH 3 done: loss 0.5095 - lr 0.0010 - bad epochs 0\n",
      "2019-08-30 05:12:20,562 DEV : loss 0.5522002577781677 - score 0.804\n",
      "2019-08-30 05:14:46,289 TEST : loss 0.8087575435638428 - score 0.7224\n",
      "2019-08-30 05:14:46,332 ----------------------------------------------------------------------------------------------------\n",
      "2019-08-30 05:14:48,388 epoch 4 - iter 0/63 - loss 0.66514623\n",
      "2019-08-30 05:14:54,454 epoch 4 - iter 6/63 - loss 0.38549445\n",
      "2019-08-30 05:15:00,261 epoch 4 - iter 12/63 - loss 0.33582243\n",
      "2019-08-30 05:15:06,665 epoch 4 - iter 18/63 - loss 0.34444977\n",
      "2019-08-30 05:15:12,606 epoch 4 - iter 24/63 - loss 0.36290040\n",
      "2019-08-30 05:15:17,943 epoch 4 - iter 30/63 - loss 0.39137746\n",
      "2019-08-30 05:15:23,812 epoch 4 - iter 36/63 - loss 0.38259791\n",
      "2019-08-30 05:15:29,603 epoch 4 - iter 42/63 - loss 0.38583004\n",
      "2019-08-30 05:15:37,074 epoch 4 - iter 48/63 - loss 0.40165723\n",
      "2019-08-30 05:17:44,446 epoch 4 - iter 54/63 - loss 0.39210429\n",
      "2019-08-30 05:17:54,308 epoch 4 - iter 60/63 - loss 0.39562814\n",
      "2019-08-30 05:18:00,073 ----------------------------------------------------------------------------------------------------\n",
      "2019-08-30 05:18:00,240 EPOCH 4 done: loss 0.4070 - lr 0.0010 - bad epochs 1\n",
      "2019-08-30 05:19:12,111 DEV : loss 0.6065545678138733 - score 0.799\n",
      "2019-08-30 05:22:21,787 TEST : loss 0.9790175557136536 - score 0.6983\n",
      "2019-08-30 05:22:39,087 ----------------------------------------------------------------------------------------------------\n",
      "2019-08-30 05:22:39,089 Testing using best model ...\n",
      "2019-08-30 05:22:39,225 loading file flair_resources/qc_es_uiuc/best-model.pt\n",
      "2019-08-30 05:25:01,500 0.759\t0.759\t0.759\n",
      "2019-08-30 05:25:01,502 \n",
      "MICRO_AVG: acc 0.6116 - f1-score 0.759\n",
      "MACRO_AVG: acc 0.5254 - f1-score 0.6389166666666667\n",
      "ABBR       tp: 0 - fp: 0 - fn: 60 - tn: 4687 - precision: 0.0000 - recall: 0.0000 - accuracy: 0.0000 - f1-score: 0.0000\n",
      "DESC       tp: 560 - fp: 119 - fn: 424 - tn: 3644 - precision: 0.8247 - recall: 0.5691 - accuracy: 0.5077 - f1-score: 0.6735\n",
      "ENTY       tp: 683 - fp: 473 - fn: 286 - tn: 3305 - precision: 0.5908 - recall: 0.7049 - accuracy: 0.4736 - f1-score: 0.6428\n",
      "HUM        tp: 985 - fp: 380 - fn: 88 - tn: 3294 - precision: 0.7216 - recall: 0.9180 - accuracy: 0.6779 - f1-score: 0.8080\n",
      "LOC        tp: 578 - fp: 53 - fn: 175 - tn: 3941 - precision: 0.9160 - recall: 0.7676 - accuracy: 0.7171 - f1-score: 0.8353\n",
      "NUM        tp: 797 - fp: 119 - fn: 111 - tn: 3720 - precision: 0.8701 - recall: 0.8778 - accuracy: 0.7760 - f1-score: 0.8739\n"
     ]
    },
    {
     "name": "stdout",
     "output_type": "stream",
     "text": [
      "2019-08-30 05:25:01,503 ----------------------------------------------------------------------------------------------------\n",
      "## 3 ##\n",
      "2019-08-30 05:28:10,471 {'ABBR', 'NUM', 'ENTY', 'HUM', 'DESC', 'LOC'}\n",
      "2019-08-30 05:28:10,506 ----------------------------------------------------------------------------------------------------\n",
      "2019-08-30 05:28:10,507 Evaluation method: MICRO_F1_SCORE\n",
      "2019-08-30 05:28:11,458 ----------------------------------------------------------------------------------------------------\n",
      "2019-08-30 05:28:13,657 epoch 1 - iter 0/63 - loss 3.89572191\n",
      "2019-08-30 05:28:23,189 epoch 1 - iter 6/63 - loss 5.07361865\n",
      "2019-08-30 05:28:30,605 epoch 1 - iter 12/63 - loss 3.64696637\n",
      "2019-08-30 05:28:37,403 epoch 1 - iter 18/63 - loss 2.91157686\n",
      "2019-08-30 05:28:44,985 epoch 1 - iter 24/63 - loss 2.54759516\n",
      "2019-08-30 05:28:53,251 epoch 1 - iter 30/63 - loss 2.23323882\n",
      "2019-08-30 05:29:01,479 epoch 1 - iter 36/63 - loss 2.03466799\n",
      "2019-08-30 05:29:47,726 epoch 1 - iter 42/63 - loss 1.87697255\n",
      "2019-08-30 05:30:46,923 epoch 1 - iter 48/63 - loss 1.75764818\n",
      "2019-08-30 05:31:02,774 epoch 1 - iter 54/63 - loss 1.67407886\n",
      "2019-08-30 05:31:15,444 epoch 1 - iter 60/63 - loss 1.57143316\n",
      "2019-08-30 05:31:40,871 ----------------------------------------------------------------------------------------------------\n",
      "2019-08-30 05:31:40,936 EPOCH 1 done: loss 1.5451 - lr 0.0010 - bad epochs 0\n",
      "2019-08-30 05:32:42,019 DEV : loss 1.1619887351989746 - score 0.6205\n",
      "2019-08-30 05:35:23,461 TEST : loss 1.1939517259597778 - score 0.5979\n",
      "2019-08-30 05:37:04,565 ----------------------------------------------------------------------------------------------------\n",
      "2019-08-30 05:37:10,298 epoch 2 - iter 0/63 - loss 1.24759161\n",
      "2019-08-30 05:37:20,257 epoch 2 - iter 6/63 - loss 0.79629419\n",
      "2019-08-30 05:37:33,130 epoch 2 - iter 12/63 - loss 0.76183848\n",
      "2019-08-30 05:37:38,346 epoch 2 - iter 18/63 - loss 0.71493289\n",
      "2019-08-30 05:37:43,776 epoch 2 - iter 24/63 - loss 0.69794466\n",
      "2019-08-30 05:37:48,975 epoch 2 - iter 30/63 - loss 0.68897187\n",
      "2019-08-30 05:37:55,122 epoch 2 - iter 36/63 - loss 0.66787525\n",
      "2019-08-30 05:38:00,412 epoch 2 - iter 42/63 - loss 0.63661612\n",
      "2019-08-30 05:38:05,229 epoch 2 - iter 48/63 - loss 0.63401922\n",
      "2019-08-30 05:38:11,101 epoch 2 - iter 54/63 - loss 0.63523961\n",
      "2019-08-30 05:38:19,169 epoch 2 - iter 60/63 - loss 0.63162737\n",
      "2019-08-30 05:39:48,390 ----------------------------------------------------------------------------------------------------\n",
      "2019-08-30 05:39:50,165 EPOCH 2 done: loss 0.6276 - lr 0.0010 - bad epochs 0\n",
      "2019-08-30 05:41:28,820 DEV : loss 0.6952952146530151 - score 0.75\n",
      "2019-08-30 05:44:59,810 TEST : loss 0.8630439639091492 - score 0.6905\n",
      "2019-08-30 05:45:06,488 ----------------------------------------------------------------------------------------------------\n",
      "2019-08-30 05:45:09,210 epoch 3 - iter 0/63 - loss 1.18991458\n",
      "2019-08-30 05:45:14,915 epoch 3 - iter 6/63 - loss 0.58222249\n",
      "2019-08-30 05:45:34,201 epoch 3 - iter 12/63 - loss 0.58599443\n",
      "2019-08-30 05:46:15,224 epoch 3 - iter 18/63 - loss 0.58979412\n",
      "2019-08-30 05:46:38,611 epoch 3 - iter 24/63 - loss 0.53703953\n",
      "2019-08-30 05:46:44,680 epoch 3 - iter 30/63 - loss 0.54923573\n",
      "2019-08-30 05:46:50,901 epoch 3 - iter 36/63 - loss 0.54873001\n",
      "2019-08-30 05:46:56,029 epoch 3 - iter 42/63 - loss 0.55954673\n",
      "2019-08-30 05:48:53,176 epoch 3 - iter 48/63 - loss 0.53457147\n",
      "2019-08-30 05:49:02,027 epoch 3 - iter 54/63 - loss 0.53207726\n",
      "2019-08-30 05:49:10,033 epoch 3 - iter 60/63 - loss 0.52699607\n",
      "2019-08-30 05:50:14,348 ----------------------------------------------------------------------------------------------------\n",
      "2019-08-30 05:50:14,460 EPOCH 3 done: loss 0.5211 - lr 0.0010 - bad epochs 0\n",
      "2019-08-30 05:51:18,788 DEV : loss 0.3805605471134186 - score 0.868\n",
      "2019-08-30 05:53:53,065 TEST : loss 0.6181685328483582 - score 0.7978\n",
      "2019-08-30 05:54:01,053 ----------------------------------------------------------------------------------------------------\n",
      "2019-08-30 05:54:03,295 epoch 4 - iter 0/63 - loss 0.26311606\n",
      "2019-08-30 05:54:09,246 epoch 4 - iter 6/63 - loss 0.41374456\n",
      "2019-08-30 05:54:30,083 epoch 4 - iter 12/63 - loss 0.43359147\n",
      "2019-08-30 05:54:35,504 epoch 4 - iter 18/63 - loss 0.44762436\n",
      "2019-08-30 05:54:41,703 epoch 4 - iter 24/63 - loss 0.44333231\n",
      "2019-08-30 05:54:57,038 epoch 4 - iter 30/63 - loss 0.45184402\n",
      "2019-08-30 05:55:23,701 epoch 4 - iter 36/63 - loss 0.44908662\n",
      "2019-08-30 05:55:56,732 epoch 4 - iter 42/63 - loss 0.44745915\n",
      "2019-08-30 05:56:11,259 epoch 4 - iter 48/63 - loss 0.43272412\n",
      "2019-08-30 05:56:17,720 epoch 4 - iter 54/63 - loss 0.43516701\n",
      "2019-08-30 05:56:23,964 epoch 4 - iter 60/63 - loss 0.43190201\n",
      "2019-08-30 05:56:28,985 ----------------------------------------------------------------------------------------------------\n",
      "2019-08-30 05:56:29,010 EPOCH 4 done: loss 0.4291 - lr 0.0010 - bad epochs 0\n",
      "2019-08-30 05:57:33,160 DEV : loss 0.4072335362434387 - score 0.852\n",
      "2019-08-30 05:59:54,062 TEST : loss 0.7060054540634155 - score 0.7744\n",
      "2019-08-30 06:00:03,310 ----------------------------------------------------------------------------------------------------\n",
      "2019-08-30 06:00:03,311 Testing using best model ...\n",
      "2019-08-30 06:00:03,518 loading file flair_resources/qc_es_uiuc/best-model.pt\n",
      "2019-08-30 06:02:48,302 0.7978\t0.7978\t0.7978\n",
      "2019-08-30 06:02:48,304 \n",
      "MICRO_AVG: acc 0.6636 - f1-score 0.7978\n",
      "MACRO_AVG: acc 0.5722 - f1-score 0.6737833333333333\n",
      "ABBR       tp: 0 - fp: 0 - fn: 60 - tn: 4687 - precision: 0.0000 - recall: 0.0000 - accuracy: 0.0000 - f1-score: 0.0000\n",
      "DESC       tp: 720 - fp: 317 - fn: 264 - tn: 3446 - precision: 0.6943 - recall: 0.7317 - accuracy: 0.5534 - f1-score: 0.7125\n",
      "ENTY       tp: 717 - fp: 356 - fn: 252 - tn: 3422 - precision: 0.6682 - recall: 0.7399 - accuracy: 0.5411 - f1-score: 0.7022\n",
      "HUM        tp: 896 - fp: 117 - fn: 177 - tn: 3557 - precision: 0.8845 - recall: 0.8350 - accuracy: 0.7529 - f1-score: 0.8590\n",
      "LOC        tp: 660 - fp: 94 - fn: 93 - tn: 3900 - precision: 0.8753 - recall: 0.8765 - accuracy: 0.7792 - f1-score: 0.8759\n",
      "NUM        tp: 794 - fp: 76 - fn: 114 - tn: 3763 - precision: 0.9126 - recall: 0.8744 - accuracy: 0.8069 - f1-score: 0.8931\n",
      "2019-08-30 06:02:48,305 ----------------------------------------------------------------------------------------------------\n",
      "## 4 ##\n",
      "2019-08-30 06:05:49,559 {'ENTY', 'NUM', 'ABBR', 'HUM', 'DESC', 'LOC'}\n",
      "2019-08-30 06:05:50,124 ----------------------------------------------------------------------------------------------------\n",
      "2019-08-30 06:05:50,125 Evaluation method: MICRO_F1_SCORE\n",
      "2019-08-30 06:05:51,606 ----------------------------------------------------------------------------------------------------\n",
      "2019-08-30 06:05:53,912 epoch 1 - iter 0/63 - loss 2.45984316\n",
      "2019-08-30 06:06:00,285 epoch 1 - iter 6/63 - loss 2.58806414\n",
      "2019-08-30 06:06:08,297 epoch 1 - iter 12/63 - loss 2.01944111\n",
      "2019-08-30 06:06:16,454 epoch 1 - iter 18/63 - loss 1.81687096\n",
      "2019-08-30 06:06:33,243 epoch 1 - iter 24/63 - loss 1.65639473\n",
      "2019-08-30 06:06:40,133 epoch 1 - iter 30/63 - loss 1.61543235\n",
      "2019-08-30 06:06:57,167 epoch 1 - iter 36/63 - loss 1.50640906\n",
      "2019-08-30 06:07:18,464 epoch 1 - iter 42/63 - loss 1.40502558\n",
      "2019-08-30 06:07:28,613 epoch 1 - iter 48/63 - loss 1.34474454\n",
      "2019-08-30 06:07:40,868 epoch 1 - iter 54/63 - loss 1.29425583\n",
      "2019-08-30 06:07:52,363 epoch 1 - iter 60/63 - loss 1.25211890\n",
      "2019-08-30 06:08:09,341 ----------------------------------------------------------------------------------------------------\n",
      "2019-08-30 06:08:09,342 EPOCH 1 done: loss 1.2350 - lr 0.0010 - bad epochs 0\n",
      "2019-08-30 06:09:23,822 DEV : loss 0.8991038203239441 - score 0.702\n",
      "2019-08-30 06:11:44,659 TEST : loss 0.9831117987632751 - score 0.6884\n",
      "2019-08-30 06:11:52,024 ----------------------------------------------------------------------------------------------------\n",
      "2019-08-30 06:11:54,335 epoch 2 - iter 0/63 - loss 0.99122179\n",
      "2019-08-30 06:12:00,378 epoch 2 - iter 6/63 - loss 0.77409443\n",
      "2019-08-30 06:12:05,691 epoch 2 - iter 12/63 - loss 0.70507317\n",
      "2019-08-30 06:12:10,955 epoch 2 - iter 18/63 - loss 0.72063988\n",
      "2019-08-30 06:12:16,998 epoch 2 - iter 24/63 - loss 0.70693635\n",
      "2019-08-30 06:12:22,246 epoch 2 - iter 30/63 - loss 0.72727747\n"
     ]
    },
    {
     "name": "stdout",
     "output_type": "stream",
     "text": [
      "2019-08-30 06:12:41,644 epoch 2 - iter 36/63 - loss 0.70999384\n",
      "2019-08-30 06:12:47,471 epoch 2 - iter 42/63 - loss 0.72349023\n",
      "2019-08-30 06:13:41,835 epoch 2 - iter 48/63 - loss 0.71207783\n",
      "2019-08-30 06:13:49,874 epoch 2 - iter 54/63 - loss 0.70311885\n",
      "2019-08-30 06:13:56,021 epoch 2 - iter 60/63 - loss 0.70469071\n",
      "2019-08-30 06:14:17,549 ----------------------------------------------------------------------------------------------------\n",
      "2019-08-30 06:14:17,704 EPOCH 2 done: loss 0.7060 - lr 0.0010 - bad epochs 0\n",
      "2019-08-30 06:15:56,674 DEV : loss 0.6544597148895264 - score 0.7745\n",
      "2019-08-30 06:18:12,285 TEST : loss 0.7671982049942017 - score 0.7447\n",
      "2019-08-30 06:18:19,895 ----------------------------------------------------------------------------------------------------\n",
      "2019-08-30 06:18:22,107 epoch 3 - iter 0/63 - loss 0.56100959\n",
      "2019-08-30 06:18:27,724 epoch 3 - iter 6/63 - loss 0.56337269\n",
      "2019-08-30 06:18:33,993 epoch 3 - iter 12/63 - loss 0.54354249\n",
      "2019-08-30 06:18:39,201 epoch 3 - iter 18/63 - loss 0.53616133\n",
      "2019-08-30 06:18:44,308 epoch 3 - iter 24/63 - loss 0.53588710\n",
      "2019-08-30 06:18:49,478 epoch 3 - iter 30/63 - loss 0.54373863\n",
      "2019-08-30 06:18:55,442 epoch 3 - iter 36/63 - loss 0.55963909\n",
      "2019-08-30 06:19:04,815 epoch 3 - iter 42/63 - loss 0.56812238\n",
      "2019-08-30 06:19:10,024 epoch 3 - iter 48/63 - loss 0.58010379\n",
      "2019-08-30 06:19:14,877 epoch 3 - iter 54/63 - loss 0.56276523\n",
      "2019-08-30 06:19:20,079 epoch 3 - iter 60/63 - loss 0.57096732\n",
      "2019-08-30 06:19:34,004 ----------------------------------------------------------------------------------------------------\n",
      "2019-08-30 06:19:34,006 EPOCH 3 done: loss 0.5685 - lr 0.0010 - bad epochs 0\n",
      "2019-08-30 06:20:28,057 DEV : loss 0.46119457483291626 - score 0.842\n",
      "2019-08-30 06:22:39,303 TEST : loss 0.6151288151741028 - score 0.7948\n",
      "2019-08-30 06:22:48,876 ----------------------------------------------------------------------------------------------------\n",
      "2019-08-30 06:22:51,271 epoch 4 - iter 0/63 - loss 0.52251899\n",
      "2019-08-30 06:22:56,951 epoch 4 - iter 6/63 - loss 0.52371014\n",
      "2019-08-30 06:23:02,278 epoch 4 - iter 12/63 - loss 0.46497198\n",
      "2019-08-30 06:23:07,623 epoch 4 - iter 18/63 - loss 0.47693370\n",
      "2019-08-30 06:23:13,500 epoch 4 - iter 24/63 - loss 0.49457966\n",
      "2019-08-30 06:23:19,120 epoch 4 - iter 30/63 - loss 0.46677255\n",
      "2019-08-30 06:23:29,263 epoch 4 - iter 36/63 - loss 0.45478825\n",
      "2019-08-30 06:23:34,457 epoch 4 - iter 42/63 - loss 0.45456793\n",
      "2019-08-30 06:23:39,909 epoch 4 - iter 48/63 - loss 0.46041022\n",
      "2019-08-30 06:23:44,991 epoch 4 - iter 54/63 - loss 0.45572270\n",
      "2019-08-30 06:23:51,054 epoch 4 - iter 60/63 - loss 0.46474785\n",
      "2019-08-30 06:23:55,392 ----------------------------------------------------------------------------------------------------\n",
      "2019-08-30 06:23:55,486 EPOCH 4 done: loss 0.4623 - lr 0.0010 - bad epochs 0\n",
      "2019-08-30 06:24:57,628 DEV : loss 0.39711323380470276 - score 0.8645\n",
      "2019-08-30 06:27:11,900 TEST : loss 0.6163935661315918 - score 0.8022\n",
      "2019-08-30 06:28:32,511 ----------------------------------------------------------------------------------------------------\n",
      "2019-08-30 06:28:32,513 Testing using best model ...\n",
      "2019-08-30 06:28:32,516 loading file flair_resources/qc_es_uiuc/best-model.pt\n",
      "2019-08-30 06:30:46,216 0.8022\t0.8022\t0.8022\n",
      "2019-08-30 06:30:46,218 \n",
      "MICRO_AVG: acc 0.6697 - f1-score 0.8022\n",
      "MACRO_AVG: acc 0.582 - f1-score 0.6803166666666667\n",
      "ABBR       tp: 0 - fp: 0 - fn: 60 - tn: 4687 - precision: 0.0000 - recall: 0.0000 - accuracy: 0.0000 - f1-score: 0.0000\n",
      "DESC       tp: 725 - fp: 302 - fn: 259 - tn: 3461 - precision: 0.7059 - recall: 0.7368 - accuracy: 0.5638 - f1-score: 0.7210\n",
      "ENTY       tp: 785 - fp: 465 - fn: 184 - tn: 3313 - precision: 0.6280 - recall: 0.8101 - accuracy: 0.5474 - f1-score: 0.7075\n",
      "HUM        tp: 857 - fp: 73 - fn: 216 - tn: 3601 - precision: 0.9215 - recall: 0.7987 - accuracy: 0.7478 - f1-score: 0.8557\n",
      "LOC        tp: 631 - fp: 42 - fn: 122 - tn: 3952 - precision: 0.9376 - recall: 0.8380 - accuracy: 0.7937 - f1-score: 0.8850\n",
      "NUM        tp: 810 - fp: 57 - fn: 98 - tn: 3782 - precision: 0.9343 - recall: 0.8921 - accuracy: 0.8394 - f1-score: 0.9127\n",
      "2019-08-30 06:30:46,219 ----------------------------------------------------------------------------------------------------\n",
      "## 5 ##\n",
      "2019-08-30 06:32:56,569 {'ENTY', 'NUM', 'ABBR', 'HUM', 'DESC', 'LOC'}\n",
      "2019-08-30 06:32:56,660 ----------------------------------------------------------------------------------------------------\n",
      "2019-08-30 06:32:56,662 Evaluation method: MICRO_F1_SCORE\n",
      "2019-08-30 06:32:58,225 ----------------------------------------------------------------------------------------------------\n",
      "2019-08-30 06:33:00,563 epoch 1 - iter 0/63 - loss 8.61278439\n",
      "2019-08-30 06:33:07,847 epoch 1 - iter 6/63 - loss 3.67701268\n",
      "2019-08-30 06:33:59,748 epoch 1 - iter 12/63 - loss 3.06485857\n",
      "2019-08-30 06:35:12,406 epoch 1 - iter 18/63 - loss 2.53579582\n",
      "2019-08-30 06:35:33,010 epoch 1 - iter 24/63 - loss 2.23054026\n",
      "2019-08-30 06:35:43,362 epoch 1 - iter 30/63 - loss 2.07500964\n",
      "2019-08-30 06:36:32,631 epoch 1 - iter 36/63 - loss 1.91815369\n",
      "2019-08-30 06:36:48,253 epoch 1 - iter 42/63 - loss 1.78336339\n",
      "2019-08-30 06:37:28,398 epoch 1 - iter 48/63 - loss 1.66759706\n",
      "2019-08-30 06:37:45,892 epoch 1 - iter 54/63 - loss 1.56340352\n",
      "2019-08-30 06:37:56,578 epoch 1 - iter 60/63 - loss 1.51641764\n",
      "2019-08-30 06:38:09,881 ----------------------------------------------------------------------------------------------------\n",
      "2019-08-30 06:38:09,895 EPOCH 1 done: loss 1.4938 - lr 0.0010 - bad epochs 0\n",
      "2019-08-30 06:39:49,786 DEV : loss 0.8281276226043701 - score 0.7325\n",
      "2019-08-30 06:43:31,778 TEST : loss 0.919786274433136 - score 0.7133\n",
      "2019-08-30 06:43:41,695 ----------------------------------------------------------------------------------------------------\n",
      "2019-08-30 06:43:44,586 epoch 2 - iter 0/63 - loss 0.94672310\n",
      "2019-08-30 06:46:29,599 epoch 2 - iter 6/63 - loss 1.10509658\n",
      "2019-08-30 06:46:53,151 epoch 2 - iter 12/63 - loss 0.90293714\n",
      "2019-08-30 06:47:17,387 epoch 2 - iter 18/63 - loss 0.88031036\n",
      "2019-08-30 06:47:28,561 epoch 2 - iter 24/63 - loss 0.85221852\n",
      "2019-08-30 06:47:35,877 epoch 2 - iter 30/63 - loss 0.79387736\n",
      "2019-08-30 06:47:45,864 epoch 2 - iter 36/63 - loss 0.78850671\n",
      "2019-08-30 06:47:51,976 epoch 2 - iter 42/63 - loss 0.76699818\n",
      "2019-08-30 06:47:58,056 epoch 2 - iter 48/63 - loss 0.75809757\n",
      "2019-08-30 06:48:04,280 epoch 2 - iter 54/63 - loss 0.75300025\n",
      "2019-08-30 06:48:12,132 epoch 2 - iter 60/63 - loss 0.74975422\n",
      "2019-08-30 06:48:47,282 ----------------------------------------------------------------------------------------------------\n",
      "2019-08-30 06:48:47,591 EPOCH 2 done: loss 0.7469 - lr 0.0010 - bad epochs 0\n",
      "2019-08-30 06:49:52,587 DEV : loss 0.8078094124794006 - score 0.7465\n",
      "2019-08-30 06:52:01,749 TEST : loss 1.023593544960022 - score 0.7097\n",
      "2019-08-30 06:52:09,184 ----------------------------------------------------------------------------------------------------\n",
      "2019-08-30 06:52:12,102 epoch 3 - iter 0/63 - loss 0.69588757\n",
      "2019-08-30 06:52:18,497 epoch 3 - iter 6/63 - loss 0.50410641\n",
      "2019-08-30 06:52:24,863 epoch 3 - iter 12/63 - loss 0.52223388\n",
      "2019-08-30 06:52:30,305 epoch 3 - iter 18/63 - loss 0.57275690\n",
      "2019-08-30 06:52:35,864 epoch 3 - iter 24/63 - loss 0.55843447\n",
      "2019-08-30 06:52:42,207 epoch 3 - iter 30/63 - loss 0.57688033\n",
      "2019-08-30 06:52:48,557 epoch 3 - iter 36/63 - loss 0.56129197\n",
      "2019-08-30 06:52:58,638 epoch 3 - iter 42/63 - loss 0.55147735\n",
      "2019-08-30 06:53:43,228 epoch 3 - iter 48/63 - loss 0.55190749\n",
      "2019-08-30 06:53:54,679 epoch 3 - iter 54/63 - loss 0.54774241\n",
      "2019-08-30 06:54:03,696 epoch 3 - iter 60/63 - loss 0.54073226\n",
      "2019-08-30 06:54:29,830 ----------------------------------------------------------------------------------------------------\n",
      "2019-08-30 06:54:30,001 EPOCH 3 done: loss 0.5392 - lr 0.0010 - bad epochs 0\n",
      "2019-08-30 06:56:23,360 DEV : loss 0.6430820226669312 - score 0.7945\n",
      "2019-08-30 06:58:46,552 TEST : loss 0.9123623967170715 - score 0.7259\n",
      "2019-08-30 06:58:58,350 ----------------------------------------------------------------------------------------------------\n",
      "2019-08-30 06:59:00,626 epoch 4 - iter 0/63 - loss 0.76490128\n",
      "2019-08-30 06:59:07,184 epoch 4 - iter 6/63 - loss 0.48346085\n"
     ]
    },
    {
     "name": "stdout",
     "output_type": "stream",
     "text": [
      "2019-08-30 06:59:13,901 epoch 4 - iter 12/63 - loss 0.41851586\n",
      "2019-08-30 06:59:20,802 epoch 4 - iter 18/63 - loss 0.45900025\n",
      "2019-08-30 06:59:26,353 epoch 4 - iter 24/63 - loss 0.43404794\n",
      "2019-08-30 06:59:31,665 epoch 4 - iter 30/63 - loss 0.43845882\n",
      "2019-08-30 06:59:37,607 epoch 4 - iter 36/63 - loss 0.43892490\n",
      "2019-08-30 06:59:44,319 epoch 4 - iter 42/63 - loss 0.43396895\n",
      "2019-08-30 07:01:28,265 epoch 4 - iter 48/63 - loss 0.43914601\n",
      "2019-08-30 07:01:42,805 epoch 4 - iter 54/63 - loss 0.42909163\n",
      "2019-08-30 07:02:40,623 epoch 4 - iter 60/63 - loss 0.44225843\n",
      "2019-08-30 07:03:22,029 ----------------------------------------------------------------------------------------------------\n",
      "2019-08-30 07:03:22,573 EPOCH 4 done: loss 0.4414 - lr 0.0010 - bad epochs 0\n",
      "2019-08-30 07:04:34,845 DEV : loss 0.3516794741153717 - score 0.888\n",
      "2019-08-30 07:07:01,847 TEST : loss 0.6665229201316833 - score 0.7995\n",
      "2019-08-30 07:07:16,327 ----------------------------------------------------------------------------------------------------\n",
      "2019-08-30 07:07:16,329 Testing using best model ...\n",
      "2019-08-30 07:07:16,432 loading file flair_resources/qc_es_uiuc/best-model.pt\n",
      "2019-08-30 07:09:35,285 0.7995\t0.7995\t0.7995\n",
      "2019-08-30 07:09:35,286 \n",
      "MICRO_AVG: acc 0.6659 - f1-score 0.7995\n",
      "MACRO_AVG: acc 0.5728 - f1-score 0.6736333333333334\n",
      "ABBR       tp: 0 - fp: 8 - fn: 60 - tn: 4679 - precision: 0.0000 - recall: 0.0000 - accuracy: 0.0000 - f1-score: 0.0000\n",
      "DESC       tp: 741 - fp: 358 - fn: 243 - tn: 3405 - precision: 0.6742 - recall: 0.7530 - accuracy: 0.5522 - f1-score: 0.7114\n",
      "ENTY       tp: 643 - fp: 246 - fn: 326 - tn: 3532 - precision: 0.7233 - recall: 0.6636 - accuracy: 0.5292 - f1-score: 0.6922\n",
      "HUM        tp: 946 - fp: 150 - fn: 127 - tn: 3524 - precision: 0.8631 - recall: 0.8816 - accuracy: 0.7735 - f1-score: 0.8723\n",
      "LOC        tp: 693 - fp: 161 - fn: 60 - tn: 3833 - precision: 0.8115 - recall: 0.9203 - accuracy: 0.7582 - f1-score: 0.8625\n",
      "NUM        tp: 772 - fp: 29 - fn: 136 - tn: 3810 - precision: 0.9638 - recall: 0.8502 - accuracy: 0.8239 - f1-score: 0.9034\n",
      "2019-08-30 07:09:35,292 ----------------------------------------------------------------------------------------------------\n",
      "## 6 ##\n",
      "2019-08-30 07:13:02,569 {'ENTY', 'NUM', 'ABBR', 'HUM', 'DESC', 'LOC'}\n",
      "2019-08-30 07:13:02,668 ----------------------------------------------------------------------------------------------------\n",
      "2019-08-30 07:13:02,670 Evaluation method: MICRO_F1_SCORE\n",
      "2019-08-30 07:13:03,586 ----------------------------------------------------------------------------------------------------\n",
      "2019-08-30 07:13:05,885 epoch 1 - iter 0/63 - loss 5.92332745\n",
      "2019-08-30 07:13:12,620 epoch 1 - iter 6/63 - loss 3.11918792\n",
      "2019-08-30 07:13:20,293 epoch 1 - iter 12/63 - loss 2.49515510\n",
      "2019-08-30 07:13:29,735 epoch 1 - iter 18/63 - loss 2.11173024\n",
      "2019-08-30 07:13:36,955 epoch 1 - iter 24/63 - loss 1.87642507\n",
      "2019-08-30 07:13:45,823 epoch 1 - iter 30/63 - loss 1.69767395\n",
      "2019-08-30 07:13:54,205 epoch 1 - iter 36/63 - loss 1.55753806\n",
      "2019-08-30 07:14:01,619 epoch 1 - iter 42/63 - loss 1.44968813\n",
      "2019-08-30 07:14:09,697 epoch 1 - iter 48/63 - loss 1.36238045\n",
      "2019-08-30 07:14:18,151 epoch 1 - iter 54/63 - loss 1.28769559\n",
      "2019-08-30 07:14:26,916 epoch 1 - iter 60/63 - loss 1.22617542\n",
      "2019-08-30 07:14:57,085 ----------------------------------------------------------------------------------------------------\n",
      "2019-08-30 07:14:58,198 EPOCH 1 done: loss 1.2228 - lr 0.0010 - bad epochs 0\n",
      "2019-08-30 07:16:40,986 DEV : loss 0.5499109625816345 - score 0.827\n",
      "2019-08-30 07:19:07,127 TEST : loss 0.6555076837539673 - score 0.7877\n",
      "2019-08-30 07:19:14,135 ----------------------------------------------------------------------------------------------------\n",
      "2019-08-30 07:19:16,432 epoch 2 - iter 0/63 - loss 0.69100922\n",
      "2019-08-30 07:19:22,228 epoch 2 - iter 6/63 - loss 0.62903532\n",
      "2019-08-30 07:19:50,379 epoch 2 - iter 12/63 - loss 0.58832067\n",
      "2019-08-30 07:20:43,989 epoch 2 - iter 18/63 - loss 0.62966589\n",
      "2019-08-30 07:21:20,145 epoch 2 - iter 24/63 - loss 0.60218520\n",
      "2019-08-30 07:21:37,087 epoch 2 - iter 30/63 - loss 0.56487012\n",
      "2019-08-30 07:22:39,272 epoch 2 - iter 36/63 - loss 0.57211468\n",
      "2019-08-30 07:22:53,887 epoch 2 - iter 42/63 - loss 0.57095398\n",
      "2019-08-30 07:24:20,402 epoch 2 - iter 48/63 - loss 0.57485631\n",
      "2019-08-30 07:24:27,465 epoch 2 - iter 54/63 - loss 0.56834413\n",
      "2019-08-30 07:24:34,511 epoch 2 - iter 60/63 - loss 0.57061858\n",
      "2019-08-30 07:25:08,603 ----------------------------------------------------------------------------------------------------\n",
      "2019-08-30 07:25:08,604 EPOCH 2 done: loss 0.5597 - lr 0.0010 - bad epochs 0\n",
      "2019-08-30 07:26:18,020 DEV : loss 0.43796011805534363 - score 0.854\n",
      "2019-08-30 07:29:02,689 TEST : loss 0.5889909863471985 - score 0.8075\n",
      "2019-08-30 07:29:19,166 ----------------------------------------------------------------------------------------------------\n",
      "2019-08-30 07:29:21,941 epoch 3 - iter 0/63 - loss 0.46429959\n",
      "2019-08-30 07:29:27,716 epoch 3 - iter 6/63 - loss 0.39232398\n",
      "2019-08-30 07:29:33,913 epoch 3 - iter 12/63 - loss 0.36343676\n",
      "2019-08-30 07:29:39,829 epoch 3 - iter 18/63 - loss 0.34620762\n",
      "2019-08-30 07:29:45,261 epoch 3 - iter 24/63 - loss 0.36116486\n",
      "2019-08-30 07:29:54,224 epoch 3 - iter 30/63 - loss 0.37661079\n",
      "2019-08-30 07:29:59,879 epoch 3 - iter 36/63 - loss 0.38315290\n",
      "2019-08-30 07:30:05,088 epoch 3 - iter 42/63 - loss 0.39433168\n",
      "2019-08-30 07:30:10,996 epoch 3 - iter 48/63 - loss 0.39293765\n",
      "2019-08-30 07:30:16,494 epoch 3 - iter 54/63 - loss 0.41260523\n",
      "2019-08-30 07:30:22,088 epoch 3 - iter 60/63 - loss 0.42638821\n",
      "2019-08-30 07:31:25,633 ----------------------------------------------------------------------------------------------------\n",
      "2019-08-30 07:31:26,981 EPOCH 3 done: loss 0.4212 - lr 0.0010 - bad epochs 0\n",
      "2019-08-30 07:32:44,214 DEV : loss 0.3863879442214966 - score 0.851\n",
      "2019-08-30 07:35:19,100 TEST : loss 0.6485219597816467 - score 0.7896\n",
      "2019-08-30 07:35:19,145 ----------------------------------------------------------------------------------------------------\n",
      "2019-08-30 07:35:22,000 epoch 4 - iter 0/63 - loss 0.50293970\n",
      "2019-08-30 07:35:28,273 epoch 4 - iter 6/63 - loss 0.30959951\n",
      "2019-08-30 07:35:33,981 epoch 4 - iter 12/63 - loss 0.32149185\n",
      "2019-08-30 07:35:39,626 epoch 4 - iter 18/63 - loss 0.33229675\n",
      "2019-08-30 07:35:44,816 epoch 4 - iter 24/63 - loss 0.34655543\n",
      "2019-08-30 07:35:51,122 epoch 4 - iter 30/63 - loss 0.33516884\n",
      "2019-08-30 07:35:56,530 epoch 4 - iter 36/63 - loss 0.32337614\n",
      "2019-08-30 07:36:02,278 epoch 4 - iter 42/63 - loss 0.33050740\n",
      "2019-08-30 07:36:09,767 epoch 4 - iter 48/63 - loss 0.34719370\n",
      "2019-08-30 07:36:15,356 epoch 4 - iter 54/63 - loss 0.35700418\n",
      "2019-08-30 07:36:20,975 epoch 4 - iter 60/63 - loss 0.36010375\n",
      "2019-08-30 07:36:47,961 ----------------------------------------------------------------------------------------------------\n",
      "2019-08-30 07:36:48,233 EPOCH 4 done: loss 0.3558 - lr 0.0010 - bad epochs 1\n",
      "2019-08-30 07:37:50,760 DEV : loss 0.31130775809288025 - score 0.891\n",
      "2019-08-30 07:40:16,788 TEST : loss 0.6429360508918762 - score 0.8037\n",
      "2019-08-30 07:43:17,211 ----------------------------------------------------------------------------------------------------\n",
      "2019-08-30 07:43:17,212 Testing using best model ...\n",
      "2019-08-30 07:43:17,318 loading file flair_resources/qc_es_uiuc/best-model.pt\n",
      "2019-08-30 07:45:45,854 0.8037\t0.8037\t0.8037\n",
      "2019-08-30 07:45:45,856 \n",
      "MICRO_AVG: acc 0.6718 - f1-score 0.8037\n",
      "MACRO_AVG: acc 0.5769 - f1-score 0.6782666666666667\n",
      "ABBR       tp: 0 - fp: 0 - fn: 60 - tn: 4687 - precision: 0.0000 - recall: 0.0000 - accuracy: 0.0000 - f1-score: 0.0000\n",
      "DESC       tp: 782 - fp: 351 - fn: 202 - tn: 3412 - precision: 0.6902 - recall: 0.7947 - accuracy: 0.5858 - f1-score: 0.7388\n",
      "ENTY       tp: 705 - fp: 275 - fn: 264 - tn: 3503 - precision: 0.7194 - recall: 0.7276 - accuracy: 0.5667 - f1-score: 0.7235\n",
      "HUM        tp: 957 - fp: 240 - fn: 116 - tn: 3434 - precision: 0.7995 - recall: 0.8919 - accuracy: 0.7289 - f1-score: 0.8432\n",
      "LOC        tp: 587 - fp: 32 - fn: 166 - tn: 3962 - precision: 0.9483 - recall: 0.7795 - accuracy: 0.7478 - f1-score: 0.8557\n",
      "NUM        tp: 784 - fp: 34 - fn: 124 - tn: 3805 - precision: 0.9584 - recall: 0.8634 - accuracy: 0.8323 - f1-score: 0.9084\n"
     ]
    },
    {
     "name": "stdout",
     "output_type": "stream",
     "text": [
      "2019-08-30 07:45:45,857 ----------------------------------------------------------------------------------------------------\n",
      "## 7 ##\n",
      "2019-08-30 07:48:54,339 {'ENTY', 'NUM', 'ABBR', 'HUM', 'DESC', 'LOC'}\n",
      "2019-08-30 07:48:54,388 ----------------------------------------------------------------------------------------------------\n",
      "2019-08-30 07:48:54,390 Evaluation method: MICRO_F1_SCORE\n",
      "2019-08-30 07:48:55,311 ----------------------------------------------------------------------------------------------------\n",
      "2019-08-30 07:48:57,344 epoch 1 - iter 0/63 - loss 5.33133459\n",
      "2019-08-30 07:49:03,858 epoch 1 - iter 6/63 - loss 3.62429563\n",
      "2019-08-30 07:49:52,111 epoch 1 - iter 12/63 - loss 2.56970778\n",
      "2019-08-30 07:50:14,790 epoch 1 - iter 18/63 - loss 2.23636854\n",
      "2019-08-30 07:52:26,468 epoch 1 - iter 24/63 - loss 2.02165040\n",
      "2019-08-30 07:52:54,131 epoch 1 - iter 30/63 - loss 1.85336732\n",
      "2019-08-30 07:53:17,209 epoch 1 - iter 36/63 - loss 1.75582739\n",
      "2019-08-30 07:53:38,659 epoch 1 - iter 42/63 - loss 1.64780528\n",
      "2019-08-30 07:53:58,023 epoch 1 - iter 48/63 - loss 1.55910275\n",
      "2019-08-30 07:55:51,729 epoch 1 - iter 54/63 - loss 1.48430596\n",
      "2019-08-30 07:56:12,332 epoch 1 - iter 60/63 - loss 1.44108007\n",
      "2019-08-30 07:56:26,490 ----------------------------------------------------------------------------------------------------\n",
      "2019-08-30 07:56:26,492 EPOCH 1 done: loss 1.4298 - lr 0.0010 - bad epochs 0\n",
      "2019-08-30 07:58:08,833 DEV : loss 1.156862735748291 - score 0.5885\n",
      "2019-08-30 08:01:34,720 TEST : loss 1.2404650449752808 - score 0.577\n",
      "2019-08-30 08:01:45,348 ----------------------------------------------------------------------------------------------------\n",
      "2019-08-30 08:01:47,812 epoch 2 - iter 0/63 - loss 1.51790488\n",
      "2019-08-30 08:01:53,713 epoch 2 - iter 6/63 - loss 0.98266118\n",
      "2019-08-30 08:01:58,868 epoch 2 - iter 12/63 - loss 0.85425817\n",
      "2019-08-30 08:02:05,349 epoch 2 - iter 18/63 - loss 0.83194021\n",
      "2019-08-30 08:07:12,395 epoch 2 - iter 24/63 - loss 0.79642050\n",
      "2019-08-30 08:07:30,841 epoch 2 - iter 30/63 - loss 0.77658517\n",
      "2019-08-30 08:08:10,215 epoch 2 - iter 36/63 - loss 0.77253538\n",
      "2019-08-30 08:08:16,269 epoch 2 - iter 42/63 - loss 0.77140021\n",
      "2019-08-30 08:08:21,591 epoch 2 - iter 48/63 - loss 0.75582965\n",
      "2019-08-30 08:08:27,661 epoch 2 - iter 54/63 - loss 0.74413041\n",
      "2019-08-30 08:08:35,281 epoch 2 - iter 60/63 - loss 0.76640160\n",
      "2019-08-30 08:09:17,794 ----------------------------------------------------------------------------------------------------\n",
      "2019-08-30 08:09:18,551 EPOCH 2 done: loss 0.7620 - lr 0.0010 - bad epochs 0\n",
      "2019-08-30 08:10:30,868 DEV : loss 0.5912774801254272 - score 0.7955\n",
      "2019-08-30 08:12:43,225 TEST : loss 0.730380654335022 - score 0.7733\n",
      "2019-08-30 08:12:50,353 ----------------------------------------------------------------------------------------------------\n",
      "2019-08-30 08:12:53,761 epoch 3 - iter 0/63 - loss 0.52202129\n",
      "2019-08-30 08:13:25,183 epoch 3 - iter 6/63 - loss 0.58370150\n",
      "2019-08-30 08:13:30,361 epoch 3 - iter 12/63 - loss 0.64416267\n",
      "2019-08-30 08:16:18,151 epoch 3 - iter 18/63 - loss 0.62448677\n",
      "2019-08-30 08:16:33,148 epoch 3 - iter 24/63 - loss 0.61396533\n",
      "2019-08-30 08:16:42,757 epoch 3 - iter 30/63 - loss 0.59695780\n",
      "2019-08-30 08:16:51,406 epoch 3 - iter 36/63 - loss 0.58271760\n",
      "2019-08-30 08:17:00,202 epoch 3 - iter 42/63 - loss 0.58130729\n",
      "2019-08-30 08:17:41,649 epoch 3 - iter 48/63 - loss 0.57352826\n",
      "2019-08-30 08:17:53,911 epoch 3 - iter 54/63 - loss 0.58028609\n",
      "2019-08-30 08:18:18,068 epoch 3 - iter 60/63 - loss 0.58425799\n",
      "2019-08-30 08:18:48,368 ----------------------------------------------------------------------------------------------------\n",
      "2019-08-30 08:18:48,475 EPOCH 3 done: loss 0.5827 - lr 0.0010 - bad epochs 0\n",
      "2019-08-30 08:19:55,531 DEV : loss 0.5302377343177795 - score 0.819\n",
      "2019-08-30 08:22:28,808 TEST : loss 0.7297659516334534 - score 0.7767\n",
      "2019-08-30 08:22:38,874 ----------------------------------------------------------------------------------------------------\n",
      "2019-08-30 08:22:41,250 epoch 4 - iter 0/63 - loss 0.57931226\n",
      "2019-08-30 08:22:47,734 epoch 4 - iter 6/63 - loss 0.48040642\n",
      "2019-08-30 08:22:53,600 epoch 4 - iter 12/63 - loss 0.46478464\n",
      "2019-08-30 08:23:36,788 epoch 4 - iter 18/63 - loss 0.46655237\n",
      "2019-08-30 08:23:48,338 epoch 4 - iter 24/63 - loss 0.46454135\n",
      "2019-08-30 08:23:54,597 epoch 4 - iter 30/63 - loss 0.46066298\n",
      "2019-08-30 08:24:00,040 epoch 4 - iter 36/63 - loss 0.46300711\n",
      "2019-08-30 08:24:07,109 epoch 4 - iter 42/63 - loss 0.46086361\n",
      "2019-08-30 08:24:14,125 epoch 4 - iter 48/63 - loss 0.47520923\n",
      "2019-08-30 08:24:19,672 epoch 4 - iter 54/63 - loss 0.47277064\n",
      "2019-08-30 08:24:25,444 epoch 4 - iter 60/63 - loss 0.48783892\n",
      "2019-08-30 08:24:31,903 ----------------------------------------------------------------------------------------------------\n",
      "2019-08-30 08:24:31,987 EPOCH 4 done: loss 0.4823 - lr 0.0010 - bad epochs 0\n",
      "2019-08-30 08:25:33,074 DEV : loss 0.3813718855381012 - score 0.879\n",
      "2019-08-30 08:27:47,378 TEST : loss 0.6028174757957458 - score 0.8138\n",
      "2019-08-30 08:28:21,172 ----------------------------------------------------------------------------------------------------\n",
      "2019-08-30 08:28:21,222 Testing using best model ...\n",
      "2019-08-30 08:28:21,261 loading file flair_resources/qc_es_uiuc/best-model.pt\n",
      "2019-08-30 08:30:49,753 0.8138\t0.8138\t0.8138\n",
      "2019-08-30 08:30:49,754 \n",
      "MICRO_AVG: acc 0.686 - f1-score 0.8138\n",
      "MACRO_AVG: acc 0.5947 - f1-score 0.6893666666666668\n",
      "ABBR       tp: 0 - fp: 2 - fn: 60 - tn: 4685 - precision: 0.0000 - recall: 0.0000 - accuracy: 0.0000 - f1-score: 0.0000\n",
      "DESC       tp: 798 - fp: 419 - fn: 186 - tn: 3344 - precision: 0.6557 - recall: 0.8110 - accuracy: 0.5688 - f1-score: 0.7251\n",
      "ENTY       tp: 727 - fp: 295 - fn: 242 - tn: 3483 - precision: 0.7114 - recall: 0.7503 - accuracy: 0.5752 - f1-score: 0.7303\n",
      "HUM        tp: 914 - fp: 106 - fn: 159 - tn: 3568 - precision: 0.8961 - recall: 0.8518 - accuracy: 0.7752 - f1-score: 0.8734\n",
      "LOC        tp: 631 - fp: 32 - fn: 122 - tn: 3962 - precision: 0.9517 - recall: 0.8380 - accuracy: 0.8038 - f1-score: 0.8912\n",
      "NUM        tp: 793 - fp: 30 - fn: 115 - tn: 3809 - precision: 0.9635 - recall: 0.8733 - accuracy: 0.8454 - f1-score: 0.9162\n",
      "2019-08-30 08:30:49,755 ----------------------------------------------------------------------------------------------------\n",
      "## 8 ##\n",
      "2019-08-30 08:34:12,650 {'ENTY', 'NUM', 'ABBR', 'HUM', 'DESC', 'LOC'}\n",
      "2019-08-30 08:34:12,709 ----------------------------------------------------------------------------------------------------\n",
      "2019-08-30 08:34:12,711 Evaluation method: MICRO_F1_SCORE\n",
      "2019-08-30 08:34:13,729 ----------------------------------------------------------------------------------------------------\n",
      "2019-08-30 08:34:16,524 epoch 1 - iter 0/63 - loss 8.24565315\n",
      "2019-08-30 08:34:25,413 epoch 1 - iter 6/63 - loss 2.93090459\n",
      "2019-08-30 08:34:36,202 epoch 1 - iter 12/63 - loss 2.38703753\n",
      "2019-08-30 08:34:47,516 epoch 1 - iter 18/63 - loss 2.14884771\n",
      "2019-08-30 08:35:04,386 epoch 1 - iter 24/63 - loss 2.01603117\n",
      "2019-08-30 08:35:13,992 epoch 1 - iter 30/63 - loss 1.89293492\n",
      "2019-08-30 08:35:22,392 epoch 1 - iter 36/63 - loss 1.80245854\n",
      "2019-08-30 08:35:38,220 epoch 1 - iter 42/63 - loss 1.75987698\n",
      "2019-08-30 08:39:06,938 epoch 1 - iter 48/63 - loss 1.70938492\n",
      "2019-08-30 08:39:14,673 epoch 1 - iter 54/63 - loss 1.66664584\n",
      "2019-08-30 08:39:23,165 epoch 1 - iter 60/63 - loss 1.64385650\n",
      "2019-08-30 08:40:25,081 ----------------------------------------------------------------------------------------------------\n",
      "2019-08-30 08:40:26,659 EPOCH 1 done: loss 1.6366 - lr 0.0010 - bad epochs 0\n",
      "2019-08-30 08:41:41,528 DEV : loss 1.314261794090271 - score 0.3765\n",
      "2019-08-30 08:44:23,960 TEST : loss 1.339693307876587 - score 0.3689\n",
      "2019-08-30 08:44:30,295 ----------------------------------------------------------------------------------------------------\n",
      "2019-08-30 08:44:33,375 epoch 2 - iter 0/63 - loss 1.33365571\n",
      "2019-08-30 08:44:39,703 epoch 2 - iter 6/63 - loss 1.39881112\n",
      "2019-08-30 08:44:45,039 epoch 2 - iter 12/63 - loss 1.36639180\n",
      "2019-08-30 08:45:09,660 epoch 2 - iter 18/63 - loss 1.33882434\n",
      "2019-08-30 08:45:14,937 epoch 2 - iter 24/63 - loss 1.33112066\n",
      "2019-08-30 08:45:20,247 epoch 2 - iter 30/63 - loss 1.33283496\n"
     ]
    },
    {
     "name": "stdout",
     "output_type": "stream",
     "text": [
      "2019-08-30 08:45:25,182 epoch 2 - iter 36/63 - loss 1.32795631\n",
      "2019-08-30 08:45:30,876 epoch 2 - iter 42/63 - loss 1.31881424\n",
      "2019-08-30 08:45:57,924 epoch 2 - iter 48/63 - loss 1.30883798\n",
      "2019-08-30 08:48:18,536 epoch 2 - iter 54/63 - loss 1.29632945\n",
      "2019-08-30 08:48:28,273 epoch 2 - iter 60/63 - loss 1.29257091\n",
      "2019-08-30 08:48:55,249 ----------------------------------------------------------------------------------------------------\n",
      "2019-08-30 08:48:55,425 EPOCH 2 done: loss 1.2938 - lr 0.0010 - bad epochs 0\n",
      "2019-08-30 08:50:17,722 DEV : loss 1.2849305868148804 - score 0.416\n",
      "2019-08-30 08:53:50,785 TEST : loss 1.346233606338501 - score 0.4097\n",
      "2019-08-30 08:54:02,082 ----------------------------------------------------------------------------------------------------\n",
      "2019-08-30 08:54:04,375 epoch 3 - iter 0/63 - loss 1.16440558\n",
      "2019-08-30 08:54:11,128 epoch 3 - iter 6/63 - loss 1.36838572\n",
      "2019-08-30 08:54:17,907 epoch 3 - iter 12/63 - loss 1.32065621\n",
      "2019-08-30 08:54:24,089 epoch 3 - iter 18/63 - loss 1.26979926\n",
      "2019-08-30 08:54:32,730 epoch 3 - iter 24/63 - loss 1.25737074\n",
      "2019-08-30 08:54:40,183 epoch 3 - iter 30/63 - loss 1.27106887\n",
      "2019-08-30 08:54:48,099 epoch 3 - iter 36/63 - loss 1.25879321\n",
      "2019-08-30 08:55:13,044 epoch 3 - iter 42/63 - loss 1.24623123\n",
      "2019-08-30 08:55:22,469 epoch 3 - iter 48/63 - loss 1.25103751\n",
      "2019-08-30 08:56:24,211 epoch 3 - iter 54/63 - loss 1.23684795\n",
      "2019-08-30 08:56:37,176 epoch 3 - iter 60/63 - loss 1.23000356\n",
      "2019-08-30 08:56:50,120 ----------------------------------------------------------------------------------------------------\n",
      "2019-08-30 08:56:50,481 EPOCH 3 done: loss 1.2199 - lr 0.0010 - bad epochs 0\n",
      "2019-08-30 08:58:02,802 DEV : loss 0.929028332233429 - score 0.6255\n",
      "2019-08-30 09:00:25,743 TEST : loss 1.0601390600204468 - score 0.5924\n",
      "2019-08-30 09:00:56,650 ----------------------------------------------------------------------------------------------------\n",
      "2019-08-30 09:01:01,062 epoch 4 - iter 0/63 - loss 1.57375586\n",
      "2019-08-30 09:01:07,278 epoch 4 - iter 6/63 - loss 1.06889401\n",
      "2019-08-30 09:01:12,917 epoch 4 - iter 12/63 - loss 0.97781749\n",
      "2019-08-30 09:01:19,134 epoch 4 - iter 18/63 - loss 0.95323071\n",
      "2019-08-30 09:01:24,533 epoch 4 - iter 24/63 - loss 0.89201581\n",
      "2019-08-30 09:01:29,725 epoch 4 - iter 30/63 - loss 0.89339168\n",
      "2019-08-30 09:01:35,437 epoch 4 - iter 36/63 - loss 0.88059613\n",
      "2019-08-30 09:01:41,125 epoch 4 - iter 42/63 - loss 0.89593370\n",
      "2019-08-30 09:01:46,225 epoch 4 - iter 48/63 - loss 0.89104099\n",
      "2019-08-30 09:01:51,600 epoch 4 - iter 54/63 - loss 0.88202375\n",
      "2019-08-30 09:01:58,201 epoch 4 - iter 60/63 - loss 0.87545462\n",
      "2019-08-30 09:02:58,483 ----------------------------------------------------------------------------------------------------\n",
      "2019-08-30 09:02:59,787 EPOCH 4 done: loss 0.8790 - lr 0.0010 - bad epochs 0\n",
      "2019-08-30 09:04:12,947 DEV : loss 0.7469411492347717 - score 0.706\n",
      "2019-08-30 09:06:36,178 TEST : loss 0.9391526579856873 - score 0.6471\n",
      "2019-08-30 09:06:51,356 ----------------------------------------------------------------------------------------------------\n",
      "2019-08-30 09:06:51,357 Testing using best model ...\n",
      "2019-08-30 09:06:51,639 loading file flair_resources/qc_es_uiuc/best-model.pt\n",
      "2019-08-30 09:09:05,295 0.6471\t0.6471\t0.6471\n",
      "2019-08-30 09:09:05,296 \n",
      "MICRO_AVG: acc 0.4784 - f1-score 0.6471\n",
      "MACRO_AVG: acc 0.4371 - f1-score 0.5415166666666665\n",
      "ABBR       tp: 0 - fp: 0 - fn: 60 - tn: 4687 - precision: 0.0000 - recall: 0.0000 - accuracy: 0.0000 - f1-score: 0.0000\n",
      "DESC       tp: 170 - fp: 246 - fn: 814 - tn: 3517 - precision: 0.4087 - recall: 0.1728 - accuracy: 0.1382 - f1-score: 0.2429\n",
      "ENTY       tp: 636 - fp: 394 - fn: 333 - tn: 3384 - precision: 0.6175 - recall: 0.6563 - accuracy: 0.4666 - f1-score: 0.6363\n",
      "HUM        tp: 846 - fp: 914 - fn: 227 - tn: 2760 - precision: 0.4807 - recall: 0.7884 - accuracy: 0.4258 - f1-score: 0.5972\n",
      "LOC        tp: 655 - fp: 85 - fn: 98 - tn: 3909 - precision: 0.8851 - recall: 0.8699 - accuracy: 0.7816 - f1-score: 0.8774\n",
      "NUM        tp: 765 - fp: 36 - fn: 143 - tn: 3803 - precision: 0.9551 - recall: 0.8425 - accuracy: 0.8104 - f1-score: 0.8953\n",
      "2019-08-30 09:09:05,297 ----------------------------------------------------------------------------------------------------\n",
      "## 9 ##\n",
      "2019-08-30 09:12:03,950 {'ENTY', 'NUM', 'ABBR', 'HUM', 'DESC', 'LOC'}\n",
      "2019-08-30 09:12:04,014 ----------------------------------------------------------------------------------------------------\n",
      "2019-08-30 09:12:04,015 Evaluation method: MICRO_F1_SCORE\n",
      "2019-08-30 09:12:04,968 ----------------------------------------------------------------------------------------------------\n",
      "2019-08-30 09:12:07,038 epoch 1 - iter 0/63 - loss 3.90007520\n",
      "2019-08-30 09:12:13,334 epoch 1 - iter 6/63 - loss 2.15722765\n",
      "2019-08-30 09:12:21,553 epoch 1 - iter 12/63 - loss 1.88615320\n",
      "2019-08-30 09:12:27,216 epoch 1 - iter 18/63 - loss 1.77118888\n",
      "2019-08-30 09:12:33,526 epoch 1 - iter 24/63 - loss 1.66126534\n",
      "2019-08-30 09:12:39,834 epoch 1 - iter 30/63 - loss 1.61608201\n",
      "2019-08-30 09:12:45,677 epoch 1 - iter 36/63 - loss 1.53736231\n",
      "2019-08-30 09:12:50,817 epoch 1 - iter 42/63 - loss 1.48381961\n",
      "2019-08-30 09:13:01,609 epoch 1 - iter 48/63 - loss 1.42876233\n",
      "2019-08-30 09:13:09,470 epoch 1 - iter 54/63 - loss 1.37317815\n",
      "2019-08-30 09:13:16,554 epoch 1 - iter 60/63 - loss 1.32987392\n",
      "2019-08-30 09:13:57,250 ----------------------------------------------------------------------------------------------------\n",
      "2019-08-30 09:13:58,030 EPOCH 1 done: loss 1.3171 - lr 0.0010 - bad epochs 0\n",
      "2019-08-30 09:15:44,089 DEV : loss 0.9125279784202576 - score 0.6545\n",
      "2019-08-30 09:17:56,917 TEST : loss 0.9563392996788025 - score 0.6434\n",
      "2019-08-30 09:18:03,424 ----------------------------------------------------------------------------------------------------\n",
      "2019-08-30 09:18:05,785 epoch 2 - iter 0/63 - loss 0.71134895\n",
      "2019-08-30 09:18:12,643 epoch 2 - iter 6/63 - loss 0.73316372\n",
      "2019-08-30 09:18:18,354 epoch 2 - iter 12/63 - loss 0.75176025\n",
      "2019-08-30 09:18:23,152 epoch 2 - iter 18/63 - loss 0.75548016\n",
      "2019-08-30 09:18:28,522 epoch 2 - iter 24/63 - loss 0.78089496\n",
      "2019-08-30 09:18:34,353 epoch 2 - iter 30/63 - loss 0.76460086\n",
      "2019-08-30 09:18:39,721 epoch 2 - iter 36/63 - loss 0.77368392\n",
      "2019-08-30 09:18:44,605 epoch 2 - iter 42/63 - loss 0.77006302\n",
      "2019-08-30 09:18:50,315 epoch 2 - iter 48/63 - loss 0.74466690\n",
      "2019-08-30 09:18:56,301 epoch 2 - iter 54/63 - loss 0.73099607\n",
      "2019-08-30 09:19:01,239 epoch 2 - iter 60/63 - loss 0.72570695\n",
      "2019-08-30 09:20:25,630 ----------------------------------------------------------------------------------------------------\n",
      "2019-08-30 09:20:26,026 EPOCH 2 done: loss 0.7289 - lr 0.0010 - bad epochs 0\n",
      "2019-08-30 09:21:36,547 DEV : loss 0.6148456335067749 - score 0.761\n",
      "2019-08-30 09:23:56,152 TEST : loss 0.7162941098213196 - score 0.7219\n",
      "2019-08-30 09:24:03,780 ----------------------------------------------------------------------------------------------------\n",
      "2019-08-30 09:24:05,996 epoch 3 - iter 0/63 - loss 0.78435588\n",
      "2019-08-30 09:24:11,599 epoch 3 - iter 6/63 - loss 0.46906212\n",
      "2019-08-30 09:24:17,688 epoch 3 - iter 12/63 - loss 0.51341015\n",
      "2019-08-30 09:24:22,981 epoch 3 - iter 18/63 - loss 0.55914979\n",
      "2019-08-30 09:24:28,586 epoch 3 - iter 24/63 - loss 0.54514695\n",
      "2019-08-30 09:24:34,577 epoch 3 - iter 30/63 - loss 0.53099155\n",
      "2019-08-30 09:24:45,100 epoch 3 - iter 36/63 - loss 0.58235397\n",
      "2019-08-30 09:24:52,263 epoch 3 - iter 42/63 - loss 0.59471594\n",
      "2019-08-30 09:25:27,525 epoch 3 - iter 48/63 - loss 0.59213549\n",
      "2019-08-30 09:25:36,618 epoch 3 - iter 54/63 - loss 0.59205305\n",
      "2019-08-30 09:25:42,871 epoch 3 - iter 60/63 - loss 0.58016096\n",
      "2019-08-30 09:26:33,771 ----------------------------------------------------------------------------------------------------\n",
      "2019-08-30 09:26:34,891 EPOCH 3 done: loss 0.5779 - lr 0.0010 - bad epochs 0\n",
      "2019-08-30 09:27:33,592 DEV : loss 0.5035631656646729 - score 0.817\n",
      "2019-08-30 09:29:50,908 TEST : loss 0.6345682740211487 - score 0.7797\n",
      "2019-08-30 09:29:58,795 ----------------------------------------------------------------------------------------------------\n",
      "2019-08-30 09:30:00,896 epoch 4 - iter 0/63 - loss 0.56346947\n",
      "2019-08-30 09:30:06,739 epoch 4 - iter 6/63 - loss 0.50212725\n"
     ]
    },
    {
     "name": "stdout",
     "output_type": "stream",
     "text": [
      "2019-08-30 09:30:12,055 epoch 4 - iter 12/63 - loss 0.49906795\n",
      "2019-08-30 09:30:17,569 epoch 4 - iter 18/63 - loss 0.50968976\n",
      "2019-08-30 09:30:23,347 epoch 4 - iter 24/63 - loss 0.47567989\n",
      "2019-08-30 09:30:29,608 epoch 4 - iter 30/63 - loss 0.49497867\n",
      "2019-08-30 09:30:35,706 epoch 4 - iter 36/63 - loss 0.47769011\n",
      "2019-08-30 09:30:40,469 epoch 4 - iter 42/63 - loss 0.48527218\n",
      "2019-08-30 09:30:45,918 epoch 4 - iter 48/63 - loss 0.47183558\n",
      "2019-08-30 09:30:51,205 epoch 4 - iter 54/63 - loss 0.47279594\n",
      "2019-08-30 09:30:56,249 epoch 4 - iter 60/63 - loss 0.47369679\n",
      "2019-08-30 09:30:58,388 ----------------------------------------------------------------------------------------------------\n",
      "2019-08-30 09:30:58,389 EPOCH 4 done: loss 0.4740 - lr 0.0010 - bad epochs 0\n",
      "2019-08-30 09:31:51,645 DEV : loss 0.5004297494888306 - score 0.8225\n",
      "2019-08-30 09:34:03,928 TEST : loss 0.6718747615814209 - score 0.7799\n",
      "2019-08-30 09:34:17,664 ----------------------------------------------------------------------------------------------------\n",
      "2019-08-30 09:34:17,666 Testing using best model ...\n",
      "2019-08-30 09:34:17,750 loading file flair_resources/qc_es_uiuc/best-model.pt\n",
      "2019-08-30 09:36:35,423 0.7799\t0.7799\t0.7799\n",
      "2019-08-30 09:36:35,425 \n",
      "MICRO_AVG: acc 0.6392 - f1-score 0.7799\n",
      "MACRO_AVG: acc 0.559 - f1-score 0.6592333333333333\n",
      "ABBR       tp: 0 - fp: 0 - fn: 60 - tn: 4687 - precision: 0.0000 - recall: 0.0000 - accuracy: 0.0000 - f1-score: 0.0000\n",
      "DESC       tp: 583 - fp: 269 - fn: 401 - tn: 3494 - precision: 0.6843 - recall: 0.5925 - accuracy: 0.4653 - f1-score: 0.6351\n",
      "ENTY       tp: 690 - fp: 453 - fn: 279 - tn: 3325 - precision: 0.6037 - recall: 0.7121 - accuracy: 0.4852 - f1-score: 0.6534\n",
      "HUM        tp: 985 - fp: 243 - fn: 88 - tn: 3431 - precision: 0.8021 - recall: 0.9180 - accuracy: 0.7485 - f1-score: 0.8561\n",
      "LOC        tp: 645 - fp: 51 - fn: 108 - tn: 3943 - precision: 0.9267 - recall: 0.8566 - accuracy: 0.8022 - f1-score: 0.8903\n",
      "NUM        tp: 799 - fp: 29 - fn: 109 - tn: 3810 - precision: 0.9650 - recall: 0.8800 - accuracy: 0.8527 - f1-score: 0.9205\n",
      "2019-08-30 09:36:35,426 ----------------------------------------------------------------------------------------------------\n",
      "## 10 ##\n",
      "2019-08-30 09:38:53,216 {'ENTY', 'NUM', 'ABBR', 'HUM', 'DESC', 'LOC'}\n",
      "2019-08-30 09:38:53,354 ----------------------------------------------------------------------------------------------------\n",
      "2019-08-30 09:38:53,355 Evaluation method: MICRO_F1_SCORE\n",
      "2019-08-30 09:38:54,566 ----------------------------------------------------------------------------------------------------\n",
      "2019-08-30 09:38:56,709 epoch 1 - iter 0/63 - loss 13.14277649\n",
      "2019-08-30 09:39:05,262 epoch 1 - iter 6/63 - loss 3.63758542\n",
      "2019-08-30 09:39:11,389 epoch 1 - iter 12/63 - loss 2.71134768\n",
      "2019-08-30 09:39:17,685 epoch 1 - iter 18/63 - loss 2.32635785\n",
      "2019-08-30 09:39:23,166 epoch 1 - iter 24/63 - loss 2.15141694\n",
      "2019-08-30 09:39:29,078 epoch 1 - iter 30/63 - loss 2.03080178\n",
      "2019-08-30 09:40:01,145 epoch 1 - iter 36/63 - loss 1.91186748\n",
      "2019-08-30 09:40:06,990 epoch 1 - iter 42/63 - loss 1.81667290\n",
      "2019-08-30 09:40:12,088 epoch 1 - iter 48/63 - loss 1.74837213\n",
      "2019-08-30 09:40:33,820 epoch 1 - iter 54/63 - loss 1.69248557\n",
      "2019-08-30 09:40:41,146 epoch 1 - iter 60/63 - loss 1.64030506\n",
      "2019-08-30 09:41:40,392 ----------------------------------------------------------------------------------------------------\n",
      "2019-08-30 09:41:44,429 EPOCH 1 done: loss 1.6253 - lr 0.0010 - bad epochs 0\n",
      "2019-08-30 09:43:44,925 DEV : loss 1.166567325592041 - score 0.5105\n",
      "2019-08-30 09:46:19,106 TEST : loss 1.1664981842041016 - score 0.5163\n",
      "2019-08-30 09:46:27,953 ----------------------------------------------------------------------------------------------------\n",
      "2019-08-30 09:46:30,829 epoch 2 - iter 0/63 - loss 1.17561269\n",
      "2019-08-30 09:46:36,532 epoch 2 - iter 6/63 - loss 1.11641525\n",
      "2019-08-30 09:46:41,655 epoch 2 - iter 12/63 - loss 1.09531413\n",
      "2019-08-30 09:46:47,723 epoch 2 - iter 18/63 - loss 1.10872846\n",
      "2019-08-30 09:46:52,893 epoch 2 - iter 24/63 - loss 1.10565305\n",
      "2019-08-30 09:46:58,587 epoch 2 - iter 30/63 - loss 1.07463944\n",
      "2019-08-30 09:47:03,527 epoch 2 - iter 36/63 - loss 1.05853883\n",
      "2019-08-30 09:47:09,255 epoch 2 - iter 42/63 - loss 1.05545268\n",
      "2019-08-30 09:47:48,771 epoch 2 - iter 48/63 - loss 1.03583579\n",
      "2019-08-30 09:48:27,345 epoch 2 - iter 54/63 - loss 1.01485996\n",
      "2019-08-30 09:48:36,992 epoch 2 - iter 60/63 - loss 0.99003601\n",
      "2019-08-30 09:48:43,160 ----------------------------------------------------------------------------------------------------\n",
      "2019-08-30 09:48:43,247 EPOCH 2 done: loss 0.9891 - lr 0.0010 - bad epochs 0\n",
      "2019-08-30 09:50:00,436 DEV : loss 0.7679306268692017 - score 0.738\n",
      "2019-08-30 09:52:19,013 TEST : loss 0.8159018158912659 - score 0.7146\n",
      "2019-08-30 09:52:28,235 ----------------------------------------------------------------------------------------------------\n",
      "2019-08-30 09:52:31,117 epoch 3 - iter 0/63 - loss 0.68290198\n",
      "2019-08-30 09:52:37,322 epoch 3 - iter 6/63 - loss 0.64560852\n",
      "2019-08-30 09:52:43,030 epoch 3 - iter 12/63 - loss 0.73696115\n",
      "2019-08-30 09:53:20,805 epoch 3 - iter 18/63 - loss 0.73155477\n",
      "2019-08-30 09:53:49,433 epoch 3 - iter 24/63 - loss 0.73816385\n",
      "2019-08-30 09:53:57,114 epoch 3 - iter 30/63 - loss 0.73290939\n",
      "2019-08-30 09:55:45,587 epoch 3 - iter 36/63 - loss 0.72805347\n",
      "2019-08-30 09:55:55,303 epoch 3 - iter 42/63 - loss 0.74340657\n",
      "2019-08-30 09:56:04,579 epoch 3 - iter 48/63 - loss 0.74540876\n",
      "2019-08-30 09:56:11,687 epoch 3 - iter 54/63 - loss 0.72653370\n",
      "2019-08-30 09:56:18,689 epoch 3 - iter 60/63 - loss 0.72341537\n",
      "2019-08-30 09:56:32,964 ----------------------------------------------------------------------------------------------------\n",
      "2019-08-30 09:56:32,966 EPOCH 3 done: loss 0.7209 - lr 0.0010 - bad epochs 0\n",
      "2019-08-30 09:57:39,590 DEV : loss 0.6995393633842468 - score 0.755\n",
      "2019-08-30 10:00:17,194 TEST : loss 0.7620301842689514 - score 0.7341\n",
      "2019-08-30 10:00:28,029 ----------------------------------------------------------------------------------------------------\n",
      "2019-08-30 10:00:30,366 epoch 4 - iter 0/63 - loss 0.58670640\n",
      "2019-08-30 10:00:36,116 epoch 4 - iter 6/63 - loss 0.62736948\n",
      "2019-08-30 10:00:41,265 epoch 4 - iter 12/63 - loss 0.59397335\n",
      "2019-08-30 10:00:46,865 epoch 4 - iter 18/63 - loss 0.64174932\n",
      "2019-08-30 10:00:51,976 epoch 4 - iter 24/63 - loss 0.63001071\n",
      "2019-08-30 10:00:58,123 epoch 4 - iter 30/63 - loss 0.60384656\n",
      "2019-08-30 10:01:04,564 epoch 4 - iter 36/63 - loss 0.59529308\n",
      "2019-08-30 10:01:13,936 epoch 4 - iter 42/63 - loss 0.57503013\n",
      "2019-08-30 10:01:19,554 epoch 4 - iter 48/63 - loss 0.57123331\n",
      "2019-08-30 10:01:25,177 epoch 4 - iter 54/63 - loss 0.57366185\n",
      "2019-08-30 10:01:30,561 epoch 4 - iter 60/63 - loss 0.56926991\n",
      "2019-08-30 10:01:54,128 ----------------------------------------------------------------------------------------------------\n",
      "2019-08-30 10:01:54,764 EPOCH 4 done: loss 0.5720 - lr 0.0010 - bad epochs 0\n",
      "2019-08-30 10:03:02,435 DEV : loss 0.474240779876709 - score 0.839\n",
      "2019-08-30 10:05:16,073 TEST : loss 0.6157315373420715 - score 0.8018\n",
      "2019-08-30 10:05:30,150 ----------------------------------------------------------------------------------------------------\n",
      "2019-08-30 10:05:30,152 Testing using best model ...\n",
      "2019-08-30 10:05:30,323 loading file flair_resources/qc_es_uiuc/best-model.pt\n",
      "2019-08-30 10:07:47,466 0.8018\t0.8018\t0.8018\n",
      "2019-08-30 10:07:47,467 \n",
      "MICRO_AVG: acc 0.6691 - f1-score 0.8018\n",
      "MACRO_AVG: acc 0.5771 - f1-score 0.6778333333333334\n",
      "ABBR       tp: 0 - fp: 0 - fn: 60 - tn: 4687 - precision: 0.0000 - recall: 0.0000 - accuracy: 0.0000 - f1-score: 0.0000\n",
      "DESC       tp: 733 - fp: 357 - fn: 251 - tn: 3406 - precision: 0.6725 - recall: 0.7449 - accuracy: 0.5466 - f1-score: 0.7069\n",
      "ENTY       tp: 760 - fp: 347 - fn: 209 - tn: 3431 - precision: 0.6865 - recall: 0.7843 - accuracy: 0.5775 - f1-score: 0.7321\n",
      "HUM        tp: 951 - fp: 150 - fn: 122 - tn: 3524 - precision: 0.8638 - recall: 0.8863 - accuracy: 0.7776 - f1-score: 0.8749\n",
      "LOC        tp: 641 - fp: 53 - fn: 112 - tn: 3941 - precision: 0.9236 - recall: 0.8513 - accuracy: 0.7953 - f1-score: 0.8860\n",
      "NUM        tp: 721 - fp: 34 - fn: 187 - tn: 3805 - precision: 0.9550 - recall: 0.7941 - accuracy: 0.7654 - f1-score: 0.8671\n"
     ]
    },
    {
     "name": "stdout",
     "output_type": "stream",
     "text": [
      "2019-08-30 10:07:47,468 ----------------------------------------------------------------------------------------------------\n"
     ]
    }
   ],
   "source": [
    "from typing import List\n",
    "from flair_cnn_doc_embedding import DocumentCNNEmbeddings\n",
    "from torch.utils.data import Dataset\n",
    "import torch\n",
    "from flair.data import Sentence, Corpus\n",
    "from flair.embeddings import DocumentRNNEmbeddings, BertEmbeddings\n",
    "from flair.models import TextClassifier\n",
    "from flair.trainers import ModelTrainer\n",
    "import time\n",
    "import datetime\n",
    "from sklearn.model_selection import StratifiedShuffleSplit\n",
    "from sklearn.metrics import accuracy_score, precision_score, recall_score, f1_score, matthews_corrcoef, confusion_matrix\n",
    "\n",
    "\n",
    "def build_flair_sentences(text_label_tuples):\n",
    "    sentences = [Sentence(text, labels=[label], use_tokenizer=True) for text,label in text_label_tuples]\n",
    "    return [s for s in sentences if len(s.tokens) > 0]\n",
    "\n",
    "def get_labels(sentences:List[Sentence]):\n",
    "    return [[l.value for l in s.labels] for s in sentences]\n",
    "\n",
    "def calc_metrics_with_sklearn(clf:TextClassifier,sentences:List[Sentence],train_size=0,\n",
    "                              fold=0,train_time=0,metric_average='macro',\n",
    "                              classes=['ABBR', 'DESC', 'ENTY', 'HUM', 'LOC', 'NUM']):\n",
    "    targets = get_labels(sentences)\n",
    "    start_time = time.time()\n",
    "    clf.predict(sentences)\n",
    "    test_time = time.time() - start_time\n",
    "    prediction = get_labels(sentences)\n",
    "    p = prediction\n",
    "    t = targets\n",
    "    data = {'datetime': datetime.datetime.now(),\n",
    "            'model': 'cnn_bert',\n",
    "            'accuracy': accuracy_score(prediction, targets),\n",
    "            'precision': precision_score(prediction, targets, average=metric_average),\n",
    "            'recall': recall_score(prediction, targets, average=metric_average),\n",
    "            'f1': f1_score(prediction, targets, average=metric_average),\n",
    "            'mcc': matthews_corrcoef(prediction, targets),\n",
    "            'confusion': confusion_matrix(prediction, targets, labels=classes),\n",
    "            'fold': fold,\n",
    "            'train_size': size_train,\n",
    "            'execution_time': train_time,\n",
    "            'test_time': test_time}\n",
    "\n",
    "    #report = metrics.classification_report(y_true=targets, y_pred=prediction, digits=3, output_dict=True)\n",
    "    return data\n",
    "\n",
    "\n",
    "\n",
    "\n",
    "for language in ['es',]: # ,  'es', 'pt'\n",
    "    print(f\"########## {language} ##########\")\n",
    "    results = pd.DataFrame()\n",
    "    dataset_train, dataset_test = load_uiuc(language)\n",
    "    dataset = pd.concat([dataset_train, dataset_test])\n",
    "    save = 'results/UIUC_cv_cnn_bert_'+language+'_1000_2000.csv'\n",
    "    for size_train in [1000, 2000]: # \n",
    "        print(f\"##### {size_train} #####\")\n",
    "        \n",
    "        word_embeddings = [BertEmbeddings('bert-base-multilingual-cased', layers='-1')]\n",
    "        document_embeddings = DocumentCNNEmbeddings(word_embeddings, dropout=0.0, hidden_size=64)\n",
    "        \n",
    "        size_test = len(dataset) - size_train\n",
    "        rs = StratifiedShuffleSplit(n_splits=10, train_size=size_train, test_size=size_test, random_state=1)\n",
    "        fold = 0\n",
    "        for train_indexs, test_indexs in rs.split(dataset, dataset['class']):\n",
    "            fold += 1\n",
    "            print(f\"## {fold} ##\")\n",
    "            df_train = dataset.iloc[train_indexs]\n",
    "            df_test = dataset.iloc[test_indexs]\n",
    "            \n",
    "            x_train:Dataset = build_flair_sentences([(text, label) for text, label in zip(df_train['question'], df_train['class'])])\n",
    "            x_dev:Dataset = x_train\n",
    "            x_test:Dataset = build_flair_sentences([(text, label) for text, label in zip(df_test['question'], df_test['class'])])\n",
    "            \n",
    "            corpus = Corpus(x_train, x_dev, x_test)\n",
    "            label_dict = corpus.make_label_dictionary()\n",
    "\n",
    "            clf = TextClassifier(document_embeddings, label_dictionary=label_dict, multi_label=False)\n",
    "            trainer = ModelTrainer(clf, corpus,torch.optim.RMSprop)\n",
    "            base_path = 'flair_resources/qc_'+language+'_uiuc'\n",
    "            start_time = time.time()\n",
    "            trainer.train(base_path,\n",
    "                          learning_rate=0.001,\n",
    "                          mini_batch_size=32,\n",
    "                          anneal_factor=0.5,\n",
    "                          max_epochs=4,\n",
    "                          patience=2,\n",
    "                          )\n",
    "            train_time = time.time() - start_time\n",
    "            data = calc_metrics_with_sklearn(clf, x_test, train_size=size_train, train_time=train_time, fold=fold)\n",
    "            results = results.append([data])\n",
    "            results.to_csv(save)"
   ]
  },
  {
   "cell_type": "markdown",
   "metadata": {},
   "source": [
    "## Run DISEQuA Benchmark - Cross-validation"
   ]
  },
  {
   "cell_type": "markdown",
   "metadata": {},
   "source": [
    "Different classifier models are tested with different dependency levels of external linguistic resources (Low, Medium and High)"
   ]
  },
  {
   "cell_type": "markdown",
   "metadata": {},
   "source": [
    "#### SVM + <font color=#007700>TF-IDF</font>"
   ]
  },
  {
   "cell_type": "code",
   "execution_count": 152,
   "metadata": {
    "scrolled": false
   },
   "outputs": [
    {
     "name": "stdout",
     "output_type": "stream",
     "text": [
      "\n",
      "\n",
      "Language:  en\n",
      "\n",
      "100|..........\n",
      "200|..........\n",
      "300|..........\n",
      "400|..........\n",
      "Run time benchmark: 1.027012586593628\n",
      "\n",
      "\n",
      "Language:  es\n",
      "\n",
      "100|..........\n",
      "200|..........\n",
      "300|..........\n",
      "400|..........\n",
      "Run time benchmark: 1.0114972591400146\n",
      "\n",
      "\n",
      "Language:  it\n",
      "\n",
      "100|..........\n",
      "200|..........\n",
      "300|..........\n",
      "400|..........\n",
      "Run time benchmark: 1.1434721946716309\n",
      "\n",
      "\n",
      "Language:  nl\n",
      "\n",
      "100|..........\n",
      "200|..........\n",
      "300|..........\n",
      "400|..........\n",
      "Run time benchmark: 1.1250619888305664\n"
     ]
    }
   ],
   "source": [
    "for language in ['en', 'es', 'it', 'nl']:\n",
    "    print('\\n\\nLanguage: ', language)\n",
    "    dataset = load_disequa(language)\n",
    "    create_feature('tfidf', dataset, dataset, max_features=2000)\n",
    "    \n",
    "    model = {'name': 'svm', 'model': svm_linear}\n",
    "    \n",
    "    tfidf = np.array([list(r) for r in dataset['tfidf'].values])\n",
    "    tfidf = normalize(tfidf, norm='max')\n",
    "    \n",
    "    X = np.array([list(x) for x in dataset['tfidf'].values])\n",
    "    y = dataset['class'].values\n",
    "    \n",
    "    run_benchmark_cv(model, X, y, sizes_train=[100,200,300,400],\n",
    "                     save='results/DISEQuA_svm_tfidf_' + language + '.csv')"
   ]
  },
  {
   "cell_type": "markdown",
   "metadata": {},
   "source": [
    "#### SVM + <font color=#007700>TF-IDF</font> + <font color=#0055CC>WB</font>"
   ]
  },
  {
   "cell_type": "code",
   "execution_count": 163,
   "metadata": {
    "scrolled": false
   },
   "outputs": [
    {
     "name": "stdout",
     "output_type": "stream",
     "text": [
      "\n",
      "\n",
      "Language:  en\n",
      "\n",
      "100|..........\n",
      "200|..........\n",
      "300|..........\n",
      "400|..........\n",
      "Run time benchmark: 6.358882427215576\n",
      "\n",
      "\n",
      "Language:  es\n",
      "\n",
      "100|..........\n",
      "200|..........\n",
      "300|..........\n",
      "400|..........\n",
      "Run time benchmark: 7.197380065917969\n",
      "\n",
      "\n",
      "Language:  it\n",
      "\n",
      "100|..........\n",
      "200|..........\n",
      "300|..........\n",
      "400|..........\n",
      "Run time benchmark: 5.5334153175354\n",
      "\n",
      "\n",
      "Language:  nl\n",
      "\n",
      "100|..........\n",
      "200|..........\n",
      "300|..........\n",
      "400|..........\n",
      "Run time benchmark: 6.624628782272339\n"
     ]
    }
   ],
   "source": [
    "for language in ['en', 'es', 'it', 'nl']:\n",
    "    print('\\n\\nLanguage: ', language)\n",
    "    embedding = load_embedding(path_wordembedding + 'wiki.multi.' + language + '.vec')\n",
    "    dataset = load_disequa(language)\n",
    "    create_feature('tfidf', dataset, dataset, max_features=2000)\n",
    "    create_feature('embedding_sum', None, dataset, embedding)\n",
    "    \n",
    "    model = {'name': 'svm', 'model': svm_linear}\n",
    "    \n",
    "    tfidf = np.array([list(r) for r in dataset['tfidf'].values])\n",
    "    tfidf = normalize(tfidf, norm='max')\n",
    "    \n",
    "    embedding = np.array([list(r) for r in dataset['embedding_sum'].values])\n",
    "    embedding = normalize(embedding, norm='max')\n",
    "    \n",
    "    X = np.array([list(x) + list(xx) for x, xx in zip(tfidf, embedding)])\n",
    "    y = dataset['class'].values\n",
    "    \n",
    "    run_benchmark_cv(model, X, y, sizes_train=[100,200,300,400],\n",
    "                     save='results/DISEQuA_svm_cortes_' + language + '.csv')"
   ]
  },
  {
   "cell_type": "markdown",
   "metadata": {},
   "source": [
    "#### SVM + <font color=#007700>TF-IDF</font> + <font color=#0055CC>WB</font> + <font color=#CC6600>POS</font> + <font color=#CC6600>NER</font>"
   ]
  },
  {
   "cell_type": "code",
   "execution_count": 164,
   "metadata": {
    "scrolled": false
   },
   "outputs": [
    {
     "name": "stdout",
     "output_type": "stream",
     "text": [
      "\n",
      "\n",
      "Language:  en\n",
      "\n",
      "100|..........\n",
      "200|..........\n",
      "300|..........\n",
      "400|..........\n",
      "Run time benchmark: 6.811999559402466\n",
      "\n",
      "\n",
      "Language:  es\n",
      "\n",
      "100|..........\n",
      "200|..........\n",
      "300|..........\n",
      "400|..........\n",
      "Run time benchmark: 8.384974479675293\n",
      "\n",
      "\n",
      "Language:  it\n",
      "\n",
      "100|..........\n",
      "200|..........\n",
      "300|..........\n",
      "400|..........\n",
      "Run time benchmark: 6.426969528198242\n",
      "\n",
      "\n",
      "Language:  nl\n",
      "\n",
      "100|..........\n",
      "200|..........\n",
      "300|..........\n",
      "400|..........\n",
      "Run time benchmark: 6.852076053619385\n"
     ]
    }
   ],
   "source": [
    "\n",
    "\n",
    "for language in ['en', 'es', 'it', 'nl']:\n",
    "    print('\\n\\nLanguage: ', language)\n",
    "    embedding = load_embedding(path_wordembedding + 'wiki.multi.' + language + '.vec')\n",
    "    dataset = load_disequa(language)\n",
    "    create_feature('tfidf', dataset, dataset, max_features=2000)\n",
    "    create_feature('embedding_sum', dataset, dataset, embedding)\n",
    "    create_feature('pos_hotencode', dataset, dataset)\n",
    "    create_feature('ner_hotencode', dataset, dataset)\n",
    "    model = {'name': 'svm', 'model': svm_linear}\n",
    "    \n",
    "    tfidf = np.array([list(r) for r in dataset['tfidf'].values])\n",
    "    tfidf = normalize(tfidf, norm='max')\n",
    "    \n",
    "    embedding = np.array([list(r) for r in dataset['embedding_sum'].values])\n",
    "    embedding = normalize(embedding, norm='max')\n",
    "    \n",
    "    pos = np.array([list(r) for r in dataset['pos_hotencode'].values])\n",
    "    \n",
    "    ner = np.array([list(r) for r in dataset['ner_hotencode'].values])\n",
    "    \n",
    "    X = np.array([list(x) + list(xx) + list(xxx) + list(xxxx) for x, xx, xxx, xxxx in zip(tfidf, embedding, pos, ner)])\n",
    "    \n",
    "    y = dataset['class'].values\n",
    "    \n",
    "    run_benchmark_cv(model, X, y, sizes_train=[100,200,300,400],\n",
    "                     save='results/DISEQuA_svm_high_' + language + '.csv')"
   ]
  },
  {
   "cell_type": "markdown",
   "metadata": {},
   "source": [
    "## Old stuffs bellow"
   ]
  },
  {
   "cell_type": "markdown",
   "metadata": {},
   "source": [
    "#### CNN"
   ]
  },
  {
   "cell_type": "code",
   "execution_count": null,
   "metadata": {
    "scrolled": true
   },
   "outputs": [],
   "source": [
    "# 'en', 'es'\n",
    "for language in ['es']:\n",
    "    print('\\n\\nLanguage: ', language)\n",
    "    #embedding = load_embedding(path_wordembedding + 'wiki.multi.' + language + '.vec')\n",
    "    dataset_train, dataset_test = load_uiuc(language)\n",
    "    text_representation = 'vocab_index'\n",
    "    vocabulary_inv = create_feature(text_representation, dataset_train, dataset_train)\n",
    "    create_feature(text_representation, dataset_train, dataset_test)\n",
    "    model = {'name': 'cnn', 'model': cnn}\n",
    "    X_train = np.array([list(x) for x in dataset_train[text_representation].values])\n",
    "    X_test = np.array([list(x) for x in dataset_test[text_representation].values])\n",
    "    #X_train = pad_sequences(X_train, maxlen=12, dtype='float', padding='post', truncating='post', value=0.0)\n",
    "    #X_test = pad_sequences(X_test, maxlen=12, dtype='float', padding='post', truncating='post', value=0.0)\n",
    "    y_train = dataset_train['class'].values\n",
    "    y_test = dataset_test['class'].values\n",
    "    ohe = OneHotEncoder()\n",
    "    y_train = ohe.fit_transform([[y_] for y_ in y_train]).toarray()\n",
    "    y_test = ohe.transform([[y_] for y_ in y_test]).toarray()\n",
    "    # , \n",
    "    run_benchmark(model, X_train, y_train, X_test, y_test, sizes_train=[1000, 2000, 3000, 4000, 5500],\n",
    "                  runs=30, save='results/UIUC_cnn_' + language + '.csv', epochs=100, onehot=ohe,\n",
    "                  vocabulary_size=len(vocabulary_inv))"
   ]
  },
  {
   "cell_type": "markdown",
   "metadata": {},
   "source": [
    "#### LSTM + WordEmbedding"
   ]
  },
  {
   "cell_type": "code",
   "execution_count": 73,
   "metadata": {
    "scrolled": false
   },
   "outputs": [
    {
     "name": "stdout",
     "output_type": "stream",
     "text": [
      "\n",
      "\n",
      "Language:  es\n",
      "(100,)\n",
      "object\n",
      "(1349,)\n",
      "\n",
      "1000|...\n",
      "2000|...\n",
      "3000|...\n",
      "4000|...\n",
      "5500|...\n",
      "Run time benchmark: 228.79835891723633\n"
     ]
    }
   ],
   "source": [
    "for language in ['es']:\n",
    "    print('\\n\\nLanguage: ', language)\n",
    "    embedding = load_embedding(path_wordembedding + 'wiki.multi.' + language + '.vec')\n",
    "    dataset_train, dataset_test = load_uiuc(language)\n",
    "    dataset_train = dataset_train[:100]\n",
    "    #dataset_test = dataset_test[:10]\n",
    "    create_feature('embedding', dataset_train, dataset_train, embedding)\n",
    "    create_feature('embedding', dataset_train, dataset_test, embedding)\n",
    "    model = {'name': 'lstm', 'model': lstm_default}\n",
    "    #print(dataset_train['embedding'].values.shape)\n",
    "    #print(dataset_train['embedding'].values.dtype)\n",
    "    #print(dataset_test['embedding'].values.shape)\n",
    "    X_train = np.array([list(x) for x in dataset_train['embedding'].values])\n",
    "    X_test = np.array([list(x) for x in dataset_test['embedding'].values])\n",
    "    X_train = pad_sequences(X_train, maxlen=12, dtype='float', padding='post', truncating='post', value=0.0)\n",
    "    X_test = pad_sequences(X_test, maxlen=12, dtype='float', padding='post', truncating='post', value=0.0)\n",
    "    y_train = dataset_train['class'].values\n",
    "    y_test = dataset_test['class'].values\n",
    "#     y_train_sub = dataset_train['sub_class'].values\n",
    "#     sub_classes = set()\n",
    "#     for sc in y_train_sub:\n",
    "#         sub_classes.add(sc)\n",
    "#     y_test_sub = dataset_test['sub_class'].values\n",
    "#     X_test_sub_ = []\n",
    "#     y_test_sub_ = []\n",
    "#     for i in range(len(X_test)):\n",
    "#         if y_train_sub[i] in sub_classes:\n",
    "#             X_test_sub_.append(X_test[i])\n",
    "#             y_test_sub_.append(y_train_sub[i])\n",
    "#     X_test_sub_ = np.array(X_test_sub_)\n",
    "#     y_test_sub_ = np.array(y_test_sub_)\n",
    "    ohe = OneHotEncoder()\n",
    "    y_train = ohe.fit_transform([[y_] for y_ in y_train]).toarray()\n",
    "    y_test = ohe.transform([[y_] for y_ in y_test]).toarray() \n",
    "    run_benchmark(model, X_train, y_train, X_test, y_test, sizes_train=[1000, 2000, 3000, 4000, 5500],\n",
    "                  runs=30, save='results/UIUC_lstm_embedding_' + language + '_2.csv', epochs=100, onehot=ohe)\n",
    "    #run_benchmark(model, X_train, y_train_sub, X_test_sub_, y_test_sub_, sizes_train=[1000, 2000, 3000, 4000, 5500],\n",
    "    #              save='results/UIUCsub_svm_tfidf_' + language + '.csv')"
   ]
  },
  {
   "cell_type": "markdown",
   "metadata": {},
   "source": [
    "#### LSTM + BERT"
   ]
  },
  {
   "cell_type": "code",
   "execution_count": null,
   "metadata": {},
   "outputs": [],
   "source": [
    "for language in ['en']:\n",
    "    print('\\n\\nLanguage: ', language)\n",
    "    #embedding = load_embedding(path_wordembedding + 'wiki.multi.' + language + '.vec')\n",
    "    dataset_train, dataset_test = load_uiuc(language)\n",
    "    # debug\n",
    "    print('WARNING: use subset (first 1000 entries) of training data')\n",
    "    #dataset_train = dataset_train[:5500].copy()\n",
    "    \n",
    "    create_feature('bert', dataset_train, dataset_train)\n",
    "    create_feature('bert', dataset_train, dataset_test)\n",
    "    model = {'name': 'lstm', 'model': lstm_default}\n",
    "    X_train = dataset_train['bert'].values\n",
    "    X_test = dataset_test['bert'].values\n",
    "    \n",
    "    X_train = np.array([x for x in X_train])\n",
    "    X_test = np.array([x for x in X_test])\n",
    "    \n",
    "    #X_train = pad_sequences(X_train, maxlen=12, dtype='float', padding='post', truncating='post', value=0.0)\n",
    "    #X_test = pad_sequences(X_test, maxlen=12, dtype='float', padding='post', truncating='post', value=0.0)\n",
    "    y_train = dataset_train['class'].values\n",
    "    y_test = dataset_test['class'].values\n",
    "    ohe = OneHotEncoder()\n",
    "    y_train = ohe.fit_transform([[y_] for y_ in y_train]).toarray()\n",
    "    y_test = ohe.transform([[y_] for y_ in y_test]).toarray() \n",
    "    run_benchmark(model, X_train, y_train, X_test, y_test, sizes_train=[5500], # 1000, 2000, 3000, 4000, 5500\n",
    "                  runs=1, save='results/UIUC_lstm_bert_' + language + '.csv', \n",
    "                  epochs=100, onehot=ohe, in_dim=768)\n",
    "    #run_benchmark(model, X_train, y_train_sub, X_test_sub_, y_test_sub_, sizes_train=[1000, 2000, 3000, 4000, 5500],\n",
    "    #              save='results/UIUCsub_svm_tfidf_' + language + '.csv')"
   ]
  },
  {
   "cell_type": "markdown",
   "metadata": {},
   "source": [
    "## DISEQuA Benchmark"
   ]
  },
  {
   "cell_type": "markdown",
   "metadata": {},
   "source": [
    "### RUN DISEQuA Benchmark"
   ]
  },
  {
   "cell_type": "markdown",
   "metadata": {},
   "source": [
    "##### SVM + TFIDF"
   ]
  },
  {
   "cell_type": "code",
   "execution_count": null,
   "metadata": {},
   "outputs": [],
   "source": [
    "for language in ['DUT', 'ENG', 'ITA', 'SPA']:\n",
    "    print('\\n\\nLanguage: ', language)\n",
    "    dataset = load_disequa(language)\n",
    "    create_feature('tfidf', dataset, dataset, embedding)\n",
    "    model = {'name': 'svm', 'model': svm_linear}\n",
    "    X = np.array([list(x) for x in dataset['tfidf'].values])\n",
    "    y = dataset['class'].values\n",
    "    run_benchmark(model, X, y, sizes_train=[100,200,300,400,405],\n",
    "                  save='results/DISEQuA_svm_tfidf_' + language + '.csv')"
   ]
  },
  {
   "cell_type": "markdown",
   "metadata": {},
   "source": [
    "##### RFC + TFIDF"
   ]
  },
  {
   "cell_type": "code",
   "execution_count": null,
   "metadata": {},
   "outputs": [],
   "source": [
    "for language in ['DUT', 'ENG', 'ITA', 'SPA']:\n",
    "    print('\\n\\nLanguage: ', language)\n",
    "    dataset = load_disequa(language)\n",
    "    create_feature('tfidf', dataset, dataset, embedding)\n",
    "    model = {'name': 'rfc', 'model': random_forest}\n",
    "    X = np.array([list(x) for x in dataset['tfidf'].values])\n",
    "    y = dataset['class'].values\n",
    "    run_benchmark(model, X, y, sizes_train=[100,200,300,400],\n",
    "                  save='results/DISEQuA_rfc_tfidf_' + language + '.csv')"
   ]
  },
  {
   "cell_type": "markdown",
   "metadata": {},
   "source": [
    "##### SVM + TFIDF_3gram + SKB"
   ]
  },
  {
   "cell_type": "code",
   "execution_count": null,
   "metadata": {},
   "outputs": [],
   "source": [
    "for language in ['DUT', 'ENG', 'ITA', 'SPA']:\n",
    "    print('\\n\\nLanguage: ', language)\n",
    "    dataset = load_disequa(language)\n",
    "    create_feature('tfidf_3gram', dataset, dataset)\n",
    "    model = {'name': 'svm', 'model': svm_linear}\n",
    "    X = np.array([list(x) for x in dataset['tfidf'].values])\n",
    "    y = dataset['class'].values\n",
    "    skb = SelectKBest(chi2, k=2000).fit(X, y)\n",
    "    X = skb.transform(X)\n",
    "    run_benchmark(model, X, y, sizes_train=[100,200,300,400],\n",
    "                  save='results/DISEQuA_svm_tfidf_3gram_' + language + '.csv')"
   ]
  },
  {
   "cell_type": "markdown",
   "metadata": {},
   "source": [
    "##### LSTM + Embedding"
   ]
  },
  {
   "cell_type": "code",
   "execution_count": null,
   "metadata": {},
   "outputs": [],
   "source": [
    "for language, embd_l in zip(['SPA'], ['es']):\n",
    "    print('\\n\\nLanguage: ', language)\n",
    "    embedding = load_embedding(path_wordembedding + 'wiki.multi.' + embd_l + '.vec')\n",
    "    dataset = load_disequa(language)\n",
    "    create_feature('embedding', dataset, dataset, embedding)\n",
    "    model = {'name': 'lstm', 'model': lstm_default}\n",
    "    X = np.array([list(x) for x in dataset['embedding'].values])\n",
    "    y = dataset['class'].values\n",
    "    X = pad_sequences(X, maxlen=12, dtype='float', padding='post', truncating='post', value=0.0)\n",
    "    ohe = OneHotEncoder()\n",
    "    y = ohe.fit_transform([[y_] for y_ in y]).toarray()\n",
    "    run_benchmark(model, X, y, sizes_train=[100,200,300,400,405], onehot=ohe,\n",
    "                  save='results/DISEQuA_lstm_embedding_' + language + '.csv')"
   ]
  },
  {
   "cell_type": "markdown",
   "metadata": {},
   "source": [
    "##### CNN"
   ]
  },
  {
   "cell_type": "code",
   "execution_count": null,
   "metadata": {},
   "outputs": [],
   "source": [
    "for language, embd_l in zip(['DUT', 'ENG', 'ITA', 'SPA'], ['nl', 'eng', 'it', 'es']):\n",
    "    print('\\n\\nLanguage: ', language)\n",
    "    #embedding = load_embedding(path_wordembedding + 'wiki.multi.' + embd_l + '.vec')\n",
    "    dataset = load_disequa(language)\n",
    "    text_representation = 'vocab_index'\n",
    "    vocabulary_inv = create_feature(text_representation, dataset, dataset)\n",
    "    model = {'name': 'cnn', 'model': cnn}\n",
    "    X = np.array([list(x) for x in dataset[text_representation].values])\n",
    "    y = dataset['class'].values\n",
    "    #X = pad_sequences(X, maxlen=12, dtype='float', padding='post', truncating='post', value=0.0)\n",
    "    ohe = OneHotEncoder()\n",
    "    y = ohe.fit_transform([[y_] for y_ in y]).toarray()\n",
    "    run_benchmark(model, X, y, sizes_train=[100,200,300,400], onehot=ohe, vocabulary_size=len(vocabulary_inv),\n",
    "                  save='results/DISEQuA_cnn_' + language + '.csv', epochs=100)"
   ]
  },
  {
   "cell_type": "code",
   "execution_count": null,
   "metadata": {},
   "outputs": [],
   "source": []
  }
 ],
 "metadata": {
  "kernelspec": {
   "display_name": "qa",
   "language": "python",
   "name": "qa"
  },
  "language_info": {
   "codemirror_mode": {
    "name": "ipython",
    "version": 3
   },
   "file_extension": ".py",
   "mimetype": "text/x-python",
   "name": "python",
   "nbconvert_exporter": "python",
   "pygments_lexer": "ipython3",
   "version": "3.6.7"
  }
 },
 "nbformat": 4,
 "nbformat_minor": 2
}
